{
 "cells": [
  {
   "cell_type": "markdown",
   "id": "ef0f4ab4-e18c-4f48-aaf8-44f426d30455",
   "metadata": {},
   "source": [
    "<h1 style=\"background-color: #24043d; color: white; padding: 25px;\">\n",
    "    Tipos de datos\n",
    "</h1>"
   ]
  },
  {
   "cell_type": "markdown",
   "id": "827fd194-461f-4855-914e-4573abc2e4bf",
   "metadata": {},
   "source": [
    "<h2 style=\"background-color: #24043d; color: white; padding: 12px;\">\n",
    "    1. String\n",
    "</h2>"
   ]
  },
  {
   "cell_type": "markdown",
   "id": "5cdd77d9-ce23-433d-99b5-c98a75798854",
   "metadata": {},
   "source": [
    "### 1.1. La string es un tipo de dato secuencial que se utiliza para crear texto en Python."
   ]
  },
  {
   "cell_type": "code",
   "execution_count": null,
   "id": "4b2c4418-1f10-4afe-bee3-c1307ee94c7d",
   "metadata": {},
   "outputs": [],
   "source": [
    "# es secuencial por que está formado por una secuencia de caracteres\n",
    "caracter = \"a\" \"c\" \"1\" \".\" \"@\" "
   ]
  },
  {
   "cell_type": "markdown",
   "id": "d29ff56b-1f5b-42e2-afdb-e49f87736970",
   "metadata": {},
   "source": [
    "### 1.2. Creación y visualización de strings"
   ]
  },
  {
   "cell_type": "code",
   "execution_count": null,
   "id": "85b57277-84e8-4a0b-8a4f-aa36ffcb0d5d",
   "metadata": {},
   "outputs": [],
   "source": [
    "simples = 'Una string con comillas simples'\n",
    "print(simples)"
   ]
  },
  {
   "cell_type": "markdown",
   "id": "63a370d9-50fb-44bf-a1f4-af5491adb03b",
   "metadata": {},
   "source": [
    "##### cuándo conviene usar comillas simples"
   ]
  },
  {
   "cell_type": "code",
   "execution_count": 49,
   "id": "245eea54-25e5-4892-8d56-996cf907a626",
   "metadata": {},
   "outputs": [
    {
     "name": "stdout",
     "output_type": "stream",
     "text": [
      "Una string con comillas dobles\n"
     ]
    }
   ],
   "source": [
    "dobles = \"Una string con comillas dobles\"\n",
    "print(dobles)"
   ]
  },
  {
   "cell_type": "code",
   "execution_count": null,
   "id": "ff45e13e-76af-4e87-8683-b3739fededca",
   "metadata": {},
   "outputs": [],
   "source": [
    "# cuándo conviene usar comillas dobles"
   ]
  },
  {
   "cell_type": "markdown",
   "id": "c656a6e6-93bf-45d1-b9a0-1b1cbacce27f",
   "metadata": {},
   "source": [
    "### 1.3. Errores al utilizar las comillas"
   ]
  },
  {
   "cell_type": "code",
   "execution_count": 60,
   "id": "86d4777e-b7f7-469d-9613-0bf7f50fd5a8",
   "metadata": {},
   "outputs": [
    {
     "ename": "SyntaxError",
     "evalue": "invalid syntax (424514733.py, line 1)",
     "output_type": "error",
     "traceback": [
      "\u001b[1;36m  Cell \u001b[1;32mIn[60], line 1\u001b[1;36m\u001b[0m\n\u001b[1;33m    sin_comillas = Una string tiene que llevar comillas\u001b[0m\n\u001b[1;37m                       ^\u001b[0m\n\u001b[1;31mSyntaxError\u001b[0m\u001b[1;31m:\u001b[0m invalid syntax\n"
     ]
    }
   ],
   "source": [
    "sin_comillas = Una string tiene que llevar comillas\n",
    "print(sin_comillas)"
   ]
  },
  {
   "cell_type": "code",
   "execution_count": 61,
   "id": "030614ce-7a90-4fe2-87db-e28b9cfadf8a",
   "metadata": {},
   "outputs": [
    {
     "ename": "SyntaxError",
     "evalue": "unterminated string literal (detected at line 1) (1387312763.py, line 1)",
     "output_type": "error",
     "traceback": [
      "\u001b[1;36m  Cell \u001b[1;32mIn[61], line 1\u001b[1;36m\u001b[0m\n\u001b[1;33m    una_comilla = Una string con comillas de cierre\"\u001b[0m\n\u001b[1;37m                                                   ^\u001b[0m\n\u001b[1;31mSyntaxError\u001b[0m\u001b[1;31m:\u001b[0m unterminated string literal (detected at line 1)\n"
     ]
    }
   ],
   "source": [
    "una_comilla = Una string con comillas de cierre\""
   ]
  },
  {
   "cell_type": "markdown",
   "id": "fd994533-4f05-49a7-b62b-367aca3f686d",
   "metadata": {},
   "source": [
    "### 1.4. Strings de más de una línea"
   ]
  },
  {
   "cell_type": "markdown",
   "id": "fa89c036-5b19-4120-9ab8-922ecc8519cf",
   "metadata": {},
   "source": [
    "##### comillas triples"
   ]
  },
  {
   "cell_type": "code",
   "execution_count": 71,
   "id": "16e228b7-9b2a-4356-a907-fffbccbd965b",
   "metadata": {},
   "outputs": [],
   "source": [
    "triples = \"\"\"Una string tan larga que no entra en una sola línea: Lorem ipsum dolor sit amet, consectetur adipiscing elit.\n",
    "Sed do eiusmod tempor incididunt ut labore et dolore magna aliqua. Ut enim ad minim veniam, quis nostrud exercitation ullamco\n",
    "laboris nisi ut aliquip ex ea commodo consequat. Duis aute irure dolor in reprehenderit in voluptate velit esse cillum dolore\n",
    "eu fugiat nulla pariatur. Excepteur sint occaecat cupidatat non proident, sunt in culpa qui officia deserunt mollit anim id est laborum.\"\"\""
   ]
  },
  {
   "cell_type": "code",
   "execution_count": 72,
   "id": "33b6bc60-01e5-480a-981c-b79af7e2fa77",
   "metadata": {},
   "outputs": [
    {
     "name": "stdout",
     "output_type": "stream",
     "text": [
      "Una string tan larga que no entra en una sola línea: Lorem ipsum dolor sit amet, consectetur adipiscing elit.\n",
      "Sed do eiusmod tempor incididunt ut labore et dolore magna aliqua. Ut enim ad minim veniam, quis nostrud exercitation ullamco\n",
      "laboris nisi ut aliquip ex ea commodo consequat. Duis aute irure dolor in reprehenderit in voluptate velit esse cillum dolore\n",
      "eu fugiat nulla pariatur. Excepteur sint occaecat cupidatat non proident, sunt in culpa qui officia deserunt mollit anim id est laborum.\n"
     ]
    }
   ],
   "source": [
    "print(triples)"
   ]
  },
  {
   "cell_type": "markdown",
   "id": "8924da9b-ea6b-4def-b8cc-ee6aeb78291f",
   "metadata": {},
   "source": [
    "##### con salto de línea `(\\n)`"
   ]
  },
  {
   "cell_type": "code",
   "execution_count": 41,
   "id": "69f97b6b-6821-45b7-b0a6-8fcfd0cadbb6",
   "metadata": {},
   "outputs": [
    {
     "name": "stdout",
     "output_type": "stream",
     "text": [
      "Esta\n",
      "string\n",
      "ocupa\n",
      "varias\n",
      "líneas.\n"
     ]
    }
   ],
   "source": [
    "salto_de_linea = \"Esta\\nstring\\nocupa\\nvarias\\nlíneas.\"\n",
    "print(salto_de_linea)"
   ]
  },
  {
   "cell_type": "markdown",
   "id": "94758ea4-cee9-42ce-be24-aafcc61312dd",
   "metadata": {},
   "source": [
    "##### con barra invertida `\\`"
   ]
  },
  {
   "cell_type": "code",
   "execution_count": 7,
   "id": "461b3523-6450-4d26-9e88-4883bd2b6c52",
   "metadata": {},
   "outputs": [
    {
     "name": "stdout",
     "output_type": "stream",
     "text": [
      "Lorem ipsum dolor sit amet, consectetur adipiscing elit. Sed do eiusmod tempor incididunt ut labore et doloremagna aliqua. Ut enim ad minim veniam, quis nostrud exercitation ullamco laboris nisi ut aliquip ex ea commodo consequat. Duisaute irure dolor in reprehenderit in voluptate velit esse cillum dolore eu fugiat nulla pariatur. Excepteur sint occaecat cupidatatnon proident, sunt in culpa qui officia deserunt mollit anim id est laborum.\n"
     ]
    }
   ],
   "source": [
    "# Podemos usar una barra invertida al final de cada línea.\n",
    "con_barra_inv = \"Lorem ipsum dolor sit amet, consectetur adipiscing elit. Sed do eiusmod tempor incididunt ut labore et dolore\\\n",
    "magna aliqua. Ut enim ad minim veniam, quis nostrud exercitation ullamco laboris nisi ut aliquip ex ea commodo consequat. Duis\\\n",
    "aute irure dolor in reprehenderit in voluptate velit esse cillum dolore eu fugiat nulla pariatur. Excepteur sint occaecat cupidatat\\\n",
    "non proident, sunt in culpa qui officia deserunt mollit anim id est laborum.\"\n",
    "print(con_barra_inv)"
   ]
  },
  {
   "cell_type": "markdown",
   "id": "1ef0c50a-1052-4db5-a2cc-c6079ba4c3ca",
   "metadata": {},
   "source": [
    "<h2 style=\"background-color: #24043d; color: white; padding: 12px;\">\n",
    "   2. Características del tipo string\n",
    "</h2>"
   ]
  },
  {
   "cell_type": "markdown",
   "id": "a4d1d2be-5423-43f5-ae25-7f14afb84788",
   "metadata": {},
   "source": [
    "### 2.1. Las strings son inmutables. "
   ]
  },
  {
   "attachments": {},
   "cell_type": "markdown",
   "id": "b33e3eaf-288e-468a-84b6-dfd338d47fc0",
   "metadata": {},
   "source": [
    "Esto quiere decir que: una vez creada, la string no pude modificarse. La única manera de arreglar una string que no queremos es creando una nueva.\n",
    "Quizás le demos el mismo nombre a la variable; es decir, se mantiene el nombre de la variable pero la nueva string ocupa otro espacio\n",
    "en la memoria."
   ]
  },
  {
   "cell_type": "code",
   "execution_count": 110,
   "id": "e349f6fd-7add-4cce-b3fc-0d7dc289a2d2",
   "metadata": {},
   "outputs": [],
   "source": [
    "s = \"Holla\""
   ]
  },
  {
   "cell_type": "code",
   "execution_count": 111,
   "id": "abfe8359-2dd5-4565-b4c6-bf33094bef9b",
   "metadata": {},
   "outputs": [
    {
     "name": "stdout",
     "output_type": "stream",
     "text": [
      "2200502256048\n"
     ]
    }
   ],
   "source": [
    "print(id(s))  # pido ver la dirección de memoria donde se aloja s"
   ]
  },
  {
   "cell_type": "code",
   "execution_count": 39,
   "id": "f668be79-07ce-41dc-8a46-741d4d834261",
   "metadata": {},
   "outputs": [],
   "source": [
    "s = \"Hola\""
   ]
  },
  {
   "cell_type": "code",
   "execution_count": 40,
   "id": "e0bed086-c04e-4012-b472-e295baae4985",
   "metadata": {},
   "outputs": [
    {
     "name": "stdout",
     "output_type": "stream",
     "text": [
      "2200484830832\n"
     ]
    }
   ],
   "source": [
    "print(id(s)) # pido ver la dirección de memoria donde se aloja s"
   ]
  },
  {
   "cell_type": "code",
   "execution_count": 41,
   "id": "e326c197-b366-4e73-9b83-8f37f666243c",
   "metadata": {},
   "outputs": [],
   "source": [
    "s = s + \" a todos.\""
   ]
  },
  {
   "cell_type": "code",
   "execution_count": 42,
   "id": "eaa427b1-62b8-4262-9712-d8200b1affe9",
   "metadata": {},
   "outputs": [
    {
     "name": "stdout",
     "output_type": "stream",
     "text": [
      "2200484697712\n"
     ]
    }
   ],
   "source": [
    "print(id(s)) # # pido ver la dirección de memoria donde se aloja s"
   ]
  },
  {
   "cell_type": "code",
   "execution_count": 45,
   "id": "6c3785bb-46dc-4d27-a350-d069c92eaf79",
   "metadata": {},
   "outputs": [],
   "source": [
    "s = s.upper()"
   ]
  },
  {
   "cell_type": "code",
   "execution_count": 47,
   "id": "3bc9e8b9-ae57-45ef-a723-34a13a2f44e0",
   "metadata": {},
   "outputs": [
    {
     "name": "stdout",
     "output_type": "stream",
     "text": [
      "HOLA A TODOS.\n"
     ]
    }
   ],
   "source": [
    "print(s)"
   ]
  },
  {
   "cell_type": "code",
   "execution_count": 46,
   "id": "01b3935b-6a79-4b95-b2fb-fc7ce63a07b7",
   "metadata": {},
   "outputs": [
    {
     "name": "stdout",
     "output_type": "stream",
     "text": [
      "2200494062448\n"
     ]
    }
   ],
   "source": [
    "print(id(s))"
   ]
  },
  {
   "cell_type": "code",
   "execution_count": null,
   "id": "dc7cd431-6535-4d9e-820c-a686c66575ad",
   "metadata": {},
   "outputs": [],
   "source": []
  },
  {
   "cell_type": "markdown",
   "id": "d693e378-4ebd-4be0-ba2c-a8a6c6f99d45",
   "metadata": {},
   "source": [
    "### 2.2. Las strings son case sensitive\n",
    "\"Case sensitive\" sinifica que se diferencia entre mayúsculas y minúsculas."
   ]
  },
  {
   "cell_type": "code",
   "execution_count": 6,
   "id": "1c35cbab-4e52-43fb-90ae-051a7c5b135d",
   "metadata": {},
   "outputs": [
    {
     "name": "stdout",
     "output_type": "stream",
     "text": [
      "False\n",
      "False\n"
     ]
    }
   ],
   "source": [
    "abecedarias1 = \"abc\" == \"ABC\"\n",
    "abecedarias2 = \"abc\" == \"Abc\"\n",
    "print(abecedarias1)\n",
    "print(abecedarias2)"
   ]
  },
  {
   "cell_type": "code",
   "execution_count": 85,
   "id": "7e7884e5-89ba-4e7d-bb0e-2dcd34c989a9",
   "metadata": {},
   "outputs": [
    {
     "data": {
      "text/plain": [
       "False"
      ]
     },
     "execution_count": 85,
     "metadata": {},
     "output_type": "execute_result"
    }
   ],
   "source": [
    "saludo_uno = \"Hola a todos\"\n",
    "saludo_dos = \"hola a todos\"\n",
    "saludo_uno == saludo_dos"
   ]
  },
  {
   "cell_type": "markdown",
   "id": "ca3e8374-c76c-4728-834f-798599ba43a5",
   "metadata": {},
   "source": [
    "### 2.3. Las strings se distinguen según los espacios en blanco"
   ]
  },
  {
   "cell_type": "code",
   "execution_count": 4,
   "id": "edd121c3-933a-466a-8879-99cb1f4ed645",
   "metadata": {},
   "outputs": [
    {
     "name": "stdout",
     "output_type": "stream",
     "text": [
      "False\n"
     ]
    }
   ],
   "source": [
    "hoy1 = \"Hoy es un día de sol\"\n",
    "hoy2 = \"Hoy es un día de sol\"\n",
    "print(hoy1 == hoy2)"
   ]
  },
  {
   "cell_type": "markdown",
   "id": "545f6cfa-dd29-45c9-bba7-eb805355456e",
   "metadata": {},
   "source": []
  },
  {
   "cell_type": "markdown",
   "id": "b5d3359f-929a-41ae-a8c1-c5d650a9671b",
   "metadata": {},
   "source": [
    "<h2 style=\"background-color: #24043d; color: white; padding: 12px;\">\n",
    "   3. Strings y operadores aritméticos\n",
    "</h2>"
   ]
  },
  {
   "cell_type": "markdown",
   "id": "e5b0bcbb-9f0f-477f-8d98-0a09cdfeb690",
   "metadata": {},
   "source": [
    "### 3.1. En Python podemos usar operadores aritméticos para operar sobre las cadenas de texto."
   ]
  },
  {
   "cell_type": "markdown",
   "id": "f35caf84-305f-4209-b8a0-7debe2fb752c",
   "metadata": {},
   "source": [
    "##### Podemos utilizar el operador \"+\" para concatenar "
   ]
  },
  {
   "cell_type": "code",
   "execution_count": 77,
   "id": "b8462153-bebc-4efd-8d50-c6c0efb0a6f3",
   "metadata": {},
   "outputs": [],
   "source": [
    "sujeto = \"El gato \"\n",
    "predicado = \"juega con la cuerda.\""
   ]
  },
  {
   "cell_type": "code",
   "execution_count": 78,
   "id": "7fa5d215-92eb-4fb9-8c75-a6c4a16219e8",
   "metadata": {},
   "outputs": [
    {
     "name": "stdout",
     "output_type": "stream",
     "text": [
      "El gato juega con la cuerda.\n"
     ]
    }
   ],
   "source": [
    "oracion = sujeto + predicado\n",
    "print(oracion)"
   ]
  },
  {
   "cell_type": "markdown",
   "id": "7464dbc0-9cda-400c-8fa1-504c0c9d6f6b",
   "metadata": {},
   "source": [
    "##### También, podemos utilizar el operador de multiplicación \"*\" para repetir una cadena"
   ]
  },
  {
   "cell_type": "code",
   "execution_count": 80,
   "id": "03244ab3-d9bd-43c4-aca4-d13ec9a48855",
   "metadata": {},
   "outputs": [
    {
     "name": "stdout",
     "output_type": "stream",
     "text": [
      "hola! hola! hola! hola! hola! hola! hola! hola! hola! hola! \n"
     ]
    }
   ],
   "source": [
    "saludo_repetido = \"hola! \" * 10\n",
    "print(saludo_repetido)"
   ]
  },
  {
   "cell_type": "markdown",
   "id": "09ee84f9-374a-42e0-8e5d-6611c9e7e395",
   "metadata": {},
   "source": [
    "##### Además, podemos utilizar operadores de comparación"
   ]
  },
  {
   "cell_type": "code",
   "execution_count": 81,
   "id": "c4a02550-5a61-49f2-8a14-488f7a7730e9",
   "metadata": {},
   "outputs": [
    {
     "name": "stdout",
     "output_type": "stream",
     "text": [
      "True\n"
     ]
    }
   ],
   "source": [
    "abc = \"abc\"\n",
    "xyz = \"xyz\"\n",
    "print(abc < xyz)"
   ]
  },
  {
   "cell_type": "code",
   "execution_count": 82,
   "id": "57cf7521-9acf-404b-8fd5-81bc6b764596",
   "metadata": {},
   "outputs": [
    {
     "name": "stdout",
     "output_type": "stream",
     "text": [
      "False\n"
     ]
    }
   ],
   "source": [
    "ABC = \"ABC\"\n",
    "print(abc < ABC)"
   ]
  },
  {
   "cell_type": "code",
   "execution_count": 83,
   "id": "f7f48e9b-13ae-470f-ae65-d04d121953ac",
   "metadata": {},
   "outputs": [
    {
     "data": {
      "text/plain": [
       "False"
      ]
     },
     "execution_count": 83,
     "metadata": {},
     "output_type": "execute_result"
    }
   ],
   "source": [
    "# Comparar si dos strings son iguales con el operador \"==\"\n",
    "abc == xyz"
   ]
  },
  {
   "cell_type": "markdown",
   "id": "3cdf770f-acd9-4cfa-ac40-de98f544c4c2",
   "metadata": {},
   "source": []
  },
  {
   "cell_type": "markdown",
   "id": "227fe9ca-73ba-442b-941b-d737bc51d35d",
   "metadata": {},
   "source": [
    "<h2 style=\"background-color: #24043d; color: white; padding: 12px;\">\n",
    "    4. Tipo de dato int (numeros enteros)\n",
    "</h2>"
   ]
  },
  {
   "cell_type": "markdown",
   "id": "b8912e34-0a00-4772-836c-162d784e3f22",
   "metadata": {},
   "source": [
    "En este curso vamos a utilizar dos tipos de datos numéricos de Python. El primero, el tipo de dato int, se usa en Python para describir a los números enteros. Los enteros son los números que utilizamos cotidianamente para contar cosas completas, es decir cosas enteras, que no sean una fración de algo. Ejemplo: 1 gato, 2 zapatos, 4 ruedas, etc."
   ]
  },
  {
   "cell_type": "markdown",
   "id": "ed3dbf9a-70be-48a2-a4f9-2e69dec8b786",
   "metadata": {},
   "source": [
    "### 4.1. Operaciones básicas que podemos realizar"
   ]
  },
  {
   "cell_type": "code",
   "execution_count": 95,
   "id": "6059ec94-5faa-465e-80f1-5ff4338baf15",
   "metadata": {},
   "outputs": [
    {
     "name": "stdout",
     "output_type": "stream",
     "text": [
      "7\n"
     ]
    }
   ],
   "source": [
    "# suma\n",
    "x = 5\n",
    "y = 2\n",
    "res = x + y\n",
    "print(res)"
   ]
  },
  {
   "cell_type": "code",
   "execution_count": 96,
   "id": "2b9ab68d-46e1-4e13-8125-4b335b6f782f",
   "metadata": {},
   "outputs": [
    {
     "name": "stdout",
     "output_type": "stream",
     "text": [
      "4\n"
     ]
    }
   ],
   "source": [
    "# resta\n",
    "a = res-3\n",
    "print(a)"
   ]
  },
  {
   "cell_type": "code",
   "execution_count": 100,
   "id": "57146061-3a4e-4dc5-9d4d-fa7589913d44",
   "metadata": {},
   "outputs": [
    {
     "name": "stdout",
     "output_type": "stream",
     "text": [
      "40\n"
     ]
    }
   ],
   "source": [
    "# multiplicación\n",
    "b = a * 10\n",
    "print(b)"
   ]
  },
  {
   "cell_type": "markdown",
   "id": "6e96bfd6-9266-45e6-930d-4911a2be33df",
   "metadata": {},
   "source": [
    "##### dos tipos de división"
   ]
  },
  {
   "cell_type": "code",
   "execution_count": 101,
   "id": "d8c46b2a-12be-4d13-a583-9e44998415ba",
   "metadata": {},
   "outputs": [
    {
     "name": "stdout",
     "output_type": "stream",
     "text": [
      "10.0\n"
     ]
    }
   ],
   "source": [
    "# división\n",
    "c = b/4\n",
    "print(c)"
   ]
  },
  {
   "cell_type": "code",
   "execution_count": 102,
   "id": "f81dbf9f-56c6-4f99-8e07-cc5eb3e5d21e",
   "metadata": {},
   "outputs": [
    {
     "name": "stdout",
     "output_type": "stream",
     "text": [
      "10\n"
     ]
    }
   ],
   "source": [
    "# division entera\n",
    "d = b//4\n",
    "print(d)"
   ]
  },
  {
   "cell_type": "markdown",
   "id": "2e5f23ce-5244-498c-9ba2-7e05a9124740",
   "metadata": {},
   "source": [
    "### 4.2 Operaciones de comparación"
   ]
  },
  {
   "cell_type": "markdown",
   "id": "6a9a000d-5732-4a5c-8dc9-03f9b2b7a211",
   "metadata": {},
   "source": [
    "##### comparación de igualdad."
   ]
  },
  {
   "cell_type": "code",
   "execution_count": 103,
   "id": "24001796-75d6-44f1-880a-de7b16c13621",
   "metadata": {},
   "outputs": [
    {
     "data": {
      "text/plain": [
       "True"
      ]
     },
     "execution_count": 103,
     "metadata": {},
     "output_type": "execute_result"
    }
   ],
   "source": [
    "# Si dice True la comparación es verdadera; si dice \"False\", es falsa.\n",
    "c == d "
   ]
  },
  {
   "cell_type": "markdown",
   "id": "cb41163c-3aaf-4152-9aad-c54c81def4d4",
   "metadata": {},
   "source": [
    "##### comparación en magnitud."
   ]
  },
  {
   "cell_type": "code",
   "execution_count": 114,
   "id": "867678bf-61b8-4584-908e-3ba8c8b7bbf3",
   "metadata": {},
   "outputs": [
    {
     "name": "stdout",
     "output_type": "stream",
     "text": [
      "True\n",
      "False\n"
     ]
    }
   ],
   "source": [
    "# Si dice True la comparación es verdadera; si dice \"False\", es falsa.\n",
    "print(8 > 5)\n",
    "print(8 < 5)"
   ]
  },
  {
   "cell_type": "code",
   "execution_count": null,
   "id": "e5411fad-5ac9-4111-a695-e896c64e29cd",
   "metadata": {},
   "outputs": [],
   "source": []
  },
  {
   "cell_type": "markdown",
   "id": "d010bf80-6697-41d7-98a0-f8c4a68e8727",
   "metadata": {},
   "source": [
    "<h2 style=\"background-color: #24043d; color: white; padding: 12px;\">\n",
    "    5. Tipo de dato float (números reales)\n",
    "</h2>"
   ]
  },
  {
   "cell_type": "markdown",
   "id": "abb290d7-74a7-4611-bde8-06d8db54666e",
   "metadata": {},
   "source": [
    "El segundo tipo de dato que vamos a utilizar es el float. Este tipo sirve para representar a los números reales. Son números con parte decimal que sirven para contar cosas de una manera continua.  \n",
    "Ejemplo: Altura, Temperatura, Tiempo. Si bien podemos decir que alguien mide 170 centímetros, si miramos con una lupa vamos a ver que podemos medir   fracciones de centímetros, y cuanto mayor el aumento de nuestra lupa, más chica será la fracción que mediremos. En consecuencia, más exacta será   nuestra medición. La necesidad de mediciones exactas en la vida real es lo que hace tan útil a los números reales. Como dijimos, vamos a usar el tipo  float para representarlos en Python."
   ]
  },
  {
   "cell_type": "markdown",
   "id": "1b581888-fdc0-4989-a9d4-d6fc119939da",
   "metadata": {},
   "source": [
    "##### Operaciones básicas"
   ]
  },
  {
   "cell_type": "code",
   "execution_count": 9,
   "id": "3a501029-c790-4050-984e-4bc4ef929b61",
   "metadata": {},
   "outputs": [],
   "source": [
    "e = 5.3 \n",
    "f = 3.2"
   ]
  },
  {
   "cell_type": "code",
   "execution_count": 62,
   "id": "15d6667c-78ec-4812-a2cb-38b83fedf699",
   "metadata": {},
   "outputs": [
    {
     "name": "stdout",
     "output_type": "stream",
     "text": [
      "8.5\n"
     ]
    }
   ],
   "source": [
    "# suma \n",
    "print(e + f)"
   ]
  },
  {
   "cell_type": "code",
   "execution_count": 11,
   "id": "bf1d6a05-b255-4e85-981a-8da14de135e1",
   "metadata": {},
   "outputs": [
    {
     "name": "stdout",
     "output_type": "stream",
     "text": [
      "2.0999999999999996\n"
     ]
    }
   ],
   "source": [
    "# resta\n",
    "print(e-f)"
   ]
  },
  {
   "cell_type": "code",
   "execution_count": 12,
   "id": "330e565c-8f01-4909-8573-03ccaf17bce0",
   "metadata": {},
   "outputs": [
    {
     "name": "stdout",
     "output_type": "stream",
     "text": [
      "16.96\n"
     ]
    }
   ],
   "source": [
    "# multiplicación\n",
    "print(e*f)"
   ]
  },
  {
   "cell_type": "markdown",
   "id": "2ea8f5bb-737b-489a-b881-3db2efd33c86",
   "metadata": {},
   "source": [
    "##### guiones bajos en números grandes"
   ]
  },
  {
   "cell_type": "code",
   "execution_count": 15,
   "id": "4421b3c3-db19-43db-b6dd-11b986fc741c",
   "metadata": {},
   "outputs": [],
   "source": [
    "int_grande = 123456789987654321"
   ]
  },
  {
   "cell_type": "code",
   "execution_count": 16,
   "id": "c3851819-c4bd-44da-b2f6-2449a012f47d",
   "metadata": {},
   "outputs": [],
   "source": [
    "int_grande_guionado = 123_456_789_987_654_321"
   ]
  },
  {
   "cell_type": "code",
   "execution_count": 17,
   "id": "61a72159-f096-453d-a8bf-66ad794c3584",
   "metadata": {},
   "outputs": [
    {
     "data": {
      "text/plain": [
       "True"
      ]
     },
     "execution_count": 17,
     "metadata": {},
     "output_type": "execute_result"
    }
   ],
   "source": [
    "int_grande == int_grande_guionado"
   ]
  },
  {
   "cell_type": "code",
   "execution_count": 20,
   "id": "fe780c03-a8a5-4495-895d-4baea68f8f17",
   "metadata": {},
   "outputs": [],
   "source": [
    "float_grande = 123456789987654321.255"
   ]
  },
  {
   "cell_type": "code",
   "execution_count": 21,
   "id": "798dd7e5-ffd4-44fe-b02c-d02d37097aa9",
   "metadata": {},
   "outputs": [],
   "source": [
    "float_guionado = 123_456_789_987_654_321.255"
   ]
  },
  {
   "cell_type": "code",
   "execution_count": 22,
   "id": "f545134c-2547-4aa9-ba1f-3f1b5b0ff532",
   "metadata": {},
   "outputs": [
    {
     "data": {
      "text/plain": [
       "True"
      ]
     },
     "execution_count": 22,
     "metadata": {},
     "output_type": "execute_result"
    }
   ],
   "source": [
    "float_grande == float_guionado"
   ]
  },
  {
   "cell_type": "markdown",
   "id": "54fabb70-7aac-47b5-9bb6-1862e11fee00",
   "metadata": {},
   "source": [
    "<h4 style=\"background-color: #E7E118; color: black; padding: 12px;\">\n",
    "    Importante:\n",
    "</h4>"
   ]
  },
  {
   "cell_type": "markdown",
   "id": "ea56a12f-f6fc-4235-ba48-77dcd914d987",
   "metadata": {},
   "source": [
    "##### Los números flotantes suelen perder precisión debido a la manera en la que Python los almacena internamente. Esta pérdida de precisión puede llevar a errores de redondeo y comparaciones inexactas. Python ofrece una librería llamada `decimal` que ofrece mayor precisión en caso de necesitarla. "
   ]
  },
  {
   "cell_type": "markdown",
   "id": "79bfc61d-e427-4fc0-9120-fd08dc9df951",
   "metadata": {},
   "source": [
    "<h4 style=\"background-color: green; color: white; padding: 12px;\">\n",
    "    Buenas Prácticas:\n",
    "</h4>"
   ]
  },
  {
   "cell_type": "markdown",
   "id": "fceea5c5-d212-457c-b705-a1b907ac4fd9",
   "metadata": {},
   "source": [
    "##### Utilizar siempre el tipo de dato adecuado para eficientizar recursos y mantener un código limpio. Si no necesitas un número decimal, usa un entero."
   ]
  },
  {
   "cell_type": "code",
   "execution_count": null,
   "id": "d2ef015c-2925-4a1f-8aaa-cc5b8f8c5f80",
   "metadata": {},
   "outputs": [],
   "source": []
  },
  {
   "cell_type": "markdown",
   "id": "d1ad9af0-6f1f-425c-93e2-d2d9d757b19a",
   "metadata": {},
   "source": [
    "<h2 style=\"background-color: #24043d; color: white; padding: 12px;\">\n",
    "    6. Todo junto\n",
    "</h2>"
   ]
  },
  {
   "cell_type": "code",
   "execution_count": 65,
   "id": "ff0d2ca4-e545-410d-8a44-593da864bd9a",
   "metadata": {},
   "outputs": [],
   "source": [
    "# María vive en Caracas, tiene 25 años, mide un metro sesenta; tiene 1 hijo\n",
    "# Carlos vive en Barranquilla, tiene 30 años, mide un metro ochenta y siete;  no tiene hijos\n",
    "# Julian vive en Murcia, tiene 53 años y tiene 4 hijos; mide un metro setenta y cinco."
   ]
  },
  {
   "cell_type": "code",
   "execution_count": 25,
   "id": "86c244bf-34c6-445a-945c-c97d10afd2a4",
   "metadata": {},
   "outputs": [],
   "source": [
    "nombre = \"María\"\n",
    "edad = 25\n",
    "altura = 1.60\n",
    "hijos = 1"
   ]
  },
  {
   "cell_type": "code",
   "execution_count": 26,
   "id": "4d1f4e45-6d44-403d-89fb-242f6ae657ab",
   "metadata": {},
   "outputs": [
    {
     "ename": "TypeError",
     "evalue": "can only concatenate str (not \"int\") to str",
     "output_type": "error",
     "traceback": [
      "\u001b[1;31m---------------------------------------------------------------------------\u001b[0m",
      "\u001b[1;31mTypeError\u001b[0m                                 Traceback (most recent call last)",
      "Cell \u001b[1;32mIn[26], line 1\u001b[0m\n\u001b[1;32m----> 1\u001b[0m datos_maria \u001b[38;5;241m=\u001b[39m \u001b[38;5;124m\"\u001b[39m\u001b[38;5;124mMaría tiene\u001b[39m\u001b[38;5;124m\"\u001b[39m \u001b[38;5;241m+\u001b[39m \u001b[38;5;241m25\u001b[39m \u001b[38;5;241m+\u001b[39m \u001b[38;5;124m\"\u001b[39m\u001b[38;5;124maños, mide \u001b[39m\u001b[38;5;124m\"\u001b[39m \u001b[38;5;241m+\u001b[39m \u001b[38;5;241m1.60\u001b[39m \u001b[38;5;241m+\u001b[39m \u001b[38;5;124m\"\u001b[39m\u001b[38;5;124my tiene \u001b[39m\u001b[38;5;124m\"\u001b[39m \u001b[38;5;241m+\u001b[39m \u001b[38;5;241m1\u001b[39m  \u001b[38;5;241m+\u001b[39m\u001b[38;5;124m\"\u001b[39m\u001b[38;5;124mhijo\u001b[39m\u001b[38;5;124m\"\u001b[39m\n",
      "\u001b[1;31mTypeError\u001b[0m: can only concatenate str (not \"int\") to str"
     ]
    }
   ],
   "source": [
    "datos_maria = \"María tiene\" + 25 + \"años, mide \" + 1.60 + \"y tiene \" + 1  +\"hijo\""
   ]
  },
  {
   "cell_type": "markdown",
   "id": "70cf4e57-417b-410c-8411-a1ed13607c06",
   "metadata": {},
   "source": [
    "### 6.1 Formatear cadenas"
   ]
  },
  {
   "cell_type": "markdown",
   "id": "99acaab9-3913-4483-bacb-ac69c282c95d",
   "metadata": {},
   "source": [
    "#### string.format()"
   ]
  },
  {
   "cell_type": "code",
   "execution_count": 27,
   "id": "30449709-1158-4e1d-8e80-2919e31035b7",
   "metadata": {},
   "outputs": [
    {
     "name": "stdout",
     "output_type": "stream",
     "text": [
      "Nombre: María, Edad: 25, Altura: 1.60m, Número de hijos: 1\n"
     ]
    }
   ],
   "source": [
    "datos_maria =  \"Nombre: {}, Edad: {}, Altura: {:.2f}m, Número de hijos: {}\".format(nombre, edad, altura, hijos)\n",
    "print(datos_maria)"
   ]
  },
  {
   "cell_type": "markdown",
   "id": "aa6e48f8-ca0d-4377-872d-d1f327b94bf6",
   "metadata": {},
   "source": [
    "#### printf-style formatting"
   ]
  },
  {
   "cell_type": "code",
   "execution_count": 28,
   "id": "f7be7f76-62f0-49fa-a8e3-707dffa9aab0",
   "metadata": {},
   "outputs": [
    {
     "name": "stdout",
     "output_type": "stream",
     "text": [
      "Nombre: María, Edad: 25, Altura: 1.60m, Número de hijos: 1\n"
     ]
    }
   ],
   "source": [
    "datos2_maria = \"Nombre: %s, Edad: %d, Altura: %.2fm, Número de hijos: %d\" % (nombre, edad, altura, hijos)\n",
    "print(datos2_maria)"
   ]
  },
  {
   "cell_type": "markdown",
   "id": "c2114853-7763-4509-9fe9-14272481c879",
   "metadata": {},
   "source": [
    "#### f-string"
   ]
  },
  {
   "cell_type": "code",
   "execution_count": 29,
   "id": "8b9e4051-f102-40aa-8131-144e7dd759df",
   "metadata": {},
   "outputs": [
    {
     "name": "stdout",
     "output_type": "stream",
     "text": [
      "Nombre: María, Edad: 25, Altura: 1.6, Número de hijos: 1\n"
     ]
    }
   ],
   "source": [
    "datos3_maria = f\"Nombre: {nombre}, Edad: {edad}, Altura: {altura}, Número de hijos: {hijos}\"\n",
    "print(datos3_maria)"
   ]
  },
  {
   "cell_type": "markdown",
   "id": "46df8daf-4de5-4d9c-957f-bfb208cfdae4",
   "metadata": {},
   "source": [
    "#### raw string (cadena cruda)"
   ]
  },
  {
   "cell_type": "code",
   "execution_count": 57,
   "id": "329bdbec-7554-4261-8dc7-20b6b2ff625a",
   "metadata": {},
   "outputs": [
    {
     "name": "stdout",
     "output_type": "stream",
     "text": [
      "Otra forma de escribir una string\n"
     ]
    }
   ],
   "source": [
    "raw_string = r\"Otra forma de escribir una string\"\n",
    "print(raw_string)"
   ]
  },
  {
   "cell_type": "code",
   "execution_count": 4,
   "id": "df2809eb-4dd5-4164-b768-e19068eb66f8",
   "metadata": {},
   "outputs": [
    {
     "name": "stdout",
     "output_type": "stream",
     "text": [
      "C:\\Users\\Usuario\\Documentos\n"
     ]
    }
   ],
   "source": [
    "# raw string\n",
    "directorio = r\"C:\\Users\\Usuario\\Documentos\"\n",
    "print(directorio)"
   ]
  },
  {
   "cell_type": "code",
   "execution_count": 36,
   "id": "ad000db7-c428-45a9-98d6-70868a966aca",
   "metadata": {},
   "outputs": [
    {
     "ename": "SyntaxError",
     "evalue": "(unicode error) 'unicodeescape' codec can't decode bytes in position 2-3: truncated \\UXXXXXXXX escape (3332445128.py, line 1)",
     "output_type": "error",
     "traceback": [
      "\u001b[1;36m  Cell \u001b[1;32mIn[36], line 1\u001b[1;36m\u001b[0m\n\u001b[1;33m    directorio = \"C:\\Users\\Usuario\\Documentos\"\u001b[0m\n\u001b[1;37m                                              ^\u001b[0m\n\u001b[1;31mSyntaxError\u001b[0m\u001b[1;31m:\u001b[0m (unicode error) 'unicodeescape' codec can't decode bytes in position 2-3: truncated \\UXXXXXXXX escape\n"
     ]
    }
   ],
   "source": [
    "# sin especificar raw string\n",
    "directorio = \"C:\\Users\\Usuario\\Documentos\""
   ]
  },
  {
   "cell_type": "code",
   "execution_count": 3,
   "id": "056b5d22-1674-4750-92a6-c7ec55674c89",
   "metadata": {},
   "outputs": [
    {
     "data": {
      "text/plain": [
       "'Una\\\\ncadena\\\\ncon\\\\nsigue\\\\ttabulacion'"
      ]
     },
     "execution_count": 3,
     "metadata": {},
     "output_type": "execute_result"
    }
   ],
   "source": [
    "cad = \"Una\\ncadena\\ncon\\nsigue\\ttabulacion\"\n",
    "cad"
   ]
  },
  {
   "cell_type": "code",
   "execution_count": 46,
   "id": "a846fa7d-81c9-4a60-9e1a-359f4a615b0a",
   "metadata": {},
   "outputs": [
    {
     "name": "stdout",
     "output_type": "stream",
     "text": [
      "Una\n",
      "cadena\n",
      "que\n",
      "tiene\n",
      "una\ttabulacion\n"
     ]
    }
   ],
   "source": [
    "cad = \"Una\\ncadena\\nque\\ntiene\\nuna\\ttabulacion\"\n",
    "print(cad)"
   ]
  },
  {
   "cell_type": "code",
   "execution_count": 47,
   "id": "4ed58eb8-7185-4db4-ae66-51bca2e2633c",
   "metadata": {},
   "outputs": [
    {
     "name": "stdout",
     "output_type": "stream",
     "text": [
      "Esta\\nstring\\nocupa\\nvarias\\nlíneas.\n"
     ]
    }
   ],
   "source": [
    "salto_de_linea = r\"Esta\\nstring\\nocupa\\nvarias\\nlíneas.\"\n",
    "print(salto_de_linea)"
   ]
  },
  {
   "cell_type": "markdown",
   "id": "fb4c110e-cb1e-44a3-91b7-b55a6a4d8803",
   "metadata": {},
   "source": [
    "### 6.2 función type"
   ]
  },
  {
   "cell_type": "code",
   "execution_count": 58,
   "id": "52d8173c-dbc4-4d2c-826a-235eeba1077c",
   "metadata": {},
   "outputs": [
    {
     "name": "stdout",
     "output_type": "stream",
     "text": [
      "<class 'str'>\n"
     ]
    }
   ],
   "source": [
    "# si tienes dudas sobre el tipo de dato que estás utilizando\n",
    "print(type(cad))"
   ]
  },
  {
   "cell_type": "code",
   "execution_count": 59,
   "id": "e681c5a4-e488-463b-a19f-4c7e86c384d0",
   "metadata": {},
   "outputs": [
    {
     "name": "stdout",
     "output_type": "stream",
     "text": [
      "<class 'int'>\n"
     ]
    }
   ],
   "source": [
    "print(type(edad))"
   ]
  },
  {
   "cell_type": "code",
   "execution_count": null,
   "id": "33bcccc4-2855-4cb1-a1a3-1a4daf319d92",
   "metadata": {},
   "outputs": [],
   "source": []
  },
  {
   "cell_type": "markdown",
   "id": "c7ae0fbf-882c-4fe6-a9dd-e262f77968bb",
   "metadata": {},
   "source": [
    "<h4 style=\"background-color: #E7E118; color: black; padding: 12px;\">\n",
    "    Importante!\n",
    "</h4>"
   ]
  },
  {
   "cell_type": "markdown",
   "id": "696fab89-30cc-4da8-be26-5d092a88ddd6",
   "metadata": {},
   "source": [
    "##### Python es un lenguaje fuertemente tipado. Esto quiere decir que es sumamente estricto a la hora de organizar y operar con los tipos de dato. Por esta razón, no se pueden mezclar los tipos de datos en una operación excepto que se pongan en un tipo de dato en común. El formateo a string de los datos numéricos es una manera de lograrlo."
   ]
  },
  {
   "cell_type": "markdown",
   "id": "a34d0884-f218-4357-a1e7-4cf5c5ba9f23",
   "metadata": {},
   "source": [
    "##### Si se preguntan como es posible entonces que un tipo de dato int se sume a un tipo de dato float. La respuesta es que Python realiza una conversión interna de los enteros a float y luego opera."
   ]
  },
  {
   "cell_type": "markdown",
   "id": "dddc0216-b493-42ab-9ead-199ea831cc1d",
   "metadata": {},
   "source": [
    "<h4 style=\"background-color: green; color: white; padding: 12px;\">\n",
    "    Buenas Prácticas:\n",
    "</h4>"
   ]
  },
  {
   "cell_type": "markdown",
   "id": "ea6f38f3-b0a5-41e4-800b-3fecccac6205",
   "metadata": {},
   "source": [
    "##### Al formatear una cadena utilizar el tipo de formateo f-string, es el más sencillo y el más fácil de leer"
   ]
  },
  {
   "cell_type": "code",
   "execution_count": null,
   "id": "0945bcb9-c9dd-4f14-8226-0d4dd5d062ab",
   "metadata": {},
   "outputs": [],
   "source": []
  }
 ],
 "metadata": {
  "kernelspec": {
   "display_name": "Python 3 (ipykernel)",
   "language": "python",
   "name": "python3"
  },
  "language_info": {
   "codemirror_mode": {
    "name": "ipython",
    "version": 3
   },
   "file_extension": ".py",
   "mimetype": "text/x-python",
   "name": "python",
   "nbconvert_exporter": "python",
   "pygments_lexer": "ipython3",
   "version": "3.11.8"
  }
 },
 "nbformat": 4,
 "nbformat_minor": 5
}
