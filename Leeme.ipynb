{
 "cells": [
  {
   "cell_type": "markdown",
   "id": "87032972-15e1-4c31-a6b4-a2cdf1835f46",
   "metadata": {},
   "source": [
    "\n",
    "Documentación de Instalación y Configuración\n",
    "--------------------------------------------\n",
    "\n",
    "\n",
    " ### Instalación de Manim.  \n",
    "1. **Creación del Entorno Virtual:**\n",
    "    \n",
    "    *   Crear un nuevo entorno virtual usando Anaconda Prompt o línea de comandos con el con el siguiente comando:\n",
    "  \n",
    "        conda create --name animaciones    \n",
    "<br>\n",
    "  \n",
    "2. **Activación del Entorno Virtual:**\n",
    "\n",
    "   *   Activar el entorno virtual recién creado con el comando:\n",
    "   <br>\n",
    "   <br>\n",
    "      conda activate animaciones\n",
    "   <br>\n",
    "\n",
    "3. **Descarga de Manim:**\n",
    "\n",
    "*   Utilizar Git para clonar el repositorio de Manim desde su repositorio oficial en GitHub:\n",
    "\n",
    "    git clone https://github.com/ManimCommunity/manim.git\n",
    "\n",
    "4. **Instalación de Dependencias:**\n",
    "\n",
    "    *   Navegar al directorio `manim` utilizando la línea de comandos.\n",
    "    *   Instalar las dependencias necesarias ejecutando:\n",
    "   \n",
    "      `pip install -r requirements.txt`\n",
    "5.  **Configuración de ffmpeg:**\n",
    "    \n",
    "    *   Descargar y descomprimir ffmpeg desde su sitio web oficial.\n",
    "    *   Copiar la carpeta `ffmpeg` en una ubicación accesible.\n",
    "    *   Agregar la ruta completa de la carpeta `ffmpeg/bin`(o el nombre de carpeta en la que se encuentren los archivos ejecutables -Aplicaciones-) a la variable de entorno PATH.  \n",
    "  \n",
    "6.  **Verificación del funcionamiento de ffmpeg**  \n",
    "    * Abrir la línea de comandos del sistema y ejecutar lo siguiente:\n",
    "  \n",
    "          ffmpeg\n",
    "        \n",
    "### Verificación de la Configuración\n",
    "\n",
    "1.  **Ejecución de Manim:**\n",
    "    \n",
    "    *   Ejecutar un ejemplo de Manim para verificar que la instalación se haya completado correctamente.\n",
    " .  **Creación de un Notebook de Jupyter:**\n",
    "    \n",
    "    *   Abrir Jupyter Notebook en el entorno virtual \"animaciones\".\n",
    "    *   Crear un nuevo notebook y escribir código utilizando Manim.\n",
    "\n",
    "### Documentación Adicional\n",
    "\n",
    "Para obtener más información sobre cómo utilizar Manim y sus funcionalidades, se recomienda consultar la documentación oficial de Manim.\n",
    "\n",
    "### Actualización o Instalación de PyDub (Opcional)\n",
    "\n",
    "Si necesitas utilizar PyDub en conjunto con Manim, es posible que necesites instalarlo o actualizarlo en tu entorno virtual. Aquí están las dos opciones:\n",
    "\n",
    "1.  **Instalación de PyDub:**\n",
    "    pip install pydub\n",
    "\n",
    "2. **Actualización de PyDub:**\n",
    "   `pip install --upgrade pydub`\n",
    "Esto actualizará PyDub a la última versión disponible en tu entorno virtual."
   ]
  },
  {
   "cell_type": "markdown",
   "id": "04ae0596-d601-46e7-a5aa-61278d6995ea",
   "metadata": {},
   "source": [
    "## Renderizar con ffmpeg"
   ]
  },
  {
   "cell_type": "raw",
   "id": "e33d0cab-5a5a-489e-95be-d72c5fe30121",
   "metadata": {},
   "source": [
    "En línea de comandos posicionate en la carpeta en la que está el ejecutable de ffmpeg:\n",
    "C:\\ffmpeg\\bin\n",
    "C:\\ffmpeg\\bin>ffmpeg -i ruta_del_archivo_de_entrada -vf fps=1 ruta_de_salida/img%04d.png\n",
    "    vamos a modificar el valor de frames por segungo fps, lo seteamos en 1 por segundo.\n",
    "Importante! el path al archivo de entrada es el video; no el script. Así que no te olvides de poner la extensión mp4"
   ]
  },
  {
   "cell_type": "markdown",
   "id": "9d625c09-f9a0-46a9-8774-6e9001f68b4f",
   "metadata": {},
   "source": [
    "## Cambiar fondo"
   ]
  },
  {
   "cell_type": "markdown",
   "id": "c9cfbc08-a8ba-472e-ad7b-4705dba429aa",
   "metadata": {},
   "source": [
    "\n",
    "\n",
    "config.background_color = WHITE\n",
    "\n",
    "class ChangedDefaultTextcolor(Scene):\n",
    "    def construct(self):\n",
    "        Text.set_default(color=BLACK)\n",
    "        self.add(Text(\"Changing default values is easy!\"))\n",
    "\n",
    "        # we revert the colour back to the default to prevent a bug in the docs.\n",
    "        Text.set_default(color=WHITE)"
   ]
  },
  {
   "cell_type": "code",
   "execution_count": null,
   "id": "e5fdf606-9b16-49dc-bb37-455062aae370",
   "metadata": {},
   "outputs": [],
   "source": []
  }
 ],
 "metadata": {
  "kernelspec": {
   "display_name": "Python 3 (ipykernel)",
   "language": "python",
   "name": "python3"
  },
  "language_info": {
   "codemirror_mode": {
    "name": "ipython",
    "version": 3
   },
   "file_extension": ".py",
   "mimetype": "text/x-python",
   "name": "python",
   "nbconvert_exporter": "python",
   "pygments_lexer": "ipython3",
   "version": "3.11.7"
  }
 },
 "nbformat": 4,
 "nbformat_minor": 5
}
