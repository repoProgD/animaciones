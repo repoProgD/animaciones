{
 "cells": [
  {
   "cell_type": "code",
   "execution_count": 2,
   "id": "30ca9c0d-f4da-4735-bcab-1b59c0939e1e",
   "metadata": {},
   "outputs": [
    {
     "data": {
      "text/html": [
       "<pre style=\"white-space:pre;overflow-x:auto;line-height:normal;font-family:Menlo,'DejaVu Sans Mono',consolas,'Courier New',monospace\"><span style=\"color: #7fbfbf; text-decoration-color: #7fbfbf\">[02/21/24 20:27:49] </span><span style=\"color: #800000; text-decoration-color: #800000\">WARNING </span> Missing Plugins: <span style=\"font-weight: bold\">{</span><span style=\"color: #008000; text-decoration-color: #008000\">''</span><span style=\"font-weight: bold\">}</span>                                                   <a href=\"file://C:\\Users\\Diego\\anaconda3\\envs\\animaciones\\Lib\\site-packages\\manim\\plugins\\__init__.py\" target=\"_blank\"><span style=\"color: #7f7f7f; text-decoration-color: #7f7f7f\">__init__.py</span></a><span style=\"color: #7f7f7f; text-decoration-color: #7f7f7f\">:</span><a href=\"file://C:\\Users\\Diego\\anaconda3\\envs\\animaciones\\Lib\\site-packages\\manim\\plugins\\__init__.py#17\" target=\"_blank\"><span style=\"color: #7f7f7f; text-decoration-color: #7f7f7f\">17</span></a>\n",
       "</pre>\n"
      ],
      "text/plain": [
       "\u001b[2;36m[02/21/24 20:27:49]\u001b[0m\u001b[2;36m \u001b[0m\u001b[31mWARNING \u001b[0m Missing Plugins: \u001b[1m{\u001b[0m\u001b[32m''\u001b[0m\u001b[1m}\u001b[0m                                                   \u001b]8;id=492899;file://C:\\Users\\Diego\\anaconda3\\envs\\animaciones\\Lib\\site-packages\\manim\\plugins\\__init__.py\u001b\\\u001b[2m__init__.py\u001b[0m\u001b]8;;\u001b\\\u001b[2m:\u001b[0m\u001b]8;id=257680;file://C:\\Users\\Diego\\anaconda3\\envs\\animaciones\\Lib\\site-packages\\manim\\plugins\\__init__.py#17\u001b\\\u001b[2m17\u001b[0m\u001b]8;;\u001b\\\n"
      ]
     },
     "metadata": {},
     "output_type": "display_data"
    }
   ],
   "source": [
    "from manim import *"
   ]
  },
  {
   "cell_type": "code",
   "execution_count": 3,
   "id": "5f1b55ef-86e3-4558-ad8e-453e94d27da2",
   "metadata": {},
   "outputs": [],
   "source": [
    "config.media_width = \"75%\"\n",
    "config.verbosity = \"WARNING\""
   ]
  },
  {
   "cell_type": "code",
   "execution_count": 1,
   "id": "a7775e1c-3426-4e38-9598-432e1522edbe",
   "metadata": {
    "scrolled": true
   },
   "outputs": [
    {
     "name": "stderr",
     "output_type": "stream",
     "text": [
      "UsageError: Cell magic `%%manim` not found.\n"
     ]
    }
   ],
   "source": [
    "%%manim -qh GridAnimation\n",
    "\n",
    "class GridAnimation(Scene):\n",
    "    config.background_color = \"#24043d\"\n",
    "    def construct(self):\n",
    "\n",
    "        # Crear un texto\n",
    "        text = Text(\"Almacenamiento en memoria\").scale(1.2)\n",
    "\n",
    "        # Hacer que el texto aparezca gradualmente\n",
    "        self.play(FadeIn(text, run_time=2.0))\n",
    "        self.wait(1)\n",
    "        self.play(FadeOut(text, run_time=2.0))\n",
    "        \n",
    "        rows = 4\n",
    "        cols = 10\n",
    "        side_length = 0.8  # Tamaño de los cuadrados de la grilla\n",
    "\n",
    "        # Crear la grilla\n",
    "        grid = VGroup(*[\n",
    "            VGroup(*[Square(side_length=side_length, fill_opacity=0, stroke_color=WHITE, stroke_width=1).shift(\n",
    "                (x - cols / 2) * side_length * RIGHT + (y - rows / 2) * side_length * UP) for y in range(rows)]) for x in range(cols)\n",
    "        ])\n",
    "\n",
    "        # Crear  animar texto para la grilla\n",
    "        text_ram = Text(\"Memoria RAM\").scale(0.75)\n",
    "        text_ram.move_to(2 * UP)  # Colocar el texto \"x = \" 3 arriba y 3 a la izquierda\n",
    "        self.play(Write(text_ram))\n",
    "        self.play(text_ram.animate.shift(4 * RIGHT), grid.animate.shift(1.7 * DOWN), run_time=2)\n",
    "        self.play(text_ram.animate.shift(2 * DOWN), grid.animate.shift(2.25 * RIGHT), run_time=2)\n",
    "        \n",
    "\n",
    "        # crear declaración de variables\n",
    "        text_var = Text(\"Variables\").scale(0.75)\n",
    "        text_var.move_to(3 * UP + 6 * LEFT)\n",
    "        self.play(Write(text_var))\n",
    "        \n",
    "        text_x0 = Text(\"x = 10\").scale(0.7)\n",
    "        text_x0.next_to(text_var, 2 * DOWN)\n",
    "        self.play(Write(text_x0))\n",
    "\n",
    "        text_y0 = Text(\"y = 2\").scale(0.7)\n",
    "        text_y0.next_to(text_x0, DOWN)  # Colocar el texto \"x = \" a la derecha de la \n",
    "        self.play(Write(text_y0))\n",
    "\n",
    "        text_s0 = Text(\"s = h\").scale(0.7)\n",
    "        text_s0.next_to(text_y0, DOWN)  # Colocar el texto \"s = \" a la derecha de la \"y\"\n",
    "        self.play(Write(text_s0))\n",
    "        \n",
    "        # Crear el texto \"x = \" y animarlo\n",
    "        text_x = Text(\"x = \").scale(0.7)\n",
    "        text_x.move_to(3 * UP)  # Colocar el texto \"x = \" 3 arriba \n",
    "        self.play(Write(text_x))\n",
    "\n",
    "        # Crear el texto \"10\" y animarlo\n",
    "        text_10 = Text(\"10\").scale(0.7)\n",
    "        text_10.next_to(text_x, RIGHT)  # Posicionar el texto \"10\" a la derecha de \"x = \"\n",
    "        self.play(Write(text_10))\n",
    "\n",
    "        # Crear un cuadrado de color celeste\n",
    "        square = Square(side_length=side_length, stroke_color=BLUE, stroke_width=4)\n",
    "        square.next_to(text_10, RIGHT * 2)  # Posicionar el cuadrado a la derecha del texto \"10\"\n",
    "        self.play(Create(square))\n",
    "\n",
    "        # Desvanecer el signo igual\n",
    "        self.play(FadeOut(text_x[1]))  # El signo igual es el segundo elemento del texto \"x = \"\n",
    "\n",
    "        # Mover el texto \"10\" al centro del cuadrado\n",
    "        self.play(text_10.animate.move_to(square.get_center()))\n",
    "\n",
    "        # Elegir una posición de la grilla\n",
    "        target_square = grid[2][2]  # Por ejemplo, el cuadrado en la fila 2, columna 2\n",
    "\n",
    "        # Mover el cuadrado azul a la posición de la grilla y unirlo al texto \"10\"\n",
    "        self.play(square.animate.move_to(target_square), text_10.animate.move_to(target_square))\n",
    "\n",
    "        arrow = Arrow(text_x.get_bottom(), square.get_center(), color=WHITE)\n",
    "\n",
    "        self.play(GrowArrow(arrow))\n",
    "\n",
    "        ### Segunda variable\n",
    "        \n",
    "        # Crear el texto \"y = \" y animarlo\n",
    "        text_y = Text(\"y = \").scale(0.7)\n",
    "        text_y.next_to(text_x, RIGHT)  # Colocar el texto \"x = \" a la derecha de la \n",
    "        self.play(Write(text_y))\n",
    "\n",
    "        # Crear el texto \"2\" y animarlo\n",
    "        text_2 = Text(\"2\").scale(0.7)\n",
    "        text_2.next_to(text_y, RIGHT)  # Posicionar el texto \"10\" a la derecha de \"x = \"\n",
    "        self.play(Write(text_2))\n",
    "\n",
    "        # Crear un cuadrado de color celeste\n",
    "        square2 = Square(side_length=side_length, stroke_color=BLUE, stroke_width=4)\n",
    "        square2.next_to(text_2, RIGHT * 2)  # Posicionar el cuadrado a la derecha del texto \"2\"\n",
    "        self.play(Create(square2))\n",
    "\n",
    "        # Desvanecer el signo igual\n",
    "        self.play(FadeOut(text_y[1]))  # El signo igual es el segundo elemento del texto \"y = \"\n",
    "\n",
    "        # Mover el texto \"2\" al centro del cuadrado\n",
    "        self.play(text_2.animate.move_to(square2.get_center()))\n",
    "\n",
    "        # Elegir una posición de la grilla\n",
    "        target_square = grid[4][3]  # Por ejemplo, el cuadrado en la fila 4, columna 2\n",
    "\n",
    "        # Mover el cuadrado azul a la posición de la grilla y unirlo al texto \"2\"\n",
    "        self.play(square2.animate.move_to(target_square), text_2.animate.move_to(target_square))\n",
    "\n",
    "        arrow2 = Arrow(text_y.get_bottom(), square2.get_center(), color=WHITE)\n",
    "\n",
    "        self.play(GrowArrow(arrow2))\n",
    "\n",
    "\n",
    "        # Crear el texto \"s = \" y animarlo\n",
    "        text_s = Text(\"s = \").scale(0.7)\n",
    "        text_s.next_to(text_y, RIGHT)  # Colocar el texto \"s = \" a la derecha de la \"y\"\n",
    "        self.play(Write(text_s))\n",
    "\n",
    "        # Crear el texto \"hola\" y animarlo\n",
    "        text_h = Text(\"h\").scale(0.7)\n",
    "        text_h.next_to(text_s, RIGHT)  # Posicionar el texto \"hola\" a la derecha de \"s = \"\n",
    "        self.play(Write(text_h))\n",
    "\n",
    "        # Crear un cuadrado de color verde\n",
    "        square3 = Square(side_length=side_length, stroke_color=GREEN, stroke_width=4)\n",
    "        square3.next_to(text_h, RIGHT * 2)  # Posicionar el cuadrado a la derecha del texto \"2\"\n",
    "        self.play(Create(square3))\n",
    "\n",
    "        # Desvanecer el signo igual\n",
    "        self.play(FadeOut(text_s[1]))  # El signo igual es el segundo elemento del texto \"x = \"\n",
    "\n",
    "        # Mover el texto \"s\" al centro del cuadrado\n",
    "        self.play(text_h.animate.move_to(square3.get_center()))\n",
    "\n",
    "        # Elegir una posición de la grilla\n",
    "        target_square = grid[5][1]  # Por ejemplo, el cuadrado en la fila 5, columna 1\n",
    "\n",
    "        # Mover el cuadrado azul a la posición de la grilla y unirlo al texto \"10\"\n",
    "        self.play(square3.animate.move_to(target_square), text_h.animate.move_to(target_square))\n",
    "\n",
    "        arrow3 = Arrow(text_s.get_bottom(), square3.get_center(), color=WHITE)\n",
    "\n",
    "        self.play(GrowArrow(arrow3))\n",
    "\n",
    "        \n",
    "        text_exe = Text(\"Ejecución:\").scale(0.7)\n",
    "        text_exe.move_to(6 * LEFT)  # Colocar el texto \"x = \" 3 arriba y 3 a la izquierda\n",
    "        self.play(Write(text_exe))\n",
    "        \n",
    "        text_suma = Text(\"sum = \").scale(0.7)\n",
    "        text_suma.next_to(text_exe, 2 * DOWN)  # Colocar el texto \"x = \" 3 arriba y 3 a la izquierda\n",
    "        self.play(Write(text_suma))\n",
    "        \n",
    "        text_xsum = Text(\"x\").scale(0.7)\n",
    "        text_xsum.next_to(text_suma, RIGHT)\n",
    "        self.play(Write(text_xsum))\n",
    "        \n",
    "        text_mas = Text(\" + \").scale(0.7)\n",
    "        text_mas.next_to(text_xsum, RIGHT)\n",
    "        self.play(Write(text_mas))\n",
    "        \n",
    "        text_ysum = Text(\"y\").scale(0.7)\n",
    "        text_ysum.next_to(text_mas, RIGHT)\n",
    "        self.play(Write(text_ysum))\n",
    "\n",
    "        text_suma2 = Text(\"sum = \").scale(0.7)\n",
    "        text_suma2.next_to(text_suma,2 * DOWN)\n",
    "        self.play(Write(text_suma2))\n",
    "\n",
    "        text_mas2 = text_mas.copy()\n",
    "        text_mas2.next_to(text_suma2, RIGHT * 3.25)\n",
    "        self.play(Write(text_mas2))\n",
    "        \n",
    "        # crear línea punteada\n",
    "\n",
    "        dashed_line1 = DashedLine(text_xsum, text_x, color=BLUE)\n",
    "        self.wait(0.2)\n",
    "\n",
    "        # Animar la línea punteada\n",
    "        self.play(Create(dashed_line1), run_time=1)\n",
    "        self.wait(0.2)\n",
    "        self.play(FadeOut(dashed_line1))\n",
    "        self.wait(0.2)\n",
    "\n",
    "        # guiño flecha tras la llegada de la línea punteada\n",
    "        self.play(FadeOut(arrow))\n",
    "        self.wait(0.1)\n",
    "        self.play(FadeIn(arrow))\n",
    "        self.wait(0.1)\n",
    "        \n",
    "        # crear la copia del número 10 almacenado en la memoria\n",
    "        text_r10 = text_10.copy()\n",
    "\n",
    "        # Animar la copia para que se mueva next_to text_suma2\n",
    "        self.play(text_r10.animate.next_to(text_suma2, RIGHT)) \n",
    "\n",
    "        dashed_line1 = DashedLine(text_ysum, text_y, color=BLUE)\n",
    "        self.wait(0.2)\n",
    "\n",
    "        # Animar la línea punteada\n",
    "        self.play(Create(dashed_line1), run_time=1)\n",
    "        self.wait(0.2)\n",
    "        self.play(FadeOut(dashed_line1))\n",
    "        self.wait(0.2)\n",
    "\n",
    "        # guiño flecha tras la llegada de la línea punteada\n",
    "        self.play(FadeOut(arrow2))\n",
    "        self.wait(0.1)\n",
    "        self.play(FadeIn(arrow2))\n",
    "        self.wait(0.1)\n",
    "        # crear la copia del número 2 almacenado en la memoria\n",
    "        text_r2 = text_2.copy()\n",
    "\n",
    "        # Animar la copia para que se mueva next_to text_suma2\n",
    "        self.play(text_r2.animate.next_to(text_mas2, RIGHT)) \n",
    "\n",
    "        # salida \n",
    "        text_out = Text(\">>> 12\").scale(0.7)\n",
    "        text_out.next_to(text_suma2, 2 * DOWN)\n",
    "        self.play(Write(text_out))\n",
    "\n",
    "        self.wait(3)\n"
   ]
  },
  {
   "cell_type": "code",
   "execution_count": null,
   "id": "12c76066-5044-428e-89b5-48b5e617d659",
   "metadata": {},
   "outputs": [],
   "source": []
  },
  {
   "cell_type": "code",
   "execution_count": 1,
   "id": "0c451741-9118-43ce-92ff-133641a33b06",
   "metadata": {},
   "outputs": [
    {
     "data": {
      "text/html": [
       "<pre style=\"white-space:pre;overflow-x:auto;line-height:normal;font-family:Menlo,'DejaVu Sans Mono',consolas,'Courier New',monospace\"><span style=\"color: #7fbfbf; text-decoration-color: #7fbfbf\">[02/20/24 08:01:03] </span><span style=\"color: #800000; text-decoration-color: #800000\">WARNING </span> Missing Plugins: <span style=\"font-weight: bold\">{</span><span style=\"color: #008000; text-decoration-color: #008000\">''</span><span style=\"font-weight: bold\">}</span>                                                   <a href=\"file://C:\\Users\\Diego\\anaconda3\\envs\\animaciones\\Lib\\site-packages\\manim\\plugins\\__init__.py\" target=\"_blank\"><span style=\"color: #7f7f7f; text-decoration-color: #7f7f7f\">__init__.py</span></a><span style=\"color: #7f7f7f; text-decoration-color: #7f7f7f\">:</span><a href=\"file://C:\\Users\\Diego\\anaconda3\\envs\\animaciones\\Lib\\site-packages\\manim\\plugins\\__init__.py#17\" target=\"_blank\"><span style=\"color: #7f7f7f; text-decoration-color: #7f7f7f\">17</span></a>\n",
       "</pre>\n"
      ],
      "text/plain": [
       "\u001b[2;36m[02/20/24 08:01:03]\u001b[0m\u001b[2;36m \u001b[0m\u001b[31mWARNING \u001b[0m Missing Plugins: \u001b[1m{\u001b[0m\u001b[32m''\u001b[0m\u001b[1m}\u001b[0m                                                   \u001b]8;id=23733;file://C:\\Users\\Diego\\anaconda3\\envs\\animaciones\\Lib\\site-packages\\manim\\plugins\\__init__.py\u001b\\\u001b[2m__init__.py\u001b[0m\u001b]8;;\u001b\\\u001b[2m:\u001b[0m\u001b]8;id=672781;file://C:\\Users\\Diego\\anaconda3\\envs\\animaciones\\Lib\\site-packages\\manim\\plugins\\__init__.py#17\u001b\\\u001b[2m17\u001b[0m\u001b]8;;\u001b\\\n"
      ]
     },
     "metadata": {},
     "output_type": "display_data"
    }
   ],
   "source": [
    "from manim import *"
   ]
  },
  {
   "cell_type": "code",
   "execution_count": 49,
   "id": "713f7e94-a861-4641-89b5-d96d9e7fab8f",
   "metadata": {},
   "outputs": [
    {
     "data": {
      "text/html": [
       "<pre style=\"white-space:pre;overflow-x:auto;line-height:normal;font-family:Menlo,'DejaVu Sans Mono',consolas,'Courier New',monospace\">Manim Community <span style=\"color: #008000; text-decoration-color: #008000\">v0.18.0</span>\n",
       "\n",
       "</pre>\n"
      ],
      "text/plain": [
       "Manim Community \u001b[32mv0.\u001b[0m\u001b[32m18.0\u001b[0m\n",
       "\n"
      ]
     },
     "metadata": {},
     "output_type": "display_data"
    },
    {
     "name": "stderr",
     "output_type": "stream",
     "text": [
      "                                                                           \r"
     ]
    },
    {
     "data": {
      "text/html": [
       "<video src=\"media\\jupyter\\EscenaAuto@2024-02-19@22-12-43.mp4\" controls autoplay loop style=\"max-width: 75%;\"  >\n",
       "      Your browser does not support the <code>video</code> element.\n",
       "    </video>"
      ],
      "text/plain": [
       "<IPython.core.display.Video object>"
      ]
     },
     "metadata": {},
     "output_type": "display_data"
    }
   ],
   "source": [
    "%%manim -ql EscenaAuto\n",
    "\n",
    "class EscenaAuto(Scene):\n",
    "    def construct(self):\n",
    "        imagen_auto = ImageMobject(\"imagenes\\\\red-car.png\")\n",
    "        imagen_auto.scale(0.55)\n",
    "\n",
    "        # Agregar la imagen del auto a la escena\n",
    "        self.add(imagen_auto)\n",
    "\n",
    "        # Animar el desplazamiento del auto\n",
    "        self.play(\n",
    "            Transform(imagen_auto, imagen_auto.copy().shift(RIGHT * 2)),\n",
    "            run_time=2\n",
    "        )"
   ]
  },
  {
   "cell_type": "code",
   "execution_count": 49,
   "id": "1d137ee9",
   "metadata": {},
   "outputs": [
    {
     "data": {
      "text/html": [
       "<pre style=\"white-space:pre;overflow-x:auto;line-height:normal;font-family:Menlo,'DejaVu Sans Mono',consolas,'Courier New',monospace\">Manim Community <span style=\"color: #008000; text-decoration-color: #008000\">v0.18.0</span>\n",
       "\n",
       "</pre>\n"
      ],
      "text/plain": [
       "Manim Community \u001b[32mv0.\u001b[0m\u001b[32m18.0\u001b[0m\n",
       "\n"
      ]
     },
     "metadata": {},
     "output_type": "display_data"
    },
    {
     "name": "stderr",
     "output_type": "stream",
     "text": [
      "                                                                           \r"
     ]
    },
    {
     "data": {
      "text/html": [
       "<video src=\"media\\jupyter\\EscenaAuto@2024-02-19@22-12-43.mp4\" controls autoplay loop style=\"max-width: 75%;\"  >\n",
       "      Your browser does not support the <code>video</code> element.\n",
       "    </video>"
      ],
      "text/plain": [
       "<IPython.core.display.Video object>"
      ]
     },
     "metadata": {},
     "output_type": "display_data"
    }
   ],
   "source": [
    "%%manim -ql EscenaAuto\n",
    "\n",
    "class EscenaAuto(Scene):\n",
    "    def construct(self):\n",
    "        imagen_auto = ImageMobject(\"imagenes\\\\red-car.png\")\n",
    "        imagen_auto.scale(0.55)\n",
    "\n",
    "        # Agregar la imagen del auto a la escena\n",
    "        self.add(imagen_auto)\n",
    "\n",
    "        # Animar el desplazamiento del auto\n",
    "        self.play(\n",
    "            Transform(imagen_auto, imagen_auto.copy().shift(RIGHT * 2)),\n",
    "            run_time=2\n",
    "        )"
   ]
  },
  {
   "cell_type": "code",
   "execution_count": null,
   "id": "39312864-2e67-4b88-9381-af0b04a14e78",
   "metadata": {},
   "outputs": [],
   "source": []
  },
  {
   "cell_type": "code",
   "execution_count": null,
   "id": "624fd844-26cd-4bbd-acaf-8ee7f150a47d",
   "metadata": {},
   "outputs": [],
   "source": []
  }
 ],
 "metadata": {
  "kernelspec": {
   "display_name": "Python 3 (ipykernel)",
   "language": "python",
   "name": "python3"
  },
  "language_info": {
   "codemirror_mode": {
    "name": "ipython",
    "version": 3
   },
   "file_extension": ".py",
   "mimetype": "text/x-python",
   "name": "python",
   "nbconvert_exporter": "python",
   "pygments_lexer": "ipython3",
   "version": "3.11.7"
  }
 },
 "nbformat": 4,
 "nbformat_minor": 5
}
