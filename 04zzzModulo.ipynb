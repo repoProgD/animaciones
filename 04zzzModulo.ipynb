{
 "cells": [
  {
   "cell_type": "code",
   "execution_count": 1,
   "id": "49679390-ba10-4a96-b24e-0aa8e740ab27",
   "metadata": {},
   "outputs": [
    {
     "data": {
      "text/html": [
       "<pre style=\"white-space:pre;overflow-x:auto;line-height:normal;font-family:Menlo,'DejaVu Sans Mono',consolas,'Courier New',monospace\">Manim Community <span style=\"color: #008000; text-decoration-color: #008000\">v0.18.0</span>\n",
       "\n",
       "</pre>\n"
      ],
      "text/plain": [
       "Manim Community \u001b[32mv0.\u001b[0m\u001b[32m18.0\u001b[0m\n",
       "\n"
      ]
     },
     "metadata": {},
     "output_type": "display_data"
    }
   ],
   "source": [
    "from manim import *"
   ]
  },
  {
   "cell_type": "code",
   "execution_count": 2,
   "id": "f2239dd2-d983-4717-bb4d-0895f1dc9893",
   "metadata": {},
   "outputs": [],
   "source": [
    "config.media_width = \"75%\"\n",
    "config.verbosity = \"WARNING\"\n",
    "config.background_color = \"#24043d\""
   ]
  },
  {
   "cell_type": "code",
   "execution_count": 3,
   "id": "b976482e-5003-43ff-826b-8164dc6b1ebe",
   "metadata": {},
   "outputs": [],
   "source": [
    "import herramientas as h"
   ]
  },
  {
   "cell_type": "code",
   "execution_count": 6,
   "id": "42149094-abc6-464e-9a69-d78877ad56dc",
   "metadata": {},
   "outputs": [
    {
     "name": "stderr",
     "output_type": "stream",
     "text": [
      "                                                                                                                       \r"
     ]
    },
    {
     "data": {
      "text/html": [
       "<video src=\"media\\jupyter\\Reloj@2024-04-11@10-54-39.mp4\" controls autoplay loop style=\"max-width: 75%;\"  >\n",
       "      Your browser does not support the <code>video</code> element.\n",
       "    </video>"
      ],
      "text/plain": [
       "<IPython.core.display.Video object>"
      ]
     },
     "metadata": {},
     "output_type": "display_data"
    }
   ],
   "source": [
    "%%manim -ql Reloj\n",
    "class Reloj(Scene):\n",
    "    \"\"\"Un reloj para explicar la resolución de problemas que involucran lógica de ciclos\"\"\"\n",
    "    def construct(self):\n",
    "        def girar_hora(hora_inicial, horas_transcurridas, valor_ciclo=12):\n",
    "            # saco la posición al descontar todos los ciclos realizados por las horas transcurridas (12 horas = 1 ciclo; 37 horas = 3 ciclos + 1 hora)\n",
    "            nueva_hora = horas_transcurridas % valor_ciclo\n",
    "            factor = nueva_hora/valor_ciclo\n",
    "            if factor == 0:\n",
    "                angulo = -2*PI - 0.01\n",
    "            else:\n",
    "                angulo = -2*PI * factor    \n",
    "            \n",
    "            if horas_transcurridas <= 12 & horas_transcurridas != 0:\n",
    "                self.play(Rotate(hora, about_point=centro, angle=angulo, \n",
    "                  rate_func=linear)\n",
    "                         )\n",
    "            else: \n",
    "                vueltas = horas_transcurridas // 12   \n",
    "                for i in range(vueltas):\n",
    "                    # una vez que tengo la cant de vueltas lo hago girar por -2*PI - 0.0001 porque si lo hago girar -2*PI no se mueve\n",
    "                    self.play(Rotate(hora, about_point=centro, angle = -2*PI - 0.0001, rate_func=linear))\n",
    "                if horas_transcurridas % 12 != 0:\n",
    "                    self.play(Rotate(hora, about_point=centro, angle=angulo, \n",
    "                  rate_func=linear))\n",
    "\n",
    "        # fin girar_hora\n",
    "        \n",
    "        # Centro de la pantalla\n",
    "        centro = 3*RIGHT + 1 * DOWN\n",
    "        circulo_central =  Circle(radius=0.175, color=WHITE, fill_opacity=1, stroke_color=WHITE).move_to(centro)\n",
    "        # Radio de la circunferencia\n",
    "        radio = 2.1   \n",
    "        # Número de círculos (12 en este caso)\n",
    "        num_circulos = 12  \n",
    "        # Crear una lista para almacenar los círculos\n",
    "        circulos = VGroup()\n",
    "        numeros = VGroup()  # Lista para almacenar los números\n",
    "        \n",
    "        # Calcular la posición de cada círculo\n",
    "        for i in range(num_circulos):\n",
    "            angulo = -i * TAU / num_circulos + PI / 2  # Ajustar el ángulo para empezar en \"12 en punto\"\n",
    "            posicion = centro + np.array([radio * np.cos(angulo), radio * np.sin(angulo), 0])\n",
    "            \n",
    "            # Crear y añadir el círculo a la lista\n",
    "            circulo = Circle(radius=0.35, color=\"#0606FF\", fill_opacity=1, stroke_color=WHITE).move_to(posicion)\n",
    "            circulos.add(circulo)\n",
    "\n",
    "            # Crear y añadir el número a la lista\n",
    "            if i == 0:\n",
    "                numero = Text(\"12\", font=\"Arial Black\").scale(0.63).move_to(posicion)\n",
    "            else:\n",
    "                numero = Text(str(i), font=\"Arial Black\").scale(0.63).move_to(posicion)\n",
    "            numeros.add(numero)\n",
    "\n",
    "        hora = Line(centro, circulos[0].get_center() + DOWN * 1, stroke_width=17)\n",
    "        minutero = Line(centro, circulos[0].get_center() + DOWN * 0.56, stroke_width=10)\n",
    "        marco = RoundedRectangle(width=5.4, height=5.4, corner_radius=0.26, color = \"#AF317B\", fill_opacity=1, stroke_color=WHITE ).move_to(centro)\n",
    "        #imagen = ImageMobject(\"images\\\\robo_solo3.png\").scale(0.5)\n",
    "        reloj = Group(*[marco, circulos, numeros, hora, minutero, circulo_central])\n",
    "        self.add(reloj)\n",
    "        horas_transcurridas = 355\n",
    "        girar_hora(12,horas_transcurridas)\n",
    "        # Añadir los círculos a la escena\n",
    "          \n",
    "            \n",
    "        self.wait()"
   ]
  },
  {
   "cell_type": "code",
   "execution_count": null,
   "id": "4b1f6e7e-7c22-4dcf-a55b-c9800250b186",
   "metadata": {},
   "outputs": [],
   "source": [
    "12/10"
   ]
  }
 ],
 "metadata": {
  "kernelspec": {
   "display_name": "Python 3 (ipykernel)",
   "language": "python",
   "name": "python3"
  },
  "language_info": {
   "codemirror_mode": {
    "name": "ipython",
    "version": 3
   },
   "file_extension": ".py",
   "mimetype": "text/x-python",
   "name": "python",
   "nbconvert_exporter": "python",
   "pygments_lexer": "ipython3",
   "version": "3.11.8"
  }
 },
 "nbformat": 4,
 "nbformat_minor": 5
}
