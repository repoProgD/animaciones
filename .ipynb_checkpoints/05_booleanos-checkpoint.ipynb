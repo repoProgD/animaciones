{
 "cells": [
  {
   "cell_type": "markdown",
   "id": "09142194-70c7-4374-8c3f-43138ab6af37",
   "metadata": {},
   "source": [
    "<h1 style=\"background-color: #24043d; color: white; padding: 25px;\">\n",
    "   Booleans\n",
    "    \n",
    "</h1>"
   ]
  },
  {
   "cell_type": "markdown",
   "id": "4211dc10-79c2-4cf0-abbe-495d16089621",
   "metadata": {},
   "source": [
    "<p style=\"background-color: #C483F7; color: black; padding: 12px;\">\n",
    "    <b>Definición:</b> En Python, los booleanos son un tipo de dato que representa un valor de verdad. Tienen dos posibles valores: <b>True</b> (verdadero) o <b>False</b> (falso). Entre las usos más comunes, estos valores son utilizados para la toma de decisiones y control del flujo de un programa.\n",
    "</p>"
   ]
  },
  {
   "cell_type": "markdown",
   "id": "85c8a22e-d1b4-4327-b702-163e448edb74",
   "metadata": {},
   "source": [
    "<p style=\"background-color: #C483F7; color: black; padding: 12px;\">\n",
    "    Sintaxis:\n",
    "</p>"
   ]
  },
  {
   "cell_type": "markdown",
   "id": "d63d0e29-32f1-48f5-8f36-42ef008c1f79",
   "metadata": {},
   "source": [
    "<h2 style=\"background-color: #24043d; color: white; padding: 12px;\">\n",
    "    1. Representación\n",
    "</h2>"
   ]
  },
  {
   "cell_type": "markdown",
   "id": "954b6ccb-2f57-4200-86a0-1d251154cd74",
   "metadata": {},
   "source": [
    "##### **Los valores de los booleanos son palabras reservadas**"
   ]
  },
  {
   "cell_type": "code",
   "execution_count": null,
   "id": "398a972b-f119-4145-a32b-9cae0e26b64a",
   "metadata": {},
   "outputs": [],
   "source": [
    "verdadero = True\n",
    "falso = False"
   ]
  },
  {
   "cell_type": "code",
   "execution_count": 5,
   "id": "a6aa6cc0-3afb-4389-82b3-1901be8612c6",
   "metadata": {},
   "outputs": [
    {
     "ename": "SyntaxError",
     "evalue": "cannot assign to True (233151119.py, line 1)",
     "output_type": "error",
     "traceback": [
      "\u001b[1;36m  Cell \u001b[1;32mIn[5], line 1\u001b[1;36m\u001b[0m\n\u001b[1;33m    True = \"algo\"\u001b[0m\n\u001b[1;37m    ^\u001b[0m\n\u001b[1;31mSyntaxError\u001b[0m\u001b[1;31m:\u001b[0m cannot assign to True\n"
     ]
    }
   ],
   "source": [
    "True = \"algo\""
   ]
  },
  {
   "cell_type": "code",
   "execution_count": null,
   "id": "f24e7fe1-2d39-42f4-a8ad-e621550edd85",
   "metadata": {},
   "outputs": [],
   "source": []
  },
  {
   "cell_type": "markdown",
   "id": "86c8f07a-e493-45b9-9a6d-88eb06c7a7ba",
   "metadata": {},
   "source": [
    "<h2 style=\"background-color: #24043d; color: white; padding: 12px;\">\n",
    "    2. ¿De dónde provienen estos dos valores?\n",
    "</h2>"
   ]
  },
  {
   "cell_type": "markdown",
   "id": "7243356a-eab6-4a9a-8146-a24ce754f79c",
   "metadata": {},
   "source": [
    "Los valores de verdad, \"verdadero\" y \"falso\", son conceptos fundamentales en la lógica y las matemáticas. Estos valores son utilizados para representar la veracidad o falsedad de proposiciones. El álgebra booleana y la lógica proposicional son subcampos de la lógica matemática en las que nos vamos a estar apoyando para entender como se obtienen estos valores."
   ]
  },
  {
   "cell_type": "markdown",
   "id": "7daad90a-b7a4-4521-a2be-d62913b6d6ac",
   "metadata": {},
   "source": [
    "<p style=\"background-color: #C483F7; color: black; padding: 12px;\">\n",
    "    <b>Definición:</b> En lógica proposicional, una proposición es una afirmación o declaración que puede ser verdadera o falsa pero nunca ambas al mismo tiempo.\n",
    "</p>"
   ]
  },
  {
   "cell_type": "code",
   "execution_count": null,
   "id": "26a92071-ac2c-4f54-a313-8408fbc9913a",
   "metadata": {},
   "outputs": [],
   "source": []
  },
  {
   "cell_type": "markdown",
   "id": "d583af58-21c5-4c39-8a19-3977942d4dc2",
   "metadata": {},
   "source": [
    "<h2 style=\"background-color: #24043d; color: white; padding: 12px;\">\n",
    "    3. Negación lógica\n",
    "</h2>"
   ]
  },
  {
   "cell_type": "markdown",
   "id": "97130f88-1baa-4518-8599-137554503298",
   "metadata": {},
   "source": [
    "<p style=\"background-color: #C483F7; color: black; padding: 12px;\">\n",
    "    <b>Definición:</b> La negación lógica, simbolizada como <b>¬P</b>, es una operación lógica que se aplica a una proposición <b>P</b> y produce el valor de verdad opuesto al de P. En otras palabras, si P es verdadero, entonces ¬P es falso, y si P es falso, entonces ¬P es verdadero.\n",
    "</p>"
   ]
  },
  {
   "cell_type": "code",
   "execution_count": null,
   "id": "4b2ce139-82ac-4b8d-933d-8fcce80fb688",
   "metadata": {},
   "outputs": [],
   "source": [
    "El dibujo de abajo es un perro\n",
    "El dibujo de abajo no es un perro"
   ]
  },
  {
   "cell_type": "markdown",
   "id": "b7b0b01d-5ec3-4363-a016-8f44e0eae397",
   "metadata": {},
   "source": [
    "<img src='imagenes\\05_bool\\perrito.png'  width=\"120\" height=\"90\" style=\"float:left; margin-right: 10px;\" />"
   ]
  },
  {
   "cell_type": "markdown",
   "id": "379272c2-0d10-4328-a042-0a7b397fb968",
   "metadata": {},
   "source": [
    "|Si lo que afirmo es: |Lo contrario a lo que afirmo es:|\n",
    "|---------------------|--------------------------------|\n",
    "|Verdadero            |Falso                           |\n",
    "|Falso                |Verdadero                       |"
   ]
  },
  {
   "cell_type": "markdown",
   "id": "ce19f3e5-0fc8-4869-8ab5-ae7f6cdd4e5d",
   "metadata": {},
   "source": [
    "##### **Tabla de verdad 3.1.**"
   ]
  },
  {
   "cell_type": "markdown",
   "id": "2c264253-ec99-408d-9b2d-c7f9837772e6",
   "metadata": {},
   "source": [
    "|P |¬P|\n",
    "|--|--|\n",
    "|Verdadero|Falso|\n",
    "|Falso|Verdadero|"
   ]
  },
  {
   "cell_type": "markdown",
   "id": "90791804-40bc-42ad-8800-2820d3f27cc5",
   "metadata": {},
   "source": [
    "<h2 style=\"background-color: #24043d; color: white; padding: 12px;\">\n",
    "    4. Bicondicionalidad lógica"
   ]
  },
  {
   "cell_type": "markdown",
   "id": "ecbe604d-a6c4-440c-b0fc-2ddd78717ecf",
   "metadata": {},
   "source": [
    "<p style=\"background-color: #C483F7; color: black; padding: 12px;\">\n",
    "    <b>Definición:</b> La bicondicionalidad lógica, simbolizada como <b>⇔</b>, es una relación lógica que indica que dos proposiciones P y Q son verdaderas o falsas simultáneamente. Se lee como \"P si y solo si Q\".\n",
    "</p>"
   ]
  },
  {
   "cell_type": "markdown",
   "id": "32789823-8472-40ab-8fde-6ac898f5ac0d",
   "metadata": {},
   "source": [
    "<img src='imagenes\\05_bool\\auto_blanco.png' alt=\"Texto alternativo 1\"  width=\"240\" height=\"180\" style=\"float:left; margin-right: 10px;\" />"
   ]
  },
  {
   "cell_type": "raw",
   "id": "482004dc-e1e3-4bad-a5aa-318e67a2321c",
   "metadata": {},
   "source": [
    "El auto es amarillo = falso = False"
   ]
  },
  {
   "cell_type": "markdown",
   "id": "47e8e116-2a56-4003-9119-dfdd2ad66468",
   "metadata": {},
   "source": [
    "##### Existen 4 posibilidades sobre lo que puedo decir del color del auto y el color real que tiene auto\n",
    "1) Puedo decir que el color es blanco y que en realidad el auto sea blanco\n",
    "2) Puedo decir que el color es blanco y que en realidad el auto no sea blanco\n",
    "3) Puedo decir que el auto no es blanco y que sí sea blanco\n",
    "4) Puedo decir que el auto no es blanco y que, efectivamente, el auto no sea de color blanco."
   ]
  },
  {
   "cell_type": "code",
   "execution_count": null,
   "id": "1de013d0-fd28-4c8d-948c-608a23c78ef3",
   "metadata": {},
   "outputs": [],
   "source": []
  },
  {
   "cell_type": "markdown",
   "id": "587dfef9-1f11-4223-8410-9aa583b6bd17",
   "metadata": {},
   "source": [
    "| Lo que afirmo                      | Lo que se ve en la realidad      | Conclusión                     |\n",
    "|------------------------------------|----------------------------------|--------------------------------|\n",
    "| **Verdadero** (digo que es blanco) | **Verdadero** (El auto es blanco)| Lo que dije es: **Verdadero**  |\n",
    "| **Verdadero** (digo que es blanco) | **Falso**  (El auto no es blanco)| Lo que dije es:  **Falso**     |\n",
    "| **Falso** (digo que no es blanco)  | **Verdadero** (El auto es blanco)| Lo que dije es:  **Falso**     |\n",
    "| **Falso** (digo que no es blanco)  | **Falso** (El auto no es blanco) |  Lo que dije es: **Verdadero** |"
   ]
  },
  {
   "cell_type": "markdown",
   "id": "4cb43a1a-c4d4-442b-856c-7d2b4c69269d",
   "metadata": {},
   "source": [
    "##### **Tabla de verdad 4.1.**"
   ]
  },
  {
   "cell_type": "markdown",
   "id": "5b38683f-a314-445c-867d-a8920a02ae3f",
   "metadata": {},
   "source": [
    "| P (afirmación)    | Q (Hecho real) |    P<=>Q    |\n",
    "|-------------------|----------------|-------------|\n",
    "|      Verdadero        |      Verdadero      |   Verdadero |\n",
    "|      Verdadero         |      False     |   Falso     |\n",
    "|      False        |      Verdadero     |   Falso     |\n",
    "|      False        |      False     |   Verdadero |\n",
    "\n"
   ]
  },
  {
   "cell_type": "markdown",
   "id": "9ed9eea6-88a0-4a48-a009-37008622a928",
   "metadata": {},
   "source": [
    "<h2 style=\"background-color: #24043d; color: white; padding: 12px;\">\n",
    "    5. Conjunción lógica\n",
    "</h2>"
   ]
  },
  {
   "cell_type": "markdown",
   "id": "88f49ccd-c160-4f89-b8fe-1c3d72112665",
   "metadata": {},
   "source": [
    "<p style=\"background-color: #C483F7; color: black; padding: 12px;\">\n",
    "    <b>Definición:</b> La conjunción lógica, también conocida como \"Y lógico\", es una operación binaria que se aplica a dos proposiciones P y Q. Se denota como <b>P∧Q</b>, o simplemente <b>P AND Q</b> (En español es P Y Q pero en un curso de Python tiene más sentido llamarla P and Q)\n",
    "</p>"
   ]
  },
  {
   "cell_type": "code",
   "execution_count": null,
   "id": "ddf913d7-d28a-4dbe-951e-fea8d2522700",
   "metadata": {},
   "outputs": [],
   "source": [
    "El dibujo de abajo es un gato\n",
    "El dibujo de abajo es blanco (en su mayoría)\n",
    "El dibujo de abajo es un gato blanco        # cumple dos condiciones al mismo tiempo es un gato y es blanco\n",
    "El dibjo de abajo es un gato negro\n",
    "El dibujo de abajo es un perro blanco\n",
    "El dibujo de abajo es un perro negro"
   ]
  },
  {
   "cell_type": "markdown",
   "id": "e8f8c811-4851-45fb-96ff-5182dea6dd4d",
   "metadata": {},
   "source": [
    "<img src='imagenes\\05_bool\\gato_blanco.png' alt=\"Texto alternativo 2\"  width=\"100\" height=\"67\" style=\"float:left;\" />"
   ]
  },
  {
   "cell_type": "markdown",
   "id": "9df99054-a5e0-4d15-b891-910fa23b3d01",
   "metadata": {},
   "source": [
    "| Si la primera afirmación es: | Y la segunda afirmación es: | La conclusión es: |\n",
    "|------------------------------|-----------------------------|-------------------|\n",
    "| Verdadera                    |         Verdadera           |   Verdadera       |\n",
    "| Verdadera                    | Falsa                       |   Falsa           |\n",
    "| Falsa                        | Verdadera                   |    Falsa          |\n",
    "| Falsa                        | Falsa                       |    Falsa          |"
   ]
  },
  {
   "cell_type": "markdown",
   "id": "beb881ff-daff-4f12-b785-8c0a3a5fc1ba",
   "metadata": {},
   "source": [
    "##### **Tabla de verdad 2.3.**"
   ]
  },
  {
   "cell_type": "markdown",
   "id": "8d04fa1b-67b9-4bca-88d3-2786eff06969",
   "metadata": {},
   "source": [
    "| P | Q | P AND Q     |\n",
    "|---|---|-------------|\n",
    "| V | V |&nbsp;&nbsp;&nbsp;&nbsp;V    |\n",
    "| V | F |&nbsp;&nbsp;&nbsp;&nbsp;F    |\n",
    "| F | V |&nbsp;&nbsp;&nbsp;&nbsp;F    |\n",
    "| F | F |&nbsp;&nbsp;&nbsp;&nbsp;F    |\n"
   ]
  },
  {
   "cell_type": "code",
   "execution_count": null,
   "id": "9c9ecabc-1c8e-4b41-98c0-ea6eb8c69e23",
   "metadata": {},
   "outputs": [],
   "source": []
  },
  {
   "cell_type": "markdown",
   "id": "ecce59fd-0bbc-4230-97b9-56a89aae7f92",
   "metadata": {},
   "source": [
    "<h2 style=\"background-color: #24043d; color: white; padding: 12px;\">\n",
    "    6. Disyunción lógica\n",
    "</h2>"
   ]
  },
  {
   "cell_type": "markdown",
   "id": "c1de0a4a-f640-49a6-84a4-c5af84e659da",
   "metadata": {},
   "source": [
    "<p style=\"background-color: #C483F7; color: black; padding: 12px;\">\n",
    "    <b>Definición:</b> La disyunción lógica, también conocida como \"O lógico\", es una operación binaria que se aplica a dos proposiciones P , Q. Se denota como <b>P∨Q</b> o simplemente <b>P OR Q</b> (similar a lo explicado con la disyunción, al estar en un curso de Python conviene llamarlo P or Q).\n",
    "</p>"
   ]
  },
  {
   "cell_type": "code",
   "execution_count": null,
   "id": "9e45ca89-f1e4-4053-b5b2-6fbfb68fdc74",
   "metadata": {},
   "outputs": [],
   "source": [
    "El dibujo de abajo es de un gato o es negro\n",
    "El dibujo de abajo es de un gato o es blanco\n",
    "El dibujo de abajo es de un perro o es negro\n",
    "El dibujo de abajo es de un perro o es blanco"
   ]
  },
  {
   "cell_type": "markdown",
   "id": "c05e15e1-08a6-4b82-bb26-307acb3611b2",
   "metadata": {},
   "source": [
    "<img src='imagenes\\05_bool\\gato_negro.png' alt=\"Texto alternativo 2\"  width=\"100\" height=\"67\" style=\"float:left;\" />"
   ]
  },
  {
   "cell_type": "markdown",
   "id": "2d08d15d-e635-4ec8-b33d-7dfff8458271",
   "metadata": {},
   "source": [
    "| Si la primera afirmación es: | Y la segunda afirmación es: | La conclusión es: |\n",
    "|------------------------------|-----------------------------|-------------------|\n",
    "| Verdadera                    |         Verdadera           |   Verdadera       |\n",
    "| Verdadera                    | Falsa                       |   Verdadera       |\n",
    "| Falsa                        | Verdadera                   |   Verdadera       |\n",
    "| Falsa                        | Falsa                       |    Falsa          |"
   ]
  },
  {
   "cell_type": "markdown",
   "id": "7b10f4ca-e6d2-46c8-b136-711d42992f68",
   "metadata": {},
   "source": [
    "##### **Tabla de verdad 2.4.**"
   ]
  },
  {
   "cell_type": "markdown",
   "id": "6517db61-62d8-4746-b15b-08854cfe2d5e",
   "metadata": {},
   "source": [
    "| P | Q | P OR Q        |\n",
    "|---|---|---------------|\n",
    "| V | V |&nbsp;&nbsp;&nbsp;&nbsp; V    |\n",
    "| V | F |&nbsp;&nbsp;&nbsp;&nbsp; V    |\n",
    "| F | T |&nbsp;&nbsp;&nbsp;&nbsp; V    |\n",
    "| F | F |&nbsp;&nbsp;&nbsp;&nbsp; F    |"
   ]
  },
  {
   "cell_type": "markdown",
   "id": "e5f80fb6-2cb5-4173-85eb-a55c136a8ba0",
   "metadata": {},
   "source": [
    "<h2 style=\"background-color: #24043d; color: white; padding: 12px;\">\n",
    "    7. Implicación lógica\n",
    "</h2>"
   ]
  },
  {
   "cell_type": "markdown",
   "id": "10b3d20a-698a-48d4-9428-51f63ea3bea5",
   "metadata": {},
   "source": [
    "<p style=\"background-color: #C483F7; color: black; padding: 12px;\">\n",
    "    Definición: La implicación lógica, también conocida como \"condicional\", es una relación entre dos proposiciones P y Q.\n",
    "    Se denota como <b>⇒</b>, <b>P⇒Q</b> <br> o simplemente <b>P Implica Q.</b>\n",
    "</p>"
   ]
  },
  {
   "cell_type": "markdown",
   "id": "eccfb353-5461-40a7-927d-000a3dd376e4",
   "metadata": {},
   "source": [
    "<pre>\n",
    "<b>Afirmo que:</b>   si llueve, entonces llevaré paraguas.\n",
    "<b>Lo que pasa:</b>  llueve y llevo paraguas\n",
    "              llueve y no llevo paraguas\n",
    "              si no llueve y llevo paraguas\n",
    "              si no llueve y no llevo paraguas\n",
    "</pre>"
   ]
  },
  {
   "cell_type": "markdown",
   "id": "bd2f0068-5a63-47fb-9d80-99bc832afe0f",
   "metadata": {},
   "source": [
    "| Afirmo que si llueve | entonces llevaré paraguas | P => Q |\n",
    "|---|---|--------|\n",
    "| Llueve | llevo paraguas |   Verdadero    |\n",
    "| Llueve | no llevo paraguas |   Falso    |\n",
    "| No llueve | llevo paraguas |   Verdadero    |\n",
    "| No llueve | no llevo paraguas |   Verdadero    |"
   ]
  },
  {
   "cell_type": "markdown",
   "id": "6f20c87f-735c-48d6-b91a-8d2d097d2ca4",
   "metadata": {},
   "source": [
    "##### **Tabla de verdad 2.5.**"
   ]
  },
  {
   "cell_type": "markdown",
   "id": "73aeb963-58cf-4980-bc19-4cb6b2bba263",
   "metadata": {},
   "source": [
    "| P | Q | P => Q |\n",
    "|---|---|--------|\n",
    "| V | V |&nbsp;&nbsp;&nbsp;&nbsp;   V    |\n",
    "| V | F |&nbsp;&nbsp;&nbsp;&nbsp;   F    |\n",
    "| F | V |&nbsp;&nbsp;&nbsp;&nbsp;   V    |\n",
    "| F | F |&nbsp;&nbsp;&nbsp;&nbsp;   V    |\n"
   ]
  },
  {
   "cell_type": "markdown",
   "id": "d324bfcf-85ce-48db-baaa-2a238dedb425",
   "metadata": {},
   "source": [
    "<h2 style=\"background-color: #24043d; color: white; padding: 12px;\">\n",
    "    8.Operaciones y Operadores Booleanos\n",
    "</h2>"
   ]
  },
  {
   "cell_type": "markdown",
   "id": "eebb7733-3431-4a62-84ff-e6692f777d60",
   "metadata": {},
   "source": [
    "### **8.1. Operadores de Comparación**:"
   ]
  },
  {
   "cell_type": "markdown",
   "id": "23c92140-cc56-4bca-9af1-b22a03c4097e",
   "metadata": {},
   "source": [
    "##### **Los operadores de comparación se utilizan para comparar dos valores y devolver un booleano que indica si la comparación es verdadera o falsa.**"
   ]
  },
  {
   "cell_type": "markdown",
   "id": "6e520eec-908e-4f24-9e93-b8d454b3a07e",
   "metadata": {},
   "source": [
    "- **`==`** (igual a)\n",
    "- **`!=`** (distinto de)\n",
    "- **`<`** (menor que)\n",
    "- **`\\>`** (mayor que)\n",
    "- **`<=`** (menor o igual que)\n",
    "- **`\\>=`** (mayor o igual que)\n"
   ]
  },
  {
   "cell_type": "markdown",
   "id": "9e34cd9b-d2fd-4209-8683-1ab6020134c5",
   "metadata": {},
   "source": [
    "### **8.2. Operadores Lógicos**"
   ]
  },
  {
   "cell_type": "markdown",
   "id": "8837a8aa-368f-42cb-a9d4-e694a5916ff7",
   "metadata": {},
   "source": [
    "##### **Los operadores lógicos se utilizan para combinar o modificar valores booleanos. Algunos de los operadores lógicos en Python son:**"
   ]
  },
  {
   "cell_type": "markdown",
   "id": "a09e753a-ec1b-463c-b582-dacbb52fe3e6",
   "metadata": {},
   "source": [
    "**`and`** (y lógico)\n",
    "**`or`** (o lógico)\n",
    "**`not`** (negación lógica)"
   ]
  },
  {
   "cell_type": "markdown",
   "id": "2ff1010f-704b-408b-8529-da524413da3d",
   "metadata": {},
   "source": [
    "### **8.3. Operadores de pertenencia**"
   ]
  },
  {
   "cell_type": "markdown",
   "id": "77654eea-e2a8-41ce-ba38-ebcf77ea467c",
   "metadata": {},
   "source": [
    "##### **Los operadores de pertenencia en Python se utilizan para verificar si un valor está presente en una secuencia o contenedor de datos, como una lista, tupla, conjunto, diccionario o cadena. Los operadores de pertenencia son: `in` y `not in`.**\n"
   ]
  },
  {
   "cell_type": "markdown",
   "id": "d96ddf08-697c-4566-9b87-68e9b738102d",
   "metadata": {},
   "source": [
    "### **8.4. Funciones Integradas**"
   ]
  },
  {
   "cell_type": "markdown",
   "id": "0793040f-05f7-4022-8fd7-f414f5cec0d1",
   "metadata": {},
   "source": [
    "##### **Python también proporciona algunas funciones integradas que trabajan con valores booleanos, como `all()`, `any()` y `bool()`.**"
   ]
  },
  {
   "cell_type": "code",
   "execution_count": null,
   "id": "6fe8392a-fb73-4222-b7d9-8ab35911dba8",
   "metadata": {},
   "outputs": [],
   "source": []
  },
  {
   "cell_type": "markdown",
   "id": "2078fa4d-68e3-4153-b037-21f844ace028",
   "metadata": {},
   "source": [
    "<h4 style=\"background-color: #E7E118; color: black; padding: 12px;\">\n",
    "   Importante!\n",
    "</h4>"
   ]
  },
  {
   "cell_type": "markdown",
   "id": "a4faf56e-955b-40a7-bb2a-28210b47d555",
   "metadata": {},
   "source": [
    "##### **&#8544;) Dominar las tablas de verdad: Las tablas de verdad son herramientas fundamentales en la lógica proposicional y en programación. Las tablas de verdad permiten evaluar el valor de verdad de una proposición compleja si tenemos claro los valores de las partes que la componen. Es importante dominar la construcción y la interpretación de las tablas de verdad para entender completamente el comportamiento de las expresiones lógicas.**"
   ]
  },
  {
   "cell_type": "markdown",
   "id": "e495ee11-6f8f-43a9-8a59-1531adc138f2",
   "metadata": {},
   "source": [
    "##### **&#8545;) Resolución de problemas: La lógica proposicional ayuda a los programadores a pensar de forma lógica y sistemática para resolver problemas complejos.**"
   ]
  },
  {
   "cell_type": "code",
   "execution_count": null,
   "id": "14de4736-ec9e-4a3b-b78f-6472866241bb",
   "metadata": {},
   "outputs": [],
   "source": []
  }
 ],
 "metadata": {
  "kernelspec": {
   "display_name": "Python 3 (ipykernel)",
   "language": "python",
   "name": "python3"
  },
  "language_info": {
   "codemirror_mode": {
    "name": "ipython",
    "version": 3
   },
   "file_extension": ".py",
   "mimetype": "text/x-python",
   "name": "python",
   "nbconvert_exporter": "python",
   "pygments_lexer": "ipython3",
   "version": "3.11.8"
  }
 },
 "nbformat": 4,
 "nbformat_minor": 5
}
