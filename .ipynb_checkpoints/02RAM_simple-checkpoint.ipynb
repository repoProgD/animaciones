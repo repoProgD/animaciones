{
 "cells": [
  {
   "cell_type": "code",
   "execution_count": 1,
   "id": "30ca9c0d-f4da-4735-bcab-1b59c0939e1e",
   "metadata": {},
   "outputs": [
    {
     "data": {
      "text/html": [
       "<pre style=\"white-space:pre;overflow-x:auto;line-height:normal;font-family:Menlo,'DejaVu Sans Mono',consolas,'Courier New',monospace\"><span style=\"color: #7fbfbf; text-decoration-color: #7fbfbf\">[03/03/24 14:20:52] </span><span style=\"color: #800000; text-decoration-color: #800000\">WARNING </span> Missing Plugins: <span style=\"font-weight: bold\">{</span><span style=\"color: #008000; text-decoration-color: #008000\">''</span><span style=\"font-weight: bold\">}</span>                                                   <a href=\"file://C:\\Users\\Diego\\anaconda3\\envs\\animaciones\\Lib\\site-packages\\manim\\plugins\\__init__.py\" target=\"_blank\"><span style=\"color: #7f7f7f; text-decoration-color: #7f7f7f\">__init__.py</span></a><span style=\"color: #7f7f7f; text-decoration-color: #7f7f7f\">:</span><a href=\"file://C:\\Users\\Diego\\anaconda3\\envs\\animaciones\\Lib\\site-packages\\manim\\plugins\\__init__.py#17\" target=\"_blank\"><span style=\"color: #7f7f7f; text-decoration-color: #7f7f7f\">17</span></a>\n",
       "</pre>\n"
      ],
      "text/plain": [
       "\u001b[2;36m[03/03/24 14:20:52]\u001b[0m\u001b[2;36m \u001b[0m\u001b[31mWARNING \u001b[0m Missing Plugins: \u001b[1m{\u001b[0m\u001b[32m''\u001b[0m\u001b[1m}\u001b[0m                                                   \u001b]8;id=114434;file://C:\\Users\\Diego\\anaconda3\\envs\\animaciones\\Lib\\site-packages\\manim\\plugins\\__init__.py\u001b\\\u001b[2m__init__.py\u001b[0m\u001b]8;;\u001b\\\u001b[2m:\u001b[0m\u001b]8;id=679375;file://C:\\Users\\Diego\\anaconda3\\envs\\animaciones\\Lib\\site-packages\\manim\\plugins\\__init__.py#17\u001b\\\u001b[2m17\u001b[0m\u001b]8;;\u001b\\\n"
      ]
     },
     "metadata": {},
     "output_type": "display_data"
    }
   ],
   "source": [
    "from manim import *"
   ]
  },
  {
   "cell_type": "code",
   "execution_count": 2,
   "id": "5f1b55ef-86e3-4558-ad8e-453e94d27da2",
   "metadata": {},
   "outputs": [],
   "source": [
    "config.media_width = \"75%\"\n",
    "config.verbosity = \"WARNING\""
   ]
  },
  {
   "cell_type": "code",
   "execution_count": 83,
   "id": "a7775e1c-3426-4e38-9598-432e1522edbe",
   "metadata": {
    "scrolled": true
   },
   "outputs": [
    {
     "data": {
      "text/html": [
       "<pre style=\"white-space:pre;overflow-x:auto;line-height:normal;font-family:Menlo,'DejaVu Sans Mono',consolas,'Courier New',monospace\">Manim Community <span style=\"color: #008000; text-decoration-color: #008000\">v0.18.0</span>\n",
       "\n",
       "</pre>\n"
      ],
      "text/plain": [
       "Manim Community \u001b[32mv0.\u001b[0m\u001b[32m18.0\u001b[0m\n",
       "\n"
      ]
     },
     "metadata": {},
     "output_type": "display_data"
    },
    {
     "name": "stderr",
     "output_type": "stream",
     "text": [
      "                                                                                                         \r"
     ]
    },
    {
     "data": {
      "text/html": [
       "<video src=\"media\\jupyter\\GridAnimation@2024-03-02@23-20-41.mp4\" controls autoplay loop style=\"max-width: 75%;\"  >\n",
       "      Your browser does not support the <code>video</code> element.\n",
       "    </video>"
      ],
      "text/plain": [
       "<IPython.core.display.Video object>"
      ]
     },
     "metadata": {},
     "output_type": "display_data"
    }
   ],
   "source": [
    "%%manim -ql GridAnimation\n",
    "\n",
    "class GridAnimation(Scene):\n",
    "    config.background_color = \"#24043d\"\n",
    "    def construct(self):\n",
    "\n",
    "        # Crear un texto\n",
    "        text = Text(\"Almacenamiento en memoria\").scale(1.2)\n",
    "\n",
    "        # Hacer que el texto aparezca gradualmente\n",
    "        self.play(FadeIn(text, run_time=2.0))\n",
    "        self.wait(1)\n",
    "        self.play(FadeOut(text, run_time=2.0))\n",
    "        \n",
    "        rows = 4\n",
    "        cols = 10\n",
    "        side_length = 0.8  # Tamaño de los cuadrados de la grilla\n",
    "\n",
    "        # Crear la grilla\n",
    "        grid = VGroup(*[\n",
    "            VGroup(*[Square(side_length=side_length, fill_opacity=0, stroke_color=WHITE, stroke_width=1).shift(\n",
    "                (x - cols / 2) * side_length * RIGHT + (y - rows / 2) * side_length * UP) for y in range(rows)]) for x in range(cols)\n",
    "        ])\n",
    "\n",
    "        # Crear  animar texto para la grilla\n",
    "        text_ram = Text(\"Memoria RAM\").scale(0.75)\n",
    "        text_ram.move_to(2 * UP)  # Colocar el texto \"x = \" 3 arriba y 3 a la izquierda\n",
    "        self.play(Write(text_ram))\n",
    "        self.play(text_ram.animate.shift(4 * RIGHT), grid.animate.shift(1.7 * DOWN), run_time=2)\n",
    "        self.play(text_ram.animate.shift(2 * DOWN), grid.animate.shift(2.25 * RIGHT), run_time=2)\n",
    "        \n",
    "\n",
    "        # crear declaración de variables\n",
    "        text_var = Text(\"Variables\").scale(0.75)\n",
    "        text_var.move_to(3 * UP + 6 * LEFT)\n",
    "        self.play(Write(text_var))\n",
    "        \n",
    "        var_uno = Text(\"x = 10\").scale(0.7)\n",
    "        var_uno.next_to(text_var, 2 * DOWN)\n",
    "        self.play(Write(var_uno))\n",
    "\n",
    "        var_dos = Text(\"y = 2\").scale(0.7)\n",
    "        var_dos.next_to(var_uno, DOWN)  # Colocar el texto \"x = \" a la derecha de la \n",
    "        self.play(Write(var_dos))\n",
    "\n",
    "        var_tres = Text(\"s = h\").scale(0.7)\n",
    "        var_tres.next_to(var_dos, DOWN)  # Colocar el texto \"s = \" a la derecha de la \"y\"\n",
    "        self.play(Write(var_tres))\n",
    "        \n",
    "        # Crear el texto \"x = \" y animarlo\n",
    "        text_x = Text(\"x = \").scale(0.7)\n",
    "        text_x.move_to(3 * UP)  # Colocar el texto \"x = \" 3 arriba \n",
    "        self.play(Write(text_x))\n",
    "\n",
    "        # Crear el texto \"10\" y animarlo\n",
    "        text_10 = Text(\"10\").scale(0.7)\n",
    "        text_10.next_to(text_x, RIGHT)  # Posicionar el texto \"10\" a la derecha de \"x = \"\n",
    "        self.play(Write(text_10))\n",
    "\n",
    "        # Crear un cuadrado de color celeste\n",
    "        square = Square(side_length=side_length, stroke_color=BLUE, stroke_width=4)\n",
    "        square.next_to(text_10, RIGHT * 2)  # Posicionar el cuadrado a la derecha del texto \"10\"\n",
    "        self.play(Create(square))\n",
    "\n",
    "        # Desvanecer el signo igual\n",
    "        self.play(FadeOut(text_x[1]))  # El signo igual es el segundo elemento del texto \"x = \"\n",
    "\n",
    "        # Mover el texto \"10\" al centro del cuadrado\n",
    "        self.play(text_10.animate.move_to(square.get_center()))\n",
    "\n",
    "        # Elegir una posición de la grilla\n",
    "        target_square = grid[2][2]  # Por ejemplo, el cuadrado en la fila 2, columna 2\n",
    "\n",
    "        # Mover el cuadrado azul a la posición de la grilla y unirlo al texto \"10\"\n",
    "        self.play(square.animate.move_to(target_square), text_10.animate.move_to(target_square))\n",
    "\n",
    "        arrow = Arrow(text_x.get_bottom(), square.get_center(), color=WHITE)\n",
    "\n",
    "        self.play(GrowArrow(arrow))\n",
    "\n",
    "        ### Segunda variable\n",
    "        \n",
    "        # Crear el texto \"y = \" y animarlo\n",
    "        text_y = Text(\"y = \").scale(0.7)\n",
    "        text_y.next_to(text_x, RIGHT)  # Colocar el texto \"x = \" a la derecha de la \n",
    "        self.play(Write(text_y))\n",
    "\n",
    "        # Crear el texto \"2\" y animarlo\n",
    "        text_2 = Text(\"2\").scale(0.7)\n",
    "        text_2.next_to(text_y, RIGHT)  # Posicionar el texto \"10\" a la derecha de \"x = \"\n",
    "        self.play(Write(text_2))\n",
    "\n",
    "        # Crear un cuadrado de color celeste\n",
    "        square2 = Square(side_length=side_length, stroke_color=BLUE, stroke_width=4)\n",
    "        square2.next_to(text_2, RIGHT * 2)  # Posicionar el cuadrado a la derecha del texto \"2\"\n",
    "        self.play(Create(square2))\n",
    "\n",
    "        # Desvanecer el signo igual\n",
    "        self.play(FadeOut(text_y[1]))  # El signo igual es el segundo elemento del texto \"y = \"\n",
    "\n",
    "        # Mover el texto \"2\" al centro del cuadrado\n",
    "        self.play(text_2.animate.move_to(square2.get_center()))\n",
    "\n",
    "        # Elegir una posición de la grilla\n",
    "        target_square = grid[4][3]  # Por ejemplo, el cuadrado en la fila 4, columna 2\n",
    "\n",
    "        # Mover el cuadrado azul a la posición de la grilla y unirlo al texto \"2\"\n",
    "        self.play(square2.animate.move_to(target_square), text_2.animate.move_to(target_square))\n",
    "\n",
    "        arrow2 = Arrow(text_y.get_bottom(), square2.get_center(), color=WHITE)\n",
    "\n",
    "        self.play(GrowArrow(arrow2))\n",
    "\n",
    "\n",
    "        # Crear el texto \"s = \" y animarlo\n",
    "        text_s = Text(\"s = \").scale(0.7)\n",
    "        text_s.next_to(text_y, RIGHT)  # Colocar el texto \"s = \" a la derecha de la \"y\"\n",
    "        self.play(Write(text_s))\n",
    "\n",
    "        # Crear el texto \"hola\" y animarlo\n",
    "        text_h = Text(\"h\").scale(0.7)\n",
    "        text_h.next_to(text_s, RIGHT)  # Posicionar el texto \"hola\" a la derecha de \"s = \"\n",
    "        self.play(Write(text_h))\n",
    "\n",
    "        # Crear un cuadrado de color verde\n",
    "        square3 = Square(side_length=side_length, stroke_color=GREEN, stroke_width=4)\n",
    "        square3.next_to(text_h, RIGHT * 2)  # Posicionar el cuadrado a la derecha del texto \"2\"\n",
    "        self.play(Create(square3))\n",
    "\n",
    "        # Desvanecer el signo igual\n",
    "        self.play(FadeOut(text_s[1]))  # El signo igual es el segundo elemento del texto \"x = \"\n",
    "\n",
    "        # Mover el texto \"s\" al centro del cuadrado\n",
    "        self.play(text_h.animate.move_to(square3.get_center()))\n",
    "\n",
    "        # Elegir una posición de la grilla\n",
    "        target_square = grid[5][1]  # Por ejemplo, el cuadrado en la fila 5, columna 1\n",
    "\n",
    "        # Mover el cuadrado azul a la posición de la grilla y unirlo al texto \"10\"\n",
    "        self.play(square3.animate.move_to(target_square), text_h.animate.move_to(target_square))\n",
    "\n",
    "        arrow3 = Arrow(text_s.get_bottom(), square3.get_center(), color=WHITE)\n",
    "\n",
    "        self.play(GrowArrow(arrow3))\n",
    "\n",
    "        \n",
    "        text_exe = Text(\"Ejecución:\").scale(0.7)\n",
    "        text_exe.move_to(6 * LEFT)  # Colocar el texto \"x = \" 3 arriba y 3 a la izquierda\n",
    "        self.play(Write(text_exe))\n",
    "        \n",
    "        text_suma = Text(\"sum = \").scale(0.7)\n",
    "        text_suma.next_to(text_exe, 2 * DOWN)  # Colocar el texto \"x = \" 3 arriba y 3 a la izquierda\n",
    "        self.play(Write(text_suma))\n",
    "        \n",
    "        text_xsum = Text(\"x\").scale(0.7)\n",
    "        text_xsum.next_to(text_suma, RIGHT)\n",
    "        self.play(Write(text_xsum))\n",
    "        \n",
    "        text_mas = Text(\" + \").scale(0.7)\n",
    "        text_mas.next_to(text_xsum, RIGHT)\n",
    "        self.play(Write(text_mas))\n",
    "        \n",
    "        text_ysum = Text(\"y\").scale(0.7)\n",
    "        text_ysum.next_to(text_mas, RIGHT)\n",
    "        self.play(Write(text_ysum))\n",
    "\n",
    "        text_suma2 = Text(\"sum = \").scale(0.7)\n",
    "        text_suma2.next_to(text_suma,2 * DOWN)\n",
    "        self.play(Write(text_suma2))\n",
    "\n",
    "        text_mas2 = text_mas.copy()\n",
    "        text_mas2.next_to(text_suma2, RIGHT * 3.25)\n",
    "        self.play(Write(text_mas2))\n",
    "        \n",
    "        # crear línea punteada\n",
    "\n",
    "        dashed_line1 = DashedLine(text_xsum, text_x, color=BLUE)\n",
    "        self.wait(0.2)\n",
    "\n",
    "        # Animar la línea punteada\n",
    "        self.play(Create(dashed_line1), run_time=1)\n",
    "        self.wait(0.2)\n",
    "        self.play(FadeOut(dashed_line1))\n",
    "        self.wait(0.2)\n",
    "\n",
    "        # guiño flecha tras la llegada de la línea punteada\n",
    "        self.play(FadeOut(arrow))\n",
    "        self.wait(0.1)\n",
    "        self.play(FadeIn(arrow))\n",
    "        self.wait(0.1)\n",
    "        \n",
    "        # crear la copia del número 10 almacenado en la memoria\n",
    "        text_r10 = text_10.copy()\n",
    "\n",
    "        # Animar la copia para que se mueva next_to text_suma2\n",
    "        self.play(text_r10.animate.next_to(text_suma2, RIGHT)) \n",
    "\n",
    "        dashed_line1 = DashedLine(text_ysum, text_y, color=BLUE)\n",
    "        self.wait(0.2)\n",
    "\n",
    "        # Animar la línea punteada\n",
    "        self.play(Create(dashed_line1), run_time=1)\n",
    "        self.wait(0.2)\n",
    "        self.play(FadeOut(dashed_line1))\n",
    "        self.wait(0.2)\n",
    "\n",
    "        # guiño flecha tras la llegada de la línea punteada\n",
    "        self.play(FadeOut(arrow2))\n",
    "        self.wait(0.1)\n",
    "        self.play(FadeIn(arrow2))\n",
    "        self.wait(0.1)\n",
    "        # crear la copia del número 2 almacenado en la memoria\n",
    "        text_r2 = text_2.copy()\n",
    "\n",
    "        # Animar la copia para que se mueva next_to text_suma2\n",
    "        self.play(text_r2.animate.next_to(text_mas2, RIGHT)) \n",
    "\n",
    "        # salida \n",
    "        text_out = Text(\">>> 12\").scale(0.7)\n",
    "        text_out.next_to(text_suma2, 2 * DOWN)\n",
    "        self.play(Write(text_out))\n",
    "\n",
    "        self.wait(3)\n"
   ]
  },
  {
   "cell_type": "code",
   "execution_count": null,
   "id": "12c76066-5044-428e-89b5-48b5e617d659",
   "metadata": {},
   "outputs": [],
   "source": []
  },
  {
   "cell_type": "code",
   "execution_count": null,
   "id": "77449696-898a-4569-aced-88029afa5b17",
   "metadata": {},
   "outputs": [],
   "source": []
  },
  {
   "cell_type": "code",
   "execution_count": 124,
   "id": "5e31ae9d-fd07-4b46-bca1-88301280f218",
   "metadata": {},
   "outputs": [
    {
     "data": {
      "text/html": [
       "<pre style=\"white-space:pre;overflow-x:auto;line-height:normal;font-family:Menlo,'DejaVu Sans Mono',consolas,'Courier New',monospace\">Manim Community <span style=\"color: #008000; text-decoration-color: #008000\">v0.18.0</span>\n",
       "\n",
       "</pre>\n"
      ],
      "text/plain": [
       "Manim Community \u001b[32mv0.\u001b[0m\u001b[32m18.0\u001b[0m\n",
       "\n"
      ]
     },
     "metadata": {},
     "output_type": "display_data"
    },
    {
     "name": "stdout",
     "output_type": "stream",
     "text": [
      "bajar -0.0031225604996096834 derecha 0.011111111111111072\n"
     ]
    },
    {
     "data": {
      "image/png": "[encoded data removed]",
      "text/plain": [
       "<IPython.core.display.Image object>"
      ]
     },
     "metadata": {},
     "output_type": "display_data"
    }
   ],
   "source": [
    "%%manim -ql Grilla\n",
    "config.background_color = \"#24043d\"\n",
    "class Grilla(Scene):\n",
    "    def construct(self):\n",
    "        ancho = self.camera.frame_width\n",
    "        alto = self.camera.frame_height\n",
    "            \n",
    "            \n",
    "        cuadrados = VGroup(\n",
    "            *[Square(side_length=0.6) for _ in range(98)]\n",
    "            ).arrange_in_grid(rows=7, cols=14, buff = 0)  #, buff=MED_LARGE_BUFF)\n",
    "        self.add(cuadrados)\n",
    "\n",
    "        for cuadrado in cuadrados:\n",
    "            cuadrado.set_color(BLACK)\n",
    "            cuadrado.set_fill(\"#4B4B4B\", opacity=1)#(\"#4D4D55\", opacity =1)\n",
    "            cuadrado.set_stroke(color=BLACK, width=1)\n",
    "            \n",
    "        circulos = VGroup(\n",
    "            *[Circle(radius=0.2) for _ in range(98)]\n",
    "        ).arrange_in_grid(rows=7, cols=14, buff=0.2)\n",
    "        self.add(circulos)\n",
    "        \n",
    "        for circle in circulos:\n",
    "            circle.set_color(BLACK)#(\"#DEDDDD\")\n",
    "            circle.set_fill(BLACK, opacity=1)#(\"#DEDDDD\", opacity=1)\n",
    "\n",
    "        grilla = VGroup(*[cuadrados, circulos])\n",
    "        #####################################################\n",
    "        grilla.move_to(1.9 * DOWN + 2.9 * RIGHT)\n",
    "\n",
    "        primeros = [grilla[0][:14], grilla[1][:14]]\n",
    "        pila = VGroup(*[primeros[0], primeros[1]])\n",
    "        pila.move_to(2 * UP + 2.9 * RIGHT)\n",
    "\n",
    "        pila[1][0].set_color(WHITE)\n",
    "\n",
    "        circulos[15].set_color(\"#F80D19\")#F20DAD\")\n",
    "        circulos[28].set_color(BLUE)\n",
    "        equis = Text(\"x\").scale(0.55).set_color(BLACK)\n",
    "        cinco = Text(\"5\").scale(0.55).set_color(BLACK)\n",
    "        hache = Text(\"5\").scale(0.55).set_color(WHITE)\n",
    "        \n",
    "        cinco.next_to(cuadrados[28].get_left() + LEFT * 0.085)\n",
    "        hache.next_to(cuadrados[15].get_left() + LEFT * 0.09)\n",
    "        equis.next_to(pila[0].get_left() + LEFT * 0.09)\n",
    "        self.add(cinco, hache, equis)\n",
    "        \n",
    "        distancia_fondo = cuadrados.get_bottom()[1] - (ORIGIN - alto/2)\n",
    "        distancia_derecha = ancho/2 - cuadrados.get_right()[0] \n",
    "\n",
    "        print(f\"bajar {distancia_fondo[1]} derecha {distancia_derecha}\")"
   ]
  },
  {
   "cell_type": "code",
   "execution_count": null,
   "id": "23e90aef-4c14-42ab-bc2f-d18ba9dfcee6",
   "metadata": {},
   "outputs": [],
   "source": []
  },
  {
   "cell_type": "code",
   "execution_count": 102,
   "id": "5fd70a9b-7480-4486-b206-a7e9ee8defc1",
   "metadata": {},
   "outputs": [
    {
     "ename": "IndentationError",
     "evalue": "unexpected indent (1112021644.py, line 2)",
     "output_type": "error",
     "traceback": [
      "\u001b[1;36m  Cell \u001b[1;32mIn[102], line 2\u001b[1;36m\u001b[0m\n\u001b[1;33m    grilla.move_to(4 * DOWN + 3.361 * RIGHT)\u001b[0m\n\u001b[1;37m    ^\u001b[0m\n\u001b[1;31mIndentationError\u001b[0m\u001b[1;31m:\u001b[0m unexpected indent\n"
     ]
    }
   ],
   "source": [
    "grilla = VGroup(*[cuadrados, circulos])\n",
    "        grilla.move_to(4 * DOWN + 3.361 * RIGHT)\n",
    "        \n",
    "        \n",
    "\n",
    "        \n",
    "        circulos[15].set_color(\"F80D19\")#(\"#18E730\")\n",
    "        circulos[28].set_color(BLUE)\n",
    "        cinco = Text(\"5\").scale(0.4).set_color(BLACK)\n",
    "        hache = Text(\"h\").scale(0.4).set_color(BLACK)\n",
    "        self.add(cinco, hache)\n",
    "        cinco.next_to(cuadrados[28].get_left() + LEFT * 0.07)\n",
    "        hache.next_to(cuadrados[15].get_left() + LEFT * 0.07)\n",
    "        distancia_fondo = cuadrados.get_bottom()[0] - (ORIGIN - alto/2)\n",
    "        distancia_derecha = ancho/2 - cuadrados.get_right()[0] \n",
    "\n",
    "        print(f\"bajar {distancia_fondo[1]} derecha {distancia_derecha}\")"
   ]
  },
  {
   "cell_type": "code",
   "execution_count": null,
   "id": "609e5708-809c-452a-9667-866e2ce09a64",
   "metadata": {},
   "outputs": [],
   "source": []
  },
  {
   "cell_type": "code",
   "execution_count": null,
   "id": "c17143cc-e371-4844-9e05-b029b09bb0f8",
   "metadata": {},
   "outputs": [],
   "source": []
  },
  {
   "cell_type": "code",
   "execution_count": 146,
   "id": "9eb7c26c-ee23-44d9-833e-bcef5eda5fb4",
   "metadata": {},
   "outputs": [
    {
     "data": {
      "text/html": [
       "<pre style=\"white-space:pre;overflow-x:auto;line-height:normal;font-family:Menlo,'DejaVu Sans Mono',consolas,'Courier New',monospace\">Manim Community <span style=\"color: #008000; text-decoration-color: #008000\">v0.18.0</span>\n",
       "\n",
       "</pre>\n"
      ],
      "text/plain": [
       "Manim Community \u001b[32mv0.\u001b[0m\u001b[32m18.0\u001b[0m\n",
       "\n"
      ]
     },
     "metadata": {},
     "output_type": "display_data"
    },
    {
     "name": "stderr",
     "output_type": "stream",
     "text": [
      "                                                                                              \r"
     ]
    },
    {
     "data": {
      "text/html": [
       "<video src=\"media\\jupyter\\GridAnimation@2024-03-03@23-19-27.mp4\" controls autoplay loop style=\"max-width: 75%;\"  >\n",
       "      Your browser does not support the <code>video</code> element.\n",
       "    </video>"
      ],
      "text/plain": [
       "<IPython.core.display.Video object>"
      ]
     },
     "metadata": {},
     "output_type": "display_data"
    }
   ],
   "source": [
    "%%manim -ql GridAnimation\n",
    "\n",
    "class GridAnimation(Scene):\n",
    "    config.background_color = \"#24043d\"\n",
    "    def construct(self):\n",
    "\n",
    "        ancho = self.camera.frame_width\n",
    "        alto = self.camera.frame_height\n",
    "\n",
    "        # Crear un texto\n",
    "        intro = Text(\"Almacenamiento en memoria\").scale(1.2)\n",
    "\n",
    "        # Hacer que el texto aparezca gradualmente\n",
    "        self.play(FadeIn(intro, run_time=2.0))\n",
    "        self.wait(1)\n",
    "        self.play(FadeOut(intro, run_time=2.0))\n",
    "        \n",
    "       \n",
    "\n",
    "        #################### Crear la grilla####################\n",
    "            \n",
    "        cuadrados = VGroup(\n",
    "            *[Square(side_length=0.6) for _ in range(98)]\n",
    "            ).arrange_in_grid(rows=7, cols=14, buff = 0)  #, buff=MED_LARGE_BUFF)\n",
    "        self.add(cuadrados)\n",
    "\n",
    "        for cuadrado in cuadrados:\n",
    "            cuadrado.set_color(BLACK)\n",
    "            cuadrado.set_fill(\"#4B4B4B\", opacity=1)#(\"#4D4D55\", opacity =1)\n",
    "            cuadrado.set_stroke(color=BLACK, width=1)\n",
    "            \n",
    "        circulos = VGroup(\n",
    "            *[Circle(radius=0.2) for _ in range(98)]\n",
    "        ).arrange_in_grid(rows=7, cols=14, buff=0.2)\n",
    "        self.add(circulos)\n",
    "        \n",
    "        for circle in circulos:\n",
    "            circle.set_color(BLACK)#(\"#DEDDDD\")\n",
    "            circle.set_fill(BLACK, opacity=1)#(\"#DEDDDD\", opacity=1)\n",
    "\n",
    "        grilla = VGroup(*[cuadrados, circulos])\n",
    "        \n",
    "        #####################################################\n",
    "        grilla.move_to(1.9 * DOWN + 2.9 * RIGHT)\n",
    "\n",
    "        primeros = [grilla[0][:14], grilla[1][:14]]\n",
    "        pila = VGroup(*[primeros[0], primeros[1]])\n",
    "        pila.move_to(2 * UP + 2.9 * RIGHT)\n",
    "\n",
    "        pila[1][0].set_color(WHITE)\n",
    "\n",
    "        \n",
    "        circulos[28].set_color(BLUE)\n",
    "        #equis = Text(\"x\").scale(0.55).set_color(BLACK)\n",
    "        #cinco = Text(\"5\").scale(0.55).set_color(BLACK)\n",
    "        #hache = Text(\"5\").scale(0.55).set_color(WHITE)\n",
    "        \n",
    "        #cinco.next_to(cuadrados[28].get_left() + LEFT * 0.085)\n",
    "        #hache.next_to(cuadrados[15].get_left() + LEFT * 0.09)\n",
    "       # equis.next_to(pila[0].get_left() + LEFT * 0.09)\n",
    "       # self.add(cinco, hache, equis)\n",
    "\n",
    "        ############################################# crear declaración de variables\n",
    "        text_var = Text(\"Variables\").scale(0.75)\n",
    "        text_var.move_to(3 * UP + 6 * LEFT)\n",
    "        self.play(Write(text_var))\n",
    "        \n",
    "        var_uno = Text(\"x = 5\").scale(0.7)\n",
    "        var_uno.next_to(text_var, 2 * DOWN)\n",
    "        self.play(Write(var_uno))\n",
    "    \n",
    "        var_dos = Text(\"y = 2\").scale(0.7)\n",
    "        var_dos.next_to(var_uno, DOWN)  # Colocar el texto \"x = \" a la derecha de la \n",
    "        self.play(Write(var_dos))\n",
    "\n",
    "        var_tres = Text(\"s = h\").scale(0.7)\n",
    "        var_tres.next_to(var_dos, DOWN)  # Colocar el texto \"s = \" a la derecha de la \"y\"\n",
    "        self.play(Write(var_tres))\n",
    "        \n",
    "        ### Crear explicaciones \n",
    "        # Crear el texto \"x = \" y animarlo\n",
    "        text_x = Text(\"x = \").scale(0.7)\n",
    "        text_x.next_to(var_uno.get_right() + RIGHT * 0.75)  # Colocar el texto \"x = \" 3 arriba \n",
    "        self.play(Write(text_x))\n",
    "\n",
    "        # Crear el texto \"10\" y animarlo\n",
    "        text_5 = Text(\"5\").scale(0.7)\n",
    "        text_5.next_to(text_x.get_right() + RIGHT * 0.35)  # Posicionar el texto \"10\" a la derecha de \"x = \"\n",
    "        self.play(Write(text_5))\n",
    "\n",
    "        #crear flecha entre \"x\" y \"5\" \n",
    "        flecha_x = Arrow(text_x.get_center(), text_5.get_center())\n",
    "\n",
    "        # reemplazar flecha por signo igual\n",
    "        self.play(Unwrite(text_x[1]))  # El signo igual es el segundo elemento del texto \"x = \"\n",
    "        self.play(GrowArrow(flecha_x))\n",
    "        \n",
    "        # asignarle un espacio en memoria a \"5\"\n",
    "        \n",
    "        for i in range(3):\n",
    "            self.play(Indicate(circulos[15]))\n",
    "        circulos[15].set_color(\"#E916D0\")#F20DAD\")\n",
    "        \n",
    "        self.play(text_5.animate.next_to(cuadrados[15].get_left() + LEFT * 0.08))\n",
    "        # asignar lugar a x\n",
    "        circulos[0].set_color(\"#F80D19\")\n",
    "        self.play(text_x.animate.next_to(cuadrados[0].get_left() + LEFT * 0.08))\n",
    "\n",
    "        flecha_x2 = Arrow(text_x.get_left() + RIGHT * 0.1, text_5.get_center())\n",
    "        self.play(Transform(flecha_x, flecha_x2))\n",
    "        \n",
    "        ### Segunda variable\n",
    "        \n",
    "        # Crear el texto \"y = \" y animarlo\n",
    "        text_y = Text(\"y = \").scale(0.7)\n",
    "        text_y.next_to(var_dos.get_right() + RIGHT * 0.75)  # Colocar el texto \"x = \" a la derecha de la \n",
    "        self.play(Write(text_y))\n",
    "\n",
    "        # Crear el texto \"2\" y animarlo\n",
    "        text_2 = Text(\"2\").scale(0.7)\n",
    "        text_2.next_to(text_y.get_right() + RIGHT * 0.35)  # Posicionar el texto \"10\" a la derecha de \"x = \"\n",
    "        self.play(Write(text_2))\n",
    "   \n",
    "\n",
    "        # Desvanecer el signo igual\n",
    "        self.play(FadeOut(text_y[1]))  # El signo igual es el segundo elemento del texto \"y = \"\n",
    "\n",
    "\n",
    "        # Crear el texto \"s = \" y animarlo\n",
    "        text_s = Text(\"s = \").scale(0.7)\n",
    "        text_s.next_to(var_tres.get_right() + RIGHT * 0.75)  # Colocar el texto \"s = \" a la derecha de la \"y\"\n",
    "        self.play(Write(text_s))\n",
    "\n",
    "        # Crear el texto \"hola\" y animarlo\n",
    "        text_h = Text(\"h\").scale(0.7)\n",
    "        text_h.next_to(text_s.get_right() + RIGHT * 0.35)  # Posicionar el texto \"hola\" a la derecha de \"s = \"\n",
    "        self.play(Write(text_h))\n",
    "\n",
    "        \n",
    "  \n",
    "        text_exe = Text(\"Ejecución:\").scale(0.7)\n",
    "        text_exe.move_to(6 * LEFT)  # Colocar el texto \"x = \" 3 arriba y 3 a la izquierda\n",
    "        self.play(Write(text_exe))\n",
    "        \n",
    "        text_suma = Text(\"sum = \").scale(0.7)\n",
    "        text_suma.next_to(text_exe, 2 * DOWN)  # Colocar el texto \"x = \" 3 arriba y 3 a la izquierda\n",
    "        self.play(Write(text_suma))\n",
    "        \n",
    "        text_xsum = Text(\"x\").scale(0.7)\n",
    "        text_xsum.next_to(text_suma, RIGHT)\n",
    "        self.play(Write(text_xsum))\n",
    "        \n",
    "        text_mas = Text(\" + \").scale(0.7)\n",
    "        text_mas.next_to(text_xsum, RIGHT)\n",
    "        self.play(Write(text_mas))\n",
    "        \n",
    "        text_ysum = Text(\"y\").scale(0.7)\n",
    "        text_ysum.next_to(text_mas, RIGHT)\n",
    "        self.play(Write(text_ysum))\n",
    "\n",
    "        text_suma2 = Text(\"sum = \").scale(0.7)\n",
    "        text_suma2.next_to(text_suma,2 * DOWN)\n",
    "        self.play(Write(text_suma2))\n",
    "\n",
    "        text_mas2 = text_mas.copy()\n",
    "        text_mas2.next_to(text_suma2, RIGHT * 3.25)\n",
    "        self.play(Write(text_mas2))\n",
    "        \n",
    "        # crear línea punteada\n",
    "\n",
    "        dashed_line1 = DashedLine(text_xsum, text_x, color=BLUE)\n",
    "        self.wait(0.2)\n",
    "\n",
    "        # Animar la línea punteada\n",
    "        self.play(Create(dashed_line1), run_time=1)\n",
    "        self.wait(0.2)\n",
    "        self.play(FadeOut(dashed_line1))\n",
    "        self.wait(0.2)\n",
    "\n",
    "        \n",
    "        # crear la copia del número 10 almacenado en la memoria\n",
    "        text_r10 = text_5.copy()\n",
    "\n",
    "        # Animar la copia para que se mueva next_to text_suma2\n",
    "        self.play(text_r10.animate.next_to(text_suma2, RIGHT)) \n",
    "\n",
    "        dashed_line1 = DashedLine(text_ysum, text_y, color=BLUE)\n",
    "        self.wait(0.2)\n",
    "\n",
    "        # Animar la línea punteada\n",
    "        self.play(Create(dashed_line1), run_time=1)\n",
    "        self.wait(0.2)\n",
    "        self.play(FadeOut(dashed_line1))\n",
    "        self.wait(0.2)\n",
    "\n",
    "        \n",
    "        # crear la copia del número 2 almacenado en la memoria\n",
    "        text_r2 = text_2.copy()\n",
    "\n",
    "        # Animar la copia para que se mueva next_to text_suma2\n",
    "        self.play(text_r2.animate.next_to(text_mas2, RIGHT)) \n",
    "\n",
    "        # salida \n",
    "        text_out = Text(\">>> 7\").scale(0.7)\n",
    "        text_out.next_to(text_suma2, 2 * DOWN)\n",
    "        self.play(Write(text_out))\n",
    "\n",
    "        self.wait(3)\n"
   ]
  },
  {
   "cell_type": "code",
   "execution_count": null,
   "id": "4770dab8-2a32-4781-b209-dac0ab38d612",
   "metadata": {},
   "outputs": [],
   "source": []
  },
  {
   "cell_type": "code",
   "execution_count": null,
   "id": "0bb04258-189a-4a89-aa3a-1dc1a2e52b1d",
   "metadata": {},
   "outputs": [],
   "source": []
  },
  {
   "cell_type": "code",
   "execution_count": 132,
   "id": "acd450e0-82de-437c-bbcb-616b457b2821",
   "metadata": {},
   "outputs": [
    {
     "data": {
      "text/html": [
       "<pre style=\"white-space:pre;overflow-x:auto;line-height:normal;font-family:Menlo,'DejaVu Sans Mono',consolas,'Courier New',monospace\">Manim Community <span style=\"color: #008000; text-decoration-color: #008000\">v0.18.0</span>\n",
       "\n",
       "</pre>\n"
      ],
      "text/plain": [
       "Manim Community \u001b[32mv0.\u001b[0m\u001b[32m18.0\u001b[0m\n",
       "\n"
      ]
     },
     "metadata": {},
     "output_type": "display_data"
    },
    {
     "name": "stderr",
     "output_type": "stream",
     "text": [
      "                                                                              \r"
     ]
    },
    {
     "data": {
      "text/html": [
       "<video src=\"media\\jupyter\\Algo@2024-03-03@21-07-41.mp4\" controls autoplay loop style=\"max-width: 75%;\"  >\n",
       "      Your browser does not support the <code>video</code> element.\n",
       "    </video>"
      ],
      "text/plain": [
       "<IPython.core.display.Video object>"
      ]
     },
     "metadata": {},
     "output_type": "display_data"
    }
   ],
   "source": [
    "%%manim -ql Algo \n",
    "class Algo(Scene):\n",
    "    def construct(self):\n",
    "\n",
    "        mob = Circle(radius=0.5, color=TEAL_A)\n",
    "        mob.set_fill(BLUE, opacity=1)\n",
    "        self.play(Broadcast(mob))"
   ]
  },
  {
   "cell_type": "code",
   "execution_count": null,
   "id": "7129d371-0ec7-4d62-8a5b-511e88bb536e",
   "metadata": {},
   "outputs": [],
   "source": []
  },
  {
   "cell_type": "code",
   "execution_count": null,
   "id": "dc65b0c4-b732-449d-a543-d824d763e80c",
   "metadata": {},
   "outputs": [],
   "source": []
  },
  {
   "cell_type": "code",
   "execution_count": null,
   "id": "653bf47a-6fc8-42d2-a078-381b40597749",
   "metadata": {},
   "outputs": [],
   "source": []
  },
  {
   "cell_type": "code",
   "execution_count": null,
   "id": "d0ce767d-7f2d-44a1-a343-603fb9dd5195",
   "metadata": {},
   "outputs": [],
   "source": []
  },
  {
   "cell_type": "code",
   "execution_count": null,
   "id": "30da6778-0404-4a7a-bf56-9a4b80f9d39c",
   "metadata": {},
   "outputs": [],
   "source": []
  },
  {
   "cell_type": "code",
   "execution_count": null,
   "id": "19a7d763-2e9d-4eb9-a31c-c90b1000d552",
   "metadata": {},
   "outputs": [],
   "source": []
  },
  {
   "cell_type": "code",
   "execution_count": 49,
   "id": "713f7e94-a861-4641-89b5-d96d9e7fab8f",
   "metadata": {},
   "outputs": [
    {
     "data": {
      "text/html": [
       "<pre style=\"white-space:pre;overflow-x:auto;line-height:normal;font-family:Menlo,'DejaVu Sans Mono',consolas,'Courier New',monospace\">Manim Community <span style=\"color: #008000; text-decoration-color: #008000\">v0.18.0</span>\n",
       "\n",
       "</pre>\n"
      ],
      "text/plain": [
       "Manim Community \u001b[32mv0.\u001b[0m\u001b[32m18.0\u001b[0m\n",
       "\n"
      ]
     },
     "metadata": {},
     "output_type": "display_data"
    },
    {
     "name": "stderr",
     "output_type": "stream",
     "text": [
      "                                                                           \r"
     ]
    },
    {
     "data": {
      "text/html": [
       "<video src=\"media\\jupyter\\EscenaAuto@2024-02-19@22-12-43.mp4\" controls autoplay loop style=\"max-width: 75%;\"  >\n",
       "      Your browser does not support the <code>video</code> element.\n",
       "    </video>"
      ],
      "text/plain": [
       "<IPython.core.display.Video object>"
      ]
     },
     "metadata": {},
     "output_type": "display_data"
    }
   ],
   "source": [
    "%%manim -ql EscenaAuto\n",
    "\n",
    "class EscenaAuto(Scene):\n",
    "    def construct(self):\n",
    "        imagen_auto = ImageMobject(\"imagenes\\\\red-car.png\")\n",
    "        imagen_auto.scale(0.55)\n",
    "\n",
    "        # Agregar la imagen del auto a la escena\n",
    "        self.add(imagen_auto)\n",
    "\n",
    "        # Animar el desplazamiento del auto\n",
    "        self.play(\n",
    "            Transform(imagen_auto, imagen_auto.copy().shift(RIGHT * 2)),\n",
    "            run_time=2\n",
    "        )"
   ]
  },
  {
   "cell_type": "code",
   "execution_count": 49,
   "id": "1d137ee9",
   "metadata": {},
   "outputs": [
    {
     "data": {
      "text/html": [
       "<pre style=\"white-space:pre;overflow-x:auto;line-height:normal;font-family:Menlo,'DejaVu Sans Mono',consolas,'Courier New',monospace\">Manim Community <span style=\"color: #008000; text-decoration-color: #008000\">v0.18.0</span>\n",
       "\n",
       "</pre>\n"
      ],
      "text/plain": [
       "Manim Community \u001b[32mv0.\u001b[0m\u001b[32m18.0\u001b[0m\n",
       "\n"
      ]
     },
     "metadata": {},
     "output_type": "display_data"
    },
    {
     "name": "stderr",
     "output_type": "stream",
     "text": [
      "                                                                           \r"
     ]
    },
    {
     "data": {
      "text/html": [
       "<video src=\"media\\jupyter\\EscenaAuto@2024-02-19@22-12-43.mp4\" controls autoplay loop style=\"max-width: 75%;\"  >\n",
       "      Your browser does not support the <code>video</code> element.\n",
       "    </video>"
      ],
      "text/plain": [
       "<IPython.core.display.Video object>"
      ]
     },
     "metadata": {},
     "output_type": "display_data"
    }
   ],
   "source": [
    "%%manim -ql EscenaAuto\n",
    "\n",
    "class EscenaAuto(Scene):\n",
    "    def construct(self):\n",
    "        imagen_auto = ImageMobject(\"imagenes\\\\red-car.png\")\n",
    "        imagen_auto.scale(0.55)\n",
    "\n",
    "        # Agregar la imagen del auto a la escena\n",
    "        self.add(imagen_auto)\n",
    "\n",
    "        # Animar el desplazamiento del auto\n",
    "        self.play(\n",
    "            Transform(imagen_auto, imagen_auto.copy().shift(RIGHT * 2)),\n",
    "            run_time=2\n",
    "        )"
   ]
  },
  {
   "cell_type": "code",
   "execution_count": null,
   "id": "39312864-2e67-4b88-9381-af0b04a14e78",
   "metadata": {},
   "outputs": [],
   "source": []
  },
  {
   "cell_type": "code",
   "execution_count": null,
   "id": "624fd844-26cd-4bbd-acaf-8ee7f150a47d",
   "metadata": {},
   "outputs": [],
   "source": []
  }
 ],
 "metadata": {
  "kernelspec": {
   "display_name": "Python 3 (ipykernel)",
   "language": "python",
   "name": "python3"
  },
  "language_info": {
   "codemirror_mode": {
    "name": "ipython",
    "version": 3
   },
   "file_extension": ".py",
   "mimetype": "text/x-python",
   "name": "python",
   "nbconvert_exporter": "python",
   "pygments_lexer": "ipython3",
   "version": "3.11.7"
  }
 },
 "nbformat": 4,
 "nbformat_minor": 5
}
