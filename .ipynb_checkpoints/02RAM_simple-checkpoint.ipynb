{
 "cells": [
  {
   "cell_type": "code",
   "execution_count": 2,
   "id": "30ca9c0d-f4da-4735-bcab-1b59c0939e1e",
   "metadata": {},
   "outputs": [
    {
     "data": {
      "text/html": [
       "<pre style=\"white-space:pre;overflow-x:auto;line-height:normal;font-family:Menlo,'DejaVu Sans Mono',consolas,'Courier New',monospace\"><span style=\"color: #7fbfbf; text-decoration-color: #7fbfbf\">[03/07/24 17:09:36] </span><span style=\"color: #800000; text-decoration-color: #800000\">WARNING </span> Missing Plugins: <span style=\"font-weight: bold\">{</span><span style=\"color: #008000; text-decoration-color: #008000\">''</span><span style=\"font-weight: bold\">}</span>                                                   <a href=\"file://C:\\Users\\Diego\\anaconda3\\envs\\animaciones\\Lib\\site-packages\\manim\\plugins\\__init__.py\" target=\"_blank\"><span style=\"color: #7f7f7f; text-decoration-color: #7f7f7f\">__init__.py</span></a><span style=\"color: #7f7f7f; text-decoration-color: #7f7f7f\">:</span><a href=\"file://C:\\Users\\Diego\\anaconda3\\envs\\animaciones\\Lib\\site-packages\\manim\\plugins\\__init__.py#17\" target=\"_blank\"><span style=\"color: #7f7f7f; text-decoration-color: #7f7f7f\">17</span></a>\n",
       "</pre>\n"
      ],
      "text/plain": [
       "\u001b[2;36m[03/07/24 17:09:36]\u001b[0m\u001b[2;36m \u001b[0m\u001b[31mWARNING \u001b[0m Missing Plugins: \u001b[1m{\u001b[0m\u001b[32m''\u001b[0m\u001b[1m}\u001b[0m                                                   \u001b]8;id=476691;file://C:\\Users\\Diego\\anaconda3\\envs\\animaciones\\Lib\\site-packages\\manim\\plugins\\__init__.py\u001b\\\u001b[2m__init__.py\u001b[0m\u001b]8;;\u001b\\\u001b[2m:\u001b[0m\u001b]8;id=720803;file://C:\\Users\\Diego\\anaconda3\\envs\\animaciones\\Lib\\site-packages\\manim\\plugins\\__init__.py#17\u001b\\\u001b[2m17\u001b[0m\u001b]8;;\u001b\\\n"
      ]
     },
     "metadata": {},
     "output_type": "display_data"
    }
   ],
   "source": [
    "from manim import *"
   ]
  },
  {
   "cell_type": "code",
   "execution_count": 3,
   "id": "5f1b55ef-86e3-4558-ad8e-453e94d27da2",
   "metadata": {},
   "outputs": [],
   "source": [
    "config.media_width = \"75%\"\n",
    "config.verbosity = \"WARNING\""
   ]
  },
  {
   "cell_type": "code",
   "execution_count": 43,
   "id": "9eb7c26c-ee23-44d9-833e-bcef5eda5fb4",
   "metadata": {},
   "outputs": [
    {
     "data": {
      "text/html": [
       "<pre style=\"white-space:pre;overflow-x:auto;line-height:normal;font-family:Menlo,'DejaVu Sans Mono',consolas,'Courier New',monospace\">Manim Community <span style=\"color: #008000; text-decoration-color: #008000\">v0.18.0</span>\n",
       "\n",
       "</pre>\n"
      ],
      "text/plain": [
       "Manim Community \u001b[32mv0.\u001b[0m\u001b[32m18.0\u001b[0m\n",
       "\n"
      ]
     },
     "metadata": {},
     "output_type": "display_data"
    },
    {
     "name": "stderr",
     "output_type": "stream",
     "text": [
      "                                                                                                                   \r"
     ]
    },
    {
     "data": {
      "text/html": [
       "<video src=\"media\\jupyter\\GridAnimation@2024-03-04@13-04-01.mp4\" controls autoplay loop style=\"max-width: 75%;\"  >\n",
       "      Your browser does not support the <code>video</code> element.\n",
       "    </video>"
      ],
      "text/plain": [
       "<IPython.core.display.Video object>"
      ]
     },
     "metadata": {},
     "output_type": "display_data"
    }
   ],
   "source": [
    "%%manim -qh GridAnimation\n",
    "\n",
    "class GridAnimation(Scene):\n",
    "    config.background_color = \"#24043d\"\n",
    "    def construct(self):\n",
    "\n",
    "        # Añadir logo\n",
    "        logo = ImageMobject(\"images\\\\bits1.png\").scale(0.65)\n",
    "        logo.move_to(DOWN * 3 + LEFT * 2.4).set_opacity(0.2)\n",
    "        #self.add(logo)\n",
    "        logo2 = logo.copy().scale(1.5).set_opacity(0.15).move_to(ORIGIN)\n",
    "        self.add(logo2)\n",
    "        ancho = self.camera.frame_width\n",
    "        alto = self.camera.frame_height\n",
    "\n",
    "        # Crear un texto\n",
    "        intro = Text(\"Almacenamiento de variables\\nen memoria\").scale(1.2)\n",
    "\n",
    "        # Hacer que el texto aparezca gradualmente\n",
    "        self.play(FadeIn(intro, run_time=2.0))\n",
    "        self.wait(1)\n",
    "        self.play(FadeOut(intro, run_time=2.0))\n",
    "        self.wait(2)\n",
    "        #################### Crear la grilla####################    \n",
    "        cuadrados = VGroup(\n",
    "            *[Square(side_length=0.6) for _ in range(98)]\n",
    "            ).arrange_in_grid(rows=7, cols=14, buff = 0)  #, buff=MED_LARGE_BUFF)\n",
    "        self.add(cuadrados)\n",
    "\n",
    "        for cuadrado in cuadrados:\n",
    "            cuadrado.set_color(BLACK)\n",
    "            cuadrado.set_fill(\"#4B4B4B\", opacity=1)#(\"#4D4D55\", opacity =1)\n",
    "            cuadrado.set_stroke(color=BLACK, width=1)\n",
    "            \n",
    "        circulos = VGroup(\n",
    "            *[Circle(radius=0.2) for _ in range(98)]\n",
    "        ).arrange_in_grid(rows=7, cols=14, buff=0.2)\n",
    "        self.add(circulos)\n",
    "        \n",
    "        for circle in circulos:\n",
    "            circle.set_color(BLACK)#(\"#DEDDDD\")\n",
    "            circle.set_fill(BLACK, opacity=1)#(\"#DEDDDD\", opacity=1)\n",
    "\n",
    "        grilla = VGroup(*[cuadrados, circulos])\n",
    "        grilla.move_to(1.9 * DOWN + 2.9 * RIGHT)\n",
    "        \n",
    "        #####################################################\n",
    "        # Crear pila desde grilla\n",
    "        primeros = [grilla[0][:14], grilla[1][:14]]\n",
    "        pila = VGroup(*[primeros[0], primeros[1]])\n",
    "        pila.move_to(2 * UP + 2.9 * RIGHT)\n",
    "        ## Título\n",
    "        memoria = Text(\"Memoria RAM\").scale(0.9)\n",
    "        memoria.next_to(pila.get_top () + UP * 0.75 + 2.25 * LEFT)\n",
    "        self.add(memoria)\n",
    "\n",
    "        self.play(Transform(logo2, logo))\n",
    "        self.wait(5)\n",
    "        ############################################# crear declaración de variables\n",
    "        text_var = Text(\"Variables\").scale(0.75)\n",
    "        text_var.move_to(3 * UP + 6 * LEFT)\n",
    "        self.play(Write(text_var))\n",
    "        \n",
    "        var_uno = Text(\"x = 5\").scale(0.7)\n",
    "        var_uno.next_to(text_var, 2 * DOWN)\n",
    "        self.play(Write(var_uno))\n",
    "        self.wait(5)\n",
    "        var_dos = Text(\"y = 2\").scale(0.7)\n",
    "        var_dos.next_to(var_uno, DOWN)  # Colocar el texto \"x = \" a la derecha de la \n",
    "        self.play(Write(var_dos))\n",
    "        self.wait(3)\n",
    "        var_tres = Text(\"s = h\").scale(0.7)\n",
    "        var_tres.next_to(var_dos, DOWN)  # Colocar el texto \"s = \" a la derecha de la \"y\"\n",
    "        self.play(Write(var_tres))\n",
    "        self.wait(3)\n",
    "         # Rectángulo señalador de nombres de variables\n",
    "        rectangulo_1 = Rectangle(width=0.45,height=3.5,color=\"#EFE910\")\n",
    "        rectangulo_1.move_to(var_dos[0].get_center() + 0.87 * DOWN)\n",
    "        # Rectángulo señalador de valores\n",
    "        rectangulo_2 = Rectangle(width=0.45,height=2.75,color=\"#35C5CA\") \n",
    "        rectangulo_2.move_to(var_dos[2].get_center() + 0.56 * DOWN)\n",
    "        nombres_var = Text(\"Nombres de variables\").set_color(\"#EFE910\")\n",
    "        nombres_var.next_to(rectangulo_1.get_bottom() + DOWN * 0.35 + LEFT * 1.15).scale(0.75)\n",
    "        valores_var = Text(\"Valores\").set_color(\"#35C5CA\")\n",
    "        valores_var.next_to(rectangulo_2.get_bottom() + DOWN * 0.35 + LEFT * 0.75).scale(0.75)\n",
    "        self.play(Create(rectangulo_1), Create(rectangulo_2))\n",
    "        self.play(Write(nombres_var))\n",
    "        self.play(Write(valores_var))\n",
    "        self.wait(5)\n",
    "        ########### Crear explicaciones \n",
    "        # Crear el texto \"x = \" y animarlo\n",
    "        text_x = Text(\"x    = \").scale(0.7)\n",
    "        text_x.next_to(var_uno.get_right() + RIGHT * 0.75)  # Colocar el texto \"x = \" 3 arriba \n",
    "        self.play(Write(text_x))\n",
    "        self.wait(2)\n",
    "        # Crear el texto \"5\" y animarlo\n",
    "        text_5 = Text(\"5\").scale(0.7)\n",
    "        text_5.next_to(text_x.get_right() + RIGHT * 0.28)  # Posicionar el texto \"10\" a la derecha de \"x = \"\n",
    "        self.play(Write(text_5))\n",
    "        self.wait(5)\n",
    "        #crear flecha entre \"x\" y \"5\" \n",
    "        flecha_x = Arrow(text_x.get_left(), text_5.get_center())\n",
    "        self.wait(5)\n",
    "        # reemplazar flecha por signo igual\n",
    "        self.play(Unwrite(text_x[1]))  # El signo igual es el segundo elemento del texto \"x = \"\n",
    "        self.play(GrowArrow(flecha_x))\n",
    "        self.wait(5)\n",
    "        # asignarle un espacio en memoria a \"5\"\n",
    "        for i in range(3):\n",
    "            self.play(Indicate(circulos[71]), color = \"#E916D0\")\n",
    "        circulos[71].set_color(\"#E916D0\")#F20DAD\")\n",
    "        self.play(text_5.animate.next_to(cuadrados[71].get_left() + LEFT * 0.08))\n",
    "        self.wait(5)\n",
    "        # asignar lugar a x\n",
    "        circulos[0].set_color(\"#F80D19\")\n",
    "        self.play(text_x.animate.next_to(cuadrados[0].get_left() + LEFT * 0.07))\n",
    "        self.wait(5)\n",
    "        flecha_x2 = Arrow(text_x.get_left() + RIGHT * 0.1, text_5.get_center())\n",
    "        self.play(Transform(flecha_x, flecha_x2))\n",
    "        self.wait(5)\n",
    "        ### Segunda variable       \n",
    "        # Crear el texto \"y = \" y animarlo\n",
    "        text_y = Text(\"y    = \").scale(0.7)\n",
    "        text_y.next_to(var_dos.get_right() + RIGHT * 0.75)  # Colocar el texto \"x = \" a la derecha de la \n",
    "        self.play(Write(text_y))\n",
    "        self.wait(1)\n",
    "        # Crear el texto \"2\" y animarlo\n",
    "        text_2 = Text(\"2\").scale(0.7)\n",
    "        text_2.next_to(text_y.get_right() + RIGHT * 0.28)  # Posicionar el texto \"10\" a la derecha de \"x = \"\n",
    "        self.play(Write(text_2))\n",
    "        self.wait(1)\n",
    "        #crear flecha entre \"y\" y \"2\" \n",
    "        flecha_y = Arrow(text_y.get_left(), text_2.get_center())\n",
    "        self.wait(1)\n",
    "        # reemplazar signo igual con flecha\n",
    "        self.play(Unwrite(text_y[1]))  # El signo igual es el segundo elemento del texto \"y = \"\n",
    "        self.play(GrowArrow(flecha_y))\n",
    "\n",
    "         # asignarle un espacio en memoria a \"2\"\n",
    "        for i in range(3):\n",
    "            self.play(Indicate(circulos[61]), color = \"#E916D0\")\n",
    "        circulos[61].set_color(\"#E916D0\")#F20DAD\")\n",
    "        self.play(text_2.animate.next_to(cuadrados[61].get_left() + LEFT * 0.07))\n",
    "        self.wait(1.5)\n",
    "        # asignar lugar a y\n",
    "        circulos[3].set_color(\"#F80D19\")\n",
    "        self.play(text_y.animate.next_to(cuadrados[3].get_left() + LEFT * 0.06))\n",
    "        self.wait(1.5)\n",
    "        # flecha grande\n",
    "        flecha_y2 = Arrow(text_y.get_left() + RIGHT * 0.1, text_2.get_center())\n",
    "        self.play(Transform(flecha_y, flecha_y2))\n",
    "        self.wait(1.5)\n",
    "        ## Tercera variable\n",
    "        # Crear el texto \"s = \" y animarlo\n",
    "        text_s = Text(\"s    = \").scale(0.7)\n",
    "        text_s.next_to(var_tres.get_right() + RIGHT * 0.75)  # Colocar el texto \"s = \" a la derecha de la \"y\"\n",
    "        self.play(Write(text_s))\n",
    "        self.wait(1.5)\n",
    "        # Crear el texto \"h\" y animarlo\n",
    "        text_h = Text(\"h\").scale(0.7)\n",
    "        text_h.next_to(text_s.get_right() + RIGHT * 0.25)  # Posicionar el texto \"h\" a la derecha de \"s = \"\n",
    "        self.play(Write(text_h))\n",
    "        self.wait(1.5)\n",
    "        #crear flecha entre \"s\" y \"h\" \n",
    "        flecha_s = Arrow(text_s.get_left(), text_h.get_center())\n",
    "        self.wait(1.5)\n",
    "         # reemplazar signo igual con flecha\n",
    "        self.play(Unwrite(text_s[1]))  # El signo igual es el segundo elemento del texto \"y = \"\n",
    "        self.play(GrowArrow(flecha_s))\n",
    "        self.wait(1.5)\n",
    "        # asignarle un espacio en memoria a \"h\"\n",
    "        for i in range(3):\n",
    "            self.play(Indicate(circulos[23]), color = \"#E916D0\")\n",
    "        circulos[23].set_color(\"#E916D0\")#F20DAD\")\n",
    "        self.play(text_h.animate.next_to(cuadrados[23].get_left() + LEFT * 0.065))\n",
    "        self.wait(1)\n",
    "        # asignar lugar a s\n",
    "        circulos[7].set_color(\"#F80D19\")\n",
    "        self.play(text_s.animate.next_to(cuadrados[7].get_left() + LEFT * 0.045))\n",
    "        self.wait(1)\n",
    "        flecha_s2 = Arrow(text_s.get_left() + RIGHT * 0.1, text_h.get_center())\n",
    "        self.play(Transform(flecha_s, flecha_s2))\n",
    "        self.wait(1)\n",
    "        ## Sección ejecución\n",
    "        text_exe = Text(\"Ejecución:\").scale(0.7)\n",
    "        text_exe.move_to(6 * LEFT + 0.5 * DOWN)  # Colocar el texto \"x = \" 3 arriba y 3 a la izquierda\n",
    "        self.play(Write(text_exe))\n",
    "        self.wait(5)\n",
    "        text_suma = Text(\"sum = \").scale(0.7)\n",
    "        text_suma.next_to(text_exe, 2 * DOWN)  # Colocar el texto \"x = \" 3 arriba y 3 a la izquierda\n",
    "        self.play(Write(text_suma))\n",
    "        self.wait(2)\n",
    "        text_xsum = Text(\"x\").scale(0.7)\n",
    "        text_xsum.next_to(text_suma, RIGHT)\n",
    "        self.play(Write(text_xsum))\n",
    "        self.wait(2)\n",
    "        text_mas = Text(\" + \").scale(0.7)\n",
    "        text_mas.next_to(text_xsum, RIGHT)\n",
    "        self.play(Write(text_mas))\n",
    "        self.wait(2)\n",
    "        text_ysum = Text(\"y\").scale(0.7)\n",
    "        text_ysum.next_to(text_mas, RIGHT)\n",
    "        self.play(Write(text_ysum))\n",
    "        self.wait(2)\n",
    "        text_suma2 = Text(\"sum = \").scale(0.7)\n",
    "        text_suma2.next_to(text_suma,2 * DOWN)\n",
    "        self.play(Write(text_suma2))\n",
    "        self.wait(2)\n",
    "        text_mas2 = text_mas.copy()\n",
    "        text_mas2.next_to(text_suma2, RIGHT * 3.25)\n",
    "        self.play(Write(text_mas2))\n",
    "        self.wait()\n",
    "        # crear línea punteada\n",
    "        dashed_line1 = DashedLine(text_xsum, text_x, color=\"#71F10E\", dashed_ratio=4)\n",
    "        self.wait(0.2)\n",
    "\n",
    "        # Animar la línea punteada\n",
    "        self.play(Create(dashed_line1), run_time=1.5)\n",
    "        self.wait(0.2)\n",
    "        self.play(FadeOut(dashed_line1))\n",
    "        self.wait(0.2)\n",
    "        #cambiar color del pointer\n",
    "        self.play(FadeToColor(flecha_x2, color=\"#71F10E\"))\n",
    "        self.wait(1)\n",
    "        self.play(FadeToColor(flecha_x2, color=WHITE))\n",
    "        self.wait(1)\n",
    "        \n",
    "        # crear la copia del número 5 almacenado en la memoria\n",
    "        text_r5 = text_5.copy()\n",
    "        self.wait(2)\n",
    "        # Animar la copia para que se mueva next_to text_suma2\n",
    "        self.play(text_r5.animate.next_to(text_suma2, RIGHT)) \n",
    "        self.wait(2)\n",
    "        dashed_line1 = DashedLine(text_ysum, text_y, color=\"#71F10E\", dashed_ratio=4)\n",
    "        self.wait(0.2)\n",
    "        self.wait(2)\n",
    "        # Animar la línea punteada\n",
    "        self.play(Create(dashed_line1), run_time=1.5)\n",
    "        self.wait(0.2)\n",
    "        self.play(FadeOut(dashed_line1))\n",
    "        self.wait(0.2)\n",
    "        self.wait(2)\n",
    "        #cambiar color del pointer\n",
    "        self.play(FadeToColor(flecha_y2, color=\"#71F10E\"))\n",
    "        self.wait(1)\n",
    "        self.play(FadeToColor(flecha_y2, color=WHITE))\n",
    "        self.wait(1)\n",
    "        self.wait(2)  \n",
    "        # crear la copia del número 2 almacenado en la memoria\n",
    "        text_r2 = text_2.copy()\n",
    "\n",
    "        # Animar la copia para que se mueva next_to text_suma2\n",
    "        self.play(text_r2.animate.next_to(text_mas2, RIGHT)) \n",
    "        self.wait(2)\n",
    "        # salida \n",
    "        text_out = Text(\">>> 7\").scale(0.7)\n",
    "        text_out.next_to(text_suma2, 2 * DOWN)\n",
    "        self.play(Write(text_out))\n",
    "\n",
    "        self.wait(6)\n",
    "        "
   ]
  },
  {
   "cell_type": "code",
   "execution_count": null,
   "id": "4770dab8-2a32-4781-b209-dac0ab38d612",
   "metadata": {},
   "outputs": [],
   "source": []
  },
  {
   "cell_type": "code",
   "execution_count": null,
   "id": "0bb04258-189a-4a89-aa3a-1dc1a2e52b1d",
   "metadata": {},
   "outputs": [],
   "source": []
  },
  {
   "cell_type": "code",
   "execution_count": null,
   "id": "7129d371-0ec7-4d62-8a5b-511e88bb536e",
   "metadata": {},
   "outputs": [],
   "source": []
  },
  {
   "cell_type": "code",
   "execution_count": null,
   "id": "dc65b0c4-b732-449d-a543-d824d763e80c",
   "metadata": {},
   "outputs": [],
   "source": []
  },
  {
   "cell_type": "code",
   "execution_count": null,
   "id": "653bf47a-6fc8-42d2-a078-381b40597749",
   "metadata": {},
   "outputs": [],
   "source": []
  },
  {
   "cell_type": "code",
   "execution_count": 29,
   "id": "d0ce767d-7f2d-44a1-a343-603fb9dd5195",
   "metadata": {},
   "outputs": [
    {
     "data": {
      "text/html": [
       "<pre style=\"white-space:pre;overflow-x:auto;line-height:normal;font-family:Menlo,'DejaVu Sans Mono',consolas,'Courier New',monospace\">Manim Community <span style=\"color: #008000; text-decoration-color: #008000\">v0.18.0</span>\n",
       "\n",
       "</pre>\n"
      ],
      "text/plain": [
       "Manim Community \u001b[32mv0.\u001b[0m\u001b[32m18.0\u001b[0m\n",
       "\n"
      ]
     },
     "metadata": {},
     "output_type": "display_data"
    },
    {
     "name": "stderr",
     "output_type": "stream",
     "text": [
      "                                                                                                            \r"
     ]
    },
    {
     "data": {
      "text/html": [
       "<video src=\"media\\jupyter\\GridAnimation@2024-03-07@17-51-45.mp4\" controls autoplay loop style=\"max-width: 75%;\"  >\n",
       "      Your browser does not support the <code>video</code> element.\n",
       "    </video>"
      ],
      "text/plain": [
       "<IPython.core.display.Video object>"
      ]
     },
     "metadata": {},
     "output_type": "display_data"
    }
   ],
   "source": [
    "%%manim -ql GridAnimation\n",
    "\n",
    "class GridAnimation(Scene):\n",
    "    config.background_color = \"#24043d\"\n",
    "    def construct(self):\n",
    "\n",
    "        # Añadir logo\n",
    "        logo = ImageMobject(\"images\\\\bits1.png\").scale(0.65)\n",
    "        logo.move_to(DOWN * 3 + LEFT * 2.4).set_opacity(0.2)\n",
    "        #self.add(logo)\n",
    "        logo2 = logo.copy().scale(1.5).set_opacity(0.15).move_to(ORIGIN)\n",
    "        self.add(logo2)\n",
    "        ancho = self.camera.frame_width\n",
    "        alto = self.camera.frame_height\n",
    "\n",
    "        # Crear un texto\n",
    "        intro = Text(\"Almacenamiento de variables\\nen memoria\").scale(1.2)\n",
    "\n",
    "        # Hacer que el texto aparezca gradualmente\n",
    "        self.play(FadeIn(intro, run_time=2.0))\n",
    "        self.wait(1)\n",
    "        self.play(FadeOut(intro, run_time=2.0))\n",
    "        self.wait(2)\n",
    "        #################### Crear la grilla####################    \n",
    "        cuadrados = VGroup(\n",
    "            *[Square(side_length=0.6) for _ in range(98)]\n",
    "            ).arrange_in_grid(rows=7, cols=14, buff = 0)  #, buff=MED_LARGE_BUFF)\n",
    "        self.add(cuadrados)\n",
    "\n",
    "        for cuadrado in cuadrados:\n",
    "            cuadrado.set_color(BLACK)\n",
    "            cuadrado.set_fill(\"#4B4B4B\", opacity=1)#(\"#4D4D55\", opacity =1)\n",
    "            cuadrado.set_stroke(color=BLACK, width=1)\n",
    "            \n",
    "        circulos = VGroup(\n",
    "            *[Circle(radius=0.2) for _ in range(98)]\n",
    "        ).arrange_in_grid(rows=7, cols=14, buff=0.2)\n",
    "        self.add(circulos)\n",
    "        \n",
    "        for circle in circulos:\n",
    "            circle.set_color(BLACK)#(\"#DEDDDD\")\n",
    "            circle.set_fill(BLACK, opacity=1)#(\"#DEDDDD\", opacity=1)\n",
    "\n",
    "        grilla = VGroup(*[cuadrados, circulos])\n",
    "        grilla.move_to(1.9 * DOWN + 2.9 * RIGHT)\n",
    "        \n",
    "        #####################################################\n",
    "        # Crear pila desde grilla\n",
    "        primeros = [grilla[0][:14], grilla[1][:14]]\n",
    "        pila = VGroup(*[primeros[0], primeros[1]])\n",
    "        pila.move_to(2 * UP + 2.9 * RIGHT)\n",
    "        ## Título\n",
    "        memoria = Text(\"Memoria RAM\").scale(0.9)\n",
    "        memoria.next_to(pila.get_top () + UP * 0.75 + 2.25 * LEFT)\n",
    "        self.add(memoria)\n",
    "\n",
    "        self.play(Transform(logo2, logo))\n",
    "        self.wait(5)\n",
    "        ############################################# crear declaración de variables\n",
    "        text_var = Text(\"Variables\").scale(0.75)\n",
    "        text_var.move_to(3 * UP + 6 * LEFT)\n",
    "        self.play(Write(text_var))\n",
    "        \n",
    "        var_uno = Text(\"x = 5\").scale(0.7)\n",
    "        var_uno.next_to(text_var, 2 * DOWN)\n",
    "        self.play(Write(var_uno))\n",
    "        self.wait(5)\n",
    "        var_dos = Text(\"y = 2\").scale(0.7)\n",
    "        var_dos.next_to(var_uno, DOWN)  # Colocar el texto \"x = \" a la derecha de la \n",
    "        self.play(Write(var_dos))\n",
    "        self.wait(3)\n",
    "        var_tres = Text(\"s = h\").scale(0.7)\n",
    "        var_tres.next_to(var_dos, DOWN)  # Colocar el texto \"s = \" a la derecha de la \"y\"\n",
    "        self.play(Write(var_tres))\n",
    "        self.wait(3)\n",
    "         # Rectángulo 1: color #EFE910, opacity 0.5\n",
    "        rectangulo_1 = Rectangle(width=0.45,height=3.5,color=\"#EFE910\")\n",
    "        rectangulo_1.move_to(var_dos[0].get_center() + 0.87 * DOWN)\n",
    "        # Rectángulo 2: color #35C5CA, opacity 0.5, más alto que ancho\n",
    "        rectangulo_2 = Rectangle(width=0.45,height=2.75,color=\"#35C5CA\") \n",
    "        rectangulo_2.move_to(var_dos[2].get_center() + 0.56 * DOWN)\n",
    "        nombres_var = Text(\"Nombres de variables\").set_color(\"#EFE910\")\n",
    "        nombres_var.next_to(rectangulo_1.get_bottom() + DOWN * 0.35 + LEFT * 1.15).scale(0.75)\n",
    "        valores_var = Text(\"Valores\").set_color(\"#35C5CA\")\n",
    "        valores_var.next_to(rectangulo_2.get_bottom() + DOWN * 0.35 + LEFT * 0.75).scale(0.75)\n",
    "        self.play(Create(rectangulo_1), Create(rectangulo_2))\n",
    "        self.play(Write(nombres_var))\n",
    "        self.play(Write(valores_var))\n",
    "        self.wait(5)"
   ]
  },
  {
   "cell_type": "code",
   "execution_count": null,
   "id": "30da6778-0404-4a7a-bf56-9a4b80f9d39c",
   "metadata": {},
   "outputs": [],
   "source": []
  },
  {
   "cell_type": "code",
   "execution_count": null,
   "id": "19a7d763-2e9d-4eb9-a31c-c90b1000d552",
   "metadata": {},
   "outputs": [],
   "source": []
  },
  {
   "cell_type": "code",
   "execution_count": 49,
   "id": "713f7e94-a861-4641-89b5-d96d9e7fab8f",
   "metadata": {},
   "outputs": [
    {
     "data": {
      "text/html": [
       "<pre style=\"white-space:pre;overflow-x:auto;line-height:normal;font-family:Menlo,'DejaVu Sans Mono',consolas,'Courier New',monospace\">Manim Community <span style=\"color: #008000; text-decoration-color: #008000\">v0.18.0</span>\n",
       "\n",
       "</pre>\n"
      ],
      "text/plain": [
       "Manim Community \u001b[32mv0.\u001b[0m\u001b[32m18.0\u001b[0m\n",
       "\n"
      ]
     },
     "metadata": {},
     "output_type": "display_data"
    },
    {
     "name": "stderr",
     "output_type": "stream",
     "text": [
      "                                                                           \r"
     ]
    },
    {
     "data": {
      "text/html": [
       "<video src=\"media\\jupyter\\EscenaAuto@2024-02-19@22-12-43.mp4\" controls autoplay loop style=\"max-width: 75%;\"  >\n",
       "      Your browser does not support the <code>video</code> element.\n",
       "    </video>"
      ],
      "text/plain": [
       "<IPython.core.display.Video object>"
      ]
     },
     "metadata": {},
     "output_type": "display_data"
    }
   ],
   "source": [
    "%%manim -ql EscenaAuto\n",
    "\n",
    "class EscenaAuto(Scene):\n",
    "    def construct(self):\n",
    "        imagen_auto = ImageMobject(\"imagenes\\\\red-car.png\")\n",
    "        imagen_auto.scale(0.55)\n",
    "\n",
    "        # Agregar la imagen del auto a la escena\n",
    "        self.add(imagen_auto)\n",
    "\n",
    "        # Animar el desplazamiento del auto\n",
    "        self.play(\n",
    "            Transform(imagen_auto, imagen_auto.copy().shift(RIGHT * 2)),\n",
    "            run_time=2\n",
    "        )"
   ]
  },
  {
   "cell_type": "code",
   "execution_count": 49,
   "id": "1d137ee9",
   "metadata": {},
   "outputs": [
    {
     "data": {
      "text/html": [
       "<pre style=\"white-space:pre;overflow-x:auto;line-height:normal;font-family:Menlo,'DejaVu Sans Mono',consolas,'Courier New',monospace\">Manim Community <span style=\"color: #008000; text-decoration-color: #008000\">v0.18.0</span>\n",
       "\n",
       "</pre>\n"
      ],
      "text/plain": [
       "Manim Community \u001b[32mv0.\u001b[0m\u001b[32m18.0\u001b[0m\n",
       "\n"
      ]
     },
     "metadata": {},
     "output_type": "display_data"
    },
    {
     "name": "stderr",
     "output_type": "stream",
     "text": [
      "                                                                           \r"
     ]
    },
    {
     "data": {
      "text/html": [
       "<video src=\"media\\jupyter\\EscenaAuto@2024-02-19@22-12-43.mp4\" controls autoplay loop style=\"max-width: 75%;\"  >\n",
       "      Your browser does not support the <code>video</code> element.\n",
       "    </video>"
      ],
      "text/plain": [
       "<IPython.core.display.Video object>"
      ]
     },
     "metadata": {},
     "output_type": "display_data"
    }
   ],
   "source": [
    "%%manim -ql EscenaAuto\n",
    "\n",
    "class EscenaAuto(Scene):\n",
    "    def construct(self):\n",
    "        imagen_auto = ImageMobject(\"imagenes\\\\red-car.png\")\n",
    "        imagen_auto.scale(0.55)\n",
    "\n",
    "        # Agregar la imagen del auto a la escena\n",
    "        self.add(imagen_auto)\n",
    "\n",
    "        # Animar el desplazamiento del auto\n",
    "        self.play(\n",
    "            Transform(imagen_auto, imagen_auto.copy().shift(RIGHT * 2)),\n",
    "            run_time=2\n",
    "        )"
   ]
  },
  {
   "cell_type": "code",
   "execution_count": null,
   "id": "39312864-2e67-4b88-9381-af0b04a14e78",
   "metadata": {},
   "outputs": [],
   "source": []
  },
  {
   "cell_type": "code",
   "execution_count": null,
   "id": "624fd844-26cd-4bbd-acaf-8ee7f150a47d",
   "metadata": {},
   "outputs": [],
   "source": []
  }
 ],
 "metadata": {
  "kernelspec": {
   "display_name": "Python 3 (ipykernel)",
   "language": "python",
   "name": "python3"
  },
  "language_info": {
   "codemirror_mode": {
    "name": "ipython",
    "version": 3
   },
   "file_extension": ".py",
   "mimetype": "text/x-python",
   "name": "python",
   "nbconvert_exporter": "python",
   "pygments_lexer": "ipython3",
   "version": "3.11.7"
  }
 },
 "nbformat": 4,
 "nbformat_minor": 5
}
