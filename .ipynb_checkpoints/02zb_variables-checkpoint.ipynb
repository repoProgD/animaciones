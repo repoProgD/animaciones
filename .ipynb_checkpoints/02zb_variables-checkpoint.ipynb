{
 "cells": [
  {
   "cell_type": "markdown",
   "id": "09142194-70c7-4374-8c3f-43138ab6af37",
   "metadata": {},
   "source": [
    "<h1 style=\"background-color: #24043d; color: white; padding: 25px;\">\n",
    "    Variables\n",
    "</h1>"
   ]
  },
  {
   "cell_type": "markdown",
   "id": "05cc804f-7b0f-40c2-80e1-e8fb45af7b6b",
   "metadata": {},
   "source": [
    "Como vimos en el video anterior, una variable es una relación entre dos datos. El primero, es el nombre de la variable, mientras que el segundo es el dato. La relación que guardan es una relación de referencia, debido a que el dato que tiene el nombre de la variable referencia, o apunta en memoria, al dato que contiene el valor."
   ]
  },
  {
   "cell_type": "markdown",
   "id": "6c1b34eb-6cb7-4f84-aec7-e89ab0aef530",
   "metadata": {},
   "source": [
    "<h2 style=\"background-color: #24043d; color: white; padding: 12px;\">\n",
    "    1. Declaración de variables\n",
    "</h2>"
   ]
  },
  {
   "cell_type": "markdown",
   "id": "9a1e76d6-e079-4f30-a29c-8fb898a314f5",
   "metadata": {},
   "source": [
    "### 1.1 Asignación simple"
   ]
  },
  {
   "cell_type": "markdown",
   "id": "b647c015-057c-4708-94eb-931c7d22de37",
   "metadata": {},
   "source": [
    "##### En Python podemos realizar algunas acciones de forma directa"
   ]
  },
  {
   "cell_type": "code",
   "execution_count": null,
   "id": "c63ab75e-1e14-4729-a765-451a18125519",
   "metadata": {},
   "outputs": [],
   "source": [
    "print(\"Hola mundo!\")"
   ]
  },
  {
   "cell_type": "code",
   "execution_count": 1,
   "id": "326bf198-a6e2-4129-9e20-7b8cf6629079",
   "metadata": {},
   "outputs": [
    {
     "name": "stdout",
     "output_type": "stream",
     "text": [
      "7\n"
     ]
    }
   ],
   "source": [
    "print(5 + 2)"
   ]
  },
  {
   "cell_type": "markdown",
   "id": "4de93d42-f1da-422f-9b60-c6c766f3706f",
   "metadata": {},
   "source": [
    "##### Pero si queremos realizar acciones más complejas vamos a tener que utilizar variables."
   ]
  },
  {
   "cell_type": "code",
   "execution_count": null,
   "id": "d8bc2a62-2d4b-47a2-b74d-622ca018fe24",
   "metadata": {},
   "outputs": [],
   "source": [
    "# Tab interactivo. Ejemplo de traductor en un reportaje.\n",
    "saludo = \"Hola mundo!\"\n",
    "print(saludo)"
   ]
  },
  {
   "cell_type": "code",
   "execution_count": 2,
   "id": "04ec95e4-4d22-4339-aeb2-348a3f1353ef",
   "metadata": {},
   "outputs": [
    {
     "name": "stdout",
     "output_type": "stream",
     "text": [
      "5\n"
     ]
    }
   ],
   "source": [
    "x = 5\n",
    "print(x)"
   ]
  },
  {
   "cell_type": "code",
   "execution_count": 3,
   "id": "a6649457-70a6-4a24-8d92-8cf2a7fd95e8",
   "metadata": {},
   "outputs": [
    {
     "name": "stdout",
     "output_type": "stream",
     "text": [
      "1\n",
      "2\n"
     ]
    }
   ],
   "source": [
    "# El intérprete de Python resuelve interactivamente línea por línea. Por esta razón los programas se leen, generalmente,\n",
    "# de abajo hacia arriba. Dentro de cada línea la lectura se da de izquierda a derecha.\n",
    "y = 1\n",
    "print(y)\n",
    "y = 2\n",
    "print(y)"
   ]
  },
  {
   "cell_type": "code",
   "execution_count": 4,
   "id": "a3a86a5b-48db-4df8-bbf8-4daee7e24e07",
   "metadata": {},
   "outputs": [
    {
     "name": "stdout",
     "output_type": "stream",
     "text": [
      "7\n"
     ]
    }
   ],
   "source": [
    "print(x + y)"
   ]
  },
  {
   "cell_type": "markdown",
   "id": "9dc45d02-0457-4ee6-9c93-3e3a303e352c",
   "metadata": {},
   "source": [
    "### 1.2. Asignación múltiple"
   ]
  },
  {
   "cell_type": "code",
   "execution_count": 11,
   "id": "a615d741-c6b3-4a84-a9f0-755f5068eced",
   "metadata": {},
   "outputs": [],
   "source": []
  },
  {
   "cell_type": "code",
   "execution_count": null,
   "id": "7bc6ee40-5a1c-4f96-b9f2-578ccf7cc2a3",
   "metadata": {},
   "outputs": [],
   "source": []
  },
  {
   "cell_type": "markdown",
   "id": "63abf5b6-196d-42f1-b73b-1f9671827f15",
   "metadata": {},
   "source": [
    "### 1.3. Reglas obligatorias para declarar variables"
   ]
  },
  {
   "cell_type": "markdown",
   "id": "5b08e53f-520d-4c61-bd0b-bcc408d6253a",
   "metadata": {},
   "source": [
    "##### Los nombres de las variables deben empezar con una letra o con un guión bajo"
   ]
  },
  {
   "cell_type": "code",
   "execution_count": null,
   "id": "8c284add-6e42-422d-8537-5f1e04000a2c",
   "metadata": {},
   "outputs": [],
   "source": []
  },
  {
   "cell_type": "markdown",
   "id": "6a48f611-f0f6-41de-9730-1299b85e0e0e",
   "metadata": {},
   "source": [
    "##### No utilizar símbolos de puntuación ni caracteres especiales"
   ]
  },
  {
   "cell_type": "code",
   "execution_count": null,
   "id": "6e01091c-5ecd-4293-abf5-b66c729abfbd",
   "metadata": {},
   "outputs": [],
   "source": []
  },
  {
   "cell_type": "markdown",
   "id": "100f6ff0-70b1-4021-9b98-42c6c0ed5a21",
   "metadata": {},
   "source": [
    "##### No utilizar espacios en blanco"
   ]
  },
  {
   "cell_type": "code",
   "execution_count": null,
   "id": "f97acd66-39f8-4786-b378-ce62ed6be66c",
   "metadata": {},
   "outputs": [],
   "source": []
  },
  {
   "cell_type": "markdown",
   "id": "7bf1ffd8-8b6b-4f8c-9a6d-92f133671eae",
   "metadata": {},
   "source": [
    "##### Python diferencia mayúsculas de minúsculas"
   ]
  },
  {
   "cell_type": "code",
   "execution_count": null,
   "id": "aa658f2f-db08-4aa8-bc04-043f0cb9f8e0",
   "metadata": {},
   "outputs": [],
   "source": []
  },
  {
   "cell_type": "markdown",
   "id": "88ab72fa-440f-49f3-8d8c-e0d044918714",
   "metadata": {},
   "source": [
    "<h4 style=\"background-color: green; color: white; padding: 20px;\">\n",
    "    Buenas Prácticas al declarar variables\n",
    "</h4>"
   ]
  },
  {
   "cell_type": "markdown",
   "id": "ba9ee4dc-6dfd-4316-9268-26bfdf7445e5",
   "metadata": {},
   "source": [
    "##### Emplear siempre minúsculas"
   ]
  },
  {
   "cell_type": "code",
   "execution_count": null,
   "id": "02f572ab-bc80-4a00-ba12-60a8f685d71f",
   "metadata": {},
   "outputs": [],
   "source": []
  },
  {
   "cell_type": "markdown",
   "id": "9b96dbbc-651e-47e8-9e26-17533f1804d8",
   "metadata": {},
   "source": [
    "##### Emplear guiones bajos si el nombre tiene más de una palabra (\"snake case\")"
   ]
  },
  {
   "cell_type": "code",
   "execution_count": null,
   "id": "b5ee0f7c-224a-476b-b42f-5ce935444a5b",
   "metadata": {},
   "outputs": [],
   "source": []
  },
  {
   "cell_type": "markdown",
   "id": "83885bc2-a47e-4af0-a35b-e1a9fee9c1f8",
   "metadata": {},
   "source": [
    "##### Emplear nombres descriptivos"
   ]
  },
  {
   "cell_type": "code",
   "execution_count": null,
   "id": "2cd23a4b-2cbf-4bc4-8801-99fb135afe44",
   "metadata": {},
   "outputs": [],
   "source": []
  },
  {
   "cell_type": "markdown",
   "id": "a563a395-1c03-4444-aba5-17008fd78176",
   "metadata": {},
   "source": [
    "##### Dejar un espacio entre el nombre de la variable y el signo igual. Dejar otro espacio entre el signo igual y el valor de la variable"
   ]
  },
  {
   "cell_type": "code",
   "execution_count": null,
   "id": "a06a36c4-333e-476c-859e-6078fcf142d0",
   "metadata": {},
   "outputs": [],
   "source": []
  },
  {
   "cell_type": "markdown",
   "id": "a03e0e12-9dd7-4fe4-9e55-7627d3b1208b",
   "metadata": {},
   "source": [
    "##### No utilizar tildes "
   ]
  },
  {
   "cell_type": "code",
   "execution_count": null,
   "id": "e2d1d291-a508-4414-96e9-dbc3dfb4410a",
   "metadata": {},
   "outputs": [],
   "source": []
  },
  {
   "cell_type": "markdown",
   "id": "97d17065-0c67-4ed2-983b-8e23942a4902",
   "metadata": {},
   "source": [
    "<h2 style=\"background-color: #24043d; color: white; padding: 12px;\">\n",
    "   2. Palabras reservadas\n",
    "</h2>"
   ]
  },
  {
   "cell_type": "raw",
   "id": "5906b40a-db19-46b5-b754-c7ffb3da2b09",
   "metadata": {},
   "source": [
    "Las palabras reservadas son un conjunto de palabras que no tenemos permitido usar en Python como nombres de variables.  \n",
    "¿Por qué?\n",
    "Las palabras reservadas son utilizadas para el funcionamiento interno de Python, cada una de estas palabras se emplean para que Python realice\n",
    "una acción en particular. Entonces, para no interferir con ese funcionamiento Python impide que las usemos."
   ]
  },
  {
   "cell_type": "raw",
   "id": "3b9489e0-5463-47e6-816e-50c6e1b82c37",
   "metadata": {},
   "source": [
    "A continuación se listan las 35 palabras claves que no podemos utilizar para declarar variables:"
   ]
  },
  {
   "cell_type": "markdown",
   "id": "902d1621-52ab-41fd-ab81-8d4b81be480b",
   "metadata": {},
   "source": [
    "|   |   |   |   |   |   |   |\r\n",
    "|---|---|---|---|---|---|---|\r\n",
    "| **False** | **None** | **True** | **and** | **as** | **assert** | **async** |\r\n",
    "| **await** | **break** | **class** | **continue** | **def** | **del** | **elif** |\r\n",
    "| **else** | **except** | **finally** | **for** | **from** | **global** | **if** |\r\n",
    "| **import** | **in** | **is** | **lambda** | **nonlocal** | **not** | **or** |\r\n",
    "| **pass** | **raise** | **return** | **try** | **while** | **with** | **yield** |\r\n"
   ]
  },
  {
   "cell_type": "raw",
   "id": "6fe908ca-c32c-4189-b31f-8be5d68e2347",
   "metadata": {},
   "source": [
    "No es necesario aprenderlas de memoria ya que si usamos un entorno de desarrollo, el intérprete nos advertirá en tiempo real del error. Además, con el tiempo y la práctica, vamos a incorporarlas sin siquiera darnos cuenta."
   ]
  },
  {
   "cell_type": "code",
   "execution_count": 6,
   "id": "71060098-ae19-4a57-abda-4dd8b9bdc95f",
   "metadata": {},
   "outputs": [
    {
     "ename": "SyntaxError",
     "evalue": "invalid syntax (2804095850.py, line 3)",
     "output_type": "error",
     "traceback": [
      "\u001b[1;36m  Cell \u001b[1;32mIn[6], line 3\u001b[1;36m\u001b[0m\n\u001b[1;33m    else = 23\u001b[0m\n\u001b[1;37m    ^\u001b[0m\n\u001b[1;31mSyntaxError\u001b[0m\u001b[1;31m:\u001b[0m invalid syntax\n"
     ]
    }
   ],
   "source": [
    "# Ejemplo\n",
    "z = 85\n",
    "else = 23"
   ]
  },
  {
   "cell_type": "code",
   "execution_count": 1,
   "id": "35f73145-5fe4-4996-afc0-bb0cb7f6c7f3",
   "metadata": {},
   "outputs": [
    {
     "name": "stdout",
     "output_type": "stream",
     "text": [
      "Hola mundo!\n"
     ]
    }
   ],
   "source": [
    "# ejemplo print\n",
    "print(\"Hola mundo!\")"
   ]
  },
  {
   "cell_type": "code",
   "execution_count": 2,
   "id": "a2af6ae3-f4f8-4e93-910d-8ca32f63e177",
   "metadata": {},
   "outputs": [],
   "source": [
    "print = 15"
   ]
  },
  {
   "cell_type": "code",
   "execution_count": 3,
   "id": "2e68b6f8-b333-4974-9985-4eb542f71aaf",
   "metadata": {},
   "outputs": [
    {
     "ename": "TypeError",
     "evalue": "'int' object is not callable",
     "output_type": "error",
     "traceback": [
      "\u001b[1;31m---------------------------------------------------------------------------\u001b[0m",
      "\u001b[1;31mTypeError\u001b[0m                                 Traceback (most recent call last)",
      "Cell \u001b[1;32mIn[3], line 1\u001b[0m\n\u001b[1;32m----> 1\u001b[0m \u001b[38;5;28mprint\u001b[39m(\u001b[38;5;124m\"\u001b[39m\u001b[38;5;124mHola mundo!\u001b[39m\u001b[38;5;124m\"\u001b[39m)\n",
      "\u001b[1;31mTypeError\u001b[0m: 'int' object is not callable"
     ]
    }
   ],
   "source": [
    "print(\"Hola mundo!\")"
   ]
  },
  {
   "cell_type": "code",
   "execution_count": null,
   "id": "e42ddc57-0da4-43f0-b9b8-24feea9de4be",
   "metadata": {},
   "outputs": [],
   "source": []
  },
  {
   "cell_type": "markdown",
   "id": "d5a802d8-6933-4b20-a2f8-8e7fb21ef4fd",
   "metadata": {},
   "source": [
    "<h4 style=\"background-color: #D27E24; color: black; padding: 20px;\">\n",
    "    ¿Qué puede salir mal?\n",
    "</h4>"
   ]
  },
  {
   "cell_type": "markdown",
   "id": "c69566cb-7b0f-4091-8b41-ef6f8742daec",
   "metadata": {},
   "source": [
    "##### No escribir bien el nombre de la variabla cuando la usamos en una función"
   ]
  },
  {
   "cell_type": "code",
   "execution_count": null,
   "id": "4ba97b27-4894-401b-92fd-8b814575d820",
   "metadata": {},
   "outputs": [],
   "source": [
    "suma = x + y\n",
    "print(suma)"
   ]
  },
  {
   "cell_type": "code",
   "execution_count": 7,
   "id": "89cd1bc1-66ee-4560-b545-fbb7b93277ab",
   "metadata": {},
   "outputs": [
    {
     "ename": "NameError",
     "evalue": "name 'suna' is not defined",
     "output_type": "error",
     "traceback": [
      "\u001b[1;31m---------------------------------------------------------------------------\u001b[0m",
      "\u001b[1;31mNameError\u001b[0m                                 Traceback (most recent call last)",
      "Cell \u001b[1;32mIn[7], line 1\u001b[0m\n\u001b[1;32m----> 1\u001b[0m \u001b[38;5;28mprint\u001b[39m(suna)\n",
      "\u001b[1;31mNameError\u001b[0m: name 'suna' is not defined"
     ]
    }
   ],
   "source": [
    "print(suna)"
   ]
  },
  {
   "cell_type": "markdown",
   "id": "788d2583-78bb-4cab-a49d-b024de51e924",
   "metadata": {},
   "source": [
    "##### Intentar utilizar una variable que no declaramos previamente"
   ]
  },
  {
   "cell_type": "code",
   "execution_count": 6,
   "id": "36802e59-12da-4588-9989-e2d0aede432d",
   "metadata": {},
   "outputs": [
    {
     "ename": "NameError",
     "evalue": "name 'w' is not defined",
     "output_type": "error",
     "traceback": [
      "\u001b[1;31m---------------------------------------------------------------------------\u001b[0m",
      "\u001b[1;31mNameError\u001b[0m                                 Traceback (most recent call last)",
      "Cell \u001b[1;32mIn[6], line 1\u001b[0m\n\u001b[1;32m----> 1\u001b[0m \u001b[38;5;28mprint\u001b[39m(x \u001b[38;5;241m+\u001b[39m w)\n",
      "\u001b[1;31mNameError\u001b[0m: name 'w' is not defined"
     ]
    }
   ],
   "source": [
    "# \"w\" no está declarada\n",
    "print(x + w)"
   ]
  },
  {
   "cell_type": "markdown",
   "id": "7e5cd065-09bc-40ca-a57f-b911cc1db0a6",
   "metadata": {},
   "source": [
    "##### Utilizar una palabra reservada para declarar una variable"
   ]
  },
  {
   "cell_type": "code",
   "execution_count": 11,
   "id": "21e87c55-9dbb-4f57-9785-224aaf556f36",
   "metadata": {},
   "outputs": [
    {
     "ename": "SyntaxError",
     "evalue": "invalid syntax (3997455694.py, line 1)",
     "output_type": "error",
     "traceback": [
      "\u001b[1;36m  Cell \u001b[1;32mIn[11], line 1\u001b[1;36m\u001b[0m\n\u001b[1;33m    del = 10\u001b[0m\n\u001b[1;37m        ^\u001b[0m\n\u001b[1;31mSyntaxError\u001b[0m\u001b[1;31m:\u001b[0m invalid syntax\n"
     ]
    }
   ],
   "source": [
    "del = 10"
   ]
  },
  {
   "cell_type": "markdown",
   "id": "14fb4ccf-043e-41a4-90dd-ac9fd444f774",
   "metadata": {},
   "source": [
    "<h4 style=\"background-color: #C03728; color: white; padding: 12px;\">\n",
    "    Malas prácticas\n",
    "</h4>"
   ]
  },
  {
   "cell_type": "code",
   "execution_count": null,
   "id": "9a6665fb-3b29-4243-b3b3-942d43fc5c26",
   "metadata": {},
   "outputs": [],
   "source": []
  },
  {
   "cell_type": "markdown",
   "id": "61c34049-9891-4505-9360-b13957a7028d",
   "metadata": {},
   "source": [
    "En Jupyternotebooks se puede imprimir en pantalla sin utilizar la función \"print()\". Aunque sea posible en este entorno, no se acostumbren a hacerlo ya que en otros entornos el uso de la función es obligatorio. Si lo hacen podrían crear un mal hábito que les hará perder tiempo."
   ]
  },
  {
   "cell_type": "markdown",
   "id": "2078fa4d-68e3-4153-b037-21f844ace028",
   "metadata": {},
   "source": [
    "<h4 style=\"background-color: #E7E118; color: black; padding: 20px;\">\n",
    "    Importante!!!\n",
    "</h4>"
   ]
  },
  {
   "cell_type": "markdown",
   "id": "628cc3d6-0881-420f-a3e0-23dbc52961cf",
   "metadata": {},
   "source": [
    "Los programas de Python se leen y resuelven de arriba hacia abajo. Más adelante, veremos estructuras que nos permiten alterar este flujo para \n",
    "darle más flexibilidad a nuestros programas. Dentro de cada línea se leen y resuelven de izquierda a derecha."
   ]
  },
  {
   "cell_type": "markdown",
   "id": "e20fd9b7-1d94-4bb2-b697-f718fa6ec6d7",
   "metadata": {},
   "source": [
    "Nunca utilizar la palabra \"print\" como nombre de variable porque vamos a estar rompiendo a la función \"print()\", razón por la que no vamos a poder utilizarla hasta que no reiniciemos el entorno de desarrollo. En JupyterNotebooks basta con reiniciar el Kernel para restablecer el uso de aquella función."
   ]
  },
  {
   "cell_type": "markdown",
   "id": "d55ed89d-4f62-4049-a4cc-8eb5c4e220cb",
   "metadata": {},
   "source": [
    "Python posee un número amplio de funciones internas, con el tiempo vamos a conocerlas. Tampoco deberemos utilizar sus nombres; en primer lugar para evitar problemas con el funcionamiento de Python; el segundo, es para mantener un código claro."
   ]
  },
  {
   "cell_type": "code",
   "execution_count": null,
   "id": "b4171458-14ea-4ab2-8391-970cc0d981b7",
   "metadata": {},
   "outputs": [],
   "source": []
  }
 ],
 "metadata": {
  "kernelspec": {
   "display_name": "Python 3 (ipykernel)",
   "language": "python",
   "name": "python3"
  },
  "language_info": {
   "codemirror_mode": {
    "name": "ipython",
    "version": 3
   },
   "file_extension": ".py",
   "mimetype": "text/x-python",
   "name": "python",
   "nbconvert_exporter": "python",
   "pygments_lexer": "ipython3",
   "version": "3.11.8"
  }
 },
 "nbformat": 4,
 "nbformat_minor": 5
}
