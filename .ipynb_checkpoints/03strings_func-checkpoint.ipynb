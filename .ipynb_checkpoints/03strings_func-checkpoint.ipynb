{
 "cells": [
  {
   "cell_type": "code",
   "execution_count": 2,
   "id": "b148504f-74dd-49a3-82da-d2aa79a8a5c2",
   "metadata": {},
   "outputs": [
    {
     "data": {
      "text/html": [
       "<pre style=\"white-space:pre;overflow-x:auto;line-height:normal;font-family:Menlo,'DejaVu Sans Mono',consolas,'Courier New',monospace\">Manim Community <span style=\"color: #008000; text-decoration-color: #008000\">v0.18.0</span>\n",
       "\n",
       "</pre>\n"
      ],
      "text/plain": [
       "Manim Community \u001b[32mv0.\u001b[0m\u001b[32m18.0\u001b[0m\n",
       "\n"
      ]
     },
     "metadata": {},
     "output_type": "display_data"
    }
   ],
   "source": [
    "from manim import *"
   ]
  },
  {
   "cell_type": "code",
   "execution_count": 3,
   "id": "6f1fc7a3-2d67-4078-a998-303a08b09c1b",
   "metadata": {},
   "outputs": [],
   "source": [
    "config.media_width = \"75%\"\n",
    "config.verbosity = \"WARNING\"\n",
    "config.background_color = \"#24043d\""
   ]
  },
  {
   "cell_type": "code",
   "execution_count": 4,
   "id": "bf64c183-757e-4e10-9621-9734ece5bdb1",
   "metadata": {},
   "outputs": [],
   "source": [
    "import cuadro_datos as cd\n",
    "import herramientas as h"
   ]
  },
  {
   "cell_type": "code",
   "execution_count": null,
   "id": "fd2ef6c0-c79b-4aa5-ad14-c97e3ecc5fda",
   "metadata": {},
   "outputs": [],
   "source": []
  },
  {
   "cell_type": "code",
   "execution_count": 34,
   "id": "991ed96d-3376-4699-8e09-0880ce2b0376",
   "metadata": {},
   "outputs": [
    {
     "name": "stderr",
     "output_type": "stream",
     "text": [
      "                                                                                                                       \r"
     ]
    },
    {
     "data": {
      "text/html": [
       "<video src=\"media\\jupyter\\FuncCadenas@2024-03-27@22-26-44.mp4\" controls autoplay loop style=\"max-width: 75%;\"  >\n",
       "      Your browser does not support the <code>video</code> element.\n",
       "    </video>"
      ],
      "text/plain": [
       "<IPython.core.display.Video object>"
      ]
     },
     "metadata": {},
     "output_type": "display_data"
    }
   ],
   "source": [
    "%%manim -ql FuncCadenas\n",
    "class FuncCadenas(Scene): \n",
    "#class MiClase(MovingCameraScene):\n",
    "    \n",
    "    def construct(self):\n",
    "\n",
    "        def crear_snippet(codigo):\n",
    "            \"\"\"Crea una ventana de código y lo muestra palabra por palabra\"\"\"\n",
    "            self.play(Create(codigo[0]))\n",
    "            for i in range(len(codigo[2])):\n",
    "                chars_por_seg = len(codigo[2][i])/4\n",
    "                self.play(FadeIn(codigo[1][i]))\n",
    "                self.play(AddTextLetterByLetter(codigo[2][i]), run_time=chars_por_seg, rate_func=linear)\n",
    "            self.wait(1)\n",
    "\n",
    "        def crear_contenedores(un_texto):      \n",
    "            cuadrados = VGroup(*[Square(side_length=0.8,\n",
    "                                fill_color=PINK,\n",
    "                                fill_opacity=0.95,\n",
    "                                stroke_width=2) for i in range(len(un_texto))])\n",
    "            cuadrados.arrange_in_grid(rows=1, buff=0.1)\n",
    "            return cuadrados\n",
    "         \n",
    "        def alinear_letras(un_texto, contenedores):\n",
    "            # Alinear horizontalmente las letras con la parte inferior de los cuadrados\n",
    "            for letra, cuadrado in zip(un_texto, contenedores):\n",
    "                letra.move_to(cuadrado.get_bottom(), aligned_edge=DOWN)\n",
    "            un_texto.shift(0.2 * UP)\n",
    "\n",
    "        def crear_codigo(un_texto):\n",
    "            codigo = Code(code = un_texto, tab_width = 2.25, background = \"window\",language = \"Python\", font=\"Monospace\")\n",
    "            codigo.move_to(4 * LEFT + 2.5 * UP)\n",
    "            return codigo\n",
    "        # Obtener el tamaño de la pantalla\n",
    "        ancho = self.camera.frame_width\n",
    "        alto = self.camera.frame_height\n",
    "\n",
    "        # Añadir logo\n",
    "        logo = h.Logo()\n",
    "        self.add(logo)\n",
    "\n",
    "        #grilla = h.GrillaRegla()\n",
    "        #self.add(grilla)\n",
    "\n",
    "        mi_texto = \"\"\"\n",
    "cadena = 'Hola mundo!'\n",
    "cadena.upper()\"\"\"\n",
    "        texto_interno = Text(\"hola.mundo!\")\n",
    "    \n",
    "        codigo = crear_codigo(mi_texto)\n",
    "        crear_snippet(codigo)\n",
    "        #resultado = Rectangle(width=5.5, height=1.25, fill_color=BLACK,fill_opacity=0.75, stroke_width=2)\n",
    "        #resultado.move_to(4 * LEFT + 1 * UP)\n",
    "        \n",
    "        contenedores = crear_contenedores(texto_interno)\n",
    "        contenedores[4].set_z_index(500)\n",
    "        # Alinear horizontalmente las letras con la parte inferior de los cuadrados\n",
    "        alinear_letras(texto_interno, contenedores)\n",
    "        # Agregar los contenedores y el texto a la escena\n",
    "        self.add(contenedores, texto_interno)\n",
    "        self.remove(texto_interno[4])\n",
    "        \n",
    "        # a mayúsculas\n",
    "        to_upper = Text(\"HOLA_MUNDO!\")\n",
    "        alinear_letras(to_upper, contenedores)      \n",
    "        # Indicar\n",
    "        for i in range(2):\n",
    "            self.play(Circumscribe(contenedores[0]), Circumscribe(contenedores[1]), Circumscribe(contenedores[2]), Circumscribe(contenedores[3]),\n",
    "                 Circumscribe(contenedores[4]),Circumscribe(contenedores[5]),Circumscribe(contenedores[6]),Circumscribe(contenedores[7]),\n",
    "                 Circumscribe(contenedores[8]),Circumscribe(contenedores[9]),Circumscribe(contenedores[10]))\n",
    "        self.play(Transform(texto_interno, to_upper))\n",
    "        self.remove(texto_interno[4])\n",
    "        \n",
    "        # a minúsculas\n",
    "        mi_texto2 = \"\"\"\n",
    "cadena = 'HOLA MUNDO!'\n",
    "cadena.lower()\"\"\"\n",
    "\n",
    "        to_lower = Text(\"hola_mundo!\")\n",
    "\n",
    "        codigo2 = crear_codigo(mi_texto2)\n",
    "        crear_snippet(codigo2)\n",
    "\n",
    "        alinear_letras(to_lower, contenedores)\n",
    "        # Indicar\n",
    "        for i in range(2):\n",
    "            self.play(Circumscribe(contenedores[0]), Circumscribe(contenedores[1]), Circumscribe(contenedores[2]), Circumscribe(contenedores[3]),\n",
    "                 Circumscribe(contenedores[4]),Circumscribe(contenedores[5]),Circumscribe(contenedores[6]),Circumscribe(contenedores[7]),\n",
    "                 Circumscribe(contenedores[8]),Circumscribe(contenedores[9]),Circumscribe(contenedores[10]))\n",
    "        # Transformar\n",
    "        self.play(Transform(texto_interno, to_lower))\n",
    "        self.remove(texto_interno[4])\n",
    "        # capitalize\n",
    "        mi_texto3 = \"\"\"\n",
    "cadena = 'hola mundo!'\n",
    "cadena.capitalize()\"\"\"\n",
    "\n",
    "        capitalizar = Text(\"Hola_mundo!\")\n",
    "\n",
    "        codigo3 = crear_codigo(mi_texto3)\n",
    "        crear_snippet(codigo3)\n",
    "\n",
    "        alinear_letras(capitalizar, contenedores)\n",
    "        # Indicar\n",
    "        for i in range(2):\n",
    "            self.play(Circumscribe(contenedores[0]))\n",
    "        # Transformar\n",
    "        self.play(Transform(texto_interno, capitalizar))\n",
    "        self.remove(texto_interno[4]) \n",
    "\n",
    "        mi_texto4 = \"\"\"\n",
    "cadena = 'Hola mundo!'\n",
    "cadena.title()\"\"\"\n",
    "\n",
    "        titulo = Text(\"Hola_Mundo!\")\n",
    "\n",
    "        codigo4 = crear_codigo(mi_texto4)\n",
    "        crear_snippet(codigo4)\n",
    "\n",
    "        alinear_letras(titulo, contenedores)\n",
    "        # Indicar\n",
    "        for i in range(2):\n",
    "            self.play(Circumscribe(contenedores[0]), Circumscribe(contenedores[5]))\n",
    "\n",
    "        self.play(Transform(texto_interno, titulo))\n",
    "        self.remove(texto_interno[4]) \n",
    "   \n",
    "        self.wait(3)\n",
    "        \n",
    "\n",
    "        #### strips\n",
    "        # crear contenedores extra\n",
    "        contenedor_ini = contenedores[0].copy().set_z_index(-1)\n",
    "        contenedor_ini2 = contenedores[0].copy().set_z_index(-2)\n",
    "        contenedor_ini3 = contenedores[0].copy().set_z_index(-3)\n",
    "        contenedor_fin = contenedores[-1].copy().set_z_index(-4)\n",
    "        contenedor_fin2 = contenedores[-1].copy().set_z_index(-5)\n",
    "        contenedor_fin3 = contenedores[-1].copy().set_z_index(-6)\n",
    "        # strip\n",
    "        mi_texto5 = \"\"\"\n",
    "cadena = ' Hola Mundo! '\n",
    "cadena.strip()\"\"\"\n",
    "        \n",
    "        explicacion5 = Text(\"Remueve espacios en blanco en los extremos\").scale(0.6).next_to(contenedores.get_top() + 0.5 * UP + 3 * LEFT)\n",
    "         \n",
    "        codigo5 = crear_codigo(mi_texto5)\n",
    "        crear_snippet(codigo5)\n",
    "        \n",
    "        self.play(contenedor_ini.animate.shift(LEFT * 0.9), contenedor_fin.animate.shift(RIGHT * 0.9))\n",
    "        self.play(Write(explicacion5))\n",
    "        for i in range(2):\n",
    "            self.play(Circumscribe(contenedor_ini), Circumscribe(contenedor_fin))\n",
    "        self.play(Unwrite(contenedor_ini), Unwrite(contenedor_fin), Unwrite(explicacion5))\n",
    "\n",
    "        self.wait(2)\n",
    "       \n",
    "        # rstrip\n",
    "        mi_texto6 = \"\"\"\n",
    "cadena = 'Hola Mundo!  '\n",
    "cadena.rstrip()\"\"\"\n",
    "        explicacion6 = Text(\"Remueve espacios en blanco al final de la cadena\").scale(0.6).next_to(contenedores.get_top() + 0.5 * UP + 3 * LEFT) \n",
    "        \n",
    "        codigo6 = crear_codigo(mi_texto6)\n",
    "        crear_snippet(codigo6)\n",
    "\n",
    "        self.play(contenedor_fin2.animate.shift(0.9 * RIGHT), contenedor_fin3.animate.shift(1.8 * RIGHT))\n",
    "        self.play(Write(explicacion6))\n",
    "        for i in range(2):\n",
    "            self.play(Circumscribe(contenedor_fin2), Circumscribe(contenedor_fin3))\n",
    "        self.play(Uncreate(contenedor_fin2), Uncreate(contenedor_fin3), Unwrite(explicacion6))\n",
    "        self.wait(3)\n",
    "\n",
    "        mi_texto7 = \"\"\"\n",
    "cadena = '  Hola Mundo!'\n",
    "cadena.lstrip()\"\"\"\n",
    "        explicacion7 = Text(\"Remueve espacios en blanco al inicio de la cadena\").scale(0.6).next_to(contenedores.get_top() + 0.5 * UP + 3 * LEFT) \n",
    "        \n",
    "        codigo7 = crear_codigo(mi_texto7)\n",
    "        crear_snippet(codigo7)\n",
    "\n",
    "        self.play(contenedor_ini2.animate.shift(0.9 * LEFT), contenedor_ini3.animate.shift(1.8 * LEFT))\n",
    "        self.play(Write(explicacion7))\n",
    "        for i in range(2):\n",
    "            self.play(Circumscribe(contenedor_ini2), Circumscribe(contenedor_ini3))\n",
    "        self.play(Uncreate(contenedor_ini2), Uncreate(contenedor_ini3), Unwrite(explicacion7))\n",
    "        self.wait(3)\n"
   ]
  },
  {
   "cell_type": "code",
   "execution_count": 37,
   "id": "dcaebe6a-b91d-463e-99d3-21a7c2de16a8",
   "metadata": {},
   "outputs": [
    {
     "data": {
      "text/plain": [
       "1"
      ]
     },
     "execution_count": 37,
     "metadata": {},
     "output_type": "execute_result"
    }
   ],
   "source": [
    "cadena = \"Hola mundo!                \"\n",
    "cadena.find(\"ola\")"
   ]
  },
  {
   "cell_type": "code",
   "execution_count": 38,
   "id": "ecb959bc-0de7-479a-af4b-3d3b0d5ab78d",
   "metadata": {},
   "outputs": [
    {
     "data": {
      "text/plain": [
       "1"
      ]
     },
     "execution_count": 38,
     "metadata": {},
     "output_type": "execute_result"
    }
   ],
   "source": [
    "cadena.index(\"ola\")"
   ]
  },
  {
   "cell_type": "code",
   "execution_count": null,
   "id": "005c210c-7591-43b1-8bf4-ba51d20cf948",
   "metadata": {},
   "outputs": [],
   "source": []
  },
  {
   "cell_type": "code",
   "execution_count": null,
   "id": "d60352c4-d00b-4d8f-8d6e-98f5e231ce44",
   "metadata": {},
   "outputs": [],
   "source": []
  },
  {
   "cell_type": "code",
   "execution_count": null,
   "id": "bf538a52-e5d5-4fef-9b79-98ea538ba06d",
   "metadata": {},
   "outputs": [],
   "source": []
  },
  {
   "cell_type": "code",
   "execution_count": null,
   "id": "2f0d0cef-e455-48ea-9594-0b0ced7e7313",
   "metadata": {},
   "outputs": [],
   "source": []
  }
 ],
 "metadata": {
  "kernelspec": {
   "display_name": "Python 3 (ipykernel)",
   "language": "python",
   "name": "python3"
  },
  "language_info": {
   "codemirror_mode": {
    "name": "ipython",
    "version": 3
   },
   "file_extension": ".py",
   "mimetype": "text/x-python",
   "name": "python",
   "nbconvert_exporter": "python",
   "pygments_lexer": "ipython3",
   "version": "3.11.8"
  }
 },
 "nbformat": 4,
 "nbformat_minor": 5
}
