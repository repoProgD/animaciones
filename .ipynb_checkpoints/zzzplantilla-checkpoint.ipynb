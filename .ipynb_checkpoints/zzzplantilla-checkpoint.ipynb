{
 "cells": [
  {
   "cell_type": "markdown",
   "id": "09142194-70c7-4374-8c3f-43138ab6af37",
   "metadata": {},
   "source": [
    "<h1 style=\"background-color: #24043d; color: white; padding: 25px;\">\n",
    "    H1\n",
    "</h1>"
   ]
  },
  {
   "cell_type": "markdown",
   "id": "d63d0e29-32f1-48f5-8f36-42ef008c1f79",
   "metadata": {},
   "source": [
    "<h2 style=\"background-color: #24043d; color: white; padding: 20px;\">\n",
    "    H2\n",
    "</h2>"
   ]
  },
  {
   "cell_type": "markdown",
   "id": "d324bfcf-85ce-48db-baaa-2a238dedb425",
   "metadata": {},
   "source": [
    "<h2 style=\"background-color: #24043d; color: white; padding: 20px;\">\n",
    "    H2\n",
    "</h2>"
   ]
  },
  {
   "cell_type": "markdown",
   "id": "82c4f860-9c59-4e51-ad2f-105fa2fece9e",
   "metadata": {},
   "source": [
    "<h4 style=\"background-color: green; color: white; padding: 20px;\">\n",
    "    h4 consejo\n",
    "</h4>"
   ]
  },
  {
   "cell_type": "markdown",
   "id": "14fb4ccf-043e-41a4-90dd-ac9fd444f774",
   "metadata": {},
   "source": [
    "<h4 style=\"background-color: #C03728; color: white; padding: 20px;\">\n",
    "    h4 desaconsejar\n",
    "</h4>"
   ]
  },
  {
   "cell_type": "markdown",
   "id": "2078fa4d-68e3-4153-b037-21f844ace028",
   "metadata": {},
   "source": [
    "<h4 style=\"background-color: #E7E118; color: black; padding: 20px;\">\n",
    "    h4 importante\n",
    "</h4>"
   ]
  },
  {
   "cell_type": "code",
   "execution_count": null,
   "id": "825529d8-0e67-45a9-94c6-fd0bf341cf8f",
   "metadata": {},
   "outputs": [],
   "source": []
  },
  {
   "cell_type": "code",
   "execution_count": null,
   "id": "756f8ad2-6c5c-4454-8ca9-eb6d11a51b7e",
   "metadata": {},
   "outputs": [],
   "source": []
  },
  {
   "cell_type": "code",
   "execution_count": null,
   "id": "d8277c91-76c0-4ac5-843b-e05031310fad",
   "metadata": {},
   "outputs": [],
   "source": []
  },
  {
   "cell_type": "code",
   "execution_count": null,
   "id": "1015fbfa-a221-49c0-9c81-1af18901f140",
   "metadata": {},
   "outputs": [],
   "source": []
  },
  {
   "cell_type": "code",
   "execution_count": null,
   "id": "621bcdf3-4fb4-4d58-bd38-6dff61a7da8a",
   "metadata": {},
   "outputs": [],
   "source": []
  },
  {
   "cell_type": "code",
   "execution_count": null,
   "id": "e39fd7be-7c50-4767-97b5-e1d4658037b6",
   "metadata": {},
   "outputs": [],
   "source": []
  },
  {
   "cell_type": "code",
   "execution_count": null,
   "id": "500dfd34-9412-4c4b-a1c2-e8d3e5e677aa",
   "metadata": {},
   "outputs": [],
   "source": []
  },
  {
   "cell_type": "code",
   "execution_count": null,
   "id": "bcdf54d0-fe68-4ba3-8fbc-aa214cf69e3e",
   "metadata": {},
   "outputs": [],
   "source": []
  },
  {
   "cell_type": "code",
   "execution_count": null,
   "id": "3dbf92b3-0d96-4617-87d0-ffc0243b1f21",
   "metadata": {},
   "outputs": [],
   "source": []
  },
  {
   "cell_type": "code",
   "execution_count": null,
   "id": "5097bc3d-6f6e-4eeb-bb84-a912e89c496c",
   "metadata": {},
   "outputs": [],
   "source": []
  },
  {
   "cell_type": "code",
   "execution_count": null,
   "id": "52734b2c-4785-40ed-b971-6546ac70d06b",
   "metadata": {},
   "outputs": [],
   "source": []
  }
 ],
 "metadata": {
  "kernelspec": {
   "display_name": "Python 3 (ipykernel)",
   "language": "python",
   "name": "python3"
  },
  "language_info": {
   "codemirror_mode": {
    "name": "ipython",
    "version": 3
   },
   "file_extension": ".py",
   "mimetype": "text/x-python",
   "name": "python",
   "nbconvert_exporter": "python",
   "pygments_lexer": "ipython3",
   "version": "3.11.7"
  }
 },
 "nbformat": 4,
 "nbformat_minor": 5
}
