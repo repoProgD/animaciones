{
 "cells": [
  {
   "cell_type": "markdown",
   "id": "09142194-70c7-4374-8c3f-43138ab6af37",
   "metadata": {},
   "source": [
    "<h1 style=\"background-color: #24043d; color: white; padding: 25px;\">\n",
    "    Sintaxis\n",
    "</h1>"
   ]
  },
  {
   "cell_type": "markdown",
   "id": "85c8a22e-d1b4-4327-b702-163e448edb74",
   "metadata": {},
   "source": [
    "La sintaxis es el conjunto de reglas y estructuras que determinan cómo se combinan las palabras y los elementos gramaticales para formar oraciones y expresiones correctas en ese idioma.\n",
    "Yo salto a caminar."
   ]
  },
  {
   "cell_type": "code",
   "execution_count": 5,
   "id": "38347b3d-ad85-4d61-afbb-619b8a5357be",
   "metadata": {},
   "outputs": [
    {
     "name": "stdout",
     "output_type": "stream",
     "text": [
      "hola\n"
     ]
    }
   ],
   "source": [
    "print(\"hola\")"
   ]
  },
  {
   "cell_type": "markdown",
   "id": "2e4a900d-0eb9-448f-849c-685b72fbeac2",
   "metadata": {},
   "source": [
    "La sintaxis de Python es un conjunto de reglas y estructuras que me dicen como se combinan los símbolos para crear sentencias y expresiones correctas.\n",
    "Las sentencias son instrucciones completas que ejecutan una tarea, mientras que las expresiones son cálculos simples que producen un valor. A lo largo del curso vamos a ir descubriendo distintas reglas y estructuras.\n",
    "Ejemplo de sentencia: print(\"hola\")\n",
    "Ejemplo de expresión: 5+2"
   ]
  },
  {
   "cell_type": "markdown",
   "id": "2078fa4d-68e3-4153-b037-21f844ace028",
   "metadata": {},
   "source": [
    "<h4 style=\"background-color: #E7E118; color: black; padding: 20px;\">\n",
    "    Importante!!!\n",
    "</h4>"
   ]
  },
  {
   "cell_type": "markdown",
   "id": "7530a078-5c9d-4614-86c4-c93fdb07e093",
   "metadata": {},
   "source": [
    "Python solo entiende y ejecuta expresiones correctas.\n",
    "Ejemplo: expresión incorrecta: print{\"hola\"}, expresión correcta: print(\"hola\")"
   ]
  },
  {
   "cell_type": "code",
   "execution_count": null,
   "id": "d8277c91-76c0-4ac5-843b-e05031310fad",
   "metadata": {},
   "outputs": [],
   "source": []
  }
 ],
 "metadata": {
  "kernelspec": {
   "display_name": "Python 3 (ipykernel)",
   "language": "python",
   "name": "python3"
  },
  "language_info": {
   "codemirror_mode": {
    "name": "ipython",
    "version": 3
   },
   "file_extension": ".py",
   "mimetype": "text/x-python",
   "name": "python",
   "nbconvert_exporter": "python",
   "pygments_lexer": "ipython3",
   "version": "3.11.7"
  }
 },
 "nbformat": 4,
 "nbformat_minor": 5
}
