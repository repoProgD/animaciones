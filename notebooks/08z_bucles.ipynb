{
 "cells": [
  {
   "cell_type": "markdown",
   "id": "09142194-70c7-4374-8c3f-43138ab6af37",
   "metadata": {},
   "source": [
    "<h1 style=\"background-color: #24043d; color: white; padding: 25px;\">\n",
    "   Bucles\n",
    "</h1>"
   ]
  },
  {
   "cell_type": "markdown",
   "id": "8da8fedb-5bc3-4705-922b-289bb05df9a9",
   "metadata": {},
   "source": [
    "##### **En esta sección, aprenderemos sobre los dos tipos principales de bucles en Python: el bucle `for` y el bucle `while`.**"
   ]
  },
  {
   "cell_type": "markdown",
   "id": "af57f0ce-eb76-464e-b961-a8ddbbb6afc1",
   "metadata": {},
   "source": [
    "<p style=\"background-color: #C483F7; color: black; padding: 12px;\">\n",
    "    Definición: Los bucles son estructuras de control que nos permiten ejecutar un bloque de código <b>repetidamente</b> mientras se cumpla una condición.\n",
    "</p>"
   ]
  },
  {
   "cell_type": "markdown",
   "id": "3f0c7f8b-f578-4954-8317-255db9c3c559",
   "metadata": {},
   "source": [
    "<p style=\"background-color: #C483F7; color: black; padding: 12px;\">\n",
    "    Definición: Se conoce como \"iterar\" a la repetición de un conjunto de acciones, con el objetivo de alcanzar un resultado deseado o mejorar un proceso. Cada repetición del proceso se denomina iteración.\n",
    "</p>"
   ]
  },
  {
   "cell_type": "markdown",
   "id": "d63d0e29-32f1-48f5-8f36-42ef008c1f79",
   "metadata": {},
   "source": [
    "<h2 style=\"background-color: #24043d; color: white; padding: 12px;\">\n",
    "    1. Bucle for\n",
    "</h2>"
   ]
  },
  {
   "cell_type": "markdown",
   "id": "71cf13bf-66df-4bed-aaa6-fab95461a9f5",
   "metadata": {},
   "source": [
    "##### **El bucle (o ciclo) for en Python se utiliza para recorrer una secuencia (como una string, lista o una tupla) y ejecutar un bloque de código para cada elemento de esa secuencia. También se puede utilizar para iterar sobre otras estructuras de datos, como por ejemplo diccionarios y conjuntos.**"
   ]
  },
  {
   "cell_type": "markdown",
   "id": "d4f13cfb-61c9-4683-a020-2db758a7a9fe",
   "metadata": {},
   "source": [
    "<p style=\"background-color: #C483F7; color: black; padding: 12px;\">\n",
    "    <b>Sintaxis:</b> <br> \n",
    "    <b>for elemento in mi_iterable:</b><br>\n",
    "    &emsp;&emsp;<b>cuerpo del bucle</b>   &emsp;&emsp;&emsp;&emsp;&emsp;&emsp;&emsp;&emsp;     #se ejecuta una vez para cada elemento en la secuencia\n",
    "</p>"
   ]
  },
  {
   "cell_type": "markdown",
   "id": "e59522a2-777d-4b76-89a6-2829b336d1f0",
   "metadata": {},
   "source": [
    "### **1.1.  Iteración sobre strings**"
   ]
  },
  {
   "cell_type": "markdown",
   "id": "29ce3300-dc3b-46b6-9d65-e41732e79a12",
   "metadata": {},
   "source": [
    "##### **Sabemos que las strings son una secuencia de caracteres. Entonces, la iteración de strings se realiza sobre cada caracter, no sobre cada palabra.**"
   ]
  },
  {
   "cell_type": "markdown",
   "id": "431d4523-e347-44b5-b51d-98ad5a7f6ff3",
   "metadata": {},
   "source": [
    "##### **Ejemplo 1**\n",
    "**Queremos averiguar cuántas letras hay en una cadena**"
   ]
  },
  {
   "cell_type": "code",
   "execution_count": 2,
   "id": "63c3ff67-af27-4be8-9f2c-6a5eb1018379",
   "metadata": {},
   "outputs": [],
   "source": [
    "cadena = \"El fútbol es un deporte en el que se efrentan dos equipos de once jugadores.\""
   ]
  },
  {
   "cell_type": "code",
   "execution_count": 3,
   "id": "cd6c98eb-7a03-4e30-b50c-5d69e5d14b78",
   "metadata": {},
   "outputs": [
    {
     "name": "stdout",
     "output_type": "stream",
     "text": [
      "61\n"
     ]
    }
   ],
   "source": [
    "letras = 0\n",
    "espacios = 0 \n",
    "otros = 0\n",
    "for caracter in cadena:\n",
    "    if caracter.isalpha():\n",
    "        letras +=1\n",
    "\n",
    "print(letras)"
   ]
  },
  {
   "cell_type": "code",
   "execution_count": 4,
   "id": "0c260c58-6fd8-43ed-befe-b1d56986b5f3",
   "metadata": {},
   "outputs": [
    {
     "name": "stdout",
     "output_type": "stream",
     "text": [
      "14\n",
      "1\n",
      "76\n"
     ]
    }
   ],
   "source": [
    "for caracter in cadena:\n",
    "    if caracter == \" \":\n",
    "        espacios += 1\n",
    "    elif caracter.isalpha() != True:\n",
    "        otros +=1\n",
    "print(espacios)\n",
    "print(otros)\n",
    "print(letras + espacios + otros)   "
   ]
  },
  {
   "cell_type": "code",
   "execution_count": 5,
   "id": "f5b1172a-e91e-4f1a-81b9-1f7b5c9df8cc",
   "metadata": {},
   "outputs": [
    {
     "name": "stdout",
     "output_type": "stream",
     "text": [
      "76\n"
     ]
    }
   ],
   "source": [
    "print(len(cadena))"
   ]
  },
  {
   "cell_type": "markdown",
   "id": "954b6ccb-2f57-4200-86a0-1d251154cd74",
   "metadata": {},
   "source": [
    "##### **Ejemplo 2**\n",
    "**Queremos saber cuántas veces aparece la letra a en un texto**"
   ]
  },
  {
   "cell_type": "code",
   "execution_count": 8,
   "id": "5b9c18aa-35da-4dd0-a38b-c781a99892de",
   "metadata": {},
   "outputs": [
    {
     "name": "stdout",
     "output_type": "stream",
     "text": [
      "Hay 2 letras 'a' en nuestra cadena.\n"
     ]
    }
   ],
   "source": [
    "contador = 0\n",
    "buscada = 'a'\n",
    "for caracter in cadena:\n",
    "    if caracter == buscada:\n",
    "        contador +=1\n",
    "print(f\"Hay {contador} letras '{buscada}' en nuestra cadena.\")"
   ]
  },
  {
   "cell_type": "markdown",
   "id": "abfc2363-7026-4ac7-ba3d-efc1f42d0674",
   "metadata": {},
   "source": [
    "##### **h5**"
   ]
  },
  {
   "cell_type": "markdown",
   "id": "0602b8b7-9eab-4da5-8f57-904a05f623b0",
   "metadata": {},
   "source": [
    "##### **h5**"
   ]
  },
  {
   "cell_type": "markdown",
   "id": "95d9067f-6956-4d80-b95e-e18980b99242",
   "metadata": {},
   "source": [
    "##### **h5**"
   ]
  },
  {
   "cell_type": "code",
   "execution_count": null,
   "id": "edf4fc06-3ff1-424f-817c-d4d281d079c9",
   "metadata": {},
   "outputs": [],
   "source": []
  },
  {
   "cell_type": "markdown",
   "id": "fe025ecd-ad59-46c7-b425-5be5af829d88",
   "metadata": {},
   "source": [
    "### **1.2.  Iteración sobre listas**"
   ]
  },
  {
   "cell_type": "code",
   "execution_count": 11,
   "id": "5db276a8-cdcc-413f-89e5-17e0999ad2da",
   "metadata": {},
   "outputs": [],
   "source": [
    "paises = [\"Argentina\", \"Bolivia\", \"Chile\", \"Colombia\", \"Costa Rica\", \"Cuba\", \"Ecuador\", \"El Salvador\", \"España\",\n",
    "        \"Guatemala\", \"Guinea Ecuatorial\", \"Honduras\", \"México\", \"Nicaragua\", \"Panamá\", \"Paraguay\", \"Perú\",\n",
    "        \"Puerto Rico\", \"República Dominicana\", \"Uruguay\", \"Venezuela\"]"
   ]
  },
  {
   "cell_type": "code",
   "execution_count": 12,
   "id": "7e442a93-ce51-4f7b-9bc0-23b63098f5b5",
   "metadata": {},
   "outputs": [
    {
     "name": "stdout",
     "output_type": "stream",
     "text": [
      "PANAMÁ\n",
      "PARAGUAY\n",
      "PERÚ\n",
      "PUERTO RICO\n",
      "['Argentina', 'Bolivia', 'Chile', 'Colombia', 'Costa Rica', 'Cuba', 'Ecuador', 'El Salvador', 'España', 'Guatemala', 'Guinea Ecuatorial', 'Honduras', 'México', 'Nicaragua', 'Panamá', 'Paraguay', 'Perú', 'Puerto Rico', 'República Dominicana', 'Uruguay', 'Venezuela']\n"
     ]
    }
   ],
   "source": [
    "for pais in paises:\n",
    "    if pais.startswith(\"P\"):\n",
    "        pais = pais.upper()\n",
    "        print(pais)\n",
    "print(paises)"
   ]
  },
  {
   "cell_type": "markdown",
   "id": "e843a624-c239-4ff0-8d6c-7b313626df6d",
   "metadata": {},
   "source": [
    "### **1.3.  Iteración sobre tuplas**"
   ]
  },
  {
   "cell_type": "code",
   "execution_count": null,
   "id": "cc776c0d-95be-4435-8758-a41c20e40d61",
   "metadata": {},
   "outputs": [],
   "source": []
  },
  {
   "cell_type": "code",
   "execution_count": null,
   "id": "00da248a-3550-4c3d-b78b-59ea7a60283f",
   "metadata": {},
   "outputs": [],
   "source": []
  },
  {
   "cell_type": "markdown",
   "id": "d324bfcf-85ce-48db-baaa-2a238dedb425",
   "metadata": {},
   "source": [
    "<h2 style=\"background-color: #24043d; color: white; padding: 12px;\">\n",
    "    2. Bucle for basado en índices\n",
    "</h2>"
   ]
  },
  {
   "cell_type": "markdown",
   "id": "fd31c732-aabe-408f-a6f2-9cb6ce1588cd",
   "metadata": {},
   "source": [
    "El bucle for es muy sencillo de utilizar sobre estructuras secuenciales como la lista. Sin embargo, tiene una debilidad importante ya que el elemento que creamos en la sentencia for es solo una variable temporal(en el ejemplo anterior \"pais\" en \"for pais in paises:\"). Por lo tanto, no podemos modificar los valores de una lista con un for estandar. Si queremos modificar los valores de la lista deberemos utilizar la función range() en conjunto con el for. De esta manera, podremos acceder a los índices en lugar de a los elementos. Una vez que accedemos al índice, Python nos permite realizar la\n",
    "modificación del valor que se encuentre en esa posición. \n",
    "A menudo, vamos a necesitar conocer el índice de un elemento dentro de un iterable, entonces  el bucle basado en índices se convierte en una herramienta\n",
    "crucial para operar sobre iterables. "
   ]
  },
  {
   "cell_type": "markdown",
   "id": "5b32041d-e1ef-4e8b-b377-dc1d21720197",
   "metadata": {},
   "source": [
    "<p style=\"background-color: #C483F7; color: black; padding: 12px;\">\n",
    "    Sintaxis: <br>\n",
    "    <b>for i in range(int):</b><br>\n",
    "    &emsp;&emsp;<b>cuerpo del bucle</b>   &emsp;&emsp;&emsp;&emsp;&emsp;&emsp;&emsp;&emsp;     #se ejecuta una vez para cada elemento en la secuencia\n",
    "</p>"
   ]
  },
  {
   "cell_type": "markdown",
   "id": "eebb7733-3431-4a62-84ff-e6692f777d60",
   "metadata": {},
   "source": [
    "### **2.1. Iteración sobre listas**"
   ]
  },
  {
   "cell_type": "code",
   "execution_count": 13,
   "id": "d949e4e7-7dd9-45fb-8c3f-57397de7129a",
   "metadata": {},
   "outputs": [
    {
     "name": "stdout",
     "output_type": "stream",
     "text": [
      "PANAMÁ\n",
      "PARAGUAY\n",
      "PERÚ\n",
      "PUERTO RICO\n",
      "['Argentina', 'Bolivia', 'Chile', 'Colombia', 'Costa Rica', 'Cuba', 'Ecuador', 'El Salvador', 'España', 'Guatemala', 'Guinea Ecuatorial', 'Honduras', 'México', 'Nicaragua', 'PANAMÁ', 'PARAGUAY', 'PERÚ', 'PUERTO RICO', 'República Dominicana', 'Uruguay', 'Venezuela']\n"
     ]
    }
   ],
   "source": [
    "for i in range(len(paises)):            # len(paises) cuenta la cantidad de elemntos de la lista países. Por lo tanto, es un int.\n",
    "    if paises[i].startswith(\"P\"):\n",
    "        paises[i] = paises[i].upper()\n",
    "        print(paises[i])\n",
    "print(paises)"
   ]
  },
  {
   "cell_type": "markdown",
   "id": "c2e9ff96-4e0a-40f7-af1a-42aa736975c9",
   "metadata": {},
   "source": [
    "##### **h5**"
   ]
  },
  {
   "cell_type": "code",
   "execution_count": null,
   "id": "4a426bb6-2bf9-4f79-abe5-27c75743559a",
   "metadata": {},
   "outputs": [],
   "source": []
  },
  {
   "cell_type": "markdown",
   "id": "227ab9a6-9974-46a3-aa80-61469b2d660f",
   "metadata": {},
   "source": [
    "<h2 style=\"background-color: #24043d; color: white; padding: 12px;\">\n",
    "    3. Bucle While\n",
    "</h2>"
   ]
  },
  {
   "cell_type": "markdown",
   "id": "9fa8bc8c-5758-4687-a66e-248956d39bbd",
   "metadata": {},
   "source": [
    "### **3.1. Definiciones y ejemplos**"
   ]
  },
  {
   "cell_type": "markdown",
   "id": "f3d658c1-ec9a-408d-8f2f-30a954df39c9",
   "metadata": {},
   "source": [
    "El bucle `while` es otro tipo de ciclo que sirve para controlar el flujo de un programa. Se utiliza principalmente para iterar sobre una secuencia de elementos (como una lista o una cadena). A diferencia del ciclo `for`, \n",
    "el `while` se ejecuta mientras una condición sea verdadera. En otras palabras, si la condición es verdadera, el bloque de código se ejecuta; si es falsa, el bucle `while`termina y la ejecución continúa con el código que sigue después del bucle."
   ]
  },
  {
   "cell_type": "markdown",
   "id": "08b150f1-efcb-46bf-b2db-2dbe4d64c834",
   "metadata": {},
   "source": [
    "<p style=\"background-color: #C483F7; color: black; padding: 12px;\">\n",
    "    Definición: Una variable de control es una variable que se utiliza para controlar el flujo de un programa. En el contexto de los bucles, se utiliza para determinar cuándo debe continuar o terminar un bucle.\n",
    "</p>"
   ]
  },
  {
   "cell_type": "code",
   "execution_count": 5,
   "id": "c20fc939-19f1-42d1-b9f5-fbfeec1a968e",
   "metadata": {},
   "outputs": [
    {
     "name": "stdout",
     "output_type": "stream",
     "text": [
      "El número a tiene un solo dígito, a es igual a: 0\n",
      "El número a tiene un solo dígito, a es igual a: 1\n",
      "El número a tiene un solo dígito, a es igual a: 2\n",
      "El número a tiene un solo dígito, a es igual a: 3\n",
      "El número a tiene un solo dígito, a es igual a: 4\n",
      "El número a tiene un solo dígito, a es igual a: 5\n",
      "El número a tiene un solo dígito, a es igual a: 6\n",
      "El número a tiene un solo dígito, a es igual a: 7\n",
      "El número a tiene un solo dígito, a es igual a: 8\n",
      "El número a tiene un solo dígito, a es igual a: 9\n"
     ]
    }
   ],
   "source": [
    "a = 0\n",
    "while a < 10:\n",
    "    print(f\"El número a tiene un solo dígito, a es igual a: {a}\")\n",
    "    a += 1"
   ]
  },
  {
   "cell_type": "code",
   "execution_count": 5,
   "id": "1f433fd3-49a9-4d35-b4af-2e27155fe392",
   "metadata": {},
   "outputs": [
    {
     "name": "stdout",
     "output_type": "stream",
     "text": [
      "1000000\n"
     ]
    }
   ],
   "source": [
    "a = 0\n",
    "while a < 1_000_000:\n",
    "    a += 1\n",
    "print(a)"
   ]
  },
  {
   "cell_type": "code",
   "execution_count": 3,
   "id": "c3af189c-6a4c-4bb6-8e3e-f26c377ccf1e",
   "metadata": {},
   "outputs": [
    {
     "name": "stdout",
     "output_type": "stream",
     "text": [
      "1\n",
      "2\n",
      "3\n",
      "4\n",
      "5\n",
      "6\n",
      "7\n",
      "8\n",
      "9\n",
      "10\n",
      "11\n",
      "12\n",
      "0 12\n"
     ]
    }
   ],
   "source": [
    "minuto = 0\n",
    "hora = 1\n",
    "print(hora)\n",
    "while hora < 12:\n",
    "    minuto +=1\n",
    "    if minuto == 60:\n",
    "        hora +=1\n",
    "        print(hora)\n",
    "        minuto = 0\n",
    "print(minuto, hora)        "
   ]
  },
  {
   "cell_type": "markdown",
   "id": "70a3fc6d-a184-4deb-b79d-99d402d3e763",
   "metadata": {},
   "source": [
    "### **3.2. Bucle infinito**"
   ]
  },
  {
   "cell_type": "markdown",
   "id": "b15c79c6-c329-4dc6-b7ca-1ba48a457e28",
   "metadata": {},
   "source": [
    "##### **Ya dijimos que el ciclo while se ejecuta mientras la condición sea verdadera y, lo que es lo mismo, se detiene cuando la condición es falsa.**\n",
    "**Entonces, ¿qué pasa si la condición nunca se hace verdadera?**  \n",
    "  \n",
    "##### **Entonces el ciclo no se detendrá y se ejecutará indefinidamente**"
   ]
  },
  {
   "cell_type": "markdown",
   "id": "b2c012cc-6c03-4e2a-af98-f1174164eb29",
   "metadata": {},
   "source": [
    "**Los bucles infinitos son peligrosos por algunas razones**\n",
    "1) Consumen recursos y no los liberan, la única manera de terminar un ciclo infinito es forzando el cierre del proceso que lleva adelante el ciclo.\n",
    "2) Si no se detienen probablemente consumirán toda la memoria disponible.\n",
    "3) En sistemas complejos pueden crear vulnerabilidades de seguridad."
   ]
  },
  {
   "cell_type": "code",
   "execution_count": null,
   "id": "3ab0c001-1fa3-4ff9-bb86-a47951d0b79e",
   "metadata": {},
   "outputs": [],
   "source": []
  },
  {
   "cell_type": "markdown",
   "id": "aa07452b-f8ec-43d7-a187-48c7ffdbc872",
   "metadata": {},
   "source": [
    "<h2 style=\"background-color: #24043d; color: white; padding: 12px;\">\n",
    "    4. Sentencias break y continue\n",
    "</h2>"
   ]
  },
  {
   "cell_type": "code",
   "execution_count": null,
   "id": "3f5945d5-f98b-4768-aad2-49ff8d135e94",
   "metadata": {},
   "outputs": [],
   "source": [
    "Estos comandos sirven para añadir más control a nuestros ciclos."
   ]
  },
  {
   "cell_type": "markdown",
   "id": "3fa38c34-1cde-4a87-ac8f-1bde3b5b95d3",
   "metadata": {},
   "source": [
    "### **4.1. Sentencia `break`**"
   ]
  },
  {
   "cell_type": "markdown",
   "id": "38038ae0-2312-476d-9ae9-579a970062bd",
   "metadata": {},
   "source": [
    "##### **El comando `break` hará que el ciclo al que pertenece se finalice. Puede utilizarse en ciclos `while` y ciclos `for`**"
   ]
  },
  {
   "cell_type": "code",
   "execution_count": 5,
   "id": "d7f22b39-5af6-4cc6-bfcc-52a9ea462ba5",
   "metadata": {},
   "outputs": [
    {
     "name": "stdout",
     "output_type": "stream",
     "text": [
      "1\n",
      "2\n",
      "3\n",
      "4\n"
     ]
    }
   ],
   "source": [
    "# Ejemplo de break en un ciclo for\n",
    "for i in range(1, 11):\n",
    "    if i == 5:\n",
    "        break  # Salir del bucle cuando i es igual a 5\n",
    "    print(i)\n"
   ]
  },
  {
   "cell_type": "code",
   "execution_count": 6,
   "id": "efdc7693-ef64-4b87-9fdf-389efaecf081",
   "metadata": {},
   "outputs": [
    {
     "name": "stdout",
     "output_type": "stream",
     "text": [
      "1\n",
      "2\n",
      "3\n",
      "4\n"
     ]
    }
   ],
   "source": [
    "# Ejemplo de break en un ciclo while\n",
    "i = 1\n",
    "while i < 11:\n",
    "    if i == 5:\n",
    "        break  # Salir del bucle cuando i es igual a 5\n",
    "    print(i)\n",
    "    i += 1\n"
   ]
  },
  {
   "cell_type": "markdown",
   "id": "cd47719a-4a25-4220-96e1-ccae5049e839",
   "metadata": {},
   "source": [
    "### **4.2. Sentencia `continue`**"
   ]
  },
  {
   "cell_type": "markdown",
   "id": "f6c4cbb3-162f-4dcf-87f6-e102165a7c35",
   "metadata": {},
   "source": [
    "##### **El comando `continue` detendrá la iteracción actual y seguirá con la siguiente**"
   ]
  },
  {
   "cell_type": "code",
   "execution_count": 4,
   "id": "9cbab61f-7a18-4018-ab92-7722b4368ae2",
   "metadata": {},
   "outputs": [
    {
     "name": "stdout",
     "output_type": "stream",
     "text": [
      "1\n",
      "3\n",
      "5\n",
      "7\n",
      "9\n"
     ]
    }
   ],
   "source": [
    "# Ejemplo de continue en un ciclo for\n",
    "for i in range(1, 11):\n",
    "    if i % 2 == 0:\n",
    "        continue  # Saltar la impresión si i es par\n",
    "    print(i)\n"
   ]
  },
  {
   "cell_type": "code",
   "execution_count": 7,
   "id": "99ec8a37-4e71-4b96-8d8a-9a8ff94412ff",
   "metadata": {},
   "outputs": [
    {
     "name": "stdout",
     "output_type": "stream",
     "text": [
      "1\n",
      "3\n",
      "5\n",
      "7\n",
      "9\n"
     ]
    }
   ],
   "source": [
    "# Ejemplo de continue en un ciclo while\n",
    "i = 1\n",
    "while i < 11:\n",
    "    if i % 2 == 0:\n",
    "        i += 1\n",
    "        continue  # Saltar la impresión si i es par\n",
    "    print(i)\n",
    "    i += 1\n"
   ]
  },
  {
   "cell_type": "code",
   "execution_count": null,
   "id": "d41f1626-7007-4d96-a33d-1a7cc3145a89",
   "metadata": {},
   "outputs": [],
   "source": []
  },
  {
   "cell_type": "markdown",
   "id": "82c4f860-9c59-4e51-ad2f-105fa2fece9e",
   "metadata": {},
   "source": [
    "<h4 style=\"background-color: green; color: white; padding: 12px;\">\n",
    "    Buenas prácticas de programación:\n",
    "</h4>"
   ]
  },
  {
   "cell_type": "markdown",
   "id": "4be59a37-cd34-4b46-a29d-aaaf471c73d4",
   "metadata": {},
   "source": [
    "###### **Usa la función range() cuando sea apropiado: La función range() es útil para generar secuencias de números que se pueden iterar en un bucle.**"
   ]
  },
  {
   "cell_type": "markdown",
   "id": "81f18b04-b052-4afb-996b-2dbed5cb97ed",
   "metadata": {},
   "source": [
    "###### **Usa comentarios: Si el bucle es complejo o realiza tareas específicas, agrega comentarios para explicar lo que hace cada parte del bucle.**"
   ]
  },
  {
   "cell_type": "markdown",
   "id": "831b8204-9024-4464-ad5d-b08638479348",
   "metadata": {},
   "source": [
    "###### **Evita el uso excesivo de la sentencia break**"
   ]
  },
  {
   "cell_type": "markdown",
   "id": "d5a802d8-6933-4b20-a2f8-8e7fb21ef4fd",
   "metadata": {},
   "source": [
    "<h4 style=\"background-color: #D27E24; color: black; padding: 12px;\">\n",
    "    ¿Qué puede salir mal?\n",
    "</h4>"
   ]
  },
  {
   "cell_type": "markdown",
   "id": "21562a19-e557-4714-8313-1e06e9876637",
   "metadata": {},
   "source": [
    "###### **Crear un bucle infinito. El bucle no tiene una condición de salida o no tiene una variable atualizable que lo haga alcanzar la condición de salida.**"
   ]
  },
  {
   "cell_type": "markdown",
   "id": "2078fa4d-68e3-4153-b037-21f844ace028",
   "metadata": {},
   "source": [
    "<h4 style=\"background-color: #E7E118; color: black; padding: 12px;\">\n",
    "   Importante!\n",
    "</h4>"
   ]
  },
  {
   "cell_type": "markdown",
   "id": "a4faf56e-955b-40a7-bb2a-28210b47d555",
   "metadata": {},
   "source": [
    "###### **&#8544;) Asegúrate de que tu bucle tenga una condición de salida para evitar que se ejecute indefinidamente.**"
   ]
  },
  {
   "cell_type": "markdown",
   "id": "2ca187f2-a59e-4169-8796-a1b1a56dd058",
   "metadata": {},
   "source": [
    "###### **&#8545;) h5**"
   ]
  },
  {
   "cell_type": "markdown",
   "id": "eeb18f28-15b5-418a-9d26-a666df509eca",
   "metadata": {},
   "source": [
    "###### **&#8546;) h5**"
   ]
  },
  {
   "cell_type": "markdown",
   "id": "940d6833-8179-4260-8275-cb84e7d0f97e",
   "metadata": {},
   "source": [
    "###### **&#8547;) h5**"
   ]
  },
  {
   "cell_type": "markdown",
   "id": "e38bb6df-de7d-4608-b6cd-c2352df64407",
   "metadata": {},
   "source": [
    "###### **&#8548;) h5**"
   ]
  },
  {
   "cell_type": "markdown",
   "id": "40b9dcdc-586b-49f4-96d5-56be4724ae47",
   "metadata": {},
   "source": [
    "###### **h5**"
   ]
  },
  {
   "cell_type": "markdown",
   "id": "df661945-ed14-4bfd-aa16-d9f2fe2002ce",
   "metadata": {},
   "source": [
    "##### **h5**"
   ]
  },
  {
   "cell_type": "code",
   "execution_count": null,
   "id": "152d7d5b-afb3-4b1b-ab53-ec263d3f3f68",
   "metadata": {},
   "outputs": [],
   "source": []
  }
 ],
 "metadata": {
  "kernelspec": {
   "display_name": "Python 3 (ipykernel)",
   "language": "python",
   "name": "python3"
  },
  "language_info": {
   "codemirror_mode": {
    "name": "ipython",
    "version": 3
   },
   "file_extension": ".py",
   "mimetype": "text/x-python",
   "name": "python",
   "nbconvert_exporter": "python",
   "pygments_lexer": "ipython3",
   "version": "3.11.8"
  }
 },
 "nbformat": 4,
 "nbformat_minor": 5
}
