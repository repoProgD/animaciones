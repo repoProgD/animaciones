{
 "cells": [
  {
   "cell_type": "markdown",
   "id": "09142194-70c7-4374-8c3f-43138ab6af37",
   "metadata": {},
   "source": [
    "<h1 style=\"background-color: #24043d; color: white; padding: 25px;\">\n",
    "   Casting\n",
    "</h1>"
   ]
  },
  {
   "cell_type": "markdown",
   "id": "4211dc10-79c2-4cf0-abbe-495d16089621",
   "metadata": {},
   "source": [
    "<p style=\"background-color: #C483F7; color: black; padding: 12px;\">\n",
    "    Definición: El casting, es el proceso de cambiar un tipo de datos a otro en un programa. Python es un lenguaje de tipado dinámico, lo que significa que las variables pueden cambiar de tipo durante la ejecución del programa. Con esto nos referimos a que un float puede pasar a ser un int, una string puede ser un int, o cualquiera de los datos numéricos pueden convertirse en string. Estas son solo algunas conversiones entre tipos de datos pero existen muchas más.\n",
    "</p>"
   ]
  },
  {
   "cell_type": "markdown",
   "id": "85c8a22e-d1b4-4327-b702-163e448edb74",
   "metadata": {},
   "source": [
    "<p style=\"background-color: #C483F7; color: black; padding: 12px;\">\n",
    "    Sintaxis: Para cambiar un tipo de dato debemos antepone el tipo de datos al que queremo convertir nuestro dato o variable. \n",
    "    Por ejemplo, si escribimos `str(3.141592)` python tomará el número decimal y lo convertirá a tipo de dato string.\n",
    "</p>"
   ]
  },
  {
   "cell_type": "markdown",
   "id": "70bb187e-bb6f-4dfe-b52a-5abd8749651e",
   "metadata": {},
   "source": [
    "<p style=\"background-color: #C483F7; color: black; padding: 12px;\">\n",
    "    ¿Para qué sirve?: \n",
    "    Brinda flexivilidad ya que permite manipular y trabajar con distintos tipos de datos en un mismo programa.\n",
    "    \n",
    "</p>"
   ]
  },
  {
   "cell_type": "code",
   "execution_count": null,
   "id": "2faa7da7-9a97-48a1-b3b6-610dccf02ff0",
   "metadata": {},
   "outputs": [],
   "source": [
    "El casting es importante por varias razones:\n",
    "\n",
    "Flexibilidad: Permite manipular y trabajar con diferentes tipos de datos en el mismo programa.\n",
    "Compatibilidad: Facilita la interoperabilidad entre diferentes partes de un programa que pueden esperar diferentes tipos de datos.\n",
    "Precisiones numéricas: En operaciones numéricas, a veces es necesario convertir entre tipos para evitar errores de precisión.\n",
    "Interacción con el usuario: Al recibir datos del usuario, es común que estos datos se ingresen como cadenas y necesiten ser convertidos a otros tipos para su procesamiento."
   ]
  },
  {
   "cell_type": "markdown",
   "id": "d63d0e29-32f1-48f5-8f36-42ef008c1f79",
   "metadata": {},
   "source": [
    "<h2 style=\"background-color: #24043d; color: white; padding: 12px;\">\n",
    "    1.\n",
    "</h2>"
   ]
  },
  {
   "cell_type": "markdown",
   "id": "a416c91f-00a2-407a-b699-e9d23da26a3e",
   "metadata": {},
   "source": [
    "### **1..**"
   ]
  },
  {
   "cell_type": "markdown",
   "id": "954b6ccb-2f57-4200-86a0-1d251154cd74",
   "metadata": {},
   "source": [
    "##### **h5**"
   ]
  },
  {
   "cell_type": "code",
   "execution_count": 4,
   "id": "7d32db85-29d6-463f-88a2-2fa3954af28f",
   "metadata": {},
   "outputs": [],
   "source": [
    "numero = 10"
   ]
  },
  {
   "cell_type": "code",
   "execution_count": 5,
   "id": "e05ebda5-0262-44fb-b651-6e365bce9a3c",
   "metadata": {},
   "outputs": [],
   "source": [
    "numero = str(numero)"
   ]
  },
  {
   "cell_type": "code",
   "execution_count": 6,
   "id": "7c703ef6-e3c0-4307-b2f8-4982cb8fc8f1",
   "metadata": {},
   "outputs": [
    {
     "name": "stdout",
     "output_type": "stream",
     "text": [
      "<class 'str'>\n"
     ]
    }
   ],
   "source": [
    "print(type(numero))"
   ]
  },
  {
   "cell_type": "markdown",
   "id": "d324bfcf-85ce-48db-baaa-2a238dedb425",
   "metadata": {},
   "source": [
    "<h2 style=\"background-color: #24043d; color: white; padding: 12px;\">\n",
    "    2.\n",
    "</h2>"
   ]
  },
  {
   "cell_type": "markdown",
   "id": "eebb7733-3431-4a62-84ff-e6692f777d60",
   "metadata": {},
   "source": [
    "### **2..**"
   ]
  },
  {
   "cell_type": "markdown",
   "id": "c2e9ff96-4e0a-40f7-af1a-42aa736975c9",
   "metadata": {},
   "source": [
    "##### **h5**"
   ]
  },
  {
   "cell_type": "code",
   "execution_count": null,
   "id": "4a426bb6-2bf9-4f79-abe5-27c75743559a",
   "metadata": {},
   "outputs": [],
   "source": []
  },
  {
   "cell_type": "markdown",
   "id": "227ab9a6-9974-46a3-aa80-61469b2d660f",
   "metadata": {},
   "source": [
    "<h2 style=\"background-color: #24043d; color: white; padding: 12px;\">\n",
    "    3.\n",
    "</h2>"
   ]
  },
  {
   "cell_type": "markdown",
   "id": "3fa38c34-1cde-4a87-ac8f-1bde3b5b95d3",
   "metadata": {},
   "source": [
    "### **3..**"
   ]
  },
  {
   "cell_type": "markdown",
   "id": "f6c4cbb3-162f-4dcf-87f6-e102165a7c35",
   "metadata": {},
   "source": [
    "##### **h5**"
   ]
  },
  {
   "cell_type": "code",
   "execution_count": null,
   "id": "9cbab61f-7a18-4018-ab92-7722b4368ae2",
   "metadata": {},
   "outputs": [],
   "source": []
  },
  {
   "cell_type": "markdown",
   "id": "82c4f860-9c59-4e51-ad2f-105fa2fece9e",
   "metadata": {},
   "source": [
    "<h4 style=\"background-color: green; color: white; padding: 12px;\">\n",
    "    Buenas prácticas de programación:\n",
    "</h4>"
   ]
  },
  {
   "cell_type": "markdown",
   "id": "4be59a37-cd34-4b46-a29d-aaaf471c73d4",
   "metadata": {},
   "source": [
    "###### **h5**"
   ]
  },
  {
   "cell_type": "markdown",
   "id": "81f18b04-b052-4afb-996b-2dbed5cb97ed",
   "metadata": {},
   "source": [
    "###### **h5**"
   ]
  },
  {
   "cell_type": "markdown",
   "id": "2078fa4d-68e3-4153-b037-21f844ace028",
   "metadata": {},
   "source": [
    "<h4 style=\"background-color: #E7E118; color: black; padding: 12px;\">\n",
    "   Importante!\n",
    "</h4>"
   ]
  },
  {
   "cell_type": "markdown",
   "id": "a4faf56e-955b-40a7-bb2a-28210b47d555",
   "metadata": {},
   "source": [
    "###### **h5**"
   ]
  },
  {
   "cell_type": "markdown",
   "id": "40b9dcdc-586b-49f4-96d5-56be4724ae47",
   "metadata": {},
   "source": [
    "###### **h5**"
   ]
  },
  {
   "cell_type": "markdown",
   "id": "d5a802d8-6933-4b20-a2f8-8e7fb21ef4fd",
   "metadata": {},
   "source": [
    "<h4 style=\"background-color: #D27E24; color: black; padding: 12px;\">\n",
    "    ¿Qué puede salir mal?\n",
    "</h4>"
   ]
  },
  {
   "cell_type": "markdown",
   "id": "21562a19-e557-4714-8313-1e06e9876637",
   "metadata": {},
   "source": [
    "###### **h5**"
   ]
  },
  {
   "cell_type": "markdown",
   "id": "df661945-ed14-4bfd-aa16-d9f2fe2002ce",
   "metadata": {},
   "source": [
    "##### **h5**"
   ]
  },
  {
   "cell_type": "code",
   "execution_count": null,
   "id": "152d7d5b-afb3-4b1b-ab53-ec263d3f3f68",
   "metadata": {},
   "outputs": [],
   "source": []
  }
 ],
 "metadata": {
  "kernelspec": {
   "display_name": "Python 3 (ipykernel)",
   "language": "python",
   "name": "python3"
  },
  "language_info": {
   "codemirror_mode": {
    "name": "ipython",
    "version": 3
   },
   "file_extension": ".py",
   "mimetype": "text/x-python",
   "name": "python",
   "nbconvert_exporter": "python",
   "pygments_lexer": "ipython3",
   "version": "3.11.8"
  }
 },
 "nbformat": 4,
 "nbformat_minor": 5
}
