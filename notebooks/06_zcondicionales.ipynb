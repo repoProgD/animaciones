{
 "cells": [
  {
   "cell_type": "markdown",
   "id": "09142194-70c7-4374-8c3f-43138ab6af37",
   "metadata": {},
   "source": [
    "<h1 style=\"background-color: #24043d; color: white; padding: 25px;\">\n",
    "   Estructuras de control condicionales\n",
    "</h1>"
   ]
  },
  {
   "cell_type": "markdown",
   "id": "d63d0e29-32f1-48f5-8f36-42ef008c1f79",
   "metadata": {},
   "source": [
    "<h2 style=\"background-color: #24043d; color: white; padding: 12px;\">\n",
    "    1. ¿Qué son las Estructuras de Control Condicional?\n",
    "</h2>"
   ]
  },
  {
   "cell_type": "markdown",
   "id": "4211dc10-79c2-4cf0-abbe-495d16089621",
   "metadata": {},
   "source": [
    "<p style=\"background-color: #C483F7; color: black; padding: 12px;\">\n",
    "    Definición: Las estructuras de control condicional son construcciones que permiten controlar el flujo de ejecución de un programa basado en ciertas condiciones. Estas estructuras permiten tomar decisiones y ejecutar diferentes acciones dependiendo de si una condición es verdadera o falsa.\n",
    "</p>"
   ]
  },
  {
   "cell_type": "markdown",
   "id": "85c8a22e-d1b4-4327-b702-163e448edb74",
   "metadata": {},
   "source": [
    "<p style=\"background-color: #C483F7; color: black; padding: 12px;\">\n",
    "    Sintaxis:\n",
    "</p>"
   ]
  },
  {
   "cell_type": "markdown",
   "id": "a416c91f-00a2-407a-b699-e9d23da26a3e",
   "metadata": {},
   "source": [
    "### **1..**"
   ]
  },
  {
   "cell_type": "markdown",
   "id": "954b6ccb-2f57-4200-86a0-1d251154cd74",
   "metadata": {},
   "source": [
    "##### **h5**"
   ]
  },
  {
   "cell_type": "code",
   "execution_count": null,
   "id": "7666a316-2783-4b0a-b7d3-818370370ac4",
   "metadata": {},
   "outputs": [],
   "source": []
  },
  {
   "cell_type": "code",
   "execution_count": null,
   "id": "186664b6-5db1-47be-a6e8-00ef7380b7d3",
   "metadata": {},
   "outputs": [],
   "source": []
  },
  {
   "cell_type": "code",
   "execution_count": null,
   "id": "7d32db85-29d6-463f-88a2-2fa3954af28f",
   "metadata": {},
   "outputs": [],
   "source": [
    "Ejemplo:\n",
    "Ingreso a una aplicación, a través de nombre de usuario y contraseña:"
   ]
  },
  {
   "cell_type": "code",
   "execution_count": 6,
   "id": "e1614912-c0e4-40e1-a634-2a9f86d36f73",
   "metadata": {},
   "outputs": [
    {
     "name": "stdout",
     "output_type": "stream",
     "text": [
      "¡Bienvenido a la aplicación de inicio de sesión!\n"
     ]
    },
    {
     "name": "stdin",
     "output_type": "stream",
     "text": [
      "Por favor, ingresa tu nombre de usuario:  \n",
      "Ahora, ingresa tu contraseña:  \n"
     ]
    },
    {
     "name": "stdout",
     "output_type": "stream",
     "text": [
      "El nombre de usuario es: \n",
      "La contraseña es: \n",
      "Si esta línea se ejecuta significa que ingresamos a la aplicación.\n"
     ]
    }
   ],
   "source": [
    "# Mensaje de bienvenida\n",
    "print(\"¡Bienvenido a la aplicación de inicio de sesión!\")\n",
    "\n",
    "# Solicitar nombre de usuario y contraseña. Requisito obligatorio: Los campos \"usuario y contraseña no deben estar vacíos\"\n",
    "usuario = input(\"Por favor, ingresa tu nombre de usuario: \")\n",
    "contrasenia = input(\"Ahora, ingresa tu contraseña: \")\n",
    "print(f\"El nombre de usuario es: {usuario}\")\n",
    "print(f\"La contraseña es: {contrasenia}\")\n",
    "print(\"Si esta línea se ejecuta significa que ingresamos a la aplicación.\")"
   ]
  },
  {
   "cell_type": "markdown",
   "id": "fffa5953-9ace-41bc-8c1c-0d232cb76d32",
   "metadata": {},
   "source": [
    "Repito para mostrar la progresión en el armado del programa"
   ]
  },
  {
   "cell_type": "code",
   "execution_count": 7,
   "id": "b6f53520-291c-44bd-a217-8b3eb0fe1c34",
   "metadata": {},
   "outputs": [
    {
     "name": "stdout",
     "output_type": "stream",
     "text": [
      "¡Bienvenido a la aplicación de inicio de sesión!\n"
     ]
    },
    {
     "name": "stdin",
     "output_type": "stream",
     "text": [
      "Por favor, ingresa tu nombre de usuario:  \n",
      "Ahora, ingresa tu contraseña:  \n"
     ]
    },
    {
     "name": "stdout",
     "output_type": "stream",
     "text": [
      "El nombre de usuario es: \n",
      "La contraseña es: \n"
     ]
    }
   ],
   "source": [
    "# Mensaje de bienvenida\n",
    "print(\"¡Bienvenido a la aplicación de inicio de sesión!\")\n",
    "\n",
    "# Solicitar nombre de usuario y contraseña. Requisito obligatorio: Los campos \"usuario y contraseña no deben estar vacíos\"\n",
    "usuario = input(\"Por favor, ingresa tu nombre de usuario: \")\n",
    "contrasenia = input(\"Ahora, ingresa tu contraseña: \")\n",
    "print(f\"El nombre de usuario es: {usuario}\")\n",
    "print(f\"La contraseña es: {contrasenia}\")\n",
    "# si usuario o contrasenia son cadenas vacías, no debo permitir el ingreso a la aplicación.\n",
    "if len(usuario)  > 0 and len(contrasenia) > 0:\n",
    "    print(\"Si esta línea se ejecuta significa que ingresamos a la aplicación.\")"
   ]
  },
  {
   "cell_type": "code",
   "execution_count": null,
   "id": "f05990e7-ae3d-4817-9728-242b1ec60f27",
   "metadata": {},
   "outputs": [],
   "source": []
  },
  {
   "cell_type": "code",
   "execution_count": null,
   "id": "659ef8cc-8222-47ae-90f6-83f496fe2ee6",
   "metadata": {},
   "outputs": [],
   "source": []
  },
  {
   "cell_type": "markdown",
   "id": "d324bfcf-85ce-48db-baaa-2a238dedb425",
   "metadata": {},
   "source": [
    "<h2 style=\"background-color: #24043d; color: white; padding: 12px;\">\n",
    "    2.\n",
    "</h2>"
   ]
  },
  {
   "cell_type": "markdown",
   "id": "eebb7733-3431-4a62-84ff-e6692f777d60",
   "metadata": {},
   "source": [
    "### **2..**"
   ]
  },
  {
   "cell_type": "markdown",
   "id": "c2e9ff96-4e0a-40f7-af1a-42aa736975c9",
   "metadata": {},
   "source": [
    "##### **h5**"
   ]
  },
  {
   "cell_type": "code",
   "execution_count": null,
   "id": "4a426bb6-2bf9-4f79-abe5-27c75743559a",
   "metadata": {},
   "outputs": [],
   "source": []
  },
  {
   "cell_type": "markdown",
   "id": "227ab9a6-9974-46a3-aa80-61469b2d660f",
   "metadata": {},
   "source": [
    "<h2 style=\"background-color: #24043d; color: white; padding: 12px;\">\n",
    "    3.\n",
    "</h2>"
   ]
  },
  {
   "cell_type": "markdown",
   "id": "3fa38c34-1cde-4a87-ac8f-1bde3b5b95d3",
   "metadata": {},
   "source": [
    "### **3..**"
   ]
  },
  {
   "cell_type": "markdown",
   "id": "f6c4cbb3-162f-4dcf-87f6-e102165a7c35",
   "metadata": {},
   "source": [
    "##### **h5**"
   ]
  },
  {
   "cell_type": "code",
   "execution_count": null,
   "id": "9cbab61f-7a18-4018-ab92-7722b4368ae2",
   "metadata": {},
   "outputs": [],
   "source": []
  },
  {
   "cell_type": "markdown",
   "id": "82c4f860-9c59-4e51-ad2f-105fa2fece9e",
   "metadata": {},
   "source": [
    "<h4 style=\"background-color: green; color: white; padding: 12px;\">\n",
    "    Buenas prácticas de programación:\n",
    "</h4>"
   ]
  },
  {
   "cell_type": "markdown",
   "id": "4be59a37-cd34-4b46-a29d-aaaf471c73d4",
   "metadata": {},
   "source": [
    "###### **h5**"
   ]
  },
  {
   "cell_type": "markdown",
   "id": "81f18b04-b052-4afb-996b-2dbed5cb97ed",
   "metadata": {},
   "source": [
    "###### **h5**"
   ]
  },
  {
   "cell_type": "markdown",
   "id": "2078fa4d-68e3-4153-b037-21f844ace028",
   "metadata": {},
   "source": [
    "<h4 style=\"background-color: #E7E118; color: black; padding: 12px;\">\n",
    "   Importante!\n",
    "</h4>"
   ]
  },
  {
   "cell_type": "markdown",
   "id": "a4faf56e-955b-40a7-bb2a-28210b47d555",
   "metadata": {},
   "source": [
    "###### **&#8544;) h5**"
   ]
  },
  {
   "cell_type": "markdown",
   "id": "2ca187f2-a59e-4169-8796-a1b1a56dd058",
   "metadata": {},
   "source": [
    "###### **&#8545;) h5**"
   ]
  },
  {
   "cell_type": "markdown",
   "id": "eeb18f28-15b5-418a-9d26-a666df509eca",
   "metadata": {},
   "source": [
    "###### **&#8546;) h5**"
   ]
  },
  {
   "cell_type": "markdown",
   "id": "940d6833-8179-4260-8275-cb84e7d0f97e",
   "metadata": {},
   "source": [
    "###### **&#8547;) h5**"
   ]
  },
  {
   "cell_type": "markdown",
   "id": "e38bb6df-de7d-4608-b6cd-c2352df64407",
   "metadata": {},
   "source": [
    "###### **&#8548;) h5**"
   ]
  },
  {
   "cell_type": "markdown",
   "id": "40b9dcdc-586b-49f4-96d5-56be4724ae47",
   "metadata": {},
   "source": [
    "###### **h5**"
   ]
  },
  {
   "cell_type": "markdown",
   "id": "d5a802d8-6933-4b20-a2f8-8e7fb21ef4fd",
   "metadata": {},
   "source": [
    "<h4 style=\"background-color: #D27E24; color: black; padding: 12px;\">\n",
    "    ¿Qué puede salir mal?\n",
    "</h4>"
   ]
  },
  {
   "cell_type": "markdown",
   "id": "21562a19-e557-4714-8313-1e06e9876637",
   "metadata": {},
   "source": [
    "###### **h5**"
   ]
  },
  {
   "cell_type": "markdown",
   "id": "df661945-ed14-4bfd-aa16-d9f2fe2002ce",
   "metadata": {},
   "source": [
    "##### **h5**"
   ]
  },
  {
   "cell_type": "code",
   "execution_count": null,
   "id": "152d7d5b-afb3-4b1b-ab53-ec263d3f3f68",
   "metadata": {},
   "outputs": [],
   "source": []
  }
 ],
 "metadata": {
  "kernelspec": {
   "display_name": "Python 3 (ipykernel)",
   "language": "python",
   "name": "python3"
  },
  "language_info": {
   "codemirror_mode": {
    "name": "ipython",
    "version": 3
   },
   "file_extension": ".py",
   "mimetype": "text/x-python",
   "name": "python",
   "nbconvert_exporter": "python",
   "pygments_lexer": "ipython3",
   "version": "3.11.8"
  }
 },
 "nbformat": 4,
 "nbformat_minor": 5
}
