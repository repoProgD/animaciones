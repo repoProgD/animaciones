{
 "cells": [
  {
   "cell_type": "code",
   "execution_count": 1,
   "id": "b148504f-74dd-49a3-82da-d2aa79a8a5c2",
   "metadata": {},
   "outputs": [
    {
     "data": {
      "text/html": [
       "<pre style=\"white-space:pre;overflow-x:auto;line-height:normal;font-family:Menlo,'DejaVu Sans Mono',consolas,'Courier New',monospace\">Manim Community <span style=\"color: #008000; text-decoration-color: #008000\">v0.18.0</span>\n",
       "\n",
       "</pre>\n"
      ],
      "text/plain": [
       "Manim Community \u001b[32mv0.\u001b[0m\u001b[32m18.0\u001b[0m\n",
       "\n"
      ]
     },
     "metadata": {},
     "output_type": "display_data"
    }
   ],
   "source": [
    "from manim import *"
   ]
  },
  {
   "cell_type": "code",
   "execution_count": 2,
   "id": "6f1fc7a3-2d67-4078-a998-303a08b09c1b",
   "metadata": {},
   "outputs": [],
   "source": [
    "config.media_width = \"75%\"\n",
    "config.verbosity = \"WARNING\"\n",
    "config.background_color = \"#24043d\""
   ]
  },
  {
   "cell_type": "code",
   "execution_count": 3,
   "id": "bf64c183-757e-4e10-9621-9734ece5bdb1",
   "metadata": {},
   "outputs": [],
   "source": [
    "import cuadro_datos as cd\n",
    "import herramientas as h"
   ]
  },
  {
   "cell_type": "code",
   "execution_count": 5,
   "id": "327ca9fe-3ed9-4da6-8397-bbc09d551ebc",
   "metadata": {},
   "outputs": [
    {
     "data": {
      "text/html": [
       "<video src=\"media\\jupyter\\MiClase@2024-03-27@06-46-22.mp4\" controls autoplay loop style=\"max-width: 75%;\"  >\n",
       "      Your browser does not support the <code>video</code> element.\n",
       "    </video>"
      ],
      "text/plain": [
       "<IPython.core.display.Video object>"
      ]
     },
     "metadata": {},
     "output_type": "display_data"
    }
   ],
   "source": [
    "%%manim -ql MiClase\n",
    "class MiClase(Scene): \n",
    "#class MiClase(MovingCameraScene):\n",
    "    \n",
    "    def construct(self):\n",
    "        # Obtener el tamaño de la pantalla\n",
    "        ancho = self.camera.frame_width\n",
    "        alto = self.camera.frame_height\n",
    "\n",
    "        # Añadir logo\n",
    "        logo = h.Logo()\n",
    "        self.add(logo)\n",
    "\n",
    "        grilla = h.GrillaRegla()\n",
    "        self.add(grilla)\n",
    "        self.wait(5)"
   ]
  },
  {
   "cell_type": "code",
   "execution_count": null,
   "id": "03409d77-3329-41fb-a83c-01f2852f8890",
   "metadata": {},
   "outputs": [],
   "source": []
  },
  {
   "cell_type": "code",
   "execution_count": null,
   "id": "03571f13-1c32-47ca-8061-020bb20fd10c",
   "metadata": {},
   "outputs": [],
   "source": []
  },
  {
   "cell_type": "code",
   "execution_count": null,
   "id": "fd2ef6c0-c79b-4aa5-ad14-c97e3ecc5fda",
   "metadata": {},
   "outputs": [],
   "source": []
  }
 ],
 "metadata": {
  "kernelspec": {
   "display_name": "Python 3 (ipykernel)",
   "language": "python",
   "name": "python3"
  },
  "language_info": {
   "codemirror_mode": {
    "name": "ipython",
    "version": 3
   },
   "file_extension": ".py",
   "mimetype": "text/x-python",
   "name": "python",
   "nbconvert_exporter": "python",
   "pygments_lexer": "ipython3",
   "version": "3.11.8"
  }
 },
 "nbformat": 4,
 "nbformat_minor": 5
}
