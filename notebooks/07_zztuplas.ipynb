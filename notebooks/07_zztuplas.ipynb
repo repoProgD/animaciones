{
 "cells": [
  {
   "cell_type": "markdown",
   "id": "09142194-70c7-4374-8c3f-43138ab6af37",
   "metadata": {},
   "source": [
    "<h1 style=\"background-color: #24043d; color: white; padding: 25px;\">\n",
    "   Tuplas\n",
    "</h1>"
   ]
  },
  {
   "cell_type": "markdown",
   "id": "e6354682-c399-4e4c-99f1-35bb8cc39078",
   "metadata": {},
   "source": [
    "<h2 style=\"background-color: #24043d; color: white; padding: 12px;\">\n",
    "    1. ¿Qué son las tuplas?\n",
    "</h2>"
   ]
  },
  {
   "cell_type": "markdown",
   "id": "4211dc10-79c2-4cf0-abbe-495d16089621",
   "metadata": {},
   "source": [
    "<p style=\"background-color: #C483F7; color: black; padding: 12px;\">\n",
    "    Definición: al igual que la lista, la tupla es una estructura de datos que permite almacenar una colección de elementos. También, pueden contener diferentes tipos de datos al mismo tiempo. Sin embargo, las tuplas no pueden modificarse una vez que fueron creadas.\n",
    "</p>"
   ]
  },
  {
   "cell_type": "markdown",
   "id": "85c8a22e-d1b4-4327-b702-163e448edb74",
   "metadata": {},
   "source": [
    "<p style=\"background-color: #C483F7; color: black; padding: 12px;\">\n",
    "    Sintaxis: La forma de la tupla consiste en un grupo de elementos encerrados entre paréntesis y separados entre sí por comas.<br>\n",
    "    mi_tupla = (1, 2, 3, 'a', 'b', 'c')\r\n",
    "\n",
    "</p>"
   ]
  },
  {
   "cell_type": "markdown",
   "id": "ea0a62c0-a936-446d-ad4e-877912670653",
   "metadata": {},
   "source": [
    "##### **Características**\n",
    "- Las tuplas mutables, lo que significa que **NO pueden cambiar** su contenido después de haber sido creadas.\n",
    "- Los elementos en una tupla se almacenan en un orden específico, y este orden se mantiene cuando se accede a los elementos de la tupla.\n",
    "- Pueden contener elementos de diferentes tipos: enteros, cadenas, booleanos, otras listas, etc."
   ]
  },
  {
   "cell_type": "markdown",
   "id": "5fd012a9-a338-4e93-be4c-0d9175c9e932",
   "metadata": {},
   "source": [
    "##### **Usos**"
   ]
  },
  {
   "cell_type": "markdown",
   "id": "1490c6ee-6257-4442-b825-197858d13f45",
   "metadata": {},
   "source": [
    "Las tuplas son útiles para representar colecciones de datos que no necesitan ser modificadas después de su creación, como coordenadas geográficas, valores constantes o información estructurada que no cambiará durante la ejecución del programa."
   ]
  },
  {
   "cell_type": "code",
   "execution_count": null,
   "id": "7d32db85-29d6-463f-88a2-2fa3954af28f",
   "metadata": {},
   "outputs": [],
   "source": []
  },
  {
   "cell_type": "markdown",
   "id": "d324bfcf-85ce-48db-baaa-2a238dedb425",
   "metadata": {},
   "source": [
    "<h2 style=\"background-color: #24043d; color: white; padding: 12px;\">\n",
    "    2. Creación de Tuplas\n",
    "</h2>"
   ]
  },
  {
   "cell_type": "markdown",
   "id": "eebb7733-3431-4a62-84ff-e6692f777d60",
   "metadata": {},
   "source": [
    "### **2.1. Tupla vacía**"
   ]
  },
  {
   "cell_type": "code",
   "execution_count": null,
   "id": "3dff9f96-bdca-4f2d-8f42-8d435c683bbc",
   "metadata": {},
   "outputs": [],
   "source": [
    "tupla_vacia = ()"
   ]
  },
  {
   "cell_type": "markdown",
   "id": "c2e9ff96-4e0a-40f7-af1a-42aa736975c9",
   "metadata": {},
   "source": [
    "### **2.2. Tupla de un solo elemento**"
   ]
  },
  {
   "cell_type": "code",
   "execution_count": null,
   "id": "4a426bb6-2bf9-4f79-abe5-27c75743559a",
   "metadata": {},
   "outputs": [],
   "source": [
    "tupla_un_elemento = (1,)"
   ]
  },
  {
   "cell_type": "markdown",
   "id": "a22ef6bd-504c-47d5-b1ad-2c8637adce96",
   "metadata": {},
   "source": [
    "Para crear una tupla de un solo elemento, tenemos que poner una coma al final del elemento. Si no lo hacemos, Python no reconocerá la tupla y tratará al elemento de manera individual."
   ]
  },
  {
   "cell_type": "code",
   "execution_count": 5,
   "id": "34d74277-8d8b-4980-90e9-3446d8993111",
   "metadata": {},
   "outputs": [
    {
     "name": "stdout",
     "output_type": "stream",
     "text": [
      "<class 'int'>\n"
     ]
    }
   ],
   "source": [
    "print(type(tupla_un_elemento))"
   ]
  },
  {
   "cell_type": "code",
   "execution_count": 2,
   "id": "b8ab008b-998e-427b-9f09-b8a1436da375",
   "metadata": {},
   "outputs": [],
   "source": [
    "tupla_un_elemento = (1)"
   ]
  },
  {
   "cell_type": "code",
   "execution_count": 4,
   "id": "66847005-a5d3-461c-922a-8baf5a2ad9bb",
   "metadata": {},
   "outputs": [
    {
     "data": {
      "text/plain": [
       "int"
      ]
     },
     "execution_count": 4,
     "metadata": {},
     "output_type": "execute_result"
    }
   ],
   "source": [
    "type(tupla_un_elemento)"
   ]
  },
  {
   "cell_type": "markdown",
   "id": "c66a2ca0-3b16-4b97-a332-de9710a5f35f",
   "metadata": {},
   "source": [
    "### **2.3. Tupla con varios elementos**"
   ]
  },
  {
   "cell_type": "markdown",
   "id": "3325a79d-774b-4099-a7f5-522399f1889d",
   "metadata": {},
   "source": [
    "Se pueden crear enumerando los elementos separados por comas y encerrándolos entre paréntesis."
   ]
  },
  {
   "cell_type": "code",
   "execution_count": 6,
   "id": "58cacdc9-2848-4a0d-b812-625a9281c9af",
   "metadata": {},
   "outputs": [],
   "source": [
    "tupla_multi_elemento = (1, 2, 3, 'a', 'b', 'c')"
   ]
  },
  {
   "cell_type": "code",
   "execution_count": null,
   "id": "7b970a90-a396-46ac-ad94-211fd63e86d8",
   "metadata": {},
   "outputs": [],
   "source": []
  },
  {
   "cell_type": "markdown",
   "id": "eb46f290-99b3-4098-8ee9-deb3747adf66",
   "metadata": {},
   "source": [
    "<h2 style=\"background-color: #24043d; color: white; padding: 12px;\">\n",
    "    3. Acceso a elementos de una tupla\n",
    "</h2>"
   ]
  },
  {
   "cell_type": "markdown",
   "id": "8827414a-fbf7-41e3-b8bf-6f7f158c3f0a",
   "metadata": {},
   "source": [
    "El acceso a las tuplas es idéntico al que utilizamos para acceder a las listas. La única diferencia es que no vamos a poder modificar los valores de la tupla una vez que accedamos a ellos."
   ]
  },
  {
   "cell_type": "code",
   "execution_count": 9,
   "id": "4f8dc5bf-3677-4774-bf27-e0569f920fd6",
   "metadata": {},
   "outputs": [
    {
     "name": "stdout",
     "output_type": "stream",
     "text": [
      "Primer elemento: 1\n",
      "Último elemento: 9\n",
      "Subtupla: (3, 4, 5)\n",
      "Tupla con paso: (1, 3, 5, 7, 9)\n"
     ]
    }
   ],
   "source": [
    "# Definir una tupla\n",
    "mi_tupla = (1, 2, 3, 4, 5, 6, 7, 8, 9)\n",
    "\n",
    "# Acceso mediante índices\n",
    "primer_elemento = mi_tupla[0]  # Acceso al primer elemento: 1\n",
    "ultimo_elemento = mi_tupla[-1]  # Acceso al último elemento: 9\n",
    "\n",
    "# Slicing en tuplas\n",
    "sub_tupla = mi_tupla[2:5]  # Acceso a los elementos desde el índice 2 al índice 4: (3, 4, 5)\n",
    "\n",
    "# Striding en tuplas\n",
    "tupla_con_paso = mi_tupla[::2]  # Acceso a todos los elementos con un paso de 2: (1, 3, 5, 7, 9)\n",
    "\n",
    "# Impresión de los resultados\n",
    "print(\"Primer elemento:\", primer_elemento)\n",
    "print(\"Último elemento:\", ultimo_elemento)\n",
    "print(\"Subtupla:\", sub_tupla)\n",
    "print(\"Tupla con step:\", tupla_con_paso)"
   ]
  },
  {
   "cell_type": "code",
   "execution_count": 10,
   "id": "e0ece9f0-ddf9-4523-989d-43f68d126a6b",
   "metadata": {},
   "outputs": [
    {
     "name": "stdout",
     "output_type": "stream",
     "text": [
      "Primer elemento: 1\n",
      "Último elemento: 9\n",
      "Sublista: [3, 4, 5]\n",
      "Lista con paso: [1, 3, 5, 7, 9]\n"
     ]
    }
   ],
   "source": [
    "# Definir una lista\n",
    "mi_lista = [1, 2, 3, 4, 5, 6, 7, 8, 9]\n",
    "\n",
    "# Acceso mediante índices\n",
    "primer_elemento = mi_lista[0]  # Acceso al primer elemento: 1\n",
    "segundo_elemento = mi_lista[1]  # Acceso al último elemento: 9\n",
    "\n",
    "# Slicing en listas\n",
    "sub_lista = mi_lista[2:5]  # Acceso a los elementos desde el índice 2 al índice 4: [3, 4, 5]\n",
    "\n",
    "# Striding en listas\n",
    "lista_con_paso = mi_lista[::2]  # Acceso a todos los elementos con un paso de 2: [1, 3, 5, 7, 9]\n",
    "\n",
    "# Impresión de los resultados\n",
    "print(\"Primer elemento:\", primer_elemento)\n",
    "print(\"Último elemento:\", ultimo_elemento)\n",
    "print(\"Sublista:\", sub_lista)\n",
    "print(\"Lista con paso:\", lista_con_paso)\n"
   ]
  },
  {
   "cell_type": "markdown",
   "id": "0ef578d3-0111-4aff-a44c-08447db54a0d",
   "metadata": {},
   "source": [
    "<h2 style=\"background-color: #24043d; color: white; padding: 12px;\">\n",
    "    4. Operaciones básicas con tuplas\n",
    "</h2>"
   ]
  },
  {
   "cell_type": "markdown",
   "id": "406e78ae-50c9-4e51-af5b-6a4d3d7bafa3",
   "metadata": {},
   "source": [
    "##### **En este apartado, también, se vuelven a repetir las mismas operaciones que realizamos con listas.**"
   ]
  },
  {
   "cell_type": "markdown",
   "id": "c6cd0497-cf1e-4c31-a556-ae78821f73e7",
   "metadata": {},
   "source": [
    "### **4.1. Concatenación de tuplas.**"
   ]
  },
  {
   "cell_type": "code",
   "execution_count": 13,
   "id": "41f67fb5-ee42-4d98-8959-4f1a8aa30ed9",
   "metadata": {},
   "outputs": [
    {
     "name": "stdout",
     "output_type": "stream",
     "text": [
      "(1, 2, 3, 'a', 'b', 'c')\n"
     ]
    }
   ],
   "source": [
    "tupla1 = (1, 2, 3)\n",
    "tupla2 = ('a', 'b', 'c')\n",
    "tupla_concatenada = tupla1 + tupla2\n",
    "print(tupla_concatenada)"
   ]
  },
  {
   "cell_type": "markdown",
   "id": "43668b36-b791-4753-8a30-5ff3a3f000b2",
   "metadata": {},
   "source": [
    "### **4.2. Repetición de tuplas.**"
   ]
  },
  {
   "cell_type": "code",
   "execution_count": 17,
   "id": "20d679b7-6fee-4175-9e98-1bc30a1ade97",
   "metadata": {},
   "outputs": [
    {
     "name": "stdout",
     "output_type": "stream",
     "text": [
      "(1, 2, 3, 1, 2, 3, 1, 2, 3)\n"
     ]
    }
   ],
   "source": [
    "tupla_original = (1, 2, 3)\n",
    "tupla_repetida = tupla_original * 3\n",
    "print(tupla_repetida)"
   ]
  },
  {
   "cell_type": "markdown",
   "id": "b78b9b0e-3157-4263-86a5-79f208bc0605",
   "metadata": {},
   "source": [
    "### **4.3. Métodos básicos:**"
   ]
  },
  {
   "cell_type": "code",
   "execution_count": 18,
   "id": "14f133de-cc7a-42e8-a6bf-e69bafaf4e84",
   "metadata": {},
   "outputs": [
    {
     "name": "stdout",
     "output_type": "stream",
     "text": [
      "6\n",
      "3\n",
      "1\n"
     ]
    }
   ],
   "source": [
    "mi_tupla = (1, 2, 2, 3, 3, 3)\n",
    "largo = len(mi_tupla)  # Longitud de la tupla: 6\n",
    "cuenta_tres = mi_tupla.count(3)  # Número de veces que aparece el elemento 3: 3\n",
    "indice_dos = mi_tupla.index(2)  # Índice del primer elemento 2: 1\n",
    "print(largo)\n",
    "print(cuenta_tres)\n",
    "print(indice_dos)"
   ]
  },
  {
   "cell_type": "code",
   "execution_count": null,
   "id": "bccee53d-6143-4412-830d-a7364700d0dc",
   "metadata": {},
   "outputs": [],
   "source": []
  },
  {
   "cell_type": "markdown",
   "id": "907b5e7f-4901-41eb-95a7-7a47498c0992",
   "metadata": {},
   "source": [
    "<h2 style=\"background-color: #24043d; color: white; padding: 12px;\">\n",
    "    5. Inmutabilidad de las tuplas\n",
    "</h2>"
   ]
  },
  {
   "cell_type": "markdown",
   "id": "996ff1eb-9a1c-4430-ad94-796df1466d20",
   "metadata": {},
   "source": [
    "##### **5.1. Qué no podemos hacer con las tuplas**"
   ]
  },
  {
   "cell_type": "markdown",
   "id": "f52794cb-7813-44f5-b953-4200483821d2",
   "metadata": {},
   "source": [
    "##### **Cuando introdujimos el concepto de tupla, destacamos que este tipo de estructura de datos es inmutable. Para comprender mejor a que nos referimos, vamos a crear algunos ejemplos.**"
   ]
  },
  {
   "cell_type": "code",
   "execution_count": 20,
   "id": "ec0d3a7b-3df4-4e6c-8be8-c6362c41d53f",
   "metadata": {},
   "outputs": [
    {
     "ename": "TypeError",
     "evalue": "'tuple' object does not support item assignment",
     "output_type": "error",
     "traceback": [
      "\u001b[1;31m---------------------------------------------------------------------------\u001b[0m",
      "\u001b[1;31mTypeError\u001b[0m                                 Traceback (most recent call last)",
      "Cell \u001b[1;32mIn[20], line 5\u001b[0m\n\u001b[0;32m      2\u001b[0m mi_tupla \u001b[38;5;241m=\u001b[39m (\u001b[38;5;241m1\u001b[39m, \u001b[38;5;241m2\u001b[39m, \u001b[38;5;241m3\u001b[39m)\n\u001b[0;32m      4\u001b[0m \u001b[38;5;66;03m# Intentar modificar un elemento de la tupla\u001b[39;00m\n\u001b[1;32m----> 5\u001b[0m mi_tupla[\u001b[38;5;241m0\u001b[39m] \u001b[38;5;241m=\u001b[39m \u001b[38;5;241m4\u001b[39m\n",
      "\u001b[1;31mTypeError\u001b[0m: 'tuple' object does not support item assignment"
     ]
    }
   ],
   "source": [
    "# Definir una tupla\n",
    "mi_tupla = (1, 2, 3)\n",
    "\n",
    "# Intentar modificar un elemento de la tupla\n",
    "mi_tupla[0] = 4  # Esto generará un error: TypeError: 'tuple' object does not support item assignment"
   ]
  },
  {
   "cell_type": "code",
   "execution_count": 21,
   "id": "8b34c626-6d0d-4c67-b0e7-b7909f92eb45",
   "metadata": {},
   "outputs": [
    {
     "ename": "AttributeError",
     "evalue": "'tuple' object has no attribute 'append'",
     "output_type": "error",
     "traceback": [
      "\u001b[1;31m---------------------------------------------------------------------------\u001b[0m",
      "\u001b[1;31mAttributeError\u001b[0m                            Traceback (most recent call last)",
      "Cell \u001b[1;32mIn[21], line 2\u001b[0m\n\u001b[0;32m      1\u001b[0m \u001b[38;5;66;03m# Intentar agregar un elemento a la tupla\u001b[39;00m\n\u001b[1;32m----> 2\u001b[0m mi_tupla\u001b[38;5;241m.\u001b[39mappend(\u001b[38;5;241m4\u001b[39m)\n",
      "\u001b[1;31mAttributeError\u001b[0m: 'tuple' object has no attribute 'append'"
     ]
    }
   ],
   "source": [
    "# Intentar agregar un elemento a la tupla\n",
    "mi_tupla.append(4)  # Esto generará un error: AttributeError: 'tuple' object has no attribute 'append'"
   ]
  },
  {
   "cell_type": "code",
   "execution_count": 22,
   "id": "6f7a0e48-fa81-48d1-a7a6-3b10e9af47d1",
   "metadata": {},
   "outputs": [
    {
     "ename": "TypeError",
     "evalue": "'tuple' object doesn't support item deletion",
     "output_type": "error",
     "traceback": [
      "\u001b[1;31m---------------------------------------------------------------------------\u001b[0m",
      "\u001b[1;31mTypeError\u001b[0m                                 Traceback (most recent call last)",
      "Cell \u001b[1;32mIn[22], line 2\u001b[0m\n\u001b[0;32m      1\u001b[0m \u001b[38;5;66;03m# Intentar eliminar un elemento de la tupla\u001b[39;00m\n\u001b[1;32m----> 2\u001b[0m \u001b[38;5;28;01mdel\u001b[39;00m mi_tupla[\u001b[38;5;241m0\u001b[39m]\n",
      "\u001b[1;31mTypeError\u001b[0m: 'tuple' object doesn't support item deletion"
     ]
    }
   ],
   "source": [
    "# Intentar eliminar un elemento de la tupla\n",
    "del mi_tupla[0]  # Esto generará un error: TypeError: 'tuple' object doesn't support item deletion"
   ]
  },
  {
   "cell_type": "markdown",
   "id": "12da5eb4-a629-442e-9e17-7889ce98f5b0",
   "metadata": {},
   "source": [
    "##### **En resumen: todas las funciones u operaciones que sirvan para cambiar una estructura de datos no pueden aplicarse a una tupla, dado que estas están creadas para no modificarse a lo largo del programa**"
   ]
  },
  {
   "cell_type": "markdown",
   "id": "7b9eb353-5ed5-4d68-8a7a-b551a90353c6",
   "metadata": {},
   "source": [
    "### **5.2. Una breve discusión**"
   ]
  },
  {
   "cell_type": "markdown",
   "id": "9aea8396-012d-4a0f-afb5-99ef43ed14d0",
   "metadata": {},
   "source": [
    "Cuando trabajamos con estructuras de datos en Python, es importante comprender la diferencia entre la mutabilidad de las listas y la inmutabilidad de las tuplas, ya que esto afecta significativamente cómo se pueden utilizar y manipular estos tipos de datos."
   ]
  },
  {
   "cell_type": "markdown",
   "id": "c49d9381-db19-47da-b352-2a90cd3ff317",
   "metadata": {},
   "source": [
    "- ¿Por qué es importante entender la inmutabilidad de las tuplas al trabajar con ellas en Python?\n",
    "- ¿Qué ventajas ofrece la inmutabilidad de las tuplas en comparación con las estructuras de datos mutables como las listas?\n",
    "- ¿Cuáles son las ventajas de las listas por sobre las tuplas?"
   ]
  },
  {
   "cell_type": "markdown",
   "id": "eb28f92a-add8-4060-8336-fa6333bd7062",
   "metadata": {},
   "source": [
    "##### **Entendiendo la inmutabilidad de las tuplas**"
   ]
  },
  {
   "cell_type": "markdown",
   "id": "34760972-5e86-4ab2-bdf5-97b56aa89c79",
   "metadata": {},
   "source": [
    "1. **Garantía de integridad de datos:** la inmutabilidad de las tuplas asegura que una vez que se crean, sus elementos no pueden ser modificados, lo que proporciona una garantía de que los datos almacenados en ellas permanecerán constantes durante la ejecución del programa. Esto es particularmente útil en situaciones donde necesitas asegurar la integridad y estabilidad de ciertos datos.\n",
    "\n",
    "2. **Seguridad y consistencia:** al utilizar tuplas para representar datos que no deben cambiar, como constantes, claves de diccionarios o estructuras de datos inmutables, puedes evitar accidentalmente modificar estos datos y mantener la consistencia en tu programa.\n",
    "\n",
    "3. **Optimización de rendimiento:** debido a su inmutabilidad, las tuplas pueden ser más eficientes en términos de tiempo de ejecución y uso de memoria en comparación con las listas. Esto se debe a que Python puede realizar ciertas optimizaciones al trabajar con estructuras de datos inmutables.\n"
   ]
  },
  {
   "cell_type": "markdown",
   "id": "5b3a7bf7-e779-49ef-b371-0d838a827927",
   "metadata": {},
   "source": [
    "##### **Ventajas de la mutabilidad de las listas en comparación con las tuplas:**"
   ]
  },
  {
   "cell_type": "markdown",
   "id": "882927ec-1ff9-443a-9bd9-00ad919f8c31",
   "metadata": {},
   "source": [
    "1. **Flexibilidad:** a diferencia de las tuplas, las listas son mutables, lo que significa que puedes agregar, eliminar o modificar elementos individualmente en una lista. Esto proporciona una flexibilidad adicional al manipular datos y permite adaptarse a cambios dinámicos en los requisitos del programa.\n",
    "\n",
    "2. **Operaciones en el lugar:** la mutabilidad de las listas permite realizar operaciones en el lugar, lo que puede ser útil para mejorar el rendimiento y la eficiencia de ciertas operaciones, especialmente al trabajar con grandes conjuntos de datos.\n",
    "\n",
    "3. **Manipulación dinámica de datos:** al permitir la modificación de sus elementos, las listas son ideales para representar datos que pueden cambiar o crecer dinámicamente durante la ejecución del programa, como listas de tareas, registros de usuarios o resultados de consultas de bases de datos."
   ]
  },
  {
   "cell_type": "markdown",
   "id": "0097cc27-b7b8-478c-b003-15749628bba3",
   "metadata": {},
   "source": [
    "<h2 style=\"background-color: #24043d; color: white; padding: 12px;\">\n",
    "    6. Casos de Uso de las Tuplas\n",
    "</h2>"
   ]
  },
  {
   "cell_type": "markdown",
   "id": "a13995dd-eee1-4abc-964b-6dbf606fa27e",
   "metadata": {},
   "source": [
    "\n",
    "Las tuplas tienen una variedad de casos de uso en Python, donde su inmutabilidad y otras características las hacen especialmente útiles. Algunos de estos casos de uso incluyen:\n",
    "\n",
    "- Representación de datos heterogéneos: Las tuplas pueden ser utilizadas para agrupar datos heterogéneos, es decir, datos de diferentes tipos, en una sola estructura. Por ejemplo, puedes usar una tupla para almacenar las coordenadas (x, y) de un punto en un plano cartesiano.\n",
    "\n",
    "- Claves en diccionarios: Las tuplas pueden ser utilizadas como claves en diccionarios de Python, ya que son inmutables y pueden ser hashables. Esto las hace ideales para representar claves compuestas por múltiples valores, como coordenadas geográficas o fechas y horas.\n",
    "\n",
    "- Retorno de múltiples valores desde una función: Las tuplas pueden ser utilizadas para devolver múltiples valores desde una función de manera eficiente. En lugar de devolver los valores como elementos separados, puedes agruparlos en una tupla y devolver la tupla como un solo valor de retorno.\n",
    "\n",
    "- Almacenamiento de datos constantes: Las tuplas pueden ser utilizadas para almacenar datos constantes que no deben ser modificados durante la ejecución del programa. Esto puede incluir constantes matemáticas, configuraciones de aplicaciones o valores de configuración fijos.\n",
    "\n",
    "- Ordenación de datos inmutables: Cuando necesitas ordenar una colección de datos inmutables, como nombres de personas o fechas, las tuplas pueden ser una opción adecuada debido a su inmutabilidad y capacidad para ser ordenadas de manera eficiente.\n",
    "\n",
    "- Iteración sobre secuencias de datos: Las tuplas pueden ser utilizadas como una forma eficiente de iterar sobre secuencias de datos en bucles, especialmente cuando necesitas trabajar con datos que no deben ser modificados durante la iteración."
   ]
  },
  {
   "cell_type": "markdown",
   "id": "c924ebd7-4f71-4ba1-b9dc-3bebe8a45940",
   "metadata": {},
   "source": [
    "<h2 style=\"background-color: #24043d; color: white; padding: 12px;\">\n",
    "    7. Ejercicios prácticos\n",
    "</h2>"
   ]
  },
  {
   "attachments": {},
   "cell_type": "markdown",
   "id": "2901bcc0-81a2-4cc1-a91e-99762ae7013e",
   "metadata": {},
   "source": [
    "##### Ejercicios Prácticos\n",
    "\n",
    "En esta sección, les propongo algunos ejercicios prácticos para que pongan en práctica los conceptos aprendidos sobre las tuplas. Aquí tienes algunos ejercicios sugeridos:\n",
    "\n",
    "1) **Calculadora de área y perímetro:** Escribe una función que tome las dimensiones de un rectángulo como una tupla (longitud, anchura) y devuelva tanto el área como el perímetro del rectángulo.\n",
    "\n",
    "2) **Ordenar nombres por longitud:** Escribe un programa que tome una lista de nombres como entrada y devuelva los nombres ordenados de acuerdo a su longitud, de menor a mayor, utilizando tuplas para representar cada nombre junto con su longitud.\n",
    "\n",
    "3) **Eliminar duplicados de una lista de tuplas:** Escribe una función que tome una lista de tuplas como entrada y elimine los elementos duplicados, considerando solo el primer elemento de cada tupla como criterio de comparación.\n",
    "\n",
    "4) **Combinar dos listas en una lista de tuplas:** Escribe una función que tome dos listas de igual longitud como entrada y devuelva una lista de tuplas donde cada tupla contenga un elemento de la primera lista y el correspondiente elemento de la segunda lista.\n",
    "\n",
    "5) **Dividir una tupla en partes iguales:** Escribe una función que tome una tupla y un número entero como entrada y divida la tupla en partes del tamaño especificado por el número entero, devolviendo una lista de tuplas con las partes resultantes.\n"
   ]
  },
  {
   "cell_type": "markdown",
   "id": "ed92d5ee-b7a1-48af-a90d-640bc70fe9a2",
   "metadata": {},
   "source": [
    "<h4 style=\"background-color: green; color: white; padding: 12px;\">\n",
    "    Buenas prácticas de programación:\n",
    "</h4>"
   ]
  },
  {
   "cell_type": "markdown",
   "id": "4be59a37-cd34-4b46-a29d-aaaf471c73d4",
   "metadata": {},
   "source": [
    "##### **En general, debemos utilizar las tuplas para representar colecciones de datos que no cambiarán a lo largo del tiempo, como coordenadas, constantes o configuraciones fijas. Por otro lado, las listas se utilizan para almacenar colecciones de datos que pueden cambiar o crecer dinámicamente durante la ejecución del programa.**"
   ]
  },
  {
   "cell_type": "markdown",
   "id": "81f18b04-b052-4afb-996b-2dbed5cb97ed",
   "metadata": {},
   "source": [
    "###### **h5**"
   ]
  },
  {
   "cell_type": "markdown",
   "id": "2078fa4d-68e3-4153-b037-21f844ace028",
   "metadata": {},
   "source": [
    "<h4 style=\"background-color: #E7E118; color: black; padding: 12px;\">\n",
    "   Importante!\n",
    "</h4>"
   ]
  },
  {
   "cell_type": "markdown",
   "id": "a4faf56e-955b-40a7-bb2a-28210b47d555",
   "metadata": {},
   "source": [
    "###### **&#8544;) h5**"
   ]
  },
  {
   "cell_type": "markdown",
   "id": "2ca187f2-a59e-4169-8796-a1b1a56dd058",
   "metadata": {},
   "source": [
    "###### **&#8545;) h5**"
   ]
  },
  {
   "cell_type": "markdown",
   "id": "eeb18f28-15b5-418a-9d26-a666df509eca",
   "metadata": {},
   "source": [
    "###### **&#8546;) h5**"
   ]
  },
  {
   "cell_type": "markdown",
   "id": "940d6833-8179-4260-8275-cb84e7d0f97e",
   "metadata": {},
   "source": [
    "###### **&#8547;) h5**"
   ]
  },
  {
   "cell_type": "markdown",
   "id": "e38bb6df-de7d-4608-b6cd-c2352df64407",
   "metadata": {},
   "source": [
    "###### **&#8548;) h5**"
   ]
  },
  {
   "cell_type": "markdown",
   "id": "40b9dcdc-586b-49f4-96d5-56be4724ae47",
   "metadata": {},
   "source": [
    "###### **h5**"
   ]
  },
  {
   "cell_type": "markdown",
   "id": "d5a802d8-6933-4b20-a2f8-8e7fb21ef4fd",
   "metadata": {},
   "source": [
    "<h4 style=\"background-color: #D27E24; color: black; padding: 12px;\">\n",
    "    ¿Qué puede salir mal?\n",
    "</h4>"
   ]
  },
  {
   "cell_type": "markdown",
   "id": "21562a19-e557-4714-8313-1e06e9876637",
   "metadata": {},
   "source": [
    "###### **h5**"
   ]
  },
  {
   "cell_type": "markdown",
   "id": "df661945-ed14-4bfd-aa16-d9f2fe2002ce",
   "metadata": {},
   "source": [
    "##### **h5**"
   ]
  },
  {
   "cell_type": "code",
   "execution_count": null,
   "id": "152d7d5b-afb3-4b1b-ab53-ec263d3f3f68",
   "metadata": {},
   "outputs": [],
   "source": []
  }
 ],
 "metadata": {
  "kernelspec": {
   "display_name": "Python 3 (ipykernel)",
   "language": "python",
   "name": "python3"
  },
  "language_info": {
   "codemirror_mode": {
    "name": "ipython",
    "version": 3
   },
   "file_extension": ".py",
   "mimetype": "text/x-python",
   "name": "python",
   "nbconvert_exporter": "python",
   "pygments_lexer": "ipython3",
   "version": "3.11.8"
  }
 },
 "nbformat": 4,
 "nbformat_minor": 5
}
