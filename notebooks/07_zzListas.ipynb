{
 "cells": [
  {
   "cell_type": "markdown",
   "id": "09142194-70c7-4374-8c3f-43138ab6af37",
   "metadata": {},
   "source": [
    "<h1 style=\"background-color: #24043d; color: white; padding: 25px;\">\n",
    "   Listas\n",
    "</h1>"
   ]
  },
  {
   "cell_type": "markdown",
   "id": "d63d0e29-32f1-48f5-8f36-42ef008c1f79",
   "metadata": {},
   "source": [
    "<h2 style=\"background-color: #24043d; color: white; padding: 12px;\">\n",
    "    1. ¿Qué son las listas?\n",
    "</h2>"
   ]
  },
  {
   "cell_type": "markdown",
   "id": "4211dc10-79c2-4cf0-abbe-495d16089621",
   "metadata": {},
   "source": [
    "<p style=\"background-color: #C483F7; color: black; padding: 12px;\">\n",
    "    Definición: La lista es una estructura de datos secuencial en Python que permite almacenar una colección ordenada de elementos. Por \"ordenadas\" nos referimos a que los elementos permanecen en el orden en el que fueron agregados(mientras no modifiquemos la lista).\n",
    "</p>"
   ]
  },
  {
   "cell_type": "markdown",
   "id": "85c8a22e-d1b4-4327-b702-163e448edb74",
   "metadata": {},
   "source": [
    "<p style=\"background-color: #C483F7; color: black; padding: 12px;\">\n",
    "    Sintaxis: La forma de la lista consiste de un grupo de elementos encerrados entre corchetes y separados entre sí por comas.<br>\n",
    "    Ej: mi_lista = [1, 2, 3, 'a', 'b', 'c']\r\n",
    "\n",
    "</p>"
   ]
  },
  {
   "cell_type": "markdown",
   "id": "8733ee70-8014-41f3-a5d8-e65779ddecba",
   "metadata": {},
   "source": [
    "##### **Características**\n",
    "- Las listas son mutables, lo que significa que pueden cambiar su contenido después de haber sido creadas.\n",
    "- Pueden contener elementos de diferentes tipos: enteros, cadenas, booleanos, otras listas, etc."
   ]
  },
  {
   "cell_type": "code",
   "execution_count": null,
   "id": "7d32db85-29d6-463f-88a2-2fa3954af28f",
   "metadata": {},
   "outputs": [],
   "source": []
  },
  {
   "cell_type": "markdown",
   "id": "d324bfcf-85ce-48db-baaa-2a238dedb425",
   "metadata": {},
   "source": [
    "<h2 style=\"background-color: #24043d; color: white; padding: 12px;\">\n",
    "    2. Creación de Listas:\n",
    "</h2>"
   ]
  },
  {
   "cell_type": "markdown",
   "id": "eebb7733-3431-4a62-84ff-e6692f777d60",
   "metadata": {},
   "source": [
    "### **2.1. Creación de listas vacías**"
   ]
  },
  {
   "cell_type": "markdown",
   "id": "c2e9ff96-4e0a-40f7-af1a-42aa736975c9",
   "metadata": {},
   "source": [
    "##### **podemos crear una lista vacía con la idea de agregarle elementos luego**"
   ]
  },
  {
   "cell_type": "code",
   "execution_count": 2,
   "id": "4a426bb6-2bf9-4f79-abe5-27c75743559a",
   "metadata": {},
   "outputs": [],
   "source": [
    "lista_vacia = []"
   ]
  },
  {
   "cell_type": "markdown",
   "id": "34a9e00c-5150-4e59-892a-c9fd84348ebe",
   "metadata": {},
   "source": [
    "### **2.2. Creación de listas con elemento**"
   ]
  },
  {
   "cell_type": "code",
   "execution_count": 3,
   "id": "c11201a4-03fd-4902-bbd9-b9eeb6ad8e74",
   "metadata": {},
   "outputs": [],
   "source": [
    "mi_lista = [1, 2, 3, 'a', 'b', 'c']"
   ]
  },
  {
   "cell_type": "code",
   "execution_count": null,
   "id": "908c3986-c0fc-49bc-ad1b-8f52ef55087a",
   "metadata": {},
   "outputs": [],
   "source": []
  },
  {
   "cell_type": "markdown",
   "id": "d4c0872d-1469-4a0e-ab6f-248ebeb079cf",
   "metadata": {},
   "source": [
    "### **2.3. Métodos de creación:**"
   ]
  },
  {
   "cell_type": "markdown",
   "id": "261d68bd-59b2-4dd1-8bac-a42fd28de8b6",
   "metadata": {},
   "source": [
    "##### **Se puede utilizar la función `list()` para crear una lista a partir de cualquier objeto iterable, como una cadena, una tupla o un rango.**"
   ]
  },
  {
   "cell_type": "code",
   "execution_count": 4,
   "id": "c04e2aaa-eab6-42a6-9b1b-8274fe4a621f",
   "metadata": {},
   "outputs": [],
   "source": [
    "cadena = \"hola\"\n",
    "lista_desde_cadena = list(cadena)"
   ]
  },
  {
   "cell_type": "code",
   "execution_count": 5,
   "id": "62f0366b-6243-400a-bf83-fcd7fbb4f1e3",
   "metadata": {},
   "outputs": [
    {
     "name": "stdout",
     "output_type": "stream",
     "text": [
      "['h', 'o', 'l', 'a']\n"
     ]
    }
   ],
   "source": [
    "print(lista_desde_cadena)"
   ]
  },
  {
   "cell_type": "markdown",
   "id": "e2335f23-6932-4802-a273-ca2975780a7e",
   "metadata": {},
   "source": [
    "##### **Comprensiones de listas (List comprehensions): Las comprensiones de listas son una forma concisa y elegante de crear listas en Python.**"
   ]
  },
  {
   "cell_type": "code",
   "execution_count": 6,
   "id": "412df785-e707-4365-b92b-0c87ee79e7fa",
   "metadata": {},
   "outputs": [
    {
     "name": "stdout",
     "output_type": "stream",
     "text": [
      "[1, 4, 9, 16, 25]\n"
     ]
    }
   ],
   "source": [
    "cuadrados = [i**2 for i in range(1, 6)]\n",
    "print(cuadrados)"
   ]
  },
  {
   "cell_type": "code",
   "execution_count": 8,
   "id": "b4890b1c-d327-4b82-aa01-b8073364e0e1",
   "metadata": {},
   "outputs": [
    {
     "name": "stdout",
     "output_type": "stream",
     "text": [
      "[1, 4, 9, 16, 25]\n"
     ]
    }
   ],
   "source": [
    "cuadrados = []\n",
    "for i in range(1,6):\n",
    "    cuadrados.append(i**2)\n",
    "print(cuadrados)"
   ]
  },
  {
   "cell_type": "markdown",
   "id": "2c2e25fb-03b1-4933-bad2-c009b202e232",
   "metadata": {},
   "source": [
    "##### **Discusión:**  \n",
    "  \n",
    "- ¿Por qué podría ser útil crear una lista vacía?\n",
    "- ¿Cuáles son algunas de las ventajas de usar comprensiones de listas en lugar de métodos más tradicionales de creación de listas?"
   ]
  },
  {
   "cell_type": "code",
   "execution_count": null,
   "id": "a56d8370-7580-4e21-a384-2c8284796a17",
   "metadata": {},
   "outputs": [],
   "source": []
  },
  {
   "cell_type": "markdown",
   "id": "227ab9a6-9974-46a3-aa80-61469b2d660f",
   "metadata": {},
   "source": [
    "<h2 style=\"background-color: #24043d; color: white; padding: 12px;\">\n",
    "    3. Acceso a elementos de una lista\n",
    "</h2>"
   ]
  },
  {
   "cell_type": "markdown",
   "id": "3fa38c34-1cde-4a87-ac8f-1bde3b5b95d3",
   "metadata": {},
   "source": [
    "### **3.1. Acceso mediante índices:**"
   ]
  },
  {
   "cell_type": "markdown",
   "id": "382fa56e-2b9e-4acb-ba57-0603940e2a74",
   "metadata": {},
   "source": [
    "##### **Al igual que en las strings**\n",
    "- Podemos acceder a elementos individuales de una lista utilizando su índice.  \r",
    "Nota: Recuerden que loss índices en Python comienzan en 0."
   ]
  },
  {
   "cell_type": "code",
   "execution_count": 10,
   "id": "1d690f8a-eb4a-4d8f-aa49-8c4a99c9296d",
   "metadata": {},
   "outputs": [
    {
     "name": "stdout",
     "output_type": "stream",
     "text": [
      "10\n",
      "30\n"
     ]
    }
   ],
   "source": [
    "mi_lista = [10, 20, 30, 40, 50]\n",
    "print(mi_lista[0])  # Imprime el primer elemento: 10\n",
    "print(mi_lista[2])  # Imprime el tercer elemento: 30"
   ]
  },
  {
   "cell_type": "markdown",
   "id": "4516a820-1ee8-4f71-bf45-4e4b8c38dd44",
   "metadata": {},
   "source": [
    "##### **h5**"
   ]
  },
  {
   "cell_type": "markdown",
   "id": "a05444a4-3b87-4bc8-af7c-b1c108879102",
   "metadata": {},
   "source": [
    "### **3.2. Slicing en listas:**"
   ]
  },
  {
   "cell_type": "markdown",
   "id": "c5273270-936f-4519-b632-64b65259c158",
   "metadata": {},
   "source": [
    "- Se pueden obtener subconjuntos de elementos de una lista utilizando la sintaxis de slicing.\n",
    "- La sintaxis es [inicio:fin:paso].\n",
    "- Lo que obtenemos es una lista"
   ]
  },
  {
   "cell_type": "code",
   "execution_count": 15,
   "id": "85f3aa43-673a-4a7f-9c09-e1a0f7096161",
   "metadata": {},
   "outputs": [
    {
     "name": "stdout",
     "output_type": "stream",
     "text": [
      "[20, 30, 40]\n",
      "[10, 20, 30]\n",
      "[30, 40, 50]\n",
      "[10, 30, 50]\n",
      "<class 'list'>\n"
     ]
    }
   ],
   "source": [
    "mi_lista = [10, 20, 30, 40, 50]\n",
    "print(mi_lista[1:4])  # Imprime elementos desde el índice 1 hasta el 3: [20, 30, 40]\n",
    "print(mi_lista[:3])   # Imprime elementos desde el inicio hasta el índice 2: [10, 20, 30]\n",
    "print(mi_lista[2:])   # Imprime elementos desde el índice 2 hasta el final: [30, 40, 50]\n",
    "print(mi_lista[::2])  # Imprime elementos en posiciones pares: [10, 30, 50]\n",
    "subgrupo = mi_lista[1:4]  # obtener un subgrupo de la lista orinal\n",
    "print(type(subgrupo))  # Imprime el tipo de dato del subgrupo de la lista original"
   ]
  },
  {
   "cell_type": "markdown",
   "id": "b0907484-93c8-4155-8f0d-f6644447bc9f",
   "metadata": {},
   "source": [
    "##### **Discusión:**  \n",
    "- ¿Qué pasa si intentamos acceder a un índice que está fuera del rango de la lista?\n",
    "- ¿Por qué es útil el slicing al trabajar con listas?"
   ]
  },
  {
   "cell_type": "markdown",
   "id": "43d661c8-ce6b-47cb-8226-6992fe114921",
   "metadata": {},
   "source": [
    "El slicing es una característica muy útil al trabajar con listas (y otros tipos de secuencias, como ya vimos con las strings) ya que nos permite:\n",
    "\n",
    "- **Obtener subconjuntos de elementos:** Con el slicing podemos obtener subconjuntos de elementos de una lista muy facilmente. Por ejemplo, si tenemos una lista grande y solo necesitamos trabajar con una parte de esta, mediante el slicing podemo seleccionar esa parte sin modificar la lista original.\n",
    "\n",
    "- **Iterar eficientemente:** A través del uso del slicing podremos iterar eficientemente ya que  no será necesario crear una copia de la lista original. Esto es muy útil cuando trabajamos con grandes conjuntos de datos y necesitamos minimizar el uso de memoria.\n",
    "\n",
    "- **Manipular datos:** El slicing permite modificar fácilmente partes específicas de una lista. Por ejemplo, podemos reemplazar los valores de un subconjunto de elementos utilizando el slicing en el lado izquierdo de una asignación.\n",
    "\n",
    "- **Crear copias de sublistas:** A veces necesitas trabajar con una copia de una parte de una lista. El slicing te permite crear fácilmente copias de sublistas sin afectar la lista original.\n",
    "\n",
    "En resumen, el slicing es una herramienta poderosa que te permite trabajar de manera eficiente con partes específicas de una lista, lo que facilita la manipulación y el procesamiento de datos en Python."
   ]
  },
  {
   "cell_type": "markdown",
   "id": "01c7fb05-67a6-4a87-915c-a78ed0083847",
   "metadata": {},
   "source": [
    "##### **h5**"
   ]
  },
  {
   "cell_type": "markdown",
   "id": "35ebc2a2-99d0-4250-990d-f54870a95665",
   "metadata": {},
   "source": [
    "### **3.2. Slicing con step:**"
   ]
  },
  {
   "cell_type": "markdown",
   "id": "8de24ebb-190f-4af8-bc53-84e5f8a2a528",
   "metadata": {},
   "source": [
    "##### **El slicing con step permite especificar un paso o incremento para seleccionar elementos en la lista.**"
   ]
  },
  {
   "cell_type": "code",
   "execution_count": 17,
   "id": "f2c91094-3e58-49e8-a68d-f80601d271d8",
   "metadata": {},
   "outputs": [
    {
     "name": "stdout",
     "output_type": "stream",
     "text": [
      "[1, 3, 5, 7, 9]\n",
      "[2, 4, 6, 8, 10]\n",
      "[10, 9, 8, 7, 6, 5, 4, 3, 2, 1]\n"
     ]
    }
   ],
   "source": [
    "mi_lista = [1, 2, 3, 4, 5, 6, 7, 8, 9, 10]\n",
    "print(mi_lista[::2])   # Imprime elementos en posiciones pares: [1, 3, 5, 7, 9]\n",
    "print(mi_lista[1::2])  # Imprime elementos en posiciones impares: [2, 4, 6, 8, 10]\n",
    "print(mi_lista[::-1])  # Invierte el orden de los elementos: [10, 9, 8, 7, 6, 5, 4, 3, 2, 1]"
   ]
  },
  {
   "cell_type": "markdown",
   "id": "930b71d1-fd4c-4a2c-92c6-09fc045ae411",
   "metadata": {},
   "source": [
    "##### **Discusión:**  \n",
    "  \n",
    "- ¿Cómo usar el slicing con step para seleccionar elementos en posiciones pares o impares de una lista?\n",
    "- ¿Por qué podría ser útil invertir el orden de los elementos de una lista?"
   ]
  },
  {
   "cell_type": "code",
   "execution_count": null,
   "id": "b7e26188-39b5-4ef0-bab4-b1c494d29561",
   "metadata": {},
   "outputs": [],
   "source": []
  },
  {
   "cell_type": "markdown",
   "id": "959489c8-f0ea-4675-9a3b-ca90c6a2d402",
   "metadata": {},
   "source": [
    "<h2 style=\"background-color: #24043d; color: white; padding: 12px;\">\n",
    "    4. Operaciones básicas\n",
    "</h2>"
   ]
  },
  {
   "cell_type": "markdown",
   "id": "b2db9a81-e30f-4e6c-b5bb-e9e493be1b1b",
   "metadata": {},
   "source": [
    "### **4.1. Concatenación de listas.**"
   ]
  },
  {
   "cell_type": "markdown",
   "id": "8e6b50e4-bca7-4626-a262-9cdb71b066a3",
   "metadata": {},
   "source": [
    "##### **La concatenación sirve para unir dos listas. El resultado es otra lista que contiene a las dos primeras, mientras que las listas originales permanecen sin cambio.**"
   ]
  },
  {
   "cell_type": "code",
   "execution_count": null,
   "id": "e9d846e8-144e-4325-a8fb-c0c11f1ca253",
   "metadata": {},
   "outputs": [],
   "source": [
    "lista1 = [1, 2, 3]\n",
    "lista2 = [4, 5, 6]\n",
    "lista_concatenada = lista1 + lista2\n",
    "print(lista_concatenada)  # Resultado: [1, 2, 3, 4, 5, 6]"
   ]
  },
  {
   "cell_type": "markdown",
   "id": "fed2a203-a418-48d8-8c83-2594ac2a90b8",
   "metadata": {},
   "source": [
    "### **4.2. Repetición de listas.**"
   ]
  },
  {
   "cell_type": "code",
   "execution_count": null,
   "id": "287941d9-c325-4726-b1e3-2085adf07978",
   "metadata": {},
   "outputs": [],
   "source": [
    "lista = [1, 2, 3]\n",
    "lista_repetida = lista * 3\n",
    "print(lista_repetida)  # Resultado: [1, 2, 3, 1, 2, 3, 1, 2, 3]\n"
   ]
  },
  {
   "cell_type": "markdown",
   "id": "dace55c9-b70c-4a7d-9732-977d691069c1",
   "metadata": {},
   "source": [
    "### **4.3. Métodos básicos:**"
   ]
  },
  {
   "cell_type": "code",
   "execution_count": null,
   "id": "a4f0b672-19d8-4dcc-abce-de98efda23e3",
   "metadata": {},
   "outputs": [],
   "source": [
    "lista = [1, 2, 2, 3, 4, 5]\n",
    "longitud = len(lista)  # Longitud de la lista\n",
    "conteo_de_dos = lista.count(2)  # Cantidad de veces que aparece el número 2\n",
    "indice_de_cuatro = lista.index(4)  # Índice del número 4\n",
    "print(longitud, conteo_de_dos, indice_de_cuatro)  # Resultado: 6 2 4\n"
   ]
  },
  {
   "cell_type": "markdown",
   "id": "40f728d4-ba82-43d0-ba5e-f43a42431439",
   "metadata": {},
   "source": [
    "<h2 style=\"background-color: #24043d; color: white; padding: 12px;\">\n",
    "    5. Mutabilidad de las listas\n",
    "</h2>"
   ]
  },
  {
   "cell_type": "markdown",
   "id": "7342bf1b-e341-4a9a-b207-7f697a05becf",
   "metadata": {},
   "source": [
    "Las listas son estructuras de datos mutables. Esto significa que podemos modificarlas luego de haberlas creado. En esta sección veremos distintas formas de modificar una lista."
   ]
  },
  {
   "cell_type": "markdown",
   "id": "c0c20d83-28e0-41d3-8ab4-03453e96b9d6",
   "metadata": {},
   "source": [
    "### **5.1. Modificacar elementos existentes.**"
   ]
  },
  {
   "cell_type": "markdown",
   "id": "765c3dde-dd85-4156-9179-8592b7b4be08",
   "metadata": {},
   "source": [
    "##### **Podemos cambiar el valor de un elemento asignándole un nuevo valor**"
   ]
  },
  {
   "cell_type": "code",
   "execution_count": 19,
   "id": "6211fb4c-e48c-455a-9dde-13f67775b890",
   "metadata": {},
   "outputs": [
    {
     "name": "stdout",
     "output_type": "stream",
     "text": [
      "[1, 10, 3]\n"
     ]
    }
   ],
   "source": [
    "lista = [1, 2, 3]\n",
    "lista[1] = 10  # Modificamos el segundo elemento de la lista\n",
    "print(lista)   # Resultado: [1, 10, 3]"
   ]
  },
  {
   "cell_type": "markdown",
   "id": "46692d3a-6c2c-4dab-b7ba-b295a5f4bf3a",
   "metadata": {},
   "source": [
    "### **5.2. Agregar elementos**"
   ]
  },
  {
   "cell_type": "code",
   "execution_count": null,
   "id": "31a7aa5f-d821-4d4c-99ce-c67fba8c55db",
   "metadata": {},
   "outputs": [],
   "source": [
    "lista = [1, 2, 3]\n",
    "lista.append(4)   # Agregamos el número 4 al final de la lista\n",
    "lista.insert(1, 5)  # Insertamos el número 5 en el índice 1\n",
    "print(lista)   # Resultado: [1, 5, 2, 3, 4]\n"
   ]
  },
  {
   "cell_type": "markdown",
   "id": "8525c704-67b8-4007-8b35-331d2f44944f",
   "metadata": {},
   "source": [
    "##### **h5**"
   ]
  },
  {
   "cell_type": "markdown",
   "id": "0feacc0a-e8d0-4b94-867f-22d377d415f2",
   "metadata": {},
   "source": [
    "### **5.3. Eliminar elementos**"
   ]
  },
  {
   "cell_type": "code",
   "execution_count": null,
   "id": "75632304-6077-425b-a98d-3aad58c57ce0",
   "metadata": {},
   "outputs": [],
   "source": [
    "lista = [1, 2, 3, 4, 5]\n",
    "lista.remove(3)  # Eliminamos el valor 3 de la lista\n",
    "valor_eliminado = lista.pop(1)  # Eliminamos el elemento en el índice 1 (2) y lo devolvemos\n",
    "del lista[0]  # Eliminamos el primer elemento de la lista\n",
    "print(lista)   # Resultado: [4, 5]\n",
    "print(valor_eliminado)  # Resultado: 2\n"
   ]
  },
  {
   "cell_type": "markdown",
   "id": "7b66809e-6abf-460d-9a1b-6adadfdd73f3",
   "metadata": {},
   "source": [
    "### **5.4. Ordenar y revertir**"
   ]
  },
  {
   "cell_type": "code",
   "execution_count": null,
   "id": "edfd8608-0bae-4003-b5a7-5ce491166a2e",
   "metadata": {},
   "outputs": [],
   "source": [
    "lista = [3, 1, 4, 1, 5, 9, 2, 6, 5]\n",
    "lista.sort()   # Ordenamos la lista en orden ascendente\n",
    "lista.reverse()  # Invertimos el orden de la lista\n",
    "print(lista)   # Resultado: [9, 6, 5, 5, 4, 3, 2, 1, 1]\n"
   ]
  },
  {
   "cell_type": "markdown",
   "id": "d99767d3-d76b-4c9d-9fff-4b53c6f87e0d",
   "metadata": {},
   "source": [
    "### **5.5. Extender una lista**"
   ]
  },
  {
   "cell_type": "markdown",
   "id": "181d7ba2-404a-4eae-9f74-504e855b60b2",
   "metadata": {},
   "source": [
    "El método extend funciona de manera similar a la concatenación (lista1 + lista2) pero no crea una nueva lista sino que modifica la primera."
   ]
  },
  {
   "cell_type": "code",
   "execution_count": 20,
   "id": "638f3e40-afe5-495c-a31e-8054852bcaac",
   "metadata": {},
   "outputs": [
    {
     "name": "stdout",
     "output_type": "stream",
     "text": [
      "[1, 2, 3, 4, 5, 6]\n"
     ]
    }
   ],
   "source": [
    "lista1 = [1, 2, 3]\n",
    "lista2 = [4, 5, 6]\n",
    "lista1.extend(lista2)\n",
    "print(lista1)  # Resultado: [1, 2, 3, 4, 5, 6]"
   ]
  },
  {
   "cell_type": "markdown",
   "id": "c20899ab-1232-4dd5-99e1-6f34ea9d0f51",
   "metadata": {},
   "source": [
    "##### **Discusión:**  \n",
    "  \r",
    "  \n",
    "- \r\n",
    "¿Por qué es importante entender la mutabilidad de las listas al trabajar con ellas en Python- ?\r\n",
    "¿Qué ventajas ofrece la mutabilidad de las listas en comparación con las estructuras de datos inmutables como las tup- s?\r\n",
    "¿Hay alguna pregunta o hay algún aspecto específico sobre la mutabilidad de las listas que te gustaría explorar más?"
   ]
  },
  {
   "cell_type": "code",
   "execution_count": null,
   "id": "912eb968-2588-4e7b-b7db-be57b29804e8",
   "metadata": {},
   "outputs": [],
   "source": []
  },
  {
   "cell_type": "markdown",
   "id": "26f69b5a-093e-42ed-9a21-a20ef10958a0",
   "metadata": {},
   "source": [
    "<h2 style=\"background-color: #24043d; color: white; padding: 12px;\">\n",
    "    6. Listas y funciones integradas\n",
    "</h2>"
   ]
  },
  {
   "cell_type": "code",
   "execution_count": null,
   "id": "c4e9ed63-b45e-4b1a-85cf-b8e0b8434763",
   "metadata": {},
   "outputs": [],
   "source": [
    "Python posee una variedad de funciones integradas que nos permiten operar con listas."
   ]
  },
  {
   "cell_type": "markdown",
   "id": "3564d8d0-3c0f-4386-ae63-da2595132ca9",
   "metadata": {},
   "source": [
    "### **6.1. Función `sum()`**"
   ]
  },
  {
   "cell_type": "markdown",
   "id": "e7f3b028-50ff-4317-a68e-0d5bf5b1d311",
   "metadata": {},
   "source": [
    "##### **`sum()`: Devuelve la suma de todos los elementos en la lista.**"
   ]
  },
  {
   "cell_type": "code",
   "execution_count": 22,
   "id": "2b8f93c7-097f-4bbe-916c-1ecaa8acf014",
   "metadata": {},
   "outputs": [
    {
     "name": "stdout",
     "output_type": "stream",
     "text": [
      "15\n"
     ]
    }
   ],
   "source": [
    "lista = [1, 2, 3, 4, 5]\n",
    "suma = sum(lista)\n",
    "print(suma)  # Resultado: 15"
   ]
  },
  {
   "cell_type": "markdown",
   "id": "e9d3af5d-dc3a-46ff-afc8-0275710c00f9",
   "metadata": {},
   "source": [
    "### **6.2. Función `max()`**"
   ]
  },
  {
   "cell_type": "markdown",
   "id": "d0f827e6-1e3e-4d24-9907-04a21d3232a4",
   "metadata": {},
   "source": [
    "##### **`max()`: Devuelve el elemento más grande de la lista.**"
   ]
  },
  {
   "cell_type": "code",
   "execution_count": 23,
   "id": "8db5525b-3aa9-4676-a260-bbc72dfee509",
   "metadata": {},
   "outputs": [
    {
     "name": "stdout",
     "output_type": "stream",
     "text": [
      "5\n"
     ]
    }
   ],
   "source": [
    "lista = [1, 2, 3, 4, 5]\n",
    "maximo = max(lista)\n",
    "print(maximo)  # Resultado: 5\n"
   ]
  },
  {
   "cell_type": "markdown",
   "id": "0c1eb5a0-a3a9-4237-83cc-0b7248ed514d",
   "metadata": {},
   "source": [
    "### **6.3. Función `min()`**"
   ]
  },
  {
   "cell_type": "markdown",
   "id": "d4347c00-b0bc-4062-a105-82166273ffee",
   "metadata": {},
   "source": [
    "##### **`min()`: Devuelve el elemento más pequeño de la lista.**"
   ]
  },
  {
   "cell_type": "code",
   "execution_count": 26,
   "id": "ce6156fe-9979-4e51-9f58-6be33ca6c289",
   "metadata": {},
   "outputs": [
    {
     "name": "stdout",
     "output_type": "stream",
     "text": [
      "1\n"
     ]
    }
   ],
   "source": [
    "lista = [1, 2, 3, 4, 5]\n",
    "minimo = min(lista)\n",
    "print(minimo)  # Resultado: 1\n"
   ]
  },
  {
   "cell_type": "markdown",
   "id": "f6ae73cb-f524-4e5c-b48f-df1ac9760600",
   "metadata": {},
   "source": [
    "### **6.4. Funcion `sorted()`**"
   ]
  },
  {
   "cell_type": "markdown",
   "id": "c1d98280-ce87-4289-bac6-2a9c755630bf",
   "metadata": {},
   "source": [
    "##### **`sorted()`: Devuelve otra lista con los elementos de la lista original pero ordenados.**"
   ]
  },
  {
   "cell_type": "markdown",
   "id": "605e33d7-15c7-4bec-a106-3c00b702533a",
   "metadata": {},
   "source": [
    "Nota: No confundir con sort(). Ya que sort() sirve para modificar la lista original; sorted(), en cambio, devuelve otra lista y deja la lista original intacta."
   ]
  },
  {
   "cell_type": "code",
   "execution_count": 25,
   "id": "bd47b22c-552b-4102-a9a7-087edd7b57e2",
   "metadata": {},
   "outputs": [
    {
     "name": "stdout",
     "output_type": "stream",
     "text": [
      "[1, 2, 3, 4, 5]\n"
     ]
    }
   ],
   "source": [
    "lista = [5, 2, 4, 1, 3]\n",
    "lista_ordenada = sorted(lista)\n",
    "print(lista_ordenada)  # Resultado: [1, 2, 3, 4, 5]\n"
   ]
  },
  {
   "cell_type": "markdown",
   "id": "01d7e132-779e-46ff-89ec-be9c93d9f6c4",
   "metadata": {},
   "source": [
    "### **6.4. Funcion `any()`**"
   ]
  },
  {
   "cell_type": "markdown",
   "id": "d5a8c96f-af58-4b4f-8d18-ec723aeaade9",
   "metadata": {},
   "source": [
    "##### **`any()`: Devuelve `True` si al menos un elemento de la lista es evaluado como verdaderos. En caso contrario, devuelve `False`.**"
   ]
  },
  {
   "cell_type": "code",
   "execution_count": null,
   "id": "6bddb9dc-1523-47cc-87e0-d10dccde8493",
   "metadata": {},
   "outputs": [],
   "source": [
    "lista = [0, '', False, 10]\n",
    "resultado = any(lista)\n",
    "print(resultado)  # Resultado: True\n"
   ]
  },
  {
   "cell_type": "markdown",
   "id": "e2717a00-622b-4b44-907a-3d831c385fb2",
   "metadata": {},
   "source": [
    "### **6.4. Funcion `all()`**"
   ]
  },
  {
   "cell_type": "markdown",
   "id": "a4d00a87-c82b-4037-b4f3-6df340e6c1eb",
   "metadata": {},
   "source": [
    "##### **`all()`: Devuelve `True` si todos los elementos de la lista son evaluados como verdaderos y `False` en caso de que al menos uno de los elementos sea evaluado como falso.**"
   ]
  },
  {
   "cell_type": "code",
   "execution_count": 27,
   "id": "04e4a9cd-87a6-4b1d-8de1-09fad191c9ff",
   "metadata": {},
   "outputs": [
    {
     "name": "stdout",
     "output_type": "stream",
     "text": [
      "True\n"
     ]
    }
   ],
   "source": [
    "lista = [1, True, 'hello']\n",
    "resultado = all(lista)\n",
    "print(resultado)  # Resultado: True"
   ]
  },
  {
   "cell_type": "code",
   "execution_count": null,
   "id": "3caf4976-2875-4507-9285-b61bc19eb142",
   "metadata": {},
   "outputs": [],
   "source": [
    "Nota: Luego de la sección de ciclos veremos las funciones enumerate(), zip(), filter()"
   ]
  },
  {
   "cell_type": "markdown",
   "id": "82c4f860-9c59-4e51-ad2f-105fa2fece9e",
   "metadata": {},
   "source": [
    "<h4 style=\"background-color: green; color: white; padding: 12px;\">\n",
    "    Buenas prácticas de programación:\n",
    "</h4>"
   ]
  },
  {
   "cell_type": "markdown",
   "id": "4be59a37-cd34-4b46-a29d-aaaf471c73d4",
   "metadata": {},
   "source": [
    "###### **Evitar el uso excesivo de listas anidadas(listas dentro de otras listas)**"
   ]
  },
  {
   "cell_type": "code",
   "execution_count": 28,
   "id": "1b416c93-6986-4979-a4ea-635fcd7e70ad",
   "metadata": {},
   "outputs": [],
   "source": [
    "# esta lista anidada es fácil de leer, se entiende rápidamente que es una lista cuyos elementos son tres listas.\n",
    "lista_anidada = [[1, 2, 3], [4, 5, 6], [7, 8, 9]]"
   ]
  },
  {
   "cell_type": "code",
   "execution_count": 30,
   "id": "c4973a61-e3c2-4587-819a-acfafa630cf9",
   "metadata": {},
   "outputs": [],
   "source": [
    "# acá vemos que la lista es más complicada de leer. Esto es lo que hay que evitar\n",
    "lista_compleja = [[1, [2, 3]], [4, [5, [6, 7]]]]"
   ]
  },
  {
   "cell_type": "markdown",
   "id": "3f7e58a8-519f-4c3f-aba7-e6b237409af6",
   "metadata": {},
   "source": [
    "##### **Evitar caer en operaciones costosas**"
   ]
  },
  {
   "cell_type": "markdown",
   "id": "81f18b04-b052-4afb-996b-2dbed5cb97ed",
   "metadata": {},
   "source": [
    "Algunas operaciones en listas, como la eliminación de elementos (remove()) o la concatenación repetida (+), pueden ser costosas en términos de tiempo de ejecución. Cuando trabajemos con grandes cantidades de datos, debemos considerar métodos alternativos más eficientes."
   ]
  },
  {
   "cell_type": "markdown",
   "id": "51e1241e-f064-4582-8c11-64a08923e63f",
   "metadata": {},
   "source": [
    "##### **Lo de siempre:**"
   ]
  },
  {
   "cell_type": "markdown",
   "id": "3d4bd5bb-d22b-4096-9908-0482002883ce",
   "metadata": {},
   "source": [
    "Utilizar nombres de variables descriptivos para nuestras variables. En este caso, para nuestras listas."
   ]
  },
  {
   "cell_type": "markdown",
   "id": "4083f279-56c6-440f-baef-fe5ee5a8bfe5",
   "metadata": {},
   "source": [
    "Ejemplo: Es preferible utilizar la función extend a la concatenación con el operador matemático +."
   ]
  },
  {
   "cell_type": "markdown",
   "id": "e609f06c-e67a-40d3-a504-16ac83c6c68b",
   "metadata": {},
   "source": [
    "Nota : a medida que avancemos en el curso vamos a ver otras maneras más eficientes de trabajar como por ejemplo uso de librerías especializadas, otras estructuras de datos y funciones."
   ]
  },
  {
   "cell_type": "markdown",
   "id": "2078fa4d-68e3-4153-b037-21f844ace028",
   "metadata": {},
   "source": [
    "<h4 style=\"background-color: #E7E118; color: black; padding: 12px;\">\n",
    "   Importante!\n",
    "</h4>"
   ]
  },
  {
   "cell_type": "markdown",
   "id": "a4faf56e-955b-40a7-bb2a-28210b47d555",
   "metadata": {},
   "source": [
    "##### **&#8544;) Las listas son estructuras de datos que pueden modificarse(son mutables)**"
   ]
  },
  {
   "cell_type": "markdown",
   "id": "2ca187f2-a59e-4169-8796-a1b1a56dd058",
   "metadata": {},
   "source": [
    "##### **&#8545;) Familiarizarse con la indexación y el slicing**"
   ]
  },
  {
   "cell_type": "markdown",
   "id": "eeb18f28-15b5-418a-9d26-a666df509eca",
   "metadata": {},
   "source": [
    "##### **&#8546;) **&#8547;) Tener en cuenta la eficiencia de las operaciones(No se preocupen tanto ahora porque su código sea eficiente \"ya\") en esta etapa es más importante aprender lo básico pero sepan que en el mediano y largo plazo hay que ir mejorando la eficiencia.**"
   ]
  },
  {
   "cell_type": "markdown",
   "id": "e38bb6df-de7d-4608-b6cd-c2352df64407",
   "metadata": {},
   "source": [
    "##### **&#8548;) h5**"
   ]
  },
  {
   "cell_type": "markdown",
   "id": "40b9dcdc-586b-49f4-96d5-56be4724ae47",
   "metadata": {},
   "source": [
    "##### **h5**"
   ]
  },
  {
   "cell_type": "markdown",
   "id": "d5a802d8-6933-4b20-a2f8-8e7fb21ef4fd",
   "metadata": {},
   "source": [
    "<h4 style=\"background-color: #D27E24; color: black; padding: 12px;\">\n",
    "    ¿Qué puede salir mal?\n",
    "</h4>"
   ]
  },
  {
   "cell_type": "markdown",
   "id": "21562a19-e557-4714-8313-1e06e9876637",
   "metadata": {},
   "source": [
    "###### **Trabajar con índices fuera de rango**"
   ]
  },
  {
   "cell_type": "code",
   "execution_count": 32,
   "id": "d1d6b942-96d7-4441-b147-91300f9bf6f8",
   "metadata": {},
   "outputs": [
    {
     "ename": "IndexError",
     "evalue": "list index out of range",
     "output_type": "error",
     "traceback": [
      "\u001b[1;31m---------------------------------------------------------------------------\u001b[0m",
      "\u001b[1;31mIndexError\u001b[0m                                Traceback (most recent call last)",
      "Cell \u001b[1;32mIn[32], line 2\u001b[0m\n\u001b[0;32m      1\u001b[0m lista \u001b[38;5;241m=\u001b[39m [\u001b[38;5;241m1\u001b[39m,\u001b[38;5;241m2\u001b[39m,\u001b[38;5;241m3\u001b[39m]\n\u001b[1;32m----> 2\u001b[0m \u001b[38;5;28mprint\u001b[39m(lista[\u001b[38;5;241m3\u001b[39m])\n",
      "\u001b[1;31mIndexError\u001b[0m: list index out of range"
     ]
    }
   ],
   "source": [
    "lista = [1,2,3]\n",
    "print(lista[3])  # IndexError: list index out of range"
   ]
  },
  {
   "cell_type": "code",
   "execution_count": null,
   "id": "bcab5b8e-2d0f-442f-b570-1a851f5b7031",
   "metadata": {},
   "outputs": [],
   "source": [
    "Para evitar este error asegúrense de verificar los límites de la lista antes de intentar acceder a alguna de sus posiciones."
   ]
  },
  {
   "cell_type": "markdown",
   "id": "df661945-ed14-4bfd-aa16-d9f2fe2002ce",
   "metadata": {},
   "source": [
    "##### **Olvidar copiar listas**"
   ]
  },
  {
   "cell_type": "markdown",
   "id": "4137ba40-620c-4c18-820f-12da730e561c",
   "metadata": {},
   "source": [
    "Al asignar una lista a otra variable, a menudo se olvida que esto crea una referencia a la lista original, no una copia independiente. Modificar una de las variables afectará a todas las demás que hacen referencia a la misma lista."
   ]
  },
  {
   "cell_type": "code",
   "execution_count": 34,
   "id": "872293e6-9537-411f-976e-6889fb50eb06",
   "metadata": {},
   "outputs": [
    {
     "name": "stdout",
     "output_type": "stream",
     "text": [
      "[1, 2, 3, 4]\n"
     ]
    }
   ],
   "source": [
    "lista_original = [1, 2, 3]\n",
    "lista_copia = lista_original\n",
    "lista_copia.append(4)\n",
    "print(lista_original)  # Resultado: [1, 2, 3, 4]"
   ]
  },
  {
   "cell_type": "code",
   "execution_count": null,
   "id": "2641a296-b848-43c8-851d-3e6c8a1b6482",
   "metadata": {},
   "outputs": [],
   "source": []
  }
 ],
 "metadata": {
  "kernelspec": {
   "display_name": "Python 3 (ipykernel)",
   "language": "python",
   "name": "python3"
  },
  "language_info": {
   "codemirror_mode": {
    "name": "ipython",
    "version": 3
   },
   "file_extension": ".py",
   "mimetype": "text/x-python",
   "name": "python",
   "nbconvert_exporter": "python",
   "pygments_lexer": "ipython3",
   "version": "3.11.8"
  }
 },
 "nbformat": 4,
 "nbformat_minor": 5
}
