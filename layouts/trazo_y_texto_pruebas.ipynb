{
 "cells": [
  {
   "cell_type": "code",
   "execution_count": 1,
   "id": "b148504f-74dd-49a3-82da-d2aa79a8a5c2",
   "metadata": {},
   "outputs": [],
   "source": [
    "from manim import *"
   ]
  },
  {
   "cell_type": "code",
   "execution_count": 4,
   "id": "71e97c7b-f98f-43be-a0c6-04dc6976f3c8",
   "metadata": {},
   "outputs": [],
   "source": [
    "import sys\n",
    "from pathlib import Path\n",
    "\n",
    "# Subir un solo nivel desde la carpeta actual (escenas/horizontales)\n",
    "root_path = Path().resolve().parents[0]    # parents[0] sería un salto hacia arriba, [1] son dos\n",
    "\n",
    "# Agregarlo al sys.path si no está ya\n",
    "if str(root_path) not in sys.path:\n",
    "    sys.path.append(str(root_path))"
   ]
  },
  {
   "cell_type": "code",
   "execution_count": 5,
   "id": "8d08f092-a31a-4a7d-bb1e-29da199116b8",
   "metadata": {},
   "outputs": [
    {
     "data": {
      "text/plain": [
       "WindowsPath('C:/Users/Diego/Desktop/animaciones')"
      ]
     },
     "execution_count": 5,
     "metadata": {},
     "output_type": "execute_result"
    }
   ],
   "source": [
    "root_path"
   ]
  },
  {
   "cell_type": "code",
   "execution_count": 6,
   "id": "ab013be2-5424-464c-8a07-b41c26d2a086",
   "metadata": {},
   "outputs": [],
   "source": [
    "import src.widgets.curva_animada as ca"
   ]
  },
  {
   "cell_type": "code",
   "execution_count": 4,
   "id": "6017a965-15db-4f80-9b56-56a6e67143da",
   "metadata": {},
   "outputs": [],
   "source": [
    "import src.movimiento as mv|"
   ]
  },
  {
   "cell_type": "code",
   "execution_count": 5,
   "id": "d1513bd4-9d71-4d02-8926-5c2311f9cd66",
   "metadata": {},
   "outputs": [],
   "source": [
    "import layouts.cruz as cz"
   ]
  },
  {
   "cell_type": "code",
   "execution_count": 15,
   "id": "59950907-9337-4eeb-859d-6aef93c7930c",
   "metadata": {},
   "outputs": [],
   "source": [
    "# from layouts.basicos import en_linea_horizontal\n",
    "# import src.funciones as f"
   ]
  },
  {
   "cell_type": "code",
   "execution_count": 8,
   "id": "6f1fc7a3-2d67-4078-a998-303a08b09c1b",
   "metadata": {},
   "outputs": [],
   "source": [
    "config.media_width = \"75%\"\n",
    "config.verbosity = \"WARNING\"\n",
    "config.background_color = \"#24043d\""
   ]
  },
  {
   "cell_type": "code",
   "execution_count": 6,
   "id": "327ca9fe-3ed9-4da6-8397-bbc09d551ebc",
   "metadata": {},
   "outputs": [
    {
     "data": {
      "text/html": [
       "<pre style=\"white-space:pre;overflow-x:auto;line-height:normal;font-family:Menlo,'DejaVu Sans Mono',consolas,'Courier New',monospace\">Manim Community <span style=\"color: #008000; text-decoration-color: #008000\">v0.19.0</span>\n",
       "\n",
       "</pre>\n"
      ],
      "text/plain": [
       "Manim Community \u001b[32mv0.\u001b[0m\u001b[32m19.0\u001b[0m\n",
       "\n"
      ]
     },
     "metadata": {},
     "output_type": "display_data"
    },
    {
     "name": "stderr",
     "output_type": "stream",
     "text": [
      "                                                                                                                       "
     ]
    },
    {
     "data": {
      "text/html": [
       "<video src=\"media\\jupyter\\TextoConFlashPorLetra@2025-04-30@12-57-08.mp4\" controls autoplay loop style=\"max-width: 75%;\"  >\n",
       "      Your browser does not support the <code>video</code> element.\n",
       "    </video>"
      ],
      "text/plain": [
       "<IPython.core.display.Video object>"
      ]
     },
     "metadata": {},
     "output_type": "display_data"
    }
   ],
   "source": [
    "%%manim -ql TextoConFlashPorLetra\n",
    "\n",
    "class TextoConFlashPorLetra(Scene):\n",
    "    def construct(self):\n",
    "        # Crear un objeto de texto\n",
    "        texto = Text(\"¡Esto se va a descontrolar!\", font_size=74, color=WHITE)\n",
    "        \n",
    "        # Asegurarse de que solo tenga contorno (sin relleno)\n",
    "        texto.set_fill(opacity=0)  # No hay relleno\n",
    "        texto.set_stroke(color=WHITE, width=3)  # Contorno blanco\n",
    "\n",
    "        # Centrar el texto\n",
    "        texto.move_to(ORIGIN)\n",
    "\n",
    "        # Agregar el texto a la escena\n",
    "        self.add(texto)\n",
    "\n",
    "        # Aplicar el efecto de \"ShowPassingFlash\" letra por letra\n",
    "        self.play(\n",
    "            *[ShowPassingFlash(letter, time_width=3, run_time=12) for letter in texto],\n",
    "            lag_ratio=3  # Ajusta el retraso entre cada letra (si quieres)\n",
    "        )"
   ]
  },
  {
   "cell_type": "code",
   "execution_count": null,
   "id": "00c644e1-e2a2-43c1-9e72-c75bc0d4a445",
   "metadata": {},
   "outputs": [],
   "source": []
  },
  {
   "cell_type": "code",
   "execution_count": 11,
   "id": "556a8306-caee-49e0-8cec-ac0f93c673c2",
   "metadata": {},
   "outputs": [
    {
     "data": {
      "text/html": [
       "<pre style=\"white-space:pre;overflow-x:auto;line-height:normal;font-family:Menlo,'DejaVu Sans Mono',consolas,'Courier New',monospace\">Manim Community <span style=\"color: #008000; text-decoration-color: #008000\">v0.19.0</span>\n",
       "\n",
       "</pre>\n"
      ],
      "text/plain": [
       "Manim Community \u001b[32mv0.\u001b[0m\u001b[32m19.0\u001b[0m\n",
       "\n"
      ]
     },
     "metadata": {},
     "output_type": "display_data"
    },
    {
     "name": "stderr",
     "output_type": "stream",
     "text": [
      "                                                                                                                       "
     ]
    },
    {
     "data": {
      "text/html": [
       "<video src=\"media\\jupyter\\FlashTextLetterByLetter@2025-05-01@08-50-46.mp4\" controls autoplay loop style=\"max-width: 75%;\"  >\n",
       "      Your browser does not support the <code>video</code> element.\n",
       "    </video>"
      ],
      "text/plain": [
       "<IPython.core.display.Video object>"
      ]
     },
     "metadata": {},
     "output_type": "display_data"
    }
   ],
   "source": [
    "%%manim -ql FlashTextLetterByLetter\n",
    "\n",
    "\n",
    "class FlashTextLetterByLetter(Scene):\n",
    "    def construct(self):\n",
    "\n",
    "        d1 = Dot().set_color(BLUE).shift(1*DOWN)\n",
    "        l1 = Line(LEFT, RIGHT).shift(1*DOWN)\n",
    "        l2 = VMobject().shift(1*DOWN)\n",
    "        self.add(d1, l1, l2)\n",
    "        \n",
    "        l2.add_updater(lambda x: x.become(Line(l1.get_start(), d1.get_center()).set_color(GRAY)))\n",
    "        \n",
    "\n",
    "        texto2 = Text(\"Hola\", font_size=96).set_fill(opacity=0).set_stroke(BLUE, width=4)\n",
    "        self.play(MoveAlongPath(d1, l1), Write(texto2), run_time=5,rate_func=linear)\n",
    "        self.wait(3)\n",
    "\n",
    "\n",
    "\n",
    "class FlashTextLetterByLetter(Scene):\n",
    "    def construct(self):\n",
    "\n",
    "        d1 = Dot().set_color(BLUE).shift(1*DOWN)\n",
    "        l1 = Line(LEFT, RIGHT).shift(1*DOWN)\n",
    "        l2 = VMobject().shift(1*DOWN)\n",
    "        self.add(d1, l1, l2)\n",
    "        \n",
    "        l2.add_updater(lambda x: x.become(Line(l1.get_start(), d1.get_center()).set_color(GRAY)))\n",
    "        \n",
    "\n",
    "        texto2 = Text(\"Hola\", font_size=96).set_fill(opacity=0).set_stroke(BLUE, width=4)\n",
    "        self.play(MoveAlongPath(d1, l1), Write(texto2), run_time=5,rate_func=linear)\n",
    "        self.wait(3)"
   ]
  },
  {
   "cell_type": "code",
   "execution_count": null,
   "id": "c42fe5d7-41f5-4f8a-b6e2-25e529c649e1",
   "metadata": {},
   "outputs": [],
   "source": []
  },
  {
   "cell_type": "code",
   "execution_count": null,
   "id": "b9f10c4b-4af3-47ac-a28b-f614ddcdb40b",
   "metadata": {},
   "outputs": [],
   "source": []
  },
  {
   "cell_type": "code",
   "execution_count": 9,
   "id": "8d4a50b6-a2fe-4943-9692-0e6f8ef9fb17",
   "metadata": {},
   "outputs": [
    {
     "data": {
      "text/html": [
       "<pre style=\"white-space:pre;overflow-x:auto;line-height:normal;font-family:Menlo,'DejaVu Sans Mono',consolas,'Courier New',monospace\">Manim Community <span style=\"color: #008000; text-decoration-color: #008000\">v0.19.0</span>\n",
       "\n",
       "</pre>\n"
      ],
      "text/plain": [
       "Manim Community \u001b[32mv0.\u001b[0m\u001b[32m19.0\u001b[0m\n",
       "\n"
      ]
     },
     "metadata": {},
     "output_type": "display_data"
    },
    {
     "name": "stderr",
     "output_type": "stream",
     "text": [
      "                                                                                                                       "
     ]
    },
    {
     "data": {
      "text/html": [
       "<video src=\"media\\jupyter\\DemoTrazo@2025-05-01@08-50-12.mp4\" controls autoplay loop style=\"max-width: 75%;\"  >\n",
       "      Your browser does not support the <code>video</code> element.\n",
       "    </video>"
      ],
      "text/plain": [
       "<IPython.core.display.Video object>"
      ]
     },
     "metadata": {},
     "output_type": "display_data"
    }
   ],
   "source": [
    "%%manim -ql DemoTrazo\n",
    "\n",
    "class TrazoConTexto(VGroup):\n",
    "    def __init__(\n",
    "        self,\n",
    "        texto=\"Hola\",\n",
    "        duracion=5,\n",
    "        color_trazo1=BLUE_E,\n",
    "        color_trazo2=RED_E,\n",
    "        curva1_puntos=None,\n",
    "        curva2_puntos=None,\n",
    "        **kwargs\n",
    "    ):\n",
    "        super().__init__(**kwargs)\n",
    "\n",
    "        # Valores por defecto\n",
    "        self.curva1_puntos = curva1_puntos or [\n",
    "            LEFT * 4 + DOWN,\n",
    "            LEFT * 2 + UP * 2,\n",
    "            RIGHT * 2 + UP * 2,\n",
    "            RIGHT * 4 + DOWN\n",
    "        ]\n",
    "        self.curva2_puntos = curva2_puntos or [\n",
    "            RIGHT * 4 + DOWN,\n",
    "            RIGHT * 2 + DOWN * 4,\n",
    "            LEFT * 2 + DOWN * 4,\n",
    "            LEFT * 4 + DOWN\n",
    "        ]\n",
    "        self.duracion = duracion\n",
    "\n",
    "        # Crear curvas\n",
    "        curva1 = CubicBezier(*self.curva1_puntos).set_color(WHITE)\n",
    "        curva2 = CubicBezier(*self.curva2_puntos).set_color(WHITE)\n",
    "\n",
    "        # Puntos móviles\n",
    "        self.dot1 = Dot(self.curva1_puntos[0], color=color_trazo1)\n",
    "        self.dot2 = Dot(self.curva2_puntos[0], color=color_trazo2)\n",
    "\n",
    "        # Trazos que siguen los puntos\n",
    "        self.trazo1 = TracedPath(self.dot1.get_center, stroke_color=color_trazo1, stroke_width=4)\n",
    "        self.trazo2 = TracedPath(self.dot2.get_center, stroke_color=color_trazo2, stroke_width=4)\n",
    "\n",
    "        # Texto\n",
    "        self.texto_animado = Text(texto, font_size=96).set_fill(opacity=0).set_stroke(color_trazo1, width=4)\n",
    "\n",
    "        # Agrupar todo\n",
    "        self.add(self.trazo1, self.trazo2, self.dot1, self.dot2, self.texto_animado)\n",
    "\n",
    "    def animar(self):\n",
    "        return AnimationGroup(\n",
    "            MoveAlongPath(self.dot1, CubicBezier(*self.curva1_puntos)),\n",
    "            MoveAlongPath(self.dot2, CubicBezier(*self.curva2_puntos)),\n",
    "            Write(self.texto_animado),\n",
    "            lag_ratio=0,\n",
    "            run_time=self.duracion,\n",
    "            rate_func=linear\n",
    "        )\n",
    "\n",
    "\n",
    "\n",
    "\n",
    "class DemoTrazo(Scene):\n",
    "    def construct(self):\n",
    "        trazo = TrazoConTexto(texto=\"Hola Manim!\", duracion=5)\n",
    "        self.add(trazo)\n",
    "        self.play(trazo.animar())\n",
    "        self.wait(2)\n"
   ]
  },
  {
   "cell_type": "code",
   "execution_count": null,
   "id": "1de48e2d-14cf-4b24-969c-e8dc9315b089",
   "metadata": {},
   "outputs": [],
   "source": []
  },
  {
   "cell_type": "code",
   "execution_count": null,
   "id": "ae9970d1-f2b3-4990-b742-e64f2234ae8d",
   "metadata": {},
   "outputs": [],
   "source": []
  },
  {
   "cell_type": "code",
   "execution_count": 7,
   "id": "d6569e4d-75c6-4579-b8d2-52bc126b4817",
   "metadata": {},
   "outputs": [
    {
     "data": {
      "text/html": [
       "<pre style=\"white-space:pre;overflow-x:auto;line-height:normal;font-family:Menlo,'DejaVu Sans Mono',consolas,'Courier New',monospace\">Manim Community <span style=\"color: #008000; text-decoration-color: #008000\">v0.19.0</span>\n",
       "\n",
       "</pre>\n"
      ],
      "text/plain": [
       "Manim Community \u001b[32mv0.\u001b[0m\u001b[32m19.0\u001b[0m\n",
       "\n"
      ]
     },
     "metadata": {},
     "output_type": "display_data"
    },
    {
     "name": "stderr",
     "output_type": "stream",
     "text": [
      "                                                                                                                       "
     ]
    },
    {
     "data": {
      "text/html": [
       "<pre style=\"white-space:pre;overflow-x:auto;line-height:normal;font-family:Menlo,'DejaVu Sans Mono',consolas,'Courier New',monospace\"><span style=\"color: #7fbfbf; text-decoration-color: #7fbfbf\">[05/01/25 08:48:09] </span><span style=\"color: #008000; text-decoration-color: #008000\">INFO    </span> Animation <span style=\"color: #008000; text-decoration-color: #008000\">0</span> : Partial movie file written in                   <a href=\"file://C:\\Users\\Diego\\anaconda3\\envs\\animaciones\\lib\\site-packages\\manim\\scene\\scene_file_writer.py\" target=\"_blank\"><span style=\"color: #7f7f7f; text-decoration-color: #7f7f7f\">scene_file_writer.py</span></a><span style=\"color: #7f7f7f; text-decoration-color: #7f7f7f\">:</span><a href=\"file://C:\\Users\\Diego\\anaconda3\\envs\\animaciones\\lib\\site-packages\\manim\\scene\\scene_file_writer.py#588\" target=\"_blank\"><span style=\"color: #7f7f7f; text-decoration-color: #7f7f7f\">588</span></a>\n",
       "<span style=\"color: #7fbfbf; text-decoration-color: #7fbfbf\">                    </span>         <span style=\"color: #008000; text-decoration-color: #008000\">'C:\\Users\\Diego\\Desktop\\animaciones\\layouts\\media\\videos\\layo</span> <span style=\"color: #7f7f7f; text-decoration-color: #7f7f7f\">                        </span>\n",
       "<span style=\"color: #7fbfbf; text-decoration-color: #7fbfbf\">                    </span>         <span style=\"color: #008000; text-decoration-color: #008000\">uts\\480p15\\partial_movie_files\\CurvaYTexto\\1185818338_1835018</span> <span style=\"color: #7f7f7f; text-decoration-color: #7f7f7f\">                        </span>\n",
       "<span style=\"color: #7fbfbf; text-decoration-color: #7fbfbf\">                    </span>         <span style=\"color: #008000; text-decoration-color: #008000\">591_3876842225.mp4'</span>                                           <span style=\"color: #7f7f7f; text-decoration-color: #7f7f7f\">                        </span>\n",
       "</pre>\n"
      ],
      "text/plain": [
       "\u001b[2;36m[05/01/25 08:48:09]\u001b[0m\u001b[2;36m \u001b[0m\u001b[32mINFO    \u001b[0m Animation \u001b[32m0\u001b[0m : Partial movie file written in                   \u001b]8;id=956660;file://C:\\Users\\Diego\\anaconda3\\envs\\animaciones\\lib\\site-packages\\manim\\scene\\scene_file_writer.py\u001b\\\u001b[2mscene_file_writer.py\u001b[0m\u001b]8;;\u001b\\\u001b[2m:\u001b[0m\u001b]8;id=554909;file://C:\\Users\\Diego\\anaconda3\\envs\\animaciones\\lib\\site-packages\\manim\\scene\\scene_file_writer.py#588\u001b\\\u001b[2m588\u001b[0m\u001b]8;;\u001b\\\n",
       "\u001b[2;36m                    \u001b[0m         \u001b[32m'C:\\Users\\Diego\\Desktop\\animaciones\\layouts\\media\\videos\\layo\u001b[0m \u001b[2m                        \u001b[0m\n",
       "\u001b[2;36m                    \u001b[0m         \u001b[32muts\\480p15\\partial_movie_files\\CurvaYTexto\\1185818338_1835018\u001b[0m \u001b[2m                        \u001b[0m\n",
       "\u001b[2;36m                    \u001b[0m         \u001b[32m591_3876842225.mp4'\u001b[0m                                           \u001b[2m                        \u001b[0m\n"
      ]
     },
     "metadata": {},
     "output_type": "display_data"
    },
    {
     "name": "stderr",
     "output_type": "stream",
     "text": [
      "                                                                                                                       "
     ]
    },
    {
     "data": {
      "text/html": [
       "<pre style=\"white-space:pre;overflow-x:auto;line-height:normal;font-family:Menlo,'DejaVu Sans Mono',consolas,'Courier New',monospace\"><span style=\"color: #7fbfbf; text-decoration-color: #7fbfbf\">[05/01/25 08:48:11] </span><span style=\"color: #008000; text-decoration-color: #008000\">INFO    </span> Animation <span style=\"color: #008000; text-decoration-color: #008000\">1</span> : Partial movie file written in                   <a href=\"file://C:\\Users\\Diego\\anaconda3\\envs\\animaciones\\lib\\site-packages\\manim\\scene\\scene_file_writer.py\" target=\"_blank\"><span style=\"color: #7f7f7f; text-decoration-color: #7f7f7f\">scene_file_writer.py</span></a><span style=\"color: #7f7f7f; text-decoration-color: #7f7f7f\">:</span><a href=\"file://C:\\Users\\Diego\\anaconda3\\envs\\animaciones\\lib\\site-packages\\manim\\scene\\scene_file_writer.py#588\" target=\"_blank\"><span style=\"color: #7f7f7f; text-decoration-color: #7f7f7f\">588</span></a>\n",
       "<span style=\"color: #7fbfbf; text-decoration-color: #7fbfbf\">                    </span>         <span style=\"color: #008000; text-decoration-color: #008000\">'C:\\Users\\Diego\\Desktop\\animaciones\\layouts\\media\\videos\\layo</span> <span style=\"color: #7f7f7f; text-decoration-color: #7f7f7f\">                        </span>\n",
       "<span style=\"color: #7fbfbf; text-decoration-color: #7fbfbf\">                    </span>         <span style=\"color: #008000; text-decoration-color: #008000\">uts\\480p15\\partial_movie_files\\CurvaYTexto\\624642324_68232150</span> <span style=\"color: #7f7f7f; text-decoration-color: #7f7f7f\">                        </span>\n",
       "<span style=\"color: #7fbfbf; text-decoration-color: #7fbfbf\">                    </span>         <span style=\"color: #008000; text-decoration-color: #008000\">7_1149946108.mp4'</span>                                             <span style=\"color: #7f7f7f; text-decoration-color: #7f7f7f\">                        </span>\n",
       "</pre>\n"
      ],
      "text/plain": [
       "\u001b[2;36m[05/01/25 08:48:11]\u001b[0m\u001b[2;36m \u001b[0m\u001b[32mINFO    \u001b[0m Animation \u001b[32m1\u001b[0m : Partial movie file written in                   \u001b]8;id=760828;file://C:\\Users\\Diego\\anaconda3\\envs\\animaciones\\lib\\site-packages\\manim\\scene\\scene_file_writer.py\u001b\\\u001b[2mscene_file_writer.py\u001b[0m\u001b]8;;\u001b\\\u001b[2m:\u001b[0m\u001b]8;id=678614;file://C:\\Users\\Diego\\anaconda3\\envs\\animaciones\\lib\\site-packages\\manim\\scene\\scene_file_writer.py#588\u001b\\\u001b[2m588\u001b[0m\u001b]8;;\u001b\\\n",
       "\u001b[2;36m                    \u001b[0m         \u001b[32m'C:\\Users\\Diego\\Desktop\\animaciones\\layouts\\media\\videos\\layo\u001b[0m \u001b[2m                        \u001b[0m\n",
       "\u001b[2;36m                    \u001b[0m         \u001b[32muts\\480p15\\partial_movie_files\\CurvaYTexto\\624642324_68232150\u001b[0m \u001b[2m                        \u001b[0m\n",
       "\u001b[2;36m                    \u001b[0m         \u001b[32m7_1149946108.mp4'\u001b[0m                                             \u001b[2m                        \u001b[0m\n"
      ]
     },
     "metadata": {},
     "output_type": "display_data"
    },
    {
     "data": {
      "text/html": [
       "<pre style=\"white-space:pre;overflow-x:auto;line-height:normal;font-family:Menlo,'DejaVu Sans Mono',consolas,'Courier New',monospace\"><span style=\"color: #7fbfbf; text-decoration-color: #7fbfbf\">                    </span><span style=\"color: #008000; text-decoration-color: #008000\">INFO    </span> Combining to Movie file.                                      <a href=\"file://C:\\Users\\Diego\\anaconda3\\envs\\animaciones\\lib\\site-packages\\manim\\scene\\scene_file_writer.py\" target=\"_blank\"><span style=\"color: #7f7f7f; text-decoration-color: #7f7f7f\">scene_file_writer.py</span></a><span style=\"color: #7f7f7f; text-decoration-color: #7f7f7f\">:</span><a href=\"file://C:\\Users\\Diego\\anaconda3\\envs\\animaciones\\lib\\site-packages\\manim\\scene\\scene_file_writer.py#739\" target=\"_blank\"><span style=\"color: #7f7f7f; text-decoration-color: #7f7f7f\">739</span></a>\n",
       "</pre>\n"
      ],
      "text/plain": [
       "\u001b[2;36m                   \u001b[0m\u001b[2;36m \u001b[0m\u001b[32mINFO    \u001b[0m Combining to Movie file.                                      \u001b]8;id=672944;file://C:\\Users\\Diego\\anaconda3\\envs\\animaciones\\lib\\site-packages\\manim\\scene\\scene_file_writer.py\u001b\\\u001b[2mscene_file_writer.py\u001b[0m\u001b]8;;\u001b\\\u001b[2m:\u001b[0m\u001b]8;id=262874;file://C:\\Users\\Diego\\anaconda3\\envs\\animaciones\\lib\\site-packages\\manim\\scene\\scene_file_writer.py#739\u001b\\\u001b[2m739\u001b[0m\u001b]8;;\u001b\\\n"
      ]
     },
     "metadata": {},
     "output_type": "display_data"
    },
    {
     "data": {
      "text/html": [
       "<pre style=\"white-space:pre;overflow-x:auto;line-height:normal;font-family:Menlo,'DejaVu Sans Mono',consolas,'Courier New',monospace\"><span style=\"color: #7fbfbf; text-decoration-color: #7fbfbf\">                    </span><span style=\"color: #008000; text-decoration-color: #008000\">INFO    </span>                                                               <a href=\"file://C:\\Users\\Diego\\anaconda3\\envs\\animaciones\\lib\\site-packages\\manim\\scene\\scene_file_writer.py\" target=\"_blank\"><span style=\"color: #7f7f7f; text-decoration-color: #7f7f7f\">scene_file_writer.py</span></a><span style=\"color: #7f7f7f; text-decoration-color: #7f7f7f\">:</span><a href=\"file://C:\\Users\\Diego\\anaconda3\\envs\\animaciones\\lib\\site-packages\\manim\\scene\\scene_file_writer.py#886\" target=\"_blank\"><span style=\"color: #7f7f7f; text-decoration-color: #7f7f7f\">886</span></a>\n",
       "<span style=\"color: #7fbfbf; text-decoration-color: #7fbfbf\">                    </span>         <span style=\"color: #808000; text-decoration-color: #808000; font-weight: bold\">File</span> ready at                                                 <span style=\"color: #7f7f7f; text-decoration-color: #7f7f7f\">                        </span>\n",
       "<span style=\"color: #7fbfbf; text-decoration-color: #7fbfbf\">                    </span>         <span style=\"color: #008000; text-decoration-color: #008000\">'C:\\Users\\Diego\\Desktop\\animaciones\\layouts\\media\\videos\\layo</span> <span style=\"color: #7f7f7f; text-decoration-color: #7f7f7f\">                        </span>\n",
       "<span style=\"color: #7fbfbf; text-decoration-color: #7fbfbf\">                    </span>         <span style=\"color: #008000; text-decoration-color: #008000\">uts\\480p15\\CurvaYTexto.mp4'</span>                                   <span style=\"color: #7f7f7f; text-decoration-color: #7f7f7f\">                        </span>\n",
       "<span style=\"color: #7fbfbf; text-decoration-color: #7fbfbf\">                    </span>                                                                       <span style=\"color: #7f7f7f; text-decoration-color: #7f7f7f\">                        </span>\n",
       "</pre>\n"
      ],
      "text/plain": [
       "\u001b[2;36m                   \u001b[0m\u001b[2;36m \u001b[0m\u001b[32mINFO    \u001b[0m                                                               \u001b]8;id=358729;file://C:\\Users\\Diego\\anaconda3\\envs\\animaciones\\lib\\site-packages\\manim\\scene\\scene_file_writer.py\u001b\\\u001b[2mscene_file_writer.py\u001b[0m\u001b]8;;\u001b\\\u001b[2m:\u001b[0m\u001b]8;id=574966;file://C:\\Users\\Diego\\anaconda3\\envs\\animaciones\\lib\\site-packages\\manim\\scene\\scene_file_writer.py#886\u001b\\\u001b[2m886\u001b[0m\u001b]8;;\u001b\\\n",
       "\u001b[2;36m                    \u001b[0m         \u001b[1;33mFile\u001b[0m ready at                                                 \u001b[2m                        \u001b[0m\n",
       "\u001b[2;36m                    \u001b[0m         \u001b[32m'C:\\Users\\Diego\\Desktop\\animaciones\\layouts\\media\\videos\\layo\u001b[0m \u001b[2m                        \u001b[0m\n",
       "\u001b[2;36m                    \u001b[0m         \u001b[32muts\\480p15\\CurvaYTexto.mp4'\u001b[0m                                   \u001b[2m                        \u001b[0m\n",
       "\u001b[2;36m                    \u001b[0m                                                                       \u001b[2m                        \u001b[0m\n"
      ]
     },
     "metadata": {},
     "output_type": "display_data"
    },
    {
     "data": {
      "text/html": [
       "<pre style=\"white-space:pre;overflow-x:auto;line-height:normal;font-family:Menlo,'DejaVu Sans Mono',consolas,'Courier New',monospace\"><span style=\"color: #7fbfbf; text-decoration-color: #7fbfbf\">                    </span><span style=\"color: #008000; text-decoration-color: #008000\">INFO    </span> <span style=\"color: #808000; text-decoration-color: #808000; font-weight: bold\">Rendered</span> CurvaYTexto                                                      <a href=\"file://C:\\Users\\Diego\\anaconda3\\envs\\animaciones\\lib\\site-packages\\manim\\scene\\scene.py\" target=\"_blank\"><span style=\"color: #7f7f7f; text-decoration-color: #7f7f7f\">scene.py</span></a><span style=\"color: #7f7f7f; text-decoration-color: #7f7f7f\">:</span><a href=\"file://C:\\Users\\Diego\\anaconda3\\envs\\animaciones\\lib\\site-packages\\manim\\scene\\scene.py#255\" target=\"_blank\"><span style=\"color: #7f7f7f; text-decoration-color: #7f7f7f\">255</span></a>\n",
       "<span style=\"color: #7fbfbf; text-decoration-color: #7fbfbf\">                    </span>         <span style=\"color: #808000; text-decoration-color: #808000; font-weight: bold\">Played</span> <span style=\"color: #008000; text-decoration-color: #008000\">2</span> <span style=\"color: #808000; text-decoration-color: #808000; font-weight: bold\">animations</span>                                                       <span style=\"color: #7f7f7f; text-decoration-color: #7f7f7f\">            </span>\n",
       "</pre>\n"
      ],
      "text/plain": [
       "\u001b[2;36m                   \u001b[0m\u001b[2;36m \u001b[0m\u001b[32mINFO    \u001b[0m \u001b[1;33mRendered\u001b[0m CurvaYTexto                                                      \u001b]8;id=169540;file://C:\\Users\\Diego\\anaconda3\\envs\\animaciones\\lib\\site-packages\\manim\\scene\\scene.py\u001b\\\u001b[2mscene.py\u001b[0m\u001b]8;;\u001b\\\u001b[2m:\u001b[0m\u001b]8;id=735569;file://C:\\Users\\Diego\\anaconda3\\envs\\animaciones\\lib\\site-packages\\manim\\scene\\scene.py#255\u001b\\\u001b[2m255\u001b[0m\u001b]8;;\u001b\\\n",
       "\u001b[2;36m                    \u001b[0m         \u001b[1;33mPlayed\u001b[0m \u001b[32m2\u001b[0m \u001b[1;33manimations\u001b[0m                                                       \u001b[2m            \u001b[0m\n"
      ]
     },
     "metadata": {},
     "output_type": "display_data"
    },
    {
     "data": {
      "text/html": [
       "<video src=\"media\\jupyter\\CurvaYTexto@2025-05-01@08-48-11.mp4\" controls autoplay loop style=\"max-width: 60%;\"  >\n",
       "      Your browser does not support the <code>video</code> element.\n",
       "    </video>"
      ],
      "text/plain": [
       "<IPython.core.display.Video object>"
      ]
     },
     "metadata": {},
     "output_type": "display_data"
    }
   ],
   "source": [
    "%%manim -ql CurvaYTexto\n",
    "\n",
    "# class CurvaAnimada:\n",
    "#     def __init__(self, trayectoria, color=WHITE, duracion=5, grosor=4):\n",
    "#         self.trayectoria = trayectoria\n",
    "#         self.color = color\n",
    "#         self.duracion = duracion\n",
    "#         self.grosor = grosor\n",
    "\n",
    "#         self.dot = Dot(self.trayectoria.get_start(), color=self.color)\n",
    "#         self.trazo = TracedPath(self.dot.get_center, stroke_color=self.color, stroke_width=self.grosor)\n",
    "\n",
    "#     def animar(self):\n",
    "#         return MoveAlongPath(self.dot, self.trayectoria, rate_func=linear, run_time=self.duracion)\n",
    "\n",
    "class CurvaYTexto(Scene):\n",
    "    def construct(self):\n",
    "        # Curvas\n",
    "        curva1 = CubicBezier(LEFT * 4 + DOWN, LEFT * 2 + UP * 2, RIGHT * 2 + UP * 2, RIGHT * 4 + DOWN)\n",
    "        curva2 = Line(LEFT * 4, RIGHT * 4)\n",
    "        curva3 = CubicBezier([-5,3,0],[-4,5,0] ,[-2,-3,0], [-1, 4 , 0])\n",
    "\n",
    "        # Objetos animados\n",
    "        trazo1 = ca.CurvaAnimada(curva1, color=BLUE, duracion=6)\n",
    "        trazo2 = ca.CurvaAnimada(curva2, color=RED, duracion=4)\n",
    "        trazo3 = ca.CurvaAnimada(curva3, color=YELLOW, duracion=5)\n",
    "\n",
    "        # Texto\n",
    "        texto = Text(\"¡Curvas en acción!\", font_size=96).set_fill(opacity=0).set_stroke(BLUE, width=4).to_edge(UP)\n",
    "\n",
    "        # Añadir elementos a escena\n",
    "        self.add(trazo1.trazo, trazo2.trazo, trazo3.trazo, trazo1.dot, trazo2.dot, trazo3.dot)\n",
    "\n",
    "        # Animaciones en paralelo, con desfasaje para el texto\n",
    "        self.play(\n",
    "            AnimationGroup(\n",
    "                trazo1.animar(),\n",
    "                trazo2.animar(),\n",
    "                trazo3.animar(),\n",
    "                Succession(\n",
    "                    Wait(3),  # desfasaje antes de escribir\n",
    "                    Write(texto)\n",
    "                ),\n",
    "                run_time=7,\n",
    "                lag_ratio=0  # simultaneidad real\n",
    "            )\n",
    "        )\n",
    "        self.wait(2)"
   ]
  },
  {
   "cell_type": "code",
   "execution_count": null,
   "id": "f9f90591-f9f6-4d7a-8367-4b552f2b3378",
   "metadata": {},
   "outputs": [],
   "source": [
    "import numpy as np"
   ]
  },
  {
   "cell_type": "code",
   "execution_count": 8,
   "id": "4157c8f7-1bf7-4b52-819e-ea87cec251b7",
   "metadata": {},
   "outputs": [
    {
     "data": {
      "text/html": [
       "<pre style=\"white-space:pre;overflow-x:auto;line-height:normal;font-family:Menlo,'DejaVu Sans Mono',consolas,'Courier New',monospace\">Manim Community <span style=\"color: #008000; text-decoration-color: #008000\">v0.19.0</span>\n",
       "\n",
       "</pre>\n"
      ],
      "text/plain": [
       "Manim Community \u001b[32mv0.\u001b[0m\u001b[32m19.0\u001b[0m\n",
       "\n"
      ]
     },
     "metadata": {},
     "output_type": "display_data"
    },
    {
     "name": "stderr",
     "output_type": "stream",
     "text": [
      "                                                                                                                       "
     ]
    },
    {
     "data": {
      "text/html": [
       "<video src=\"media\\jupyter\\EspiralAnimada2@2025-04-30@14-05-01.mp4\" controls autoplay loop style=\"max-width: 75%;\"  >\n",
       "      Your browser does not support the <code>video</code> element.\n",
       "    </video>"
      ],
      "text/plain": [
       "<IPython.core.display.Video object>"
      ]
     },
     "metadata": {},
     "output_type": "display_data"
    }
   ],
   "source": [
    "%%manim -ql EspiralAnimada2\n",
    "\n",
    "class EspiralAnimada2(Scene):\n",
    "    def construct(self):\n",
    "        # Definimos un punto inicial en (0, 0)\n",
    "        punto = Dot(color=BLUE)\n",
    "\n",
    "        # Lo agregamos a la escena\n",
    "        self.add(punto)\n",
    "\n",
    "        # Actualizamos su posición con una función lambda\n",
    "        # Usamos una espiral: x(t) = r(t) * cos(t), y(t) = r(t) * sin(t)\n",
    "        punto.add_updater(lambda m, dt: m.move_to(np.array([0.25 * self.time * np.cos(self.time), 0.25 * self.time * np.sin(self.time), 0])))\n",
    "\n",
    "        # Animamos el tiempo para que el punto se mueva\n",
    "        self.play(punto.animate(run_time=5))  # Ajustamos el tiempo de la animación para el punto\n",
    "\n",
    "        # Finalizamos la animación\n",
    "        self.wait(1)"
   ]
  },
  {
   "cell_type": "code",
   "execution_count": 15,
   "id": "4f89d5a7-6677-4355-85da-15c4b7d30322",
   "metadata": {},
   "outputs": [
    {
     "data": {
      "text/html": [
       "<pre style=\"white-space:pre;overflow-x:auto;line-height:normal;font-family:Menlo,'DejaVu Sans Mono',consolas,'Courier New',monospace\">Manim Community <span style=\"color: #008000; text-decoration-color: #008000\">v0.19.0</span>\n",
       "\n",
       "</pre>\n"
      ],
      "text/plain": [
       "Manim Community \u001b[32mv0.\u001b[0m\u001b[32m19.0\u001b[0m\n",
       "\n"
      ]
     },
     "metadata": {},
     "output_type": "display_data"
    },
    {
     "name": "stderr",
     "output_type": "stream",
     "text": [
      "                                                                                                                       "
     ]
    },
    {
     "data": {
      "text/html": [
       "<video src=\"media\\jupyter\\EspiralesConDots@2025-04-30@14-13-33.mp4\" controls autoplay loop style=\"max-width: 75%;\"  >\n",
       "      Your browser does not support the <code>video</code> element.\n",
       "    </video>"
      ],
      "text/plain": [
       "<IPython.core.display.Video object>"
      ]
     },
     "metadata": {},
     "output_type": "display_data"
    }
   ],
   "source": [
    "%%manim -ql EspiralesConDots\n",
    "\n",
    "class EspiralesConDots(Scene):\n",
    "    def construct(self):\n",
    "        # Creamos 5 puntos, cada uno con un color diferente\n",
    "        puntos = [Dot(color=BLUE), Dot(color=GREEN), Dot(color=RED), Dot(color=YELLOW), Dot(color=PURPLE)]\n",
    "        \n",
    "        # Los agregamos a la escena\n",
    "        for punto in puntos:\n",
    "            self.add(punto)\n",
    "        \n",
    "        # Parametros para las espirales\n",
    "        amplitudes = [0.25, 0.3, 0.35, 0.4, 0.45]  # Diferentes amplitudes para las espirales\n",
    "        velocidades = [0.3, 0.5, 0.7, 0.9, 1.1]  # Diferentes velocidades para cada espiral\n",
    "        \n",
    "        # Agregamos los actualizadores para cada uno de los puntos\n",
    "        for i, punto in enumerate(puntos):\n",
    "            punto.add_updater(lambda m, dt, i=i: m.move_to(np.array([amplitudes[i] * self.time * np.cos(velocidades[i] * self.time), \n",
    "                                                                     amplitudes[i] * self.time * np.sin(velocidades[i] * self.time), \n",
    "                                                                     0])))\n",
    "\n",
    "        # Animamos todos los puntos al mismo tiempo\n",
    "        self.play(*[punto.animate(run_time=10) for punto in puntos])\n",
    "\n",
    "        # Esperamos un poco después de la animación\n",
    "        self.wait(1)"
   ]
  },
  {
   "cell_type": "code",
   "execution_count": null,
   "id": "5af08fca-a39c-46d5-ae04-636e506e7693",
   "metadata": {},
   "outputs": [],
   "source": []
  },
  {
   "cell_type": "code",
   "execution_count": null,
   "id": "5dc4d58d-cf6f-4ca2-bb73-08a8439bd7f1",
   "metadata": {},
   "outputs": [],
   "source": []
  }
 ],
 "metadata": {
  "kernelspec": {
   "display_name": "Python 3 (ipykernel)",
   "language": "python",
   "name": "python3"
  },
  "language_info": {
   "codemirror_mode": {
    "name": "ipython",
    "version": 3
   },
   "file_extension": ".py",
   "mimetype": "text/x-python",
   "name": "python",
   "nbconvert_exporter": "python",
   "pygments_lexer": "ipython3",
   "version": "3.10.16"
  }
 },
 "nbformat": 4,
 "nbformat_minor": 5
}
