{
 "cells": [
  {
   "cell_type": "code",
   "execution_count": 1,
   "id": "b148504f-74dd-49a3-82da-d2aa79a8a5c2",
   "metadata": {},
   "outputs": [],
   "source": [
    "from manim import *"
   ]
  },
  {
   "cell_type": "code",
   "execution_count": 2,
   "id": "71e97c7b-f98f-43be-a0c6-04dc6976f3c8",
   "metadata": {},
   "outputs": [],
   "source": [
    "import sys\n",
    "from pathlib import Path\n",
    "\n",
    "# Subir un solo nivel desde la carpeta actual (escenas/horizontales)\n",
    "root_path = Path().resolve().parents[0]    # parents[0] sería un salto hacia arriba, [1] son dos\n",
    "\n",
    "# Agregarlo al sys.path si no está ya\n",
    "if str(root_path) not in sys.path:\n",
    "    sys.path.append(str(root_path))"
   ]
  },
  {
   "cell_type": "code",
   "execution_count": 3,
   "id": "097508e0-3768-4a41-93fd-1dd76ce926d8",
   "metadata": {},
   "outputs": [
    {
     "data": {
      "text/plain": [
       "WindowsPath('C:/Users/Diego/Desktop/animaciones')"
      ]
     },
     "execution_count": 3,
     "metadata": {},
     "output_type": "execute_result"
    }
   ],
   "source": [
    "root_path"
   ]
  },
  {
   "cell_type": "code",
   "execution_count": 4,
   "id": "3d7af231-e6cc-401e-b1ce-c1651b53a6b8",
   "metadata": {},
   "outputs": [],
   "source": [
    "import layouts.hexagonales as hx"
   ]
  },
  {
   "cell_type": "code",
   "execution_count": 5,
   "id": "6f1fc7a3-2d67-4078-a998-303a08b09c1b",
   "metadata": {},
   "outputs": [],
   "source": [
    "config.media_width = \"75%\"\n",
    "config.verbosity = \"WARNING\"\n",
    "config.background_color = \"#24043d\""
   ]
  },
  {
   "cell_type": "code",
   "execution_count": 6,
   "id": "4fbbfb47-e78c-477a-b6d4-60f985e765d6",
   "metadata": {},
   "outputs": [],
   "source": [
    "import numpy as np"
   ]
  },
  {
   "cell_type": "code",
   "execution_count": 7,
   "id": "99c4c7ca-22e9-4335-894e-ee492a3bd6ae",
   "metadata": {},
   "outputs": [],
   "source": [
    "import random"
   ]
  },
  {
   "cell_type": "code",
   "execution_count": 8,
   "id": "327ca9fe-3ed9-4da6-8397-bbc09d551ebc",
   "metadata": {},
   "outputs": [
    {
     "data": {
      "text/html": [
       "<pre style=\"white-space:pre;overflow-x:auto;line-height:normal;font-family:Menlo,'DejaVu Sans Mono',consolas,'Courier New',monospace\">Manim Community <span style=\"color: #008000; text-decoration-color: #008000\">v0.19.0</span>\n",
       "\n",
       "</pre>\n"
      ],
      "text/plain": [
       "Manim Community \u001b[32mv0.\u001b[0m\u001b[32m19.0\u001b[0m\n",
       "\n"
      ]
     },
     "metadata": {},
     "output_type": "display_data"
    },
    {
     "name": "stderr",
     "output_type": "stream",
     "text": [
      "                                                                                                                       "
     ]
    },
    {
     "data": {
      "text/html": [
       "<video src=\"media\\jupyter\\HexagonalField@2025-05-25@08-58-43.mp4\" controls autoplay loop style=\"max-width: 75%;\"  >\n",
       "      Your browser does not support the <code>video</code> element.\n",
       "    </video>"
      ],
      "text/plain": [
       "<IPython.core.display.Video object>"
      ]
     },
     "metadata": {},
     "output_type": "display_data"
    }
   ],
   "source": [
    "%%manim -ql HexagonalField\n",
    "\n",
    "class HexagonalField(Scene):\n",
    "    def construct(self):\n",
    "        radius = 0.5\n",
    "        num_columns = 8  #  columnas\n",
    "        num_rows = 5     #  filas\n",
    "        \n",
    "        def grid_to_screen(col, row):\n",
    "            dx = 1.5 * radius\n",
    "            dy = np.sqrt(3) * radius\n",
    "            \n",
    "            x = col * dx\n",
    "            y = row * dy\n",
    "            if col % 2 == 1:\n",
    "                y += dy / 2\n",
    "            return np.array([x, y, 0])\n",
    "        \n",
    "        hexagons = VGroup()\n",
    "\n",
    "        for col in range(num_columns):\n",
    "            for row in range(num_rows):\n",
    "                pos = grid_to_screen(col, row)\n",
    "                hexagon = RegularPolygon(n=6, radius=radius)\n",
    "                hexagon.move_to(pos)\n",
    "                hexagon.set_stroke(WHITE, width=2)\n",
    "                hexagons.add(hexagon)\n",
    "\n",
    "        hexagons.center()\n",
    "\n",
    "        # Primero aparece el campo completo\n",
    "        self.play(FadeIn(hexagons))\n",
    "        self.wait(1)\n",
    "\n",
    "        # Ahora hacemos pasar un destello sobre cada hexágono\n",
    "        flashes = []\n",
    "\n",
    "        for hexagon in hexagons:\n",
    "            flash = ShowPassingFlash(\n",
    "                hexagon.copy().set_stroke(BLUE, width=4),\n",
    "                time_width=1,\n",
    "                run_time=1\n",
    "            )\n",
    "            flashes.append(flash)\n",
    "\n",
    "        self.play(AnimationGroup(*flashes, lag_ratio=0.05))\n",
    "        self.wait(2)\n",
    "\n"
   ]
  },
  {
   "cell_type": "code",
   "execution_count": null,
   "id": "e3f76f0b-2988-425b-942f-2b2c30cef9e2",
   "metadata": {},
   "outputs": [],
   "source": [
    "import random  # para barajar"
   ]
  },
  {
   "cell_type": "code",
   "execution_count": 9,
   "id": "00c644e1-e2a2-43c1-9e72-c75bc0d4a445",
   "metadata": {},
   "outputs": [
    {
     "data": {
      "text/html": [
       "<pre style=\"white-space:pre;overflow-x:auto;line-height:normal;font-family:Menlo,'DejaVu Sans Mono',consolas,'Courier New',monospace\">Manim Community <span style=\"color: #008000; text-decoration-color: #008000\">v0.19.0</span>\n",
       "\n",
       "</pre>\n"
      ],
      "text/plain": [
       "Manim Community \u001b[32mv0.\u001b[0m\u001b[32m19.0\u001b[0m\n",
       "\n"
      ]
     },
     "metadata": {},
     "output_type": "display_data"
    },
    {
     "name": "stderr",
     "output_type": "stream",
     "text": [
      "                                                                                                                       "
     ]
    },
    {
     "data": {
      "text/html": [
       "<video src=\"media\\jupyter\\HexagonalField@2025-05-25@08-58-55.mp4\" controls autoplay loop style=\"max-width: 75%;\"  >\n",
       "      Your browser does not support the <code>video</code> element.\n",
       "    </video>"
      ],
      "text/plain": [
       "<IPython.core.display.Video object>"
      ]
     },
     "metadata": {},
     "output_type": "display_data"
    }
   ],
   "source": [
    "%%manim -ql HexagonalField\n",
    "\n",
    "class HexagonalField(Scene):\n",
    "    def construct(self):\n",
    "        radius = 0.5\n",
    "        num_columns = 8  # 🔵 columnas\n",
    "        num_rows = 5     # 🔵 filas\n",
    "        \n",
    "        def grid_to_screen(col, row):\n",
    "            dx = 1.5 * radius\n",
    "            dy = np.sqrt(3) * radius\n",
    "            \n",
    "            x = col * dx\n",
    "            y = row * dy\n",
    "            if col % 2 == 1:\n",
    "                y += dy / 2\n",
    "            return np.array([x, y, 0])\n",
    "        \n",
    "        hexagons = VGroup()\n",
    "\n",
    "        for col in range(num_columns):\n",
    "            for row in range(num_rows):\n",
    "                pos = grid_to_screen(col, row)\n",
    "                hexagon = RegularPolygon(n=6, radius=radius)\n",
    "                hexagon.move_to(pos)\n",
    "                hexagon.set_stroke(WHITE, width=2)\n",
    "                hexagons.add(hexagon)\n",
    "\n",
    "        hexagons.center()\n",
    "\n",
    "        # Primero aparece el campo completo\n",
    "        self.play(FadeIn(hexagons))\n",
    "        self.wait(1)\n",
    "\n",
    "        # Ahora barajamos el orden de los hexágonos\n",
    "        hexagons_list = list(hexagons)\n",
    "        random.shuffle(hexagons_list)  # 🔥 mezcla al azar\n",
    "\n",
    "        # Creamos los flashes\n",
    "        flashes = []\n",
    "\n",
    "        for hexagon in hexagons_list:\n",
    "            flash = ShowPassingFlash(\n",
    "                hexagon.copy().set_stroke(YELLOW, width=4),\n",
    "                time_width=0.5,\n",
    "                run_time=0.5\n",
    "            )\n",
    "            flashes.append(flash)\n",
    "\n",
    "        self.play(AnimationGroup(*flashes, lag_ratio=0.05))\n",
    "        self.wait(2)\n"
   ]
  },
  {
   "cell_type": "code",
   "execution_count": null,
   "id": "bcd03f4e-cc7e-49fd-9448-bbeac641a9f5",
   "metadata": {},
   "outputs": [],
   "source": []
  },
  {
   "cell_type": "code",
   "execution_count": 10,
   "id": "3978e558-c9a5-4be5-93ae-5176a7871d3c",
   "metadata": {},
   "outputs": [
    {
     "data": {
      "text/html": [
       "<pre style=\"white-space:pre;overflow-x:auto;line-height:normal;font-family:Menlo,'DejaVu Sans Mono',consolas,'Courier New',monospace\">Manim Community <span style=\"color: #008000; text-decoration-color: #008000\">v0.19.0</span>\n",
       "\n",
       "</pre>\n"
      ],
      "text/plain": [
       "Manim Community \u001b[32mv0.\u001b[0m\u001b[32m19.0\u001b[0m\n",
       "\n"
      ]
     },
     "metadata": {},
     "output_type": "display_data"
    },
    {
     "name": "stderr",
     "output_type": "stream",
     "text": [
      "                                                                                                                       "
     ]
    },
    {
     "data": {
      "text/html": [
       "<video src=\"media\\jupyter\\HexagonalField@2025-05-25@08-59-18.mp4\" controls autoplay loop style=\"max-width: 75%;\"  >\n",
       "      Your browser does not support the <code>video</code> element.\n",
       "    </video>"
      ],
      "text/plain": [
       "<IPython.core.display.Video object>"
      ]
     },
     "metadata": {},
     "output_type": "display_data"
    }
   ],
   "source": [
    "%%manim -ql HexagonalField\n",
    "\n",
    "class HexagonalField(Scene):\n",
    "    def construct(self):\n",
    "        radius = 0.5\n",
    "        num_columns = 8  # 🔵 columnas\n",
    "        num_rows = 5     # 🔵 filas\n",
    "        \n",
    "        def grid_to_screen(col, row):\n",
    "            dx = 1.5 * radius\n",
    "            dy = np.sqrt(3) * radius\n",
    "            \n",
    "            x = col * dx\n",
    "            y = row * dy\n",
    "            if col % 2 == 1:\n",
    "                y += dy / 2\n",
    "            return np.array([x, y, 0])\n",
    "        \n",
    "        hexagons = VGroup()\n",
    "\n",
    "        for col in range(num_columns):\n",
    "            for row in range(num_rows):\n",
    "                pos = grid_to_screen(col, row)\n",
    "                hexagon = RegularPolygon(n=6, radius=radius)\n",
    "                hexagon.move_to(pos)\n",
    "                hexagon.set_stroke(WHITE, width=2)\n",
    "                hexagons.add(hexagon)\n",
    "\n",
    "        hexagons.center()\n",
    "\n",
    "        # 🎨 Paleta de colores celeste/turquesa\n",
    "        palette = [\n",
    "            \"#00FFFF\",  # Aqua\n",
    "            \"#00CED1\",  # DarkTurquoise\n",
    "            \"#40E0D0\",  # Turquoise\n",
    "            \"#48D1CC\",  # MediumTurquoise\n",
    "            \"#20B2AA\",  # LightSeaGreen\n",
    "            \"#5F9EA0\"   # CadetBlue (más desaturado)\n",
    "        ]\n",
    "\n",
    "        # Primero aparece el campo completo\n",
    "        self.play(FadeIn(hexagons))\n",
    "        self.wait(1)\n",
    "\n",
    "        # Barajamos los hexágonos\n",
    "        hexagons_list = list(hexagons)\n",
    "        random.shuffle(hexagons_list)\n",
    "\n",
    "        # Creamos los flashes\n",
    "        flashes = []\n",
    "\n",
    "        for hexagon in hexagons_list:\n",
    "            color = random.choice(palette)  # 🎨 elige un color al azar\n",
    "            flash = ShowPassingFlash(\n",
    "                hexagon.copy().set_stroke(color, width=4),\n",
    "                time_width=1,\n",
    "                run_time=1\n",
    "            )\n",
    "            flashes.append(flash)\n",
    "\n",
    "        self.play(AnimationGroup(*flashes, lag_ratio=0.05))\n",
    "\n",
    "        \n",
    "        self.wait(2)\n"
   ]
  },
  {
   "cell_type": "code",
   "execution_count": null,
   "id": "bea4b18e-f11b-4671-8dc8-4f2c300fac8e",
   "metadata": {},
   "outputs": [],
   "source": []
  },
  {
   "cell_type": "code",
   "execution_count": 11,
   "id": "8b490f43-0f79-42b7-985e-85ef9dec88a9",
   "metadata": {},
   "outputs": [
    {
     "data": {
      "text/html": [
       "<pre style=\"white-space:pre;overflow-x:auto;line-height:normal;font-family:Menlo,'DejaVu Sans Mono',consolas,'Courier New',monospace\">Manim Community <span style=\"color: #008000; text-decoration-color: #008000\">v0.19.0</span>\n",
       "\n",
       "</pre>\n"
      ],
      "text/plain": [
       "Manim Community \u001b[32mv0.\u001b[0m\u001b[32m19.0\u001b[0m\n",
       "\n"
      ]
     },
     "metadata": {},
     "output_type": "display_data"
    },
    {
     "name": "stderr",
     "output_type": "stream",
     "text": [
      "                                                                                                                       "
     ]
    },
    {
     "data": {
      "text/html": [
       "<video src=\"media\\jupyter\\HexagonalField@2025-05-25@08-59-47.mp4\" controls autoplay loop style=\"max-width: 75%;\"  >\n",
       "      Your browser does not support the <code>video</code> element.\n",
       "    </video>"
      ],
      "text/plain": [
       "<IPython.core.display.Video object>"
      ]
     },
     "metadata": {},
     "output_type": "display_data"
    }
   ],
   "source": [
    "%%manim -ql HexagonalField\n",
    "\n",
    "class HexagonalField(Scene):\n",
    "    def construct(self):\n",
    "        radius = 0.5\n",
    "        num_columns = 8  #  columnas\n",
    "        num_rows = 5     #  filas\n",
    "        \n",
    "        def grid_to_screen(col, row):\n",
    "            dx = 1.5 * radius\n",
    "            dy = np.sqrt(3) * radius\n",
    "            \n",
    "            x = col * dx\n",
    "            y = row * dy\n",
    "            if col % 2 == 1:\n",
    "                y += dy / 2\n",
    "            return np.array([x, y, 0])\n",
    "        \n",
    "        hexagons = VGroup()\n",
    "\n",
    "        for col in range(num_columns):\n",
    "            for row in range(num_rows):\n",
    "                pos = grid_to_screen(col, row)\n",
    "                hexagon = RegularPolygon(n=6, radius=radius).set_fill(BLACK).set_opacity(0.9)\n",
    "                hexagon.move_to(pos)\n",
    "                hexagon.set_stroke(WHITE, width=4)\n",
    "                hexagons.add(hexagon)\n",
    "\n",
    "        hexagons.center()\n",
    "\n",
    "        # 🎨 Paleta de colores celeste/turquesa\n",
    "        palette = [\n",
    "            \"#00FFFF\",  # Aqua\n",
    "            \"#00CED1\",  # DarkTurquoise\n",
    "            \"#40E0D0\",  # Turquoise\n",
    "            \"#48D1CC\",  # MediumTurquoise\n",
    "            \"#20B2AA\",  # LightSeaGreen\n",
    "            \"#5F9EA0\"   # CadetBlue\n",
    "        ]\n",
    "\n",
    "        # Número de rondas de flashes\n",
    "        num_rounds = 5\n",
    "\n",
    "        # Primero aparece el campo completo\n",
    "        self.play(FadeIn(hexagons))\n",
    "        self.wait(1)\n",
    "\n",
    "        # ⚡ Hacemos destellos múltiples\n",
    "        round_counter = 0\n",
    "        while round_counter < num_rounds:\n",
    "            hexagons_list = list(hexagons)\n",
    "            random.shuffle(hexagons_list)\n",
    "\n",
    "            flashes = []\n",
    "\n",
    "            for hexagon in hexagons_list:\n",
    "                color = random.choice(palette)  #  elige color al azar\n",
    "                flash = ShowPassingFlash(\n",
    "                    hexagon.copy().set_stroke(color, width=4),\n",
    "                    time_width=0.8,\n",
    "                    run_time=0.8\n",
    "                )\n",
    "                flashes.append(flash)\n",
    "\n",
    "            self.play(AnimationGroup(*flashes, lag_ratio=0.05))\n",
    "            round_counter += 1\n",
    "\n",
    "        self.wait(2)\n"
   ]
  },
  {
   "cell_type": "code",
   "execution_count": null,
   "id": "7fe5cbd2-8d8d-4980-8376-2a12fc1f94fa",
   "metadata": {},
   "outputs": [],
   "source": []
  },
  {
   "cell_type": "code",
   "execution_count": 12,
   "id": "ae0bdda1-6cb1-4c93-be88-f26685799f05",
   "metadata": {},
   "outputs": [
    {
     "data": {
      "text/html": [
       "<pre style=\"white-space:pre;overflow-x:auto;line-height:normal;font-family:Menlo,'DejaVu Sans Mono',consolas,'Courier New',monospace\">Manim Community <span style=\"color: #008000; text-decoration-color: #008000\">v0.19.0</span>\n",
       "\n",
       "</pre>\n"
      ],
      "text/plain": [
       "Manim Community \u001b[32mv0.\u001b[0m\u001b[32m19.0\u001b[0m\n",
       "\n"
      ]
     },
     "metadata": {},
     "output_type": "display_data"
    },
    {
     "name": "stderr",
     "output_type": "stream",
     "text": [
      "                                                                                                                       "
     ]
    },
    {
     "data": {
      "text/html": [
       "<video src=\"media\\jupyter\\HexagonalField@2025-05-25@09-00-11.mp4\" controls autoplay loop style=\"max-width: 75%;\"  >\n",
       "      Your browser does not support the <code>video</code> element.\n",
       "    </video>"
      ],
      "text/plain": [
       "<IPython.core.display.Video object>"
      ]
     },
     "metadata": {},
     "output_type": "display_data"
    }
   ],
   "source": [
    "%%manim -ql HexagonalField\n",
    "\n",
    "class HexagonalField(Scene):\n",
    "    def construct(self):\n",
    "        radius = 0.5\n",
    "        num_columns = 8  #  columnas\n",
    "        num_rows = 5     #  filas\n",
    "        \n",
    "        def grid_to_screen(col, row):\n",
    "            dx = 1.5 * radius\n",
    "            dy = np.sqrt(3) * radius\n",
    "            \n",
    "            x = col * dx\n",
    "            y = row * dy\n",
    "            if col % 2 == 1:\n",
    "                y += dy / 2\n",
    "            return np.array([x, y, 0])\n",
    "\n",
    "        #  Paleta de colores celeste/turquesa\n",
    "        palette = [\n",
    "            \"#00FFFF\",  # Aqua\n",
    "            \"#00CED1\",  # DarkTurquoise\n",
    "            \"#40E0D0\",  # Turquoise\n",
    "            \"#48D1CC\",  # MediumTurquoise\n",
    "            \"#20B2AA\",  # LightSeaGreen\n",
    "            \"#5F9EA0\"   # CadetBlue\n",
    "        ]\n",
    "\n",
    "        hexagon_grid = []  #  Ahora usamos una grilla explícita\n",
    "        all_hexagons = VGroup()\n",
    "\n",
    "        for row in range(num_rows):  #  Primero fila\n",
    "            row_list = []\n",
    "            for col in range(num_columns):  #  Luego columna\n",
    "                pos = grid_to_screen(col, row)\n",
    "                hexagon = RegularPolygon(n=6, radius=radius)\n",
    "                hexagon.move_to(pos)\n",
    "                hexagon.set_stroke(WHITE, width=2)\n",
    "                row_list.append(hexagon)\n",
    "                all_hexagons.add(hexagon)\n",
    "            hexagon_grid.append(row_list)\n",
    "\n",
    "        all_hexagons.center()\n",
    "\n",
    "        # Primero aparece el campo completo\n",
    "        self.play(FadeIn(all_hexagons))\n",
    "        self.wait(1)\n",
    "\n",
    "        # ⚡ Flashear de izquierda a derecha y de arriba a abajo, invertido\n",
    "        flashes = []\n",
    "        for row in hexagon_grid[::-1]:  #  Invertimos el orden de las filas\n",
    "            for hexagon in row:\n",
    "                color = random.choice(palette)\n",
    "                flash = ShowPassingFlash(\n",
    "                    hexagon.copy().set_stroke(color, width=4),\n",
    "                    time_width=0.6,\n",
    "                    run_time=1\n",
    "                )\n",
    "                flashes.append(flash)\n",
    "\n",
    "        self.play(AnimationGroup(*flashes, lag_ratio=0.05))\n",
    "        self.wait(2)\n",
    "\n"
   ]
  },
  {
   "cell_type": "code",
   "execution_count": null,
   "id": "4412cf04-d026-4058-99cb-67199308028d",
   "metadata": {},
   "outputs": [],
   "source": []
  },
  {
   "cell_type": "code",
   "execution_count": null,
   "id": "fd911f6a-7df6-4226-82d0-201d731fba45",
   "metadata": {},
   "outputs": [],
   "source": []
  }
 ],
 "metadata": {
  "kernelspec": {
   "display_name": "Python 3 (ipykernel)",
   "language": "python",
   "name": "python3"
  },
  "language_info": {
   "codemirror_mode": {
    "name": "ipython",
    "version": 3
   },
   "file_extension": ".py",
   "mimetype": "text/x-python",
   "name": "python",
   "nbconvert_exporter": "python",
   "pygments_lexer": "ipython3",
   "version": "3.10.16"
  }
 },
 "nbformat": 4,
 "nbformat_minor": 5
}
