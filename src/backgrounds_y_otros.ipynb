{
 "cells": [
  {
   "cell_type": "code",
   "execution_count": 21,
   "id": "ac273133-a396-4555-bc31-b7c7b3639780",
   "metadata": {},
   "outputs": [],
   "source": [
    "from manim import *"
   ]
  },
  {
   "cell_type": "code",
   "execution_count": 5,
   "id": "98d0ccdd-1646-4d26-92f6-a7bba468c30d",
   "metadata": {},
   "outputs": [
    {
     "data": {
      "text/html": [
       "<pre style=\"white-space:pre;overflow-x:auto;line-height:normal;font-family:Menlo,'DejaVu Sans Mono',consolas,'Courier New',monospace\">Manim Community <span style=\"color: #008000; text-decoration-color: #008000\">v0.19.0</span>\n",
       "\n",
       "</pre>\n"
      ],
      "text/plain": [
       "Manim Community \u001b[32mv0.\u001b[0m\u001b[32m19.0\u001b[0m\n",
       "\n"
      ]
     },
     "metadata": {},
     "output_type": "display_data"
    },
    {
     "data": {
      "text/html": [
       "<video src=\"media\\jupyter\\GradientSimulation@2025-04-26@20-38-44.mp4\" controls autoplay loop style=\"max-width: 75%;\"  >\n",
       "      Your browser does not support the <code>video</code> element.\n",
       "    </video>"
      ],
      "text/plain": [
       "<IPython.core.display.Video object>"
      ]
     },
     "metadata": {},
     "output_type": "display_data"
    }
   ],
   "source": [
    "%%manim -ql GradientSimulation\n",
    "class GradientSimulation(Scene):\n",
    "    def construct(self):\n",
    "        # Círculo con colores graduales usando varias capas\n",
    "        circle_1 = Circle(radius=2, color=BLUE, fill_opacity=0.8).scale(0.75)\n",
    "        circle_2 = Circle(radius=1.8, color=BLUE_A, fill_opacity=0.8).scale(0.75)\n",
    "        circle_3 = Circle(radius=1.6, color=BLUE_B, fill_opacity=0.8).scale(0.75)\n",
    "\n",
    "        self.add(circle_1, circle_2, circle_3)\n",
    "        self.wait(1)\n"
   ]
  },
  {
   "cell_type": "code",
   "execution_count": 14,
   "id": "f981286c-8fe6-4f6b-a365-37f984ec2712",
   "metadata": {},
   "outputs": [
    {
     "data": {
      "text/html": [
       "<pre style=\"white-space:pre;overflow-x:auto;line-height:normal;font-family:Menlo,'DejaVu Sans Mono',consolas,'Courier New',monospace\">Manim Community <span style=\"color: #008000; text-decoration-color: #008000\">v0.19.0</span>\n",
       "\n",
       "</pre>\n"
      ],
      "text/plain": [
       "Manim Community \u001b[32mv0.\u001b[0m\u001b[32m19.0\u001b[0m\n",
       "\n"
      ]
     },
     "metadata": {},
     "output_type": "display_data"
    },
    {
     "name": "stderr",
     "output_type": "stream",
     "text": [
      "<string>:6: DeprecationWarning: This method is not guaranteed to stay around. Please prefer setting the attribute normally or with Mobject.set().\n"
     ]
    },
    {
     "data": {
      "text/html": [
       "<video src=\"media\\jupyter\\TextureExample@2025-04-26@20-43-59.mp4\" controls autoplay loop style=\"max-width: 75%;\"  >\n",
       "      Your browser does not support the <code>video</code> element.\n",
       "    </video>"
      ],
      "text/plain": [
       "<IPython.core.display.Video object>"
      ]
     },
     "metadata": {},
     "output_type": "display_data"
    }
   ],
   "source": [
    "%%manim -ql TextureExample\n",
    "\n",
    "class TextureExample(Scene):\n",
    "    def construct(self):\n",
    "        # Usar una imagen de textura con un gradiente\n",
    "        rect = Rectangle(width=4, height=2)\n",
    "        rect.set_fill_by_texture(\"gradient_texture.png\")  # Asigna la textura\n",
    "        rect.set_opacity(1)  # Controla la opacidad por separado\n",
    "\n",
    "        self.add(rect)\n",
    "        self.wait(1)\n",
    "\n"
   ]
  },
  {
   "cell_type": "code",
   "execution_count": null,
   "id": "14e50b57-c9ec-4ff2-8fdf-206f5f3b1aaa",
   "metadata": {},
   "outputs": [],
   "source": []
  },
  {
   "cell_type": "code",
   "execution_count": 13,
   "id": "5edbe90d-51f7-4717-bde9-2a2bbd5b2e53",
   "metadata": {},
   "outputs": [
    {
     "data": {
      "text/html": [
       "<pre style=\"white-space:pre;overflow-x:auto;line-height:normal;font-family:Menlo,'DejaVu Sans Mono',consolas,'Courier New',monospace\">Manim Community <span style=\"color: #008000; text-decoration-color: #008000\">v0.19.0</span>\n",
       "\n",
       "</pre>\n"
      ],
      "text/plain": [
       "Manim Community \u001b[32mv0.\u001b[0m\u001b[32m19.0\u001b[0m\n",
       "\n"
      ]
     },
     "metadata": {},
     "output_type": "display_data"
    },
    {
     "name": "stderr",
     "output_type": "stream",
     "text": [
      "                                                                                                                       "
     ]
    },
    {
     "data": {
      "text/html": [
       "<video src=\"media\\jupyter\\GradientEffect@2025-04-26@20-43-27.mp4\" controls autoplay loop style=\"max-width: 75%;\"  >\n",
       "      Your browser does not support the <code>video</code> element.\n",
       "    </video>"
      ],
      "text/plain": [
       "<IPython.core.display.Video object>"
      ]
     },
     "metadata": {},
     "output_type": "display_data"
    }
   ],
   "source": [
    "%%manim -ql GradientEffect\n",
    "class GradientEffect(Scene):\n",
    "    def construct(self):\n",
    "        circle = Circle(radius=2, color=BLUE)\n",
    "        self.add(circle)\n",
    "\n",
    "        # Cambiar el color gradualmente para simular un gradiente\n",
    "        self.play(circle.animate.set_color(RED))\n",
    "        self.play(circle.animate.set_color(BLUE))\n",
    "        self.play(circle.animate.set_color(GREEN))\n",
    "        self.play(circle.animate.set_color(RED))\n",
    "        self.play(circle.animate.set_color(BLUE))\n",
    "        self.play(circle.animate.set_color(GREEN))\n",
    "        self.play(circle.animate.set_color(RED))\n",
    "        self.play(circle.animate.set_color(BLUE))\n",
    "        self.play(circle.animate.set_color(GREEN))\n",
    "        self.play(circle.animate.set_color(RED))\n",
    "        self.play(circle.animate.set_color(BLUE))\n",
    "        self.play(circle.animate.set_color(GREEN))\n",
    "        self.play(circle.animate.set_color(RED))\n",
    "        self.play(circle.animate.set_color(BLUE))\n",
    "        self.play(circle.animate.set_color(GREEN))\n",
    "        self.wait(1)"
   ]
  },
  {
   "cell_type": "code",
   "execution_count": 15,
   "id": "b517aa13-3f49-4a24-90d9-df352a08a0b0",
   "metadata": {},
   "outputs": [
    {
     "data": {
      "text/html": [
       "<pre style=\"white-space:pre;overflow-x:auto;line-height:normal;font-family:Menlo,'DejaVu Sans Mono',consolas,'Courier New',monospace\">Manim Community <span style=\"color: #008000; text-decoration-color: #008000\">v0.19.0</span>\n",
       "\n",
       "</pre>\n"
      ],
      "text/plain": [
       "Manim Community \u001b[32mv0.\u001b[0m\u001b[32m19.0\u001b[0m\n",
       "\n"
      ]
     },
     "metadata": {},
     "output_type": "display_data"
    },
    {
     "name": "stderr",
     "output_type": "stream",
     "text": [
      "                                                                                                                       "
     ]
    },
    {
     "data": {
      "text/html": [
       "<video src=\"media\\jupyter\\GenerativePatterns@2025-04-26@20-52-02.mp4\" controls autoplay loop style=\"max-width: 75%;\"  >\n",
       "      Your browser does not support the <code>video</code> element.\n",
       "    </video>"
      ],
      "text/plain": [
       "<IPython.core.display.Video object>"
      ]
     },
     "metadata": {},
     "output_type": "display_data"
    }
   ],
   "source": [
    "%%manim -ql GenerativePatterns\n",
    "\n",
    "class GenerativePatterns(Scene):\n",
    "    def construct(self):\n",
    "        # Definir el número de elementos que formarán el patrón\n",
    "        num_elements = 6\n",
    "        radius = 3\n",
    "        angle_increment = 360 / num_elements  # Ángulo para distribuir los objetos uniformemente\n",
    "\n",
    "        # Crear un conjunto de círculos con posiciones y tamaños variables\n",
    "        circles = VGroup()\n",
    "        for i in range(num_elements):\n",
    "            # Crear un círculo con un radio variable\n",
    "            circle = Circle(radius=0.5 + i * 0.2, color=WHITE, fill_opacity=0.5)\n",
    "            circle.move_to(radius * RIGHT).rotate_about_origin(i * angle_increment)\n",
    "            circles.add(circle)\n",
    "        \n",
    "        self.add(circles)\n",
    "\n",
    "        # Animar las transformaciones en los círculos\n",
    "        self.play(\n",
    "            *[circle.animate.set_fill(random_color(), opacity=0.8).scale(1.2).rotate(PI / 4) for circle in circles]\n",
    "        )\n",
    "\n",
    "        # Hacer que los círculos se muevan en trayectorias generativas\n",
    "        self.play(\n",
    "            *[circle.animate.shift(UP * 2).rotate(PI / 3) for circle in circles]\n",
    "        )\n",
    "\n",
    "        self.wait(1)\n"
   ]
  },
  {
   "cell_type": "code",
   "execution_count": null,
   "id": "344bfefa-1128-4f64-8a31-10642721712d",
   "metadata": {},
   "outputs": [],
   "source": []
  },
  {
   "cell_type": "code",
   "execution_count": 16,
   "id": "4bd24345-6b17-4268-9d44-749ac6289540",
   "metadata": {},
   "outputs": [
    {
     "data": {
      "text/html": [
       "<pre style=\"white-space:pre;overflow-x:auto;line-height:normal;font-family:Menlo,'DejaVu Sans Mono',consolas,'Courier New',monospace\">Manim Community <span style=\"color: #008000; text-decoration-color: #008000\">v0.19.0</span>\n",
       "\n",
       "</pre>\n"
      ],
      "text/plain": [
       "Manim Community \u001b[32mv0.\u001b[0m\u001b[32m19.0\u001b[0m\n",
       "\n"
      ]
     },
     "metadata": {},
     "output_type": "display_data"
    },
    {
     "name": "stderr",
     "output_type": "stream",
     "text": [
      "                                                                                                                       "
     ]
    },
    {
     "data": {
      "text/html": [
       "<video src=\"media\\jupyter\\PitagorasGenerativo@2025-04-26@21-02-30.mp4\" controls autoplay loop style=\"max-width: 75%;\"  >\n",
       "      Your browser does not support the <code>video</code> element.\n",
       "    </video>"
      ],
      "text/plain": [
       "<IPython.core.display.Video object>"
      ]
     },
     "metadata": {},
     "output_type": "display_data"
    }
   ],
   "source": [
    "%%manim -ql PitagorasGenerativo\n",
    "\n",
    "class PitagorasGenerativo(Scene):\n",
    "    def construct(self):\n",
    "        # Creación de los objetos\n",
    "        triangle = Polygon(LEFT, RIGHT, UP, color=WHITE)  # Triángulo rectángulo\n",
    "        square_a = Square(side_length=2, color=BLUE)  # Cuadrado sobre el cateto 1\n",
    "        square_b = Square(side_length=3, color=GREEN)  # Cuadrado sobre el cateto 2\n",
    "        square_c = Square(side_length=4, color=RED)  # Cuadrado sobre la hipotenusa\n",
    "\n",
    "        # Posicionar los cuadrados\n",
    "        square_a.next_to(triangle, LEFT, buff=0)  # Cuadrado sobre el cateto a\n",
    "        square_b.next_to(triangle, DOWN, buff=0)  # Cuadrado sobre el cateto b\n",
    "        square_c.next_to(triangle, UR, buff=0)    # Cuadrado sobre la hipotenusa\n",
    "\n",
    "        # Animación de construcción del triángulo\n",
    "        self.play(Create(triangle))\n",
    "        self.wait(1)\n",
    "\n",
    "        # Animación de los cuadrados apareciendo sobre los catetos\n",
    "        self.play(Transform(square_a, Square(side_length=2, color=BLUE).move_to(triangle.get_vertices()[0])), run_time=2)\n",
    "        self.play(Transform(square_b, Square(side_length=3, color=GREEN).move_to(triangle.get_vertices()[1])), run_time=2)\n",
    "        self.wait(1)\n",
    "\n",
    "        # Animación de los cuadrados fusionándose en uno solo\n",
    "        self.play(Transform(square_a, square_c), run_time=2)\n",
    "        self.play(Transform(square_b, square_c), run_time=2)\n",
    "        self.wait(1)\n",
    "\n",
    "        # Transición con efecto de disolución: los cuadrados se disuelven y desaparecen\n",
    "        self.play(FadeOut(square_a), FadeOut(square_b), FadeOut(square_c), run_time=2)\n",
    "\n",
    "        # Generación de texto del teorema\n",
    "        pythagorean_text = Text(\"a² + b² = c²\", color=WHITE).scale(1.5)\n",
    "        self.play(Write(pythagorean_text))\n",
    "        self.wait(1)\n",
    "\n",
    "        # Estilo generativo: Disolución de las palabras y retorno al fondo\n",
    "        self.play(FadeOut(pythagorean_text), run_time=2)\n",
    "        self.wait(0.5)\n",
    "\n",
    "        # Fin con la visualización abstracta de la geometría\n",
    "        final_pattern = VGroup(*[\n",
    "            Line(LEFT * i, RIGHT * i, color=WHITE) for i in range(-4, 5)\n",
    "        ])\n",
    "        self.play(LaggedStart(*[Create(line) for line in final_pattern], lag_ratio=0.1))\n",
    "        self.wait(2)\n"
   ]
  },
  {
   "cell_type": "code",
   "execution_count": null,
   "id": "6eaf2874-600d-4c5f-926e-c61406d2afe6",
   "metadata": {},
   "outputs": [],
   "source": []
  },
  {
   "cell_type": "code",
   "execution_count": 19,
   "id": "2a1c4d9c-f433-42b8-a6f0-104bcdecbc78",
   "metadata": {},
   "outputs": [
    {
     "data": {
      "text/html": [
       "<pre style=\"white-space:pre;overflow-x:auto;line-height:normal;font-family:Menlo,'DejaVu Sans Mono',consolas,'Courier New',monospace\">Manim Community <span style=\"color: #008000; text-decoration-color: #008000\">v0.19.0</span>\n",
       "\n",
       "</pre>\n"
      ],
      "text/plain": [
       "Manim Community \u001b[32mv0.\u001b[0m\u001b[32m19.0\u001b[0m\n",
       "\n"
      ]
     },
     "metadata": {},
     "output_type": "display_data"
    },
    {
     "name": "stderr",
     "output_type": "stream",
     "text": [
      "                                                                                                                       "
     ]
    },
    {
     "data": {
      "text/html": [
       "<video src=\"media\\jupyter\\GenScene@2025-04-26@21-37-35.mp4\" controls autoplay loop style=\"max-width: 75%;\"  >\n",
       "      Your browser does not support the <code>video</code> element.\n",
       "    </video>"
      ],
      "text/plain": [
       "<IPython.core.display.Video object>"
      ]
     },
     "metadata": {},
     "output_type": "display_data"
    }
   ],
   "source": [
    "%%manim -ql GenScene\n",
    "\n",
    "class GenScene(Scene):\n",
    "    def construct(self):\n",
    "        # Define the points for the cube\n",
    "        points = [\n",
    "            np.array([-1, -1, 0]),  # A\n",
    "            np.array([1, -1, 0]),   # B\n",
    "            np.array([1, 1, 0]),    # C\n",
    "            np.array([-1, 1, 0]),   # D\n",
    "            np.array([-0.5, -0.5, 1]),  # E\n",
    "            np.array([1.5, -0.5, 1]),   # F\n",
    "            np.array([1.5, 1.5, 1]),    # G\n",
    "            np.array([-0.5, 1.5, 1])    # H\n",
    "        ]\n",
    "\n",
    "        # Create lines for the base square\n",
    "        base_lines = [\n",
    "            Line(points[0], points[1]),  # AB\n",
    "            Line(points[1], points[2]),  # BC\n",
    "            Line(points[2], points[3]),  # CD\n",
    "            Line(points[3], points[0])   # DA\n",
    "        ]\n",
    "\n",
    "        # Create lines for the top square\n",
    "        top_lines = [\n",
    "            Line(points[4], points[5]),  # EF\n",
    "            Line(points[5], points[6]),  # FG\n",
    "            Line(points[6], points[7]),  # GH\n",
    "            Line(points[7], points[4])   # HE\n",
    "        ]\n",
    "\n",
    "        # Create lines for the vertical edges\n",
    "        vertical_lines = [\n",
    "            Line(points[0], points[4]),  # AE\n",
    "            Line(points[1], points[5]),  # BF\n",
    "            Line(points[2], points[6]),  # CG\n",
    "            Line(points[3], points[7])   # DH\n",
    "        ]\n",
    "\n",
    "        # Add all lines to the scene\n",
    "        for line in base_lines + top_lines + vertical_lines:\n",
    "            self.play(Create(line))"
   ]
  },
  {
   "cell_type": "code",
   "execution_count": 20,
   "id": "93cc46c7-8536-4aee-8e7d-a68e1be0ac91",
   "metadata": {},
   "outputs": [
    {
     "data": {
      "text/html": [
       "<pre style=\"white-space:pre;overflow-x:auto;line-height:normal;font-family:Menlo,'DejaVu Sans Mono',consolas,'Courier New',monospace\">Manim Community <span style=\"color: #008000; text-decoration-color: #008000\">v0.19.0</span>\n",
       "\n",
       "</pre>\n"
      ],
      "text/plain": [
       "Manim Community \u001b[32mv0.\u001b[0m\u001b[32m19.0\u001b[0m\n",
       "\n"
      ]
     },
     "metadata": {},
     "output_type": "display_data"
    },
    {
     "name": "stderr",
     "output_type": "stream",
     "text": [
      "                                                                                                                       "
     ]
    },
    {
     "data": {
      "text/html": [
       "<video src=\"media\\jupyter\\GenScene3@2025-04-26@21-40-02.mp4\" controls autoplay loop style=\"max-width: 75%;\"  >\n",
       "      Your browser does not support the <code>video</code> element.\n",
       "    </video>"
      ],
      "text/plain": [
       "<IPython.core.display.Video object>"
      ]
     },
     "metadata": {},
     "output_type": "display_data"
    }
   ],
   "source": [
    "%%manim -ql GenScene3\n",
    "\n",
    "class GenScene3(Scene):\n",
    "    def construct(self):\n",
    "        # Define vertices for the isometric cube\n",
    "        vertices = [\n",
    "            np.array([1, 1, 0]),  # Top front right\n",
    "            np.array([-1, 1, 0]), # Top front left\n",
    "            np.array([-1, -1, 0]),# Bottom front left\n",
    "            np.array([1, -1, 0]), # Bottom front right\n",
    "            np.array([1, 1, -2]), # Top back right\n",
    "            np.array([-1, 1, -2]),# Top back left\n",
    "            np.array([-1, -1, -2]),# Bottom back left\n",
    "            np.array([1, -1, -2]) # Bottom back right\n",
    "        ]\n",
    "\n",
    "        # Define faces of the cube using the vertices\n",
    "        faces = [\n",
    "            [vertices[0], vertices[1], vertices[2], vertices[3]], # Front face\n",
    "            [vertices[0], vertices[1], vertices[5], vertices[4]], # Top face\n",
    "            [vertices[0], vertices[3], vertices[7], vertices[4]], # Right face\n",
    "            [vertices[1], vertices[2], vertices[6], vertices[5]], # Left face\n",
    "            [vertices[3], vertices[2], vertices[6], vertices[7]], # Bottom face\n",
    "            [vertices[4], vertices[5], vertices[6], vertices[7]]  # Back face\n",
    "        ]\n",
    "\n",
    "        # Create polygons for each face\n",
    "        polygons = [Polygon(*face, color=BLUE, fill_opacity=0.5) for face in faces]\n",
    "\n",
    "        # Add polygons to the scene\n",
    "        for polygon in polygons:\n",
    "            self.play(Create(polygon))"
   ]
  },
  {
   "cell_type": "code",
   "execution_count": null,
   "id": "f0b738b5-a835-455b-8bba-1d244eb6232e",
   "metadata": {},
   "outputs": [],
   "source": []
  },
  {
   "cell_type": "code",
   "execution_count": 26,
   "id": "bdca7f06-578b-461f-aa59-061579dfc577",
   "metadata": {},
   "outputs": [
    {
     "data": {
      "text/html": [
       "<pre style=\"white-space:pre;overflow-x:auto;line-height:normal;font-family:Menlo,'DejaVu Sans Mono',consolas,'Courier New',monospace\">Manim Community <span style=\"color: #008000; text-decoration-color: #008000\">v0.19.0</span>\n",
       "\n",
       "</pre>\n"
      ],
      "text/plain": [
       "Manim Community \u001b[32mv0.\u001b[0m\u001b[32m19.0\u001b[0m\n",
       "\n"
      ]
     },
     "metadata": {},
     "output_type": "display_data"
    },
    {
     "data": {
      "text/html": [
       "<video src=\"media\\jupyter\\FondoConCirculos@2025-04-26@22-19-42.mp4\" controls autoplay loop style=\"max-width: 75%;\"  >\n",
       "      Your browser does not support the <code>video</code> element.\n",
       "    </video>"
      ],
      "text/plain": [
       "<IPython.core.display.Video object>"
      ]
     },
     "metadata": {},
     "output_type": "display_data"
    }
   ],
   "source": [
    "%%manim -ql FondoConCirculos\n",
    "class FondoConCirculos(Scene):\n",
    "    def construct(self):\n",
    "        for x in range(-7, 8, 2):\n",
    "            for y in range(-4, 5, 2):\n",
    "                circulo = Circle(radius=0.3, color=BLUE, fill_opacity=0.5)\n",
    "                circulo.move_to([x, y, 0])\n",
    "                self.add(circulo)\n",
    "        self.wait(2)\n"
   ]
  },
  {
   "cell_type": "code",
   "execution_count": 28,
   "id": "83c9d6f1-7d75-487b-9c78-5bfd9bab6c6e",
   "metadata": {},
   "outputs": [],
   "source": [
    "import random"
   ]
  },
  {
   "cell_type": "code",
   "execution_count": 29,
   "id": "12d07836-1b6f-4171-9d43-9b3556be101b",
   "metadata": {},
   "outputs": [
    {
     "data": {
      "text/html": [
       "<pre style=\"white-space:pre;overflow-x:auto;line-height:normal;font-family:Menlo,'DejaVu Sans Mono',consolas,'Courier New',monospace\">Manim Community <span style=\"color: #008000; text-decoration-color: #008000\">v0.19.0</span>\n",
       "\n",
       "</pre>\n"
      ],
      "text/plain": [
       "Manim Community \u001b[32mv0.\u001b[0m\u001b[32m19.0\u001b[0m\n",
       "\n"
      ]
     },
     "metadata": {},
     "output_type": "display_data"
    },
    {
     "data": {
      "text/html": [
       "<pre style=\"white-space:pre;overflow-x:auto;line-height:normal;font-family:Menlo,'DejaVu Sans Mono',consolas,'Courier New',monospace\"><span style=\"color: #7fbfbf; text-decoration-color: #7fbfbf\">[04/26/25 22:20:45] </span><span style=\"color: #800000; text-decoration-color: #800000\">WARNING </span> The original total run_time of <span style=\"color: #800080; text-decoration-color: #800080; font-weight: bold\">VibracionNatural.play</span><span style=\"font-weight: bold\">()</span>, <span style=\"color: #008000; text-decoration-color: #008000\">0.05</span> seconds, is <a href=\"file://C:\\Users\\Diego\\anaconda3\\envs\\animaciones\\lib\\site-packages\\manim\\scene\\scene.py\" target=\"_blank\"><span style=\"color: #7f7f7f; text-decoration-color: #7f7f7f\">scene.py</span></a><span style=\"color: #7f7f7f; text-decoration-color: #7f7f7f\">:</span><a href=\"file://C:\\Users\\Diego\\anaconda3\\envs\\animaciones\\lib\\site-packages\\manim\\scene\\scene.py#1044\" target=\"_blank\"><span style=\"color: #7f7f7f; text-decoration-color: #7f7f7f\">1044</span></a>\n",
       "<span style=\"color: #7fbfbf; text-decoration-color: #7fbfbf\">                    </span>         too short for the current frame rate of <span style=\"color: #008000; text-decoration-color: #008000\">15</span> FPS. <span style=\"color: #808000; text-decoration-color: #808000; font-weight: bold\">Rendering</span> with the       <span style=\"color: #7f7f7f; text-decoration-color: #7f7f7f\">             </span>\n",
       "<span style=\"color: #7fbfbf; text-decoration-color: #7fbfbf\">                    </span>         shortest possible total run_time of <span style=\"color: #008000; text-decoration-color: #008000\">0.0666667</span> seconds instead.           <span style=\"color: #7f7f7f; text-decoration-color: #7f7f7f\">             </span>\n",
       "</pre>\n"
      ],
      "text/plain": [
       "\u001b[2;36m[04/26/25 22:20:45]\u001b[0m\u001b[2;36m \u001b[0m\u001b[31mWARNING \u001b[0m The original total run_time of \u001b[1;35mVibracionNatural.play\u001b[0m\u001b[1m(\u001b[0m\u001b[1m)\u001b[0m, \u001b[32m0.05\u001b[0m seconds, is \u001b]8;id=531619;file://C:\\Users\\Diego\\anaconda3\\envs\\animaciones\\lib\\site-packages\\manim\\scene\\scene.py\u001b\\\u001b[2mscene.py\u001b[0m\u001b]8;;\u001b\\\u001b[2m:\u001b[0m\u001b]8;id=225971;file://C:\\Users\\Diego\\anaconda3\\envs\\animaciones\\lib\\site-packages\\manim\\scene\\scene.py#1044\u001b\\\u001b[2m1044\u001b[0m\u001b]8;;\u001b\\\n",
       "\u001b[2;36m                    \u001b[0m         too short for the current frame rate of \u001b[32m15\u001b[0m FPS. \u001b[1;33mRendering\u001b[0m with the       \u001b[2m             \u001b[0m\n",
       "\u001b[2;36m                    \u001b[0m         shortest possible total run_time of \u001b[32m0.0666667\u001b[0m seconds instead.           \u001b[2m             \u001b[0m\n"
      ]
     },
     "metadata": {},
     "output_type": "display_data"
    },
    {
     "data": {
      "text/html": [
       "<pre style=\"white-space:pre;overflow-x:auto;line-height:normal;font-family:Menlo,'DejaVu Sans Mono',consolas,'Courier New',monospace\"><span style=\"color: #7fbfbf; text-decoration-color: #7fbfbf\">                    </span><span style=\"color: #800000; text-decoration-color: #800000\">WARNING </span> The original total run_time of <span style=\"color: #800080; text-decoration-color: #800080; font-weight: bold\">VibracionNatural.play</span><span style=\"font-weight: bold\">()</span>, <span style=\"color: #008000; text-decoration-color: #008000\">0.05</span> seconds, is <a href=\"file://C:\\Users\\Diego\\anaconda3\\envs\\animaciones\\lib\\site-packages\\manim\\scene\\scene.py\" target=\"_blank\"><span style=\"color: #7f7f7f; text-decoration-color: #7f7f7f\">scene.py</span></a><span style=\"color: #7f7f7f; text-decoration-color: #7f7f7f\">:</span><a href=\"file://C:\\Users\\Diego\\anaconda3\\envs\\animaciones\\lib\\site-packages\\manim\\scene\\scene.py#1044\" target=\"_blank\"><span style=\"color: #7f7f7f; text-decoration-color: #7f7f7f\">1044</span></a>\n",
       "<span style=\"color: #7fbfbf; text-decoration-color: #7fbfbf\">                    </span>         too short for the current frame rate of <span style=\"color: #008000; text-decoration-color: #008000\">15</span> FPS. <span style=\"color: #808000; text-decoration-color: #808000; font-weight: bold\">Rendering</span> with the       <span style=\"color: #7f7f7f; text-decoration-color: #7f7f7f\">             </span>\n",
       "<span style=\"color: #7fbfbf; text-decoration-color: #7fbfbf\">                    </span>         shortest possible total run_time of <span style=\"color: #008000; text-decoration-color: #008000\">0.0666667</span> seconds instead.           <span style=\"color: #7f7f7f; text-decoration-color: #7f7f7f\">             </span>\n",
       "</pre>\n"
      ],
      "text/plain": [
       "\u001b[2;36m                   \u001b[0m\u001b[2;36m \u001b[0m\u001b[31mWARNING \u001b[0m The original total run_time of \u001b[1;35mVibracionNatural.play\u001b[0m\u001b[1m(\u001b[0m\u001b[1m)\u001b[0m, \u001b[32m0.05\u001b[0m seconds, is \u001b]8;id=985524;file://C:\\Users\\Diego\\anaconda3\\envs\\animaciones\\lib\\site-packages\\manim\\scene\\scene.py\u001b\\\u001b[2mscene.py\u001b[0m\u001b]8;;\u001b\\\u001b[2m:\u001b[0m\u001b]8;id=241562;file://C:\\Users\\Diego\\anaconda3\\envs\\animaciones\\lib\\site-packages\\manim\\scene\\scene.py#1044\u001b\\\u001b[2m1044\u001b[0m\u001b]8;;\u001b\\\n",
       "\u001b[2;36m                    \u001b[0m         too short for the current frame rate of \u001b[32m15\u001b[0m FPS. \u001b[1;33mRendering\u001b[0m with the       \u001b[2m             \u001b[0m\n",
       "\u001b[2;36m                    \u001b[0m         shortest possible total run_time of \u001b[32m0.0666667\u001b[0m seconds instead.           \u001b[2m             \u001b[0m\n"
      ]
     },
     "metadata": {},
     "output_type": "display_data"
    },
    {
     "name": "stderr",
     "output_type": "stream",
     "text": [
      "                                                                                                                       "
     ]
    },
    {
     "data": {
      "text/html": [
       "<pre style=\"white-space:pre;overflow-x:auto;line-height:normal;font-family:Menlo,'DejaVu Sans Mono',consolas,'Courier New',monospace\"><span style=\"color: #7fbfbf; text-decoration-color: #7fbfbf\">                    </span><span style=\"color: #800000; text-decoration-color: #800000\">WARNING </span> The original total run_time of <span style=\"color: #800080; text-decoration-color: #800080; font-weight: bold\">VibracionNatural.play</span><span style=\"font-weight: bold\">()</span>, <span style=\"color: #008000; text-decoration-color: #008000\">0.05</span> seconds, is <a href=\"file://C:\\Users\\Diego\\anaconda3\\envs\\animaciones\\lib\\site-packages\\manim\\scene\\scene.py\" target=\"_blank\"><span style=\"color: #7f7f7f; text-decoration-color: #7f7f7f\">scene.py</span></a><span style=\"color: #7f7f7f; text-decoration-color: #7f7f7f\">:</span><a href=\"file://C:\\Users\\Diego\\anaconda3\\envs\\animaciones\\lib\\site-packages\\manim\\scene\\scene.py#1044\" target=\"_blank\"><span style=\"color: #7f7f7f; text-decoration-color: #7f7f7f\">1044</span></a>\n",
       "<span style=\"color: #7fbfbf; text-decoration-color: #7fbfbf\">                    </span>         too short for the current frame rate of <span style=\"color: #008000; text-decoration-color: #008000\">15</span> FPS. <span style=\"color: #808000; text-decoration-color: #808000; font-weight: bold\">Rendering</span> with the       <span style=\"color: #7f7f7f; text-decoration-color: #7f7f7f\">             </span>\n",
       "<span style=\"color: #7fbfbf; text-decoration-color: #7fbfbf\">                    </span>         shortest possible total run_time of <span style=\"color: #008000; text-decoration-color: #008000\">0.0666667</span> seconds instead.           <span style=\"color: #7f7f7f; text-decoration-color: #7f7f7f\">             </span>\n",
       "</pre>\n"
      ],
      "text/plain": [
       "\u001b[2;36m                   \u001b[0m\u001b[2;36m \u001b[0m\u001b[31mWARNING \u001b[0m The original total run_time of \u001b[1;35mVibracionNatural.play\u001b[0m\u001b[1m(\u001b[0m\u001b[1m)\u001b[0m, \u001b[32m0.05\u001b[0m seconds, is \u001b]8;id=202710;file://C:\\Users\\Diego\\anaconda3\\envs\\animaciones\\lib\\site-packages\\manim\\scene\\scene.py\u001b\\\u001b[2mscene.py\u001b[0m\u001b]8;;\u001b\\\u001b[2m:\u001b[0m\u001b]8;id=500592;file://C:\\Users\\Diego\\anaconda3\\envs\\animaciones\\lib\\site-packages\\manim\\scene\\scene.py#1044\u001b\\\u001b[2m1044\u001b[0m\u001b]8;;\u001b\\\n",
       "\u001b[2;36m                    \u001b[0m         too short for the current frame rate of \u001b[32m15\u001b[0m FPS. \u001b[1;33mRendering\u001b[0m with the       \u001b[2m             \u001b[0m\n",
       "\u001b[2;36m                    \u001b[0m         shortest possible total run_time of \u001b[32m0.0666667\u001b[0m seconds instead.           \u001b[2m             \u001b[0m\n"
      ]
     },
     "metadata": {},
     "output_type": "display_data"
    },
    {
     "data": {
      "text/html": [
       "<pre style=\"white-space:pre;overflow-x:auto;line-height:normal;font-family:Menlo,'DejaVu Sans Mono',consolas,'Courier New',monospace\"><span style=\"color: #7fbfbf; text-decoration-color: #7fbfbf\">[04/26/25 22:20:46] </span><span style=\"color: #800000; text-decoration-color: #800000\">WARNING </span> The original total run_time of <span style=\"color: #800080; text-decoration-color: #800080; font-weight: bold\">VibracionNatural.play</span><span style=\"font-weight: bold\">()</span>, <span style=\"color: #008000; text-decoration-color: #008000\">0.05</span> seconds, is <a href=\"file://C:\\Users\\Diego\\anaconda3\\envs\\animaciones\\lib\\site-packages\\manim\\scene\\scene.py\" target=\"_blank\"><span style=\"color: #7f7f7f; text-decoration-color: #7f7f7f\">scene.py</span></a><span style=\"color: #7f7f7f; text-decoration-color: #7f7f7f\">:</span><a href=\"file://C:\\Users\\Diego\\anaconda3\\envs\\animaciones\\lib\\site-packages\\manim\\scene\\scene.py#1044\" target=\"_blank\"><span style=\"color: #7f7f7f; text-decoration-color: #7f7f7f\">1044</span></a>\n",
       "<span style=\"color: #7fbfbf; text-decoration-color: #7fbfbf\">                    </span>         too short for the current frame rate of <span style=\"color: #008000; text-decoration-color: #008000\">15</span> FPS. <span style=\"color: #808000; text-decoration-color: #808000; font-weight: bold\">Rendering</span> with the       <span style=\"color: #7f7f7f; text-decoration-color: #7f7f7f\">             </span>\n",
       "<span style=\"color: #7fbfbf; text-decoration-color: #7fbfbf\">                    </span>         shortest possible total run_time of <span style=\"color: #008000; text-decoration-color: #008000\">0.0666667</span> seconds instead.           <span style=\"color: #7f7f7f; text-decoration-color: #7f7f7f\">             </span>\n",
       "</pre>\n"
      ],
      "text/plain": [
       "\u001b[2;36m[04/26/25 22:20:46]\u001b[0m\u001b[2;36m \u001b[0m\u001b[31mWARNING \u001b[0m The original total run_time of \u001b[1;35mVibracionNatural.play\u001b[0m\u001b[1m(\u001b[0m\u001b[1m)\u001b[0m, \u001b[32m0.05\u001b[0m seconds, is \u001b]8;id=579082;file://C:\\Users\\Diego\\anaconda3\\envs\\animaciones\\lib\\site-packages\\manim\\scene\\scene.py\u001b\\\u001b[2mscene.py\u001b[0m\u001b]8;;\u001b\\\u001b[2m:\u001b[0m\u001b]8;id=828425;file://C:\\Users\\Diego\\anaconda3\\envs\\animaciones\\lib\\site-packages\\manim\\scene\\scene.py#1044\u001b\\\u001b[2m1044\u001b[0m\u001b]8;;\u001b\\\n",
       "\u001b[2;36m                    \u001b[0m         too short for the current frame rate of \u001b[32m15\u001b[0m FPS. \u001b[1;33mRendering\u001b[0m with the       \u001b[2m             \u001b[0m\n",
       "\u001b[2;36m                    \u001b[0m         shortest possible total run_time of \u001b[32m0.0666667\u001b[0m seconds instead.           \u001b[2m             \u001b[0m\n"
      ]
     },
     "metadata": {},
     "output_type": "display_data"
    },
    {
     "name": "stderr",
     "output_type": "stream",
     "text": [
      "                                                                                                                       "
     ]
    },
    {
     "data": {
      "text/html": [
       "<pre style=\"white-space:pre;overflow-x:auto;line-height:normal;font-family:Menlo,'DejaVu Sans Mono',consolas,'Courier New',monospace\"><span style=\"color: #7fbfbf; text-decoration-color: #7fbfbf\">                    </span><span style=\"color: #800000; text-decoration-color: #800000\">WARNING </span> The original total run_time of <span style=\"color: #800080; text-decoration-color: #800080; font-weight: bold\">VibracionNatural.play</span><span style=\"font-weight: bold\">()</span>, <span style=\"color: #008000; text-decoration-color: #008000\">0.05</span> seconds, is <a href=\"file://C:\\Users\\Diego\\anaconda3\\envs\\animaciones\\lib\\site-packages\\manim\\scene\\scene.py\" target=\"_blank\"><span style=\"color: #7f7f7f; text-decoration-color: #7f7f7f\">scene.py</span></a><span style=\"color: #7f7f7f; text-decoration-color: #7f7f7f\">:</span><a href=\"file://C:\\Users\\Diego\\anaconda3\\envs\\animaciones\\lib\\site-packages\\manim\\scene\\scene.py#1044\" target=\"_blank\"><span style=\"color: #7f7f7f; text-decoration-color: #7f7f7f\">1044</span></a>\n",
       "<span style=\"color: #7fbfbf; text-decoration-color: #7fbfbf\">                    </span>         too short for the current frame rate of <span style=\"color: #008000; text-decoration-color: #008000\">15</span> FPS. <span style=\"color: #808000; text-decoration-color: #808000; font-weight: bold\">Rendering</span> with the       <span style=\"color: #7f7f7f; text-decoration-color: #7f7f7f\">             </span>\n",
       "<span style=\"color: #7fbfbf; text-decoration-color: #7fbfbf\">                    </span>         shortest possible total run_time of <span style=\"color: #008000; text-decoration-color: #008000\">0.0666667</span> seconds instead.           <span style=\"color: #7f7f7f; text-decoration-color: #7f7f7f\">             </span>\n",
       "</pre>\n"
      ],
      "text/plain": [
       "\u001b[2;36m                   \u001b[0m\u001b[2;36m \u001b[0m\u001b[31mWARNING \u001b[0m The original total run_time of \u001b[1;35mVibracionNatural.play\u001b[0m\u001b[1m(\u001b[0m\u001b[1m)\u001b[0m, \u001b[32m0.05\u001b[0m seconds, is \u001b]8;id=878599;file://C:\\Users\\Diego\\anaconda3\\envs\\animaciones\\lib\\site-packages\\manim\\scene\\scene.py\u001b\\\u001b[2mscene.py\u001b[0m\u001b]8;;\u001b\\\u001b[2m:\u001b[0m\u001b]8;id=810326;file://C:\\Users\\Diego\\anaconda3\\envs\\animaciones\\lib\\site-packages\\manim\\scene\\scene.py#1044\u001b\\\u001b[2m1044\u001b[0m\u001b]8;;\u001b\\\n",
       "\u001b[2;36m                    \u001b[0m         too short for the current frame rate of \u001b[32m15\u001b[0m FPS. \u001b[1;33mRendering\u001b[0m with the       \u001b[2m             \u001b[0m\n",
       "\u001b[2;36m                    \u001b[0m         shortest possible total run_time of \u001b[32m0.0666667\u001b[0m seconds instead.           \u001b[2m             \u001b[0m\n"
      ]
     },
     "metadata": {},
     "output_type": "display_data"
    },
    {
     "data": {
      "text/html": [
       "<pre style=\"white-space:pre;overflow-x:auto;line-height:normal;font-family:Menlo,'DejaVu Sans Mono',consolas,'Courier New',monospace\"><span style=\"color: #7fbfbf; text-decoration-color: #7fbfbf\">                    </span><span style=\"color: #800000; text-decoration-color: #800000\">WARNING </span> The original total run_time of <span style=\"color: #800080; text-decoration-color: #800080; font-weight: bold\">VibracionNatural.play</span><span style=\"font-weight: bold\">()</span>, <span style=\"color: #008000; text-decoration-color: #008000\">0.05</span> seconds, is <a href=\"file://C:\\Users\\Diego\\anaconda3\\envs\\animaciones\\lib\\site-packages\\manim\\scene\\scene.py\" target=\"_blank\"><span style=\"color: #7f7f7f; text-decoration-color: #7f7f7f\">scene.py</span></a><span style=\"color: #7f7f7f; text-decoration-color: #7f7f7f\">:</span><a href=\"file://C:\\Users\\Diego\\anaconda3\\envs\\animaciones\\lib\\site-packages\\manim\\scene\\scene.py#1044\" target=\"_blank\"><span style=\"color: #7f7f7f; text-decoration-color: #7f7f7f\">1044</span></a>\n",
       "<span style=\"color: #7fbfbf; text-decoration-color: #7fbfbf\">                    </span>         too short for the current frame rate of <span style=\"color: #008000; text-decoration-color: #008000\">15</span> FPS. <span style=\"color: #808000; text-decoration-color: #808000; font-weight: bold\">Rendering</span> with the       <span style=\"color: #7f7f7f; text-decoration-color: #7f7f7f\">             </span>\n",
       "<span style=\"color: #7fbfbf; text-decoration-color: #7fbfbf\">                    </span>         shortest possible total run_time of <span style=\"color: #008000; text-decoration-color: #008000\">0.0666667</span> seconds instead.           <span style=\"color: #7f7f7f; text-decoration-color: #7f7f7f\">             </span>\n",
       "</pre>\n"
      ],
      "text/plain": [
       "\u001b[2;36m                   \u001b[0m\u001b[2;36m \u001b[0m\u001b[31mWARNING \u001b[0m The original total run_time of \u001b[1;35mVibracionNatural.play\u001b[0m\u001b[1m(\u001b[0m\u001b[1m)\u001b[0m, \u001b[32m0.05\u001b[0m seconds, is \u001b]8;id=840284;file://C:\\Users\\Diego\\anaconda3\\envs\\animaciones\\lib\\site-packages\\manim\\scene\\scene.py\u001b\\\u001b[2mscene.py\u001b[0m\u001b]8;;\u001b\\\u001b[2m:\u001b[0m\u001b]8;id=744509;file://C:\\Users\\Diego\\anaconda3\\envs\\animaciones\\lib\\site-packages\\manim\\scene\\scene.py#1044\u001b\\\u001b[2m1044\u001b[0m\u001b]8;;\u001b\\\n",
       "\u001b[2;36m                    \u001b[0m         too short for the current frame rate of \u001b[32m15\u001b[0m FPS. \u001b[1;33mRendering\u001b[0m with the       \u001b[2m             \u001b[0m\n",
       "\u001b[2;36m                    \u001b[0m         shortest possible total run_time of \u001b[32m0.0666667\u001b[0m seconds instead.           \u001b[2m             \u001b[0m\n"
      ]
     },
     "metadata": {},
     "output_type": "display_data"
    },
    {
     "name": "stderr",
     "output_type": "stream",
     "text": [
      "                                                                                                                       "
     ]
    },
    {
     "data": {
      "text/html": [
       "<pre style=\"white-space:pre;overflow-x:auto;line-height:normal;font-family:Menlo,'DejaVu Sans Mono',consolas,'Courier New',monospace\"><span style=\"color: #7fbfbf; text-decoration-color: #7fbfbf\">                    </span><span style=\"color: #800000; text-decoration-color: #800000\">WARNING </span> The original total run_time of <span style=\"color: #800080; text-decoration-color: #800080; font-weight: bold\">VibracionNatural.play</span><span style=\"font-weight: bold\">()</span>, <span style=\"color: #008000; text-decoration-color: #008000\">0.05</span> seconds, is <a href=\"file://C:\\Users\\Diego\\anaconda3\\envs\\animaciones\\lib\\site-packages\\manim\\scene\\scene.py\" target=\"_blank\"><span style=\"color: #7f7f7f; text-decoration-color: #7f7f7f\">scene.py</span></a><span style=\"color: #7f7f7f; text-decoration-color: #7f7f7f\">:</span><a href=\"file://C:\\Users\\Diego\\anaconda3\\envs\\animaciones\\lib\\site-packages\\manim\\scene\\scene.py#1044\" target=\"_blank\"><span style=\"color: #7f7f7f; text-decoration-color: #7f7f7f\">1044</span></a>\n",
       "<span style=\"color: #7fbfbf; text-decoration-color: #7fbfbf\">                    </span>         too short for the current frame rate of <span style=\"color: #008000; text-decoration-color: #008000\">15</span> FPS. <span style=\"color: #808000; text-decoration-color: #808000; font-weight: bold\">Rendering</span> with the       <span style=\"color: #7f7f7f; text-decoration-color: #7f7f7f\">             </span>\n",
       "<span style=\"color: #7fbfbf; text-decoration-color: #7fbfbf\">                    </span>         shortest possible total run_time of <span style=\"color: #008000; text-decoration-color: #008000\">0.0666667</span> seconds instead.           <span style=\"color: #7f7f7f; text-decoration-color: #7f7f7f\">             </span>\n",
       "</pre>\n"
      ],
      "text/plain": [
       "\u001b[2;36m                   \u001b[0m\u001b[2;36m \u001b[0m\u001b[31mWARNING \u001b[0m The original total run_time of \u001b[1;35mVibracionNatural.play\u001b[0m\u001b[1m(\u001b[0m\u001b[1m)\u001b[0m, \u001b[32m0.05\u001b[0m seconds, is \u001b]8;id=712874;file://C:\\Users\\Diego\\anaconda3\\envs\\animaciones\\lib\\site-packages\\manim\\scene\\scene.py\u001b\\\u001b[2mscene.py\u001b[0m\u001b]8;;\u001b\\\u001b[2m:\u001b[0m\u001b]8;id=805187;file://C:\\Users\\Diego\\anaconda3\\envs\\animaciones\\lib\\site-packages\\manim\\scene\\scene.py#1044\u001b\\\u001b[2m1044\u001b[0m\u001b]8;;\u001b\\\n",
       "\u001b[2;36m                    \u001b[0m         too short for the current frame rate of \u001b[32m15\u001b[0m FPS. \u001b[1;33mRendering\u001b[0m with the       \u001b[2m             \u001b[0m\n",
       "\u001b[2;36m                    \u001b[0m         shortest possible total run_time of \u001b[32m0.0666667\u001b[0m seconds instead.           \u001b[2m             \u001b[0m\n"
      ]
     },
     "metadata": {},
     "output_type": "display_data"
    },
    {
     "data": {
      "text/html": [
       "<pre style=\"white-space:pre;overflow-x:auto;line-height:normal;font-family:Menlo,'DejaVu Sans Mono',consolas,'Courier New',monospace\"><span style=\"color: #7fbfbf; text-decoration-color: #7fbfbf\">                    </span><span style=\"color: #800000; text-decoration-color: #800000\">WARNING </span> The original total run_time of <span style=\"color: #800080; text-decoration-color: #800080; font-weight: bold\">VibracionNatural.play</span><span style=\"font-weight: bold\">()</span>, <span style=\"color: #008000; text-decoration-color: #008000\">0.05</span> seconds, is <a href=\"file://C:\\Users\\Diego\\anaconda3\\envs\\animaciones\\lib\\site-packages\\manim\\scene\\scene.py\" target=\"_blank\"><span style=\"color: #7f7f7f; text-decoration-color: #7f7f7f\">scene.py</span></a><span style=\"color: #7f7f7f; text-decoration-color: #7f7f7f\">:</span><a href=\"file://C:\\Users\\Diego\\anaconda3\\envs\\animaciones\\lib\\site-packages\\manim\\scene\\scene.py#1044\" target=\"_blank\"><span style=\"color: #7f7f7f; text-decoration-color: #7f7f7f\">1044</span></a>\n",
       "<span style=\"color: #7fbfbf; text-decoration-color: #7fbfbf\">                    </span>         too short for the current frame rate of <span style=\"color: #008000; text-decoration-color: #008000\">15</span> FPS. <span style=\"color: #808000; text-decoration-color: #808000; font-weight: bold\">Rendering</span> with the       <span style=\"color: #7f7f7f; text-decoration-color: #7f7f7f\">             </span>\n",
       "<span style=\"color: #7fbfbf; text-decoration-color: #7fbfbf\">                    </span>         shortest possible total run_time of <span style=\"color: #008000; text-decoration-color: #008000\">0.0666667</span> seconds instead.           <span style=\"color: #7f7f7f; text-decoration-color: #7f7f7f\">             </span>\n",
       "</pre>\n"
      ],
      "text/plain": [
       "\u001b[2;36m                   \u001b[0m\u001b[2;36m \u001b[0m\u001b[31mWARNING \u001b[0m The original total run_time of \u001b[1;35mVibracionNatural.play\u001b[0m\u001b[1m(\u001b[0m\u001b[1m)\u001b[0m, \u001b[32m0.05\u001b[0m seconds, is \u001b]8;id=236581;file://C:\\Users\\Diego\\anaconda3\\envs\\animaciones\\lib\\site-packages\\manim\\scene\\scene.py\u001b\\\u001b[2mscene.py\u001b[0m\u001b]8;;\u001b\\\u001b[2m:\u001b[0m\u001b]8;id=707840;file://C:\\Users\\Diego\\anaconda3\\envs\\animaciones\\lib\\site-packages\\manim\\scene\\scene.py#1044\u001b\\\u001b[2m1044\u001b[0m\u001b]8;;\u001b\\\n",
       "\u001b[2;36m                    \u001b[0m         too short for the current frame rate of \u001b[32m15\u001b[0m FPS. \u001b[1;33mRendering\u001b[0m with the       \u001b[2m             \u001b[0m\n",
       "\u001b[2;36m                    \u001b[0m         shortest possible total run_time of \u001b[32m0.0666667\u001b[0m seconds instead.           \u001b[2m             \u001b[0m\n"
      ]
     },
     "metadata": {},
     "output_type": "display_data"
    },
    {
     "name": "stderr",
     "output_type": "stream",
     "text": [
      "                                                                                                                       "
     ]
    },
    {
     "data": {
      "text/html": [
       "<pre style=\"white-space:pre;overflow-x:auto;line-height:normal;font-family:Menlo,'DejaVu Sans Mono',consolas,'Courier New',monospace\"><span style=\"color: #7fbfbf; text-decoration-color: #7fbfbf\">                    </span><span style=\"color: #800000; text-decoration-color: #800000\">WARNING </span> The original total run_time of <span style=\"color: #800080; text-decoration-color: #800080; font-weight: bold\">VibracionNatural.play</span><span style=\"font-weight: bold\">()</span>, <span style=\"color: #008000; text-decoration-color: #008000\">0.05</span> seconds, is <a href=\"file://C:\\Users\\Diego\\anaconda3\\envs\\animaciones\\lib\\site-packages\\manim\\scene\\scene.py\" target=\"_blank\"><span style=\"color: #7f7f7f; text-decoration-color: #7f7f7f\">scene.py</span></a><span style=\"color: #7f7f7f; text-decoration-color: #7f7f7f\">:</span><a href=\"file://C:\\Users\\Diego\\anaconda3\\envs\\animaciones\\lib\\site-packages\\manim\\scene\\scene.py#1044\" target=\"_blank\"><span style=\"color: #7f7f7f; text-decoration-color: #7f7f7f\">1044</span></a>\n",
       "<span style=\"color: #7fbfbf; text-decoration-color: #7fbfbf\">                    </span>         too short for the current frame rate of <span style=\"color: #008000; text-decoration-color: #008000\">15</span> FPS. <span style=\"color: #808000; text-decoration-color: #808000; font-weight: bold\">Rendering</span> with the       <span style=\"color: #7f7f7f; text-decoration-color: #7f7f7f\">             </span>\n",
       "<span style=\"color: #7fbfbf; text-decoration-color: #7fbfbf\">                    </span>         shortest possible total run_time of <span style=\"color: #008000; text-decoration-color: #008000\">0.0666667</span> seconds instead.           <span style=\"color: #7f7f7f; text-decoration-color: #7f7f7f\">             </span>\n",
       "</pre>\n"
      ],
      "text/plain": [
       "\u001b[2;36m                   \u001b[0m\u001b[2;36m \u001b[0m\u001b[31mWARNING \u001b[0m The original total run_time of \u001b[1;35mVibracionNatural.play\u001b[0m\u001b[1m(\u001b[0m\u001b[1m)\u001b[0m, \u001b[32m0.05\u001b[0m seconds, is \u001b]8;id=413609;file://C:\\Users\\Diego\\anaconda3\\envs\\animaciones\\lib\\site-packages\\manim\\scene\\scene.py\u001b\\\u001b[2mscene.py\u001b[0m\u001b]8;;\u001b\\\u001b[2m:\u001b[0m\u001b]8;id=713883;file://C:\\Users\\Diego\\anaconda3\\envs\\animaciones\\lib\\site-packages\\manim\\scene\\scene.py#1044\u001b\\\u001b[2m1044\u001b[0m\u001b]8;;\u001b\\\n",
       "\u001b[2;36m                    \u001b[0m         too short for the current frame rate of \u001b[32m15\u001b[0m FPS. \u001b[1;33mRendering\u001b[0m with the       \u001b[2m             \u001b[0m\n",
       "\u001b[2;36m                    \u001b[0m         shortest possible total run_time of \u001b[32m0.0666667\u001b[0m seconds instead.           \u001b[2m             \u001b[0m\n"
      ]
     },
     "metadata": {},
     "output_type": "display_data"
    },
    {
     "data": {
      "text/html": [
       "<pre style=\"white-space:pre;overflow-x:auto;line-height:normal;font-family:Menlo,'DejaVu Sans Mono',consolas,'Courier New',monospace\"><span style=\"color: #7fbfbf; text-decoration-color: #7fbfbf\">[04/26/25 22:20:47] </span><span style=\"color: #800000; text-decoration-color: #800000\">WARNING </span> The original total run_time of <span style=\"color: #800080; text-decoration-color: #800080; font-weight: bold\">VibracionNatural.play</span><span style=\"font-weight: bold\">()</span>, <span style=\"color: #008000; text-decoration-color: #008000\">0.05</span> seconds, is <a href=\"file://C:\\Users\\Diego\\anaconda3\\envs\\animaciones\\lib\\site-packages\\manim\\scene\\scene.py\" target=\"_blank\"><span style=\"color: #7f7f7f; text-decoration-color: #7f7f7f\">scene.py</span></a><span style=\"color: #7f7f7f; text-decoration-color: #7f7f7f\">:</span><a href=\"file://C:\\Users\\Diego\\anaconda3\\envs\\animaciones\\lib\\site-packages\\manim\\scene\\scene.py#1044\" target=\"_blank\"><span style=\"color: #7f7f7f; text-decoration-color: #7f7f7f\">1044</span></a>\n",
       "<span style=\"color: #7fbfbf; text-decoration-color: #7fbfbf\">                    </span>         too short for the current frame rate of <span style=\"color: #008000; text-decoration-color: #008000\">15</span> FPS. <span style=\"color: #808000; text-decoration-color: #808000; font-weight: bold\">Rendering</span> with the       <span style=\"color: #7f7f7f; text-decoration-color: #7f7f7f\">             </span>\n",
       "<span style=\"color: #7fbfbf; text-decoration-color: #7fbfbf\">                    </span>         shortest possible total run_time of <span style=\"color: #008000; text-decoration-color: #008000\">0.0666667</span> seconds instead.           <span style=\"color: #7f7f7f; text-decoration-color: #7f7f7f\">             </span>\n",
       "</pre>\n"
      ],
      "text/plain": [
       "\u001b[2;36m[04/26/25 22:20:47]\u001b[0m\u001b[2;36m \u001b[0m\u001b[31mWARNING \u001b[0m The original total run_time of \u001b[1;35mVibracionNatural.play\u001b[0m\u001b[1m(\u001b[0m\u001b[1m)\u001b[0m, \u001b[32m0.05\u001b[0m seconds, is \u001b]8;id=26791;file://C:\\Users\\Diego\\anaconda3\\envs\\animaciones\\lib\\site-packages\\manim\\scene\\scene.py\u001b\\\u001b[2mscene.py\u001b[0m\u001b]8;;\u001b\\\u001b[2m:\u001b[0m\u001b]8;id=214171;file://C:\\Users\\Diego\\anaconda3\\envs\\animaciones\\lib\\site-packages\\manim\\scene\\scene.py#1044\u001b\\\u001b[2m1044\u001b[0m\u001b]8;;\u001b\\\n",
       "\u001b[2;36m                    \u001b[0m         too short for the current frame rate of \u001b[32m15\u001b[0m FPS. \u001b[1;33mRendering\u001b[0m with the       \u001b[2m             \u001b[0m\n",
       "\u001b[2;36m                    \u001b[0m         shortest possible total run_time of \u001b[32m0.0666667\u001b[0m seconds instead.           \u001b[2m             \u001b[0m\n"
      ]
     },
     "metadata": {},
     "output_type": "display_data"
    },
    {
     "name": "stderr",
     "output_type": "stream",
     "text": [
      "                                                                                                                       "
     ]
    },
    {
     "data": {
      "text/html": [
       "<pre style=\"white-space:pre;overflow-x:auto;line-height:normal;font-family:Menlo,'DejaVu Sans Mono',consolas,'Courier New',monospace\"><span style=\"color: #7fbfbf; text-decoration-color: #7fbfbf\">                    </span><span style=\"color: #800000; text-decoration-color: #800000\">WARNING </span> The original total run_time of <span style=\"color: #800080; text-decoration-color: #800080; font-weight: bold\">VibracionNatural.play</span><span style=\"font-weight: bold\">()</span>, <span style=\"color: #008000; text-decoration-color: #008000\">0.05</span> seconds, is <a href=\"file://C:\\Users\\Diego\\anaconda3\\envs\\animaciones\\lib\\site-packages\\manim\\scene\\scene.py\" target=\"_blank\"><span style=\"color: #7f7f7f; text-decoration-color: #7f7f7f\">scene.py</span></a><span style=\"color: #7f7f7f; text-decoration-color: #7f7f7f\">:</span><a href=\"file://C:\\Users\\Diego\\anaconda3\\envs\\animaciones\\lib\\site-packages\\manim\\scene\\scene.py#1044\" target=\"_blank\"><span style=\"color: #7f7f7f; text-decoration-color: #7f7f7f\">1044</span></a>\n",
       "<span style=\"color: #7fbfbf; text-decoration-color: #7fbfbf\">                    </span>         too short for the current frame rate of <span style=\"color: #008000; text-decoration-color: #008000\">15</span> FPS. <span style=\"color: #808000; text-decoration-color: #808000; font-weight: bold\">Rendering</span> with the       <span style=\"color: #7f7f7f; text-decoration-color: #7f7f7f\">             </span>\n",
       "<span style=\"color: #7fbfbf; text-decoration-color: #7fbfbf\">                    </span>         shortest possible total run_time of <span style=\"color: #008000; text-decoration-color: #008000\">0.0666667</span> seconds instead.           <span style=\"color: #7f7f7f; text-decoration-color: #7f7f7f\">             </span>\n",
       "</pre>\n"
      ],
      "text/plain": [
       "\u001b[2;36m                   \u001b[0m\u001b[2;36m \u001b[0m\u001b[31mWARNING \u001b[0m The original total run_time of \u001b[1;35mVibracionNatural.play\u001b[0m\u001b[1m(\u001b[0m\u001b[1m)\u001b[0m, \u001b[32m0.05\u001b[0m seconds, is \u001b]8;id=890598;file://C:\\Users\\Diego\\anaconda3\\envs\\animaciones\\lib\\site-packages\\manim\\scene\\scene.py\u001b\\\u001b[2mscene.py\u001b[0m\u001b]8;;\u001b\\\u001b[2m:\u001b[0m\u001b]8;id=248255;file://C:\\Users\\Diego\\anaconda3\\envs\\animaciones\\lib\\site-packages\\manim\\scene\\scene.py#1044\u001b\\\u001b[2m1044\u001b[0m\u001b]8;;\u001b\\\n",
       "\u001b[2;36m                    \u001b[0m         too short for the current frame rate of \u001b[32m15\u001b[0m FPS. \u001b[1;33mRendering\u001b[0m with the       \u001b[2m             \u001b[0m\n",
       "\u001b[2;36m                    \u001b[0m         shortest possible total run_time of \u001b[32m0.0666667\u001b[0m seconds instead.           \u001b[2m             \u001b[0m\n"
      ]
     },
     "metadata": {},
     "output_type": "display_data"
    },
    {
     "data": {
      "text/html": [
       "<pre style=\"white-space:pre;overflow-x:auto;line-height:normal;font-family:Menlo,'DejaVu Sans Mono',consolas,'Courier New',monospace\"><span style=\"color: #7fbfbf; text-decoration-color: #7fbfbf\">                    </span><span style=\"color: #800000; text-decoration-color: #800000\">WARNING </span> The original total run_time of <span style=\"color: #800080; text-decoration-color: #800080; font-weight: bold\">VibracionNatural.play</span><span style=\"font-weight: bold\">()</span>, <span style=\"color: #008000; text-decoration-color: #008000\">0.05</span> seconds, is <a href=\"file://C:\\Users\\Diego\\anaconda3\\envs\\animaciones\\lib\\site-packages\\manim\\scene\\scene.py\" target=\"_blank\"><span style=\"color: #7f7f7f; text-decoration-color: #7f7f7f\">scene.py</span></a><span style=\"color: #7f7f7f; text-decoration-color: #7f7f7f\">:</span><a href=\"file://C:\\Users\\Diego\\anaconda3\\envs\\animaciones\\lib\\site-packages\\manim\\scene\\scene.py#1044\" target=\"_blank\"><span style=\"color: #7f7f7f; text-decoration-color: #7f7f7f\">1044</span></a>\n",
       "<span style=\"color: #7fbfbf; text-decoration-color: #7fbfbf\">                    </span>         too short for the current frame rate of <span style=\"color: #008000; text-decoration-color: #008000\">15</span> FPS. <span style=\"color: #808000; text-decoration-color: #808000; font-weight: bold\">Rendering</span> with the       <span style=\"color: #7f7f7f; text-decoration-color: #7f7f7f\">             </span>\n",
       "<span style=\"color: #7fbfbf; text-decoration-color: #7fbfbf\">                    </span>         shortest possible total run_time of <span style=\"color: #008000; text-decoration-color: #008000\">0.0666667</span> seconds instead.           <span style=\"color: #7f7f7f; text-decoration-color: #7f7f7f\">             </span>\n",
       "</pre>\n"
      ],
      "text/plain": [
       "\u001b[2;36m                   \u001b[0m\u001b[2;36m \u001b[0m\u001b[31mWARNING \u001b[0m The original total run_time of \u001b[1;35mVibracionNatural.play\u001b[0m\u001b[1m(\u001b[0m\u001b[1m)\u001b[0m, \u001b[32m0.05\u001b[0m seconds, is \u001b]8;id=919806;file://C:\\Users\\Diego\\anaconda3\\envs\\animaciones\\lib\\site-packages\\manim\\scene\\scene.py\u001b\\\u001b[2mscene.py\u001b[0m\u001b]8;;\u001b\\\u001b[2m:\u001b[0m\u001b]8;id=246827;file://C:\\Users\\Diego\\anaconda3\\envs\\animaciones\\lib\\site-packages\\manim\\scene\\scene.py#1044\u001b\\\u001b[2m1044\u001b[0m\u001b]8;;\u001b\\\n",
       "\u001b[2;36m                    \u001b[0m         too short for the current frame rate of \u001b[32m15\u001b[0m FPS. \u001b[1;33mRendering\u001b[0m with the       \u001b[2m             \u001b[0m\n",
       "\u001b[2;36m                    \u001b[0m         shortest possible total run_time of \u001b[32m0.0666667\u001b[0m seconds instead.           \u001b[2m             \u001b[0m\n"
      ]
     },
     "metadata": {},
     "output_type": "display_data"
    },
    {
     "name": "stderr",
     "output_type": "stream",
     "text": [
      "                                                                                                                       "
     ]
    },
    {
     "data": {
      "text/html": [
       "<pre style=\"white-space:pre;overflow-x:auto;line-height:normal;font-family:Menlo,'DejaVu Sans Mono',consolas,'Courier New',monospace\"><span style=\"color: #7fbfbf; text-decoration-color: #7fbfbf\">                    </span><span style=\"color: #800000; text-decoration-color: #800000\">WARNING </span> The original total run_time of <span style=\"color: #800080; text-decoration-color: #800080; font-weight: bold\">VibracionNatural.play</span><span style=\"font-weight: bold\">()</span>, <span style=\"color: #008000; text-decoration-color: #008000\">0.05</span> seconds, is <a href=\"file://C:\\Users\\Diego\\anaconda3\\envs\\animaciones\\lib\\site-packages\\manim\\scene\\scene.py\" target=\"_blank\"><span style=\"color: #7f7f7f; text-decoration-color: #7f7f7f\">scene.py</span></a><span style=\"color: #7f7f7f; text-decoration-color: #7f7f7f\">:</span><a href=\"file://C:\\Users\\Diego\\anaconda3\\envs\\animaciones\\lib\\site-packages\\manim\\scene\\scene.py#1044\" target=\"_blank\"><span style=\"color: #7f7f7f; text-decoration-color: #7f7f7f\">1044</span></a>\n",
       "<span style=\"color: #7fbfbf; text-decoration-color: #7fbfbf\">                    </span>         too short for the current frame rate of <span style=\"color: #008000; text-decoration-color: #008000\">15</span> FPS. <span style=\"color: #808000; text-decoration-color: #808000; font-weight: bold\">Rendering</span> with the       <span style=\"color: #7f7f7f; text-decoration-color: #7f7f7f\">             </span>\n",
       "<span style=\"color: #7fbfbf; text-decoration-color: #7fbfbf\">                    </span>         shortest possible total run_time of <span style=\"color: #008000; text-decoration-color: #008000\">0.0666667</span> seconds instead.           <span style=\"color: #7f7f7f; text-decoration-color: #7f7f7f\">             </span>\n",
       "</pre>\n"
      ],
      "text/plain": [
       "\u001b[2;36m                   \u001b[0m\u001b[2;36m \u001b[0m\u001b[31mWARNING \u001b[0m The original total run_time of \u001b[1;35mVibracionNatural.play\u001b[0m\u001b[1m(\u001b[0m\u001b[1m)\u001b[0m, \u001b[32m0.05\u001b[0m seconds, is \u001b]8;id=152743;file://C:\\Users\\Diego\\anaconda3\\envs\\animaciones\\lib\\site-packages\\manim\\scene\\scene.py\u001b\\\u001b[2mscene.py\u001b[0m\u001b]8;;\u001b\\\u001b[2m:\u001b[0m\u001b]8;id=740449;file://C:\\Users\\Diego\\anaconda3\\envs\\animaciones\\lib\\site-packages\\manim\\scene\\scene.py#1044\u001b\\\u001b[2m1044\u001b[0m\u001b]8;;\u001b\\\n",
       "\u001b[2;36m                    \u001b[0m         too short for the current frame rate of \u001b[32m15\u001b[0m FPS. \u001b[1;33mRendering\u001b[0m with the       \u001b[2m             \u001b[0m\n",
       "\u001b[2;36m                    \u001b[0m         shortest possible total run_time of \u001b[32m0.0666667\u001b[0m seconds instead.           \u001b[2m             \u001b[0m\n"
      ]
     },
     "metadata": {},
     "output_type": "display_data"
    },
    {
     "data": {
      "text/html": [
       "<pre style=\"white-space:pre;overflow-x:auto;line-height:normal;font-family:Menlo,'DejaVu Sans Mono',consolas,'Courier New',monospace\"><span style=\"color: #7fbfbf; text-decoration-color: #7fbfbf\">                    </span><span style=\"color: #800000; text-decoration-color: #800000\">WARNING </span> The original total run_time of <span style=\"color: #800080; text-decoration-color: #800080; font-weight: bold\">VibracionNatural.play</span><span style=\"font-weight: bold\">()</span>, <span style=\"color: #008000; text-decoration-color: #008000\">0.05</span> seconds, is <a href=\"file://C:\\Users\\Diego\\anaconda3\\envs\\animaciones\\lib\\site-packages\\manim\\scene\\scene.py\" target=\"_blank\"><span style=\"color: #7f7f7f; text-decoration-color: #7f7f7f\">scene.py</span></a><span style=\"color: #7f7f7f; text-decoration-color: #7f7f7f\">:</span><a href=\"file://C:\\Users\\Diego\\anaconda3\\envs\\animaciones\\lib\\site-packages\\manim\\scene\\scene.py#1044\" target=\"_blank\"><span style=\"color: #7f7f7f; text-decoration-color: #7f7f7f\">1044</span></a>\n",
       "<span style=\"color: #7fbfbf; text-decoration-color: #7fbfbf\">                    </span>         too short for the current frame rate of <span style=\"color: #008000; text-decoration-color: #008000\">15</span> FPS. <span style=\"color: #808000; text-decoration-color: #808000; font-weight: bold\">Rendering</span> with the       <span style=\"color: #7f7f7f; text-decoration-color: #7f7f7f\">             </span>\n",
       "<span style=\"color: #7fbfbf; text-decoration-color: #7fbfbf\">                    </span>         shortest possible total run_time of <span style=\"color: #008000; text-decoration-color: #008000\">0.0666667</span> seconds instead.           <span style=\"color: #7f7f7f; text-decoration-color: #7f7f7f\">             </span>\n",
       "</pre>\n"
      ],
      "text/plain": [
       "\u001b[2;36m                   \u001b[0m\u001b[2;36m \u001b[0m\u001b[31mWARNING \u001b[0m The original total run_time of \u001b[1;35mVibracionNatural.play\u001b[0m\u001b[1m(\u001b[0m\u001b[1m)\u001b[0m, \u001b[32m0.05\u001b[0m seconds, is \u001b]8;id=914660;file://C:\\Users\\Diego\\anaconda3\\envs\\animaciones\\lib\\site-packages\\manim\\scene\\scene.py\u001b\\\u001b[2mscene.py\u001b[0m\u001b]8;;\u001b\\\u001b[2m:\u001b[0m\u001b]8;id=789041;file://C:\\Users\\Diego\\anaconda3\\envs\\animaciones\\lib\\site-packages\\manim\\scene\\scene.py#1044\u001b\\\u001b[2m1044\u001b[0m\u001b]8;;\u001b\\\n",
       "\u001b[2;36m                    \u001b[0m         too short for the current frame rate of \u001b[32m15\u001b[0m FPS. \u001b[1;33mRendering\u001b[0m with the       \u001b[2m             \u001b[0m\n",
       "\u001b[2;36m                    \u001b[0m         shortest possible total run_time of \u001b[32m0.0666667\u001b[0m seconds instead.           \u001b[2m             \u001b[0m\n"
      ]
     },
     "metadata": {},
     "output_type": "display_data"
    },
    {
     "name": "stderr",
     "output_type": "stream",
     "text": [
      "                                                                                                                       "
     ]
    },
    {
     "data": {
      "text/html": [
       "<pre style=\"white-space:pre;overflow-x:auto;line-height:normal;font-family:Menlo,'DejaVu Sans Mono',consolas,'Courier New',monospace\"><span style=\"color: #7fbfbf; text-decoration-color: #7fbfbf\">[04/26/25 22:20:48] </span><span style=\"color: #800000; text-decoration-color: #800000\">WARNING </span> The original total run_time of <span style=\"color: #800080; text-decoration-color: #800080; font-weight: bold\">VibracionNatural.play</span><span style=\"font-weight: bold\">()</span>, <span style=\"color: #008000; text-decoration-color: #008000\">0.05</span> seconds, is <a href=\"file://C:\\Users\\Diego\\anaconda3\\envs\\animaciones\\lib\\site-packages\\manim\\scene\\scene.py\" target=\"_blank\"><span style=\"color: #7f7f7f; text-decoration-color: #7f7f7f\">scene.py</span></a><span style=\"color: #7f7f7f; text-decoration-color: #7f7f7f\">:</span><a href=\"file://C:\\Users\\Diego\\anaconda3\\envs\\animaciones\\lib\\site-packages\\manim\\scene\\scene.py#1044\" target=\"_blank\"><span style=\"color: #7f7f7f; text-decoration-color: #7f7f7f\">1044</span></a>\n",
       "<span style=\"color: #7fbfbf; text-decoration-color: #7fbfbf\">                    </span>         too short for the current frame rate of <span style=\"color: #008000; text-decoration-color: #008000\">15</span> FPS. <span style=\"color: #808000; text-decoration-color: #808000; font-weight: bold\">Rendering</span> with the       <span style=\"color: #7f7f7f; text-decoration-color: #7f7f7f\">             </span>\n",
       "<span style=\"color: #7fbfbf; text-decoration-color: #7fbfbf\">                    </span>         shortest possible total run_time of <span style=\"color: #008000; text-decoration-color: #008000\">0.0666667</span> seconds instead.           <span style=\"color: #7f7f7f; text-decoration-color: #7f7f7f\">             </span>\n",
       "</pre>\n"
      ],
      "text/plain": [
       "\u001b[2;36m[04/26/25 22:20:48]\u001b[0m\u001b[2;36m \u001b[0m\u001b[31mWARNING \u001b[0m The original total run_time of \u001b[1;35mVibracionNatural.play\u001b[0m\u001b[1m(\u001b[0m\u001b[1m)\u001b[0m, \u001b[32m0.05\u001b[0m seconds, is \u001b]8;id=230448;file://C:\\Users\\Diego\\anaconda3\\envs\\animaciones\\lib\\site-packages\\manim\\scene\\scene.py\u001b\\\u001b[2mscene.py\u001b[0m\u001b]8;;\u001b\\\u001b[2m:\u001b[0m\u001b]8;id=581810;file://C:\\Users\\Diego\\anaconda3\\envs\\animaciones\\lib\\site-packages\\manim\\scene\\scene.py#1044\u001b\\\u001b[2m1044\u001b[0m\u001b]8;;\u001b\\\n",
       "\u001b[2;36m                    \u001b[0m         too short for the current frame rate of \u001b[32m15\u001b[0m FPS. \u001b[1;33mRendering\u001b[0m with the       \u001b[2m             \u001b[0m\n",
       "\u001b[2;36m                    \u001b[0m         shortest possible total run_time of \u001b[32m0.0666667\u001b[0m seconds instead.           \u001b[2m             \u001b[0m\n"
      ]
     },
     "metadata": {},
     "output_type": "display_data"
    },
    {
     "data": {
      "text/html": [
       "<pre style=\"white-space:pre;overflow-x:auto;line-height:normal;font-family:Menlo,'DejaVu Sans Mono',consolas,'Courier New',monospace\"><span style=\"color: #7fbfbf; text-decoration-color: #7fbfbf\">                    </span><span style=\"color: #800000; text-decoration-color: #800000\">WARNING </span> The original total run_time of <span style=\"color: #800080; text-decoration-color: #800080; font-weight: bold\">VibracionNatural.play</span><span style=\"font-weight: bold\">()</span>, <span style=\"color: #008000; text-decoration-color: #008000\">0.05</span> seconds, is <a href=\"file://C:\\Users\\Diego\\anaconda3\\envs\\animaciones\\lib\\site-packages\\manim\\scene\\scene.py\" target=\"_blank\"><span style=\"color: #7f7f7f; text-decoration-color: #7f7f7f\">scene.py</span></a><span style=\"color: #7f7f7f; text-decoration-color: #7f7f7f\">:</span><a href=\"file://C:\\Users\\Diego\\anaconda3\\envs\\animaciones\\lib\\site-packages\\manim\\scene\\scene.py#1044\" target=\"_blank\"><span style=\"color: #7f7f7f; text-decoration-color: #7f7f7f\">1044</span></a>\n",
       "<span style=\"color: #7fbfbf; text-decoration-color: #7fbfbf\">                    </span>         too short for the current frame rate of <span style=\"color: #008000; text-decoration-color: #008000\">15</span> FPS. <span style=\"color: #808000; text-decoration-color: #808000; font-weight: bold\">Rendering</span> with the       <span style=\"color: #7f7f7f; text-decoration-color: #7f7f7f\">             </span>\n",
       "<span style=\"color: #7fbfbf; text-decoration-color: #7fbfbf\">                    </span>         shortest possible total run_time of <span style=\"color: #008000; text-decoration-color: #008000\">0.0666667</span> seconds instead.           <span style=\"color: #7f7f7f; text-decoration-color: #7f7f7f\">             </span>\n",
       "</pre>\n"
      ],
      "text/plain": [
       "\u001b[2;36m                   \u001b[0m\u001b[2;36m \u001b[0m\u001b[31mWARNING \u001b[0m The original total run_time of \u001b[1;35mVibracionNatural.play\u001b[0m\u001b[1m(\u001b[0m\u001b[1m)\u001b[0m, \u001b[32m0.05\u001b[0m seconds, is \u001b]8;id=261277;file://C:\\Users\\Diego\\anaconda3\\envs\\animaciones\\lib\\site-packages\\manim\\scene\\scene.py\u001b\\\u001b[2mscene.py\u001b[0m\u001b]8;;\u001b\\\u001b[2m:\u001b[0m\u001b]8;id=470016;file://C:\\Users\\Diego\\anaconda3\\envs\\animaciones\\lib\\site-packages\\manim\\scene\\scene.py#1044\u001b\\\u001b[2m1044\u001b[0m\u001b]8;;\u001b\\\n",
       "\u001b[2;36m                    \u001b[0m         too short for the current frame rate of \u001b[32m15\u001b[0m FPS. \u001b[1;33mRendering\u001b[0m with the       \u001b[2m             \u001b[0m\n",
       "\u001b[2;36m                    \u001b[0m         shortest possible total run_time of \u001b[32m0.0666667\u001b[0m seconds instead.           \u001b[2m             \u001b[0m\n"
      ]
     },
     "metadata": {},
     "output_type": "display_data"
    },
    {
     "name": "stderr",
     "output_type": "stream",
     "text": [
      "                                                                                                                       "
     ]
    },
    {
     "data": {
      "text/html": [
       "<pre style=\"white-space:pre;overflow-x:auto;line-height:normal;font-family:Menlo,'DejaVu Sans Mono',consolas,'Courier New',monospace\"><span style=\"color: #7fbfbf; text-decoration-color: #7fbfbf\">                    </span><span style=\"color: #800000; text-decoration-color: #800000\">WARNING </span> The original total run_time of <span style=\"color: #800080; text-decoration-color: #800080; font-weight: bold\">VibracionNatural.play</span><span style=\"font-weight: bold\">()</span>, <span style=\"color: #008000; text-decoration-color: #008000\">0.05</span> seconds, is <a href=\"file://C:\\Users\\Diego\\anaconda3\\envs\\animaciones\\lib\\site-packages\\manim\\scene\\scene.py\" target=\"_blank\"><span style=\"color: #7f7f7f; text-decoration-color: #7f7f7f\">scene.py</span></a><span style=\"color: #7f7f7f; text-decoration-color: #7f7f7f\">:</span><a href=\"file://C:\\Users\\Diego\\anaconda3\\envs\\animaciones\\lib\\site-packages\\manim\\scene\\scene.py#1044\" target=\"_blank\"><span style=\"color: #7f7f7f; text-decoration-color: #7f7f7f\">1044</span></a>\n",
       "<span style=\"color: #7fbfbf; text-decoration-color: #7fbfbf\">                    </span>         too short for the current frame rate of <span style=\"color: #008000; text-decoration-color: #008000\">15</span> FPS. <span style=\"color: #808000; text-decoration-color: #808000; font-weight: bold\">Rendering</span> with the       <span style=\"color: #7f7f7f; text-decoration-color: #7f7f7f\">             </span>\n",
       "<span style=\"color: #7fbfbf; text-decoration-color: #7fbfbf\">                    </span>         shortest possible total run_time of <span style=\"color: #008000; text-decoration-color: #008000\">0.0666667</span> seconds instead.           <span style=\"color: #7f7f7f; text-decoration-color: #7f7f7f\">             </span>\n",
       "</pre>\n"
      ],
      "text/plain": [
       "\u001b[2;36m                   \u001b[0m\u001b[2;36m \u001b[0m\u001b[31mWARNING \u001b[0m The original total run_time of \u001b[1;35mVibracionNatural.play\u001b[0m\u001b[1m(\u001b[0m\u001b[1m)\u001b[0m, \u001b[32m0.05\u001b[0m seconds, is \u001b]8;id=74228;file://C:\\Users\\Diego\\anaconda3\\envs\\animaciones\\lib\\site-packages\\manim\\scene\\scene.py\u001b\\\u001b[2mscene.py\u001b[0m\u001b]8;;\u001b\\\u001b[2m:\u001b[0m\u001b]8;id=99966;file://C:\\Users\\Diego\\anaconda3\\envs\\animaciones\\lib\\site-packages\\manim\\scene\\scene.py#1044\u001b\\\u001b[2m1044\u001b[0m\u001b]8;;\u001b\\\n",
       "\u001b[2;36m                    \u001b[0m         too short for the current frame rate of \u001b[32m15\u001b[0m FPS. \u001b[1;33mRendering\u001b[0m with the       \u001b[2m             \u001b[0m\n",
       "\u001b[2;36m                    \u001b[0m         shortest possible total run_time of \u001b[32m0.0666667\u001b[0m seconds instead.           \u001b[2m             \u001b[0m\n"
      ]
     },
     "metadata": {},
     "output_type": "display_data"
    },
    {
     "data": {
      "text/html": [
       "<pre style=\"white-space:pre;overflow-x:auto;line-height:normal;font-family:Menlo,'DejaVu Sans Mono',consolas,'Courier New',monospace\"><span style=\"color: #7fbfbf; text-decoration-color: #7fbfbf\">                    </span><span style=\"color: #800000; text-decoration-color: #800000\">WARNING </span> The original total run_time of <span style=\"color: #800080; text-decoration-color: #800080; font-weight: bold\">VibracionNatural.play</span><span style=\"font-weight: bold\">()</span>, <span style=\"color: #008000; text-decoration-color: #008000\">0.05</span> seconds, is <a href=\"file://C:\\Users\\Diego\\anaconda3\\envs\\animaciones\\lib\\site-packages\\manim\\scene\\scene.py\" target=\"_blank\"><span style=\"color: #7f7f7f; text-decoration-color: #7f7f7f\">scene.py</span></a><span style=\"color: #7f7f7f; text-decoration-color: #7f7f7f\">:</span><a href=\"file://C:\\Users\\Diego\\anaconda3\\envs\\animaciones\\lib\\site-packages\\manim\\scene\\scene.py#1044\" target=\"_blank\"><span style=\"color: #7f7f7f; text-decoration-color: #7f7f7f\">1044</span></a>\n",
       "<span style=\"color: #7fbfbf; text-decoration-color: #7fbfbf\">                    </span>         too short for the current frame rate of <span style=\"color: #008000; text-decoration-color: #008000\">15</span> FPS. <span style=\"color: #808000; text-decoration-color: #808000; font-weight: bold\">Rendering</span> with the       <span style=\"color: #7f7f7f; text-decoration-color: #7f7f7f\">             </span>\n",
       "<span style=\"color: #7fbfbf; text-decoration-color: #7fbfbf\">                    </span>         shortest possible total run_time of <span style=\"color: #008000; text-decoration-color: #008000\">0.0666667</span> seconds instead.           <span style=\"color: #7f7f7f; text-decoration-color: #7f7f7f\">             </span>\n",
       "</pre>\n"
      ],
      "text/plain": [
       "\u001b[2;36m                   \u001b[0m\u001b[2;36m \u001b[0m\u001b[31mWARNING \u001b[0m The original total run_time of \u001b[1;35mVibracionNatural.play\u001b[0m\u001b[1m(\u001b[0m\u001b[1m)\u001b[0m, \u001b[32m0.05\u001b[0m seconds, is \u001b]8;id=614797;file://C:\\Users\\Diego\\anaconda3\\envs\\animaciones\\lib\\site-packages\\manim\\scene\\scene.py\u001b\\\u001b[2mscene.py\u001b[0m\u001b]8;;\u001b\\\u001b[2m:\u001b[0m\u001b]8;id=661971;file://C:\\Users\\Diego\\anaconda3\\envs\\animaciones\\lib\\site-packages\\manim\\scene\\scene.py#1044\u001b\\\u001b[2m1044\u001b[0m\u001b]8;;\u001b\\\n",
       "\u001b[2;36m                    \u001b[0m         too short for the current frame rate of \u001b[32m15\u001b[0m FPS. \u001b[1;33mRendering\u001b[0m with the       \u001b[2m             \u001b[0m\n",
       "\u001b[2;36m                    \u001b[0m         shortest possible total run_time of \u001b[32m0.0666667\u001b[0m seconds instead.           \u001b[2m             \u001b[0m\n"
      ]
     },
     "metadata": {},
     "output_type": "display_data"
    },
    {
     "name": "stderr",
     "output_type": "stream",
     "text": [
      "                                                                                                                       "
     ]
    },
    {
     "data": {
      "text/html": [
       "<pre style=\"white-space:pre;overflow-x:auto;line-height:normal;font-family:Menlo,'DejaVu Sans Mono',consolas,'Courier New',monospace\"><span style=\"color: #7fbfbf; text-decoration-color: #7fbfbf\">                    </span><span style=\"color: #800000; text-decoration-color: #800000\">WARNING </span> The original total run_time of <span style=\"color: #800080; text-decoration-color: #800080; font-weight: bold\">VibracionNatural.play</span><span style=\"font-weight: bold\">()</span>, <span style=\"color: #008000; text-decoration-color: #008000\">0.05</span> seconds, is <a href=\"file://C:\\Users\\Diego\\anaconda3\\envs\\animaciones\\lib\\site-packages\\manim\\scene\\scene.py\" target=\"_blank\"><span style=\"color: #7f7f7f; text-decoration-color: #7f7f7f\">scene.py</span></a><span style=\"color: #7f7f7f; text-decoration-color: #7f7f7f\">:</span><a href=\"file://C:\\Users\\Diego\\anaconda3\\envs\\animaciones\\lib\\site-packages\\manim\\scene\\scene.py#1044\" target=\"_blank\"><span style=\"color: #7f7f7f; text-decoration-color: #7f7f7f\">1044</span></a>\n",
       "<span style=\"color: #7fbfbf; text-decoration-color: #7fbfbf\">                    </span>         too short for the current frame rate of <span style=\"color: #008000; text-decoration-color: #008000\">15</span> FPS. <span style=\"color: #808000; text-decoration-color: #808000; font-weight: bold\">Rendering</span> with the       <span style=\"color: #7f7f7f; text-decoration-color: #7f7f7f\">             </span>\n",
       "<span style=\"color: #7fbfbf; text-decoration-color: #7fbfbf\">                    </span>         shortest possible total run_time of <span style=\"color: #008000; text-decoration-color: #008000\">0.0666667</span> seconds instead.           <span style=\"color: #7f7f7f; text-decoration-color: #7f7f7f\">             </span>\n",
       "</pre>\n"
      ],
      "text/plain": [
       "\u001b[2;36m                   \u001b[0m\u001b[2;36m \u001b[0m\u001b[31mWARNING \u001b[0m The original total run_time of \u001b[1;35mVibracionNatural.play\u001b[0m\u001b[1m(\u001b[0m\u001b[1m)\u001b[0m, \u001b[32m0.05\u001b[0m seconds, is \u001b]8;id=614746;file://C:\\Users\\Diego\\anaconda3\\envs\\animaciones\\lib\\site-packages\\manim\\scene\\scene.py\u001b\\\u001b[2mscene.py\u001b[0m\u001b]8;;\u001b\\\u001b[2m:\u001b[0m\u001b]8;id=604224;file://C:\\Users\\Diego\\anaconda3\\envs\\animaciones\\lib\\site-packages\\manim\\scene\\scene.py#1044\u001b\\\u001b[2m1044\u001b[0m\u001b]8;;\u001b\\\n",
       "\u001b[2;36m                    \u001b[0m         too short for the current frame rate of \u001b[32m15\u001b[0m FPS. \u001b[1;33mRendering\u001b[0m with the       \u001b[2m             \u001b[0m\n",
       "\u001b[2;36m                    \u001b[0m         shortest possible total run_time of \u001b[32m0.0666667\u001b[0m seconds instead.           \u001b[2m             \u001b[0m\n"
      ]
     },
     "metadata": {},
     "output_type": "display_data"
    },
    {
     "data": {
      "text/html": [
       "<pre style=\"white-space:pre;overflow-x:auto;line-height:normal;font-family:Menlo,'DejaVu Sans Mono',consolas,'Courier New',monospace\"><span style=\"color: #7fbfbf; text-decoration-color: #7fbfbf\">                    </span><span style=\"color: #800000; text-decoration-color: #800000\">WARNING </span> The original total run_time of <span style=\"color: #800080; text-decoration-color: #800080; font-weight: bold\">VibracionNatural.play</span><span style=\"font-weight: bold\">()</span>, <span style=\"color: #008000; text-decoration-color: #008000\">0.05</span> seconds, is <a href=\"file://C:\\Users\\Diego\\anaconda3\\envs\\animaciones\\lib\\site-packages\\manim\\scene\\scene.py\" target=\"_blank\"><span style=\"color: #7f7f7f; text-decoration-color: #7f7f7f\">scene.py</span></a><span style=\"color: #7f7f7f; text-decoration-color: #7f7f7f\">:</span><a href=\"file://C:\\Users\\Diego\\anaconda3\\envs\\animaciones\\lib\\site-packages\\manim\\scene\\scene.py#1044\" target=\"_blank\"><span style=\"color: #7f7f7f; text-decoration-color: #7f7f7f\">1044</span></a>\n",
       "<span style=\"color: #7fbfbf; text-decoration-color: #7fbfbf\">                    </span>         too short for the current frame rate of <span style=\"color: #008000; text-decoration-color: #008000\">15</span> FPS. <span style=\"color: #808000; text-decoration-color: #808000; font-weight: bold\">Rendering</span> with the       <span style=\"color: #7f7f7f; text-decoration-color: #7f7f7f\">             </span>\n",
       "<span style=\"color: #7fbfbf; text-decoration-color: #7fbfbf\">                    </span>         shortest possible total run_time of <span style=\"color: #008000; text-decoration-color: #008000\">0.0666667</span> seconds instead.           <span style=\"color: #7f7f7f; text-decoration-color: #7f7f7f\">             </span>\n",
       "</pre>\n"
      ],
      "text/plain": [
       "\u001b[2;36m                   \u001b[0m\u001b[2;36m \u001b[0m\u001b[31mWARNING \u001b[0m The original total run_time of \u001b[1;35mVibracionNatural.play\u001b[0m\u001b[1m(\u001b[0m\u001b[1m)\u001b[0m, \u001b[32m0.05\u001b[0m seconds, is \u001b]8;id=336715;file://C:\\Users\\Diego\\anaconda3\\envs\\animaciones\\lib\\site-packages\\manim\\scene\\scene.py\u001b\\\u001b[2mscene.py\u001b[0m\u001b]8;;\u001b\\\u001b[2m:\u001b[0m\u001b]8;id=603557;file://C:\\Users\\Diego\\anaconda3\\envs\\animaciones\\lib\\site-packages\\manim\\scene\\scene.py#1044\u001b\\\u001b[2m1044\u001b[0m\u001b]8;;\u001b\\\n",
       "\u001b[2;36m                    \u001b[0m         too short for the current frame rate of \u001b[32m15\u001b[0m FPS. \u001b[1;33mRendering\u001b[0m with the       \u001b[2m             \u001b[0m\n",
       "\u001b[2;36m                    \u001b[0m         shortest possible total run_time of \u001b[32m0.0666667\u001b[0m seconds instead.           \u001b[2m             \u001b[0m\n"
      ]
     },
     "metadata": {},
     "output_type": "display_data"
    },
    {
     "name": "stderr",
     "output_type": "stream",
     "text": [
      "                                                                                                                       "
     ]
    },
    {
     "data": {
      "text/html": [
       "<pre style=\"white-space:pre;overflow-x:auto;line-height:normal;font-family:Menlo,'DejaVu Sans Mono',consolas,'Courier New',monospace\"><span style=\"color: #7fbfbf; text-decoration-color: #7fbfbf\">[04/26/25 22:20:49] </span><span style=\"color: #800000; text-decoration-color: #800000\">WARNING </span> The original total run_time of <span style=\"color: #800080; text-decoration-color: #800080; font-weight: bold\">VibracionNatural.play</span><span style=\"font-weight: bold\">()</span>, <span style=\"color: #008000; text-decoration-color: #008000\">0.05</span> seconds, is <a href=\"file://C:\\Users\\Diego\\anaconda3\\envs\\animaciones\\lib\\site-packages\\manim\\scene\\scene.py\" target=\"_blank\"><span style=\"color: #7f7f7f; text-decoration-color: #7f7f7f\">scene.py</span></a><span style=\"color: #7f7f7f; text-decoration-color: #7f7f7f\">:</span><a href=\"file://C:\\Users\\Diego\\anaconda3\\envs\\animaciones\\lib\\site-packages\\manim\\scene\\scene.py#1044\" target=\"_blank\"><span style=\"color: #7f7f7f; text-decoration-color: #7f7f7f\">1044</span></a>\n",
       "<span style=\"color: #7fbfbf; text-decoration-color: #7fbfbf\">                    </span>         too short for the current frame rate of <span style=\"color: #008000; text-decoration-color: #008000\">15</span> FPS. <span style=\"color: #808000; text-decoration-color: #808000; font-weight: bold\">Rendering</span> with the       <span style=\"color: #7f7f7f; text-decoration-color: #7f7f7f\">             </span>\n",
       "<span style=\"color: #7fbfbf; text-decoration-color: #7fbfbf\">                    </span>         shortest possible total run_time of <span style=\"color: #008000; text-decoration-color: #008000\">0.0666667</span> seconds instead.           <span style=\"color: #7f7f7f; text-decoration-color: #7f7f7f\">             </span>\n",
       "</pre>\n"
      ],
      "text/plain": [
       "\u001b[2;36m[04/26/25 22:20:49]\u001b[0m\u001b[2;36m \u001b[0m\u001b[31mWARNING \u001b[0m The original total run_time of \u001b[1;35mVibracionNatural.play\u001b[0m\u001b[1m(\u001b[0m\u001b[1m)\u001b[0m, \u001b[32m0.05\u001b[0m seconds, is \u001b]8;id=111758;file://C:\\Users\\Diego\\anaconda3\\envs\\animaciones\\lib\\site-packages\\manim\\scene\\scene.py\u001b\\\u001b[2mscene.py\u001b[0m\u001b]8;;\u001b\\\u001b[2m:\u001b[0m\u001b]8;id=428776;file://C:\\Users\\Diego\\anaconda3\\envs\\animaciones\\lib\\site-packages\\manim\\scene\\scene.py#1044\u001b\\\u001b[2m1044\u001b[0m\u001b]8;;\u001b\\\n",
       "\u001b[2;36m                    \u001b[0m         too short for the current frame rate of \u001b[32m15\u001b[0m FPS. \u001b[1;33mRendering\u001b[0m with the       \u001b[2m             \u001b[0m\n",
       "\u001b[2;36m                    \u001b[0m         shortest possible total run_time of \u001b[32m0.0666667\u001b[0m seconds instead.           \u001b[2m             \u001b[0m\n"
      ]
     },
     "metadata": {},
     "output_type": "display_data"
    },
    {
     "data": {
      "text/html": [
       "<pre style=\"white-space:pre;overflow-x:auto;line-height:normal;font-family:Menlo,'DejaVu Sans Mono',consolas,'Courier New',monospace\"><span style=\"color: #7fbfbf; text-decoration-color: #7fbfbf\">                    </span><span style=\"color: #800000; text-decoration-color: #800000\">WARNING </span> The original total run_time of <span style=\"color: #800080; text-decoration-color: #800080; font-weight: bold\">VibracionNatural.play</span><span style=\"font-weight: bold\">()</span>, <span style=\"color: #008000; text-decoration-color: #008000\">0.05</span> seconds, is <a href=\"file://C:\\Users\\Diego\\anaconda3\\envs\\animaciones\\lib\\site-packages\\manim\\scene\\scene.py\" target=\"_blank\"><span style=\"color: #7f7f7f; text-decoration-color: #7f7f7f\">scene.py</span></a><span style=\"color: #7f7f7f; text-decoration-color: #7f7f7f\">:</span><a href=\"file://C:\\Users\\Diego\\anaconda3\\envs\\animaciones\\lib\\site-packages\\manim\\scene\\scene.py#1044\" target=\"_blank\"><span style=\"color: #7f7f7f; text-decoration-color: #7f7f7f\">1044</span></a>\n",
       "<span style=\"color: #7fbfbf; text-decoration-color: #7fbfbf\">                    </span>         too short for the current frame rate of <span style=\"color: #008000; text-decoration-color: #008000\">15</span> FPS. <span style=\"color: #808000; text-decoration-color: #808000; font-weight: bold\">Rendering</span> with the       <span style=\"color: #7f7f7f; text-decoration-color: #7f7f7f\">             </span>\n",
       "<span style=\"color: #7fbfbf; text-decoration-color: #7fbfbf\">                    </span>         shortest possible total run_time of <span style=\"color: #008000; text-decoration-color: #008000\">0.0666667</span> seconds instead.           <span style=\"color: #7f7f7f; text-decoration-color: #7f7f7f\">             </span>\n",
       "</pre>\n"
      ],
      "text/plain": [
       "\u001b[2;36m                   \u001b[0m\u001b[2;36m \u001b[0m\u001b[31mWARNING \u001b[0m The original total run_time of \u001b[1;35mVibracionNatural.play\u001b[0m\u001b[1m(\u001b[0m\u001b[1m)\u001b[0m, \u001b[32m0.05\u001b[0m seconds, is \u001b]8;id=948766;file://C:\\Users\\Diego\\anaconda3\\envs\\animaciones\\lib\\site-packages\\manim\\scene\\scene.py\u001b\\\u001b[2mscene.py\u001b[0m\u001b]8;;\u001b\\\u001b[2m:\u001b[0m\u001b]8;id=826789;file://C:\\Users\\Diego\\anaconda3\\envs\\animaciones\\lib\\site-packages\\manim\\scene\\scene.py#1044\u001b\\\u001b[2m1044\u001b[0m\u001b]8;;\u001b\\\n",
       "\u001b[2;36m                    \u001b[0m         too short for the current frame rate of \u001b[32m15\u001b[0m FPS. \u001b[1;33mRendering\u001b[0m with the       \u001b[2m             \u001b[0m\n",
       "\u001b[2;36m                    \u001b[0m         shortest possible total run_time of \u001b[32m0.0666667\u001b[0m seconds instead.           \u001b[2m             \u001b[0m\n"
      ]
     },
     "metadata": {},
     "output_type": "display_data"
    },
    {
     "name": "stderr",
     "output_type": "stream",
     "text": [
      "                                                                                                                       "
     ]
    },
    {
     "data": {
      "text/html": [
       "<pre style=\"white-space:pre;overflow-x:auto;line-height:normal;font-family:Menlo,'DejaVu Sans Mono',consolas,'Courier New',monospace\"><span style=\"color: #7fbfbf; text-decoration-color: #7fbfbf\">                    </span><span style=\"color: #800000; text-decoration-color: #800000\">WARNING </span> The original total run_time of <span style=\"color: #800080; text-decoration-color: #800080; font-weight: bold\">VibracionNatural.play</span><span style=\"font-weight: bold\">()</span>, <span style=\"color: #008000; text-decoration-color: #008000\">0.05</span> seconds, is <a href=\"file://C:\\Users\\Diego\\anaconda3\\envs\\animaciones\\lib\\site-packages\\manim\\scene\\scene.py\" target=\"_blank\"><span style=\"color: #7f7f7f; text-decoration-color: #7f7f7f\">scene.py</span></a><span style=\"color: #7f7f7f; text-decoration-color: #7f7f7f\">:</span><a href=\"file://C:\\Users\\Diego\\anaconda3\\envs\\animaciones\\lib\\site-packages\\manim\\scene\\scene.py#1044\" target=\"_blank\"><span style=\"color: #7f7f7f; text-decoration-color: #7f7f7f\">1044</span></a>\n",
       "<span style=\"color: #7fbfbf; text-decoration-color: #7fbfbf\">                    </span>         too short for the current frame rate of <span style=\"color: #008000; text-decoration-color: #008000\">15</span> FPS. <span style=\"color: #808000; text-decoration-color: #808000; font-weight: bold\">Rendering</span> with the       <span style=\"color: #7f7f7f; text-decoration-color: #7f7f7f\">             </span>\n",
       "<span style=\"color: #7fbfbf; text-decoration-color: #7fbfbf\">                    </span>         shortest possible total run_time of <span style=\"color: #008000; text-decoration-color: #008000\">0.0666667</span> seconds instead.           <span style=\"color: #7f7f7f; text-decoration-color: #7f7f7f\">             </span>\n",
       "</pre>\n"
      ],
      "text/plain": [
       "\u001b[2;36m                   \u001b[0m\u001b[2;36m \u001b[0m\u001b[31mWARNING \u001b[0m The original total run_time of \u001b[1;35mVibracionNatural.play\u001b[0m\u001b[1m(\u001b[0m\u001b[1m)\u001b[0m, \u001b[32m0.05\u001b[0m seconds, is \u001b]8;id=460337;file://C:\\Users\\Diego\\anaconda3\\envs\\animaciones\\lib\\site-packages\\manim\\scene\\scene.py\u001b\\\u001b[2mscene.py\u001b[0m\u001b]8;;\u001b\\\u001b[2m:\u001b[0m\u001b]8;id=97526;file://C:\\Users\\Diego\\anaconda3\\envs\\animaciones\\lib\\site-packages\\manim\\scene\\scene.py#1044\u001b\\\u001b[2m1044\u001b[0m\u001b]8;;\u001b\\\n",
       "\u001b[2;36m                    \u001b[0m         too short for the current frame rate of \u001b[32m15\u001b[0m FPS. \u001b[1;33mRendering\u001b[0m with the       \u001b[2m             \u001b[0m\n",
       "\u001b[2;36m                    \u001b[0m         shortest possible total run_time of \u001b[32m0.0666667\u001b[0m seconds instead.           \u001b[2m             \u001b[0m\n"
      ]
     },
     "metadata": {},
     "output_type": "display_data"
    },
    {
     "data": {
      "text/html": [
       "<pre style=\"white-space:pre;overflow-x:auto;line-height:normal;font-family:Menlo,'DejaVu Sans Mono',consolas,'Courier New',monospace\"><span style=\"color: #7fbfbf; text-decoration-color: #7fbfbf\">                    </span><span style=\"color: #800000; text-decoration-color: #800000\">WARNING </span> The original total run_time of <span style=\"color: #800080; text-decoration-color: #800080; font-weight: bold\">VibracionNatural.play</span><span style=\"font-weight: bold\">()</span>, <span style=\"color: #008000; text-decoration-color: #008000\">0.05</span> seconds, is <a href=\"file://C:\\Users\\Diego\\anaconda3\\envs\\animaciones\\lib\\site-packages\\manim\\scene\\scene.py\" target=\"_blank\"><span style=\"color: #7f7f7f; text-decoration-color: #7f7f7f\">scene.py</span></a><span style=\"color: #7f7f7f; text-decoration-color: #7f7f7f\">:</span><a href=\"file://C:\\Users\\Diego\\anaconda3\\envs\\animaciones\\lib\\site-packages\\manim\\scene\\scene.py#1044\" target=\"_blank\"><span style=\"color: #7f7f7f; text-decoration-color: #7f7f7f\">1044</span></a>\n",
       "<span style=\"color: #7fbfbf; text-decoration-color: #7fbfbf\">                    </span>         too short for the current frame rate of <span style=\"color: #008000; text-decoration-color: #008000\">15</span> FPS. <span style=\"color: #808000; text-decoration-color: #808000; font-weight: bold\">Rendering</span> with the       <span style=\"color: #7f7f7f; text-decoration-color: #7f7f7f\">             </span>\n",
       "<span style=\"color: #7fbfbf; text-decoration-color: #7fbfbf\">                    </span>         shortest possible total run_time of <span style=\"color: #008000; text-decoration-color: #008000\">0.0666667</span> seconds instead.           <span style=\"color: #7f7f7f; text-decoration-color: #7f7f7f\">             </span>\n",
       "</pre>\n"
      ],
      "text/plain": [
       "\u001b[2;36m                   \u001b[0m\u001b[2;36m \u001b[0m\u001b[31mWARNING \u001b[0m The original total run_time of \u001b[1;35mVibracionNatural.play\u001b[0m\u001b[1m(\u001b[0m\u001b[1m)\u001b[0m, \u001b[32m0.05\u001b[0m seconds, is \u001b]8;id=193717;file://C:\\Users\\Diego\\anaconda3\\envs\\animaciones\\lib\\site-packages\\manim\\scene\\scene.py\u001b\\\u001b[2mscene.py\u001b[0m\u001b]8;;\u001b\\\u001b[2m:\u001b[0m\u001b]8;id=428016;file://C:\\Users\\Diego\\anaconda3\\envs\\animaciones\\lib\\site-packages\\manim\\scene\\scene.py#1044\u001b\\\u001b[2m1044\u001b[0m\u001b]8;;\u001b\\\n",
       "\u001b[2;36m                    \u001b[0m         too short for the current frame rate of \u001b[32m15\u001b[0m FPS. \u001b[1;33mRendering\u001b[0m with the       \u001b[2m             \u001b[0m\n",
       "\u001b[2;36m                    \u001b[0m         shortest possible total run_time of \u001b[32m0.0666667\u001b[0m seconds instead.           \u001b[2m             \u001b[0m\n"
      ]
     },
     "metadata": {},
     "output_type": "display_data"
    },
    {
     "name": "stderr",
     "output_type": "stream",
     "text": [
      "                                                                                                                       "
     ]
    },
    {
     "data": {
      "text/html": [
       "<pre style=\"white-space:pre;overflow-x:auto;line-height:normal;font-family:Menlo,'DejaVu Sans Mono',consolas,'Courier New',monospace\"><span style=\"color: #7fbfbf; text-decoration-color: #7fbfbf\">                    </span><span style=\"color: #800000; text-decoration-color: #800000\">WARNING </span> The original total run_time of <span style=\"color: #800080; text-decoration-color: #800080; font-weight: bold\">VibracionNatural.play</span><span style=\"font-weight: bold\">()</span>, <span style=\"color: #008000; text-decoration-color: #008000\">0.05</span> seconds, is <a href=\"file://C:\\Users\\Diego\\anaconda3\\envs\\animaciones\\lib\\site-packages\\manim\\scene\\scene.py\" target=\"_blank\"><span style=\"color: #7f7f7f; text-decoration-color: #7f7f7f\">scene.py</span></a><span style=\"color: #7f7f7f; text-decoration-color: #7f7f7f\">:</span><a href=\"file://C:\\Users\\Diego\\anaconda3\\envs\\animaciones\\lib\\site-packages\\manim\\scene\\scene.py#1044\" target=\"_blank\"><span style=\"color: #7f7f7f; text-decoration-color: #7f7f7f\">1044</span></a>\n",
       "<span style=\"color: #7fbfbf; text-decoration-color: #7fbfbf\">                    </span>         too short for the current frame rate of <span style=\"color: #008000; text-decoration-color: #008000\">15</span> FPS. <span style=\"color: #808000; text-decoration-color: #808000; font-weight: bold\">Rendering</span> with the       <span style=\"color: #7f7f7f; text-decoration-color: #7f7f7f\">             </span>\n",
       "<span style=\"color: #7fbfbf; text-decoration-color: #7fbfbf\">                    </span>         shortest possible total run_time of <span style=\"color: #008000; text-decoration-color: #008000\">0.0666667</span> seconds instead.           <span style=\"color: #7f7f7f; text-decoration-color: #7f7f7f\">             </span>\n",
       "</pre>\n"
      ],
      "text/plain": [
       "\u001b[2;36m                   \u001b[0m\u001b[2;36m \u001b[0m\u001b[31mWARNING \u001b[0m The original total run_time of \u001b[1;35mVibracionNatural.play\u001b[0m\u001b[1m(\u001b[0m\u001b[1m)\u001b[0m, \u001b[32m0.05\u001b[0m seconds, is \u001b]8;id=778527;file://C:\\Users\\Diego\\anaconda3\\envs\\animaciones\\lib\\site-packages\\manim\\scene\\scene.py\u001b\\\u001b[2mscene.py\u001b[0m\u001b]8;;\u001b\\\u001b[2m:\u001b[0m\u001b]8;id=628551;file://C:\\Users\\Diego\\anaconda3\\envs\\animaciones\\lib\\site-packages\\manim\\scene\\scene.py#1044\u001b\\\u001b[2m1044\u001b[0m\u001b]8;;\u001b\\\n",
       "\u001b[2;36m                    \u001b[0m         too short for the current frame rate of \u001b[32m15\u001b[0m FPS. \u001b[1;33mRendering\u001b[0m with the       \u001b[2m             \u001b[0m\n",
       "\u001b[2;36m                    \u001b[0m         shortest possible total run_time of \u001b[32m0.0666667\u001b[0m seconds instead.           \u001b[2m             \u001b[0m\n"
      ]
     },
     "metadata": {},
     "output_type": "display_data"
    },
    {
     "data": {
      "text/html": [
       "<pre style=\"white-space:pre;overflow-x:auto;line-height:normal;font-family:Menlo,'DejaVu Sans Mono',consolas,'Courier New',monospace\"><span style=\"color: #7fbfbf; text-decoration-color: #7fbfbf\">                    </span><span style=\"color: #800000; text-decoration-color: #800000\">WARNING </span> The original total run_time of <span style=\"color: #800080; text-decoration-color: #800080; font-weight: bold\">VibracionNatural.play</span><span style=\"font-weight: bold\">()</span>, <span style=\"color: #008000; text-decoration-color: #008000\">0.05</span> seconds, is <a href=\"file://C:\\Users\\Diego\\anaconda3\\envs\\animaciones\\lib\\site-packages\\manim\\scene\\scene.py\" target=\"_blank\"><span style=\"color: #7f7f7f; text-decoration-color: #7f7f7f\">scene.py</span></a><span style=\"color: #7f7f7f; text-decoration-color: #7f7f7f\">:</span><a href=\"file://C:\\Users\\Diego\\anaconda3\\envs\\animaciones\\lib\\site-packages\\manim\\scene\\scene.py#1044\" target=\"_blank\"><span style=\"color: #7f7f7f; text-decoration-color: #7f7f7f\">1044</span></a>\n",
       "<span style=\"color: #7fbfbf; text-decoration-color: #7fbfbf\">                    </span>         too short for the current frame rate of <span style=\"color: #008000; text-decoration-color: #008000\">15</span> FPS. <span style=\"color: #808000; text-decoration-color: #808000; font-weight: bold\">Rendering</span> with the       <span style=\"color: #7f7f7f; text-decoration-color: #7f7f7f\">             </span>\n",
       "<span style=\"color: #7fbfbf; text-decoration-color: #7fbfbf\">                    </span>         shortest possible total run_time of <span style=\"color: #008000; text-decoration-color: #008000\">0.0666667</span> seconds instead.           <span style=\"color: #7f7f7f; text-decoration-color: #7f7f7f\">             </span>\n",
       "</pre>\n"
      ],
      "text/plain": [
       "\u001b[2;36m                   \u001b[0m\u001b[2;36m \u001b[0m\u001b[31mWARNING \u001b[0m The original total run_time of \u001b[1;35mVibracionNatural.play\u001b[0m\u001b[1m(\u001b[0m\u001b[1m)\u001b[0m, \u001b[32m0.05\u001b[0m seconds, is \u001b]8;id=855537;file://C:\\Users\\Diego\\anaconda3\\envs\\animaciones\\lib\\site-packages\\manim\\scene\\scene.py\u001b\\\u001b[2mscene.py\u001b[0m\u001b]8;;\u001b\\\u001b[2m:\u001b[0m\u001b]8;id=347203;file://C:\\Users\\Diego\\anaconda3\\envs\\animaciones\\lib\\site-packages\\manim\\scene\\scene.py#1044\u001b\\\u001b[2m1044\u001b[0m\u001b]8;;\u001b\\\n",
       "\u001b[2;36m                    \u001b[0m         too short for the current frame rate of \u001b[32m15\u001b[0m FPS. \u001b[1;33mRendering\u001b[0m with the       \u001b[2m             \u001b[0m\n",
       "\u001b[2;36m                    \u001b[0m         shortest possible total run_time of \u001b[32m0.0666667\u001b[0m seconds instead.           \u001b[2m             \u001b[0m\n"
      ]
     },
     "metadata": {},
     "output_type": "display_data"
    },
    {
     "name": "stderr",
     "output_type": "stream",
     "text": [
      "                                                                                                                       "
     ]
    },
    {
     "data": {
      "text/html": [
       "<pre style=\"white-space:pre;overflow-x:auto;line-height:normal;font-family:Menlo,'DejaVu Sans Mono',consolas,'Courier New',monospace\"><span style=\"color: #7fbfbf; text-decoration-color: #7fbfbf\">                    </span><span style=\"color: #800000; text-decoration-color: #800000\">WARNING </span> The original total run_time of <span style=\"color: #800080; text-decoration-color: #800080; font-weight: bold\">VibracionNatural.play</span><span style=\"font-weight: bold\">()</span>, <span style=\"color: #008000; text-decoration-color: #008000\">0.05</span> seconds, is <a href=\"file://C:\\Users\\Diego\\anaconda3\\envs\\animaciones\\lib\\site-packages\\manim\\scene\\scene.py\" target=\"_blank\"><span style=\"color: #7f7f7f; text-decoration-color: #7f7f7f\">scene.py</span></a><span style=\"color: #7f7f7f; text-decoration-color: #7f7f7f\">:</span><a href=\"file://C:\\Users\\Diego\\anaconda3\\envs\\animaciones\\lib\\site-packages\\manim\\scene\\scene.py#1044\" target=\"_blank\"><span style=\"color: #7f7f7f; text-decoration-color: #7f7f7f\">1044</span></a>\n",
       "<span style=\"color: #7fbfbf; text-decoration-color: #7fbfbf\">                    </span>         too short for the current frame rate of <span style=\"color: #008000; text-decoration-color: #008000\">15</span> FPS. <span style=\"color: #808000; text-decoration-color: #808000; font-weight: bold\">Rendering</span> with the       <span style=\"color: #7f7f7f; text-decoration-color: #7f7f7f\">             </span>\n",
       "<span style=\"color: #7fbfbf; text-decoration-color: #7fbfbf\">                    </span>         shortest possible total run_time of <span style=\"color: #008000; text-decoration-color: #008000\">0.0666667</span> seconds instead.           <span style=\"color: #7f7f7f; text-decoration-color: #7f7f7f\">             </span>\n",
       "</pre>\n"
      ],
      "text/plain": [
       "\u001b[2;36m                   \u001b[0m\u001b[2;36m \u001b[0m\u001b[31mWARNING \u001b[0m The original total run_time of \u001b[1;35mVibracionNatural.play\u001b[0m\u001b[1m(\u001b[0m\u001b[1m)\u001b[0m, \u001b[32m0.05\u001b[0m seconds, is \u001b]8;id=203407;file://C:\\Users\\Diego\\anaconda3\\envs\\animaciones\\lib\\site-packages\\manim\\scene\\scene.py\u001b\\\u001b[2mscene.py\u001b[0m\u001b]8;;\u001b\\\u001b[2m:\u001b[0m\u001b]8;id=694277;file://C:\\Users\\Diego\\anaconda3\\envs\\animaciones\\lib\\site-packages\\manim\\scene\\scene.py#1044\u001b\\\u001b[2m1044\u001b[0m\u001b]8;;\u001b\\\n",
       "\u001b[2;36m                    \u001b[0m         too short for the current frame rate of \u001b[32m15\u001b[0m FPS. \u001b[1;33mRendering\u001b[0m with the       \u001b[2m             \u001b[0m\n",
       "\u001b[2;36m                    \u001b[0m         shortest possible total run_time of \u001b[32m0.0666667\u001b[0m seconds instead.           \u001b[2m             \u001b[0m\n"
      ]
     },
     "metadata": {},
     "output_type": "display_data"
    },
    {
     "data": {
      "text/html": [
       "<pre style=\"white-space:pre;overflow-x:auto;line-height:normal;font-family:Menlo,'DejaVu Sans Mono',consolas,'Courier New',monospace\"><span style=\"color: #7fbfbf; text-decoration-color: #7fbfbf\">                    </span><span style=\"color: #800000; text-decoration-color: #800000\">WARNING </span> The original total run_time of <span style=\"color: #800080; text-decoration-color: #800080; font-weight: bold\">VibracionNatural.play</span><span style=\"font-weight: bold\">()</span>, <span style=\"color: #008000; text-decoration-color: #008000\">0.05</span> seconds, is <a href=\"file://C:\\Users\\Diego\\anaconda3\\envs\\animaciones\\lib\\site-packages\\manim\\scene\\scene.py\" target=\"_blank\"><span style=\"color: #7f7f7f; text-decoration-color: #7f7f7f\">scene.py</span></a><span style=\"color: #7f7f7f; text-decoration-color: #7f7f7f\">:</span><a href=\"file://C:\\Users\\Diego\\anaconda3\\envs\\animaciones\\lib\\site-packages\\manim\\scene\\scene.py#1044\" target=\"_blank\"><span style=\"color: #7f7f7f; text-decoration-color: #7f7f7f\">1044</span></a>\n",
       "<span style=\"color: #7fbfbf; text-decoration-color: #7fbfbf\">                    </span>         too short for the current frame rate of <span style=\"color: #008000; text-decoration-color: #008000\">15</span> FPS. <span style=\"color: #808000; text-decoration-color: #808000; font-weight: bold\">Rendering</span> with the       <span style=\"color: #7f7f7f; text-decoration-color: #7f7f7f\">             </span>\n",
       "<span style=\"color: #7fbfbf; text-decoration-color: #7fbfbf\">                    </span>         shortest possible total run_time of <span style=\"color: #008000; text-decoration-color: #008000\">0.0666667</span> seconds instead.           <span style=\"color: #7f7f7f; text-decoration-color: #7f7f7f\">             </span>\n",
       "</pre>\n"
      ],
      "text/plain": [
       "\u001b[2;36m                   \u001b[0m\u001b[2;36m \u001b[0m\u001b[31mWARNING \u001b[0m The original total run_time of \u001b[1;35mVibracionNatural.play\u001b[0m\u001b[1m(\u001b[0m\u001b[1m)\u001b[0m, \u001b[32m0.05\u001b[0m seconds, is \u001b]8;id=522067;file://C:\\Users\\Diego\\anaconda3\\envs\\animaciones\\lib\\site-packages\\manim\\scene\\scene.py\u001b\\\u001b[2mscene.py\u001b[0m\u001b]8;;\u001b\\\u001b[2m:\u001b[0m\u001b]8;id=331177;file://C:\\Users\\Diego\\anaconda3\\envs\\animaciones\\lib\\site-packages\\manim\\scene\\scene.py#1044\u001b\\\u001b[2m1044\u001b[0m\u001b]8;;\u001b\\\n",
       "\u001b[2;36m                    \u001b[0m         too short for the current frame rate of \u001b[32m15\u001b[0m FPS. \u001b[1;33mRendering\u001b[0m with the       \u001b[2m             \u001b[0m\n",
       "\u001b[2;36m                    \u001b[0m         shortest possible total run_time of \u001b[32m0.0666667\u001b[0m seconds instead.           \u001b[2m             \u001b[0m\n"
      ]
     },
     "metadata": {},
     "output_type": "display_data"
    },
    {
     "name": "stderr",
     "output_type": "stream",
     "text": [
      "                                                                                                                       "
     ]
    },
    {
     "data": {
      "text/html": [
       "<pre style=\"white-space:pre;overflow-x:auto;line-height:normal;font-family:Menlo,'DejaVu Sans Mono',consolas,'Courier New',monospace\"><span style=\"color: #7fbfbf; text-decoration-color: #7fbfbf\">[04/26/25 22:20:50] </span><span style=\"color: #800000; text-decoration-color: #800000\">WARNING </span> The original total run_time of <span style=\"color: #800080; text-decoration-color: #800080; font-weight: bold\">VibracionNatural.play</span><span style=\"font-weight: bold\">()</span>, <span style=\"color: #008000; text-decoration-color: #008000\">0.05</span> seconds, is <a href=\"file://C:\\Users\\Diego\\anaconda3\\envs\\animaciones\\lib\\site-packages\\manim\\scene\\scene.py\" target=\"_blank\"><span style=\"color: #7f7f7f; text-decoration-color: #7f7f7f\">scene.py</span></a><span style=\"color: #7f7f7f; text-decoration-color: #7f7f7f\">:</span><a href=\"file://C:\\Users\\Diego\\anaconda3\\envs\\animaciones\\lib\\site-packages\\manim\\scene\\scene.py#1044\" target=\"_blank\"><span style=\"color: #7f7f7f; text-decoration-color: #7f7f7f\">1044</span></a>\n",
       "<span style=\"color: #7fbfbf; text-decoration-color: #7fbfbf\">                    </span>         too short for the current frame rate of <span style=\"color: #008000; text-decoration-color: #008000\">15</span> FPS. <span style=\"color: #808000; text-decoration-color: #808000; font-weight: bold\">Rendering</span> with the       <span style=\"color: #7f7f7f; text-decoration-color: #7f7f7f\">             </span>\n",
       "<span style=\"color: #7fbfbf; text-decoration-color: #7fbfbf\">                    </span>         shortest possible total run_time of <span style=\"color: #008000; text-decoration-color: #008000\">0.0666667</span> seconds instead.           <span style=\"color: #7f7f7f; text-decoration-color: #7f7f7f\">             </span>\n",
       "</pre>\n"
      ],
      "text/plain": [
       "\u001b[2;36m[04/26/25 22:20:50]\u001b[0m\u001b[2;36m \u001b[0m\u001b[31mWARNING \u001b[0m The original total run_time of \u001b[1;35mVibracionNatural.play\u001b[0m\u001b[1m(\u001b[0m\u001b[1m)\u001b[0m, \u001b[32m0.05\u001b[0m seconds, is \u001b]8;id=580752;file://C:\\Users\\Diego\\anaconda3\\envs\\animaciones\\lib\\site-packages\\manim\\scene\\scene.py\u001b\\\u001b[2mscene.py\u001b[0m\u001b]8;;\u001b\\\u001b[2m:\u001b[0m\u001b]8;id=694844;file://C:\\Users\\Diego\\anaconda3\\envs\\animaciones\\lib\\site-packages\\manim\\scene\\scene.py#1044\u001b\\\u001b[2m1044\u001b[0m\u001b]8;;\u001b\\\n",
       "\u001b[2;36m                    \u001b[0m         too short for the current frame rate of \u001b[32m15\u001b[0m FPS. \u001b[1;33mRendering\u001b[0m with the       \u001b[2m             \u001b[0m\n",
       "\u001b[2;36m                    \u001b[0m         shortest possible total run_time of \u001b[32m0.0666667\u001b[0m seconds instead.           \u001b[2m             \u001b[0m\n"
      ]
     },
     "metadata": {},
     "output_type": "display_data"
    },
    {
     "data": {
      "text/html": [
       "<pre style=\"white-space:pre;overflow-x:auto;line-height:normal;font-family:Menlo,'DejaVu Sans Mono',consolas,'Courier New',monospace\"><span style=\"color: #7fbfbf; text-decoration-color: #7fbfbf\">                    </span><span style=\"color: #800000; text-decoration-color: #800000\">WARNING </span> The original total run_time of <span style=\"color: #800080; text-decoration-color: #800080; font-weight: bold\">VibracionNatural.play</span><span style=\"font-weight: bold\">()</span>, <span style=\"color: #008000; text-decoration-color: #008000\">0.05</span> seconds, is <a href=\"file://C:\\Users\\Diego\\anaconda3\\envs\\animaciones\\lib\\site-packages\\manim\\scene\\scene.py\" target=\"_blank\"><span style=\"color: #7f7f7f; text-decoration-color: #7f7f7f\">scene.py</span></a><span style=\"color: #7f7f7f; text-decoration-color: #7f7f7f\">:</span><a href=\"file://C:\\Users\\Diego\\anaconda3\\envs\\animaciones\\lib\\site-packages\\manim\\scene\\scene.py#1044\" target=\"_blank\"><span style=\"color: #7f7f7f; text-decoration-color: #7f7f7f\">1044</span></a>\n",
       "<span style=\"color: #7fbfbf; text-decoration-color: #7fbfbf\">                    </span>         too short for the current frame rate of <span style=\"color: #008000; text-decoration-color: #008000\">15</span> FPS. <span style=\"color: #808000; text-decoration-color: #808000; font-weight: bold\">Rendering</span> with the       <span style=\"color: #7f7f7f; text-decoration-color: #7f7f7f\">             </span>\n",
       "<span style=\"color: #7fbfbf; text-decoration-color: #7fbfbf\">                    </span>         shortest possible total run_time of <span style=\"color: #008000; text-decoration-color: #008000\">0.0666667</span> seconds instead.           <span style=\"color: #7f7f7f; text-decoration-color: #7f7f7f\">             </span>\n",
       "</pre>\n"
      ],
      "text/plain": [
       "\u001b[2;36m                   \u001b[0m\u001b[2;36m \u001b[0m\u001b[31mWARNING \u001b[0m The original total run_time of \u001b[1;35mVibracionNatural.play\u001b[0m\u001b[1m(\u001b[0m\u001b[1m)\u001b[0m, \u001b[32m0.05\u001b[0m seconds, is \u001b]8;id=532748;file://C:\\Users\\Diego\\anaconda3\\envs\\animaciones\\lib\\site-packages\\manim\\scene\\scene.py\u001b\\\u001b[2mscene.py\u001b[0m\u001b]8;;\u001b\\\u001b[2m:\u001b[0m\u001b]8;id=471942;file://C:\\Users\\Diego\\anaconda3\\envs\\animaciones\\lib\\site-packages\\manim\\scene\\scene.py#1044\u001b\\\u001b[2m1044\u001b[0m\u001b]8;;\u001b\\\n",
       "\u001b[2;36m                    \u001b[0m         too short for the current frame rate of \u001b[32m15\u001b[0m FPS. \u001b[1;33mRendering\u001b[0m with the       \u001b[2m             \u001b[0m\n",
       "\u001b[2;36m                    \u001b[0m         shortest possible total run_time of \u001b[32m0.0666667\u001b[0m seconds instead.           \u001b[2m             \u001b[0m\n"
      ]
     },
     "metadata": {},
     "output_type": "display_data"
    },
    {
     "name": "stderr",
     "output_type": "stream",
     "text": [
      "                                                                                                                       "
     ]
    },
    {
     "data": {
      "text/html": [
       "<pre style=\"white-space:pre;overflow-x:auto;line-height:normal;font-family:Menlo,'DejaVu Sans Mono',consolas,'Courier New',monospace\"><span style=\"color: #7fbfbf; text-decoration-color: #7fbfbf\">                    </span><span style=\"color: #800000; text-decoration-color: #800000\">WARNING </span> The original total run_time of <span style=\"color: #800080; text-decoration-color: #800080; font-weight: bold\">VibracionNatural.play</span><span style=\"font-weight: bold\">()</span>, <span style=\"color: #008000; text-decoration-color: #008000\">0.05</span> seconds, is <a href=\"file://C:\\Users\\Diego\\anaconda3\\envs\\animaciones\\lib\\site-packages\\manim\\scene\\scene.py\" target=\"_blank\"><span style=\"color: #7f7f7f; text-decoration-color: #7f7f7f\">scene.py</span></a><span style=\"color: #7f7f7f; text-decoration-color: #7f7f7f\">:</span><a href=\"file://C:\\Users\\Diego\\anaconda3\\envs\\animaciones\\lib\\site-packages\\manim\\scene\\scene.py#1044\" target=\"_blank\"><span style=\"color: #7f7f7f; text-decoration-color: #7f7f7f\">1044</span></a>\n",
       "<span style=\"color: #7fbfbf; text-decoration-color: #7fbfbf\">                    </span>         too short for the current frame rate of <span style=\"color: #008000; text-decoration-color: #008000\">15</span> FPS. <span style=\"color: #808000; text-decoration-color: #808000; font-weight: bold\">Rendering</span> with the       <span style=\"color: #7f7f7f; text-decoration-color: #7f7f7f\">             </span>\n",
       "<span style=\"color: #7fbfbf; text-decoration-color: #7fbfbf\">                    </span>         shortest possible total run_time of <span style=\"color: #008000; text-decoration-color: #008000\">0.0666667</span> seconds instead.           <span style=\"color: #7f7f7f; text-decoration-color: #7f7f7f\">             </span>\n",
       "</pre>\n"
      ],
      "text/plain": [
       "\u001b[2;36m                   \u001b[0m\u001b[2;36m \u001b[0m\u001b[31mWARNING \u001b[0m The original total run_time of \u001b[1;35mVibracionNatural.play\u001b[0m\u001b[1m(\u001b[0m\u001b[1m)\u001b[0m, \u001b[32m0.05\u001b[0m seconds, is \u001b]8;id=668165;file://C:\\Users\\Diego\\anaconda3\\envs\\animaciones\\lib\\site-packages\\manim\\scene\\scene.py\u001b\\\u001b[2mscene.py\u001b[0m\u001b]8;;\u001b\\\u001b[2m:\u001b[0m\u001b]8;id=511201;file://C:\\Users\\Diego\\anaconda3\\envs\\animaciones\\lib\\site-packages\\manim\\scene\\scene.py#1044\u001b\\\u001b[2m1044\u001b[0m\u001b]8;;\u001b\\\n",
       "\u001b[2;36m                    \u001b[0m         too short for the current frame rate of \u001b[32m15\u001b[0m FPS. \u001b[1;33mRendering\u001b[0m with the       \u001b[2m             \u001b[0m\n",
       "\u001b[2;36m                    \u001b[0m         shortest possible total run_time of \u001b[32m0.0666667\u001b[0m seconds instead.           \u001b[2m             \u001b[0m\n"
      ]
     },
     "metadata": {},
     "output_type": "display_data"
    },
    {
     "data": {
      "text/html": [
       "<pre style=\"white-space:pre;overflow-x:auto;line-height:normal;font-family:Menlo,'DejaVu Sans Mono',consolas,'Courier New',monospace\"><span style=\"color: #7fbfbf; text-decoration-color: #7fbfbf\">                    </span><span style=\"color: #800000; text-decoration-color: #800000\">WARNING </span> The original total run_time of <span style=\"color: #800080; text-decoration-color: #800080; font-weight: bold\">VibracionNatural.play</span><span style=\"font-weight: bold\">()</span>, <span style=\"color: #008000; text-decoration-color: #008000\">0.05</span> seconds, is <a href=\"file://C:\\Users\\Diego\\anaconda3\\envs\\animaciones\\lib\\site-packages\\manim\\scene\\scene.py\" target=\"_blank\"><span style=\"color: #7f7f7f; text-decoration-color: #7f7f7f\">scene.py</span></a><span style=\"color: #7f7f7f; text-decoration-color: #7f7f7f\">:</span><a href=\"file://C:\\Users\\Diego\\anaconda3\\envs\\animaciones\\lib\\site-packages\\manim\\scene\\scene.py#1044\" target=\"_blank\"><span style=\"color: #7f7f7f; text-decoration-color: #7f7f7f\">1044</span></a>\n",
       "<span style=\"color: #7fbfbf; text-decoration-color: #7fbfbf\">                    </span>         too short for the current frame rate of <span style=\"color: #008000; text-decoration-color: #008000\">15</span> FPS. <span style=\"color: #808000; text-decoration-color: #808000; font-weight: bold\">Rendering</span> with the       <span style=\"color: #7f7f7f; text-decoration-color: #7f7f7f\">             </span>\n",
       "<span style=\"color: #7fbfbf; text-decoration-color: #7fbfbf\">                    </span>         shortest possible total run_time of <span style=\"color: #008000; text-decoration-color: #008000\">0.0666667</span> seconds instead.           <span style=\"color: #7f7f7f; text-decoration-color: #7f7f7f\">             </span>\n",
       "</pre>\n"
      ],
      "text/plain": [
       "\u001b[2;36m                   \u001b[0m\u001b[2;36m \u001b[0m\u001b[31mWARNING \u001b[0m The original total run_time of \u001b[1;35mVibracionNatural.play\u001b[0m\u001b[1m(\u001b[0m\u001b[1m)\u001b[0m, \u001b[32m0.05\u001b[0m seconds, is \u001b]8;id=846038;file://C:\\Users\\Diego\\anaconda3\\envs\\animaciones\\lib\\site-packages\\manim\\scene\\scene.py\u001b\\\u001b[2mscene.py\u001b[0m\u001b]8;;\u001b\\\u001b[2m:\u001b[0m\u001b]8;id=33032;file://C:\\Users\\Diego\\anaconda3\\envs\\animaciones\\lib\\site-packages\\manim\\scene\\scene.py#1044\u001b\\\u001b[2m1044\u001b[0m\u001b]8;;\u001b\\\n",
       "\u001b[2;36m                    \u001b[0m         too short for the current frame rate of \u001b[32m15\u001b[0m FPS. \u001b[1;33mRendering\u001b[0m with the       \u001b[2m             \u001b[0m\n",
       "\u001b[2;36m                    \u001b[0m         shortest possible total run_time of \u001b[32m0.0666667\u001b[0m seconds instead.           \u001b[2m             \u001b[0m\n"
      ]
     },
     "metadata": {},
     "output_type": "display_data"
    },
    {
     "name": "stderr",
     "output_type": "stream",
     "text": [
      "                                                                                                                       "
     ]
    },
    {
     "data": {
      "text/html": [
       "<pre style=\"white-space:pre;overflow-x:auto;line-height:normal;font-family:Menlo,'DejaVu Sans Mono',consolas,'Courier New',monospace\"><span style=\"color: #7fbfbf; text-decoration-color: #7fbfbf\">                    </span><span style=\"color: #800000; text-decoration-color: #800000\">WARNING </span> The original total run_time of <span style=\"color: #800080; text-decoration-color: #800080; font-weight: bold\">VibracionNatural.play</span><span style=\"font-weight: bold\">()</span>, <span style=\"color: #008000; text-decoration-color: #008000\">0.05</span> seconds, is <a href=\"file://C:\\Users\\Diego\\anaconda3\\envs\\animaciones\\lib\\site-packages\\manim\\scene\\scene.py\" target=\"_blank\"><span style=\"color: #7f7f7f; text-decoration-color: #7f7f7f\">scene.py</span></a><span style=\"color: #7f7f7f; text-decoration-color: #7f7f7f\">:</span><a href=\"file://C:\\Users\\Diego\\anaconda3\\envs\\animaciones\\lib\\site-packages\\manim\\scene\\scene.py#1044\" target=\"_blank\"><span style=\"color: #7f7f7f; text-decoration-color: #7f7f7f\">1044</span></a>\n",
       "<span style=\"color: #7fbfbf; text-decoration-color: #7fbfbf\">                    </span>         too short for the current frame rate of <span style=\"color: #008000; text-decoration-color: #008000\">15</span> FPS. <span style=\"color: #808000; text-decoration-color: #808000; font-weight: bold\">Rendering</span> with the       <span style=\"color: #7f7f7f; text-decoration-color: #7f7f7f\">             </span>\n",
       "<span style=\"color: #7fbfbf; text-decoration-color: #7fbfbf\">                    </span>         shortest possible total run_time of <span style=\"color: #008000; text-decoration-color: #008000\">0.0666667</span> seconds instead.           <span style=\"color: #7f7f7f; text-decoration-color: #7f7f7f\">             </span>\n",
       "</pre>\n"
      ],
      "text/plain": [
       "\u001b[2;36m                   \u001b[0m\u001b[2;36m \u001b[0m\u001b[31mWARNING \u001b[0m The original total run_time of \u001b[1;35mVibracionNatural.play\u001b[0m\u001b[1m(\u001b[0m\u001b[1m)\u001b[0m, \u001b[32m0.05\u001b[0m seconds, is \u001b]8;id=756788;file://C:\\Users\\Diego\\anaconda3\\envs\\animaciones\\lib\\site-packages\\manim\\scene\\scene.py\u001b\\\u001b[2mscene.py\u001b[0m\u001b]8;;\u001b\\\u001b[2m:\u001b[0m\u001b]8;id=543403;file://C:\\Users\\Diego\\anaconda3\\envs\\animaciones\\lib\\site-packages\\manim\\scene\\scene.py#1044\u001b\\\u001b[2m1044\u001b[0m\u001b]8;;\u001b\\\n",
       "\u001b[2;36m                    \u001b[0m         too short for the current frame rate of \u001b[32m15\u001b[0m FPS. \u001b[1;33mRendering\u001b[0m with the       \u001b[2m             \u001b[0m\n",
       "\u001b[2;36m                    \u001b[0m         shortest possible total run_time of \u001b[32m0.0666667\u001b[0m seconds instead.           \u001b[2m             \u001b[0m\n"
      ]
     },
     "metadata": {},
     "output_type": "display_data"
    },
    {
     "data": {
      "text/html": [
       "<pre style=\"white-space:pre;overflow-x:auto;line-height:normal;font-family:Menlo,'DejaVu Sans Mono',consolas,'Courier New',monospace\"><span style=\"color: #7fbfbf; text-decoration-color: #7fbfbf\">                    </span><span style=\"color: #800000; text-decoration-color: #800000\">WARNING </span> The original total run_time of <span style=\"color: #800080; text-decoration-color: #800080; font-weight: bold\">VibracionNatural.play</span><span style=\"font-weight: bold\">()</span>, <span style=\"color: #008000; text-decoration-color: #008000\">0.05</span> seconds, is <a href=\"file://C:\\Users\\Diego\\anaconda3\\envs\\animaciones\\lib\\site-packages\\manim\\scene\\scene.py\" target=\"_blank\"><span style=\"color: #7f7f7f; text-decoration-color: #7f7f7f\">scene.py</span></a><span style=\"color: #7f7f7f; text-decoration-color: #7f7f7f\">:</span><a href=\"file://C:\\Users\\Diego\\anaconda3\\envs\\animaciones\\lib\\site-packages\\manim\\scene\\scene.py#1044\" target=\"_blank\"><span style=\"color: #7f7f7f; text-decoration-color: #7f7f7f\">1044</span></a>\n",
       "<span style=\"color: #7fbfbf; text-decoration-color: #7fbfbf\">                    </span>         too short for the current frame rate of <span style=\"color: #008000; text-decoration-color: #008000\">15</span> FPS. <span style=\"color: #808000; text-decoration-color: #808000; font-weight: bold\">Rendering</span> with the       <span style=\"color: #7f7f7f; text-decoration-color: #7f7f7f\">             </span>\n",
       "<span style=\"color: #7fbfbf; text-decoration-color: #7fbfbf\">                    </span>         shortest possible total run_time of <span style=\"color: #008000; text-decoration-color: #008000\">0.0666667</span> seconds instead.           <span style=\"color: #7f7f7f; text-decoration-color: #7f7f7f\">             </span>\n",
       "</pre>\n"
      ],
      "text/plain": [
       "\u001b[2;36m                   \u001b[0m\u001b[2;36m \u001b[0m\u001b[31mWARNING \u001b[0m The original total run_time of \u001b[1;35mVibracionNatural.play\u001b[0m\u001b[1m(\u001b[0m\u001b[1m)\u001b[0m, \u001b[32m0.05\u001b[0m seconds, is \u001b]8;id=745731;file://C:\\Users\\Diego\\anaconda3\\envs\\animaciones\\lib\\site-packages\\manim\\scene\\scene.py\u001b\\\u001b[2mscene.py\u001b[0m\u001b]8;;\u001b\\\u001b[2m:\u001b[0m\u001b]8;id=785533;file://C:\\Users\\Diego\\anaconda3\\envs\\animaciones\\lib\\site-packages\\manim\\scene\\scene.py#1044\u001b\\\u001b[2m1044\u001b[0m\u001b]8;;\u001b\\\n",
       "\u001b[2;36m                    \u001b[0m         too short for the current frame rate of \u001b[32m15\u001b[0m FPS. \u001b[1;33mRendering\u001b[0m with the       \u001b[2m             \u001b[0m\n",
       "\u001b[2;36m                    \u001b[0m         shortest possible total run_time of \u001b[32m0.0666667\u001b[0m seconds instead.           \u001b[2m             \u001b[0m\n"
      ]
     },
     "metadata": {},
     "output_type": "display_data"
    },
    {
     "name": "stderr",
     "output_type": "stream",
     "text": [
      "                                                                                                                       "
     ]
    },
    {
     "data": {
      "text/html": [
       "<pre style=\"white-space:pre;overflow-x:auto;line-height:normal;font-family:Menlo,'DejaVu Sans Mono',consolas,'Courier New',monospace\"><span style=\"color: #7fbfbf; text-decoration-color: #7fbfbf\">                    </span><span style=\"color: #800000; text-decoration-color: #800000\">WARNING </span> The original total run_time of <span style=\"color: #800080; text-decoration-color: #800080; font-weight: bold\">VibracionNatural.play</span><span style=\"font-weight: bold\">()</span>, <span style=\"color: #008000; text-decoration-color: #008000\">0.05</span> seconds, is <a href=\"file://C:\\Users\\Diego\\anaconda3\\envs\\animaciones\\lib\\site-packages\\manim\\scene\\scene.py\" target=\"_blank\"><span style=\"color: #7f7f7f; text-decoration-color: #7f7f7f\">scene.py</span></a><span style=\"color: #7f7f7f; text-decoration-color: #7f7f7f\">:</span><a href=\"file://C:\\Users\\Diego\\anaconda3\\envs\\animaciones\\lib\\site-packages\\manim\\scene\\scene.py#1044\" target=\"_blank\"><span style=\"color: #7f7f7f; text-decoration-color: #7f7f7f\">1044</span></a>\n",
       "<span style=\"color: #7fbfbf; text-decoration-color: #7fbfbf\">                    </span>         too short for the current frame rate of <span style=\"color: #008000; text-decoration-color: #008000\">15</span> FPS. <span style=\"color: #808000; text-decoration-color: #808000; font-weight: bold\">Rendering</span> with the       <span style=\"color: #7f7f7f; text-decoration-color: #7f7f7f\">             </span>\n",
       "<span style=\"color: #7fbfbf; text-decoration-color: #7fbfbf\">                    </span>         shortest possible total run_time of <span style=\"color: #008000; text-decoration-color: #008000\">0.0666667</span> seconds instead.           <span style=\"color: #7f7f7f; text-decoration-color: #7f7f7f\">             </span>\n",
       "</pre>\n"
      ],
      "text/plain": [
       "\u001b[2;36m                   \u001b[0m\u001b[2;36m \u001b[0m\u001b[31mWARNING \u001b[0m The original total run_time of \u001b[1;35mVibracionNatural.play\u001b[0m\u001b[1m(\u001b[0m\u001b[1m)\u001b[0m, \u001b[32m0.05\u001b[0m seconds, is \u001b]8;id=545567;file://C:\\Users\\Diego\\anaconda3\\envs\\animaciones\\lib\\site-packages\\manim\\scene\\scene.py\u001b\\\u001b[2mscene.py\u001b[0m\u001b]8;;\u001b\\\u001b[2m:\u001b[0m\u001b]8;id=426996;file://C:\\Users\\Diego\\anaconda3\\envs\\animaciones\\lib\\site-packages\\manim\\scene\\scene.py#1044\u001b\\\u001b[2m1044\u001b[0m\u001b]8;;\u001b\\\n",
       "\u001b[2;36m                    \u001b[0m         too short for the current frame rate of \u001b[32m15\u001b[0m FPS. \u001b[1;33mRendering\u001b[0m with the       \u001b[2m             \u001b[0m\n",
       "\u001b[2;36m                    \u001b[0m         shortest possible total run_time of \u001b[32m0.0666667\u001b[0m seconds instead.           \u001b[2m             \u001b[0m\n"
      ]
     },
     "metadata": {},
     "output_type": "display_data"
    },
    {
     "data": {
      "text/html": [
       "<pre style=\"white-space:pre;overflow-x:auto;line-height:normal;font-family:Menlo,'DejaVu Sans Mono',consolas,'Courier New',monospace\"><span style=\"color: #7fbfbf; text-decoration-color: #7fbfbf\">                    </span><span style=\"color: #800000; text-decoration-color: #800000\">WARNING </span> The original total run_time of <span style=\"color: #800080; text-decoration-color: #800080; font-weight: bold\">VibracionNatural.play</span><span style=\"font-weight: bold\">()</span>, <span style=\"color: #008000; text-decoration-color: #008000\">0.05</span> seconds, is <a href=\"file://C:\\Users\\Diego\\anaconda3\\envs\\animaciones\\lib\\site-packages\\manim\\scene\\scene.py\" target=\"_blank\"><span style=\"color: #7f7f7f; text-decoration-color: #7f7f7f\">scene.py</span></a><span style=\"color: #7f7f7f; text-decoration-color: #7f7f7f\">:</span><a href=\"file://C:\\Users\\Diego\\anaconda3\\envs\\animaciones\\lib\\site-packages\\manim\\scene\\scene.py#1044\" target=\"_blank\"><span style=\"color: #7f7f7f; text-decoration-color: #7f7f7f\">1044</span></a>\n",
       "<span style=\"color: #7fbfbf; text-decoration-color: #7fbfbf\">                    </span>         too short for the current frame rate of <span style=\"color: #008000; text-decoration-color: #008000\">15</span> FPS. <span style=\"color: #808000; text-decoration-color: #808000; font-weight: bold\">Rendering</span> with the       <span style=\"color: #7f7f7f; text-decoration-color: #7f7f7f\">             </span>\n",
       "<span style=\"color: #7fbfbf; text-decoration-color: #7fbfbf\">                    </span>         shortest possible total run_time of <span style=\"color: #008000; text-decoration-color: #008000\">0.0666667</span> seconds instead.           <span style=\"color: #7f7f7f; text-decoration-color: #7f7f7f\">             </span>\n",
       "</pre>\n"
      ],
      "text/plain": [
       "\u001b[2;36m                   \u001b[0m\u001b[2;36m \u001b[0m\u001b[31mWARNING \u001b[0m The original total run_time of \u001b[1;35mVibracionNatural.play\u001b[0m\u001b[1m(\u001b[0m\u001b[1m)\u001b[0m, \u001b[32m0.05\u001b[0m seconds, is \u001b]8;id=571484;file://C:\\Users\\Diego\\anaconda3\\envs\\animaciones\\lib\\site-packages\\manim\\scene\\scene.py\u001b\\\u001b[2mscene.py\u001b[0m\u001b]8;;\u001b\\\u001b[2m:\u001b[0m\u001b]8;id=173331;file://C:\\Users\\Diego\\anaconda3\\envs\\animaciones\\lib\\site-packages\\manim\\scene\\scene.py#1044\u001b\\\u001b[2m1044\u001b[0m\u001b]8;;\u001b\\\n",
       "\u001b[2;36m                    \u001b[0m         too short for the current frame rate of \u001b[32m15\u001b[0m FPS. \u001b[1;33mRendering\u001b[0m with the       \u001b[2m             \u001b[0m\n",
       "\u001b[2;36m                    \u001b[0m         shortest possible total run_time of \u001b[32m0.0666667\u001b[0m seconds instead.           \u001b[2m             \u001b[0m\n"
      ]
     },
     "metadata": {},
     "output_type": "display_data"
    },
    {
     "name": "stderr",
     "output_type": "stream",
     "text": [
      "                                                                                                                       "
     ]
    },
    {
     "data": {
      "text/html": [
       "<pre style=\"white-space:pre;overflow-x:auto;line-height:normal;font-family:Menlo,'DejaVu Sans Mono',consolas,'Courier New',monospace\"><span style=\"color: #7fbfbf; text-decoration-color: #7fbfbf\">[04/26/25 22:20:51] </span><span style=\"color: #800000; text-decoration-color: #800000\">WARNING </span> The original total run_time of <span style=\"color: #800080; text-decoration-color: #800080; font-weight: bold\">VibracionNatural.play</span><span style=\"font-weight: bold\">()</span>, <span style=\"color: #008000; text-decoration-color: #008000\">0.05</span> seconds, is <a href=\"file://C:\\Users\\Diego\\anaconda3\\envs\\animaciones\\lib\\site-packages\\manim\\scene\\scene.py\" target=\"_blank\"><span style=\"color: #7f7f7f; text-decoration-color: #7f7f7f\">scene.py</span></a><span style=\"color: #7f7f7f; text-decoration-color: #7f7f7f\">:</span><a href=\"file://C:\\Users\\Diego\\anaconda3\\envs\\animaciones\\lib\\site-packages\\manim\\scene\\scene.py#1044\" target=\"_blank\"><span style=\"color: #7f7f7f; text-decoration-color: #7f7f7f\">1044</span></a>\n",
       "<span style=\"color: #7fbfbf; text-decoration-color: #7fbfbf\">                    </span>         too short for the current frame rate of <span style=\"color: #008000; text-decoration-color: #008000\">15</span> FPS. <span style=\"color: #808000; text-decoration-color: #808000; font-weight: bold\">Rendering</span> with the       <span style=\"color: #7f7f7f; text-decoration-color: #7f7f7f\">             </span>\n",
       "<span style=\"color: #7fbfbf; text-decoration-color: #7fbfbf\">                    </span>         shortest possible total run_time of <span style=\"color: #008000; text-decoration-color: #008000\">0.0666667</span> seconds instead.           <span style=\"color: #7f7f7f; text-decoration-color: #7f7f7f\">             </span>\n",
       "</pre>\n"
      ],
      "text/plain": [
       "\u001b[2;36m[04/26/25 22:20:51]\u001b[0m\u001b[2;36m \u001b[0m\u001b[31mWARNING \u001b[0m The original total run_time of \u001b[1;35mVibracionNatural.play\u001b[0m\u001b[1m(\u001b[0m\u001b[1m)\u001b[0m, \u001b[32m0.05\u001b[0m seconds, is \u001b]8;id=858196;file://C:\\Users\\Diego\\anaconda3\\envs\\animaciones\\lib\\site-packages\\manim\\scene\\scene.py\u001b\\\u001b[2mscene.py\u001b[0m\u001b]8;;\u001b\\\u001b[2m:\u001b[0m\u001b]8;id=851826;file://C:\\Users\\Diego\\anaconda3\\envs\\animaciones\\lib\\site-packages\\manim\\scene\\scene.py#1044\u001b\\\u001b[2m1044\u001b[0m\u001b]8;;\u001b\\\n",
       "\u001b[2;36m                    \u001b[0m         too short for the current frame rate of \u001b[32m15\u001b[0m FPS. \u001b[1;33mRendering\u001b[0m with the       \u001b[2m             \u001b[0m\n",
       "\u001b[2;36m                    \u001b[0m         shortest possible total run_time of \u001b[32m0.0666667\u001b[0m seconds instead.           \u001b[2m             \u001b[0m\n"
      ]
     },
     "metadata": {},
     "output_type": "display_data"
    },
    {
     "data": {
      "text/html": [
       "<pre style=\"white-space:pre;overflow-x:auto;line-height:normal;font-family:Menlo,'DejaVu Sans Mono',consolas,'Courier New',monospace\"><span style=\"color: #7fbfbf; text-decoration-color: #7fbfbf\">                    </span><span style=\"color: #800000; text-decoration-color: #800000\">WARNING </span> The original total run_time of <span style=\"color: #800080; text-decoration-color: #800080; font-weight: bold\">VibracionNatural.play</span><span style=\"font-weight: bold\">()</span>, <span style=\"color: #008000; text-decoration-color: #008000\">0.05</span> seconds, is <a href=\"file://C:\\Users\\Diego\\anaconda3\\envs\\animaciones\\lib\\site-packages\\manim\\scene\\scene.py\" target=\"_blank\"><span style=\"color: #7f7f7f; text-decoration-color: #7f7f7f\">scene.py</span></a><span style=\"color: #7f7f7f; text-decoration-color: #7f7f7f\">:</span><a href=\"file://C:\\Users\\Diego\\anaconda3\\envs\\animaciones\\lib\\site-packages\\manim\\scene\\scene.py#1044\" target=\"_blank\"><span style=\"color: #7f7f7f; text-decoration-color: #7f7f7f\">1044</span></a>\n",
       "<span style=\"color: #7fbfbf; text-decoration-color: #7fbfbf\">                    </span>         too short for the current frame rate of <span style=\"color: #008000; text-decoration-color: #008000\">15</span> FPS. <span style=\"color: #808000; text-decoration-color: #808000; font-weight: bold\">Rendering</span> with the       <span style=\"color: #7f7f7f; text-decoration-color: #7f7f7f\">             </span>\n",
       "<span style=\"color: #7fbfbf; text-decoration-color: #7fbfbf\">                    </span>         shortest possible total run_time of <span style=\"color: #008000; text-decoration-color: #008000\">0.0666667</span> seconds instead.           <span style=\"color: #7f7f7f; text-decoration-color: #7f7f7f\">             </span>\n",
       "</pre>\n"
      ],
      "text/plain": [
       "\u001b[2;36m                   \u001b[0m\u001b[2;36m \u001b[0m\u001b[31mWARNING \u001b[0m The original total run_time of \u001b[1;35mVibracionNatural.play\u001b[0m\u001b[1m(\u001b[0m\u001b[1m)\u001b[0m, \u001b[32m0.05\u001b[0m seconds, is \u001b]8;id=467004;file://C:\\Users\\Diego\\anaconda3\\envs\\animaciones\\lib\\site-packages\\manim\\scene\\scene.py\u001b\\\u001b[2mscene.py\u001b[0m\u001b]8;;\u001b\\\u001b[2m:\u001b[0m\u001b]8;id=18966;file://C:\\Users\\Diego\\anaconda3\\envs\\animaciones\\lib\\site-packages\\manim\\scene\\scene.py#1044\u001b\\\u001b[2m1044\u001b[0m\u001b]8;;\u001b\\\n",
       "\u001b[2;36m                    \u001b[0m         too short for the current frame rate of \u001b[32m15\u001b[0m FPS. \u001b[1;33mRendering\u001b[0m with the       \u001b[2m             \u001b[0m\n",
       "\u001b[2;36m                    \u001b[0m         shortest possible total run_time of \u001b[32m0.0666667\u001b[0m seconds instead.           \u001b[2m             \u001b[0m\n"
      ]
     },
     "metadata": {},
     "output_type": "display_data"
    },
    {
     "name": "stderr",
     "output_type": "stream",
     "text": [
      "                                                                                                                       "
     ]
    },
    {
     "data": {
      "text/html": [
       "<pre style=\"white-space:pre;overflow-x:auto;line-height:normal;font-family:Menlo,'DejaVu Sans Mono',consolas,'Courier New',monospace\"><span style=\"color: #7fbfbf; text-decoration-color: #7fbfbf\">                    </span><span style=\"color: #800000; text-decoration-color: #800000\">WARNING </span> The original total run_time of <span style=\"color: #800080; text-decoration-color: #800080; font-weight: bold\">VibracionNatural.play</span><span style=\"font-weight: bold\">()</span>, <span style=\"color: #008000; text-decoration-color: #008000\">0.05</span> seconds, is <a href=\"file://C:\\Users\\Diego\\anaconda3\\envs\\animaciones\\lib\\site-packages\\manim\\scene\\scene.py\" target=\"_blank\"><span style=\"color: #7f7f7f; text-decoration-color: #7f7f7f\">scene.py</span></a><span style=\"color: #7f7f7f; text-decoration-color: #7f7f7f\">:</span><a href=\"file://C:\\Users\\Diego\\anaconda3\\envs\\animaciones\\lib\\site-packages\\manim\\scene\\scene.py#1044\" target=\"_blank\"><span style=\"color: #7f7f7f; text-decoration-color: #7f7f7f\">1044</span></a>\n",
       "<span style=\"color: #7fbfbf; text-decoration-color: #7fbfbf\">                    </span>         too short for the current frame rate of <span style=\"color: #008000; text-decoration-color: #008000\">15</span> FPS. <span style=\"color: #808000; text-decoration-color: #808000; font-weight: bold\">Rendering</span> with the       <span style=\"color: #7f7f7f; text-decoration-color: #7f7f7f\">             </span>\n",
       "<span style=\"color: #7fbfbf; text-decoration-color: #7fbfbf\">                    </span>         shortest possible total run_time of <span style=\"color: #008000; text-decoration-color: #008000\">0.0666667</span> seconds instead.           <span style=\"color: #7f7f7f; text-decoration-color: #7f7f7f\">             </span>\n",
       "</pre>\n"
      ],
      "text/plain": [
       "\u001b[2;36m                   \u001b[0m\u001b[2;36m \u001b[0m\u001b[31mWARNING \u001b[0m The original total run_time of \u001b[1;35mVibracionNatural.play\u001b[0m\u001b[1m(\u001b[0m\u001b[1m)\u001b[0m, \u001b[32m0.05\u001b[0m seconds, is \u001b]8;id=361013;file://C:\\Users\\Diego\\anaconda3\\envs\\animaciones\\lib\\site-packages\\manim\\scene\\scene.py\u001b\\\u001b[2mscene.py\u001b[0m\u001b]8;;\u001b\\\u001b[2m:\u001b[0m\u001b]8;id=528921;file://C:\\Users\\Diego\\anaconda3\\envs\\animaciones\\lib\\site-packages\\manim\\scene\\scene.py#1044\u001b\\\u001b[2m1044\u001b[0m\u001b]8;;\u001b\\\n",
       "\u001b[2;36m                    \u001b[0m         too short for the current frame rate of \u001b[32m15\u001b[0m FPS. \u001b[1;33mRendering\u001b[0m with the       \u001b[2m             \u001b[0m\n",
       "\u001b[2;36m                    \u001b[0m         shortest possible total run_time of \u001b[32m0.0666667\u001b[0m seconds instead.           \u001b[2m             \u001b[0m\n"
      ]
     },
     "metadata": {},
     "output_type": "display_data"
    },
    {
     "data": {
      "text/html": [
       "<pre style=\"white-space:pre;overflow-x:auto;line-height:normal;font-family:Menlo,'DejaVu Sans Mono',consolas,'Courier New',monospace\"><span style=\"color: #7fbfbf; text-decoration-color: #7fbfbf\">                    </span><span style=\"color: #800000; text-decoration-color: #800000\">WARNING </span> The original total run_time of <span style=\"color: #800080; text-decoration-color: #800080; font-weight: bold\">VibracionNatural.play</span><span style=\"font-weight: bold\">()</span>, <span style=\"color: #008000; text-decoration-color: #008000\">0.05</span> seconds, is <a href=\"file://C:\\Users\\Diego\\anaconda3\\envs\\animaciones\\lib\\site-packages\\manim\\scene\\scene.py\" target=\"_blank\"><span style=\"color: #7f7f7f; text-decoration-color: #7f7f7f\">scene.py</span></a><span style=\"color: #7f7f7f; text-decoration-color: #7f7f7f\">:</span><a href=\"file://C:\\Users\\Diego\\anaconda3\\envs\\animaciones\\lib\\site-packages\\manim\\scene\\scene.py#1044\" target=\"_blank\"><span style=\"color: #7f7f7f; text-decoration-color: #7f7f7f\">1044</span></a>\n",
       "<span style=\"color: #7fbfbf; text-decoration-color: #7fbfbf\">                    </span>         too short for the current frame rate of <span style=\"color: #008000; text-decoration-color: #008000\">15</span> FPS. <span style=\"color: #808000; text-decoration-color: #808000; font-weight: bold\">Rendering</span> with the       <span style=\"color: #7f7f7f; text-decoration-color: #7f7f7f\">             </span>\n",
       "<span style=\"color: #7fbfbf; text-decoration-color: #7fbfbf\">                    </span>         shortest possible total run_time of <span style=\"color: #008000; text-decoration-color: #008000\">0.0666667</span> seconds instead.           <span style=\"color: #7f7f7f; text-decoration-color: #7f7f7f\">             </span>\n",
       "</pre>\n"
      ],
      "text/plain": [
       "\u001b[2;36m                   \u001b[0m\u001b[2;36m \u001b[0m\u001b[31mWARNING \u001b[0m The original total run_time of \u001b[1;35mVibracionNatural.play\u001b[0m\u001b[1m(\u001b[0m\u001b[1m)\u001b[0m, \u001b[32m0.05\u001b[0m seconds, is \u001b]8;id=984059;file://C:\\Users\\Diego\\anaconda3\\envs\\animaciones\\lib\\site-packages\\manim\\scene\\scene.py\u001b\\\u001b[2mscene.py\u001b[0m\u001b]8;;\u001b\\\u001b[2m:\u001b[0m\u001b]8;id=935440;file://C:\\Users\\Diego\\anaconda3\\envs\\animaciones\\lib\\site-packages\\manim\\scene\\scene.py#1044\u001b\\\u001b[2m1044\u001b[0m\u001b]8;;\u001b\\\n",
       "\u001b[2;36m                    \u001b[0m         too short for the current frame rate of \u001b[32m15\u001b[0m FPS. \u001b[1;33mRendering\u001b[0m with the       \u001b[2m             \u001b[0m\n",
       "\u001b[2;36m                    \u001b[0m         shortest possible total run_time of \u001b[32m0.0666667\u001b[0m seconds instead.           \u001b[2m             \u001b[0m\n"
      ]
     },
     "metadata": {},
     "output_type": "display_data"
    },
    {
     "name": "stderr",
     "output_type": "stream",
     "text": [
      "                                                                                                                       "
     ]
    },
    {
     "data": {
      "text/html": [
       "<pre style=\"white-space:pre;overflow-x:auto;line-height:normal;font-family:Menlo,'DejaVu Sans Mono',consolas,'Courier New',monospace\"><span style=\"color: #7fbfbf; text-decoration-color: #7fbfbf\">                    </span><span style=\"color: #800000; text-decoration-color: #800000\">WARNING </span> The original total run_time of <span style=\"color: #800080; text-decoration-color: #800080; font-weight: bold\">VibracionNatural.play</span><span style=\"font-weight: bold\">()</span>, <span style=\"color: #008000; text-decoration-color: #008000\">0.05</span> seconds, is <a href=\"file://C:\\Users\\Diego\\anaconda3\\envs\\animaciones\\lib\\site-packages\\manim\\scene\\scene.py\" target=\"_blank\"><span style=\"color: #7f7f7f; text-decoration-color: #7f7f7f\">scene.py</span></a><span style=\"color: #7f7f7f; text-decoration-color: #7f7f7f\">:</span><a href=\"file://C:\\Users\\Diego\\anaconda3\\envs\\animaciones\\lib\\site-packages\\manim\\scene\\scene.py#1044\" target=\"_blank\"><span style=\"color: #7f7f7f; text-decoration-color: #7f7f7f\">1044</span></a>\n",
       "<span style=\"color: #7fbfbf; text-decoration-color: #7fbfbf\">                    </span>         too short for the current frame rate of <span style=\"color: #008000; text-decoration-color: #008000\">15</span> FPS. <span style=\"color: #808000; text-decoration-color: #808000; font-weight: bold\">Rendering</span> with the       <span style=\"color: #7f7f7f; text-decoration-color: #7f7f7f\">             </span>\n",
       "<span style=\"color: #7fbfbf; text-decoration-color: #7fbfbf\">                    </span>         shortest possible total run_time of <span style=\"color: #008000; text-decoration-color: #008000\">0.0666667</span> seconds instead.           <span style=\"color: #7f7f7f; text-decoration-color: #7f7f7f\">             </span>\n",
       "</pre>\n"
      ],
      "text/plain": [
       "\u001b[2;36m                   \u001b[0m\u001b[2;36m \u001b[0m\u001b[31mWARNING \u001b[0m The original total run_time of \u001b[1;35mVibracionNatural.play\u001b[0m\u001b[1m(\u001b[0m\u001b[1m)\u001b[0m, \u001b[32m0.05\u001b[0m seconds, is \u001b]8;id=285353;file://C:\\Users\\Diego\\anaconda3\\envs\\animaciones\\lib\\site-packages\\manim\\scene\\scene.py\u001b\\\u001b[2mscene.py\u001b[0m\u001b]8;;\u001b\\\u001b[2m:\u001b[0m\u001b]8;id=199047;file://C:\\Users\\Diego\\anaconda3\\envs\\animaciones\\lib\\site-packages\\manim\\scene\\scene.py#1044\u001b\\\u001b[2m1044\u001b[0m\u001b]8;;\u001b\\\n",
       "\u001b[2;36m                    \u001b[0m         too short for the current frame rate of \u001b[32m15\u001b[0m FPS. \u001b[1;33mRendering\u001b[0m with the       \u001b[2m             \u001b[0m\n",
       "\u001b[2;36m                    \u001b[0m         shortest possible total run_time of \u001b[32m0.0666667\u001b[0m seconds instead.           \u001b[2m             \u001b[0m\n"
      ]
     },
     "metadata": {},
     "output_type": "display_data"
    },
    {
     "data": {
      "text/html": [
       "<pre style=\"white-space:pre;overflow-x:auto;line-height:normal;font-family:Menlo,'DejaVu Sans Mono',consolas,'Courier New',monospace\"><span style=\"color: #7fbfbf; text-decoration-color: #7fbfbf\">                    </span><span style=\"color: #800000; text-decoration-color: #800000\">WARNING </span> The original total run_time of <span style=\"color: #800080; text-decoration-color: #800080; font-weight: bold\">VibracionNatural.play</span><span style=\"font-weight: bold\">()</span>, <span style=\"color: #008000; text-decoration-color: #008000\">0.05</span> seconds, is <a href=\"file://C:\\Users\\Diego\\anaconda3\\envs\\animaciones\\lib\\site-packages\\manim\\scene\\scene.py\" target=\"_blank\"><span style=\"color: #7f7f7f; text-decoration-color: #7f7f7f\">scene.py</span></a><span style=\"color: #7f7f7f; text-decoration-color: #7f7f7f\">:</span><a href=\"file://C:\\Users\\Diego\\anaconda3\\envs\\animaciones\\lib\\site-packages\\manim\\scene\\scene.py#1044\" target=\"_blank\"><span style=\"color: #7f7f7f; text-decoration-color: #7f7f7f\">1044</span></a>\n",
       "<span style=\"color: #7fbfbf; text-decoration-color: #7fbfbf\">                    </span>         too short for the current frame rate of <span style=\"color: #008000; text-decoration-color: #008000\">15</span> FPS. <span style=\"color: #808000; text-decoration-color: #808000; font-weight: bold\">Rendering</span> with the       <span style=\"color: #7f7f7f; text-decoration-color: #7f7f7f\">             </span>\n",
       "<span style=\"color: #7fbfbf; text-decoration-color: #7fbfbf\">                    </span>         shortest possible total run_time of <span style=\"color: #008000; text-decoration-color: #008000\">0.0666667</span> seconds instead.           <span style=\"color: #7f7f7f; text-decoration-color: #7f7f7f\">             </span>\n",
       "</pre>\n"
      ],
      "text/plain": [
       "\u001b[2;36m                   \u001b[0m\u001b[2;36m \u001b[0m\u001b[31mWARNING \u001b[0m The original total run_time of \u001b[1;35mVibracionNatural.play\u001b[0m\u001b[1m(\u001b[0m\u001b[1m)\u001b[0m, \u001b[32m0.05\u001b[0m seconds, is \u001b]8;id=229708;file://C:\\Users\\Diego\\anaconda3\\envs\\animaciones\\lib\\site-packages\\manim\\scene\\scene.py\u001b\\\u001b[2mscene.py\u001b[0m\u001b]8;;\u001b\\\u001b[2m:\u001b[0m\u001b]8;id=623364;file://C:\\Users\\Diego\\anaconda3\\envs\\animaciones\\lib\\site-packages\\manim\\scene\\scene.py#1044\u001b\\\u001b[2m1044\u001b[0m\u001b]8;;\u001b\\\n",
       "\u001b[2;36m                    \u001b[0m         too short for the current frame rate of \u001b[32m15\u001b[0m FPS. \u001b[1;33mRendering\u001b[0m with the       \u001b[2m             \u001b[0m\n",
       "\u001b[2;36m                    \u001b[0m         shortest possible total run_time of \u001b[32m0.0666667\u001b[0m seconds instead.           \u001b[2m             \u001b[0m\n"
      ]
     },
     "metadata": {},
     "output_type": "display_data"
    },
    {
     "name": "stderr",
     "output_type": "stream",
     "text": [
      "                                                                                                                       "
     ]
    },
    {
     "data": {
      "text/html": [
       "<pre style=\"white-space:pre;overflow-x:auto;line-height:normal;font-family:Menlo,'DejaVu Sans Mono',consolas,'Courier New',monospace\"><span style=\"color: #7fbfbf; text-decoration-color: #7fbfbf\">                    </span><span style=\"color: #800000; text-decoration-color: #800000\">WARNING </span> The original total run_time of <span style=\"color: #800080; text-decoration-color: #800080; font-weight: bold\">VibracionNatural.play</span><span style=\"font-weight: bold\">()</span>, <span style=\"color: #008000; text-decoration-color: #008000\">0.05</span> seconds, is <a href=\"file://C:\\Users\\Diego\\anaconda3\\envs\\animaciones\\lib\\site-packages\\manim\\scene\\scene.py\" target=\"_blank\"><span style=\"color: #7f7f7f; text-decoration-color: #7f7f7f\">scene.py</span></a><span style=\"color: #7f7f7f; text-decoration-color: #7f7f7f\">:</span><a href=\"file://C:\\Users\\Diego\\anaconda3\\envs\\animaciones\\lib\\site-packages\\manim\\scene\\scene.py#1044\" target=\"_blank\"><span style=\"color: #7f7f7f; text-decoration-color: #7f7f7f\">1044</span></a>\n",
       "<span style=\"color: #7fbfbf; text-decoration-color: #7fbfbf\">                    </span>         too short for the current frame rate of <span style=\"color: #008000; text-decoration-color: #008000\">15</span> FPS. <span style=\"color: #808000; text-decoration-color: #808000; font-weight: bold\">Rendering</span> with the       <span style=\"color: #7f7f7f; text-decoration-color: #7f7f7f\">             </span>\n",
       "<span style=\"color: #7fbfbf; text-decoration-color: #7fbfbf\">                    </span>         shortest possible total run_time of <span style=\"color: #008000; text-decoration-color: #008000\">0.0666667</span> seconds instead.           <span style=\"color: #7f7f7f; text-decoration-color: #7f7f7f\">             </span>\n",
       "</pre>\n"
      ],
      "text/plain": [
       "\u001b[2;36m                   \u001b[0m\u001b[2;36m \u001b[0m\u001b[31mWARNING \u001b[0m The original total run_time of \u001b[1;35mVibracionNatural.play\u001b[0m\u001b[1m(\u001b[0m\u001b[1m)\u001b[0m, \u001b[32m0.05\u001b[0m seconds, is \u001b]8;id=106319;file://C:\\Users\\Diego\\anaconda3\\envs\\animaciones\\lib\\site-packages\\manim\\scene\\scene.py\u001b\\\u001b[2mscene.py\u001b[0m\u001b]8;;\u001b\\\u001b[2m:\u001b[0m\u001b]8;id=527938;file://C:\\Users\\Diego\\anaconda3\\envs\\animaciones\\lib\\site-packages\\manim\\scene\\scene.py#1044\u001b\\\u001b[2m1044\u001b[0m\u001b]8;;\u001b\\\n",
       "\u001b[2;36m                    \u001b[0m         too short for the current frame rate of \u001b[32m15\u001b[0m FPS. \u001b[1;33mRendering\u001b[0m with the       \u001b[2m             \u001b[0m\n",
       "\u001b[2;36m                    \u001b[0m         shortest possible total run_time of \u001b[32m0.0666667\u001b[0m seconds instead.           \u001b[2m             \u001b[0m\n"
      ]
     },
     "metadata": {},
     "output_type": "display_data"
    },
    {
     "data": {
      "text/html": [
       "<pre style=\"white-space:pre;overflow-x:auto;line-height:normal;font-family:Menlo,'DejaVu Sans Mono',consolas,'Courier New',monospace\"><span style=\"color: #7fbfbf; text-decoration-color: #7fbfbf\">                    </span><span style=\"color: #800000; text-decoration-color: #800000\">WARNING </span> The original total run_time of <span style=\"color: #800080; text-decoration-color: #800080; font-weight: bold\">VibracionNatural.play</span><span style=\"font-weight: bold\">()</span>, <span style=\"color: #008000; text-decoration-color: #008000\">0.05</span> seconds, is <a href=\"file://C:\\Users\\Diego\\anaconda3\\envs\\animaciones\\lib\\site-packages\\manim\\scene\\scene.py\" target=\"_blank\"><span style=\"color: #7f7f7f; text-decoration-color: #7f7f7f\">scene.py</span></a><span style=\"color: #7f7f7f; text-decoration-color: #7f7f7f\">:</span><a href=\"file://C:\\Users\\Diego\\anaconda3\\envs\\animaciones\\lib\\site-packages\\manim\\scene\\scene.py#1044\" target=\"_blank\"><span style=\"color: #7f7f7f; text-decoration-color: #7f7f7f\">1044</span></a>\n",
       "<span style=\"color: #7fbfbf; text-decoration-color: #7fbfbf\">                    </span>         too short for the current frame rate of <span style=\"color: #008000; text-decoration-color: #008000\">15</span> FPS. <span style=\"color: #808000; text-decoration-color: #808000; font-weight: bold\">Rendering</span> with the       <span style=\"color: #7f7f7f; text-decoration-color: #7f7f7f\">             </span>\n",
       "<span style=\"color: #7fbfbf; text-decoration-color: #7fbfbf\">                    </span>         shortest possible total run_time of <span style=\"color: #008000; text-decoration-color: #008000\">0.0666667</span> seconds instead.           <span style=\"color: #7f7f7f; text-decoration-color: #7f7f7f\">             </span>\n",
       "</pre>\n"
      ],
      "text/plain": [
       "\u001b[2;36m                   \u001b[0m\u001b[2;36m \u001b[0m\u001b[31mWARNING \u001b[0m The original total run_time of \u001b[1;35mVibracionNatural.play\u001b[0m\u001b[1m(\u001b[0m\u001b[1m)\u001b[0m, \u001b[32m0.05\u001b[0m seconds, is \u001b]8;id=520270;file://C:\\Users\\Diego\\anaconda3\\envs\\animaciones\\lib\\site-packages\\manim\\scene\\scene.py\u001b\\\u001b[2mscene.py\u001b[0m\u001b]8;;\u001b\\\u001b[2m:\u001b[0m\u001b]8;id=639090;file://C:\\Users\\Diego\\anaconda3\\envs\\animaciones\\lib\\site-packages\\manim\\scene\\scene.py#1044\u001b\\\u001b[2m1044\u001b[0m\u001b]8;;\u001b\\\n",
       "\u001b[2;36m                    \u001b[0m         too short for the current frame rate of \u001b[32m15\u001b[0m FPS. \u001b[1;33mRendering\u001b[0m with the       \u001b[2m             \u001b[0m\n",
       "\u001b[2;36m                    \u001b[0m         shortest possible total run_time of \u001b[32m0.0666667\u001b[0m seconds instead.           \u001b[2m             \u001b[0m\n"
      ]
     },
     "metadata": {},
     "output_type": "display_data"
    },
    {
     "name": "stderr",
     "output_type": "stream",
     "text": [
      "                                                                                                                       "
     ]
    },
    {
     "data": {
      "text/html": [
       "<pre style=\"white-space:pre;overflow-x:auto;line-height:normal;font-family:Menlo,'DejaVu Sans Mono',consolas,'Courier New',monospace\"><span style=\"color: #7fbfbf; text-decoration-color: #7fbfbf\">                    </span><span style=\"color: #800000; text-decoration-color: #800000\">WARNING </span> The original total run_time of <span style=\"color: #800080; text-decoration-color: #800080; font-weight: bold\">VibracionNatural.play</span><span style=\"font-weight: bold\">()</span>, <span style=\"color: #008000; text-decoration-color: #008000\">0.05</span> seconds, is <a href=\"file://C:\\Users\\Diego\\anaconda3\\envs\\animaciones\\lib\\site-packages\\manim\\scene\\scene.py\" target=\"_blank\"><span style=\"color: #7f7f7f; text-decoration-color: #7f7f7f\">scene.py</span></a><span style=\"color: #7f7f7f; text-decoration-color: #7f7f7f\">:</span><a href=\"file://C:\\Users\\Diego\\anaconda3\\envs\\animaciones\\lib\\site-packages\\manim\\scene\\scene.py#1044\" target=\"_blank\"><span style=\"color: #7f7f7f; text-decoration-color: #7f7f7f\">1044</span></a>\n",
       "<span style=\"color: #7fbfbf; text-decoration-color: #7fbfbf\">                    </span>         too short for the current frame rate of <span style=\"color: #008000; text-decoration-color: #008000\">15</span> FPS. <span style=\"color: #808000; text-decoration-color: #808000; font-weight: bold\">Rendering</span> with the       <span style=\"color: #7f7f7f; text-decoration-color: #7f7f7f\">             </span>\n",
       "<span style=\"color: #7fbfbf; text-decoration-color: #7fbfbf\">                    </span>         shortest possible total run_time of <span style=\"color: #008000; text-decoration-color: #008000\">0.0666667</span> seconds instead.           <span style=\"color: #7f7f7f; text-decoration-color: #7f7f7f\">             </span>\n",
       "</pre>\n"
      ],
      "text/plain": [
       "\u001b[2;36m                   \u001b[0m\u001b[2;36m \u001b[0m\u001b[31mWARNING \u001b[0m The original total run_time of \u001b[1;35mVibracionNatural.play\u001b[0m\u001b[1m(\u001b[0m\u001b[1m)\u001b[0m, \u001b[32m0.05\u001b[0m seconds, is \u001b]8;id=101102;file://C:\\Users\\Diego\\anaconda3\\envs\\animaciones\\lib\\site-packages\\manim\\scene\\scene.py\u001b\\\u001b[2mscene.py\u001b[0m\u001b]8;;\u001b\\\u001b[2m:\u001b[0m\u001b]8;id=672200;file://C:\\Users\\Diego\\anaconda3\\envs\\animaciones\\lib\\site-packages\\manim\\scene\\scene.py#1044\u001b\\\u001b[2m1044\u001b[0m\u001b]8;;\u001b\\\n",
       "\u001b[2;36m                    \u001b[0m         too short for the current frame rate of \u001b[32m15\u001b[0m FPS. \u001b[1;33mRendering\u001b[0m with the       \u001b[2m             \u001b[0m\n",
       "\u001b[2;36m                    \u001b[0m         shortest possible total run_time of \u001b[32m0.0666667\u001b[0m seconds instead.           \u001b[2m             \u001b[0m\n"
      ]
     },
     "metadata": {},
     "output_type": "display_data"
    },
    {
     "data": {
      "text/html": [
       "<pre style=\"white-space:pre;overflow-x:auto;line-height:normal;font-family:Menlo,'DejaVu Sans Mono',consolas,'Courier New',monospace\"><span style=\"color: #7fbfbf; text-decoration-color: #7fbfbf\">                    </span><span style=\"color: #800000; text-decoration-color: #800000\">WARNING </span> The original total run_time of <span style=\"color: #800080; text-decoration-color: #800080; font-weight: bold\">VibracionNatural.play</span><span style=\"font-weight: bold\">()</span>, <span style=\"color: #008000; text-decoration-color: #008000\">0.05</span> seconds, is <a href=\"file://C:\\Users\\Diego\\anaconda3\\envs\\animaciones\\lib\\site-packages\\manim\\scene\\scene.py\" target=\"_blank\"><span style=\"color: #7f7f7f; text-decoration-color: #7f7f7f\">scene.py</span></a><span style=\"color: #7f7f7f; text-decoration-color: #7f7f7f\">:</span><a href=\"file://C:\\Users\\Diego\\anaconda3\\envs\\animaciones\\lib\\site-packages\\manim\\scene\\scene.py#1044\" target=\"_blank\"><span style=\"color: #7f7f7f; text-decoration-color: #7f7f7f\">1044</span></a>\n",
       "<span style=\"color: #7fbfbf; text-decoration-color: #7fbfbf\">                    </span>         too short for the current frame rate of <span style=\"color: #008000; text-decoration-color: #008000\">15</span> FPS. <span style=\"color: #808000; text-decoration-color: #808000; font-weight: bold\">Rendering</span> with the       <span style=\"color: #7f7f7f; text-decoration-color: #7f7f7f\">             </span>\n",
       "<span style=\"color: #7fbfbf; text-decoration-color: #7fbfbf\">                    </span>         shortest possible total run_time of <span style=\"color: #008000; text-decoration-color: #008000\">0.0666667</span> seconds instead.           <span style=\"color: #7f7f7f; text-decoration-color: #7f7f7f\">             </span>\n",
       "</pre>\n"
      ],
      "text/plain": [
       "\u001b[2;36m                   \u001b[0m\u001b[2;36m \u001b[0m\u001b[31mWARNING \u001b[0m The original total run_time of \u001b[1;35mVibracionNatural.play\u001b[0m\u001b[1m(\u001b[0m\u001b[1m)\u001b[0m, \u001b[32m0.05\u001b[0m seconds, is \u001b]8;id=438415;file://C:\\Users\\Diego\\anaconda3\\envs\\animaciones\\lib\\site-packages\\manim\\scene\\scene.py\u001b\\\u001b[2mscene.py\u001b[0m\u001b]8;;\u001b\\\u001b[2m:\u001b[0m\u001b]8;id=637749;file://C:\\Users\\Diego\\anaconda3\\envs\\animaciones\\lib\\site-packages\\manim\\scene\\scene.py#1044\u001b\\\u001b[2m1044\u001b[0m\u001b]8;;\u001b\\\n",
       "\u001b[2;36m                    \u001b[0m         too short for the current frame rate of \u001b[32m15\u001b[0m FPS. \u001b[1;33mRendering\u001b[0m with the       \u001b[2m             \u001b[0m\n",
       "\u001b[2;36m                    \u001b[0m         shortest possible total run_time of \u001b[32m0.0666667\u001b[0m seconds instead.           \u001b[2m             \u001b[0m\n"
      ]
     },
     "metadata": {},
     "output_type": "display_data"
    },
    {
     "name": "stderr",
     "output_type": "stream",
     "text": [
      "                                                                                                                       "
     ]
    },
    {
     "data": {
      "text/html": [
       "<pre style=\"white-space:pre;overflow-x:auto;line-height:normal;font-family:Menlo,'DejaVu Sans Mono',consolas,'Courier New',monospace\"><span style=\"color: #7fbfbf; text-decoration-color: #7fbfbf\">                    </span><span style=\"color: #800000; text-decoration-color: #800000\">WARNING </span> The original total run_time of <span style=\"color: #800080; text-decoration-color: #800080; font-weight: bold\">VibracionNatural.play</span><span style=\"font-weight: bold\">()</span>, <span style=\"color: #008000; text-decoration-color: #008000\">0.05</span> seconds, is <a href=\"file://C:\\Users\\Diego\\anaconda3\\envs\\animaciones\\lib\\site-packages\\manim\\scene\\scene.py\" target=\"_blank\"><span style=\"color: #7f7f7f; text-decoration-color: #7f7f7f\">scene.py</span></a><span style=\"color: #7f7f7f; text-decoration-color: #7f7f7f\">:</span><a href=\"file://C:\\Users\\Diego\\anaconda3\\envs\\animaciones\\lib\\site-packages\\manim\\scene\\scene.py#1044\" target=\"_blank\"><span style=\"color: #7f7f7f; text-decoration-color: #7f7f7f\">1044</span></a>\n",
       "<span style=\"color: #7fbfbf; text-decoration-color: #7fbfbf\">                    </span>         too short for the current frame rate of <span style=\"color: #008000; text-decoration-color: #008000\">15</span> FPS. <span style=\"color: #808000; text-decoration-color: #808000; font-weight: bold\">Rendering</span> with the       <span style=\"color: #7f7f7f; text-decoration-color: #7f7f7f\">             </span>\n",
       "<span style=\"color: #7fbfbf; text-decoration-color: #7fbfbf\">                    </span>         shortest possible total run_time of <span style=\"color: #008000; text-decoration-color: #008000\">0.0666667</span> seconds instead.           <span style=\"color: #7f7f7f; text-decoration-color: #7f7f7f\">             </span>\n",
       "</pre>\n"
      ],
      "text/plain": [
       "\u001b[2;36m                   \u001b[0m\u001b[2;36m \u001b[0m\u001b[31mWARNING \u001b[0m The original total run_time of \u001b[1;35mVibracionNatural.play\u001b[0m\u001b[1m(\u001b[0m\u001b[1m)\u001b[0m, \u001b[32m0.05\u001b[0m seconds, is \u001b]8;id=79700;file://C:\\Users\\Diego\\anaconda3\\envs\\animaciones\\lib\\site-packages\\manim\\scene\\scene.py\u001b\\\u001b[2mscene.py\u001b[0m\u001b]8;;\u001b\\\u001b[2m:\u001b[0m\u001b]8;id=93373;file://C:\\Users\\Diego\\anaconda3\\envs\\animaciones\\lib\\site-packages\\manim\\scene\\scene.py#1044\u001b\\\u001b[2m1044\u001b[0m\u001b]8;;\u001b\\\n",
       "\u001b[2;36m                    \u001b[0m         too short for the current frame rate of \u001b[32m15\u001b[0m FPS. \u001b[1;33mRendering\u001b[0m with the       \u001b[2m             \u001b[0m\n",
       "\u001b[2;36m                    \u001b[0m         shortest possible total run_time of \u001b[32m0.0666667\u001b[0m seconds instead.           \u001b[2m             \u001b[0m\n"
      ]
     },
     "metadata": {},
     "output_type": "display_data"
    },
    {
     "data": {
      "text/html": [
       "<pre style=\"white-space:pre;overflow-x:auto;line-height:normal;font-family:Menlo,'DejaVu Sans Mono',consolas,'Courier New',monospace\"><span style=\"color: #7fbfbf; text-decoration-color: #7fbfbf\">                    </span><span style=\"color: #800000; text-decoration-color: #800000\">WARNING </span> The original total run_time of <span style=\"color: #800080; text-decoration-color: #800080; font-weight: bold\">VibracionNatural.play</span><span style=\"font-weight: bold\">()</span>, <span style=\"color: #008000; text-decoration-color: #008000\">0.05</span> seconds, is <a href=\"file://C:\\Users\\Diego\\anaconda3\\envs\\animaciones\\lib\\site-packages\\manim\\scene\\scene.py\" target=\"_blank\"><span style=\"color: #7f7f7f; text-decoration-color: #7f7f7f\">scene.py</span></a><span style=\"color: #7f7f7f; text-decoration-color: #7f7f7f\">:</span><a href=\"file://C:\\Users\\Diego\\anaconda3\\envs\\animaciones\\lib\\site-packages\\manim\\scene\\scene.py#1044\" target=\"_blank\"><span style=\"color: #7f7f7f; text-decoration-color: #7f7f7f\">1044</span></a>\n",
       "<span style=\"color: #7fbfbf; text-decoration-color: #7fbfbf\">                    </span>         too short for the current frame rate of <span style=\"color: #008000; text-decoration-color: #008000\">15</span> FPS. <span style=\"color: #808000; text-decoration-color: #808000; font-weight: bold\">Rendering</span> with the       <span style=\"color: #7f7f7f; text-decoration-color: #7f7f7f\">             </span>\n",
       "<span style=\"color: #7fbfbf; text-decoration-color: #7fbfbf\">                    </span>         shortest possible total run_time of <span style=\"color: #008000; text-decoration-color: #008000\">0.0666667</span> seconds instead.           <span style=\"color: #7f7f7f; text-decoration-color: #7f7f7f\">             </span>\n",
       "</pre>\n"
      ],
      "text/plain": [
       "\u001b[2;36m                   \u001b[0m\u001b[2;36m \u001b[0m\u001b[31mWARNING \u001b[0m The original total run_time of \u001b[1;35mVibracionNatural.play\u001b[0m\u001b[1m(\u001b[0m\u001b[1m)\u001b[0m, \u001b[32m0.05\u001b[0m seconds, is \u001b]8;id=238672;file://C:\\Users\\Diego\\anaconda3\\envs\\animaciones\\lib\\site-packages\\manim\\scene\\scene.py\u001b\\\u001b[2mscene.py\u001b[0m\u001b]8;;\u001b\\\u001b[2m:\u001b[0m\u001b]8;id=21525;file://C:\\Users\\Diego\\anaconda3\\envs\\animaciones\\lib\\site-packages\\manim\\scene\\scene.py#1044\u001b\\\u001b[2m1044\u001b[0m\u001b]8;;\u001b\\\n",
       "\u001b[2;36m                    \u001b[0m         too short for the current frame rate of \u001b[32m15\u001b[0m FPS. \u001b[1;33mRendering\u001b[0m with the       \u001b[2m             \u001b[0m\n",
       "\u001b[2;36m                    \u001b[0m         shortest possible total run_time of \u001b[32m0.0666667\u001b[0m seconds instead.           \u001b[2m             \u001b[0m\n"
      ]
     },
     "metadata": {},
     "output_type": "display_data"
    },
    {
     "name": "stderr",
     "output_type": "stream",
     "text": [
      "                                                                                                                       "
     ]
    },
    {
     "data": {
      "text/html": [
       "<pre style=\"white-space:pre;overflow-x:auto;line-height:normal;font-family:Menlo,'DejaVu Sans Mono',consolas,'Courier New',monospace\"><span style=\"color: #7fbfbf; text-decoration-color: #7fbfbf\">[04/26/25 22:20:52] </span><span style=\"color: #800000; text-decoration-color: #800000\">WARNING </span> The original total run_time of <span style=\"color: #800080; text-decoration-color: #800080; font-weight: bold\">VibracionNatural.play</span><span style=\"font-weight: bold\">()</span>, <span style=\"color: #008000; text-decoration-color: #008000\">0.05</span> seconds, is <a href=\"file://C:\\Users\\Diego\\anaconda3\\envs\\animaciones\\lib\\site-packages\\manim\\scene\\scene.py\" target=\"_blank\"><span style=\"color: #7f7f7f; text-decoration-color: #7f7f7f\">scene.py</span></a><span style=\"color: #7f7f7f; text-decoration-color: #7f7f7f\">:</span><a href=\"file://C:\\Users\\Diego\\anaconda3\\envs\\animaciones\\lib\\site-packages\\manim\\scene\\scene.py#1044\" target=\"_blank\"><span style=\"color: #7f7f7f; text-decoration-color: #7f7f7f\">1044</span></a>\n",
       "<span style=\"color: #7fbfbf; text-decoration-color: #7fbfbf\">                    </span>         too short for the current frame rate of <span style=\"color: #008000; text-decoration-color: #008000\">15</span> FPS. <span style=\"color: #808000; text-decoration-color: #808000; font-weight: bold\">Rendering</span> with the       <span style=\"color: #7f7f7f; text-decoration-color: #7f7f7f\">             </span>\n",
       "<span style=\"color: #7fbfbf; text-decoration-color: #7fbfbf\">                    </span>         shortest possible total run_time of <span style=\"color: #008000; text-decoration-color: #008000\">0.0666667</span> seconds instead.           <span style=\"color: #7f7f7f; text-decoration-color: #7f7f7f\">             </span>\n",
       "</pre>\n"
      ],
      "text/plain": [
       "\u001b[2;36m[04/26/25 22:20:52]\u001b[0m\u001b[2;36m \u001b[0m\u001b[31mWARNING \u001b[0m The original total run_time of \u001b[1;35mVibracionNatural.play\u001b[0m\u001b[1m(\u001b[0m\u001b[1m)\u001b[0m, \u001b[32m0.05\u001b[0m seconds, is \u001b]8;id=742621;file://C:\\Users\\Diego\\anaconda3\\envs\\animaciones\\lib\\site-packages\\manim\\scene\\scene.py\u001b\\\u001b[2mscene.py\u001b[0m\u001b]8;;\u001b\\\u001b[2m:\u001b[0m\u001b]8;id=27122;file://C:\\Users\\Diego\\anaconda3\\envs\\animaciones\\lib\\site-packages\\manim\\scene\\scene.py#1044\u001b\\\u001b[2m1044\u001b[0m\u001b]8;;\u001b\\\n",
       "\u001b[2;36m                    \u001b[0m         too short for the current frame rate of \u001b[32m15\u001b[0m FPS. \u001b[1;33mRendering\u001b[0m with the       \u001b[2m             \u001b[0m\n",
       "\u001b[2;36m                    \u001b[0m         shortest possible total run_time of \u001b[32m0.0666667\u001b[0m seconds instead.           \u001b[2m             \u001b[0m\n"
      ]
     },
     "metadata": {},
     "output_type": "display_data"
    },
    {
     "data": {
      "text/html": [
       "<pre style=\"white-space:pre;overflow-x:auto;line-height:normal;font-family:Menlo,'DejaVu Sans Mono',consolas,'Courier New',monospace\"><span style=\"color: #7fbfbf; text-decoration-color: #7fbfbf\">                    </span><span style=\"color: #800000; text-decoration-color: #800000\">WARNING </span> The original total run_time of <span style=\"color: #800080; text-decoration-color: #800080; font-weight: bold\">VibracionNatural.play</span><span style=\"font-weight: bold\">()</span>, <span style=\"color: #008000; text-decoration-color: #008000\">0.05</span> seconds, is <a href=\"file://C:\\Users\\Diego\\anaconda3\\envs\\animaciones\\lib\\site-packages\\manim\\scene\\scene.py\" target=\"_blank\"><span style=\"color: #7f7f7f; text-decoration-color: #7f7f7f\">scene.py</span></a><span style=\"color: #7f7f7f; text-decoration-color: #7f7f7f\">:</span><a href=\"file://C:\\Users\\Diego\\anaconda3\\envs\\animaciones\\lib\\site-packages\\manim\\scene\\scene.py#1044\" target=\"_blank\"><span style=\"color: #7f7f7f; text-decoration-color: #7f7f7f\">1044</span></a>\n",
       "<span style=\"color: #7fbfbf; text-decoration-color: #7fbfbf\">                    </span>         too short for the current frame rate of <span style=\"color: #008000; text-decoration-color: #008000\">15</span> FPS. <span style=\"color: #808000; text-decoration-color: #808000; font-weight: bold\">Rendering</span> with the       <span style=\"color: #7f7f7f; text-decoration-color: #7f7f7f\">             </span>\n",
       "<span style=\"color: #7fbfbf; text-decoration-color: #7fbfbf\">                    </span>         shortest possible total run_time of <span style=\"color: #008000; text-decoration-color: #008000\">0.0666667</span> seconds instead.           <span style=\"color: #7f7f7f; text-decoration-color: #7f7f7f\">             </span>\n",
       "</pre>\n"
      ],
      "text/plain": [
       "\u001b[2;36m                   \u001b[0m\u001b[2;36m \u001b[0m\u001b[31mWARNING \u001b[0m The original total run_time of \u001b[1;35mVibracionNatural.play\u001b[0m\u001b[1m(\u001b[0m\u001b[1m)\u001b[0m, \u001b[32m0.05\u001b[0m seconds, is \u001b]8;id=810033;file://C:\\Users\\Diego\\anaconda3\\envs\\animaciones\\lib\\site-packages\\manim\\scene\\scene.py\u001b\\\u001b[2mscene.py\u001b[0m\u001b]8;;\u001b\\\u001b[2m:\u001b[0m\u001b]8;id=143237;file://C:\\Users\\Diego\\anaconda3\\envs\\animaciones\\lib\\site-packages\\manim\\scene\\scene.py#1044\u001b\\\u001b[2m1044\u001b[0m\u001b]8;;\u001b\\\n",
       "\u001b[2;36m                    \u001b[0m         too short for the current frame rate of \u001b[32m15\u001b[0m FPS. \u001b[1;33mRendering\u001b[0m with the       \u001b[2m             \u001b[0m\n",
       "\u001b[2;36m                    \u001b[0m         shortest possible total run_time of \u001b[32m0.0666667\u001b[0m seconds instead.           \u001b[2m             \u001b[0m\n"
      ]
     },
     "metadata": {},
     "output_type": "display_data"
    },
    {
     "name": "stderr",
     "output_type": "stream",
     "text": [
      "                                                                                                                       "
     ]
    },
    {
     "data": {
      "text/html": [
       "<pre style=\"white-space:pre;overflow-x:auto;line-height:normal;font-family:Menlo,'DejaVu Sans Mono',consolas,'Courier New',monospace\"><span style=\"color: #7fbfbf; text-decoration-color: #7fbfbf\">                    </span><span style=\"color: #800000; text-decoration-color: #800000\">WARNING </span> The original total run_time of <span style=\"color: #800080; text-decoration-color: #800080; font-weight: bold\">VibracionNatural.play</span><span style=\"font-weight: bold\">()</span>, <span style=\"color: #008000; text-decoration-color: #008000\">0.05</span> seconds, is <a href=\"file://C:\\Users\\Diego\\anaconda3\\envs\\animaciones\\lib\\site-packages\\manim\\scene\\scene.py\" target=\"_blank\"><span style=\"color: #7f7f7f; text-decoration-color: #7f7f7f\">scene.py</span></a><span style=\"color: #7f7f7f; text-decoration-color: #7f7f7f\">:</span><a href=\"file://C:\\Users\\Diego\\anaconda3\\envs\\animaciones\\lib\\site-packages\\manim\\scene\\scene.py#1044\" target=\"_blank\"><span style=\"color: #7f7f7f; text-decoration-color: #7f7f7f\">1044</span></a>\n",
       "<span style=\"color: #7fbfbf; text-decoration-color: #7fbfbf\">                    </span>         too short for the current frame rate of <span style=\"color: #008000; text-decoration-color: #008000\">15</span> FPS. <span style=\"color: #808000; text-decoration-color: #808000; font-weight: bold\">Rendering</span> with the       <span style=\"color: #7f7f7f; text-decoration-color: #7f7f7f\">             </span>\n",
       "<span style=\"color: #7fbfbf; text-decoration-color: #7fbfbf\">                    </span>         shortest possible total run_time of <span style=\"color: #008000; text-decoration-color: #008000\">0.0666667</span> seconds instead.           <span style=\"color: #7f7f7f; text-decoration-color: #7f7f7f\">             </span>\n",
       "</pre>\n"
      ],
      "text/plain": [
       "\u001b[2;36m                   \u001b[0m\u001b[2;36m \u001b[0m\u001b[31mWARNING \u001b[0m The original total run_time of \u001b[1;35mVibracionNatural.play\u001b[0m\u001b[1m(\u001b[0m\u001b[1m)\u001b[0m, \u001b[32m0.05\u001b[0m seconds, is \u001b]8;id=728488;file://C:\\Users\\Diego\\anaconda3\\envs\\animaciones\\lib\\site-packages\\manim\\scene\\scene.py\u001b\\\u001b[2mscene.py\u001b[0m\u001b]8;;\u001b\\\u001b[2m:\u001b[0m\u001b]8;id=308385;file://C:\\Users\\Diego\\anaconda3\\envs\\animaciones\\lib\\site-packages\\manim\\scene\\scene.py#1044\u001b\\\u001b[2m1044\u001b[0m\u001b]8;;\u001b\\\n",
       "\u001b[2;36m                    \u001b[0m         too short for the current frame rate of \u001b[32m15\u001b[0m FPS. \u001b[1;33mRendering\u001b[0m with the       \u001b[2m             \u001b[0m\n",
       "\u001b[2;36m                    \u001b[0m         shortest possible total run_time of \u001b[32m0.0666667\u001b[0m seconds instead.           \u001b[2m             \u001b[0m\n"
      ]
     },
     "metadata": {},
     "output_type": "display_data"
    },
    {
     "data": {
      "text/html": [
       "<pre style=\"white-space:pre;overflow-x:auto;line-height:normal;font-family:Menlo,'DejaVu Sans Mono',consolas,'Courier New',monospace\"><span style=\"color: #7fbfbf; text-decoration-color: #7fbfbf\">                    </span><span style=\"color: #800000; text-decoration-color: #800000\">WARNING </span> The original total run_time of <span style=\"color: #800080; text-decoration-color: #800080; font-weight: bold\">VibracionNatural.play</span><span style=\"font-weight: bold\">()</span>, <span style=\"color: #008000; text-decoration-color: #008000\">0.05</span> seconds, is <a href=\"file://C:\\Users\\Diego\\anaconda3\\envs\\animaciones\\lib\\site-packages\\manim\\scene\\scene.py\" target=\"_blank\"><span style=\"color: #7f7f7f; text-decoration-color: #7f7f7f\">scene.py</span></a><span style=\"color: #7f7f7f; text-decoration-color: #7f7f7f\">:</span><a href=\"file://C:\\Users\\Diego\\anaconda3\\envs\\animaciones\\lib\\site-packages\\manim\\scene\\scene.py#1044\" target=\"_blank\"><span style=\"color: #7f7f7f; text-decoration-color: #7f7f7f\">1044</span></a>\n",
       "<span style=\"color: #7fbfbf; text-decoration-color: #7fbfbf\">                    </span>         too short for the current frame rate of <span style=\"color: #008000; text-decoration-color: #008000\">15</span> FPS. <span style=\"color: #808000; text-decoration-color: #808000; font-weight: bold\">Rendering</span> with the       <span style=\"color: #7f7f7f; text-decoration-color: #7f7f7f\">             </span>\n",
       "<span style=\"color: #7fbfbf; text-decoration-color: #7fbfbf\">                    </span>         shortest possible total run_time of <span style=\"color: #008000; text-decoration-color: #008000\">0.0666667</span> seconds instead.           <span style=\"color: #7f7f7f; text-decoration-color: #7f7f7f\">             </span>\n",
       "</pre>\n"
      ],
      "text/plain": [
       "\u001b[2;36m                   \u001b[0m\u001b[2;36m \u001b[0m\u001b[31mWARNING \u001b[0m The original total run_time of \u001b[1;35mVibracionNatural.play\u001b[0m\u001b[1m(\u001b[0m\u001b[1m)\u001b[0m, \u001b[32m0.05\u001b[0m seconds, is \u001b]8;id=325783;file://C:\\Users\\Diego\\anaconda3\\envs\\animaciones\\lib\\site-packages\\manim\\scene\\scene.py\u001b\\\u001b[2mscene.py\u001b[0m\u001b]8;;\u001b\\\u001b[2m:\u001b[0m\u001b]8;id=155292;file://C:\\Users\\Diego\\anaconda3\\envs\\animaciones\\lib\\site-packages\\manim\\scene\\scene.py#1044\u001b\\\u001b[2m1044\u001b[0m\u001b]8;;\u001b\\\n",
       "\u001b[2;36m                    \u001b[0m         too short for the current frame rate of \u001b[32m15\u001b[0m FPS. \u001b[1;33mRendering\u001b[0m with the       \u001b[2m             \u001b[0m\n",
       "\u001b[2;36m                    \u001b[0m         shortest possible total run_time of \u001b[32m0.0666667\u001b[0m seconds instead.           \u001b[2m             \u001b[0m\n"
      ]
     },
     "metadata": {},
     "output_type": "display_data"
    },
    {
     "name": "stderr",
     "output_type": "stream",
     "text": [
      "                                                                                                                       "
     ]
    },
    {
     "data": {
      "text/html": [
       "<pre style=\"white-space:pre;overflow-x:auto;line-height:normal;font-family:Menlo,'DejaVu Sans Mono',consolas,'Courier New',monospace\"><span style=\"color: #7fbfbf; text-decoration-color: #7fbfbf\">                    </span><span style=\"color: #800000; text-decoration-color: #800000\">WARNING </span> The original total run_time of <span style=\"color: #800080; text-decoration-color: #800080; font-weight: bold\">VibracionNatural.play</span><span style=\"font-weight: bold\">()</span>, <span style=\"color: #008000; text-decoration-color: #008000\">0.05</span> seconds, is <a href=\"file://C:\\Users\\Diego\\anaconda3\\envs\\animaciones\\lib\\site-packages\\manim\\scene\\scene.py\" target=\"_blank\"><span style=\"color: #7f7f7f; text-decoration-color: #7f7f7f\">scene.py</span></a><span style=\"color: #7f7f7f; text-decoration-color: #7f7f7f\">:</span><a href=\"file://C:\\Users\\Diego\\anaconda3\\envs\\animaciones\\lib\\site-packages\\manim\\scene\\scene.py#1044\" target=\"_blank\"><span style=\"color: #7f7f7f; text-decoration-color: #7f7f7f\">1044</span></a>\n",
       "<span style=\"color: #7fbfbf; text-decoration-color: #7fbfbf\">                    </span>         too short for the current frame rate of <span style=\"color: #008000; text-decoration-color: #008000\">15</span> FPS. <span style=\"color: #808000; text-decoration-color: #808000; font-weight: bold\">Rendering</span> with the       <span style=\"color: #7f7f7f; text-decoration-color: #7f7f7f\">             </span>\n",
       "<span style=\"color: #7fbfbf; text-decoration-color: #7fbfbf\">                    </span>         shortest possible total run_time of <span style=\"color: #008000; text-decoration-color: #008000\">0.0666667</span> seconds instead.           <span style=\"color: #7f7f7f; text-decoration-color: #7f7f7f\">             </span>\n",
       "</pre>\n"
      ],
      "text/plain": [
       "\u001b[2;36m                   \u001b[0m\u001b[2;36m \u001b[0m\u001b[31mWARNING \u001b[0m The original total run_time of \u001b[1;35mVibracionNatural.play\u001b[0m\u001b[1m(\u001b[0m\u001b[1m)\u001b[0m, \u001b[32m0.05\u001b[0m seconds, is \u001b]8;id=501761;file://C:\\Users\\Diego\\anaconda3\\envs\\animaciones\\lib\\site-packages\\manim\\scene\\scene.py\u001b\\\u001b[2mscene.py\u001b[0m\u001b]8;;\u001b\\\u001b[2m:\u001b[0m\u001b]8;id=955812;file://C:\\Users\\Diego\\anaconda3\\envs\\animaciones\\lib\\site-packages\\manim\\scene\\scene.py#1044\u001b\\\u001b[2m1044\u001b[0m\u001b]8;;\u001b\\\n",
       "\u001b[2;36m                    \u001b[0m         too short for the current frame rate of \u001b[32m15\u001b[0m FPS. \u001b[1;33mRendering\u001b[0m with the       \u001b[2m             \u001b[0m\n",
       "\u001b[2;36m                    \u001b[0m         shortest possible total run_time of \u001b[32m0.0666667\u001b[0m seconds instead.           \u001b[2m             \u001b[0m\n"
      ]
     },
     "metadata": {},
     "output_type": "display_data"
    },
    {
     "data": {
      "text/html": [
       "<pre style=\"white-space:pre;overflow-x:auto;line-height:normal;font-family:Menlo,'DejaVu Sans Mono',consolas,'Courier New',monospace\"><span style=\"color: #7fbfbf; text-decoration-color: #7fbfbf\">                    </span><span style=\"color: #800000; text-decoration-color: #800000\">WARNING </span> The original total run_time of <span style=\"color: #800080; text-decoration-color: #800080; font-weight: bold\">VibracionNatural.play</span><span style=\"font-weight: bold\">()</span>, <span style=\"color: #008000; text-decoration-color: #008000\">0.05</span> seconds, is <a href=\"file://C:\\Users\\Diego\\anaconda3\\envs\\animaciones\\lib\\site-packages\\manim\\scene\\scene.py\" target=\"_blank\"><span style=\"color: #7f7f7f; text-decoration-color: #7f7f7f\">scene.py</span></a><span style=\"color: #7f7f7f; text-decoration-color: #7f7f7f\">:</span><a href=\"file://C:\\Users\\Diego\\anaconda3\\envs\\animaciones\\lib\\site-packages\\manim\\scene\\scene.py#1044\" target=\"_blank\"><span style=\"color: #7f7f7f; text-decoration-color: #7f7f7f\">1044</span></a>\n",
       "<span style=\"color: #7fbfbf; text-decoration-color: #7fbfbf\">                    </span>         too short for the current frame rate of <span style=\"color: #008000; text-decoration-color: #008000\">15</span> FPS. <span style=\"color: #808000; text-decoration-color: #808000; font-weight: bold\">Rendering</span> with the       <span style=\"color: #7f7f7f; text-decoration-color: #7f7f7f\">             </span>\n",
       "<span style=\"color: #7fbfbf; text-decoration-color: #7fbfbf\">                    </span>         shortest possible total run_time of <span style=\"color: #008000; text-decoration-color: #008000\">0.0666667</span> seconds instead.           <span style=\"color: #7f7f7f; text-decoration-color: #7f7f7f\">             </span>\n",
       "</pre>\n"
      ],
      "text/plain": [
       "\u001b[2;36m                   \u001b[0m\u001b[2;36m \u001b[0m\u001b[31mWARNING \u001b[0m The original total run_time of \u001b[1;35mVibracionNatural.play\u001b[0m\u001b[1m(\u001b[0m\u001b[1m)\u001b[0m, \u001b[32m0.05\u001b[0m seconds, is \u001b]8;id=976247;file://C:\\Users\\Diego\\anaconda3\\envs\\animaciones\\lib\\site-packages\\manim\\scene\\scene.py\u001b\\\u001b[2mscene.py\u001b[0m\u001b]8;;\u001b\\\u001b[2m:\u001b[0m\u001b]8;id=733151;file://C:\\Users\\Diego\\anaconda3\\envs\\animaciones\\lib\\site-packages\\manim\\scene\\scene.py#1044\u001b\\\u001b[2m1044\u001b[0m\u001b]8;;\u001b\\\n",
       "\u001b[2;36m                    \u001b[0m         too short for the current frame rate of \u001b[32m15\u001b[0m FPS. \u001b[1;33mRendering\u001b[0m with the       \u001b[2m             \u001b[0m\n",
       "\u001b[2;36m                    \u001b[0m         shortest possible total run_time of \u001b[32m0.0666667\u001b[0m seconds instead.           \u001b[2m             \u001b[0m\n"
      ]
     },
     "metadata": {},
     "output_type": "display_data"
    },
    {
     "name": "stderr",
     "output_type": "stream",
     "text": [
      "                                                                                                                       "
     ]
    },
    {
     "data": {
      "text/html": [
       "<pre style=\"white-space:pre;overflow-x:auto;line-height:normal;font-family:Menlo,'DejaVu Sans Mono',consolas,'Courier New',monospace\"><span style=\"color: #7fbfbf; text-decoration-color: #7fbfbf\">[04/26/25 22:20:53] </span><span style=\"color: #800000; text-decoration-color: #800000\">WARNING </span> The original total run_time of <span style=\"color: #800080; text-decoration-color: #800080; font-weight: bold\">VibracionNatural.play</span><span style=\"font-weight: bold\">()</span>, <span style=\"color: #008000; text-decoration-color: #008000\">0.05</span> seconds, is <a href=\"file://C:\\Users\\Diego\\anaconda3\\envs\\animaciones\\lib\\site-packages\\manim\\scene\\scene.py\" target=\"_blank\"><span style=\"color: #7f7f7f; text-decoration-color: #7f7f7f\">scene.py</span></a><span style=\"color: #7f7f7f; text-decoration-color: #7f7f7f\">:</span><a href=\"file://C:\\Users\\Diego\\anaconda3\\envs\\animaciones\\lib\\site-packages\\manim\\scene\\scene.py#1044\" target=\"_blank\"><span style=\"color: #7f7f7f; text-decoration-color: #7f7f7f\">1044</span></a>\n",
       "<span style=\"color: #7fbfbf; text-decoration-color: #7fbfbf\">                    </span>         too short for the current frame rate of <span style=\"color: #008000; text-decoration-color: #008000\">15</span> FPS. <span style=\"color: #808000; text-decoration-color: #808000; font-weight: bold\">Rendering</span> with the       <span style=\"color: #7f7f7f; text-decoration-color: #7f7f7f\">             </span>\n",
       "<span style=\"color: #7fbfbf; text-decoration-color: #7fbfbf\">                    </span>         shortest possible total run_time of <span style=\"color: #008000; text-decoration-color: #008000\">0.0666667</span> seconds instead.           <span style=\"color: #7f7f7f; text-decoration-color: #7f7f7f\">             </span>\n",
       "</pre>\n"
      ],
      "text/plain": [
       "\u001b[2;36m[04/26/25 22:20:53]\u001b[0m\u001b[2;36m \u001b[0m\u001b[31mWARNING \u001b[0m The original total run_time of \u001b[1;35mVibracionNatural.play\u001b[0m\u001b[1m(\u001b[0m\u001b[1m)\u001b[0m, \u001b[32m0.05\u001b[0m seconds, is \u001b]8;id=444690;file://C:\\Users\\Diego\\anaconda3\\envs\\animaciones\\lib\\site-packages\\manim\\scene\\scene.py\u001b\\\u001b[2mscene.py\u001b[0m\u001b]8;;\u001b\\\u001b[2m:\u001b[0m\u001b]8;id=610998;file://C:\\Users\\Diego\\anaconda3\\envs\\animaciones\\lib\\site-packages\\manim\\scene\\scene.py#1044\u001b\\\u001b[2m1044\u001b[0m\u001b]8;;\u001b\\\n",
       "\u001b[2;36m                    \u001b[0m         too short for the current frame rate of \u001b[32m15\u001b[0m FPS. \u001b[1;33mRendering\u001b[0m with the       \u001b[2m             \u001b[0m\n",
       "\u001b[2;36m                    \u001b[0m         shortest possible total run_time of \u001b[32m0.0666667\u001b[0m seconds instead.           \u001b[2m             \u001b[0m\n"
      ]
     },
     "metadata": {},
     "output_type": "display_data"
    },
    {
     "data": {
      "text/html": [
       "<pre style=\"white-space:pre;overflow-x:auto;line-height:normal;font-family:Menlo,'DejaVu Sans Mono',consolas,'Courier New',monospace\"><span style=\"color: #7fbfbf; text-decoration-color: #7fbfbf\">                    </span><span style=\"color: #800000; text-decoration-color: #800000\">WARNING </span> The original total run_time of <span style=\"color: #800080; text-decoration-color: #800080; font-weight: bold\">VibracionNatural.play</span><span style=\"font-weight: bold\">()</span>, <span style=\"color: #008000; text-decoration-color: #008000\">0.05</span> seconds, is <a href=\"file://C:\\Users\\Diego\\anaconda3\\envs\\animaciones\\lib\\site-packages\\manim\\scene\\scene.py\" target=\"_blank\"><span style=\"color: #7f7f7f; text-decoration-color: #7f7f7f\">scene.py</span></a><span style=\"color: #7f7f7f; text-decoration-color: #7f7f7f\">:</span><a href=\"file://C:\\Users\\Diego\\anaconda3\\envs\\animaciones\\lib\\site-packages\\manim\\scene\\scene.py#1044\" target=\"_blank\"><span style=\"color: #7f7f7f; text-decoration-color: #7f7f7f\">1044</span></a>\n",
       "<span style=\"color: #7fbfbf; text-decoration-color: #7fbfbf\">                    </span>         too short for the current frame rate of <span style=\"color: #008000; text-decoration-color: #008000\">15</span> FPS. <span style=\"color: #808000; text-decoration-color: #808000; font-weight: bold\">Rendering</span> with the       <span style=\"color: #7f7f7f; text-decoration-color: #7f7f7f\">             </span>\n",
       "<span style=\"color: #7fbfbf; text-decoration-color: #7fbfbf\">                    </span>         shortest possible total run_time of <span style=\"color: #008000; text-decoration-color: #008000\">0.0666667</span> seconds instead.           <span style=\"color: #7f7f7f; text-decoration-color: #7f7f7f\">             </span>\n",
       "</pre>\n"
      ],
      "text/plain": [
       "\u001b[2;36m                   \u001b[0m\u001b[2;36m \u001b[0m\u001b[31mWARNING \u001b[0m The original total run_time of \u001b[1;35mVibracionNatural.play\u001b[0m\u001b[1m(\u001b[0m\u001b[1m)\u001b[0m, \u001b[32m0.05\u001b[0m seconds, is \u001b]8;id=650053;file://C:\\Users\\Diego\\anaconda3\\envs\\animaciones\\lib\\site-packages\\manim\\scene\\scene.py\u001b\\\u001b[2mscene.py\u001b[0m\u001b]8;;\u001b\\\u001b[2m:\u001b[0m\u001b]8;id=194007;file://C:\\Users\\Diego\\anaconda3\\envs\\animaciones\\lib\\site-packages\\manim\\scene\\scene.py#1044\u001b\\\u001b[2m1044\u001b[0m\u001b]8;;\u001b\\\n",
       "\u001b[2;36m                    \u001b[0m         too short for the current frame rate of \u001b[32m15\u001b[0m FPS. \u001b[1;33mRendering\u001b[0m with the       \u001b[2m             \u001b[0m\n",
       "\u001b[2;36m                    \u001b[0m         shortest possible total run_time of \u001b[32m0.0666667\u001b[0m seconds instead.           \u001b[2m             \u001b[0m\n"
      ]
     },
     "metadata": {},
     "output_type": "display_data"
    },
    {
     "name": "stderr",
     "output_type": "stream",
     "text": [
      "                                                                                                                       "
     ]
    },
    {
     "data": {
      "text/html": [
       "<pre style=\"white-space:pre;overflow-x:auto;line-height:normal;font-family:Menlo,'DejaVu Sans Mono',consolas,'Courier New',monospace\"><span style=\"color: #7fbfbf; text-decoration-color: #7fbfbf\">                    </span><span style=\"color: #800000; text-decoration-color: #800000\">WARNING </span> The original total run_time of <span style=\"color: #800080; text-decoration-color: #800080; font-weight: bold\">VibracionNatural.play</span><span style=\"font-weight: bold\">()</span>, <span style=\"color: #008000; text-decoration-color: #008000\">0.05</span> seconds, is <a href=\"file://C:\\Users\\Diego\\anaconda3\\envs\\animaciones\\lib\\site-packages\\manim\\scene\\scene.py\" target=\"_blank\"><span style=\"color: #7f7f7f; text-decoration-color: #7f7f7f\">scene.py</span></a><span style=\"color: #7f7f7f; text-decoration-color: #7f7f7f\">:</span><a href=\"file://C:\\Users\\Diego\\anaconda3\\envs\\animaciones\\lib\\site-packages\\manim\\scene\\scene.py#1044\" target=\"_blank\"><span style=\"color: #7f7f7f; text-decoration-color: #7f7f7f\">1044</span></a>\n",
       "<span style=\"color: #7fbfbf; text-decoration-color: #7fbfbf\">                    </span>         too short for the current frame rate of <span style=\"color: #008000; text-decoration-color: #008000\">15</span> FPS. <span style=\"color: #808000; text-decoration-color: #808000; font-weight: bold\">Rendering</span> with the       <span style=\"color: #7f7f7f; text-decoration-color: #7f7f7f\">             </span>\n",
       "<span style=\"color: #7fbfbf; text-decoration-color: #7fbfbf\">                    </span>         shortest possible total run_time of <span style=\"color: #008000; text-decoration-color: #008000\">0.0666667</span> seconds instead.           <span style=\"color: #7f7f7f; text-decoration-color: #7f7f7f\">             </span>\n",
       "</pre>\n"
      ],
      "text/plain": [
       "\u001b[2;36m                   \u001b[0m\u001b[2;36m \u001b[0m\u001b[31mWARNING \u001b[0m The original total run_time of \u001b[1;35mVibracionNatural.play\u001b[0m\u001b[1m(\u001b[0m\u001b[1m)\u001b[0m, \u001b[32m0.05\u001b[0m seconds, is \u001b]8;id=655369;file://C:\\Users\\Diego\\anaconda3\\envs\\animaciones\\lib\\site-packages\\manim\\scene\\scene.py\u001b\\\u001b[2mscene.py\u001b[0m\u001b]8;;\u001b\\\u001b[2m:\u001b[0m\u001b]8;id=200445;file://C:\\Users\\Diego\\anaconda3\\envs\\animaciones\\lib\\site-packages\\manim\\scene\\scene.py#1044\u001b\\\u001b[2m1044\u001b[0m\u001b]8;;\u001b\\\n",
       "\u001b[2;36m                    \u001b[0m         too short for the current frame rate of \u001b[32m15\u001b[0m FPS. \u001b[1;33mRendering\u001b[0m with the       \u001b[2m             \u001b[0m\n",
       "\u001b[2;36m                    \u001b[0m         shortest possible total run_time of \u001b[32m0.0666667\u001b[0m seconds instead.           \u001b[2m             \u001b[0m\n"
      ]
     },
     "metadata": {},
     "output_type": "display_data"
    },
    {
     "data": {
      "text/html": [
       "<pre style=\"white-space:pre;overflow-x:auto;line-height:normal;font-family:Menlo,'DejaVu Sans Mono',consolas,'Courier New',monospace\"><span style=\"color: #7fbfbf; text-decoration-color: #7fbfbf\">[04/26/25 22:20:54] </span><span style=\"color: #800000; text-decoration-color: #800000\">WARNING </span> The original total run_time of <span style=\"color: #800080; text-decoration-color: #800080; font-weight: bold\">VibracionNatural.play</span><span style=\"font-weight: bold\">()</span>, <span style=\"color: #008000; text-decoration-color: #008000\">0.05</span> seconds, is <a href=\"file://C:\\Users\\Diego\\anaconda3\\envs\\animaciones\\lib\\site-packages\\manim\\scene\\scene.py\" target=\"_blank\"><span style=\"color: #7f7f7f; text-decoration-color: #7f7f7f\">scene.py</span></a><span style=\"color: #7f7f7f; text-decoration-color: #7f7f7f\">:</span><a href=\"file://C:\\Users\\Diego\\anaconda3\\envs\\animaciones\\lib\\site-packages\\manim\\scene\\scene.py#1044\" target=\"_blank\"><span style=\"color: #7f7f7f; text-decoration-color: #7f7f7f\">1044</span></a>\n",
       "<span style=\"color: #7fbfbf; text-decoration-color: #7fbfbf\">                    </span>         too short for the current frame rate of <span style=\"color: #008000; text-decoration-color: #008000\">15</span> FPS. <span style=\"color: #808000; text-decoration-color: #808000; font-weight: bold\">Rendering</span> with the       <span style=\"color: #7f7f7f; text-decoration-color: #7f7f7f\">             </span>\n",
       "<span style=\"color: #7fbfbf; text-decoration-color: #7fbfbf\">                    </span>         shortest possible total run_time of <span style=\"color: #008000; text-decoration-color: #008000\">0.0666667</span> seconds instead.           <span style=\"color: #7f7f7f; text-decoration-color: #7f7f7f\">             </span>\n",
       "</pre>\n"
      ],
      "text/plain": [
       "\u001b[2;36m[04/26/25 22:20:54]\u001b[0m\u001b[2;36m \u001b[0m\u001b[31mWARNING \u001b[0m The original total run_time of \u001b[1;35mVibracionNatural.play\u001b[0m\u001b[1m(\u001b[0m\u001b[1m)\u001b[0m, \u001b[32m0.05\u001b[0m seconds, is \u001b]8;id=854050;file://C:\\Users\\Diego\\anaconda3\\envs\\animaciones\\lib\\site-packages\\manim\\scene\\scene.py\u001b\\\u001b[2mscene.py\u001b[0m\u001b]8;;\u001b\\\u001b[2m:\u001b[0m\u001b]8;id=730006;file://C:\\Users\\Diego\\anaconda3\\envs\\animaciones\\lib\\site-packages\\manim\\scene\\scene.py#1044\u001b\\\u001b[2m1044\u001b[0m\u001b]8;;\u001b\\\n",
       "\u001b[2;36m                    \u001b[0m         too short for the current frame rate of \u001b[32m15\u001b[0m FPS. \u001b[1;33mRendering\u001b[0m with the       \u001b[2m             \u001b[0m\n",
       "\u001b[2;36m                    \u001b[0m         shortest possible total run_time of \u001b[32m0.0666667\u001b[0m seconds instead.           \u001b[2m             \u001b[0m\n"
      ]
     },
     "metadata": {},
     "output_type": "display_data"
    },
    {
     "name": "stderr",
     "output_type": "stream",
     "text": [
      "                                                                                                                       "
     ]
    },
    {
     "data": {
      "text/html": [
       "<pre style=\"white-space:pre;overflow-x:auto;line-height:normal;font-family:Menlo,'DejaVu Sans Mono',consolas,'Courier New',monospace\"><span style=\"color: #7fbfbf; text-decoration-color: #7fbfbf\">                    </span><span style=\"color: #800000; text-decoration-color: #800000\">WARNING </span> The original total run_time of <span style=\"color: #800080; text-decoration-color: #800080; font-weight: bold\">VibracionNatural.play</span><span style=\"font-weight: bold\">()</span>, <span style=\"color: #008000; text-decoration-color: #008000\">0.05</span> seconds, is <a href=\"file://C:\\Users\\Diego\\anaconda3\\envs\\animaciones\\lib\\site-packages\\manim\\scene\\scene.py\" target=\"_blank\"><span style=\"color: #7f7f7f; text-decoration-color: #7f7f7f\">scene.py</span></a><span style=\"color: #7f7f7f; text-decoration-color: #7f7f7f\">:</span><a href=\"file://C:\\Users\\Diego\\anaconda3\\envs\\animaciones\\lib\\site-packages\\manim\\scene\\scene.py#1044\" target=\"_blank\"><span style=\"color: #7f7f7f; text-decoration-color: #7f7f7f\">1044</span></a>\n",
       "<span style=\"color: #7fbfbf; text-decoration-color: #7fbfbf\">                    </span>         too short for the current frame rate of <span style=\"color: #008000; text-decoration-color: #008000\">15</span> FPS. <span style=\"color: #808000; text-decoration-color: #808000; font-weight: bold\">Rendering</span> with the       <span style=\"color: #7f7f7f; text-decoration-color: #7f7f7f\">             </span>\n",
       "<span style=\"color: #7fbfbf; text-decoration-color: #7fbfbf\">                    </span>         shortest possible total run_time of <span style=\"color: #008000; text-decoration-color: #008000\">0.0666667</span> seconds instead.           <span style=\"color: #7f7f7f; text-decoration-color: #7f7f7f\">             </span>\n",
       "</pre>\n"
      ],
      "text/plain": [
       "\u001b[2;36m                   \u001b[0m\u001b[2;36m \u001b[0m\u001b[31mWARNING \u001b[0m The original total run_time of \u001b[1;35mVibracionNatural.play\u001b[0m\u001b[1m(\u001b[0m\u001b[1m)\u001b[0m, \u001b[32m0.05\u001b[0m seconds, is \u001b]8;id=260594;file://C:\\Users\\Diego\\anaconda3\\envs\\animaciones\\lib\\site-packages\\manim\\scene\\scene.py\u001b\\\u001b[2mscene.py\u001b[0m\u001b]8;;\u001b\\\u001b[2m:\u001b[0m\u001b]8;id=56009;file://C:\\Users\\Diego\\anaconda3\\envs\\animaciones\\lib\\site-packages\\manim\\scene\\scene.py#1044\u001b\\\u001b[2m1044\u001b[0m\u001b]8;;\u001b\\\n",
       "\u001b[2;36m                    \u001b[0m         too short for the current frame rate of \u001b[32m15\u001b[0m FPS. \u001b[1;33mRendering\u001b[0m with the       \u001b[2m             \u001b[0m\n",
       "\u001b[2;36m                    \u001b[0m         shortest possible total run_time of \u001b[32m0.0666667\u001b[0m seconds instead.           \u001b[2m             \u001b[0m\n"
      ]
     },
     "metadata": {},
     "output_type": "display_data"
    },
    {
     "data": {
      "text/html": [
       "<pre style=\"white-space:pre;overflow-x:auto;line-height:normal;font-family:Menlo,'DejaVu Sans Mono',consolas,'Courier New',monospace\"><span style=\"color: #7fbfbf; text-decoration-color: #7fbfbf\">                    </span><span style=\"color: #800000; text-decoration-color: #800000\">WARNING </span> The original total run_time of <span style=\"color: #800080; text-decoration-color: #800080; font-weight: bold\">VibracionNatural.play</span><span style=\"font-weight: bold\">()</span>, <span style=\"color: #008000; text-decoration-color: #008000\">0.05</span> seconds, is <a href=\"file://C:\\Users\\Diego\\anaconda3\\envs\\animaciones\\lib\\site-packages\\manim\\scene\\scene.py\" target=\"_blank\"><span style=\"color: #7f7f7f; text-decoration-color: #7f7f7f\">scene.py</span></a><span style=\"color: #7f7f7f; text-decoration-color: #7f7f7f\">:</span><a href=\"file://C:\\Users\\Diego\\anaconda3\\envs\\animaciones\\lib\\site-packages\\manim\\scene\\scene.py#1044\" target=\"_blank\"><span style=\"color: #7f7f7f; text-decoration-color: #7f7f7f\">1044</span></a>\n",
       "<span style=\"color: #7fbfbf; text-decoration-color: #7fbfbf\">                    </span>         too short for the current frame rate of <span style=\"color: #008000; text-decoration-color: #008000\">15</span> FPS. <span style=\"color: #808000; text-decoration-color: #808000; font-weight: bold\">Rendering</span> with the       <span style=\"color: #7f7f7f; text-decoration-color: #7f7f7f\">             </span>\n",
       "<span style=\"color: #7fbfbf; text-decoration-color: #7fbfbf\">                    </span>         shortest possible total run_time of <span style=\"color: #008000; text-decoration-color: #008000\">0.0666667</span> seconds instead.           <span style=\"color: #7f7f7f; text-decoration-color: #7f7f7f\">             </span>\n",
       "</pre>\n"
      ],
      "text/plain": [
       "\u001b[2;36m                   \u001b[0m\u001b[2;36m \u001b[0m\u001b[31mWARNING \u001b[0m The original total run_time of \u001b[1;35mVibracionNatural.play\u001b[0m\u001b[1m(\u001b[0m\u001b[1m)\u001b[0m, \u001b[32m0.05\u001b[0m seconds, is \u001b]8;id=969555;file://C:\\Users\\Diego\\anaconda3\\envs\\animaciones\\lib\\site-packages\\manim\\scene\\scene.py\u001b\\\u001b[2mscene.py\u001b[0m\u001b]8;;\u001b\\\u001b[2m:\u001b[0m\u001b]8;id=44241;file://C:\\Users\\Diego\\anaconda3\\envs\\animaciones\\lib\\site-packages\\manim\\scene\\scene.py#1044\u001b\\\u001b[2m1044\u001b[0m\u001b]8;;\u001b\\\n",
       "\u001b[2;36m                    \u001b[0m         too short for the current frame rate of \u001b[32m15\u001b[0m FPS. \u001b[1;33mRendering\u001b[0m with the       \u001b[2m             \u001b[0m\n",
       "\u001b[2;36m                    \u001b[0m         shortest possible total run_time of \u001b[32m0.0666667\u001b[0m seconds instead.           \u001b[2m             \u001b[0m\n"
      ]
     },
     "metadata": {},
     "output_type": "display_data"
    },
    {
     "name": "stderr",
     "output_type": "stream",
     "text": [
      "                                                                                                                       "
     ]
    },
    {
     "data": {
      "text/html": [
       "<pre style=\"white-space:pre;overflow-x:auto;line-height:normal;font-family:Menlo,'DejaVu Sans Mono',consolas,'Courier New',monospace\"><span style=\"color: #7fbfbf; text-decoration-color: #7fbfbf\">                    </span><span style=\"color: #800000; text-decoration-color: #800000\">WARNING </span> The original total run_time of <span style=\"color: #800080; text-decoration-color: #800080; font-weight: bold\">VibracionNatural.play</span><span style=\"font-weight: bold\">()</span>, <span style=\"color: #008000; text-decoration-color: #008000\">0.05</span> seconds, is <a href=\"file://C:\\Users\\Diego\\anaconda3\\envs\\animaciones\\lib\\site-packages\\manim\\scene\\scene.py\" target=\"_blank\"><span style=\"color: #7f7f7f; text-decoration-color: #7f7f7f\">scene.py</span></a><span style=\"color: #7f7f7f; text-decoration-color: #7f7f7f\">:</span><a href=\"file://C:\\Users\\Diego\\anaconda3\\envs\\animaciones\\lib\\site-packages\\manim\\scene\\scene.py#1044\" target=\"_blank\"><span style=\"color: #7f7f7f; text-decoration-color: #7f7f7f\">1044</span></a>\n",
       "<span style=\"color: #7fbfbf; text-decoration-color: #7fbfbf\">                    </span>         too short for the current frame rate of <span style=\"color: #008000; text-decoration-color: #008000\">15</span> FPS. <span style=\"color: #808000; text-decoration-color: #808000; font-weight: bold\">Rendering</span> with the       <span style=\"color: #7f7f7f; text-decoration-color: #7f7f7f\">             </span>\n",
       "<span style=\"color: #7fbfbf; text-decoration-color: #7fbfbf\">                    </span>         shortest possible total run_time of <span style=\"color: #008000; text-decoration-color: #008000\">0.0666667</span> seconds instead.           <span style=\"color: #7f7f7f; text-decoration-color: #7f7f7f\">             </span>\n",
       "</pre>\n"
      ],
      "text/plain": [
       "\u001b[2;36m                   \u001b[0m\u001b[2;36m \u001b[0m\u001b[31mWARNING \u001b[0m The original total run_time of \u001b[1;35mVibracionNatural.play\u001b[0m\u001b[1m(\u001b[0m\u001b[1m)\u001b[0m, \u001b[32m0.05\u001b[0m seconds, is \u001b]8;id=846845;file://C:\\Users\\Diego\\anaconda3\\envs\\animaciones\\lib\\site-packages\\manim\\scene\\scene.py\u001b\\\u001b[2mscene.py\u001b[0m\u001b]8;;\u001b\\\u001b[2m:\u001b[0m\u001b]8;id=220947;file://C:\\Users\\Diego\\anaconda3\\envs\\animaciones\\lib\\site-packages\\manim\\scene\\scene.py#1044\u001b\\\u001b[2m1044\u001b[0m\u001b]8;;\u001b\\\n",
       "\u001b[2;36m                    \u001b[0m         too short for the current frame rate of \u001b[32m15\u001b[0m FPS. \u001b[1;33mRendering\u001b[0m with the       \u001b[2m             \u001b[0m\n",
       "\u001b[2;36m                    \u001b[0m         shortest possible total run_time of \u001b[32m0.0666667\u001b[0m seconds instead.           \u001b[2m             \u001b[0m\n"
      ]
     },
     "metadata": {},
     "output_type": "display_data"
    },
    {
     "data": {
      "text/html": [
       "<pre style=\"white-space:pre;overflow-x:auto;line-height:normal;font-family:Menlo,'DejaVu Sans Mono',consolas,'Courier New',monospace\"><span style=\"color: #7fbfbf; text-decoration-color: #7fbfbf\">                    </span><span style=\"color: #800000; text-decoration-color: #800000\">WARNING </span> The original total run_time of <span style=\"color: #800080; text-decoration-color: #800080; font-weight: bold\">VibracionNatural.play</span><span style=\"font-weight: bold\">()</span>, <span style=\"color: #008000; text-decoration-color: #008000\">0.05</span> seconds, is <a href=\"file://C:\\Users\\Diego\\anaconda3\\envs\\animaciones\\lib\\site-packages\\manim\\scene\\scene.py\" target=\"_blank\"><span style=\"color: #7f7f7f; text-decoration-color: #7f7f7f\">scene.py</span></a><span style=\"color: #7f7f7f; text-decoration-color: #7f7f7f\">:</span><a href=\"file://C:\\Users\\Diego\\anaconda3\\envs\\animaciones\\lib\\site-packages\\manim\\scene\\scene.py#1044\" target=\"_blank\"><span style=\"color: #7f7f7f; text-decoration-color: #7f7f7f\">1044</span></a>\n",
       "<span style=\"color: #7fbfbf; text-decoration-color: #7fbfbf\">                    </span>         too short for the current frame rate of <span style=\"color: #008000; text-decoration-color: #008000\">15</span> FPS. <span style=\"color: #808000; text-decoration-color: #808000; font-weight: bold\">Rendering</span> with the       <span style=\"color: #7f7f7f; text-decoration-color: #7f7f7f\">             </span>\n",
       "<span style=\"color: #7fbfbf; text-decoration-color: #7fbfbf\">                    </span>         shortest possible total run_time of <span style=\"color: #008000; text-decoration-color: #008000\">0.0666667</span> seconds instead.           <span style=\"color: #7f7f7f; text-decoration-color: #7f7f7f\">             </span>\n",
       "</pre>\n"
      ],
      "text/plain": [
       "\u001b[2;36m                   \u001b[0m\u001b[2;36m \u001b[0m\u001b[31mWARNING \u001b[0m The original total run_time of \u001b[1;35mVibracionNatural.play\u001b[0m\u001b[1m(\u001b[0m\u001b[1m)\u001b[0m, \u001b[32m0.05\u001b[0m seconds, is \u001b]8;id=868069;file://C:\\Users\\Diego\\anaconda3\\envs\\animaciones\\lib\\site-packages\\manim\\scene\\scene.py\u001b\\\u001b[2mscene.py\u001b[0m\u001b]8;;\u001b\\\u001b[2m:\u001b[0m\u001b]8;id=769311;file://C:\\Users\\Diego\\anaconda3\\envs\\animaciones\\lib\\site-packages\\manim\\scene\\scene.py#1044\u001b\\\u001b[2m1044\u001b[0m\u001b]8;;\u001b\\\n",
       "\u001b[2;36m                    \u001b[0m         too short for the current frame rate of \u001b[32m15\u001b[0m FPS. \u001b[1;33mRendering\u001b[0m with the       \u001b[2m             \u001b[0m\n",
       "\u001b[2;36m                    \u001b[0m         shortest possible total run_time of \u001b[32m0.0666667\u001b[0m seconds instead.           \u001b[2m             \u001b[0m\n"
      ]
     },
     "metadata": {},
     "output_type": "display_data"
    },
    {
     "name": "stderr",
     "output_type": "stream",
     "text": [
      "                                                                                                                       "
     ]
    },
    {
     "data": {
      "text/html": [
       "<pre style=\"white-space:pre;overflow-x:auto;line-height:normal;font-family:Menlo,'DejaVu Sans Mono',consolas,'Courier New',monospace\"><span style=\"color: #7fbfbf; text-decoration-color: #7fbfbf\">                    </span><span style=\"color: #800000; text-decoration-color: #800000\">WARNING </span> The original total run_time of <span style=\"color: #800080; text-decoration-color: #800080; font-weight: bold\">VibracionNatural.play</span><span style=\"font-weight: bold\">()</span>, <span style=\"color: #008000; text-decoration-color: #008000\">0.05</span> seconds, is <a href=\"file://C:\\Users\\Diego\\anaconda3\\envs\\animaciones\\lib\\site-packages\\manim\\scene\\scene.py\" target=\"_blank\"><span style=\"color: #7f7f7f; text-decoration-color: #7f7f7f\">scene.py</span></a><span style=\"color: #7f7f7f; text-decoration-color: #7f7f7f\">:</span><a href=\"file://C:\\Users\\Diego\\anaconda3\\envs\\animaciones\\lib\\site-packages\\manim\\scene\\scene.py#1044\" target=\"_blank\"><span style=\"color: #7f7f7f; text-decoration-color: #7f7f7f\">1044</span></a>\n",
       "<span style=\"color: #7fbfbf; text-decoration-color: #7fbfbf\">                    </span>         too short for the current frame rate of <span style=\"color: #008000; text-decoration-color: #008000\">15</span> FPS. <span style=\"color: #808000; text-decoration-color: #808000; font-weight: bold\">Rendering</span> with the       <span style=\"color: #7f7f7f; text-decoration-color: #7f7f7f\">             </span>\n",
       "<span style=\"color: #7fbfbf; text-decoration-color: #7fbfbf\">                    </span>         shortest possible total run_time of <span style=\"color: #008000; text-decoration-color: #008000\">0.0666667</span> seconds instead.           <span style=\"color: #7f7f7f; text-decoration-color: #7f7f7f\">             </span>\n",
       "</pre>\n"
      ],
      "text/plain": [
       "\u001b[2;36m                   \u001b[0m\u001b[2;36m \u001b[0m\u001b[31mWARNING \u001b[0m The original total run_time of \u001b[1;35mVibracionNatural.play\u001b[0m\u001b[1m(\u001b[0m\u001b[1m)\u001b[0m, \u001b[32m0.05\u001b[0m seconds, is \u001b]8;id=875316;file://C:\\Users\\Diego\\anaconda3\\envs\\animaciones\\lib\\site-packages\\manim\\scene\\scene.py\u001b\\\u001b[2mscene.py\u001b[0m\u001b]8;;\u001b\\\u001b[2m:\u001b[0m\u001b]8;id=761469;file://C:\\Users\\Diego\\anaconda3\\envs\\animaciones\\lib\\site-packages\\manim\\scene\\scene.py#1044\u001b\\\u001b[2m1044\u001b[0m\u001b]8;;\u001b\\\n",
       "\u001b[2;36m                    \u001b[0m         too short for the current frame rate of \u001b[32m15\u001b[0m FPS. \u001b[1;33mRendering\u001b[0m with the       \u001b[2m             \u001b[0m\n",
       "\u001b[2;36m                    \u001b[0m         shortest possible total run_time of \u001b[32m0.0666667\u001b[0m seconds instead.           \u001b[2m             \u001b[0m\n"
      ]
     },
     "metadata": {},
     "output_type": "display_data"
    },
    {
     "data": {
      "text/html": [
       "<pre style=\"white-space:pre;overflow-x:auto;line-height:normal;font-family:Menlo,'DejaVu Sans Mono',consolas,'Courier New',monospace\"><span style=\"color: #7fbfbf; text-decoration-color: #7fbfbf\">                    </span><span style=\"color: #800000; text-decoration-color: #800000\">WARNING </span> The original total run_time of <span style=\"color: #800080; text-decoration-color: #800080; font-weight: bold\">VibracionNatural.play</span><span style=\"font-weight: bold\">()</span>, <span style=\"color: #008000; text-decoration-color: #008000\">0.05</span> seconds, is <a href=\"file://C:\\Users\\Diego\\anaconda3\\envs\\animaciones\\lib\\site-packages\\manim\\scene\\scene.py\" target=\"_blank\"><span style=\"color: #7f7f7f; text-decoration-color: #7f7f7f\">scene.py</span></a><span style=\"color: #7f7f7f; text-decoration-color: #7f7f7f\">:</span><a href=\"file://C:\\Users\\Diego\\anaconda3\\envs\\animaciones\\lib\\site-packages\\manim\\scene\\scene.py#1044\" target=\"_blank\"><span style=\"color: #7f7f7f; text-decoration-color: #7f7f7f\">1044</span></a>\n",
       "<span style=\"color: #7fbfbf; text-decoration-color: #7fbfbf\">                    </span>         too short for the current frame rate of <span style=\"color: #008000; text-decoration-color: #008000\">15</span> FPS. <span style=\"color: #808000; text-decoration-color: #808000; font-weight: bold\">Rendering</span> with the       <span style=\"color: #7f7f7f; text-decoration-color: #7f7f7f\">             </span>\n",
       "<span style=\"color: #7fbfbf; text-decoration-color: #7fbfbf\">                    </span>         shortest possible total run_time of <span style=\"color: #008000; text-decoration-color: #008000\">0.0666667</span> seconds instead.           <span style=\"color: #7f7f7f; text-decoration-color: #7f7f7f\">             </span>\n",
       "</pre>\n"
      ],
      "text/plain": [
       "\u001b[2;36m                   \u001b[0m\u001b[2;36m \u001b[0m\u001b[31mWARNING \u001b[0m The original total run_time of \u001b[1;35mVibracionNatural.play\u001b[0m\u001b[1m(\u001b[0m\u001b[1m)\u001b[0m, \u001b[32m0.05\u001b[0m seconds, is \u001b]8;id=483944;file://C:\\Users\\Diego\\anaconda3\\envs\\animaciones\\lib\\site-packages\\manim\\scene\\scene.py\u001b\\\u001b[2mscene.py\u001b[0m\u001b]8;;\u001b\\\u001b[2m:\u001b[0m\u001b]8;id=351344;file://C:\\Users\\Diego\\anaconda3\\envs\\animaciones\\lib\\site-packages\\manim\\scene\\scene.py#1044\u001b\\\u001b[2m1044\u001b[0m\u001b]8;;\u001b\\\n",
       "\u001b[2;36m                    \u001b[0m         too short for the current frame rate of \u001b[32m15\u001b[0m FPS. \u001b[1;33mRendering\u001b[0m with the       \u001b[2m             \u001b[0m\n",
       "\u001b[2;36m                    \u001b[0m         shortest possible total run_time of \u001b[32m0.0666667\u001b[0m seconds instead.           \u001b[2m             \u001b[0m\n"
      ]
     },
     "metadata": {},
     "output_type": "display_data"
    },
    {
     "name": "stderr",
     "output_type": "stream",
     "text": [
      "                                                                                                                       "
     ]
    },
    {
     "data": {
      "text/html": [
       "<pre style=\"white-space:pre;overflow-x:auto;line-height:normal;font-family:Menlo,'DejaVu Sans Mono',consolas,'Courier New',monospace\"><span style=\"color: #7fbfbf; text-decoration-color: #7fbfbf\">                    </span><span style=\"color: #800000; text-decoration-color: #800000\">WARNING </span> The original total run_time of <span style=\"color: #800080; text-decoration-color: #800080; font-weight: bold\">VibracionNatural.play</span><span style=\"font-weight: bold\">()</span>, <span style=\"color: #008000; text-decoration-color: #008000\">0.05</span> seconds, is <a href=\"file://C:\\Users\\Diego\\anaconda3\\envs\\animaciones\\lib\\site-packages\\manim\\scene\\scene.py\" target=\"_blank\"><span style=\"color: #7f7f7f; text-decoration-color: #7f7f7f\">scene.py</span></a><span style=\"color: #7f7f7f; text-decoration-color: #7f7f7f\">:</span><a href=\"file://C:\\Users\\Diego\\anaconda3\\envs\\animaciones\\lib\\site-packages\\manim\\scene\\scene.py#1044\" target=\"_blank\"><span style=\"color: #7f7f7f; text-decoration-color: #7f7f7f\">1044</span></a>\n",
       "<span style=\"color: #7fbfbf; text-decoration-color: #7fbfbf\">                    </span>         too short for the current frame rate of <span style=\"color: #008000; text-decoration-color: #008000\">15</span> FPS. <span style=\"color: #808000; text-decoration-color: #808000; font-weight: bold\">Rendering</span> with the       <span style=\"color: #7f7f7f; text-decoration-color: #7f7f7f\">             </span>\n",
       "<span style=\"color: #7fbfbf; text-decoration-color: #7fbfbf\">                    </span>         shortest possible total run_time of <span style=\"color: #008000; text-decoration-color: #008000\">0.0666667</span> seconds instead.           <span style=\"color: #7f7f7f; text-decoration-color: #7f7f7f\">             </span>\n",
       "</pre>\n"
      ],
      "text/plain": [
       "\u001b[2;36m                   \u001b[0m\u001b[2;36m \u001b[0m\u001b[31mWARNING \u001b[0m The original total run_time of \u001b[1;35mVibracionNatural.play\u001b[0m\u001b[1m(\u001b[0m\u001b[1m)\u001b[0m, \u001b[32m0.05\u001b[0m seconds, is \u001b]8;id=781846;file://C:\\Users\\Diego\\anaconda3\\envs\\animaciones\\lib\\site-packages\\manim\\scene\\scene.py\u001b\\\u001b[2mscene.py\u001b[0m\u001b]8;;\u001b\\\u001b[2m:\u001b[0m\u001b]8;id=604120;file://C:\\Users\\Diego\\anaconda3\\envs\\animaciones\\lib\\site-packages\\manim\\scene\\scene.py#1044\u001b\\\u001b[2m1044\u001b[0m\u001b]8;;\u001b\\\n",
       "\u001b[2;36m                    \u001b[0m         too short for the current frame rate of \u001b[32m15\u001b[0m FPS. \u001b[1;33mRendering\u001b[0m with the       \u001b[2m             \u001b[0m\n",
       "\u001b[2;36m                    \u001b[0m         shortest possible total run_time of \u001b[32m0.0666667\u001b[0m seconds instead.           \u001b[2m             \u001b[0m\n"
      ]
     },
     "metadata": {},
     "output_type": "display_data"
    },
    {
     "data": {
      "text/html": [
       "<pre style=\"white-space:pre;overflow-x:auto;line-height:normal;font-family:Menlo,'DejaVu Sans Mono',consolas,'Courier New',monospace\"><span style=\"color: #7fbfbf; text-decoration-color: #7fbfbf\">[04/26/25 22:20:55] </span><span style=\"color: #800000; text-decoration-color: #800000\">WARNING </span> The original total run_time of <span style=\"color: #800080; text-decoration-color: #800080; font-weight: bold\">VibracionNatural.play</span><span style=\"font-weight: bold\">()</span>, <span style=\"color: #008000; text-decoration-color: #008000\">0.05</span> seconds, is <a href=\"file://C:\\Users\\Diego\\anaconda3\\envs\\animaciones\\lib\\site-packages\\manim\\scene\\scene.py\" target=\"_blank\"><span style=\"color: #7f7f7f; text-decoration-color: #7f7f7f\">scene.py</span></a><span style=\"color: #7f7f7f; text-decoration-color: #7f7f7f\">:</span><a href=\"file://C:\\Users\\Diego\\anaconda3\\envs\\animaciones\\lib\\site-packages\\manim\\scene\\scene.py#1044\" target=\"_blank\"><span style=\"color: #7f7f7f; text-decoration-color: #7f7f7f\">1044</span></a>\n",
       "<span style=\"color: #7fbfbf; text-decoration-color: #7fbfbf\">                    </span>         too short for the current frame rate of <span style=\"color: #008000; text-decoration-color: #008000\">15</span> FPS. <span style=\"color: #808000; text-decoration-color: #808000; font-weight: bold\">Rendering</span> with the       <span style=\"color: #7f7f7f; text-decoration-color: #7f7f7f\">             </span>\n",
       "<span style=\"color: #7fbfbf; text-decoration-color: #7fbfbf\">                    </span>         shortest possible total run_time of <span style=\"color: #008000; text-decoration-color: #008000\">0.0666667</span> seconds instead.           <span style=\"color: #7f7f7f; text-decoration-color: #7f7f7f\">             </span>\n",
       "</pre>\n"
      ],
      "text/plain": [
       "\u001b[2;36m[04/26/25 22:20:55]\u001b[0m\u001b[2;36m \u001b[0m\u001b[31mWARNING \u001b[0m The original total run_time of \u001b[1;35mVibracionNatural.play\u001b[0m\u001b[1m(\u001b[0m\u001b[1m)\u001b[0m, \u001b[32m0.05\u001b[0m seconds, is \u001b]8;id=527057;file://C:\\Users\\Diego\\anaconda3\\envs\\animaciones\\lib\\site-packages\\manim\\scene\\scene.py\u001b\\\u001b[2mscene.py\u001b[0m\u001b]8;;\u001b\\\u001b[2m:\u001b[0m\u001b]8;id=28409;file://C:\\Users\\Diego\\anaconda3\\envs\\animaciones\\lib\\site-packages\\manim\\scene\\scene.py#1044\u001b\\\u001b[2m1044\u001b[0m\u001b]8;;\u001b\\\n",
       "\u001b[2;36m                    \u001b[0m         too short for the current frame rate of \u001b[32m15\u001b[0m FPS. \u001b[1;33mRendering\u001b[0m with the       \u001b[2m             \u001b[0m\n",
       "\u001b[2;36m                    \u001b[0m         shortest possible total run_time of \u001b[32m0.0666667\u001b[0m seconds instead.           \u001b[2m             \u001b[0m\n"
      ]
     },
     "metadata": {},
     "output_type": "display_data"
    },
    {
     "name": "stderr",
     "output_type": "stream",
     "text": [
      "                                                                                                                       "
     ]
    },
    {
     "data": {
      "text/html": [
       "<pre style=\"white-space:pre;overflow-x:auto;line-height:normal;font-family:Menlo,'DejaVu Sans Mono',consolas,'Courier New',monospace\"><span style=\"color: #7fbfbf; text-decoration-color: #7fbfbf\">                    </span><span style=\"color: #800000; text-decoration-color: #800000\">WARNING </span> The original total run_time of <span style=\"color: #800080; text-decoration-color: #800080; font-weight: bold\">VibracionNatural.play</span><span style=\"font-weight: bold\">()</span>, <span style=\"color: #008000; text-decoration-color: #008000\">0.05</span> seconds, is <a href=\"file://C:\\Users\\Diego\\anaconda3\\envs\\animaciones\\lib\\site-packages\\manim\\scene\\scene.py\" target=\"_blank\"><span style=\"color: #7f7f7f; text-decoration-color: #7f7f7f\">scene.py</span></a><span style=\"color: #7f7f7f; text-decoration-color: #7f7f7f\">:</span><a href=\"file://C:\\Users\\Diego\\anaconda3\\envs\\animaciones\\lib\\site-packages\\manim\\scene\\scene.py#1044\" target=\"_blank\"><span style=\"color: #7f7f7f; text-decoration-color: #7f7f7f\">1044</span></a>\n",
       "<span style=\"color: #7fbfbf; text-decoration-color: #7fbfbf\">                    </span>         too short for the current frame rate of <span style=\"color: #008000; text-decoration-color: #008000\">15</span> FPS. <span style=\"color: #808000; text-decoration-color: #808000; font-weight: bold\">Rendering</span> with the       <span style=\"color: #7f7f7f; text-decoration-color: #7f7f7f\">             </span>\n",
       "<span style=\"color: #7fbfbf; text-decoration-color: #7fbfbf\">                    </span>         shortest possible total run_time of <span style=\"color: #008000; text-decoration-color: #008000\">0.0666667</span> seconds instead.           <span style=\"color: #7f7f7f; text-decoration-color: #7f7f7f\">             </span>\n",
       "</pre>\n"
      ],
      "text/plain": [
       "\u001b[2;36m                   \u001b[0m\u001b[2;36m \u001b[0m\u001b[31mWARNING \u001b[0m The original total run_time of \u001b[1;35mVibracionNatural.play\u001b[0m\u001b[1m(\u001b[0m\u001b[1m)\u001b[0m, \u001b[32m0.05\u001b[0m seconds, is \u001b]8;id=918001;file://C:\\Users\\Diego\\anaconda3\\envs\\animaciones\\lib\\site-packages\\manim\\scene\\scene.py\u001b\\\u001b[2mscene.py\u001b[0m\u001b]8;;\u001b\\\u001b[2m:\u001b[0m\u001b]8;id=151883;file://C:\\Users\\Diego\\anaconda3\\envs\\animaciones\\lib\\site-packages\\manim\\scene\\scene.py#1044\u001b\\\u001b[2m1044\u001b[0m\u001b]8;;\u001b\\\n",
       "\u001b[2;36m                    \u001b[0m         too short for the current frame rate of \u001b[32m15\u001b[0m FPS. \u001b[1;33mRendering\u001b[0m with the       \u001b[2m             \u001b[0m\n",
       "\u001b[2;36m                    \u001b[0m         shortest possible total run_time of \u001b[32m0.0666667\u001b[0m seconds instead.           \u001b[2m             \u001b[0m\n"
      ]
     },
     "metadata": {},
     "output_type": "display_data"
    },
    {
     "data": {
      "text/html": [
       "<pre style=\"white-space:pre;overflow-x:auto;line-height:normal;font-family:Menlo,'DejaVu Sans Mono',consolas,'Courier New',monospace\"><span style=\"color: #7fbfbf; text-decoration-color: #7fbfbf\">                    </span><span style=\"color: #800000; text-decoration-color: #800000\">WARNING </span> The original total run_time of <span style=\"color: #800080; text-decoration-color: #800080; font-weight: bold\">VibracionNatural.play</span><span style=\"font-weight: bold\">()</span>, <span style=\"color: #008000; text-decoration-color: #008000\">0.05</span> seconds, is <a href=\"file://C:\\Users\\Diego\\anaconda3\\envs\\animaciones\\lib\\site-packages\\manim\\scene\\scene.py\" target=\"_blank\"><span style=\"color: #7f7f7f; text-decoration-color: #7f7f7f\">scene.py</span></a><span style=\"color: #7f7f7f; text-decoration-color: #7f7f7f\">:</span><a href=\"file://C:\\Users\\Diego\\anaconda3\\envs\\animaciones\\lib\\site-packages\\manim\\scene\\scene.py#1044\" target=\"_blank\"><span style=\"color: #7f7f7f; text-decoration-color: #7f7f7f\">1044</span></a>\n",
       "<span style=\"color: #7fbfbf; text-decoration-color: #7fbfbf\">                    </span>         too short for the current frame rate of <span style=\"color: #008000; text-decoration-color: #008000\">15</span> FPS. <span style=\"color: #808000; text-decoration-color: #808000; font-weight: bold\">Rendering</span> with the       <span style=\"color: #7f7f7f; text-decoration-color: #7f7f7f\">             </span>\n",
       "<span style=\"color: #7fbfbf; text-decoration-color: #7fbfbf\">                    </span>         shortest possible total run_time of <span style=\"color: #008000; text-decoration-color: #008000\">0.0666667</span> seconds instead.           <span style=\"color: #7f7f7f; text-decoration-color: #7f7f7f\">             </span>\n",
       "</pre>\n"
      ],
      "text/plain": [
       "\u001b[2;36m                   \u001b[0m\u001b[2;36m \u001b[0m\u001b[31mWARNING \u001b[0m The original total run_time of \u001b[1;35mVibracionNatural.play\u001b[0m\u001b[1m(\u001b[0m\u001b[1m)\u001b[0m, \u001b[32m0.05\u001b[0m seconds, is \u001b]8;id=270797;file://C:\\Users\\Diego\\anaconda3\\envs\\animaciones\\lib\\site-packages\\manim\\scene\\scene.py\u001b\\\u001b[2mscene.py\u001b[0m\u001b]8;;\u001b\\\u001b[2m:\u001b[0m\u001b]8;id=176729;file://C:\\Users\\Diego\\anaconda3\\envs\\animaciones\\lib\\site-packages\\manim\\scene\\scene.py#1044\u001b\\\u001b[2m1044\u001b[0m\u001b]8;;\u001b\\\n",
       "\u001b[2;36m                    \u001b[0m         too short for the current frame rate of \u001b[32m15\u001b[0m FPS. \u001b[1;33mRendering\u001b[0m with the       \u001b[2m             \u001b[0m\n",
       "\u001b[2;36m                    \u001b[0m         shortest possible total run_time of \u001b[32m0.0666667\u001b[0m seconds instead.           \u001b[2m             \u001b[0m\n"
      ]
     },
     "metadata": {},
     "output_type": "display_data"
    },
    {
     "name": "stderr",
     "output_type": "stream",
     "text": [
      "                                                                                                                       "
     ]
    },
    {
     "data": {
      "text/html": [
       "<pre style=\"white-space:pre;overflow-x:auto;line-height:normal;font-family:Menlo,'DejaVu Sans Mono',consolas,'Courier New',monospace\"><span style=\"color: #7fbfbf; text-decoration-color: #7fbfbf\">                    </span><span style=\"color: #800000; text-decoration-color: #800000\">WARNING </span> The original total run_time of <span style=\"color: #800080; text-decoration-color: #800080; font-weight: bold\">VibracionNatural.play</span><span style=\"font-weight: bold\">()</span>, <span style=\"color: #008000; text-decoration-color: #008000\">0.05</span> seconds, is <a href=\"file://C:\\Users\\Diego\\anaconda3\\envs\\animaciones\\lib\\site-packages\\manim\\scene\\scene.py\" target=\"_blank\"><span style=\"color: #7f7f7f; text-decoration-color: #7f7f7f\">scene.py</span></a><span style=\"color: #7f7f7f; text-decoration-color: #7f7f7f\">:</span><a href=\"file://C:\\Users\\Diego\\anaconda3\\envs\\animaciones\\lib\\site-packages\\manim\\scene\\scene.py#1044\" target=\"_blank\"><span style=\"color: #7f7f7f; text-decoration-color: #7f7f7f\">1044</span></a>\n",
       "<span style=\"color: #7fbfbf; text-decoration-color: #7fbfbf\">                    </span>         too short for the current frame rate of <span style=\"color: #008000; text-decoration-color: #008000\">15</span> FPS. <span style=\"color: #808000; text-decoration-color: #808000; font-weight: bold\">Rendering</span> with the       <span style=\"color: #7f7f7f; text-decoration-color: #7f7f7f\">             </span>\n",
       "<span style=\"color: #7fbfbf; text-decoration-color: #7fbfbf\">                    </span>         shortest possible total run_time of <span style=\"color: #008000; text-decoration-color: #008000\">0.0666667</span> seconds instead.           <span style=\"color: #7f7f7f; text-decoration-color: #7f7f7f\">             </span>\n",
       "</pre>\n"
      ],
      "text/plain": [
       "\u001b[2;36m                   \u001b[0m\u001b[2;36m \u001b[0m\u001b[31mWARNING \u001b[0m The original total run_time of \u001b[1;35mVibracionNatural.play\u001b[0m\u001b[1m(\u001b[0m\u001b[1m)\u001b[0m, \u001b[32m0.05\u001b[0m seconds, is \u001b]8;id=285701;file://C:\\Users\\Diego\\anaconda3\\envs\\animaciones\\lib\\site-packages\\manim\\scene\\scene.py\u001b\\\u001b[2mscene.py\u001b[0m\u001b]8;;\u001b\\\u001b[2m:\u001b[0m\u001b]8;id=812036;file://C:\\Users\\Diego\\anaconda3\\envs\\animaciones\\lib\\site-packages\\manim\\scene\\scene.py#1044\u001b\\\u001b[2m1044\u001b[0m\u001b]8;;\u001b\\\n",
       "\u001b[2;36m                    \u001b[0m         too short for the current frame rate of \u001b[32m15\u001b[0m FPS. \u001b[1;33mRendering\u001b[0m with the       \u001b[2m             \u001b[0m\n",
       "\u001b[2;36m                    \u001b[0m         shortest possible total run_time of \u001b[32m0.0666667\u001b[0m seconds instead.           \u001b[2m             \u001b[0m\n"
      ]
     },
     "metadata": {},
     "output_type": "display_data"
    },
    {
     "data": {
      "text/html": [
       "<pre style=\"white-space:pre;overflow-x:auto;line-height:normal;font-family:Menlo,'DejaVu Sans Mono',consolas,'Courier New',monospace\"><span style=\"color: #7fbfbf; text-decoration-color: #7fbfbf\">                    </span><span style=\"color: #800000; text-decoration-color: #800000\">WARNING </span> The original total run_time of <span style=\"color: #800080; text-decoration-color: #800080; font-weight: bold\">VibracionNatural.play</span><span style=\"font-weight: bold\">()</span>, <span style=\"color: #008000; text-decoration-color: #008000\">0.05</span> seconds, is <a href=\"file://C:\\Users\\Diego\\anaconda3\\envs\\animaciones\\lib\\site-packages\\manim\\scene\\scene.py\" target=\"_blank\"><span style=\"color: #7f7f7f; text-decoration-color: #7f7f7f\">scene.py</span></a><span style=\"color: #7f7f7f; text-decoration-color: #7f7f7f\">:</span><a href=\"file://C:\\Users\\Diego\\anaconda3\\envs\\animaciones\\lib\\site-packages\\manim\\scene\\scene.py#1044\" target=\"_blank\"><span style=\"color: #7f7f7f; text-decoration-color: #7f7f7f\">1044</span></a>\n",
       "<span style=\"color: #7fbfbf; text-decoration-color: #7fbfbf\">                    </span>         too short for the current frame rate of <span style=\"color: #008000; text-decoration-color: #008000\">15</span> FPS. <span style=\"color: #808000; text-decoration-color: #808000; font-weight: bold\">Rendering</span> with the       <span style=\"color: #7f7f7f; text-decoration-color: #7f7f7f\">             </span>\n",
       "<span style=\"color: #7fbfbf; text-decoration-color: #7fbfbf\">                    </span>         shortest possible total run_time of <span style=\"color: #008000; text-decoration-color: #008000\">0.0666667</span> seconds instead.           <span style=\"color: #7f7f7f; text-decoration-color: #7f7f7f\">             </span>\n",
       "</pre>\n"
      ],
      "text/plain": [
       "\u001b[2;36m                   \u001b[0m\u001b[2;36m \u001b[0m\u001b[31mWARNING \u001b[0m The original total run_time of \u001b[1;35mVibracionNatural.play\u001b[0m\u001b[1m(\u001b[0m\u001b[1m)\u001b[0m, \u001b[32m0.05\u001b[0m seconds, is \u001b]8;id=576242;file://C:\\Users\\Diego\\anaconda3\\envs\\animaciones\\lib\\site-packages\\manim\\scene\\scene.py\u001b\\\u001b[2mscene.py\u001b[0m\u001b]8;;\u001b\\\u001b[2m:\u001b[0m\u001b]8;id=273164;file://C:\\Users\\Diego\\anaconda3\\envs\\animaciones\\lib\\site-packages\\manim\\scene\\scene.py#1044\u001b\\\u001b[2m1044\u001b[0m\u001b]8;;\u001b\\\n",
       "\u001b[2;36m                    \u001b[0m         too short for the current frame rate of \u001b[32m15\u001b[0m FPS. \u001b[1;33mRendering\u001b[0m with the       \u001b[2m             \u001b[0m\n",
       "\u001b[2;36m                    \u001b[0m         shortest possible total run_time of \u001b[32m0.0666667\u001b[0m seconds instead.           \u001b[2m             \u001b[0m\n"
      ]
     },
     "metadata": {},
     "output_type": "display_data"
    },
    {
     "name": "stderr",
     "output_type": "stream",
     "text": [
      "                                                                                                                       "
     ]
    },
    {
     "data": {
      "text/html": [
       "<pre style=\"white-space:pre;overflow-x:auto;line-height:normal;font-family:Menlo,'DejaVu Sans Mono',consolas,'Courier New',monospace\"><span style=\"color: #7fbfbf; text-decoration-color: #7fbfbf\">                    </span><span style=\"color: #800000; text-decoration-color: #800000\">WARNING </span> The original total run_time of <span style=\"color: #800080; text-decoration-color: #800080; font-weight: bold\">VibracionNatural.play</span><span style=\"font-weight: bold\">()</span>, <span style=\"color: #008000; text-decoration-color: #008000\">0.05</span> seconds, is <a href=\"file://C:\\Users\\Diego\\anaconda3\\envs\\animaciones\\lib\\site-packages\\manim\\scene\\scene.py\" target=\"_blank\"><span style=\"color: #7f7f7f; text-decoration-color: #7f7f7f\">scene.py</span></a><span style=\"color: #7f7f7f; text-decoration-color: #7f7f7f\">:</span><a href=\"file://C:\\Users\\Diego\\anaconda3\\envs\\animaciones\\lib\\site-packages\\manim\\scene\\scene.py#1044\" target=\"_blank\"><span style=\"color: #7f7f7f; text-decoration-color: #7f7f7f\">1044</span></a>\n",
       "<span style=\"color: #7fbfbf; text-decoration-color: #7fbfbf\">                    </span>         too short for the current frame rate of <span style=\"color: #008000; text-decoration-color: #008000\">15</span> FPS. <span style=\"color: #808000; text-decoration-color: #808000; font-weight: bold\">Rendering</span> with the       <span style=\"color: #7f7f7f; text-decoration-color: #7f7f7f\">             </span>\n",
       "<span style=\"color: #7fbfbf; text-decoration-color: #7fbfbf\">                    </span>         shortest possible total run_time of <span style=\"color: #008000; text-decoration-color: #008000\">0.0666667</span> seconds instead.           <span style=\"color: #7f7f7f; text-decoration-color: #7f7f7f\">             </span>\n",
       "</pre>\n"
      ],
      "text/plain": [
       "\u001b[2;36m                   \u001b[0m\u001b[2;36m \u001b[0m\u001b[31mWARNING \u001b[0m The original total run_time of \u001b[1;35mVibracionNatural.play\u001b[0m\u001b[1m(\u001b[0m\u001b[1m)\u001b[0m, \u001b[32m0.05\u001b[0m seconds, is \u001b]8;id=128130;file://C:\\Users\\Diego\\anaconda3\\envs\\animaciones\\lib\\site-packages\\manim\\scene\\scene.py\u001b\\\u001b[2mscene.py\u001b[0m\u001b]8;;\u001b\\\u001b[2m:\u001b[0m\u001b]8;id=134835;file://C:\\Users\\Diego\\anaconda3\\envs\\animaciones\\lib\\site-packages\\manim\\scene\\scene.py#1044\u001b\\\u001b[2m1044\u001b[0m\u001b]8;;\u001b\\\n",
       "\u001b[2;36m                    \u001b[0m         too short for the current frame rate of \u001b[32m15\u001b[0m FPS. \u001b[1;33mRendering\u001b[0m with the       \u001b[2m             \u001b[0m\n",
       "\u001b[2;36m                    \u001b[0m         shortest possible total run_time of \u001b[32m0.0666667\u001b[0m seconds instead.           \u001b[2m             \u001b[0m\n"
      ]
     },
     "metadata": {},
     "output_type": "display_data"
    },
    {
     "data": {
      "text/html": [
       "<pre style=\"white-space:pre;overflow-x:auto;line-height:normal;font-family:Menlo,'DejaVu Sans Mono',consolas,'Courier New',monospace\"><span style=\"color: #7fbfbf; text-decoration-color: #7fbfbf\">                    </span><span style=\"color: #800000; text-decoration-color: #800000\">WARNING </span> The original total run_time of <span style=\"color: #800080; text-decoration-color: #800080; font-weight: bold\">VibracionNatural.play</span><span style=\"font-weight: bold\">()</span>, <span style=\"color: #008000; text-decoration-color: #008000\">0.05</span> seconds, is <a href=\"file://C:\\Users\\Diego\\anaconda3\\envs\\animaciones\\lib\\site-packages\\manim\\scene\\scene.py\" target=\"_blank\"><span style=\"color: #7f7f7f; text-decoration-color: #7f7f7f\">scene.py</span></a><span style=\"color: #7f7f7f; text-decoration-color: #7f7f7f\">:</span><a href=\"file://C:\\Users\\Diego\\anaconda3\\envs\\animaciones\\lib\\site-packages\\manim\\scene\\scene.py#1044\" target=\"_blank\"><span style=\"color: #7f7f7f; text-decoration-color: #7f7f7f\">1044</span></a>\n",
       "<span style=\"color: #7fbfbf; text-decoration-color: #7fbfbf\">                    </span>         too short for the current frame rate of <span style=\"color: #008000; text-decoration-color: #008000\">15</span> FPS. <span style=\"color: #808000; text-decoration-color: #808000; font-weight: bold\">Rendering</span> with the       <span style=\"color: #7f7f7f; text-decoration-color: #7f7f7f\">             </span>\n",
       "<span style=\"color: #7fbfbf; text-decoration-color: #7fbfbf\">                    </span>         shortest possible total run_time of <span style=\"color: #008000; text-decoration-color: #008000\">0.0666667</span> seconds instead.           <span style=\"color: #7f7f7f; text-decoration-color: #7f7f7f\">             </span>\n",
       "</pre>\n"
      ],
      "text/plain": [
       "\u001b[2;36m                   \u001b[0m\u001b[2;36m \u001b[0m\u001b[31mWARNING \u001b[0m The original total run_time of \u001b[1;35mVibracionNatural.play\u001b[0m\u001b[1m(\u001b[0m\u001b[1m)\u001b[0m, \u001b[32m0.05\u001b[0m seconds, is \u001b]8;id=105981;file://C:\\Users\\Diego\\anaconda3\\envs\\animaciones\\lib\\site-packages\\manim\\scene\\scene.py\u001b\\\u001b[2mscene.py\u001b[0m\u001b]8;;\u001b\\\u001b[2m:\u001b[0m\u001b]8;id=840908;file://C:\\Users\\Diego\\anaconda3\\envs\\animaciones\\lib\\site-packages\\manim\\scene\\scene.py#1044\u001b\\\u001b[2m1044\u001b[0m\u001b]8;;\u001b\\\n",
       "\u001b[2;36m                    \u001b[0m         too short for the current frame rate of \u001b[32m15\u001b[0m FPS. \u001b[1;33mRendering\u001b[0m with the       \u001b[2m             \u001b[0m\n",
       "\u001b[2;36m                    \u001b[0m         shortest possible total run_time of \u001b[32m0.0666667\u001b[0m seconds instead.           \u001b[2m             \u001b[0m\n"
      ]
     },
     "metadata": {},
     "output_type": "display_data"
    },
    {
     "name": "stderr",
     "output_type": "stream",
     "text": [
      "                                                                                                                       "
     ]
    },
    {
     "data": {
      "text/html": [
       "<pre style=\"white-space:pre;overflow-x:auto;line-height:normal;font-family:Menlo,'DejaVu Sans Mono',consolas,'Courier New',monospace\"><span style=\"color: #7fbfbf; text-decoration-color: #7fbfbf\">                    </span><span style=\"color: #800000; text-decoration-color: #800000\">WARNING </span> The original total run_time of <span style=\"color: #800080; text-decoration-color: #800080; font-weight: bold\">VibracionNatural.play</span><span style=\"font-weight: bold\">()</span>, <span style=\"color: #008000; text-decoration-color: #008000\">0.05</span> seconds, is <a href=\"file://C:\\Users\\Diego\\anaconda3\\envs\\animaciones\\lib\\site-packages\\manim\\scene\\scene.py\" target=\"_blank\"><span style=\"color: #7f7f7f; text-decoration-color: #7f7f7f\">scene.py</span></a><span style=\"color: #7f7f7f; text-decoration-color: #7f7f7f\">:</span><a href=\"file://C:\\Users\\Diego\\anaconda3\\envs\\animaciones\\lib\\site-packages\\manim\\scene\\scene.py#1044\" target=\"_blank\"><span style=\"color: #7f7f7f; text-decoration-color: #7f7f7f\">1044</span></a>\n",
       "<span style=\"color: #7fbfbf; text-decoration-color: #7fbfbf\">                    </span>         too short for the current frame rate of <span style=\"color: #008000; text-decoration-color: #008000\">15</span> FPS. <span style=\"color: #808000; text-decoration-color: #808000; font-weight: bold\">Rendering</span> with the       <span style=\"color: #7f7f7f; text-decoration-color: #7f7f7f\">             </span>\n",
       "<span style=\"color: #7fbfbf; text-decoration-color: #7fbfbf\">                    </span>         shortest possible total run_time of <span style=\"color: #008000; text-decoration-color: #008000\">0.0666667</span> seconds instead.           <span style=\"color: #7f7f7f; text-decoration-color: #7f7f7f\">             </span>\n",
       "</pre>\n"
      ],
      "text/plain": [
       "\u001b[2;36m                   \u001b[0m\u001b[2;36m \u001b[0m\u001b[31mWARNING \u001b[0m The original total run_time of \u001b[1;35mVibracionNatural.play\u001b[0m\u001b[1m(\u001b[0m\u001b[1m)\u001b[0m, \u001b[32m0.05\u001b[0m seconds, is \u001b]8;id=993050;file://C:\\Users\\Diego\\anaconda3\\envs\\animaciones\\lib\\site-packages\\manim\\scene\\scene.py\u001b\\\u001b[2mscene.py\u001b[0m\u001b]8;;\u001b\\\u001b[2m:\u001b[0m\u001b]8;id=68275;file://C:\\Users\\Diego\\anaconda3\\envs\\animaciones\\lib\\site-packages\\manim\\scene\\scene.py#1044\u001b\\\u001b[2m1044\u001b[0m\u001b]8;;\u001b\\\n",
       "\u001b[2;36m                    \u001b[0m         too short for the current frame rate of \u001b[32m15\u001b[0m FPS. \u001b[1;33mRendering\u001b[0m with the       \u001b[2m             \u001b[0m\n",
       "\u001b[2;36m                    \u001b[0m         shortest possible total run_time of \u001b[32m0.0666667\u001b[0m seconds instead.           \u001b[2m             \u001b[0m\n"
      ]
     },
     "metadata": {},
     "output_type": "display_data"
    },
    {
     "data": {
      "text/html": [
       "<pre style=\"white-space:pre;overflow-x:auto;line-height:normal;font-family:Menlo,'DejaVu Sans Mono',consolas,'Courier New',monospace\"><span style=\"color: #7fbfbf; text-decoration-color: #7fbfbf\">                    </span><span style=\"color: #800000; text-decoration-color: #800000\">WARNING </span> The original total run_time of <span style=\"color: #800080; text-decoration-color: #800080; font-weight: bold\">VibracionNatural.play</span><span style=\"font-weight: bold\">()</span>, <span style=\"color: #008000; text-decoration-color: #008000\">0.05</span> seconds, is <a href=\"file://C:\\Users\\Diego\\anaconda3\\envs\\animaciones\\lib\\site-packages\\manim\\scene\\scene.py\" target=\"_blank\"><span style=\"color: #7f7f7f; text-decoration-color: #7f7f7f\">scene.py</span></a><span style=\"color: #7f7f7f; text-decoration-color: #7f7f7f\">:</span><a href=\"file://C:\\Users\\Diego\\anaconda3\\envs\\animaciones\\lib\\site-packages\\manim\\scene\\scene.py#1044\" target=\"_blank\"><span style=\"color: #7f7f7f; text-decoration-color: #7f7f7f\">1044</span></a>\n",
       "<span style=\"color: #7fbfbf; text-decoration-color: #7fbfbf\">                    </span>         too short for the current frame rate of <span style=\"color: #008000; text-decoration-color: #008000\">15</span> FPS. <span style=\"color: #808000; text-decoration-color: #808000; font-weight: bold\">Rendering</span> with the       <span style=\"color: #7f7f7f; text-decoration-color: #7f7f7f\">             </span>\n",
       "<span style=\"color: #7fbfbf; text-decoration-color: #7fbfbf\">                    </span>         shortest possible total run_time of <span style=\"color: #008000; text-decoration-color: #008000\">0.0666667</span> seconds instead.           <span style=\"color: #7f7f7f; text-decoration-color: #7f7f7f\">             </span>\n",
       "</pre>\n"
      ],
      "text/plain": [
       "\u001b[2;36m                   \u001b[0m\u001b[2;36m \u001b[0m\u001b[31mWARNING \u001b[0m The original total run_time of \u001b[1;35mVibracionNatural.play\u001b[0m\u001b[1m(\u001b[0m\u001b[1m)\u001b[0m, \u001b[32m0.05\u001b[0m seconds, is \u001b]8;id=532833;file://C:\\Users\\Diego\\anaconda3\\envs\\animaciones\\lib\\site-packages\\manim\\scene\\scene.py\u001b\\\u001b[2mscene.py\u001b[0m\u001b]8;;\u001b\\\u001b[2m:\u001b[0m\u001b]8;id=408013;file://C:\\Users\\Diego\\anaconda3\\envs\\animaciones\\lib\\site-packages\\manim\\scene\\scene.py#1044\u001b\\\u001b[2m1044\u001b[0m\u001b]8;;\u001b\\\n",
       "\u001b[2;36m                    \u001b[0m         too short for the current frame rate of \u001b[32m15\u001b[0m FPS. \u001b[1;33mRendering\u001b[0m with the       \u001b[2m             \u001b[0m\n",
       "\u001b[2;36m                    \u001b[0m         shortest possible total run_time of \u001b[32m0.0666667\u001b[0m seconds instead.           \u001b[2m             \u001b[0m\n"
      ]
     },
     "metadata": {},
     "output_type": "display_data"
    },
    {
     "name": "stderr",
     "output_type": "stream",
     "text": [
      "                                                                                                                       "
     ]
    },
    {
     "data": {
      "text/html": [
       "<pre style=\"white-space:pre;overflow-x:auto;line-height:normal;font-family:Menlo,'DejaVu Sans Mono',consolas,'Courier New',monospace\"><span style=\"color: #7fbfbf; text-decoration-color: #7fbfbf\">[04/26/25 22:20:56] </span><span style=\"color: #800000; text-decoration-color: #800000\">WARNING </span> The original total run_time of <span style=\"color: #800080; text-decoration-color: #800080; font-weight: bold\">VibracionNatural.play</span><span style=\"font-weight: bold\">()</span>, <span style=\"color: #008000; text-decoration-color: #008000\">0.05</span> seconds, is <a href=\"file://C:\\Users\\Diego\\anaconda3\\envs\\animaciones\\lib\\site-packages\\manim\\scene\\scene.py\" target=\"_blank\"><span style=\"color: #7f7f7f; text-decoration-color: #7f7f7f\">scene.py</span></a><span style=\"color: #7f7f7f; text-decoration-color: #7f7f7f\">:</span><a href=\"file://C:\\Users\\Diego\\anaconda3\\envs\\animaciones\\lib\\site-packages\\manim\\scene\\scene.py#1044\" target=\"_blank\"><span style=\"color: #7f7f7f; text-decoration-color: #7f7f7f\">1044</span></a>\n",
       "<span style=\"color: #7fbfbf; text-decoration-color: #7fbfbf\">                    </span>         too short for the current frame rate of <span style=\"color: #008000; text-decoration-color: #008000\">15</span> FPS. <span style=\"color: #808000; text-decoration-color: #808000; font-weight: bold\">Rendering</span> with the       <span style=\"color: #7f7f7f; text-decoration-color: #7f7f7f\">             </span>\n",
       "<span style=\"color: #7fbfbf; text-decoration-color: #7fbfbf\">                    </span>         shortest possible total run_time of <span style=\"color: #008000; text-decoration-color: #008000\">0.0666667</span> seconds instead.           <span style=\"color: #7f7f7f; text-decoration-color: #7f7f7f\">             </span>\n",
       "</pre>\n"
      ],
      "text/plain": [
       "\u001b[2;36m[04/26/25 22:20:56]\u001b[0m\u001b[2;36m \u001b[0m\u001b[31mWARNING \u001b[0m The original total run_time of \u001b[1;35mVibracionNatural.play\u001b[0m\u001b[1m(\u001b[0m\u001b[1m)\u001b[0m, \u001b[32m0.05\u001b[0m seconds, is \u001b]8;id=265275;file://C:\\Users\\Diego\\anaconda3\\envs\\animaciones\\lib\\site-packages\\manim\\scene\\scene.py\u001b\\\u001b[2mscene.py\u001b[0m\u001b]8;;\u001b\\\u001b[2m:\u001b[0m\u001b]8;id=434622;file://C:\\Users\\Diego\\anaconda3\\envs\\animaciones\\lib\\site-packages\\manim\\scene\\scene.py#1044\u001b\\\u001b[2m1044\u001b[0m\u001b]8;;\u001b\\\n",
       "\u001b[2;36m                    \u001b[0m         too short for the current frame rate of \u001b[32m15\u001b[0m FPS. \u001b[1;33mRendering\u001b[0m with the       \u001b[2m             \u001b[0m\n",
       "\u001b[2;36m                    \u001b[0m         shortest possible total run_time of \u001b[32m0.0666667\u001b[0m seconds instead.           \u001b[2m             \u001b[0m\n"
      ]
     },
     "metadata": {},
     "output_type": "display_data"
    },
    {
     "data": {
      "text/html": [
       "<pre style=\"white-space:pre;overflow-x:auto;line-height:normal;font-family:Menlo,'DejaVu Sans Mono',consolas,'Courier New',monospace\"><span style=\"color: #7fbfbf; text-decoration-color: #7fbfbf\">                    </span><span style=\"color: #800000; text-decoration-color: #800000\">WARNING </span> The original total run_time of <span style=\"color: #800080; text-decoration-color: #800080; font-weight: bold\">VibracionNatural.play</span><span style=\"font-weight: bold\">()</span>, <span style=\"color: #008000; text-decoration-color: #008000\">0.05</span> seconds, is <a href=\"file://C:\\Users\\Diego\\anaconda3\\envs\\animaciones\\lib\\site-packages\\manim\\scene\\scene.py\" target=\"_blank\"><span style=\"color: #7f7f7f; text-decoration-color: #7f7f7f\">scene.py</span></a><span style=\"color: #7f7f7f; text-decoration-color: #7f7f7f\">:</span><a href=\"file://C:\\Users\\Diego\\anaconda3\\envs\\animaciones\\lib\\site-packages\\manim\\scene\\scene.py#1044\" target=\"_blank\"><span style=\"color: #7f7f7f; text-decoration-color: #7f7f7f\">1044</span></a>\n",
       "<span style=\"color: #7fbfbf; text-decoration-color: #7fbfbf\">                    </span>         too short for the current frame rate of <span style=\"color: #008000; text-decoration-color: #008000\">15</span> FPS. <span style=\"color: #808000; text-decoration-color: #808000; font-weight: bold\">Rendering</span> with the       <span style=\"color: #7f7f7f; text-decoration-color: #7f7f7f\">             </span>\n",
       "<span style=\"color: #7fbfbf; text-decoration-color: #7fbfbf\">                    </span>         shortest possible total run_time of <span style=\"color: #008000; text-decoration-color: #008000\">0.0666667</span> seconds instead.           <span style=\"color: #7f7f7f; text-decoration-color: #7f7f7f\">             </span>\n",
       "</pre>\n"
      ],
      "text/plain": [
       "\u001b[2;36m                   \u001b[0m\u001b[2;36m \u001b[0m\u001b[31mWARNING \u001b[0m The original total run_time of \u001b[1;35mVibracionNatural.play\u001b[0m\u001b[1m(\u001b[0m\u001b[1m)\u001b[0m, \u001b[32m0.05\u001b[0m seconds, is \u001b]8;id=751401;file://C:\\Users\\Diego\\anaconda3\\envs\\animaciones\\lib\\site-packages\\manim\\scene\\scene.py\u001b\\\u001b[2mscene.py\u001b[0m\u001b]8;;\u001b\\\u001b[2m:\u001b[0m\u001b]8;id=906862;file://C:\\Users\\Diego\\anaconda3\\envs\\animaciones\\lib\\site-packages\\manim\\scene\\scene.py#1044\u001b\\\u001b[2m1044\u001b[0m\u001b]8;;\u001b\\\n",
       "\u001b[2;36m                    \u001b[0m         too short for the current frame rate of \u001b[32m15\u001b[0m FPS. \u001b[1;33mRendering\u001b[0m with the       \u001b[2m             \u001b[0m\n",
       "\u001b[2;36m                    \u001b[0m         shortest possible total run_time of \u001b[32m0.0666667\u001b[0m seconds instead.           \u001b[2m             \u001b[0m\n"
      ]
     },
     "metadata": {},
     "output_type": "display_data"
    },
    {
     "name": "stderr",
     "output_type": "stream",
     "text": [
      "                                                                                                                       "
     ]
    },
    {
     "data": {
      "text/html": [
       "<pre style=\"white-space:pre;overflow-x:auto;line-height:normal;font-family:Menlo,'DejaVu Sans Mono',consolas,'Courier New',monospace\"><span style=\"color: #7fbfbf; text-decoration-color: #7fbfbf\">                    </span><span style=\"color: #800000; text-decoration-color: #800000\">WARNING </span> The original total run_time of <span style=\"color: #800080; text-decoration-color: #800080; font-weight: bold\">VibracionNatural.play</span><span style=\"font-weight: bold\">()</span>, <span style=\"color: #008000; text-decoration-color: #008000\">0.05</span> seconds, is <a href=\"file://C:\\Users\\Diego\\anaconda3\\envs\\animaciones\\lib\\site-packages\\manim\\scene\\scene.py\" target=\"_blank\"><span style=\"color: #7f7f7f; text-decoration-color: #7f7f7f\">scene.py</span></a><span style=\"color: #7f7f7f; text-decoration-color: #7f7f7f\">:</span><a href=\"file://C:\\Users\\Diego\\anaconda3\\envs\\animaciones\\lib\\site-packages\\manim\\scene\\scene.py#1044\" target=\"_blank\"><span style=\"color: #7f7f7f; text-decoration-color: #7f7f7f\">1044</span></a>\n",
       "<span style=\"color: #7fbfbf; text-decoration-color: #7fbfbf\">                    </span>         too short for the current frame rate of <span style=\"color: #008000; text-decoration-color: #008000\">15</span> FPS. <span style=\"color: #808000; text-decoration-color: #808000; font-weight: bold\">Rendering</span> with the       <span style=\"color: #7f7f7f; text-decoration-color: #7f7f7f\">             </span>\n",
       "<span style=\"color: #7fbfbf; text-decoration-color: #7fbfbf\">                    </span>         shortest possible total run_time of <span style=\"color: #008000; text-decoration-color: #008000\">0.0666667</span> seconds instead.           <span style=\"color: #7f7f7f; text-decoration-color: #7f7f7f\">             </span>\n",
       "</pre>\n"
      ],
      "text/plain": [
       "\u001b[2;36m                   \u001b[0m\u001b[2;36m \u001b[0m\u001b[31mWARNING \u001b[0m The original total run_time of \u001b[1;35mVibracionNatural.play\u001b[0m\u001b[1m(\u001b[0m\u001b[1m)\u001b[0m, \u001b[32m0.05\u001b[0m seconds, is \u001b]8;id=919532;file://C:\\Users\\Diego\\anaconda3\\envs\\animaciones\\lib\\site-packages\\manim\\scene\\scene.py\u001b\\\u001b[2mscene.py\u001b[0m\u001b]8;;\u001b\\\u001b[2m:\u001b[0m\u001b]8;id=997664;file://C:\\Users\\Diego\\anaconda3\\envs\\animaciones\\lib\\site-packages\\manim\\scene\\scene.py#1044\u001b\\\u001b[2m1044\u001b[0m\u001b]8;;\u001b\\\n",
       "\u001b[2;36m                    \u001b[0m         too short for the current frame rate of \u001b[32m15\u001b[0m FPS. \u001b[1;33mRendering\u001b[0m with the       \u001b[2m             \u001b[0m\n",
       "\u001b[2;36m                    \u001b[0m         shortest possible total run_time of \u001b[32m0.0666667\u001b[0m seconds instead.           \u001b[2m             \u001b[0m\n"
      ]
     },
     "metadata": {},
     "output_type": "display_data"
    },
    {
     "data": {
      "text/html": [
       "<pre style=\"white-space:pre;overflow-x:auto;line-height:normal;font-family:Menlo,'DejaVu Sans Mono',consolas,'Courier New',monospace\"><span style=\"color: #7fbfbf; text-decoration-color: #7fbfbf\">                    </span><span style=\"color: #800000; text-decoration-color: #800000\">WARNING </span> The original total run_time of <span style=\"color: #800080; text-decoration-color: #800080; font-weight: bold\">VibracionNatural.play</span><span style=\"font-weight: bold\">()</span>, <span style=\"color: #008000; text-decoration-color: #008000\">0.05</span> seconds, is <a href=\"file://C:\\Users\\Diego\\anaconda3\\envs\\animaciones\\lib\\site-packages\\manim\\scene\\scene.py\" target=\"_blank\"><span style=\"color: #7f7f7f; text-decoration-color: #7f7f7f\">scene.py</span></a><span style=\"color: #7f7f7f; text-decoration-color: #7f7f7f\">:</span><a href=\"file://C:\\Users\\Diego\\anaconda3\\envs\\animaciones\\lib\\site-packages\\manim\\scene\\scene.py#1044\" target=\"_blank\"><span style=\"color: #7f7f7f; text-decoration-color: #7f7f7f\">1044</span></a>\n",
       "<span style=\"color: #7fbfbf; text-decoration-color: #7fbfbf\">                    </span>         too short for the current frame rate of <span style=\"color: #008000; text-decoration-color: #008000\">15</span> FPS. <span style=\"color: #808000; text-decoration-color: #808000; font-weight: bold\">Rendering</span> with the       <span style=\"color: #7f7f7f; text-decoration-color: #7f7f7f\">             </span>\n",
       "<span style=\"color: #7fbfbf; text-decoration-color: #7fbfbf\">                    </span>         shortest possible total run_time of <span style=\"color: #008000; text-decoration-color: #008000\">0.0666667</span> seconds instead.           <span style=\"color: #7f7f7f; text-decoration-color: #7f7f7f\">             </span>\n",
       "</pre>\n"
      ],
      "text/plain": [
       "\u001b[2;36m                   \u001b[0m\u001b[2;36m \u001b[0m\u001b[31mWARNING \u001b[0m The original total run_time of \u001b[1;35mVibracionNatural.play\u001b[0m\u001b[1m(\u001b[0m\u001b[1m)\u001b[0m, \u001b[32m0.05\u001b[0m seconds, is \u001b]8;id=320244;file://C:\\Users\\Diego\\anaconda3\\envs\\animaciones\\lib\\site-packages\\manim\\scene\\scene.py\u001b\\\u001b[2mscene.py\u001b[0m\u001b]8;;\u001b\\\u001b[2m:\u001b[0m\u001b]8;id=738448;file://C:\\Users\\Diego\\anaconda3\\envs\\animaciones\\lib\\site-packages\\manim\\scene\\scene.py#1044\u001b\\\u001b[2m1044\u001b[0m\u001b]8;;\u001b\\\n",
       "\u001b[2;36m                    \u001b[0m         too short for the current frame rate of \u001b[32m15\u001b[0m FPS. \u001b[1;33mRendering\u001b[0m with the       \u001b[2m             \u001b[0m\n",
       "\u001b[2;36m                    \u001b[0m         shortest possible total run_time of \u001b[32m0.0666667\u001b[0m seconds instead.           \u001b[2m             \u001b[0m\n"
      ]
     },
     "metadata": {},
     "output_type": "display_data"
    },
    {
     "name": "stderr",
     "output_type": "stream",
     "text": [
      "                                                                                                                       "
     ]
    },
    {
     "data": {
      "text/html": [
       "<pre style=\"white-space:pre;overflow-x:auto;line-height:normal;font-family:Menlo,'DejaVu Sans Mono',consolas,'Courier New',monospace\"><span style=\"color: #7fbfbf; text-decoration-color: #7fbfbf\">                    </span><span style=\"color: #800000; text-decoration-color: #800000\">WARNING </span> The original total run_time of <span style=\"color: #800080; text-decoration-color: #800080; font-weight: bold\">VibracionNatural.play</span><span style=\"font-weight: bold\">()</span>, <span style=\"color: #008000; text-decoration-color: #008000\">0.05</span> seconds, is <a href=\"file://C:\\Users\\Diego\\anaconda3\\envs\\animaciones\\lib\\site-packages\\manim\\scene\\scene.py\" target=\"_blank\"><span style=\"color: #7f7f7f; text-decoration-color: #7f7f7f\">scene.py</span></a><span style=\"color: #7f7f7f; text-decoration-color: #7f7f7f\">:</span><a href=\"file://C:\\Users\\Diego\\anaconda3\\envs\\animaciones\\lib\\site-packages\\manim\\scene\\scene.py#1044\" target=\"_blank\"><span style=\"color: #7f7f7f; text-decoration-color: #7f7f7f\">1044</span></a>\n",
       "<span style=\"color: #7fbfbf; text-decoration-color: #7fbfbf\">                    </span>         too short for the current frame rate of <span style=\"color: #008000; text-decoration-color: #008000\">15</span> FPS. <span style=\"color: #808000; text-decoration-color: #808000; font-weight: bold\">Rendering</span> with the       <span style=\"color: #7f7f7f; text-decoration-color: #7f7f7f\">             </span>\n",
       "<span style=\"color: #7fbfbf; text-decoration-color: #7fbfbf\">                    </span>         shortest possible total run_time of <span style=\"color: #008000; text-decoration-color: #008000\">0.0666667</span> seconds instead.           <span style=\"color: #7f7f7f; text-decoration-color: #7f7f7f\">             </span>\n",
       "</pre>\n"
      ],
      "text/plain": [
       "\u001b[2;36m                   \u001b[0m\u001b[2;36m \u001b[0m\u001b[31mWARNING \u001b[0m The original total run_time of \u001b[1;35mVibracionNatural.play\u001b[0m\u001b[1m(\u001b[0m\u001b[1m)\u001b[0m, \u001b[32m0.05\u001b[0m seconds, is \u001b]8;id=334900;file://C:\\Users\\Diego\\anaconda3\\envs\\animaciones\\lib\\site-packages\\manim\\scene\\scene.py\u001b\\\u001b[2mscene.py\u001b[0m\u001b]8;;\u001b\\\u001b[2m:\u001b[0m\u001b]8;id=53760;file://C:\\Users\\Diego\\anaconda3\\envs\\animaciones\\lib\\site-packages\\manim\\scene\\scene.py#1044\u001b\\\u001b[2m1044\u001b[0m\u001b]8;;\u001b\\\n",
       "\u001b[2;36m                    \u001b[0m         too short for the current frame rate of \u001b[32m15\u001b[0m FPS. \u001b[1;33mRendering\u001b[0m with the       \u001b[2m             \u001b[0m\n",
       "\u001b[2;36m                    \u001b[0m         shortest possible total run_time of \u001b[32m0.0666667\u001b[0m seconds instead.           \u001b[2m             \u001b[0m\n"
      ]
     },
     "metadata": {},
     "output_type": "display_data"
    },
    {
     "data": {
      "text/html": [
       "<pre style=\"white-space:pre;overflow-x:auto;line-height:normal;font-family:Menlo,'DejaVu Sans Mono',consolas,'Courier New',monospace\"><span style=\"color: #7fbfbf; text-decoration-color: #7fbfbf\">                    </span><span style=\"color: #800000; text-decoration-color: #800000\">WARNING </span> The original total run_time of <span style=\"color: #800080; text-decoration-color: #800080; font-weight: bold\">VibracionNatural.play</span><span style=\"font-weight: bold\">()</span>, <span style=\"color: #008000; text-decoration-color: #008000\">0.05</span> seconds, is <a href=\"file://C:\\Users\\Diego\\anaconda3\\envs\\animaciones\\lib\\site-packages\\manim\\scene\\scene.py\" target=\"_blank\"><span style=\"color: #7f7f7f; text-decoration-color: #7f7f7f\">scene.py</span></a><span style=\"color: #7f7f7f; text-decoration-color: #7f7f7f\">:</span><a href=\"file://C:\\Users\\Diego\\anaconda3\\envs\\animaciones\\lib\\site-packages\\manim\\scene\\scene.py#1044\" target=\"_blank\"><span style=\"color: #7f7f7f; text-decoration-color: #7f7f7f\">1044</span></a>\n",
       "<span style=\"color: #7fbfbf; text-decoration-color: #7fbfbf\">                    </span>         too short for the current frame rate of <span style=\"color: #008000; text-decoration-color: #008000\">15</span> FPS. <span style=\"color: #808000; text-decoration-color: #808000; font-weight: bold\">Rendering</span> with the       <span style=\"color: #7f7f7f; text-decoration-color: #7f7f7f\">             </span>\n",
       "<span style=\"color: #7fbfbf; text-decoration-color: #7fbfbf\">                    </span>         shortest possible total run_time of <span style=\"color: #008000; text-decoration-color: #008000\">0.0666667</span> seconds instead.           <span style=\"color: #7f7f7f; text-decoration-color: #7f7f7f\">             </span>\n",
       "</pre>\n"
      ],
      "text/plain": [
       "\u001b[2;36m                   \u001b[0m\u001b[2;36m \u001b[0m\u001b[31mWARNING \u001b[0m The original total run_time of \u001b[1;35mVibracionNatural.play\u001b[0m\u001b[1m(\u001b[0m\u001b[1m)\u001b[0m, \u001b[32m0.05\u001b[0m seconds, is \u001b]8;id=674824;file://C:\\Users\\Diego\\anaconda3\\envs\\animaciones\\lib\\site-packages\\manim\\scene\\scene.py\u001b\\\u001b[2mscene.py\u001b[0m\u001b]8;;\u001b\\\u001b[2m:\u001b[0m\u001b]8;id=395553;file://C:\\Users\\Diego\\anaconda3\\envs\\animaciones\\lib\\site-packages\\manim\\scene\\scene.py#1044\u001b\\\u001b[2m1044\u001b[0m\u001b]8;;\u001b\\\n",
       "\u001b[2;36m                    \u001b[0m         too short for the current frame rate of \u001b[32m15\u001b[0m FPS. \u001b[1;33mRendering\u001b[0m with the       \u001b[2m             \u001b[0m\n",
       "\u001b[2;36m                    \u001b[0m         shortest possible total run_time of \u001b[32m0.0666667\u001b[0m seconds instead.           \u001b[2m             \u001b[0m\n"
      ]
     },
     "metadata": {},
     "output_type": "display_data"
    },
    {
     "name": "stderr",
     "output_type": "stream",
     "text": [
      "                                                                                                                       "
     ]
    },
    {
     "data": {
      "text/html": [
       "<pre style=\"white-space:pre;overflow-x:auto;line-height:normal;font-family:Menlo,'DejaVu Sans Mono',consolas,'Courier New',monospace\"><span style=\"color: #7fbfbf; text-decoration-color: #7fbfbf\">                    </span><span style=\"color: #800000; text-decoration-color: #800000\">WARNING </span> The original total run_time of <span style=\"color: #800080; text-decoration-color: #800080; font-weight: bold\">VibracionNatural.play</span><span style=\"font-weight: bold\">()</span>, <span style=\"color: #008000; text-decoration-color: #008000\">0.05</span> seconds, is <a href=\"file://C:\\Users\\Diego\\anaconda3\\envs\\animaciones\\lib\\site-packages\\manim\\scene\\scene.py\" target=\"_blank\"><span style=\"color: #7f7f7f; text-decoration-color: #7f7f7f\">scene.py</span></a><span style=\"color: #7f7f7f; text-decoration-color: #7f7f7f\">:</span><a href=\"file://C:\\Users\\Diego\\anaconda3\\envs\\animaciones\\lib\\site-packages\\manim\\scene\\scene.py#1044\" target=\"_blank\"><span style=\"color: #7f7f7f; text-decoration-color: #7f7f7f\">1044</span></a>\n",
       "<span style=\"color: #7fbfbf; text-decoration-color: #7fbfbf\">                    </span>         too short for the current frame rate of <span style=\"color: #008000; text-decoration-color: #008000\">15</span> FPS. <span style=\"color: #808000; text-decoration-color: #808000; font-weight: bold\">Rendering</span> with the       <span style=\"color: #7f7f7f; text-decoration-color: #7f7f7f\">             </span>\n",
       "<span style=\"color: #7fbfbf; text-decoration-color: #7fbfbf\">                    </span>         shortest possible total run_time of <span style=\"color: #008000; text-decoration-color: #008000\">0.0666667</span> seconds instead.           <span style=\"color: #7f7f7f; text-decoration-color: #7f7f7f\">             </span>\n",
       "</pre>\n"
      ],
      "text/plain": [
       "\u001b[2;36m                   \u001b[0m\u001b[2;36m \u001b[0m\u001b[31mWARNING \u001b[0m The original total run_time of \u001b[1;35mVibracionNatural.play\u001b[0m\u001b[1m(\u001b[0m\u001b[1m)\u001b[0m, \u001b[32m0.05\u001b[0m seconds, is \u001b]8;id=224958;file://C:\\Users\\Diego\\anaconda3\\envs\\animaciones\\lib\\site-packages\\manim\\scene\\scene.py\u001b\\\u001b[2mscene.py\u001b[0m\u001b]8;;\u001b\\\u001b[2m:\u001b[0m\u001b]8;id=197767;file://C:\\Users\\Diego\\anaconda3\\envs\\animaciones\\lib\\site-packages\\manim\\scene\\scene.py#1044\u001b\\\u001b[2m1044\u001b[0m\u001b]8;;\u001b\\\n",
       "\u001b[2;36m                    \u001b[0m         too short for the current frame rate of \u001b[32m15\u001b[0m FPS. \u001b[1;33mRendering\u001b[0m with the       \u001b[2m             \u001b[0m\n",
       "\u001b[2;36m                    \u001b[0m         shortest possible total run_time of \u001b[32m0.0666667\u001b[0m seconds instead.           \u001b[2m             \u001b[0m\n"
      ]
     },
     "metadata": {},
     "output_type": "display_data"
    },
    {
     "data": {
      "text/html": [
       "<pre style=\"white-space:pre;overflow-x:auto;line-height:normal;font-family:Menlo,'DejaVu Sans Mono',consolas,'Courier New',monospace\"><span style=\"color: #7fbfbf; text-decoration-color: #7fbfbf\">                    </span><span style=\"color: #800000; text-decoration-color: #800000\">WARNING </span> The original total run_time of <span style=\"color: #800080; text-decoration-color: #800080; font-weight: bold\">VibracionNatural.play</span><span style=\"font-weight: bold\">()</span>, <span style=\"color: #008000; text-decoration-color: #008000\">0.05</span> seconds, is <a href=\"file://C:\\Users\\Diego\\anaconda3\\envs\\animaciones\\lib\\site-packages\\manim\\scene\\scene.py\" target=\"_blank\"><span style=\"color: #7f7f7f; text-decoration-color: #7f7f7f\">scene.py</span></a><span style=\"color: #7f7f7f; text-decoration-color: #7f7f7f\">:</span><a href=\"file://C:\\Users\\Diego\\anaconda3\\envs\\animaciones\\lib\\site-packages\\manim\\scene\\scene.py#1044\" target=\"_blank\"><span style=\"color: #7f7f7f; text-decoration-color: #7f7f7f\">1044</span></a>\n",
       "<span style=\"color: #7fbfbf; text-decoration-color: #7fbfbf\">                    </span>         too short for the current frame rate of <span style=\"color: #008000; text-decoration-color: #008000\">15</span> FPS. <span style=\"color: #808000; text-decoration-color: #808000; font-weight: bold\">Rendering</span> with the       <span style=\"color: #7f7f7f; text-decoration-color: #7f7f7f\">             </span>\n",
       "<span style=\"color: #7fbfbf; text-decoration-color: #7fbfbf\">                    </span>         shortest possible total run_time of <span style=\"color: #008000; text-decoration-color: #008000\">0.0666667</span> seconds instead.           <span style=\"color: #7f7f7f; text-decoration-color: #7f7f7f\">             </span>\n",
       "</pre>\n"
      ],
      "text/plain": [
       "\u001b[2;36m                   \u001b[0m\u001b[2;36m \u001b[0m\u001b[31mWARNING \u001b[0m The original total run_time of \u001b[1;35mVibracionNatural.play\u001b[0m\u001b[1m(\u001b[0m\u001b[1m)\u001b[0m, \u001b[32m0.05\u001b[0m seconds, is \u001b]8;id=852716;file://C:\\Users\\Diego\\anaconda3\\envs\\animaciones\\lib\\site-packages\\manim\\scene\\scene.py\u001b\\\u001b[2mscene.py\u001b[0m\u001b]8;;\u001b\\\u001b[2m:\u001b[0m\u001b]8;id=360879;file://C:\\Users\\Diego\\anaconda3\\envs\\animaciones\\lib\\site-packages\\manim\\scene\\scene.py#1044\u001b\\\u001b[2m1044\u001b[0m\u001b]8;;\u001b\\\n",
       "\u001b[2;36m                    \u001b[0m         too short for the current frame rate of \u001b[32m15\u001b[0m FPS. \u001b[1;33mRendering\u001b[0m with the       \u001b[2m             \u001b[0m\n",
       "\u001b[2;36m                    \u001b[0m         shortest possible total run_time of \u001b[32m0.0666667\u001b[0m seconds instead.           \u001b[2m             \u001b[0m\n"
      ]
     },
     "metadata": {},
     "output_type": "display_data"
    },
    {
     "name": "stderr",
     "output_type": "stream",
     "text": [
      "                                                                                                                       "
     ]
    },
    {
     "data": {
      "text/html": [
       "<pre style=\"white-space:pre;overflow-x:auto;line-height:normal;font-family:Menlo,'DejaVu Sans Mono',consolas,'Courier New',monospace\"><span style=\"color: #7fbfbf; text-decoration-color: #7fbfbf\">                    </span><span style=\"color: #800000; text-decoration-color: #800000\">WARNING </span> The original total run_time of <span style=\"color: #800080; text-decoration-color: #800080; font-weight: bold\">VibracionNatural.play</span><span style=\"font-weight: bold\">()</span>, <span style=\"color: #008000; text-decoration-color: #008000\">0.05</span> seconds, is <a href=\"file://C:\\Users\\Diego\\anaconda3\\envs\\animaciones\\lib\\site-packages\\manim\\scene\\scene.py\" target=\"_blank\"><span style=\"color: #7f7f7f; text-decoration-color: #7f7f7f\">scene.py</span></a><span style=\"color: #7f7f7f; text-decoration-color: #7f7f7f\">:</span><a href=\"file://C:\\Users\\Diego\\anaconda3\\envs\\animaciones\\lib\\site-packages\\manim\\scene\\scene.py#1044\" target=\"_blank\"><span style=\"color: #7f7f7f; text-decoration-color: #7f7f7f\">1044</span></a>\n",
       "<span style=\"color: #7fbfbf; text-decoration-color: #7fbfbf\">                    </span>         too short for the current frame rate of <span style=\"color: #008000; text-decoration-color: #008000\">15</span> FPS. <span style=\"color: #808000; text-decoration-color: #808000; font-weight: bold\">Rendering</span> with the       <span style=\"color: #7f7f7f; text-decoration-color: #7f7f7f\">             </span>\n",
       "<span style=\"color: #7fbfbf; text-decoration-color: #7fbfbf\">                    </span>         shortest possible total run_time of <span style=\"color: #008000; text-decoration-color: #008000\">0.0666667</span> seconds instead.           <span style=\"color: #7f7f7f; text-decoration-color: #7f7f7f\">             </span>\n",
       "</pre>\n"
      ],
      "text/plain": [
       "\u001b[2;36m                   \u001b[0m\u001b[2;36m \u001b[0m\u001b[31mWARNING \u001b[0m The original total run_time of \u001b[1;35mVibracionNatural.play\u001b[0m\u001b[1m(\u001b[0m\u001b[1m)\u001b[0m, \u001b[32m0.05\u001b[0m seconds, is \u001b]8;id=578322;file://C:\\Users\\Diego\\anaconda3\\envs\\animaciones\\lib\\site-packages\\manim\\scene\\scene.py\u001b\\\u001b[2mscene.py\u001b[0m\u001b]8;;\u001b\\\u001b[2m:\u001b[0m\u001b]8;id=131744;file://C:\\Users\\Diego\\anaconda3\\envs\\animaciones\\lib\\site-packages\\manim\\scene\\scene.py#1044\u001b\\\u001b[2m1044\u001b[0m\u001b]8;;\u001b\\\n",
       "\u001b[2;36m                    \u001b[0m         too short for the current frame rate of \u001b[32m15\u001b[0m FPS. \u001b[1;33mRendering\u001b[0m with the       \u001b[2m             \u001b[0m\n",
       "\u001b[2;36m                    \u001b[0m         shortest possible total run_time of \u001b[32m0.0666667\u001b[0m seconds instead.           \u001b[2m             \u001b[0m\n"
      ]
     },
     "metadata": {},
     "output_type": "display_data"
    },
    {
     "data": {
      "text/html": [
       "<pre style=\"white-space:pre;overflow-x:auto;line-height:normal;font-family:Menlo,'DejaVu Sans Mono',consolas,'Courier New',monospace\"><span style=\"color: #7fbfbf; text-decoration-color: #7fbfbf\">                    </span><span style=\"color: #800000; text-decoration-color: #800000\">WARNING </span> The original total run_time of <span style=\"color: #800080; text-decoration-color: #800080; font-weight: bold\">VibracionNatural.play</span><span style=\"font-weight: bold\">()</span>, <span style=\"color: #008000; text-decoration-color: #008000\">0.05</span> seconds, is <a href=\"file://C:\\Users\\Diego\\anaconda3\\envs\\animaciones\\lib\\site-packages\\manim\\scene\\scene.py\" target=\"_blank\"><span style=\"color: #7f7f7f; text-decoration-color: #7f7f7f\">scene.py</span></a><span style=\"color: #7f7f7f; text-decoration-color: #7f7f7f\">:</span><a href=\"file://C:\\Users\\Diego\\anaconda3\\envs\\animaciones\\lib\\site-packages\\manim\\scene\\scene.py#1044\" target=\"_blank\"><span style=\"color: #7f7f7f; text-decoration-color: #7f7f7f\">1044</span></a>\n",
       "<span style=\"color: #7fbfbf; text-decoration-color: #7fbfbf\">                    </span>         too short for the current frame rate of <span style=\"color: #008000; text-decoration-color: #008000\">15</span> FPS. <span style=\"color: #808000; text-decoration-color: #808000; font-weight: bold\">Rendering</span> with the       <span style=\"color: #7f7f7f; text-decoration-color: #7f7f7f\">             </span>\n",
       "<span style=\"color: #7fbfbf; text-decoration-color: #7fbfbf\">                    </span>         shortest possible total run_time of <span style=\"color: #008000; text-decoration-color: #008000\">0.0666667</span> seconds instead.           <span style=\"color: #7f7f7f; text-decoration-color: #7f7f7f\">             </span>\n",
       "</pre>\n"
      ],
      "text/plain": [
       "\u001b[2;36m                   \u001b[0m\u001b[2;36m \u001b[0m\u001b[31mWARNING \u001b[0m The original total run_time of \u001b[1;35mVibracionNatural.play\u001b[0m\u001b[1m(\u001b[0m\u001b[1m)\u001b[0m, \u001b[32m0.05\u001b[0m seconds, is \u001b]8;id=16258;file://C:\\Users\\Diego\\anaconda3\\envs\\animaciones\\lib\\site-packages\\manim\\scene\\scene.py\u001b\\\u001b[2mscene.py\u001b[0m\u001b]8;;\u001b\\\u001b[2m:\u001b[0m\u001b]8;id=47335;file://C:\\Users\\Diego\\anaconda3\\envs\\animaciones\\lib\\site-packages\\manim\\scene\\scene.py#1044\u001b\\\u001b[2m1044\u001b[0m\u001b]8;;\u001b\\\n",
       "\u001b[2;36m                    \u001b[0m         too short for the current frame rate of \u001b[32m15\u001b[0m FPS. \u001b[1;33mRendering\u001b[0m with the       \u001b[2m             \u001b[0m\n",
       "\u001b[2;36m                    \u001b[0m         shortest possible total run_time of \u001b[32m0.0666667\u001b[0m seconds instead.           \u001b[2m             \u001b[0m\n"
      ]
     },
     "metadata": {},
     "output_type": "display_data"
    },
    {
     "name": "stderr",
     "output_type": "stream",
     "text": [
      "                                                                                                                       "
     ]
    },
    {
     "data": {
      "text/html": [
       "<pre style=\"white-space:pre;overflow-x:auto;line-height:normal;font-family:Menlo,'DejaVu Sans Mono',consolas,'Courier New',monospace\"><span style=\"color: #7fbfbf; text-decoration-color: #7fbfbf\">                    </span><span style=\"color: #800000; text-decoration-color: #800000\">WARNING </span> The original total run_time of <span style=\"color: #800080; text-decoration-color: #800080; font-weight: bold\">VibracionNatural.play</span><span style=\"font-weight: bold\">()</span>, <span style=\"color: #008000; text-decoration-color: #008000\">0.05</span> seconds, is <a href=\"file://C:\\Users\\Diego\\anaconda3\\envs\\animaciones\\lib\\site-packages\\manim\\scene\\scene.py\" target=\"_blank\"><span style=\"color: #7f7f7f; text-decoration-color: #7f7f7f\">scene.py</span></a><span style=\"color: #7f7f7f; text-decoration-color: #7f7f7f\">:</span><a href=\"file://C:\\Users\\Diego\\anaconda3\\envs\\animaciones\\lib\\site-packages\\manim\\scene\\scene.py#1044\" target=\"_blank\"><span style=\"color: #7f7f7f; text-decoration-color: #7f7f7f\">1044</span></a>\n",
       "<span style=\"color: #7fbfbf; text-decoration-color: #7fbfbf\">                    </span>         too short for the current frame rate of <span style=\"color: #008000; text-decoration-color: #008000\">15</span> FPS. <span style=\"color: #808000; text-decoration-color: #808000; font-weight: bold\">Rendering</span> with the       <span style=\"color: #7f7f7f; text-decoration-color: #7f7f7f\">             </span>\n",
       "<span style=\"color: #7fbfbf; text-decoration-color: #7fbfbf\">                    </span>         shortest possible total run_time of <span style=\"color: #008000; text-decoration-color: #008000\">0.0666667</span> seconds instead.           <span style=\"color: #7f7f7f; text-decoration-color: #7f7f7f\">             </span>\n",
       "</pre>\n"
      ],
      "text/plain": [
       "\u001b[2;36m                   \u001b[0m\u001b[2;36m \u001b[0m\u001b[31mWARNING \u001b[0m The original total run_time of \u001b[1;35mVibracionNatural.play\u001b[0m\u001b[1m(\u001b[0m\u001b[1m)\u001b[0m, \u001b[32m0.05\u001b[0m seconds, is \u001b]8;id=216513;file://C:\\Users\\Diego\\anaconda3\\envs\\animaciones\\lib\\site-packages\\manim\\scene\\scene.py\u001b\\\u001b[2mscene.py\u001b[0m\u001b]8;;\u001b\\\u001b[2m:\u001b[0m\u001b]8;id=513076;file://C:\\Users\\Diego\\anaconda3\\envs\\animaciones\\lib\\site-packages\\manim\\scene\\scene.py#1044\u001b\\\u001b[2m1044\u001b[0m\u001b]8;;\u001b\\\n",
       "\u001b[2;36m                    \u001b[0m         too short for the current frame rate of \u001b[32m15\u001b[0m FPS. \u001b[1;33mRendering\u001b[0m with the       \u001b[2m             \u001b[0m\n",
       "\u001b[2;36m                    \u001b[0m         shortest possible total run_time of \u001b[32m0.0666667\u001b[0m seconds instead.           \u001b[2m             \u001b[0m\n"
      ]
     },
     "metadata": {},
     "output_type": "display_data"
    },
    {
     "data": {
      "text/html": [
       "<pre style=\"white-space:pre;overflow-x:auto;line-height:normal;font-family:Menlo,'DejaVu Sans Mono',consolas,'Courier New',monospace\"><span style=\"color: #7fbfbf; text-decoration-color: #7fbfbf\">                    </span><span style=\"color: #800000; text-decoration-color: #800000\">WARNING </span> The original total run_time of <span style=\"color: #800080; text-decoration-color: #800080; font-weight: bold\">VibracionNatural.play</span><span style=\"font-weight: bold\">()</span>, <span style=\"color: #008000; text-decoration-color: #008000\">0.05</span> seconds, is <a href=\"file://C:\\Users\\Diego\\anaconda3\\envs\\animaciones\\lib\\site-packages\\manim\\scene\\scene.py\" target=\"_blank\"><span style=\"color: #7f7f7f; text-decoration-color: #7f7f7f\">scene.py</span></a><span style=\"color: #7f7f7f; text-decoration-color: #7f7f7f\">:</span><a href=\"file://C:\\Users\\Diego\\anaconda3\\envs\\animaciones\\lib\\site-packages\\manim\\scene\\scene.py#1044\" target=\"_blank\"><span style=\"color: #7f7f7f; text-decoration-color: #7f7f7f\">1044</span></a>\n",
       "<span style=\"color: #7fbfbf; text-decoration-color: #7fbfbf\">                    </span>         too short for the current frame rate of <span style=\"color: #008000; text-decoration-color: #008000\">15</span> FPS. <span style=\"color: #808000; text-decoration-color: #808000; font-weight: bold\">Rendering</span> with the       <span style=\"color: #7f7f7f; text-decoration-color: #7f7f7f\">             </span>\n",
       "<span style=\"color: #7fbfbf; text-decoration-color: #7fbfbf\">                    </span>         shortest possible total run_time of <span style=\"color: #008000; text-decoration-color: #008000\">0.0666667</span> seconds instead.           <span style=\"color: #7f7f7f; text-decoration-color: #7f7f7f\">             </span>\n",
       "</pre>\n"
      ],
      "text/plain": [
       "\u001b[2;36m                   \u001b[0m\u001b[2;36m \u001b[0m\u001b[31mWARNING \u001b[0m The original total run_time of \u001b[1;35mVibracionNatural.play\u001b[0m\u001b[1m(\u001b[0m\u001b[1m)\u001b[0m, \u001b[32m0.05\u001b[0m seconds, is \u001b]8;id=237559;file://C:\\Users\\Diego\\anaconda3\\envs\\animaciones\\lib\\site-packages\\manim\\scene\\scene.py\u001b\\\u001b[2mscene.py\u001b[0m\u001b]8;;\u001b\\\u001b[2m:\u001b[0m\u001b]8;id=949538;file://C:\\Users\\Diego\\anaconda3\\envs\\animaciones\\lib\\site-packages\\manim\\scene\\scene.py#1044\u001b\\\u001b[2m1044\u001b[0m\u001b]8;;\u001b\\\n",
       "\u001b[2;36m                    \u001b[0m         too short for the current frame rate of \u001b[32m15\u001b[0m FPS. \u001b[1;33mRendering\u001b[0m with the       \u001b[2m             \u001b[0m\n",
       "\u001b[2;36m                    \u001b[0m         shortest possible total run_time of \u001b[32m0.0666667\u001b[0m seconds instead.           \u001b[2m             \u001b[0m\n"
      ]
     },
     "metadata": {},
     "output_type": "display_data"
    },
    {
     "name": "stderr",
     "output_type": "stream",
     "text": [
      "                                                                                                                       "
     ]
    },
    {
     "data": {
      "text/html": [
       "<pre style=\"white-space:pre;overflow-x:auto;line-height:normal;font-family:Menlo,'DejaVu Sans Mono',consolas,'Courier New',monospace\"><span style=\"color: #7fbfbf; text-decoration-color: #7fbfbf\">                    </span><span style=\"color: #800000; text-decoration-color: #800000\">WARNING </span> The original total run_time of <span style=\"color: #800080; text-decoration-color: #800080; font-weight: bold\">VibracionNatural.play</span><span style=\"font-weight: bold\">()</span>, <span style=\"color: #008000; text-decoration-color: #008000\">0.05</span> seconds, is <a href=\"file://C:\\Users\\Diego\\anaconda3\\envs\\animaciones\\lib\\site-packages\\manim\\scene\\scene.py\" target=\"_blank\"><span style=\"color: #7f7f7f; text-decoration-color: #7f7f7f\">scene.py</span></a><span style=\"color: #7f7f7f; text-decoration-color: #7f7f7f\">:</span><a href=\"file://C:\\Users\\Diego\\anaconda3\\envs\\animaciones\\lib\\site-packages\\manim\\scene\\scene.py#1044\" target=\"_blank\"><span style=\"color: #7f7f7f; text-decoration-color: #7f7f7f\">1044</span></a>\n",
       "<span style=\"color: #7fbfbf; text-decoration-color: #7fbfbf\">                    </span>         too short for the current frame rate of <span style=\"color: #008000; text-decoration-color: #008000\">15</span> FPS. <span style=\"color: #808000; text-decoration-color: #808000; font-weight: bold\">Rendering</span> with the       <span style=\"color: #7f7f7f; text-decoration-color: #7f7f7f\">             </span>\n",
       "<span style=\"color: #7fbfbf; text-decoration-color: #7fbfbf\">                    </span>         shortest possible total run_time of <span style=\"color: #008000; text-decoration-color: #008000\">0.0666667</span> seconds instead.           <span style=\"color: #7f7f7f; text-decoration-color: #7f7f7f\">             </span>\n",
       "</pre>\n"
      ],
      "text/plain": [
       "\u001b[2;36m                   \u001b[0m\u001b[2;36m \u001b[0m\u001b[31mWARNING \u001b[0m The original total run_time of \u001b[1;35mVibracionNatural.play\u001b[0m\u001b[1m(\u001b[0m\u001b[1m)\u001b[0m, \u001b[32m0.05\u001b[0m seconds, is \u001b]8;id=364072;file://C:\\Users\\Diego\\anaconda3\\envs\\animaciones\\lib\\site-packages\\manim\\scene\\scene.py\u001b\\\u001b[2mscene.py\u001b[0m\u001b]8;;\u001b\\\u001b[2m:\u001b[0m\u001b]8;id=707048;file://C:\\Users\\Diego\\anaconda3\\envs\\animaciones\\lib\\site-packages\\manim\\scene\\scene.py#1044\u001b\\\u001b[2m1044\u001b[0m\u001b]8;;\u001b\\\n",
       "\u001b[2;36m                    \u001b[0m         too short for the current frame rate of \u001b[32m15\u001b[0m FPS. \u001b[1;33mRendering\u001b[0m with the       \u001b[2m             \u001b[0m\n",
       "\u001b[2;36m                    \u001b[0m         shortest possible total run_time of \u001b[32m0.0666667\u001b[0m seconds instead.           \u001b[2m             \u001b[0m\n"
      ]
     },
     "metadata": {},
     "output_type": "display_data"
    },
    {
     "data": {
      "text/html": [
       "<pre style=\"white-space:pre;overflow-x:auto;line-height:normal;font-family:Menlo,'DejaVu Sans Mono',consolas,'Courier New',monospace\"><span style=\"color: #7fbfbf; text-decoration-color: #7fbfbf\">                    </span><span style=\"color: #800000; text-decoration-color: #800000\">WARNING </span> The original total run_time of <span style=\"color: #800080; text-decoration-color: #800080; font-weight: bold\">VibracionNatural.play</span><span style=\"font-weight: bold\">()</span>, <span style=\"color: #008000; text-decoration-color: #008000\">0.05</span> seconds, is <a href=\"file://C:\\Users\\Diego\\anaconda3\\envs\\animaciones\\lib\\site-packages\\manim\\scene\\scene.py\" target=\"_blank\"><span style=\"color: #7f7f7f; text-decoration-color: #7f7f7f\">scene.py</span></a><span style=\"color: #7f7f7f; text-decoration-color: #7f7f7f\">:</span><a href=\"file://C:\\Users\\Diego\\anaconda3\\envs\\animaciones\\lib\\site-packages\\manim\\scene\\scene.py#1044\" target=\"_blank\"><span style=\"color: #7f7f7f; text-decoration-color: #7f7f7f\">1044</span></a>\n",
       "<span style=\"color: #7fbfbf; text-decoration-color: #7fbfbf\">                    </span>         too short for the current frame rate of <span style=\"color: #008000; text-decoration-color: #008000\">15</span> FPS. <span style=\"color: #808000; text-decoration-color: #808000; font-weight: bold\">Rendering</span> with the       <span style=\"color: #7f7f7f; text-decoration-color: #7f7f7f\">             </span>\n",
       "<span style=\"color: #7fbfbf; text-decoration-color: #7fbfbf\">                    </span>         shortest possible total run_time of <span style=\"color: #008000; text-decoration-color: #008000\">0.0666667</span> seconds instead.           <span style=\"color: #7f7f7f; text-decoration-color: #7f7f7f\">             </span>\n",
       "</pre>\n"
      ],
      "text/plain": [
       "\u001b[2;36m                   \u001b[0m\u001b[2;36m \u001b[0m\u001b[31mWARNING \u001b[0m The original total run_time of \u001b[1;35mVibracionNatural.play\u001b[0m\u001b[1m(\u001b[0m\u001b[1m)\u001b[0m, \u001b[32m0.05\u001b[0m seconds, is \u001b]8;id=286805;file://C:\\Users\\Diego\\anaconda3\\envs\\animaciones\\lib\\site-packages\\manim\\scene\\scene.py\u001b\\\u001b[2mscene.py\u001b[0m\u001b]8;;\u001b\\\u001b[2m:\u001b[0m\u001b]8;id=496188;file://C:\\Users\\Diego\\anaconda3\\envs\\animaciones\\lib\\site-packages\\manim\\scene\\scene.py#1044\u001b\\\u001b[2m1044\u001b[0m\u001b]8;;\u001b\\\n",
       "\u001b[2;36m                    \u001b[0m         too short for the current frame rate of \u001b[32m15\u001b[0m FPS. \u001b[1;33mRendering\u001b[0m with the       \u001b[2m             \u001b[0m\n",
       "\u001b[2;36m                    \u001b[0m         shortest possible total run_time of \u001b[32m0.0666667\u001b[0m seconds instead.           \u001b[2m             \u001b[0m\n"
      ]
     },
     "metadata": {},
     "output_type": "display_data"
    },
    {
     "name": "stderr",
     "output_type": "stream",
     "text": [
      "                                                                                                                       "
     ]
    },
    {
     "data": {
      "text/html": [
       "<pre style=\"white-space:pre;overflow-x:auto;line-height:normal;font-family:Menlo,'DejaVu Sans Mono',consolas,'Courier New',monospace\"><span style=\"color: #7fbfbf; text-decoration-color: #7fbfbf\">[04/26/25 22:20:57] </span><span style=\"color: #800000; text-decoration-color: #800000\">WARNING </span> The original total run_time of <span style=\"color: #800080; text-decoration-color: #800080; font-weight: bold\">VibracionNatural.play</span><span style=\"font-weight: bold\">()</span>, <span style=\"color: #008000; text-decoration-color: #008000\">0.05</span> seconds, is <a href=\"file://C:\\Users\\Diego\\anaconda3\\envs\\animaciones\\lib\\site-packages\\manim\\scene\\scene.py\" target=\"_blank\"><span style=\"color: #7f7f7f; text-decoration-color: #7f7f7f\">scene.py</span></a><span style=\"color: #7f7f7f; text-decoration-color: #7f7f7f\">:</span><a href=\"file://C:\\Users\\Diego\\anaconda3\\envs\\animaciones\\lib\\site-packages\\manim\\scene\\scene.py#1044\" target=\"_blank\"><span style=\"color: #7f7f7f; text-decoration-color: #7f7f7f\">1044</span></a>\n",
       "<span style=\"color: #7fbfbf; text-decoration-color: #7fbfbf\">                    </span>         too short for the current frame rate of <span style=\"color: #008000; text-decoration-color: #008000\">15</span> FPS. <span style=\"color: #808000; text-decoration-color: #808000; font-weight: bold\">Rendering</span> with the       <span style=\"color: #7f7f7f; text-decoration-color: #7f7f7f\">             </span>\n",
       "<span style=\"color: #7fbfbf; text-decoration-color: #7fbfbf\">                    </span>         shortest possible total run_time of <span style=\"color: #008000; text-decoration-color: #008000\">0.0666667</span> seconds instead.           <span style=\"color: #7f7f7f; text-decoration-color: #7f7f7f\">             </span>\n",
       "</pre>\n"
      ],
      "text/plain": [
       "\u001b[2;36m[04/26/25 22:20:57]\u001b[0m\u001b[2;36m \u001b[0m\u001b[31mWARNING \u001b[0m The original total run_time of \u001b[1;35mVibracionNatural.play\u001b[0m\u001b[1m(\u001b[0m\u001b[1m)\u001b[0m, \u001b[32m0.05\u001b[0m seconds, is \u001b]8;id=114056;file://C:\\Users\\Diego\\anaconda3\\envs\\animaciones\\lib\\site-packages\\manim\\scene\\scene.py\u001b\\\u001b[2mscene.py\u001b[0m\u001b]8;;\u001b\\\u001b[2m:\u001b[0m\u001b]8;id=503063;file://C:\\Users\\Diego\\anaconda3\\envs\\animaciones\\lib\\site-packages\\manim\\scene\\scene.py#1044\u001b\\\u001b[2m1044\u001b[0m\u001b]8;;\u001b\\\n",
       "\u001b[2;36m                    \u001b[0m         too short for the current frame rate of \u001b[32m15\u001b[0m FPS. \u001b[1;33mRendering\u001b[0m with the       \u001b[2m             \u001b[0m\n",
       "\u001b[2;36m                    \u001b[0m         shortest possible total run_time of \u001b[32m0.0666667\u001b[0m seconds instead.           \u001b[2m             \u001b[0m\n"
      ]
     },
     "metadata": {},
     "output_type": "display_data"
    },
    {
     "data": {
      "text/html": [
       "<pre style=\"white-space:pre;overflow-x:auto;line-height:normal;font-family:Menlo,'DejaVu Sans Mono',consolas,'Courier New',monospace\"><span style=\"color: #7fbfbf; text-decoration-color: #7fbfbf\">[04/26/25 22:20:59] </span><span style=\"color: #800000; text-decoration-color: #800000\">WARNING </span> The original total run_time of <span style=\"color: #800080; text-decoration-color: #800080; font-weight: bold\">VibracionNatural.play</span><span style=\"font-weight: bold\">()</span>, <span style=\"color: #008000; text-decoration-color: #008000\">0.05</span> seconds, is <a href=\"file://C:\\Users\\Diego\\anaconda3\\envs\\animaciones\\lib\\site-packages\\manim\\scene\\scene.py\" target=\"_blank\"><span style=\"color: #7f7f7f; text-decoration-color: #7f7f7f\">scene.py</span></a><span style=\"color: #7f7f7f; text-decoration-color: #7f7f7f\">:</span><a href=\"file://C:\\Users\\Diego\\anaconda3\\envs\\animaciones\\lib\\site-packages\\manim\\scene\\scene.py#1044\" target=\"_blank\"><span style=\"color: #7f7f7f; text-decoration-color: #7f7f7f\">1044</span></a>\n",
       "<span style=\"color: #7fbfbf; text-decoration-color: #7fbfbf\">                    </span>         too short for the current frame rate of <span style=\"color: #008000; text-decoration-color: #008000\">15</span> FPS. <span style=\"color: #808000; text-decoration-color: #808000; font-weight: bold\">Rendering</span> with the       <span style=\"color: #7f7f7f; text-decoration-color: #7f7f7f\">             </span>\n",
       "<span style=\"color: #7fbfbf; text-decoration-color: #7fbfbf\">                    </span>         shortest possible total run_time of <span style=\"color: #008000; text-decoration-color: #008000\">0.0666667</span> seconds instead.           <span style=\"color: #7f7f7f; text-decoration-color: #7f7f7f\">             </span>\n",
       "</pre>\n"
      ],
      "text/plain": [
       "\u001b[2;36m[04/26/25 22:20:59]\u001b[0m\u001b[2;36m \u001b[0m\u001b[31mWARNING \u001b[0m The original total run_time of \u001b[1;35mVibracionNatural.play\u001b[0m\u001b[1m(\u001b[0m\u001b[1m)\u001b[0m, \u001b[32m0.05\u001b[0m seconds, is \u001b]8;id=356760;file://C:\\Users\\Diego\\anaconda3\\envs\\animaciones\\lib\\site-packages\\manim\\scene\\scene.py\u001b\\\u001b[2mscene.py\u001b[0m\u001b]8;;\u001b\\\u001b[2m:\u001b[0m\u001b]8;id=308436;file://C:\\Users\\Diego\\anaconda3\\envs\\animaciones\\lib\\site-packages\\manim\\scene\\scene.py#1044\u001b\\\u001b[2m1044\u001b[0m\u001b]8;;\u001b\\\n",
       "\u001b[2;36m                    \u001b[0m         too short for the current frame rate of \u001b[32m15\u001b[0m FPS. \u001b[1;33mRendering\u001b[0m with the       \u001b[2m             \u001b[0m\n",
       "\u001b[2;36m                    \u001b[0m         shortest possible total run_time of \u001b[32m0.0666667\u001b[0m seconds instead.           \u001b[2m             \u001b[0m\n"
      ]
     },
     "metadata": {},
     "output_type": "display_data"
    },
    {
     "name": "stderr",
     "output_type": "stream",
     "text": [
      "                                                                                                                       "
     ]
    },
    {
     "data": {
      "text/html": [
       "<pre style=\"white-space:pre;overflow-x:auto;line-height:normal;font-family:Menlo,'DejaVu Sans Mono',consolas,'Courier New',monospace\"><span style=\"color: #7fbfbf; text-decoration-color: #7fbfbf\">                    </span><span style=\"color: #800000; text-decoration-color: #800000\">WARNING </span> The original total run_time of <span style=\"color: #800080; text-decoration-color: #800080; font-weight: bold\">VibracionNatural.play</span><span style=\"font-weight: bold\">()</span>, <span style=\"color: #008000; text-decoration-color: #008000\">0.05</span> seconds, is <a href=\"file://C:\\Users\\Diego\\anaconda3\\envs\\animaciones\\lib\\site-packages\\manim\\scene\\scene.py\" target=\"_blank\"><span style=\"color: #7f7f7f; text-decoration-color: #7f7f7f\">scene.py</span></a><span style=\"color: #7f7f7f; text-decoration-color: #7f7f7f\">:</span><a href=\"file://C:\\Users\\Diego\\anaconda3\\envs\\animaciones\\lib\\site-packages\\manim\\scene\\scene.py#1044\" target=\"_blank\"><span style=\"color: #7f7f7f; text-decoration-color: #7f7f7f\">1044</span></a>\n",
       "<span style=\"color: #7fbfbf; text-decoration-color: #7fbfbf\">                    </span>         too short for the current frame rate of <span style=\"color: #008000; text-decoration-color: #008000\">15</span> FPS. <span style=\"color: #808000; text-decoration-color: #808000; font-weight: bold\">Rendering</span> with the       <span style=\"color: #7f7f7f; text-decoration-color: #7f7f7f\">             </span>\n",
       "<span style=\"color: #7fbfbf; text-decoration-color: #7fbfbf\">                    </span>         shortest possible total run_time of <span style=\"color: #008000; text-decoration-color: #008000\">0.0666667</span> seconds instead.           <span style=\"color: #7f7f7f; text-decoration-color: #7f7f7f\">             </span>\n",
       "</pre>\n"
      ],
      "text/plain": [
       "\u001b[2;36m                   \u001b[0m\u001b[2;36m \u001b[0m\u001b[31mWARNING \u001b[0m The original total run_time of \u001b[1;35mVibracionNatural.play\u001b[0m\u001b[1m(\u001b[0m\u001b[1m)\u001b[0m, \u001b[32m0.05\u001b[0m seconds, is \u001b]8;id=776836;file://C:\\Users\\Diego\\anaconda3\\envs\\animaciones\\lib\\site-packages\\manim\\scene\\scene.py\u001b\\\u001b[2mscene.py\u001b[0m\u001b]8;;\u001b\\\u001b[2m:\u001b[0m\u001b]8;id=60509;file://C:\\Users\\Diego\\anaconda3\\envs\\animaciones\\lib\\site-packages\\manim\\scene\\scene.py#1044\u001b\\\u001b[2m1044\u001b[0m\u001b]8;;\u001b\\\n",
       "\u001b[2;36m                    \u001b[0m         too short for the current frame rate of \u001b[32m15\u001b[0m FPS. \u001b[1;33mRendering\u001b[0m with the       \u001b[2m             \u001b[0m\n",
       "\u001b[2;36m                    \u001b[0m         shortest possible total run_time of \u001b[32m0.0666667\u001b[0m seconds instead.           \u001b[2m             \u001b[0m\n"
      ]
     },
     "metadata": {},
     "output_type": "display_data"
    },
    {
     "data": {
      "text/html": [
       "<pre style=\"white-space:pre;overflow-x:auto;line-height:normal;font-family:Menlo,'DejaVu Sans Mono',consolas,'Courier New',monospace\"><span style=\"color: #7fbfbf; text-decoration-color: #7fbfbf\">                    </span><span style=\"color: #800000; text-decoration-color: #800000\">WARNING </span> The original total run_time of <span style=\"color: #800080; text-decoration-color: #800080; font-weight: bold\">VibracionNatural.play</span><span style=\"font-weight: bold\">()</span>, <span style=\"color: #008000; text-decoration-color: #008000\">0.05</span> seconds, is <a href=\"file://C:\\Users\\Diego\\anaconda3\\envs\\animaciones\\lib\\site-packages\\manim\\scene\\scene.py\" target=\"_blank\"><span style=\"color: #7f7f7f; text-decoration-color: #7f7f7f\">scene.py</span></a><span style=\"color: #7f7f7f; text-decoration-color: #7f7f7f\">:</span><a href=\"file://C:\\Users\\Diego\\anaconda3\\envs\\animaciones\\lib\\site-packages\\manim\\scene\\scene.py#1044\" target=\"_blank\"><span style=\"color: #7f7f7f; text-decoration-color: #7f7f7f\">1044</span></a>\n",
       "<span style=\"color: #7fbfbf; text-decoration-color: #7fbfbf\">                    </span>         too short for the current frame rate of <span style=\"color: #008000; text-decoration-color: #008000\">15</span> FPS. <span style=\"color: #808000; text-decoration-color: #808000; font-weight: bold\">Rendering</span> with the       <span style=\"color: #7f7f7f; text-decoration-color: #7f7f7f\">             </span>\n",
       "<span style=\"color: #7fbfbf; text-decoration-color: #7fbfbf\">                    </span>         shortest possible total run_time of <span style=\"color: #008000; text-decoration-color: #008000\">0.0666667</span> seconds instead.           <span style=\"color: #7f7f7f; text-decoration-color: #7f7f7f\">             </span>\n",
       "</pre>\n"
      ],
      "text/plain": [
       "\u001b[2;36m                   \u001b[0m\u001b[2;36m \u001b[0m\u001b[31mWARNING \u001b[0m The original total run_time of \u001b[1;35mVibracionNatural.play\u001b[0m\u001b[1m(\u001b[0m\u001b[1m)\u001b[0m, \u001b[32m0.05\u001b[0m seconds, is \u001b]8;id=837409;file://C:\\Users\\Diego\\anaconda3\\envs\\animaciones\\lib\\site-packages\\manim\\scene\\scene.py\u001b\\\u001b[2mscene.py\u001b[0m\u001b]8;;\u001b\\\u001b[2m:\u001b[0m\u001b]8;id=947496;file://C:\\Users\\Diego\\anaconda3\\envs\\animaciones\\lib\\site-packages\\manim\\scene\\scene.py#1044\u001b\\\u001b[2m1044\u001b[0m\u001b]8;;\u001b\\\n",
       "\u001b[2;36m                    \u001b[0m         too short for the current frame rate of \u001b[32m15\u001b[0m FPS. \u001b[1;33mRendering\u001b[0m with the       \u001b[2m             \u001b[0m\n",
       "\u001b[2;36m                    \u001b[0m         shortest possible total run_time of \u001b[32m0.0666667\u001b[0m seconds instead.           \u001b[2m             \u001b[0m\n"
      ]
     },
     "metadata": {},
     "output_type": "display_data"
    },
    {
     "name": "stderr",
     "output_type": "stream",
     "text": [
      "                                                                                                                       "
     ]
    },
    {
     "data": {
      "text/html": [
       "<pre style=\"white-space:pre;overflow-x:auto;line-height:normal;font-family:Menlo,'DejaVu Sans Mono',consolas,'Courier New',monospace\"><span style=\"color: #7fbfbf; text-decoration-color: #7fbfbf\">                    </span><span style=\"color: #800000; text-decoration-color: #800000\">WARNING </span> The original total run_time of <span style=\"color: #800080; text-decoration-color: #800080; font-weight: bold\">VibracionNatural.play</span><span style=\"font-weight: bold\">()</span>, <span style=\"color: #008000; text-decoration-color: #008000\">0.05</span> seconds, is <a href=\"file://C:\\Users\\Diego\\anaconda3\\envs\\animaciones\\lib\\site-packages\\manim\\scene\\scene.py\" target=\"_blank\"><span style=\"color: #7f7f7f; text-decoration-color: #7f7f7f\">scene.py</span></a><span style=\"color: #7f7f7f; text-decoration-color: #7f7f7f\">:</span><a href=\"file://C:\\Users\\Diego\\anaconda3\\envs\\animaciones\\lib\\site-packages\\manim\\scene\\scene.py#1044\" target=\"_blank\"><span style=\"color: #7f7f7f; text-decoration-color: #7f7f7f\">1044</span></a>\n",
       "<span style=\"color: #7fbfbf; text-decoration-color: #7fbfbf\">                    </span>         too short for the current frame rate of <span style=\"color: #008000; text-decoration-color: #008000\">15</span> FPS. <span style=\"color: #808000; text-decoration-color: #808000; font-weight: bold\">Rendering</span> with the       <span style=\"color: #7f7f7f; text-decoration-color: #7f7f7f\">             </span>\n",
       "<span style=\"color: #7fbfbf; text-decoration-color: #7fbfbf\">                    </span>         shortest possible total run_time of <span style=\"color: #008000; text-decoration-color: #008000\">0.0666667</span> seconds instead.           <span style=\"color: #7f7f7f; text-decoration-color: #7f7f7f\">             </span>\n",
       "</pre>\n"
      ],
      "text/plain": [
       "\u001b[2;36m                   \u001b[0m\u001b[2;36m \u001b[0m\u001b[31mWARNING \u001b[0m The original total run_time of \u001b[1;35mVibracionNatural.play\u001b[0m\u001b[1m(\u001b[0m\u001b[1m)\u001b[0m, \u001b[32m0.05\u001b[0m seconds, is \u001b]8;id=623786;file://C:\\Users\\Diego\\anaconda3\\envs\\animaciones\\lib\\site-packages\\manim\\scene\\scene.py\u001b\\\u001b[2mscene.py\u001b[0m\u001b]8;;\u001b\\\u001b[2m:\u001b[0m\u001b]8;id=408187;file://C:\\Users\\Diego\\anaconda3\\envs\\animaciones\\lib\\site-packages\\manim\\scene\\scene.py#1044\u001b\\\u001b[2m1044\u001b[0m\u001b]8;;\u001b\\\n",
       "\u001b[2;36m                    \u001b[0m         too short for the current frame rate of \u001b[32m15\u001b[0m FPS. \u001b[1;33mRendering\u001b[0m with the       \u001b[2m             \u001b[0m\n",
       "\u001b[2;36m                    \u001b[0m         shortest possible total run_time of \u001b[32m0.0666667\u001b[0m seconds instead.           \u001b[2m             \u001b[0m\n"
      ]
     },
     "metadata": {},
     "output_type": "display_data"
    },
    {
     "data": {
      "text/html": [
       "<pre style=\"white-space:pre;overflow-x:auto;line-height:normal;font-family:Menlo,'DejaVu Sans Mono',consolas,'Courier New',monospace\"><span style=\"color: #7fbfbf; text-decoration-color: #7fbfbf\">                    </span><span style=\"color: #800000; text-decoration-color: #800000\">WARNING </span> The original total run_time of <span style=\"color: #800080; text-decoration-color: #800080; font-weight: bold\">VibracionNatural.play</span><span style=\"font-weight: bold\">()</span>, <span style=\"color: #008000; text-decoration-color: #008000\">0.05</span> seconds, is <a href=\"file://C:\\Users\\Diego\\anaconda3\\envs\\animaciones\\lib\\site-packages\\manim\\scene\\scene.py\" target=\"_blank\"><span style=\"color: #7f7f7f; text-decoration-color: #7f7f7f\">scene.py</span></a><span style=\"color: #7f7f7f; text-decoration-color: #7f7f7f\">:</span><a href=\"file://C:\\Users\\Diego\\anaconda3\\envs\\animaciones\\lib\\site-packages\\manim\\scene\\scene.py#1044\" target=\"_blank\"><span style=\"color: #7f7f7f; text-decoration-color: #7f7f7f\">1044</span></a>\n",
       "<span style=\"color: #7fbfbf; text-decoration-color: #7fbfbf\">                    </span>         too short for the current frame rate of <span style=\"color: #008000; text-decoration-color: #008000\">15</span> FPS. <span style=\"color: #808000; text-decoration-color: #808000; font-weight: bold\">Rendering</span> with the       <span style=\"color: #7f7f7f; text-decoration-color: #7f7f7f\">             </span>\n",
       "<span style=\"color: #7fbfbf; text-decoration-color: #7fbfbf\">                    </span>         shortest possible total run_time of <span style=\"color: #008000; text-decoration-color: #008000\">0.0666667</span> seconds instead.           <span style=\"color: #7f7f7f; text-decoration-color: #7f7f7f\">             </span>\n",
       "</pre>\n"
      ],
      "text/plain": [
       "\u001b[2;36m                   \u001b[0m\u001b[2;36m \u001b[0m\u001b[31mWARNING \u001b[0m The original total run_time of \u001b[1;35mVibracionNatural.play\u001b[0m\u001b[1m(\u001b[0m\u001b[1m)\u001b[0m, \u001b[32m0.05\u001b[0m seconds, is \u001b]8;id=335119;file://C:\\Users\\Diego\\anaconda3\\envs\\animaciones\\lib\\site-packages\\manim\\scene\\scene.py\u001b\\\u001b[2mscene.py\u001b[0m\u001b]8;;\u001b\\\u001b[2m:\u001b[0m\u001b]8;id=855993;file://C:\\Users\\Diego\\anaconda3\\envs\\animaciones\\lib\\site-packages\\manim\\scene\\scene.py#1044\u001b\\\u001b[2m1044\u001b[0m\u001b]8;;\u001b\\\n",
       "\u001b[2;36m                    \u001b[0m         too short for the current frame rate of \u001b[32m15\u001b[0m FPS. \u001b[1;33mRendering\u001b[0m with the       \u001b[2m             \u001b[0m\n",
       "\u001b[2;36m                    \u001b[0m         shortest possible total run_time of \u001b[32m0.0666667\u001b[0m seconds instead.           \u001b[2m             \u001b[0m\n"
      ]
     },
     "metadata": {},
     "output_type": "display_data"
    },
    {
     "name": "stderr",
     "output_type": "stream",
     "text": [
      "                                                                                                                       "
     ]
    },
    {
     "data": {
      "text/html": [
       "<pre style=\"white-space:pre;overflow-x:auto;line-height:normal;font-family:Menlo,'DejaVu Sans Mono',consolas,'Courier New',monospace\"><span style=\"color: #7fbfbf; text-decoration-color: #7fbfbf\">                    </span><span style=\"color: #800000; text-decoration-color: #800000\">WARNING </span> The original total run_time of <span style=\"color: #800080; text-decoration-color: #800080; font-weight: bold\">VibracionNatural.play</span><span style=\"font-weight: bold\">()</span>, <span style=\"color: #008000; text-decoration-color: #008000\">0.05</span> seconds, is <a href=\"file://C:\\Users\\Diego\\anaconda3\\envs\\animaciones\\lib\\site-packages\\manim\\scene\\scene.py\" target=\"_blank\"><span style=\"color: #7f7f7f; text-decoration-color: #7f7f7f\">scene.py</span></a><span style=\"color: #7f7f7f; text-decoration-color: #7f7f7f\">:</span><a href=\"file://C:\\Users\\Diego\\anaconda3\\envs\\animaciones\\lib\\site-packages\\manim\\scene\\scene.py#1044\" target=\"_blank\"><span style=\"color: #7f7f7f; text-decoration-color: #7f7f7f\">1044</span></a>\n",
       "<span style=\"color: #7fbfbf; text-decoration-color: #7fbfbf\">                    </span>         too short for the current frame rate of <span style=\"color: #008000; text-decoration-color: #008000\">15</span> FPS. <span style=\"color: #808000; text-decoration-color: #808000; font-weight: bold\">Rendering</span> with the       <span style=\"color: #7f7f7f; text-decoration-color: #7f7f7f\">             </span>\n",
       "<span style=\"color: #7fbfbf; text-decoration-color: #7fbfbf\">                    </span>         shortest possible total run_time of <span style=\"color: #008000; text-decoration-color: #008000\">0.0666667</span> seconds instead.           <span style=\"color: #7f7f7f; text-decoration-color: #7f7f7f\">             </span>\n",
       "</pre>\n"
      ],
      "text/plain": [
       "\u001b[2;36m                   \u001b[0m\u001b[2;36m \u001b[0m\u001b[31mWARNING \u001b[0m The original total run_time of \u001b[1;35mVibracionNatural.play\u001b[0m\u001b[1m(\u001b[0m\u001b[1m)\u001b[0m, \u001b[32m0.05\u001b[0m seconds, is \u001b]8;id=61500;file://C:\\Users\\Diego\\anaconda3\\envs\\animaciones\\lib\\site-packages\\manim\\scene\\scene.py\u001b\\\u001b[2mscene.py\u001b[0m\u001b]8;;\u001b\\\u001b[2m:\u001b[0m\u001b]8;id=93145;file://C:\\Users\\Diego\\anaconda3\\envs\\animaciones\\lib\\site-packages\\manim\\scene\\scene.py#1044\u001b\\\u001b[2m1044\u001b[0m\u001b]8;;\u001b\\\n",
       "\u001b[2;36m                    \u001b[0m         too short for the current frame rate of \u001b[32m15\u001b[0m FPS. \u001b[1;33mRendering\u001b[0m with the       \u001b[2m             \u001b[0m\n",
       "\u001b[2;36m                    \u001b[0m         shortest possible total run_time of \u001b[32m0.0666667\u001b[0m seconds instead.           \u001b[2m             \u001b[0m\n"
      ]
     },
     "metadata": {},
     "output_type": "display_data"
    },
    {
     "data": {
      "text/html": [
       "<pre style=\"white-space:pre;overflow-x:auto;line-height:normal;font-family:Menlo,'DejaVu Sans Mono',consolas,'Courier New',monospace\"><span style=\"color: #7fbfbf; text-decoration-color: #7fbfbf\">                    </span><span style=\"color: #800000; text-decoration-color: #800000\">WARNING </span> The original total run_time of <span style=\"color: #800080; text-decoration-color: #800080; font-weight: bold\">VibracionNatural.play</span><span style=\"font-weight: bold\">()</span>, <span style=\"color: #008000; text-decoration-color: #008000\">0.05</span> seconds, is <a href=\"file://C:\\Users\\Diego\\anaconda3\\envs\\animaciones\\lib\\site-packages\\manim\\scene\\scene.py\" target=\"_blank\"><span style=\"color: #7f7f7f; text-decoration-color: #7f7f7f\">scene.py</span></a><span style=\"color: #7f7f7f; text-decoration-color: #7f7f7f\">:</span><a href=\"file://C:\\Users\\Diego\\anaconda3\\envs\\animaciones\\lib\\site-packages\\manim\\scene\\scene.py#1044\" target=\"_blank\"><span style=\"color: #7f7f7f; text-decoration-color: #7f7f7f\">1044</span></a>\n",
       "<span style=\"color: #7fbfbf; text-decoration-color: #7fbfbf\">                    </span>         too short for the current frame rate of <span style=\"color: #008000; text-decoration-color: #008000\">15</span> FPS. <span style=\"color: #808000; text-decoration-color: #808000; font-weight: bold\">Rendering</span> with the       <span style=\"color: #7f7f7f; text-decoration-color: #7f7f7f\">             </span>\n",
       "<span style=\"color: #7fbfbf; text-decoration-color: #7fbfbf\">                    </span>         shortest possible total run_time of <span style=\"color: #008000; text-decoration-color: #008000\">0.0666667</span> seconds instead.           <span style=\"color: #7f7f7f; text-decoration-color: #7f7f7f\">             </span>\n",
       "</pre>\n"
      ],
      "text/plain": [
       "\u001b[2;36m                   \u001b[0m\u001b[2;36m \u001b[0m\u001b[31mWARNING \u001b[0m The original total run_time of \u001b[1;35mVibracionNatural.play\u001b[0m\u001b[1m(\u001b[0m\u001b[1m)\u001b[0m, \u001b[32m0.05\u001b[0m seconds, is \u001b]8;id=984380;file://C:\\Users\\Diego\\anaconda3\\envs\\animaciones\\lib\\site-packages\\manim\\scene\\scene.py\u001b\\\u001b[2mscene.py\u001b[0m\u001b]8;;\u001b\\\u001b[2m:\u001b[0m\u001b]8;id=806018;file://C:\\Users\\Diego\\anaconda3\\envs\\animaciones\\lib\\site-packages\\manim\\scene\\scene.py#1044\u001b\\\u001b[2m1044\u001b[0m\u001b]8;;\u001b\\\n",
       "\u001b[2;36m                    \u001b[0m         too short for the current frame rate of \u001b[32m15\u001b[0m FPS. \u001b[1;33mRendering\u001b[0m with the       \u001b[2m             \u001b[0m\n",
       "\u001b[2;36m                    \u001b[0m         shortest possible total run_time of \u001b[32m0.0666667\u001b[0m seconds instead.           \u001b[2m             \u001b[0m\n"
      ]
     },
     "metadata": {},
     "output_type": "display_data"
    },
    {
     "name": "stderr",
     "output_type": "stream",
     "text": [
      "                                                                                                                       "
     ]
    },
    {
     "data": {
      "text/html": [
       "<pre style=\"white-space:pre;overflow-x:auto;line-height:normal;font-family:Menlo,'DejaVu Sans Mono',consolas,'Courier New',monospace\"><span style=\"color: #7fbfbf; text-decoration-color: #7fbfbf\">                    </span><span style=\"color: #800000; text-decoration-color: #800000\">WARNING </span> The original total run_time of <span style=\"color: #800080; text-decoration-color: #800080; font-weight: bold\">VibracionNatural.play</span><span style=\"font-weight: bold\">()</span>, <span style=\"color: #008000; text-decoration-color: #008000\">0.05</span> seconds, is <a href=\"file://C:\\Users\\Diego\\anaconda3\\envs\\animaciones\\lib\\site-packages\\manim\\scene\\scene.py\" target=\"_blank\"><span style=\"color: #7f7f7f; text-decoration-color: #7f7f7f\">scene.py</span></a><span style=\"color: #7f7f7f; text-decoration-color: #7f7f7f\">:</span><a href=\"file://C:\\Users\\Diego\\anaconda3\\envs\\animaciones\\lib\\site-packages\\manim\\scene\\scene.py#1044\" target=\"_blank\"><span style=\"color: #7f7f7f; text-decoration-color: #7f7f7f\">1044</span></a>\n",
       "<span style=\"color: #7fbfbf; text-decoration-color: #7fbfbf\">                    </span>         too short for the current frame rate of <span style=\"color: #008000; text-decoration-color: #008000\">15</span> FPS. <span style=\"color: #808000; text-decoration-color: #808000; font-weight: bold\">Rendering</span> with the       <span style=\"color: #7f7f7f; text-decoration-color: #7f7f7f\">             </span>\n",
       "<span style=\"color: #7fbfbf; text-decoration-color: #7fbfbf\">                    </span>         shortest possible total run_time of <span style=\"color: #008000; text-decoration-color: #008000\">0.0666667</span> seconds instead.           <span style=\"color: #7f7f7f; text-decoration-color: #7f7f7f\">             </span>\n",
       "</pre>\n"
      ],
      "text/plain": [
       "\u001b[2;36m                   \u001b[0m\u001b[2;36m \u001b[0m\u001b[31mWARNING \u001b[0m The original total run_time of \u001b[1;35mVibracionNatural.play\u001b[0m\u001b[1m(\u001b[0m\u001b[1m)\u001b[0m, \u001b[32m0.05\u001b[0m seconds, is \u001b]8;id=762508;file://C:\\Users\\Diego\\anaconda3\\envs\\animaciones\\lib\\site-packages\\manim\\scene\\scene.py\u001b\\\u001b[2mscene.py\u001b[0m\u001b]8;;\u001b\\\u001b[2m:\u001b[0m\u001b]8;id=941750;file://C:\\Users\\Diego\\anaconda3\\envs\\animaciones\\lib\\site-packages\\manim\\scene\\scene.py#1044\u001b\\\u001b[2m1044\u001b[0m\u001b]8;;\u001b\\\n",
       "\u001b[2;36m                    \u001b[0m         too short for the current frame rate of \u001b[32m15\u001b[0m FPS. \u001b[1;33mRendering\u001b[0m with the       \u001b[2m             \u001b[0m\n",
       "\u001b[2;36m                    \u001b[0m         shortest possible total run_time of \u001b[32m0.0666667\u001b[0m seconds instead.           \u001b[2m             \u001b[0m\n"
      ]
     },
     "metadata": {},
     "output_type": "display_data"
    },
    {
     "data": {
      "text/html": [
       "<pre style=\"white-space:pre;overflow-x:auto;line-height:normal;font-family:Menlo,'DejaVu Sans Mono',consolas,'Courier New',monospace\"><span style=\"color: #7fbfbf; text-decoration-color: #7fbfbf\">                    </span><span style=\"color: #800000; text-decoration-color: #800000\">WARNING </span> The original total run_time of <span style=\"color: #800080; text-decoration-color: #800080; font-weight: bold\">VibracionNatural.play</span><span style=\"font-weight: bold\">()</span>, <span style=\"color: #008000; text-decoration-color: #008000\">0.05</span> seconds, is <a href=\"file://C:\\Users\\Diego\\anaconda3\\envs\\animaciones\\lib\\site-packages\\manim\\scene\\scene.py\" target=\"_blank\"><span style=\"color: #7f7f7f; text-decoration-color: #7f7f7f\">scene.py</span></a><span style=\"color: #7f7f7f; text-decoration-color: #7f7f7f\">:</span><a href=\"file://C:\\Users\\Diego\\anaconda3\\envs\\animaciones\\lib\\site-packages\\manim\\scene\\scene.py#1044\" target=\"_blank\"><span style=\"color: #7f7f7f; text-decoration-color: #7f7f7f\">1044</span></a>\n",
       "<span style=\"color: #7fbfbf; text-decoration-color: #7fbfbf\">                    </span>         too short for the current frame rate of <span style=\"color: #008000; text-decoration-color: #008000\">15</span> FPS. <span style=\"color: #808000; text-decoration-color: #808000; font-weight: bold\">Rendering</span> with the       <span style=\"color: #7f7f7f; text-decoration-color: #7f7f7f\">             </span>\n",
       "<span style=\"color: #7fbfbf; text-decoration-color: #7fbfbf\">                    </span>         shortest possible total run_time of <span style=\"color: #008000; text-decoration-color: #008000\">0.0666667</span> seconds instead.           <span style=\"color: #7f7f7f; text-decoration-color: #7f7f7f\">             </span>\n",
       "</pre>\n"
      ],
      "text/plain": [
       "\u001b[2;36m                   \u001b[0m\u001b[2;36m \u001b[0m\u001b[31mWARNING \u001b[0m The original total run_time of \u001b[1;35mVibracionNatural.play\u001b[0m\u001b[1m(\u001b[0m\u001b[1m)\u001b[0m, \u001b[32m0.05\u001b[0m seconds, is \u001b]8;id=150247;file://C:\\Users\\Diego\\anaconda3\\envs\\animaciones\\lib\\site-packages\\manim\\scene\\scene.py\u001b\\\u001b[2mscene.py\u001b[0m\u001b]8;;\u001b\\\u001b[2m:\u001b[0m\u001b]8;id=920671;file://C:\\Users\\Diego\\anaconda3\\envs\\animaciones\\lib\\site-packages\\manim\\scene\\scene.py#1044\u001b\\\u001b[2m1044\u001b[0m\u001b]8;;\u001b\\\n",
       "\u001b[2;36m                    \u001b[0m         too short for the current frame rate of \u001b[32m15\u001b[0m FPS. \u001b[1;33mRendering\u001b[0m with the       \u001b[2m             \u001b[0m\n",
       "\u001b[2;36m                    \u001b[0m         shortest possible total run_time of \u001b[32m0.0666667\u001b[0m seconds instead.           \u001b[2m             \u001b[0m\n"
      ]
     },
     "metadata": {},
     "output_type": "display_data"
    },
    {
     "name": "stderr",
     "output_type": "stream",
     "text": [
      "                                                                                                                       "
     ]
    },
    {
     "data": {
      "text/html": [
       "<pre style=\"white-space:pre;overflow-x:auto;line-height:normal;font-family:Menlo,'DejaVu Sans Mono',consolas,'Courier New',monospace\"><span style=\"color: #7fbfbf; text-decoration-color: #7fbfbf\">                    </span><span style=\"color: #800000; text-decoration-color: #800000\">WARNING </span> The original total run_time of <span style=\"color: #800080; text-decoration-color: #800080; font-weight: bold\">VibracionNatural.play</span><span style=\"font-weight: bold\">()</span>, <span style=\"color: #008000; text-decoration-color: #008000\">0.05</span> seconds, is <a href=\"file://C:\\Users\\Diego\\anaconda3\\envs\\animaciones\\lib\\site-packages\\manim\\scene\\scene.py\" target=\"_blank\"><span style=\"color: #7f7f7f; text-decoration-color: #7f7f7f\">scene.py</span></a><span style=\"color: #7f7f7f; text-decoration-color: #7f7f7f\">:</span><a href=\"file://C:\\Users\\Diego\\anaconda3\\envs\\animaciones\\lib\\site-packages\\manim\\scene\\scene.py#1044\" target=\"_blank\"><span style=\"color: #7f7f7f; text-decoration-color: #7f7f7f\">1044</span></a>\n",
       "<span style=\"color: #7fbfbf; text-decoration-color: #7fbfbf\">                    </span>         too short for the current frame rate of <span style=\"color: #008000; text-decoration-color: #008000\">15</span> FPS. <span style=\"color: #808000; text-decoration-color: #808000; font-weight: bold\">Rendering</span> with the       <span style=\"color: #7f7f7f; text-decoration-color: #7f7f7f\">             </span>\n",
       "<span style=\"color: #7fbfbf; text-decoration-color: #7fbfbf\">                    </span>         shortest possible total run_time of <span style=\"color: #008000; text-decoration-color: #008000\">0.0666667</span> seconds instead.           <span style=\"color: #7f7f7f; text-decoration-color: #7f7f7f\">             </span>\n",
       "</pre>\n"
      ],
      "text/plain": [
       "\u001b[2;36m                   \u001b[0m\u001b[2;36m \u001b[0m\u001b[31mWARNING \u001b[0m The original total run_time of \u001b[1;35mVibracionNatural.play\u001b[0m\u001b[1m(\u001b[0m\u001b[1m)\u001b[0m, \u001b[32m0.05\u001b[0m seconds, is \u001b]8;id=609054;file://C:\\Users\\Diego\\anaconda3\\envs\\animaciones\\lib\\site-packages\\manim\\scene\\scene.py\u001b\\\u001b[2mscene.py\u001b[0m\u001b]8;;\u001b\\\u001b[2m:\u001b[0m\u001b]8;id=674013;file://C:\\Users\\Diego\\anaconda3\\envs\\animaciones\\lib\\site-packages\\manim\\scene\\scene.py#1044\u001b\\\u001b[2m1044\u001b[0m\u001b]8;;\u001b\\\n",
       "\u001b[2;36m                    \u001b[0m         too short for the current frame rate of \u001b[32m15\u001b[0m FPS. \u001b[1;33mRendering\u001b[0m with the       \u001b[2m             \u001b[0m\n",
       "\u001b[2;36m                    \u001b[0m         shortest possible total run_time of \u001b[32m0.0666667\u001b[0m seconds instead.           \u001b[2m             \u001b[0m\n"
      ]
     },
     "metadata": {},
     "output_type": "display_data"
    },
    {
     "data": {
      "text/html": [
       "<pre style=\"white-space:pre;overflow-x:auto;line-height:normal;font-family:Menlo,'DejaVu Sans Mono',consolas,'Courier New',monospace\"><span style=\"color: #7fbfbf; text-decoration-color: #7fbfbf\">                    </span><span style=\"color: #800000; text-decoration-color: #800000\">WARNING </span> The original total run_time of <span style=\"color: #800080; text-decoration-color: #800080; font-weight: bold\">VibracionNatural.play</span><span style=\"font-weight: bold\">()</span>, <span style=\"color: #008000; text-decoration-color: #008000\">0.05</span> seconds, is <a href=\"file://C:\\Users\\Diego\\anaconda3\\envs\\animaciones\\lib\\site-packages\\manim\\scene\\scene.py\" target=\"_blank\"><span style=\"color: #7f7f7f; text-decoration-color: #7f7f7f\">scene.py</span></a><span style=\"color: #7f7f7f; text-decoration-color: #7f7f7f\">:</span><a href=\"file://C:\\Users\\Diego\\anaconda3\\envs\\animaciones\\lib\\site-packages\\manim\\scene\\scene.py#1044\" target=\"_blank\"><span style=\"color: #7f7f7f; text-decoration-color: #7f7f7f\">1044</span></a>\n",
       "<span style=\"color: #7fbfbf; text-decoration-color: #7fbfbf\">                    </span>         too short for the current frame rate of <span style=\"color: #008000; text-decoration-color: #008000\">15</span> FPS. <span style=\"color: #808000; text-decoration-color: #808000; font-weight: bold\">Rendering</span> with the       <span style=\"color: #7f7f7f; text-decoration-color: #7f7f7f\">             </span>\n",
       "<span style=\"color: #7fbfbf; text-decoration-color: #7fbfbf\">                    </span>         shortest possible total run_time of <span style=\"color: #008000; text-decoration-color: #008000\">0.0666667</span> seconds instead.           <span style=\"color: #7f7f7f; text-decoration-color: #7f7f7f\">             </span>\n",
       "</pre>\n"
      ],
      "text/plain": [
       "\u001b[2;36m                   \u001b[0m\u001b[2;36m \u001b[0m\u001b[31mWARNING \u001b[0m The original total run_time of \u001b[1;35mVibracionNatural.play\u001b[0m\u001b[1m(\u001b[0m\u001b[1m)\u001b[0m, \u001b[32m0.05\u001b[0m seconds, is \u001b]8;id=170911;file://C:\\Users\\Diego\\anaconda3\\envs\\animaciones\\lib\\site-packages\\manim\\scene\\scene.py\u001b\\\u001b[2mscene.py\u001b[0m\u001b]8;;\u001b\\\u001b[2m:\u001b[0m\u001b]8;id=876356;file://C:\\Users\\Diego\\anaconda3\\envs\\animaciones\\lib\\site-packages\\manim\\scene\\scene.py#1044\u001b\\\u001b[2m1044\u001b[0m\u001b]8;;\u001b\\\n",
       "\u001b[2;36m                    \u001b[0m         too short for the current frame rate of \u001b[32m15\u001b[0m FPS. \u001b[1;33mRendering\u001b[0m with the       \u001b[2m             \u001b[0m\n",
       "\u001b[2;36m                    \u001b[0m         shortest possible total run_time of \u001b[32m0.0666667\u001b[0m seconds instead.           \u001b[2m             \u001b[0m\n"
      ]
     },
     "metadata": {},
     "output_type": "display_data"
    },
    {
     "name": "stderr",
     "output_type": "stream",
     "text": [
      "                                                                                                                       "
     ]
    },
    {
     "data": {
      "text/html": [
       "<video src=\"media\\jupyter\\VibracionNatural@2025-04-26@22-21-00.mp4\" controls autoplay loop style=\"max-width: 75%;\"  >\n",
       "      Your browser does not support the <code>video</code> element.\n",
       "    </video>"
      ],
      "text/plain": [
       "<IPython.core.display.Video object>"
      ]
     },
     "metadata": {},
     "output_type": "display_data"
    }
   ],
   "source": [
    "%%manim -ql VibracionNatural\n",
    "\n",
    "class VibracionNatural(Scene):\n",
    "    def construct(self):\n",
    "        cuadrado = Square(color=GREEN).scale(2)\n",
    "        self.add(cuadrado)\n",
    "\n",
    "        for _ in range(50):\n",
    "            dx = random.uniform(-0.05, 0.05)\n",
    "            dy = random.uniform(-0.05, 0.05)\n",
    "            self.play(cuadrado.animate.shift(RIGHT*dx + UP*dy), run_time=0.05)\n"
   ]
  },
  {
   "cell_type": "code",
   "execution_count": 30,
   "id": "57736c4d-4c72-4768-bdca-9edf73922467",
   "metadata": {},
   "outputs": [
    {
     "data": {
      "text/html": [
       "<pre style=\"white-space:pre;overflow-x:auto;line-height:normal;font-family:Menlo,'DejaVu Sans Mono',consolas,'Courier New',monospace\">Manim Community <span style=\"color: #008000; text-decoration-color: #008000\">v0.19.0</span>\n",
       "\n",
       "</pre>\n"
      ],
      "text/plain": [
       "Manim Community \u001b[32mv0.\u001b[0m\u001b[32m19.0\u001b[0m\n",
       "\n"
      ]
     },
     "metadata": {},
     "output_type": "display_data"
    },
    {
     "name": "stderr",
     "output_type": "stream",
     "text": [
      "                                                                                                                       "
     ]
    },
    {
     "data": {
      "text/html": [
       "<video src=\"media\\jupyter\\PulsoSuave@2025-04-26@22-21-55.mp4\" controls autoplay loop style=\"max-width: 75%;\"  >\n",
       "      Your browser does not support the <code>video</code> element.\n",
       "    </video>"
      ],
      "text/plain": [
       "<IPython.core.display.Video object>"
      ]
     },
     "metadata": {},
     "output_type": "display_data"
    }
   ],
   "source": [
    "%%manim -ql PulsoSuave\n",
    "\n",
    "class PulsoSuave(Scene):\n",
    "    def construct(self):\n",
    "        circulo = Circle(color=YELLOW, fill_opacity=0.5).scale(1)\n",
    "        self.add(circulo)\n",
    "\n",
    "        self.play(circulo.animate.scale(1.2), run_time=0.5)\n",
    "        self.play(circulo.animate.scale(0.83), run_time=0.5)\n",
    "        self.play(circulo.animate.scale(1.2), run_time=0.5)\n",
    "        self.wait()\n"
   ]
  },
  {
   "cell_type": "code",
   "execution_count": null,
   "id": "457692ee-a9c1-4eaf-857b-eaba7f4b9433",
   "metadata": {},
   "outputs": [],
   "source": []
  },
  {
   "cell_type": "code",
   "execution_count": 31,
   "id": "d3c0ba1f-ab05-4256-b7f2-fd1222a0a2a0",
   "metadata": {},
   "outputs": [
    {
     "data": {
      "text/html": [
       "<pre style=\"white-space:pre;overflow-x:auto;line-height:normal;font-family:Menlo,'DejaVu Sans Mono',consolas,'Courier New',monospace\">Manim Community <span style=\"color: #008000; text-decoration-color: #008000\">v0.19.0</span>\n",
       "\n",
       "</pre>\n"
      ],
      "text/plain": [
       "Manim Community \u001b[32mv0.\u001b[0m\u001b[32m19.0\u001b[0m\n",
       "\n"
      ]
     },
     "metadata": {},
     "output_type": "display_data"
    },
    {
     "name": "stderr",
     "output_type": "stream",
     "text": [
      "                                                                                                                       "
     ]
    },
    {
     "data": {
      "text/html": [
       "<video src=\"media\\jupyter\\CambioDeColor@2025-04-26@22-23-04.mp4\" controls autoplay loop style=\"max-width: 75%;\"  >\n",
       "      Your browser does not support the <code>video</code> element.\n",
       "    </video>"
      ],
      "text/plain": [
       "<IPython.core.display.Video object>"
      ]
     },
     "metadata": {},
     "output_type": "display_data"
    }
   ],
   "source": [
    "%%manim -ql CambioDeColor\n",
    "\n",
    "class CambioDeColor(Scene):\n",
    "    def construct(self):\n",
    "        texto = Text(\"Hola Mundo\").scale(2)\n",
    "        self.add(texto)\n",
    "\n",
    "        self.play(texto.animate.set_color(RED), run_time=1)\n",
    "        self.play(texto.animate.set_color(BLUE), run_time=1)\n",
    "        self.play(texto.animate.set_color(GREEN), run_time=1)\n",
    "        self.wait()\n"
   ]
  },
  {
   "cell_type": "code",
   "execution_count": 32,
   "id": "f3998a7d-f06e-4355-b58b-26b1457198a1",
   "metadata": {},
   "outputs": [
    {
     "data": {
      "text/html": [
       "<pre style=\"white-space:pre;overflow-x:auto;line-height:normal;font-family:Menlo,'DejaVu Sans Mono',consolas,'Courier New',monospace\">Manim Community <span style=\"color: #008000; text-decoration-color: #008000\">v0.19.0</span>\n",
       "\n",
       "</pre>\n"
      ],
      "text/plain": [
       "Manim Community \u001b[32mv0.\u001b[0m\u001b[32m19.0\u001b[0m\n",
       "\n"
      ]
     },
     "metadata": {},
     "output_type": "display_data"
    },
    {
     "name": "stderr",
     "output_type": "stream",
     "text": [
      "                                                                                                                       "
     ]
    },
    {
     "data": {
      "text/html": [
       "<video src=\"media\\jupyter\\FondoVibrante@2025-04-26@22-24-19.mp4\" controls autoplay loop style=\"max-width: 75%;\"  >\n",
       "      Your browser does not support the <code>video</code> element.\n",
       "    </video>"
      ],
      "text/plain": [
       "<IPython.core.display.Video object>"
      ]
     },
     "metadata": {},
     "output_type": "display_data"
    }
   ],
   "source": [
    "%%manim -ql FondoVibrante\n",
    "\n",
    "class FondoVibrante(Scene):\n",
    "    def construct(self):\n",
    "        fondo = VGroup(*[\n",
    "            Circle(radius=0.3, color=random.choice([BLUE, GREEN, PURPLE]), fill_opacity=0.3)\n",
    "            .move_to([x, y, 0])\n",
    "            for x in range(-7, 8, 2)\n",
    "            for y in range(-4, 5, 2)\n",
    "        ])\n",
    "\n",
    "        self.add(fondo)\n",
    "        self.play(fondo.animate.scale(1.1), run_time=2, rate_func=there_and_back)\n",
    "        self.wait()\n"
   ]
  },
  {
   "cell_type": "code",
   "execution_count": null,
   "id": "82bb969a-d273-4c7e-99d6-75e44b4fa0ed",
   "metadata": {},
   "outputs": [],
   "source": []
  },
  {
   "cell_type": "code",
   "execution_count": null,
   "id": "ba995a56-cc1c-4a34-8544-feee2b69086c",
   "metadata": {},
   "outputs": [],
   "source": []
  }
 ],
 "metadata": {
  "kernelspec": {
   "display_name": "Python 3 (ipykernel)",
   "language": "python",
   "name": "python3"
  },
  "language_info": {
   "codemirror_mode": {
    "name": "ipython",
    "version": 3
   },
   "file_extension": ".py",
   "mimetype": "text/x-python",
   "name": "python",
   "nbconvert_exporter": "python",
   "pygments_lexer": "ipython3",
   "version": "3.10.16"
  }
 },
 "nbformat": 4,
 "nbformat_minor": 5
}
