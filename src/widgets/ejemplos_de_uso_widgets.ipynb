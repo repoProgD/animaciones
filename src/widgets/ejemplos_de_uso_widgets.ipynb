{
 "cells": [
  {
   "cell_type": "code",
   "execution_count": 36,
   "id": "38b24242-cf33-48b6-aa2e-d5b438082724",
   "metadata": {},
   "outputs": [],
   "source": [
    "from manim import *"
   ]
  },
  {
   "cell_type": "code",
   "execution_count": 35,
   "id": "48565e00-2a4a-4413-8fa1-8a8421243272",
   "metadata": {},
   "outputs": [
    {
     "ename": "ModuleNotFoundError",
     "evalue": "No module named 'bezier'",
     "output_type": "error",
     "traceback": [
      "\u001b[1;31m---------------------------------------------------------------------------\u001b[0m",
      "\u001b[1;31mModuleNotFoundError\u001b[0m                       Traceback (most recent call last)",
      "Cell \u001b[1;32mIn[35], line 1\u001b[0m\n\u001b[1;32m----> 1\u001b[0m \u001b[38;5;28;01mimport\u001b[39;00m\u001b[38;5;250m \u001b[39m\u001b[38;5;21;01mbezier\u001b[39;00m\n",
      "\u001b[1;31mModuleNotFoundError\u001b[0m: No module named 'bezier'"
     ]
    }
   ],
   "source": [
    "import bezier"
   ]
  },
  {
   "cell_type": "code",
   "execution_count": 6,
   "id": "b78d60ad-47a6-4c6a-a844-433504b26a7c",
   "metadata": {},
   "outputs": [
    {
     "data": {
      "text/html": [
       "<pre style=\"white-space:pre;overflow-x:auto;line-height:normal;font-family:Menlo,'DejaVu Sans Mono',consolas,'Courier New',monospace\">Manim Community <span style=\"color: #008000; text-decoration-color: #008000\">v0.19.0</span>\n",
       "\n",
       "</pre>\n"
      ],
      "text/plain": [
       "Manim Community \u001b[32mv0.\u001b[0m\u001b[32m19.0\u001b[0m\n",
       "\n"
      ]
     },
     "metadata": {},
     "output_type": "display_data"
    },
    {
     "name": "stderr",
     "output_type": "stream",
     "text": [
      "                                                                                                                       "
     ]
    },
    {
     "data": {
      "text/html": [
       "<video src=\"media\\jupyter\\DeCasteljauQuadratic@2025-04-28@05-36-41.mp4\" controls autoplay loop style=\"max-width: 75%;\"  >\n",
       "      Your browser does not support the <code>video</code> element.\n",
       "    </video>"
      ],
      "text/plain": [
       "<IPython.core.display.Video object>"
      ]
     },
     "metadata": {},
     "output_type": "display_data"
    }
   ],
   "source": [
    "class BezierExample(Scene):\n",
    "    def construct(self):\n",
    "        # Definir puntos iniciales de la curva\n",
    "        p0 = np.array([-3, 2, 0])\n",
    "        p1 = np.array([-1, 3, 0])\n",
    "        p2 = np.array([2, -2, 0])\n",
    "        p3 = np.array([3, 0, 0])\n",
    "\n",
    "        # Crear el widget de la curva Bézier\n",
    "        bezier_widget = BezierCurveWidget(p0, p1, p2, p3)\n",
    "\n",
    "        # Mostrar el widget en la escena\n",
    "        self.play(Create(bezier_widget))\n",
    "        self.wait(2)\n",
    "\n",
    "        # Animación: mover algunos puntos de control\n",
    "        self.play(\n",
    "            bezier_widget.control_points[0].animate.move_to(np.array([-2, 1, 0])),\n",
    "            bezier_widget.control_points[1].animate.move_to(np.array([0, 4, 0])),\n",
    "            bezier_widget.control_points[2].animate.move_to(np.array([3, -3, 0])),\n",
    "            bezier_widget.control_points[3].animate.move_to(np.array([4, 1, 0])),\n",
    "        )\n",
    "\n",
    "        self.wait(2)"
   ]
  },
  {
   "cell_type": "code",
   "execution_count": null,
   "id": "108aeaa9-4f8b-4c58-a8c3-f48942d128f3",
   "metadata": {},
   "outputs": [],
   "source": []
  }
 ],
 "metadata": {
  "kernelspec": {
   "display_name": "Python 3 (ipykernel)",
   "language": "python",
   "name": "python3"
  },
  "language_info": {
   "codemirror_mode": {
    "name": "ipython",
    "version": 3
   },
   "file_extension": ".py",
   "mimetype": "text/x-python",
   "name": "python",
   "nbconvert_exporter": "python",
   "pygments_lexer": "ipython3",
   "version": "3.10.16"
  }
 },
 "nbformat": 4,
 "nbformat_minor": 5
}
