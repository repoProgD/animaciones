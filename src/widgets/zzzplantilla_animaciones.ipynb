{
 "cells": [
  {
   "cell_type": "code",
   "execution_count": 1,
   "id": "b148504f-74dd-49a3-82da-d2aa79a8a5c2",
   "metadata": {},
   "outputs": [],
   "source": [
    "from manim import *"
   ]
  },
  {
   "cell_type": "code",
   "execution_count": 4,
   "id": "71e97c7b-f98f-43be-a0c6-04dc6976f3c8",
   "metadata": {},
   "outputs": [],
   "source": [
    "import sys\n",
    "from pathlib import Path\n",
    "\n",
    "# Subir un solo nivel desde la carpeta actual (escenas/horizontales)\n",
    "root_path = Path().resolve().parents[0]    # parents[0] sería un salto hacia arriba, [1] son dos\n",
    "\n",
    "# Agregarlo al sys.path si no está ya\n",
    "if str(root_path) not in sys.path:\n",
    "    sys.path.append(str(root_path))"
   ]
  },
  {
   "cell_type": "code",
   "execution_count": 5,
   "id": "8d08f092-a31a-4a7d-bb1e-29da199116b8",
   "metadata": {},
   "outputs": [
    {
     "data": {
      "text/plain": [
       "WindowsPath('C:/Users/Diego/Desktop/animaciones')"
      ]
     },
     "execution_count": 5,
     "metadata": {},
     "output_type": "execute_result"
    }
   ],
   "source": [
    "root_path"
   ]
  },
  {
   "cell_type": "code",
   "execution_count": 3,
   "id": "ab013be2-5424-464c-8a07-b41c26d2a086",
   "metadata": {},
   "outputs": [],
   "source": [
    "import src.herramientas as h"
   ]
  },
  {
   "cell_type": "code",
   "execution_count": 4,
   "id": "6017a965-15db-4f80-9b56-56a6e67143da",
   "metadata": {},
   "outputs": [],
   "source": [
    "import src.movimiento as mv"
   ]
  },
  {
   "cell_type": "code",
   "execution_count": 3,
   "id": "d1513bd4-9d71-4d02-8926-5c2311f9cd66",
   "metadata": {},
   "outputs": [],
   "source": [
    "import nodo_circuito as nc"
   ]
  },
  {
   "cell_type": "code",
   "execution_count": 15,
   "id": "59950907-9337-4eeb-859d-6aef93c7930c",
   "metadata": {},
   "outputs": [],
   "source": [
    "# from layouts.basicos import en_linea_horizontal\n",
    "# import src.funciones as f"
   ]
  },
  {
   "cell_type": "code",
   "execution_count": 4,
   "id": "6f1fc7a3-2d67-4078-a998-303a08b09c1b",
   "metadata": {},
   "outputs": [],
   "source": [
    "config.media_width = \"75%\"\n",
    "config.verbosity = \"WARNING\"\n",
    "config.background_color = \"#24043d\""
   ]
  },
  {
   "cell_type": "code",
   "execution_count": 7,
   "id": "327ca9fe-3ed9-4da6-8397-bbc09d551ebc",
   "metadata": {},
   "outputs": [
    {
     "data": {
      "text/html": [
       "<pre style=\"white-space:pre;overflow-x:auto;line-height:normal;font-family:Menlo,'DejaVu Sans Mono',consolas,'Courier New',monospace\">Manim Community <span style=\"color: #008000; text-decoration-color: #008000\">v0.19.0</span>\n",
       "\n",
       "</pre>\n"
      ],
      "text/plain": [
       "Manim Community \u001b[32mv0.\u001b[0m\u001b[32m19.0\u001b[0m\n",
       "\n"
      ]
     },
     "metadata": {},
     "output_type": "display_data"
    },
    {
     "name": "stderr",
     "output_type": "stream",
     "text": [
      "                                                                                                                       "
     ]
    },
    {
     "data": {
      "text/html": [
       "<video src=\"media\\jupyter\\TestNodo@2025-04-29@10-01-10.mp4\" controls autoplay loop style=\"max-width: 75%;\"  >\n",
       "      Your browser does not support the <code>video</code> element.\n",
       "    </video>"
      ],
      "text/plain": [
       "<IPython.core.display.Video object>"
      ]
     },
     "metadata": {},
     "output_type": "display_data"
    }
   ],
   "source": [
    "%%manim -ql TestNodo\n",
    "\n",
    "class TestNodo(Scene):\n",
    "    def construct(self):\n",
    "        nodo = nc.NodoCircuito(\n",
    "            radio=0.15,\n",
    "            largo=1,\n",
    "            angulo_salida=135,\n",
    "            segunda_linea=True,\n",
    "            angulo_segunda=180,\n",
    "            largo_segunda=0.5,\n",
    "            color=RED,\n",
    "            relleno=False\n",
    "        )\n",
    "        nodo.move_to(ORIGIN)\n",
    "        self.play(Create(nodo))\n",
    "        self.wait()\n",
    "\n",
    "\n",
    "\n"
   ]
  },
  {
   "cell_type": "code",
   "execution_count": null,
   "id": "00c644e1-e2a2-43c1-9e72-c75bc0d4a445",
   "metadata": {},
   "outputs": [],
   "source": []
  }
 ],
 "metadata": {
  "kernelspec": {
   "display_name": "Python 3 (ipykernel)",
   "language": "python",
   "name": "python3"
  },
  "language_info": {
   "codemirror_mode": {
    "name": "ipython",
    "version": 3
   },
   "file_extension": ".py",
   "mimetype": "text/x-python",
   "name": "python",
   "nbconvert_exporter": "python",
   "pygments_lexer": "ipython3",
   "version": "3.10.16"
  }
 },
 "nbformat": 4,
 "nbformat_minor": 5
}
