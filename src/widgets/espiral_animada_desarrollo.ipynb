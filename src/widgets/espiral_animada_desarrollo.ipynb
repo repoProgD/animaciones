{
 "cells": [
  {
   "cell_type": "code",
   "execution_count": 1,
   "id": "b148504f-74dd-49a3-82da-d2aa79a8a5c2",
   "metadata": {},
   "outputs": [],
   "source": [
    "from manim import *"
   ]
  },
  {
   "cell_type": "code",
   "execution_count": 4,
   "id": "71e97c7b-f98f-43be-a0c6-04dc6976f3c8",
   "metadata": {},
   "outputs": [],
   "source": [
    "import sys\n",
    "from pathlib import Path\n",
    "\n",
    "# Subir un solo nivel desde la carpeta actual (escenas/horizontales)\n",
    "root_path = Path().resolve().parents[1]    # parents[0] sería un salto hacia arriba, [1] son dos\n",
    "\n",
    "# Agregarlo al sys.path si no está ya\n",
    "if str(root_path) not in sys.path:\n",
    "    sys.path.append(str(root_path))"
   ]
  },
  {
   "cell_type": "code",
   "execution_count": 5,
   "id": "8d08f092-a31a-4a7d-bb1e-29da199116b8",
   "metadata": {},
   "outputs": [
    {
     "data": {
      "text/plain": [
       "WindowsPath('C:/Users/Diego/Desktop/animaciones')"
      ]
     },
     "execution_count": 5,
     "metadata": {},
     "output_type": "execute_result"
    }
   ],
   "source": [
    "root_path"
   ]
  },
  {
   "cell_type": "code",
   "execution_count": 3,
   "id": "ab013be2-5424-464c-8a07-b41c26d2a086",
   "metadata": {},
   "outputs": [],
   "source": [
    "import src.herramientas as h"
   ]
  },
  {
   "cell_type": "code",
   "execution_count": 4,
   "id": "6017a965-15db-4f80-9b56-56a6e67143da",
   "metadata": {},
   "outputs": [],
   "source": [
    "import src.movimiento as mv"
   ]
  },
  {
   "cell_type": "code",
   "execution_count": 3,
   "id": "d1513bd4-9d71-4d02-8926-5c2311f9cd66",
   "metadata": {},
   "outputs": [],
   "source": [
    "import nodo_circuito as nc"
   ]
  },
  {
   "cell_type": "code",
   "execution_count": 15,
   "id": "59950907-9337-4eeb-859d-6aef93c7930c",
   "metadata": {},
   "outputs": [],
   "source": [
    "# from layouts.basicos import en_linea_horizontal\n",
    "# import src.funciones as f"
   ]
  },
  {
   "cell_type": "code",
   "execution_count": 6,
   "id": "6f1fc7a3-2d67-4078-a998-303a08b09c1b",
   "metadata": {},
   "outputs": [],
   "source": [
    "config.media_width = \"75%\"\n",
    "config.verbosity = \"WARNING\"\n",
    "config.background_color = \"#24043d\""
   ]
  },
  {
   "cell_type": "code",
   "execution_count": 7,
   "id": "327ca9fe-3ed9-4da6-8397-bbc09d551ebc",
   "metadata": {},
   "outputs": [
    {
     "data": {
      "text/html": [
       "<pre style=\"white-space:pre;overflow-x:auto;line-height:normal;font-family:Menlo,'DejaVu Sans Mono',consolas,'Courier New',monospace\">Manim Community <span style=\"color: #008000; text-decoration-color: #008000\">v0.19.0</span>\n",
       "\n",
       "</pre>\n"
      ],
      "text/plain": [
       "Manim Community \u001b[32mv0.\u001b[0m\u001b[32m19.0\u001b[0m\n",
       "\n"
      ]
     },
     "metadata": {},
     "output_type": "display_data"
    },
    {
     "name": "stderr",
     "output_type": "stream",
     "text": [
      "                                                                                                                       "
     ]
    },
    {
     "data": {
      "text/html": [
       "<video src=\"media\\jupyter\\EspiralAnimada2@2025-05-01@09-18-29.mp4\" controls autoplay loop style=\"max-width: 75%;\"  >\n",
       "      Your browser does not support the <code>video</code> element.\n",
       "    </video>"
      ],
      "text/plain": [
       "<IPython.core.display.Video object>"
      ]
     },
     "metadata": {},
     "output_type": "display_data"
    }
   ],
   "source": [
    "%%manim -ql EspiralAnimada2\n",
    "\n",
    "class EspiralAnimada2(Scene):\n",
    "    def construct(self):\n",
    "        # Definimos un punto inicial en (0, 0)\n",
    "        punto = Dot(color=BLUE)\n",
    "\n",
    "        # Lo agregamos a la escena\n",
    "        self.add(punto)\n",
    "\n",
    "        # Actualizamos su posición con una función lambda\n",
    "        # Usamos una espiral: x(t) = r(t) * cos(t), y(t) = r(t) * sin(t)\n",
    "        punto.add_updater(lambda m, dt: m.move_to(np.array([0.25 * self.time * np.cos(self.time), 0.25 * self.time * np.sin(self.time), 0])))\n",
    "\n",
    "        # Animamos el tiempo para que el punto se mueva\n",
    "        self.play(punto.animate(run_time=5))  # Ajustamos el tiempo de la animación para el punto\n",
    "\n",
    "        # Finalizamos la animación\n",
    "        self.wait(1)\n",
    "\n"
   ]
  },
  {
   "cell_type": "code",
   "execution_count": 27,
   "id": "00c644e1-e2a2-43c1-9e72-c75bc0d4a445",
   "metadata": {},
   "outputs": [
    {
     "data": {
      "text/html": [
       "<pre style=\"white-space:pre;overflow-x:auto;line-height:normal;font-family:Menlo,'DejaVu Sans Mono',consolas,'Courier New',monospace\">Manim Community <span style=\"color: #008000; text-decoration-color: #008000\">v0.19.0</span>\n",
       "\n",
       "</pre>\n"
      ],
      "text/plain": [
       "Manim Community \u001b[32mv0.\u001b[0m\u001b[32m19.0\u001b[0m\n",
       "\n"
      ]
     },
     "metadata": {},
     "output_type": "display_data"
    },
    {
     "name": "stderr",
     "output_type": "stream",
     "text": [
      "                                                                                                                       "
     ]
    },
    {
     "data": {
      "text/html": [
       "<video src=\"media\\jupyter\\EspiralAnimadaConTrazo@2025-05-01@10-33-08.mp4\" controls autoplay loop style=\"max-width: 75%;\"  >\n",
       "      Your browser does not support the <code>video</code> element.\n",
       "    </video>"
      ],
      "text/plain": [
       "<IPython.core.display.Video object>"
      ]
     },
     "metadata": {},
     "output_type": "display_data"
    }
   ],
   "source": [
    "%%manim -ql EspiralAnimadaConTrazo\n",
    "\n",
    "class EspiralAnimadaConTrazo(Scene):\n",
    "    def construct(self):\n",
    "        # Punto inicial\n",
    "        punto = Dot(color=BLUE)\n",
    "\n",
    "        # Trazo que sigue al punto\n",
    "        trazo = TracedPath(punto.get_center, stroke_color=BLUE, stroke_width=15)\n",
    "\n",
    "        # Añadir ambos a la escena\n",
    "        self.add(punto, trazo)\n",
    "\n",
    "        # Actualizador para mover el punto en una espiral\n",
    "        def espiral(mob, dt):\n",
    "            t = self.time\n",
    "            r = 0.25 * t\n",
    "            mob.move_to(np.array([r * np.cos(t), r * np.sin(t), 0]))\n",
    "\n",
    "        punto.add_updater(espiral)\n",
    "\n",
    "        # Ejecutar la animación por 5 segundos\n",
    "        self.wait(5)\n",
    "\n",
    "        # Detener el updater (opcional)\n",
    "        punto.clear_updaters()\n",
    "\n",
    "        # Pausa final\n",
    "        self.wait(1)\n"
   ]
  },
  {
   "cell_type": "code",
   "execution_count": null,
   "id": "8931222a-cc26-4d46-8a15-044d26497ffa",
   "metadata": {},
   "outputs": [],
   "source": []
  },
  {
   "cell_type": "code",
   "execution_count": 32,
   "id": "dccfef67-8c7a-42cb-b251-deac615b8b53",
   "metadata": {},
   "outputs": [
    {
     "data": {
      "text/html": [
       "<pre style=\"white-space:pre;overflow-x:auto;line-height:normal;font-family:Menlo,'DejaVu Sans Mono',consolas,'Courier New',monospace\">Manim Community <span style=\"color: #008000; text-decoration-color: #008000\">v0.19.0</span>\n",
       "\n",
       "</pre>\n"
      ],
      "text/plain": [
       "Manim Community \u001b[32mv0.\u001b[0m\u001b[32m19.0\u001b[0m\n",
       "\n"
      ]
     },
     "metadata": {},
     "output_type": "display_data"
    },
    {
     "name": "stderr",
     "output_type": "stream",
     "text": [
      "                                                                                                                       "
     ]
    },
    {
     "data": {
      "text/html": [
       "<video src=\"media\\jupyter\\MovimientoSobreCirculo@2025-05-01@11-03-08.mp4\" controls autoplay loop style=\"max-width: 75%;\"  >\n",
       "      Your browser does not support the <code>video</code> element.\n",
       "    </video>"
      ],
      "text/plain": [
       "<IPython.core.display.Video object>"
      ]
     },
     "metadata": {},
     "output_type": "display_data"
    }
   ],
   "source": [
    "%%manim -ql MovimientoSobreCirculo\n",
    "\n",
    "class MovimientoSobreCirculo(Scene):\n",
    "    def construct(self):\n",
    "        # Crear el círculo y el punto\n",
    "        circle = Circle(radius=2, color=YELLOW)\n",
    "        dot = Dot(color=RED)\n",
    "        trace = TracedPath(dot.get_center, stroke_color=BLUE)\n",
    "\n",
    "        # Posicionar el punto al inicio del círculo (alpha = 0)\n",
    "        dot.move_to(circle.point_from_proportion(0))\n",
    "\n",
    "        # Agregar los elementos a la escena\n",
    "        self.add(circle, dot, trace)\n",
    "\n",
    "        # Mover el punto a lo largo del perímetro del círculo\n",
    "        self.play(MoveAlongPath(dot, circle), run_time=4, rate_func=linear)\n",
    "\n",
    "        self.wait()\n"
   ]
  },
  {
   "cell_type": "code",
   "execution_count": null,
   "id": "ee61df93-27a4-4d98-ad23-3b76ac4de3d3",
   "metadata": {},
   "outputs": [],
   "source": []
  }
 ],
 "metadata": {
  "kernelspec": {
   "display_name": "Python 3 (ipykernel)",
   "language": "python",
   "name": "python3"
  },
  "language_info": {
   "codemirror_mode": {
    "name": "ipython",
    "version": 3
   },
   "file_extension": ".py",
   "mimetype": "text/x-python",
   "name": "python",
   "nbconvert_exporter": "python",
   "pygments_lexer": "ipython3",
   "version": "3.10.16"
  }
 },
 "nbformat": 4,
 "nbformat_minor": 5
}
