{
 "cells": [
  {
   "cell_type": "code",
   "execution_count": 2,
   "id": "98f588a9-a694-4ef8-bc98-d7b0d485190b",
   "metadata": {},
   "outputs": [
    {
     "data": {
      "text/html": [
       "<pre style=\"white-space:pre;overflow-x:auto;line-height:normal;font-family:Menlo,'DejaVu Sans Mono',consolas,'Courier New',monospace\"><span style=\"color: #7fbfbf; text-decoration-color: #7fbfbf\">[03/05/24 17:55:31] </span><span style=\"color: #800000; text-decoration-color: #800000\">WARNING </span> Missing Plugins: <span style=\"font-weight: bold\">{</span><span style=\"color: #008000; text-decoration-color: #008000\">''</span><span style=\"font-weight: bold\">}</span>                                                   <a href=\"file://C:\\Users\\Diego\\anaconda3\\envs\\animaciones\\Lib\\site-packages\\manim\\plugins\\__init__.py\" target=\"_blank\"><span style=\"color: #7f7f7f; text-decoration-color: #7f7f7f\">__init__.py</span></a><span style=\"color: #7f7f7f; text-decoration-color: #7f7f7f\">:</span><a href=\"file://C:\\Users\\Diego\\anaconda3\\envs\\animaciones\\Lib\\site-packages\\manim\\plugins\\__init__.py#17\" target=\"_blank\"><span style=\"color: #7f7f7f; text-decoration-color: #7f7f7f\">17</span></a>\n",
       "</pre>\n"
      ],
      "text/plain": [
       "\u001b[2;36m[03/05/24 17:55:31]\u001b[0m\u001b[2;36m \u001b[0m\u001b[31mWARNING \u001b[0m Missing Plugins: \u001b[1m{\u001b[0m\u001b[32m''\u001b[0m\u001b[1m}\u001b[0m                                                   \u001b]8;id=153521;file://C:\\Users\\Diego\\anaconda3\\envs\\animaciones\\Lib\\site-packages\\manim\\plugins\\__init__.py\u001b\\\u001b[2m__init__.py\u001b[0m\u001b]8;;\u001b\\\u001b[2m:\u001b[0m\u001b]8;id=398605;file://C:\\Users\\Diego\\anaconda3\\envs\\animaciones\\Lib\\site-packages\\manim\\plugins\\__init__.py#17\u001b\\\u001b[2m17\u001b[0m\u001b]8;;\u001b\\\n"
      ]
     },
     "metadata": {},
     "output_type": "display_data"
    }
   ],
   "source": [
    "from manim import *"
   ]
  },
  {
   "cell_type": "code",
   "execution_count": 3,
   "id": "6991d12f-8a34-4e37-81d0-acca9eef169a",
   "metadata": {},
   "outputs": [],
   "source": [
    "config.media_width = \"75%\"\n",
    "config.verbosity = \"WARNING\""
   ]
  },
  {
   "cell_type": "code",
   "execution_count": null,
   "id": "0abdc9eb-ee88-4b99-a434-92052bc5193c",
   "metadata": {},
   "outputs": [],
   "source": []
  },
  {
   "cell_type": "code",
   "execution_count": null,
   "id": "24f490b0-9eb7-4319-82d6-704aeabb2e86",
   "metadata": {},
   "outputs": [],
   "source": []
  },
  {
   "cell_type": "code",
   "execution_count": 25,
   "id": "ee61c17e-a6cb-461b-9c96-7fe1cf28aae1",
   "metadata": {},
   "outputs": [
    {
     "data": {
      "text/html": [
       "<pre style=\"white-space:pre;overflow-x:auto;line-height:normal;font-family:Menlo,'DejaVu Sans Mono',consolas,'Courier New',monospace\">Manim Community <span style=\"color: #008000; text-decoration-color: #008000\">v0.18.0</span>\n",
       "\n",
       "</pre>\n"
      ],
      "text/plain": [
       "Manim Community \u001b[32mv0.\u001b[0m\u001b[32m18.0\u001b[0m\n",
       "\n"
      ]
     },
     "metadata": {},
     "output_type": "display_data"
    },
    {
     "name": "stderr",
     "output_type": "stream",
     "text": [
      "                                                                                                      \r"
     ]
    },
    {
     "data": {
      "text/html": [
       "<video src=\"media\\jupyter\\Rectangulos@2024-03-05@22-54-01.mp4\" controls autoplay loop style=\"max-width: 75%;\"  >\n",
       "      Your browser does not support the <code>video</code> element.\n",
       "    </video>"
      ],
      "text/plain": [
       "<IPython.core.display.Video object>"
      ]
     },
     "metadata": {},
     "output_type": "display_data"
    }
   ],
   "source": [
    "%%manim -ql Rectangulos\n",
    "config.background_color = \"#24043d\"\n",
    "class Rectangulos(MovingCameraScene):\n",
    "    \n",
    "    def construct(self):\n",
    "        # Obtener el tamaño de la pantalla\n",
    "        ancho = self.camera.frame_width\n",
    "        alto = self.camera.frame_height\n",
    "\n",
    "        # Añadir logo\n",
    "        logo = ImageMobject(\"images\\\\bits1.png\").scale(0.65)\n",
    "        logo.move_to(DOWN * 2.9 + LEFT * 6).set_opacity(0.2)\n",
    "        self.add(logo)\n",
    "        \n",
    "        def crear_rectangulo(ancho, alto, color, opacidad, texto):\n",
    "            # Crear rectángulo con esquinas redondeadas\n",
    "            rectangulo = RoundedRectangle(corner_radius=0.1, width=ancho, height=alto).set_fill(color=color, opacity=opacidad)\n",
    "            # Crear texto\n",
    "            texto_obj = Text(texto).scale(0.5).move_to(rectangulo.get_center())\n",
    "            # Agrupar rectángulo y texto\n",
    "            grupo = Group(rectangulo, texto_obj)\n",
    "            return grupo\n",
    "\n",
    "        def get_x(coord_x):\n",
    "            if coord_x < 0:\n",
    "                return LEFT * abs(coord_x)\n",
    "            else:\n",
    "                return RIGHT * coord_x\n",
    "\n",
    "        def get_y(coord_y):\n",
    "            if coord_y < 0:\n",
    "                return DOWN * abs(coord_y)\n",
    "            else:\n",
    "                return UP * coord_y\n",
    "\n",
    "        def crear_codo(x_punto,  y_punto):\n",
    "            \"\"\" Recibe dos puntos, idealmente del tipo numeros.get_top(), datos.get_left()\n",
    "            para obtener las coordenadas de interés\n",
    "            [0] indica el eje x por su posición en la lista de vectores[x, y, z]\n",
    "            [1] indica el eje y\"\"\"\n",
    "    \n",
    "            coord_x = get_x(x_punto[0])\n",
    "            coord_y = get_y(y_punto[1])\n",
    "            punto_i = Point()\n",
    "            punto_i.move_to(coord_x + coord_y)\n",
    "\n",
    "            linea1 = Line(x_punto, punto_i)\n",
    "            linea2 = Line(y_punto, punto_i)\n",
    "            codo = VGroup(*[linea1, linea2])\n",
    "            return codo\n",
    "\n",
    "        def get_nearest_point(a, b, p):\n",
    "            \"\"\"Recibe 3 puntos del espacio R3. Los puntos a y b pertenecen a una recta.\n",
    "            Mientras que el punto p está fuera de esta. \n",
    "                Retorna el punto perteneciente a la recta más cercano al punto p.\"\"\"\n",
    "            # Calcular el vector dirección de la recta\n",
    "            vector_director = b - a\n",
    "            \n",
    "            # Calcular un vector que conecta el punto dado con un punto en la recta\n",
    "            vector_conexion = p - a\n",
    "\n",
    "            # Calcular la proyección de este vector sobre el vector dirección de la recta\n",
    "            producto_escalar = np.dot(vector_conexion, vector_director)\n",
    "            longitud_director_cuadrado = np.dot(vector_director, vector_director)\n",
    "            proyeccion = (producto_escalar / longitud_director_cuadrado) * vector_director\n",
    "            # Calcular el punto más cercano en la recta al punto dado\n",
    "            punto_mas_cercano = a + proyeccion\n",
    "            return a + proyeccion\n",
    "                       \n",
    "                \n",
    "        # Crear rectángulos con la función crear_rectangulo\n",
    "        tipos = crear_rectangulo(4, 0.8, \"#15CFEA\", 0.6, \"Tipos de datos en python\").move_to(UP * 3)\n",
    "        numeros = crear_rectangulo(1.75, 0.5, \"#15CFEA\", 0.6, \"Numéricos\").move_to(UP * 1.5 + LEFT * 5.125)\n",
    "        enteros = crear_rectangulo(1.5, 0.5, YELLOW, 0.5, \"Int\").move_to(LEFT*6.25)\n",
    "        flotantes = crear_rectangulo(1.5, 0.5, \"#1ce364\", 0.5, \"Float\").move_to(LEFT * 4)\n",
    "        booleanos = crear_rectangulo(1.75, 0.5, PURPLE, 0.5, \"Booleanos\").next_to(numeros.get_right() + RIGHT * 0.5)\n",
    "        secuenciales = crear_rectangulo(2, 0.5, ORANGE, 0.5, \"Secuenciales\").next_to(booleanos.get_right() + RIGHT * 0.5)\n",
    "        listas = crear_rectangulo(1.75, 0.5, PINK, 0.5, \"Listas\").move_to(ORIGIN + 1.45 * DOWN)\n",
    "        cadena = crear_rectangulo(1.75, 0.5, TEAL, 0.5, \"Cadena\").next_to(listas.get_left() + LEFT * 2.75)\n",
    "        tuplas = crear_rectangulo(1.5, 0.5, MAROON, 0.5, \"Tuplas\").next_to(listas.get_right()+ RIGHT * 0.5)\n",
    "        set = crear_rectangulo(1.75, 0.5, GREY, 0.5, \"Conjunto\").next_to(secuenciales.get_right() + RIGHT * 0.5)\n",
    "        diccionario = crear_rectangulo(2, 0.5, GOLD, 0.5, \"Diccionario\").next_to(set.get_right() + RIGHT * 0.5)\n",
    "\n",
    "        #punto_medio = (tipos.get_bottom() - secuenciales.get_top()/2)[1]\n",
    "        punto = Point(UP * (secuenciales.get_top() + 0.425)).set_color(WHITE)\n",
    "        codo1 = crear_codo(numeros.get_top(), punto.get_center())\n",
    "        codo2 = crear_codo(diccionario.get_top(), punto.get_center())\n",
    "        codo3 = crear_codo(numeros.get_bottom(), enteros.get_right())\n",
    "        linea1 = Line(tipos.get_bottom(), secuenciales.get_top())\n",
    "        linea2 = Line(booleanos.get_top(), booleanos.get_top() + 0.425 * UP)\n",
    "        linea3 = Line(set.get_top(), set.get_top() + 0.425 * UP)\n",
    "        linea4 = Line(enteros.get_right(), flotantes.get_left())\n",
    "        linea5 = Line(numeros.get_bottom(), get_nearest_point(linea4.start, linea4.end, numeros.get_bottom()))\n",
    "        linea6 = Line(secuenciales.get_bottom(), listas.get_top())\n",
    "        \n",
    "        punto2 = Point(listas.get_top() + UP * 0.45)\n",
    "        codo4 = crear_codo(cadena.get_top(), punto2.get_center())\n",
    "        codo5 = crear_codo(tuplas.get_top(), punto2.get_center())\n",
    "        self.add(tipos, numeros, flotantes, enteros, booleanos, secuenciales, set, diccionario, codo1, codo2,\n",
    "                 linea1, linea2, linea3, linea4, linea5, linea6, cadena, listas, tuplas, codo4, codo5)\n",
    "        # guardar el estado de la escena, sirve para volver a este punto con Restore()\n",
    "        self.camera.frame.save_state()\n",
    "        self.wait()\n",
    "        # agrego el segundo logo para la pantalla auxiliar\n",
    "        logo2 = logo.copy().move_to((ancho + 6) * LEFT + DOWN * 2.9)\n",
    "        self.add(logo2)\n",
    "        # animar escena\n",
    "        \n",
    "        numericos = Group(*[numeros, enteros, flotantes, codo3, linea4, linea5])\n",
    "        numericos2 = numericos.copy()\n",
    "        #self.play(numericos2.move_to(LEFT * 14,22 + UP * 3.5))\n",
    "        movimiento = ancho - abs(numericos2.get_center()[0])\n",
    "        self.play(self.camera.frame.animate.move_to(LEFT * 14.22),\n",
    "                  numericos2.animate.shift(movimiento * LEFT + 1.5 * UP), run_time=(2))\n",
    "\n",
    "        # crear recta para los números\n",
    "        ax = Axes(axis_config={'tip_shape': StealthTip}, y_length=0.001, tips = None).move_to(ancho * LEFT + 1.5 * DOWN)\n",
    "        flecha = DoubleArrow(6.5 * LEFT, 6.5 * RIGHT, stroke_width=1.5, max_tip_length_to_length_ratio = 0.75).move_to(14.22 * LEFT + 1.5 * DOWN)\n",
    "        linea_cero = Line(start=[0, 0, 0], end=[0, 0.25, 0]).move_to(ancho * LEFT + 1.5 * DOWN)\n",
    "        self.play(Create(ax))\n",
    "        self.add(flecha, linea_cero)\n",
    "        # Crear el rectángulo que va a tapar al elemento pasivo\n",
    "\n",
    "        tapa = crear_rectangulo(1.5, 0.5, \"#1ce364\", 1, \"\").next_to(numericos2[2].get_left() + LEFT * 0.25)\n",
    "        tapa2 = crear_rectangulo(1.5, 0.5, YELLOW, 1, \"\").next_to(numericos2[1].get_left() + LEFT * 0.25)\n",
    "        enteros2 = numericos2[1].copy()\n",
    "        flotantes2 = numericos2[2].copy()\n",
    "        # crear textos tipos de número\n",
    "        titulo_enteros = Text(\"Enteros\").scale(0.8).next_to(enteros2.get_left() + 3 * LEFT)\n",
    "        titulo_flotantes = Text(\"Decimales\").scale(0.8).next_to(flotantes2.get_right() + 0.5 * RIGHT)\n",
    "        # Crear textos con números para la animación de los enteros\n",
    "        neg5 = Text(\"-5\").scale(0.7).set_color(YELLOW).move_to((ancho + 1.5) * LEFT + 1 * DOWN)\n",
    "        cero = Text(\"0\").scale(0.7).set_color(YELLOW).move_to(ancho * LEFT + 1 * DOWN)\n",
    "        pos17= Text(\"17\").scale(0.7).set_color(YELLOW).move_to((ancho - 1.5 )* LEFT + 1 * DOWN)\n",
    "        big_neg = Text(\"-763168973348979577672347541378\").scale(0.6).set_color(YELLOW).move_to((ancho + 2) * LEFT + 2 * DOWN)\n",
    "        big_pos = Text(\"135679458273498723598273641243\").scale(0.6).set_color(YELLOW).move_to((ancho - 2.25 ) * LEFT + 2 * DOWN)\n",
    "        self.play(Write(titulo_enteros))\n",
    "        self.add(tapa)\n",
    "        self.wait(2)\n",
    "        self.play(Transform(enteros2, pos17), run_time=2)\n",
    "        self.wait(2)\n",
    "        self.play(Transform(enteros2, neg5), run_time=2)\n",
    "        self.wait(2)\n",
    "        self.play(Transform(enteros2, cero), run_time=2)\n",
    "        self.wait(2)\n",
    "        self.play(Transform(enteros2, big_neg), run_time=2)\n",
    "        self.wait(2)\n",
    "        self.play(Transform(enteros2, big_pos), run_time=2)\n",
    "        # Transición a float\n",
    "        self.wait()\n",
    "        self.play(Transform(titulo_enteros, titulo_flotantes))\n",
    "        self.remove(tapa, neg5, cero, pos17, big_neg, big_pos, enteros2)\n",
    "        self.add(tapa2)\n",
    "        self.wait(2)\n",
    "        # Crear textos con números para la animación de floats\n",
    "        neg_f = Text(\"-15.27\").scale(0.7).set_color(\"#1ce364\").move_to((ancho + 1.5) * LEFT + 1 * DOWN)\n",
    "        cero = Text(\"3.141592653589793\").scale(0.7).set_color(\"#1ce364\").move_to(11 * LEFT + 1 * DOWN)\n",
    "        pos_f = Text(\"0\").scale(0.7).set_color(\"#1ce364\").move_to(ancho * LEFT + 1 * DOWN)\n",
    "\n",
    "        self.play(Transform(flotantes2, neg_f), run_time=2)\n",
    "        self.wait(2)\n",
    "        self.play(Transform(flotantes2, cero), run_time=2)\n",
    "        self.wait(2)\n",
    "        self.play(Transform(flotantes2, pos_f), run_time=2)\n",
    "        self.wait(2)\n",
    "        self.play(Restore(self.camera.frame), run_time = 2)\n",
    "        # Limpiar el cuadro izquierdo\n",
    "        self.remove(numericos2, ax, flecha, linea_cero, tapa2, flotantes2,\n",
    "                    titulo_enteros, titulo_flotantes, neg_f, cero, pos_f)\n",
    "        ## booleanos\n",
    "        logo2.move_to(alto * 2.9 + 6 * LEFT)\n",
    "        #copiar booleanos\n",
    "        booleanos2 = booleanos.copy()\n",
    "        self.play(self.camera.frame.animate.move_to(alto * UP), \n",
    "                  booleanos2.animate.move_to(tipos.get_center() + alto * UP), run_time = 2)\n",
    "        \n",
    "        self.wait(3)"
   ]
  },
  {
   "cell_type": "code",
   "execution_count": 189,
   "id": "234bc61f-8f35-4552-aabc-5c236637bcd6",
   "metadata": {},
   "outputs": [],
   "source": [
    "a = 763168973348979577672347541378"
   ]
  },
  {
   "cell_type": "code",
   "execution_count": null,
   "id": "aa313255-ff59-457f-892d-d38bba4bee92",
   "metadata": {},
   "outputs": [],
   "source": []
  },
  {
   "cell_type": "code",
   "execution_count": null,
   "id": "7d058005-644d-40da-accc-b20dc456fd32",
   "metadata": {},
   "outputs": [],
   "source": []
  },
  {
   "cell_type": "code",
   "execution_count": null,
   "id": "336af9b1-d3f5-403d-a2b2-d9121ec6794a",
   "metadata": {},
   "outputs": [],
   "source": []
  },
  {
   "cell_type": "code",
   "execution_count": null,
   "id": "7a10146d-f282-4572-99c1-027f4ce04ce9",
   "metadata": {},
   "outputs": [],
   "source": []
  },
  {
   "cell_type": "code",
   "execution_count": 159,
   "id": "415906ca-f6f3-42c6-8579-c1482df66b1c",
   "metadata": {},
   "outputs": [
    {
     "data": {
      "text/html": [
       "<pre style=\"white-space:pre;overflow-x:auto;line-height:normal;font-family:Menlo,'DejaVu Sans Mono',consolas,'Courier New',monospace\">Manim Community <span style=\"color: #008000; text-decoration-color: #008000\">v0.18.0</span>\n",
       "\n",
       "</pre>\n"
      ],
      "text/plain": [
       "Manim Community \u001b[32mv0.\u001b[0m\u001b[32m18.0\u001b[0m\n",
       "\n"
      ]
     },
     "metadata": {},
     "output_type": "display_data"
    },
    {
     "data": {
      "text/html": [
       "<video src=\"media\\jupyter\\EjeX@2024-03-05@16-10-55.mp4\" controls autoplay loop style=\"max-width: 75%;\"  >\n",
       "      Your browser does not support the <code>video</code> element.\n",
       "    </video>"
      ],
      "text/plain": [
       "<IPython.core.display.Video object>"
      ]
     },
     "metadata": {},
     "output_type": "display_data"
    }
   ],
   "source": [
    "%%manim -ql EjeX\n",
    "class EjeX(Scene):\n",
    "    def construct(self):\n",
    "        # Definir los puntos inicial y final del eje x\n",
    "        start_point = LEFT * 5\n",
    "        end_point = RIGHT * 5\n",
    "\n",
    "        # Crear la línea que representa al eje x\n",
    "        eje_x = Line(start_point, end_point, color=WHITE)\n",
    "\n",
    "        # Agregar la línea a la escena\n",
    "        self.add(eje_x)\n",
    "\n",
    "        # Agregar etiqueta al eje x\n",
    "        label_x = Tex(\"x\").next_to(end_point, RIGHT, buff=0.1)\n",
    "        self.add(label_x)\n",
    "\n",
    "        # Mostrar la escena\n",
    "        self.wait(3)"
   ]
  },
  {
   "cell_type": "code",
   "execution_count": null,
   "id": "b7077191-3442-4b5f-b68b-8ba2a79e689e",
   "metadata": {},
   "outputs": [],
   "source": []
  },
  {
   "cell_type": "code",
   "execution_count": null,
   "id": "c363f671-62a2-4a1a-aeb0-ccb3289a6b3b",
   "metadata": {},
   "outputs": [],
   "source": []
  },
  {
   "cell_type": "code",
   "execution_count": 146,
   "id": "07a01484-ce1b-486b-bdb5-f80d27282718",
   "metadata": {},
   "outputs": [
    {
     "data": {
      "text/html": [
       "<pre style=\"white-space:pre;overflow-x:auto;line-height:normal;font-family:Menlo,'DejaVu Sans Mono',consolas,'Courier New',monospace\">Manim Community <span style=\"color: #008000; text-decoration-color: #008000\">v0.18.0</span>\n",
       "\n",
       "</pre>\n"
      ],
      "text/plain": [
       "Manim Community \u001b[32mv0.\u001b[0m\u001b[32m18.0\u001b[0m\n",
       "\n"
      ]
     },
     "metadata": {},
     "output_type": "display_data"
    },
    {
     "ename": "AttributeError",
     "evalue": "'Camera' object has no attribute 'animate'",
     "output_type": "error",
     "traceback": [
      "\u001b[1;31m---------------------------------------------------------------------------\u001b[0m",
      "\u001b[1;31mAttributeError\u001b[0m                            Traceback (most recent call last)",
      "Cell \u001b[1;32mIn[146], line 1\u001b[0m\n\u001b[1;32m----> 1\u001b[0m get_ipython()\u001b[38;5;241m.\u001b[39mrun_cell_magic(\u001b[38;5;124m'\u001b[39m\u001b[38;5;124mmanim\u001b[39m\u001b[38;5;124m'\u001b[39m, \u001b[38;5;124m'\u001b[39m\u001b[38;5;124m-ql MoveWithCamera\u001b[39m\u001b[38;5;124m'\u001b[39m, \u001b[38;5;124m'\u001b[39m\u001b[38;5;130;01m\\n\u001b[39;00m\u001b[38;5;124mclass MoveWithCamera(Scene):\u001b[39m\u001b[38;5;130;01m\\n\u001b[39;00m\u001b[38;5;124m    def construct(self):\u001b[39m\u001b[38;5;130;01m\\n\u001b[39;00m\u001b[38;5;124m        # Crear un círculo\u001b[39m\u001b[38;5;130;01m\\n\u001b[39;00m\u001b[38;5;124m        circle = Circle().shift(UP * 2)\u001b[39m\u001b[38;5;130;01m\\n\u001b[39;00m\u001b[38;5;130;01m\\n\u001b[39;00m\u001b[38;5;124m        # Agregar un updater al círculo\u001b[39m\u001b[38;5;130;01m\\n\u001b[39;00m\u001b[38;5;124m        circle.add_updater(lambda m: m.move_to(self.camera.get_center()))\u001b[39m\u001b[38;5;130;01m\\n\u001b[39;00m\u001b[38;5;130;01m\\n\u001b[39;00m\u001b[38;5;124m        # Agregar el círculo a la escena\u001b[39m\u001b[38;5;130;01m\\n\u001b[39;00m\u001b[38;5;124m        self.add(circle)\u001b[39m\u001b[38;5;130;01m\\n\u001b[39;00m\u001b[38;5;130;01m\\n\u001b[39;00m\u001b[38;5;124m        # Animación de la cámara\u001b[39m\u001b[38;5;130;01m\\n\u001b[39;00m\u001b[38;5;124m        self.play(self.camera.animate.move_to(UP * 2))\u001b[39m\u001b[38;5;130;01m\\n\u001b[39;00m\u001b[38;5;124m        self.wait(2)\u001b[39m\u001b[38;5;130;01m\\n\u001b[39;00m\u001b[38;5;124m        \u001b[39m\u001b[38;5;130;01m\\n\u001b[39;00m\u001b[38;5;124m'\u001b[39m)\n",
      "File \u001b[1;32m~\\anaconda3\\envs\\animaciones\\Lib\\site-packages\\IPython\\core\\interactiveshell.py:2517\u001b[0m, in \u001b[0;36mInteractiveShell.run_cell_magic\u001b[1;34m(self, magic_name, line, cell)\u001b[0m\n\u001b[0;32m   2515\u001b[0m \u001b[38;5;28;01mwith\u001b[39;00m \u001b[38;5;28mself\u001b[39m\u001b[38;5;241m.\u001b[39mbuiltin_trap:\n\u001b[0;32m   2516\u001b[0m     args \u001b[38;5;241m=\u001b[39m (magic_arg_s, cell)\n\u001b[1;32m-> 2517\u001b[0m     result \u001b[38;5;241m=\u001b[39m fn(\u001b[38;5;241m*\u001b[39margs, \u001b[38;5;241m*\u001b[39m\u001b[38;5;241m*\u001b[39mkwargs)\n\u001b[0;32m   2519\u001b[0m \u001b[38;5;66;03m# The code below prevents the output from being displayed\u001b[39;00m\n\u001b[0;32m   2520\u001b[0m \u001b[38;5;66;03m# when using magics with decorator @output_can_be_silenced\u001b[39;00m\n\u001b[0;32m   2521\u001b[0m \u001b[38;5;66;03m# when the last Python token in the expression is a ';'.\u001b[39;00m\n\u001b[0;32m   2522\u001b[0m \u001b[38;5;28;01mif\u001b[39;00m \u001b[38;5;28mgetattr\u001b[39m(fn, magic\u001b[38;5;241m.\u001b[39mMAGIC_OUTPUT_CAN_BE_SILENCED, \u001b[38;5;28;01mFalse\u001b[39;00m):\n",
      "File \u001b[1;32m~\\anaconda3\\envs\\animaciones\\Lib\\site-packages\\manim\\utils\\ipython_magic.py:143\u001b[0m, in \u001b[0;36mManimMagic.manim\u001b[1;34m(self, line, cell, local_ns)\u001b[0m\n\u001b[0;32m    141\u001b[0m     SceneClass \u001b[38;5;241m=\u001b[39m local_ns[config[\u001b[38;5;124m\"\u001b[39m\u001b[38;5;124mscene_names\u001b[39m\u001b[38;5;124m\"\u001b[39m][\u001b[38;5;241m0\u001b[39m]]\n\u001b[0;32m    142\u001b[0m     scene \u001b[38;5;241m=\u001b[39m SceneClass(renderer\u001b[38;5;241m=\u001b[39mrenderer)\n\u001b[1;32m--> 143\u001b[0m     scene\u001b[38;5;241m.\u001b[39mrender()\n\u001b[0;32m    144\u001b[0m \u001b[38;5;28;01mfinally\u001b[39;00m:\n\u001b[0;32m    145\u001b[0m     \u001b[38;5;66;03m# Shader cache becomes invalid as the context is destroyed\u001b[39;00m\n\u001b[0;32m    146\u001b[0m     shader_program_cache\u001b[38;5;241m.\u001b[39mclear()\n",
      "File \u001b[1;32m~\\anaconda3\\envs\\animaciones\\Lib\\site-packages\\manim\\scene\\scene.py:229\u001b[0m, in \u001b[0;36mScene.render\u001b[1;34m(self, preview)\u001b[0m\n\u001b[0;32m    227\u001b[0m \u001b[38;5;28mself\u001b[39m\u001b[38;5;241m.\u001b[39msetup()\n\u001b[0;32m    228\u001b[0m \u001b[38;5;28;01mtry\u001b[39;00m:\n\u001b[1;32m--> 229\u001b[0m     \u001b[38;5;28mself\u001b[39m\u001b[38;5;241m.\u001b[39mconstruct()\n\u001b[0;32m    230\u001b[0m \u001b[38;5;28;01mexcept\u001b[39;00m EndSceneEarlyException:\n\u001b[0;32m    231\u001b[0m     \u001b[38;5;28;01mpass\u001b[39;00m\n",
      "File \u001b[1;32m<string>:14\u001b[0m, in \u001b[0;36mconstruct\u001b[1;34m(self)\u001b[0m\n",
      "\u001b[1;31mAttributeError\u001b[0m: 'Camera' object has no attribute 'animate'"
     ]
    }
   ],
   "source": [
    "%%manim -ql MoveWithCamera\n",
    "\n",
    "class MoveWithCamera(Scene):\n",
    "    def construct(self):\n",
    "        # Crear un círculo\n",
    "        circle = Circle().shift(UP * 2)\n",
    "\n",
    "        # Agregar un updater al círculo\n",
    "        circle.add_updater(lambda m: m.move_to(self.camera.get_center()))\n",
    "\n",
    "        # Agregar el círculo a la escena\n",
    "        self.add(circle)\n",
    "\n",
    "        # Animación de la cámara\n",
    "        self.play(self.camera.animate.move_to(UP * 2))\n",
    "        self.wait(2)\n",
    "        "
   ]
  },
  {
   "cell_type": "code",
   "execution_count": 24,
   "id": "9226d81a-fffb-406b-8607-21f982beaf0f",
   "metadata": {},
   "outputs": [],
   "source": [
    "import numpy as np"
   ]
  },
  {
   "cell_type": "code",
   "execution_count": 46,
   "id": "20edb919-cad2-4f3a-beb7-ee6276f9283c",
   "metadata": {},
   "outputs": [
    {
     "name": "stdout",
     "output_type": "stream",
     "text": [
      "producto_escalar: 50\n",
      "vector_conexión: [ 5 -5  0]\n",
      "vector_direccion [10  0  0]\n",
      "proyección: [5. 0. 0.]\n",
      "El punto más cercano en la recta al punto dado es: [0. 3. 0.]\n"
     ]
    }
   ],
   "source": [
    "# Definir los puntos\n",
    "p = np.array([0, -2, 0])\n",
    "a = np.array([-5, 3, 0])\n",
    "b = np.array([5, 0, 0])\n",
    "\n",
    "# Calcular el vector dirección de la recta\n",
    "vector_director = b - a\n",
    "\n",
    "# Calcular un vector que conecta el punto dado con un punto en la recta\n",
    "vector_conexion = p - a\n",
    "\n",
    "# Calcular la proyección de este vector sobre el vector dirección de la recta\n",
    "producto_escalar = np.dot(vector_conexion, vector_director)\n",
    "longitud_director_cuadrado = np.dot(vector_director, vector_director)\n",
    "proyeccion = (producto_escalar / longitud_director_cuadrado) * vector_director\n",
    "print(f\"producto_escalar: {producto_escalar}\\nvector_conexión: {vector_conexion}\\nvector_director {vector_director}\")\n",
    "print(f\"proyección: {proyeccion}\")\n",
    "# Calcular el punto más cercano en la recta al punto dado\n",
    "punto_mas_cercano = a + proyeccion\n",
    "\n",
    "# Verificar si el punto más cercano está dentro del segmento de la recta\n",
    "if np.all(np.logical_and(punto_mas_cercano >= a, punto_mas_cercano <= b)):\n",
    "    print(\"El punto más cercano en la recta al punto dado es:\", punto_mas_cercano)\n",
    "else:\n",
    "    print(\"El punto más cercano en la recta al punto dado está fuera del segmento de la recta.\")\n"
   ]
  },
  {
   "cell_type": "code",
   "execution_count": 57,
   "id": "7a243e84-8a3c-455b-b2e8-ce88e83055ef",
   "metadata": {},
   "outputs": [],
   "source": [
    "\n",
    "    "
   ]
  },
  {
   "cell_type": "code",
   "execution_count": 58,
   "id": "d92900b9-a626-4ab1-b7aa-968c3c866364",
   "metadata": {},
   "outputs": [
    {
     "name": "stdout",
     "output_type": "stream",
     "text": [
      "<class 'numpy.ndarray'>\n"
     ]
    },
    {
     "data": {
      "text/plain": [
       "array([0., 3., 0.])"
      ]
     },
     "execution_count": 58,
     "metadata": {},
     "output_type": "execute_result"
    }
   ],
   "source": [
    "get_nearest_point(np.array([-5, 3, 0]), np.array([5, 3, 0]), np.array([0, -2, 0]))"
   ]
  },
  {
   "cell_type": "code",
   "execution_count": null,
   "id": "8429e69d-1513-4598-90a4-4fd3a9473542",
   "metadata": {},
   "outputs": [],
   "source": []
  }
 ],
 "metadata": {
  "kernelspec": {
   "display_name": "Python 3 (ipykernel)",
   "language": "python",
   "name": "python3"
  },
  "language_info": {
   "codemirror_mode": {
    "name": "ipython",
    "version": 3
   },
   "file_extension": ".py",
   "mimetype": "text/x-python",
   "name": "python",
   "nbconvert_exporter": "python",
   "pygments_lexer": "ipython3",
   "version": "3.11.7"
  }
 },
 "nbformat": 4,
 "nbformat_minor": 5
}
