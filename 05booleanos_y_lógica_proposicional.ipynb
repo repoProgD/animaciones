{
 "cells": [
  {
   "cell_type": "code",
   "execution_count": 1,
   "id": "18f3673d-ed1f-4015-8614-ef6e16b42a15",
   "metadata": {},
   "outputs": [
    {
     "data": {
      "text/html": [
       "<pre style=\"white-space:pre;overflow-x:auto;line-height:normal;font-family:Menlo,'DejaVu Sans Mono',consolas,'Courier New',monospace\">Manim Community <span style=\"color: #008000; text-decoration-color: #008000\">v0.18.0</span>\n",
       "\n",
       "</pre>\n"
      ],
      "text/plain": [
       "Manim Community \u001b[32mv0.\u001b[0m\u001b[32m18.0\u001b[0m\n",
       "\n"
      ]
     },
     "metadata": {},
     "output_type": "display_data"
    }
   ],
   "source": [
    "from manim import *"
   ]
  },
  {
   "cell_type": "code",
   "execution_count": 2,
   "id": "f72e4140-f863-40e6-8b40-352a21998eb7",
   "metadata": {},
   "outputs": [],
   "source": [
    "config.media_width = \"75%\"\n",
    "config.verbosity = \"WARNING\"\n",
    "config.background_color = \"#24043d\""
   ]
  },
  {
   "cell_type": "code",
   "execution_count": 3,
   "id": "cefd3778-7326-438b-8b04-67a2f3b97368",
   "metadata": {},
   "outputs": [],
   "source": [
    "import cuadro_datos as cd\n",
    "import herramientas as h"
   ]
  },
  {
   "cell_type": "code",
   "execution_count": 4,
   "id": "b11af0dc-20f8-47c4-bfa4-9c32081b8482",
   "metadata": {
    "scrolled": true
   },
   "outputs": [
    {
     "ename": "AttributeError",
     "evalue": "module 'herramientas' has no attribute 'crear_rectangulo'",
     "output_type": "error",
     "traceback": [
      "\u001b[1;31m---------------------------------------------------------------------------\u001b[0m",
      "\u001b[1;31mAttributeError\u001b[0m                            Traceback (most recent call last)",
      "Cell \u001b[1;32mIn[4], line 1\u001b[0m\n\u001b[1;32m----> 1\u001b[0m get_ipython()\u001b[38;5;241m.\u001b[39mrun_cell_magic(\u001b[38;5;124m'\u001b[39m\u001b[38;5;124mmanim\u001b[39m\u001b[38;5;124m'\u001b[39m, \u001b[38;5;124m'\u001b[39m\u001b[38;5;124m-ql Booleanos\u001b[39m\u001b[38;5;124m'\u001b[39m, \u001b[38;5;124m'\u001b[39m\u001b[38;5;124mclass Booleanos(MovingCameraScene):\u001b[39m\u001b[38;5;130;01m\\n\u001b[39;00m\u001b[38;5;124m    \u001b[39m\u001b[38;5;130;01m\\n\u001b[39;00m\u001b[38;5;124m    def construct(self):\u001b[39m\u001b[38;5;130;01m\\n\u001b[39;00m\u001b[38;5;124m        # Obtener el tamaño de la pantalla\u001b[39m\u001b[38;5;130;01m\\n\u001b[39;00m\u001b[38;5;124m        ancho = self.camera.frame_width\u001b[39m\u001b[38;5;130;01m\\n\u001b[39;00m\u001b[38;5;124m        alto = self.camera.frame_height\u001b[39m\u001b[38;5;130;01m\\n\u001b[39;00m\u001b[38;5;130;01m\\n\u001b[39;00m\u001b[38;5;124m        # Añadir logo\u001b[39m\u001b[38;5;130;01m\\n\u001b[39;00m\u001b[38;5;124m        logo = h.Logo()\u001b[39m\u001b[38;5;130;01m\\n\u001b[39;00m\u001b[38;5;124m        self.add(logo)                  \u001b[39m\u001b[38;5;130;01m\\n\u001b[39;00m\u001b[38;5;124m        cuadro = cd.construir_cuadro(self)\u001b[39m\u001b[38;5;130;01m\\n\u001b[39;00m\u001b[38;5;124m        booleanos = h.crear_rectangulo(1.75, 0.5, \u001b[39m\u001b[38;5;124m\"\u001b[39m\u001b[38;5;124m#AC1DB8\u001b[39m\u001b[38;5;124m\"\u001b[39m\u001b[38;5;124m, 0.85, \u001b[39m\u001b[38;5;124m\"\u001b[39m\u001b[38;5;124mBooleanos\u001b[39m\u001b[38;5;124m\"\u001b[39m\u001b[38;5;124m).next_to(UP * 1.5 + LEFT * 3.75)\u001b[39m\u001b[38;5;130;01m\\n\u001b[39;00m\u001b[38;5;124m        # añado grilla\u001b[39m\u001b[38;5;130;01m\\n\u001b[39;00m\u001b[38;5;124m        grilla = h.GrillaRegla().shift(UP * alto)\u001b[39m\u001b[38;5;130;01m\\n\u001b[39;00m\u001b[38;5;124m        self.add(grilla)\u001b[39m\u001b[38;5;130;01m\\n\u001b[39;00m\u001b[38;5;124m        logo2 = logo.copy()\u001b[39m\u001b[38;5;130;01m\\n\u001b[39;00m\u001b[38;5;124m        logo2.shift(alto*UP)\u001b[39m\u001b[38;5;130;01m\\n\u001b[39;00m\u001b[38;5;124m        self.add(logo2)\u001b[39m\u001b[38;5;130;01m\\n\u001b[39;00m\u001b[38;5;124m        # guardar el estado de la escena, sirve para volver a este punto con Restore()\u001b[39m\u001b[38;5;130;01m\\n\u001b[39;00m\u001b[38;5;124m        self.camera.frame.save_state()\u001b[39m\u001b[38;5;130;01m\\n\u001b[39;00m\u001b[38;5;124m        # animo la cámara y la llevo arriba\u001b[39m\u001b[38;5;130;01m\\n\u001b[39;00m\u001b[38;5;124m        self.play(self.camera.frame.animate.move_to(booleanos))\u001b[39m\u001b[38;5;130;01m\\n\u001b[39;00m\u001b[38;5;124m        self.play(self.camera.frame.animate.move_to(alto * UP), booleanos.animate.move_to((alto + 1.5) * UP), run_time=(2))\u001b[39m\u001b[38;5;130;01m\\n\u001b[39;00m\u001b[38;5;124m        auto_blanco = ImageMobject(r\u001b[39m\u001b[38;5;124m\"\u001b[39m\u001b[38;5;124mimagenes\u001b[39m\u001b[38;5;130;01m\\\\\u001b[39;00m\u001b[38;5;124m05_bool\u001b[39m\u001b[38;5;130;01m\\\\\u001b[39;00m\u001b[38;5;124mauto_blanco.png\u001b[39m\u001b[38;5;124m\"\u001b[39m\u001b[38;5;124m).scale(0.35).move_to((alto + 0.5) * UP + 4.75 * RIGHT)\u001b[39m\u001b[38;5;130;01m\\n\u001b[39;00m\u001b[38;5;124m        auto_rojo = ImageMobject(r\u001b[39m\u001b[38;5;124m\"\u001b[39m\u001b[38;5;124mimagenes\u001b[39m\u001b[38;5;130;01m\\\\\u001b[39;00m\u001b[38;5;124m05_bool\u001b[39m\u001b[38;5;130;01m\\\\\u001b[39;00m\u001b[38;5;124mauto_rojo.png\u001b[39m\u001b[38;5;124m\"\u001b[39m\u001b[38;5;124m).scale(0.35).move_to((alto) * UP + 4.75 * RIGHT)\u001b[39m\u001b[38;5;130;01m\\n\u001b[39;00m\u001b[38;5;124m        rectangulo1 = Rectangle(width=3, height=2, color=\u001b[39m\u001b[38;5;124m\"\u001b[39m\u001b[38;5;124m#24043d\u001b[39m\u001b[38;5;124m\"\u001b[39m\u001b[38;5;124m, fill_opacity=1).move_to(auto_blanco)\u001b[39m\u001b[38;5;130;01m\\n\u001b[39;00m\u001b[38;5;124m        rectangulo2 = rectangulo1.copy().move_to(auto_rojo)\u001b[39m\u001b[38;5;130;01m\\n\u001b[39;00m\u001b[38;5;124m        \u001b[39m\u001b[38;5;130;01m\\n\u001b[39;00m\u001b[38;5;124m        # Añadir el rectángulo a la escena\u001b[39m\u001b[38;5;130;01m\\n\u001b[39;00m\u001b[38;5;124m        self.add(auto_rojo, auto_blanco)\u001b[39m\u001b[38;5;130;01m\\n\u001b[39;00m\u001b[38;5;124m        self.add(rectangulo1, rectangulo2)\u001b[39m\u001b[38;5;130;01m\\n\u001b[39;00m\u001b[38;5;124m        self.wait(3)\u001b[39m\u001b[38;5;130;01m\\n\u001b[39;00m\u001b[38;5;124m        self.play(rectangulo1.animate.shift(3*RIGHT))\u001b[39m\u001b[38;5;130;01m\\n\u001b[39;00m\u001b[38;5;124m        self.wait(3)\u001b[39m\u001b[38;5;130;01m\\n\u001b[39;00m\u001b[38;5;124m'\u001b[39m)\n",
      "File \u001b[1;32m~\\anaconda3\\envs\\animaciones\\Lib\\site-packages\\IPython\\core\\interactiveshell.py:2517\u001b[0m, in \u001b[0;36mInteractiveShell.run_cell_magic\u001b[1;34m(self, magic_name, line, cell)\u001b[0m\n\u001b[0;32m   2515\u001b[0m \u001b[38;5;28;01mwith\u001b[39;00m \u001b[38;5;28mself\u001b[39m\u001b[38;5;241m.\u001b[39mbuiltin_trap:\n\u001b[0;32m   2516\u001b[0m     args \u001b[38;5;241m=\u001b[39m (magic_arg_s, cell)\n\u001b[1;32m-> 2517\u001b[0m     result \u001b[38;5;241m=\u001b[39m fn(\u001b[38;5;241m*\u001b[39margs, \u001b[38;5;241m*\u001b[39m\u001b[38;5;241m*\u001b[39mkwargs)\n\u001b[0;32m   2519\u001b[0m \u001b[38;5;66;03m# The code below prevents the output from being displayed\u001b[39;00m\n\u001b[0;32m   2520\u001b[0m \u001b[38;5;66;03m# when using magics with decorator @output_can_be_silenced\u001b[39;00m\n\u001b[0;32m   2521\u001b[0m \u001b[38;5;66;03m# when the last Python token in the expression is a ';'.\u001b[39;00m\n\u001b[0;32m   2522\u001b[0m \u001b[38;5;28;01mif\u001b[39;00m \u001b[38;5;28mgetattr\u001b[39m(fn, magic\u001b[38;5;241m.\u001b[39mMAGIC_OUTPUT_CAN_BE_SILENCED, \u001b[38;5;28;01mFalse\u001b[39;00m):\n",
      "File \u001b[1;32m~\\anaconda3\\envs\\animaciones\\Lib\\site-packages\\manim\\utils\\ipython_magic.py:141\u001b[0m, in \u001b[0;36mManimMagic.manim\u001b[1;34m(self, line, cell, local_ns)\u001b[0m\n\u001b[0;32m    139\u001b[0m     SceneClass \u001b[38;5;241m=\u001b[39m local_ns[config[\u001b[38;5;124m\"\u001b[39m\u001b[38;5;124mscene_names\u001b[39m\u001b[38;5;124m\"\u001b[39m][\u001b[38;5;241m0\u001b[39m]]\n\u001b[0;32m    140\u001b[0m     scene \u001b[38;5;241m=\u001b[39m SceneClass(renderer\u001b[38;5;241m=\u001b[39mrenderer)\n\u001b[1;32m--> 141\u001b[0m     scene\u001b[38;5;241m.\u001b[39mrender()\n\u001b[0;32m    142\u001b[0m \u001b[38;5;28;01mfinally\u001b[39;00m:\n\u001b[0;32m    143\u001b[0m     \u001b[38;5;66;03m# Shader cache becomes invalid as the context is destroyed\u001b[39;00m\n\u001b[0;32m    144\u001b[0m     shader_program_cache\u001b[38;5;241m.\u001b[39mclear()\n",
      "File \u001b[1;32m~\\anaconda3\\envs\\animaciones\\Lib\\site-packages\\manim\\scene\\scene.py:223\u001b[0m, in \u001b[0;36mScene.render\u001b[1;34m(self, preview)\u001b[0m\n\u001b[0;32m    221\u001b[0m \u001b[38;5;28mself\u001b[39m\u001b[38;5;241m.\u001b[39msetup()\n\u001b[0;32m    222\u001b[0m \u001b[38;5;28;01mtry\u001b[39;00m:\n\u001b[1;32m--> 223\u001b[0m     \u001b[38;5;28mself\u001b[39m\u001b[38;5;241m.\u001b[39mconstruct()\n\u001b[0;32m    224\u001b[0m \u001b[38;5;28;01mexcept\u001b[39;00m EndSceneEarlyException:\n\u001b[0;32m    225\u001b[0m     \u001b[38;5;28;01mpass\u001b[39;00m\n",
      "File \u001b[1;32m<string>:11\u001b[0m, in \u001b[0;36mconstruct\u001b[1;34m(self)\u001b[0m\n",
      "File \u001b[1;32m~\\Desktop\\animaciones\\cuadro_datos.py:6\u001b[0m, in \u001b[0;36mconstruir_cuadro\u001b[1;34m(self)\u001b[0m\n\u001b[0;32m      4\u001b[0m \u001b[38;5;28;01mdef\u001b[39;00m \u001b[38;5;21mconstruir_cuadro\u001b[39m(\u001b[38;5;28mself\u001b[39m):                              \n\u001b[0;32m      5\u001b[0m     \u001b[38;5;66;03m# Crear rectángulos con la función crear_rectangulo\u001b[39;00m\n\u001b[1;32m----> 6\u001b[0m     tipos \u001b[38;5;241m=\u001b[39m h\u001b[38;5;241m.\u001b[39mcrear_rectangulo(\u001b[38;5;241m4\u001b[39m, \u001b[38;5;241m0.8\u001b[39m, \u001b[38;5;124m\"\u001b[39m\u001b[38;5;124m#15CFEA\u001b[39m\u001b[38;5;124m\"\u001b[39m, \u001b[38;5;241m0.6\u001b[39m, \u001b[38;5;124m\"\u001b[39m\u001b[38;5;124mTipos de datos en python\u001b[39m\u001b[38;5;124m\"\u001b[39m)\u001b[38;5;241m.\u001b[39mmove_to(UP \u001b[38;5;241m*\u001b[39m \u001b[38;5;241m3\u001b[39m)\n\u001b[0;32m      7\u001b[0m     numeros \u001b[38;5;241m=\u001b[39m h\u001b[38;5;241m.\u001b[39mcrear_rectangulo(\u001b[38;5;241m1.75\u001b[39m, \u001b[38;5;241m0.5\u001b[39m, \u001b[38;5;124m\"\u001b[39m\u001b[38;5;124m#15CFEA\u001b[39m\u001b[38;5;124m\"\u001b[39m, \u001b[38;5;241m0.7\u001b[39m, \u001b[38;5;124m\"\u001b[39m\u001b[38;5;124mNuméricos\u001b[39m\u001b[38;5;124m\"\u001b[39m)\u001b[38;5;241m.\u001b[39mmove_to(UP \u001b[38;5;241m*\u001b[39m \u001b[38;5;241m1.5\u001b[39m \u001b[38;5;241m+\u001b[39m LEFT \u001b[38;5;241m*\u001b[39m \u001b[38;5;241m5.125\u001b[39m)\n\u001b[0;32m      8\u001b[0m     enteros \u001b[38;5;241m=\u001b[39m h\u001b[38;5;241m.\u001b[39mcrear_rectangulo(\u001b[38;5;241m1.5\u001b[39m, \u001b[38;5;241m0.5\u001b[39m, YELLOW, \u001b[38;5;241m0.65\u001b[39m, \u001b[38;5;124m\"\u001b[39m\u001b[38;5;124mInt\u001b[39m\u001b[38;5;124m\"\u001b[39m)\u001b[38;5;241m.\u001b[39mmove_to(LEFT\u001b[38;5;241m*\u001b[39m\u001b[38;5;241m6.25\u001b[39m)\n",
      "\u001b[1;31mAttributeError\u001b[0m: module 'herramientas' has no attribute 'crear_rectangulo'"
     ]
    }
   ],
   "source": [
    "%%manim -ql Booleanos\n",
    "class Booleanos(MovingCameraScene):\n",
    "    \n",
    "    def construct(self):\n",
    "        # Obtener el tamaño de la pantalla\n",
    "        ancho = self.camera.frame_width\n",
    "        alto = self.camera.frame_height\n",
    "\n",
    "        # Añadir logo\n",
    "        logo = h.Logo()\n",
    "        self.add(logo)                  \n",
    "        cuadro = cd.construir_cuadro(self)\n",
    "        booleanos = h.crear_rectangulo(1.75, 0.5, \"#AC1DB8\", 0.85, \"Booleanos\").next_to(UP * 1.5 + LEFT * 3.75)\n",
    "        # añado grilla\n",
    "        grilla = h.GrillaRegla().shift(UP * alto)\n",
    "        self.add(grilla)\n",
    "        logo2 = logo.copy()\n",
    "        logo2.shift(alto*UP)\n",
    "        self.add(logo2)\n",
    "        # guardar el estado de la escena, sirve para volver a este punto con Restore()\n",
    "        self.camera.frame.save_state()\n",
    "        # animo la cámara y la llevo arriba\n",
    "        self.play(self.camera.frame.animate.move_to(booleanos))\n",
    "        self.play(self.camera.frame.animate.move_to(alto * UP), booleanos.animate.move_to((alto + 1.5) * UP), run_time=(2))\n",
    "        auto_blanco = ImageMobject(r\"imagenes\\05_bool\\auto_blanco.png\").scale(0.35).move_to((alto + 0.5) * UP + 4.75 * RIGHT)\n",
    "        auto_rojo = ImageMobject(r\"imagenes\\05_bool\\auto_rojo.png\").scale(0.35).move_to((alto) * UP + 4.75 * RIGHT)\n",
    "        rectangulo1 = Rectangle(width=3, height=2, color=\"#24043d\", fill_opacity=1).move_to(auto_blanco)\n",
    "        rectangulo2 = rectangulo1.copy().move_to(auto_rojo)\n",
    "        \n",
    "        # Añadir el rectángulo a la escena\n",
    "        self.add(auto_rojo, auto_blanco)\n",
    "        self.add(rectangulo1, rectangulo2)\n",
    "        self.wait(3)\n",
    "        self.play(rectangulo1.animate.shift(3*RIGHT))\n",
    "        self.wait(3)"
   ]
  },
  {
   "cell_type": "code",
   "execution_count": null,
   "id": "86e2ddc0-98fa-4373-9013-5a6600513797",
   "metadata": {},
   "outputs": [],
   "source": []
  }
 ],
 "metadata": {
  "kernelspec": {
   "display_name": "Python 3 (ipykernel)",
   "language": "python",
   "name": "python3"
  },
  "language_info": {
   "codemirror_mode": {
    "name": "ipython",
    "version": 3
   },
   "file_extension": ".py",
   "mimetype": "text/x-python",
   "name": "python",
   "nbconvert_exporter": "python",
   "pygments_lexer": "ipython3",
   "version": "3.11.8"
  }
 },
 "nbformat": 4,
 "nbformat_minor": 5
}
