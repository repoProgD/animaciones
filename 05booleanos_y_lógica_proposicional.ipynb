{
 "cells": [
  {
   "cell_type": "code",
   "execution_count": 2,
   "id": "18f3673d-ed1f-4015-8614-ef6e16b42a15",
   "metadata": {},
   "outputs": [
    {
     "data": {
      "text/html": [
       "<pre style=\"white-space:pre;overflow-x:auto;line-height:normal;font-family:Menlo,'DejaVu Sans Mono',consolas,'Courier New',monospace\">Manim Community <span style=\"color: #008000; text-decoration-color: #008000\">v0.18.0</span>\n",
       "\n",
       "</pre>\n"
      ],
      "text/plain": [
       "Manim Community \u001b[32mv0.\u001b[0m\u001b[32m18.0\u001b[0m\n",
       "\n"
      ]
     },
     "metadata": {},
     "output_type": "display_data"
    }
   ],
   "source": [
    "from manim import *"
   ]
  },
  {
   "cell_type": "code",
   "execution_count": 3,
   "id": "f72e4140-f863-40e6-8b40-352a21998eb7",
   "metadata": {},
   "outputs": [],
   "source": [
    "config.media_width = \"75%\"\n",
    "config.verbosity = \"WARNING\"\n",
    "config.background_color = \"#24043d\""
   ]
  },
  {
   "cell_type": "code",
   "execution_count": 4,
   "id": "cefd3778-7326-438b-8b04-67a2f3b97368",
   "metadata": {},
   "outputs": [],
   "source": [
    "import cuadro_datos as cd\n",
    "import herramientas as h"
   ]
  },
  {
   "cell_type": "code",
   "execution_count": 14,
   "id": "b11af0dc-20f8-47c4-bfa4-9c32081b8482",
   "metadata": {
    "scrolled": true
   },
   "outputs": [
    {
     "name": "stderr",
     "output_type": "stream",
     "text": [
      "                                                                                                                       \r"
     ]
    },
    {
     "data": {
      "text/html": [
       "<video src=\"media\\jupyter\\Booleanos@2024-03-26@09-08-52.mp4\" controls autoplay loop style=\"max-width: 75%;\"  >\n",
       "      Your browser does not support the <code>video</code> element.\n",
       "    </video>"
      ],
      "text/plain": [
       "<IPython.core.display.Video object>"
      ]
     },
     "metadata": {},
     "output_type": "display_data"
    }
   ],
   "source": [
    "%%manim -ql Booleanos\n",
    "class Booleanos(MovingCameraScene):\n",
    "    \n",
    "    def construct(self):\n",
    "        # Obtener el tamaño de la pantalla\n",
    "        ancho = self.camera.frame_width\n",
    "        alto = self.camera.frame_height\n",
    "\n",
    "        # Añadir logo\n",
    "        logo = h.Logo()\n",
    "        self.add(logo)                  \n",
    "        cuadro = cd.construir_cuadro(self)\n",
    "        booleanos = h.crear_rectangulo(1.75, 0.5, \"#AC1DB8\", 0.85, \"Booleanos\").next_to(UP * 1.5 + LEFT * 3.75)\n",
    "        # añado grilla\n",
    "        grilla = h.GrillaRegla().shift(UP * alto)\n",
    "        self.add(grilla)\n",
    "        logo2 = logo.copy()\n",
    "        logo2.shift(alto*UP)\n",
    "        self.add(logo2)\n",
    "        # guardar el estado de la escena, sirve para volver a este punto con Restore()\n",
    "        self.camera.frame.save_state()\n",
    "        # animo la cámara y la llevo arriba\n",
    "        self.play(self.camera.frame.animate.move_to(booleanos))\n",
    "        self.play(self.camera.frame.animate.move_to(alto * UP), booleanos.animate.move_to((alto + 1.5) * UP), run_time=(2))\n",
    "        auto_blanco = ImageMobject(r\"imagenes\\05_bool\\auto_blanco.png\").scale(0.35).move_to((alto + 0.5) * UP + 4.75 * RIGHT)\n",
    "        auto_rojo = ImageMobject(r\"imagenes\\05_bool\\auto_rojo.png\").scale(0.35).move_to((alto) * UP + 4.75 * RIGHT)\n",
    "        rectangulo1 = Rectangle(width=3, height=2, color=\"#24043d\", fill_opacity=1).move_to(auto_blanco)\n",
    "        rectangulo2 = rectangulo1.copy().move_to(auto_rojo)\n",
    "        \n",
    "        # Añadir el rectángulo a la escena\n",
    "        self.add(auto_rojo, auto_blanco)\n",
    "        self.add(rectangulo1, rectangulo2)\n",
    "        self.wait(3)\n",
    "        self.play(rectangulo1.animate.shift(3*RIGHT))\n",
    "        self.wait(3)"
   ]
  },
  {
   "cell_type": "code",
   "execution_count": null,
   "id": "86e2ddc0-98fa-4373-9013-5a6600513797",
   "metadata": {},
   "outputs": [],
   "source": []
  }
 ],
 "metadata": {
  "kernelspec": {
   "display_name": "Python 3 (ipykernel)",
   "language": "python",
   "name": "python3"
  },
  "language_info": {
   "codemirror_mode": {
    "name": "ipython",
    "version": 3
   },
   "file_extension": ".py",
   "mimetype": "text/x-python",
   "name": "python",
   "nbconvert_exporter": "python",
   "pygments_lexer": "ipython3",
   "version": "3.11.8"
  }
 },
 "nbformat": 4,
 "nbformat_minor": 5
}
