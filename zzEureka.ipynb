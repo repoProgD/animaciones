{
 "cells": [
  {
   "cell_type": "code",
   "execution_count": 1,
   "id": "cefa64b1-fb7b-4fa6-a6c4-609db45ada02",
   "metadata": {},
   "outputs": [
    {
     "data": {
      "text/html": [
       "<pre style=\"white-space:pre;overflow-x:auto;line-height:normal;font-family:Menlo,'DejaVu Sans Mono',consolas,'Courier New',monospace\">Manim Community <span style=\"color: #008000; text-decoration-color: #008000\">v0.18.0</span>\n",
       "\n",
       "</pre>\n"
      ],
      "text/plain": [
       "Manim Community \u001b[32mv0.\u001b[0m\u001b[32m18.0\u001b[0m\n",
       "\n"
      ]
     },
     "metadata": {},
     "output_type": "display_data"
    }
   ],
   "source": [
    "from manim import *"
   ]
  },
  {
   "cell_type": "code",
   "execution_count": 2,
   "id": "cfa7ddea-c439-46c4-84aa-53d1e88850cc",
   "metadata": {},
   "outputs": [],
   "source": [
    "config.media_width = \"75%\"\n",
    "config.verbosity = \"WARNING\"\n",
    "config.background_color = \"#24043d\""
   ]
  },
  {
   "cell_type": "code",
   "execution_count": 3,
   "id": "3a0735e7-2eea-42ea-80ba-d5d23ccc5127",
   "metadata": {},
   "outputs": [],
   "source": [
    "import herramientas as h"
   ]
  },
  {
   "cell_type": "code",
   "execution_count": null,
   "id": "e5391958-fa17-4f12-9318-ef250fa27a6c",
   "metadata": {},
   "outputs": [],
   "source": []
  },
  {
   "cell_type": "code",
   "execution_count": null,
   "id": "cfcef4f7-53e8-4845-a3a3-19db26f981b8",
   "metadata": {},
   "outputs": [],
   "source": []
  },
  {
   "cell_type": "code",
   "execution_count": 53,
   "id": "20bfaf3a-5cdc-4374-972f-313841f645f3",
   "metadata": {},
   "outputs": [
    {
     "name": "stderr",
     "output_type": "stream",
     "text": [
      "                                                                                                                       \r"
     ]
    },
    {
     "data": {
      "text/html": [
       "<video src=\"media\\jupyter\\Eureka@2024-03-27@07-57-49.mp4\" controls autoplay loop style=\"max-width: 75%;\"  >\n",
       "      Your browser does not support the <code>video</code> element.\n",
       "    </video>"
      ],
      "text/plain": [
       "<IPython.core.display.Video object>"
      ]
     },
     "metadata": {},
     "output_type": "display_data"
    }
   ],
   "source": [
    "%%manim -ql Eureka\n",
    "class Eureka(Scene):\n",
    "    def construct(self):\n",
    "    # Crear el código\n",
    "        def crear_snippet(texto, ancho, lenguaje=\"Python\", fuente=\"Monospace\"):\n",
    "            codigo = Code(code = texto, tab_width = ancho, background = \"window\",\n",
    "                             language = lenguaje, font=fuente)\n",
    "            self.play(Create(codigo[0]))\n",
    "            for i in range(len(codigo[2])):\n",
    "                chars_por_seg = len(codigo[2][i])/5.25 \n",
    "                self.play(FadeIn(codigo[1][i]))\n",
    "                self.play(AddTextLetterByLetter(codigo[2][i]), run_time=chars_por_seg, rate_func=linear)\n",
    "            self.wait(3)\n",
    "            \n",
    "        mi_texto = \"\"\" # obtener el largo de la cadena\n",
    "cadena = 'Hola mundo!'\n",
    "print(len(cadena))\"\"\"\n",
    "        mi_codigo = crear_snippet(mi_texto, 3)\n"
   ]
  },
  {
   "cell_type": "code",
   "execution_count": 17,
   "id": "87e006e1-a4ad-4bde-bfb2-e32e503c1f26",
   "metadata": {},
   "outputs": [
    {
     "data": {
      "text/plain": [
       "23"
      ]
     },
     "execution_count": 17,
     "metadata": {},
     "output_type": "execute_result"
    }
   ],
   "source": [
    "%%manim -ql Eureka\n",
    "class Eureka(Scene):\n",
    "    def construct(self):\n",
    "    # Crear el código\n",
    "        codigo5 = '''\n",
    "def factorial(5):\n",
    "    if 5 == 0 or 5 == 1:\n",
    "        return 1\n",
    "    else:\n",
    "        return 5 * factorial(4)\n",
    "'''\n",
    "\n",
    "        codigo = Code(code = codigo5, tab_width =3, background = \"window\",\n",
    "                             language = \"Python\", font=\"Monospace\").scale(1.3).move_to(2*LEFT)\n",
    "        self.play()"
   ]
  },
  {
   "cell_type": "code",
   "execution_count": 19,
   "id": "dffd1239-9305-4ef4-9a6e-c8537b5e4404",
   "metadata": {},
   "outputs": [
    {
     "data": {
      "text/plain": [
       "20"
      ]
     },
     "execution_count": 19,
     "metadata": {},
     "output_type": "execute_result"
    }
   ],
   "source": [
    "len(\"def factorial(5):123\")"
   ]
  },
  {
   "cell_type": "code",
   "execution_count": null,
   "id": "258a7eed-6e52-4673-92e8-94dc262ef273",
   "metadata": {},
   "outputs": [],
   "source": [
    "5  * seg"
   ]
  },
  {
   "cell_type": "code",
   "execution_count": null,
   "id": "068f7582-a59b-4625-b611-c301069e4773",
   "metadata": {},
   "outputs": [],
   "source": []
  }
 ],
 "metadata": {
  "kernelspec": {
   "display_name": "Python 3 (ipykernel)",
   "language": "python",
   "name": "python3"
  },
  "language_info": {
   "codemirror_mode": {
    "name": "ipython",
    "version": 3
   },
   "file_extension": ".py",
   "mimetype": "text/x-python",
   "name": "python",
   "nbconvert_exporter": "python",
   "pygments_lexer": "ipython3",
   "version": "3.11.8"
  }
 },
 "nbformat": 4,
 "nbformat_minor": 5
}
