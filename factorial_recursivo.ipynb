{
 "cells": [
  {
   "cell_type": "code",
   "execution_count": 2,
   "id": "ffe1588d-767b-4a8f-8f3e-74e08958e427",
   "metadata": {},
   "outputs": [
    {
     "data": {
      "text/html": [
       "<pre style=\"white-space:pre;overflow-x:auto;line-height:normal;font-family:Menlo,'DejaVu Sans Mono',consolas,'Courier New',monospace\"><span style=\"color: #7fbfbf; text-decoration-color: #7fbfbf\">[02/26/24 06:39:54] </span><span style=\"color: #800000; text-decoration-color: #800000\">WARNING </span> Missing Plugins: <span style=\"font-weight: bold\">{</span><span style=\"color: #008000; text-decoration-color: #008000\">''</span><span style=\"font-weight: bold\">}</span>                                                   <a href=\"file://C:\\Users\\Diego\\anaconda3\\envs\\animaciones\\Lib\\site-packages\\manim\\plugins\\__init__.py\" target=\"_blank\"><span style=\"color: #7f7f7f; text-decoration-color: #7f7f7f\">__init__.py</span></a><span style=\"color: #7f7f7f; text-decoration-color: #7f7f7f\">:</span><a href=\"file://C:\\Users\\Diego\\anaconda3\\envs\\animaciones\\Lib\\site-packages\\manim\\plugins\\__init__.py#17\" target=\"_blank\"><span style=\"color: #7f7f7f; text-decoration-color: #7f7f7f\">17</span></a>\n",
       "</pre>\n"
      ],
      "text/plain": [
       "\u001b[2;36m[02/26/24 06:39:54]\u001b[0m\u001b[2;36m \u001b[0m\u001b[31mWARNING \u001b[0m Missing Plugins: \u001b[1m{\u001b[0m\u001b[32m''\u001b[0m\u001b[1m}\u001b[0m                                                   \u001b]8;id=433978;file://C:\\Users\\Diego\\anaconda3\\envs\\animaciones\\Lib\\site-packages\\manim\\plugins\\__init__.py\u001b\\\u001b[2m__init__.py\u001b[0m\u001b]8;;\u001b\\\u001b[2m:\u001b[0m\u001b]8;id=28831;file://C:\\Users\\Diego\\anaconda3\\envs\\animaciones\\Lib\\site-packages\\manim\\plugins\\__init__.py#17\u001b\\\u001b[2m17\u001b[0m\u001b]8;;\u001b\\\n"
      ]
     },
     "metadata": {},
     "output_type": "display_data"
    }
   ],
   "source": [
    "from manim import *"
   ]
  },
  {
   "cell_type": "code",
   "execution_count": 3,
   "id": "9fe31093-80cc-4b91-b344-eb08edea682c",
   "metadata": {},
   "outputs": [],
   "source": [
    "config.media_width = \"75%\"\n",
    "config.verbosity = \"WARNING\""
   ]
  },
  {
   "cell_type": "code",
   "execution_count": 27,
   "id": "fa76b8fa-fb53-43a9-8b24-8068cd4f1b66",
   "metadata": {},
   "outputs": [
    {
     "data": {
      "text/html": [
       "<pre style=\"white-space:pre;overflow-x:auto;line-height:normal;font-family:Menlo,'DejaVu Sans Mono',consolas,'Courier New',monospace\">Manim Community <span style=\"color: #008000; text-decoration-color: #008000\">v0.18.0</span>\n",
       "\n",
       "</pre>\n"
      ],
      "text/plain": [
       "Manim Community \u001b[32mv0.\u001b[0m\u001b[32m18.0\u001b[0m\n",
       "\n"
      ]
     },
     "metadata": {},
     "output_type": "display_data"
    },
    {
     "name": "stderr",
     "output_type": "stream",
     "text": [
      "                                                                                                                                                                            \r"
     ]
    },
    {
     "data": {
      "text/html": [
       "<video src=\"media\\jupyter\\FactorialRecursion@2024-02-26@10-42-43.mp4\" controls autoplay loop style=\"max-width: 75%;\"  >\n",
       "      Your browser does not support the <code>video</code> element.\n",
       "    </video>"
      ],
      "text/plain": [
       "<IPython.core.display.Video object>"
      ]
     },
     "metadata": {},
     "output_type": "display_data"
    }
   ],
   "source": [
    "%%manim -ql FactorialRecursion\n",
    "config.background_color = \"#24043d\"\n",
    "\n",
    "from manim import *\n",
    "\n",
    "class FactorialRecursion(Scene):\n",
    "    def construct(self):\n",
    "        # Título de la escena\n",
    "        title = Text(\"Factorial mediante recursividad\").scale(1.2)\n",
    "        self.play(Write(title))\n",
    "\n",
    "        # Línea de separación\n",
    "        separator = Line(LEFT, RIGHT).scale(5).next_to(title, DOWN)\n",
    "        self.play(Create(separator))\n",
    "\n",
    "        # Descripción de la función factorial\n",
    "        factorial_description = Text(\n",
    "            \"La función factorial (n!) calcula el producto\\n de todos los enteros positivos desde 1 hasta n.\"\n",
    "        ).scale(0.7)\n",
    "        factorial_description.next_to(separator, DOWN)\n",
    "        self.play(Write(factorial_description))\n",
    "        self.wait(3)\n",
    "        \n",
    "        # Ejemplo de función factorial\n",
    "        example_text = Text(\"Ejemplo: 5! = 5 × 4 × 3 × 2 × 1 = 120\").scale(0.8)\n",
    "        example_text.next_to(factorial_description, DOWN)\n",
    "        self.play(Write(example_text))\n",
    "        \n",
    "        self.wait(3)\n"
   ]
  },
  {
   "cell_type": "code",
   "execution_count": null,
   "id": "d3e49f01-90f4-4ec9-a2c5-c7783448b93c",
   "metadata": {},
   "outputs": [],
   "source": [
    "%%manim -ql FactorialRecursion\n",
    "\n",
    "class FactorialRecursion(Scene):\n",
    "    def construct(self):"
   ]
  },
  {
   "cell_type": "code",
   "execution_count": null,
   "id": "71a8288a-e26b-495d-921c-c6e7178c42c8",
   "metadata": {},
   "outputs": [],
   "source": []
  },
  {
   "cell_type": "markdown",
   "id": "09547eef-c13a-4172-97d6-14be763586e5",
   "metadata": {},
   "source": [
    "Hay varias herramientas que puedes utilizar para convertir texto en formato plano a un PDF bien formateado. Aquí te presento algunas opciones:\n",
    "\n",
    "1. **Microsoft Word**: Puedes copiar y pegar tu texto en formato plano en un documento de Word y luego ajustar el formato según tus preferencias. Una vez que estés satisfecho con el formato, puedes guardar el documento como un archivo PDF.\n",
    "\n",
    "2. **Google Docs**: Similar a Microsoft Word, Google Docs te permite crear documentos de texto y luego exportarlos como archivos PDF. Puedes copiar y pegar tu texto en un documento de Google Docs y luego ajustar el formato según sea necesario.\n",
    "\n",
    "3. **Adobe Acrobat**: Adobe Acrobat es una herramienta de creación y edición de archivos PDF. Puedes importar tu texto en formato plano y luego utilizar las herramientas de edición de Acrobat para formatearlo como desees antes de guardar el documento como un archivo PDF.\n",
    "\n",
    "4. **LibreOffice**: LibreOffice Writer es una alternativa gratuita a Microsoft Word que también te permite crear documentos de texto y exportarlos como archivos PDF. Puedes copiar y pegar tu texto en LibreOffice Writer y luego ajustar el formato antes de guardar el documento como PDF.\n",
    "\n",
    "5. **Online PDF Converters**: Hay varios servicios en línea que te permiten convertir archivos de texto en PDF de forma gratuita. Algunos ejemplos incluyen SmallPDF, PDF24, o Online2PDF. Simplemente sube tu archivo de texto, realiza los ajustes de formato necesarios y descarga el PDF resultante.\n",
    "\n",
    "Cualquiera de estas herramientas debería permitirte convertir tu texto en formato plano a un PDF bien formateado, dependiendo de tus preferencias y requisitos específicos."
   ]
  },
  {
   "cell_type": "code",
   "execution_count": null,
   "id": "ae18c46c-f813-417a-ae1f-7fea98225e9a",
   "metadata": {},
   "outputs": [],
   "source": []
  },
  {
   "cell_type": "code",
   "execution_count": null,
   "id": "30e4e3b1-bf6c-4905-b56b-34e072fcf430",
   "metadata": {},
   "outputs": [],
   "source": []
  },
  {
   "cell_type": "markdown",
   "id": "24772483-1192-4be0-b199-d1aa45d46298",
   "metadata": {},
   "source": [
    "Una función es una relación entre un conjunto de entradas, llamado dominio, y un conjunto de salidas, llamado codominio, de tal manera que a cada elemento del dominio le corresponde exactamente un elemento del codominio. "
   ]
  },
  {
   "cell_type": "markdown",
   "id": "192fc69f-9f77-4744-b159-8d8ce34c8713",
   "metadata": {},
   "source": [
    "WHAT???"
   ]
  },
  {
   "cell_type": "markdown",
   "id": "786559be-4f8b-4255-be7b-b76d7597d8f6",
   "metadata": {},
   "source": [
    "En términos más simples, una función asigna un único resultado a cada posible valor de entrada. Por ejemplo, considera la función \\(f(x) = 2x\\). Para cada valor que le des a \\(x\\), la función \\(f\\) te dará un único valor, que es el doble de \\(x\\). Por ejemplo, si \\(x = 3\\), entonces \\(f(3) = 2 \\times 3 = 6\\).\n",
    "\n",
    "Las funciones son una herramienta fundamental en matemáticas y se utilizan para describir relaciones entre cantidades, modelar fenómenos en la naturaleza, resolver problemas y mucho más. Pueden ser representadas mediante fórmulas, gráficos, tablas de valores o descripciones verbales. Las funciones pueden ser simples, como la función lineal que mencionamos, o pueden ser más complejas y estar compuestas de varias partes."
   ]
  },
  {
   "cell_type": "markdown",
   "id": "5ecf316b-8fa1-46fb-abd0-457351d851d9",
   "metadata": {},
   "source": [
    "Una función puede definirse de diversas maneras. Debajo, mostramos algunas formas comunes de definir funciones que no involucran la recursividad:\n",
    "\n",
    "1. **Definición explícita**: En este caso, se define la función directamente en términos de sus variables de entrada sin hacer referencia a sí misma. Por ejemplo, la función lineal (f(x) = ax + b) se define explícitamente en términos de sus parámetros (a) y (b), así como de la variable de entrada (x).\n",
    "\n",
    "2. **Definición por casos**: Algunas funciones se definen de manera explícita para diferentes rangos de valores de entrada. Por ejemplo, la función valor absoluto (|x|) se define de manera diferente para (x > 0) y (x < 0).\n",
    "\n",
    "3. **Definición mediante ecuaciones o relaciones**: Algunas funciones se definen mediante ecuaciones o relaciones matemáticas. Por ejemplo, la función exponencial (e^x) se define a través de la serie de Taylor o mediante la ecuación diferencial (frac{d}{dx} e^x = e^x), sin ninguna referencia a (e^x) directamente.\n",
    "\n",
    "4. **Definición implícita**: Algunas funciones pueden definirse de manera implícita mediante una ecuación que no expresa explícitamente la función en términos de su variable de entrada. Por ejemplo, la ecuación (x^2 + y^2 = 1) define implícitamente la función círculo (f(x, y)) como los puntos ((x, y)) que satisfacen la ecuación.\n"
   ]
  },
  {
   "cell_type": "code",
   "execution_count": null,
   "id": "99ee4dea-4145-412b-bf46-d914bf4b0f45",
   "metadata": {},
   "outputs": [],
   "source": []
  },
  {
   "cell_type": "code",
   "execution_count": null,
   "id": "ee79ca09-992c-4da7-8431-9661bdd84c4d",
   "metadata": {},
   "outputs": [],
   "source": []
  },
  {
   "cell_type": "code",
   "execution_count": 28,
   "id": "6c1228fd-7d3f-411c-b5c9-7057cc0c3236",
   "metadata": {},
   "outputs": [
    {
     "data": {
      "text/html": [
       "<pre style=\"white-space:pre;overflow-x:auto;line-height:normal;font-family:Menlo,'DejaVu Sans Mono',consolas,'Courier New',monospace\">Manim Community <span style=\"color: #008000; text-decoration-color: #008000\">v0.18.0</span>\n",
       "\n",
       "</pre>\n"
      ],
      "text/plain": [
       "Manim Community \u001b[32mv0.\u001b[0m\u001b[32m18.0\u001b[0m\n",
       "\n"
      ]
     },
     "metadata": {},
     "output_type": "display_data"
    },
    {
     "name": "stderr",
     "output_type": "stream",
     "text": [
      "                                                                                                              \r"
     ]
    },
    {
     "data": {
      "text/html": [
       "<video src=\"media\\jupyter\\Conjuntos@2024-02-26@10-43-23.mp4\" controls autoplay loop style=\"max-width: 75%;\"  >\n",
       "      Your browser does not support the <code>video</code> element.\n",
       "    </video>"
      ],
      "text/plain": [
       "<IPython.core.display.Video object>"
      ]
     },
     "metadata": {},
     "output_type": "display_data"
    }
   ],
   "source": [
    "%%manim -ql Conjuntos\n",
    "config.background_color = \"#24043d\"\n",
    "\n",
    "class Conjuntos(Scene):\n",
    "    def construct(self):\n",
    "        \n",
    "        # Crear elipse A\n",
    "        elipse_x = Ellipse(width=2, height=4).set_color(GREEN).set_opacity(0.3)\n",
    "        elipse_x.move_to(3 * LEFT)\n",
    "        label_x = Text(\"X\").next_to(elipse_x.get_corner(UL), UP+LEFT)\n",
    "\n",
    "        # Crear elipse B\n",
    "        elipse_y = Ellipse(width=2, height=4).set_color(BLUE).set_opacity(0.3)\n",
    "        elipse_y.move_to(3 * RIGHT)\n",
    "        label_y = Text(\"Y\").next_to(elipse_y.get_corner(UR), UP+RIGHT)\n",
    "\n",
    "        # Números en conjunto A\n",
    "        num_x_high = Text(\"1\").next_to(elipse_x.get_center(), UP * 3)\n",
    "        num_x_center = Text(\"2\").next_to(elipse_x.get_center(), 0)\n",
    "        num_x_low = Text(\"3\").next_to(elipse_x.get_center(), DOWN * 3)\n",
    "\n",
    "        # Números en conjunto B (el doble que en A)\n",
    "        num_y_high = Text(\"2\").next_to(elipse_y.get_center(), UP * 3)\n",
    "        num_y_center = Text(\"4\").next_to(elipse_y.get_center(), 0)\n",
    "        num_y_low = Text(\"6\").next_to(elipse_y.get_center(), DOWN * 3)\n",
    "        \n",
    "        # Agregar elementos a la escena\n",
    "        self.add(elipse_x, label_x, num_x_high, num_x_center, num_x_low)\n",
    "        self.add(elipse_y, label_y, num_y_high, num_y_center, num_y_low)\n",
    "        \n",
    "\n",
    "        # Flechas curvas\n",
    "        arrow_high = CurvedArrow(num_x_high.get_right() + SMALL_BUFF * RIGHT, num_y_high.get_left() + SMALL_BUFF * LEFT, angle=-TAU/6)\n",
    "        arrow_center = Arrow(num_x_center, num_y_center)\n",
    "        arrow_low = CurvedArrow(num_x_low.get_right() + SMALL_BUFF * RIGHT, num_y_low.get_left() + SMALL_BUFF * LEFT, angle=TAU/6)\n",
    "\n",
    "\n",
    "        self.play(\n",
    "            Create(arrow_high),\n",
    "            Create(arrow_center),\n",
    "            Create(arrow_low)\n",
    "        )\n",
    "\n",
    "        arrow_top = CurvedArrow(elipse_x.get_top(), elipse_y.get_top(), angle= -TAU/6)\n",
    "        self.play(Create(arrow_top))\n",
    "        \n",
    "        # Obtener el punto medio de la flecha\n",
    "        midpoint = arrow_top.get_center()\n",
    "\n",
    "        shifted_midpoint = midpoint + UP\n",
    "\n",
    "        # Agregar un texto en el centro de la flecha\n",
    "        label = Text(\"2 * X\").move_to(shifted_midpoint)\n",
    "        \n",
    "        # Mostrar la flecha y el texto en la escena\n",
    "        self.play(Create(arrow_top), Write(label))\n",
    "\n",
    "        casi_todo = VGroup(elipse_x, label_x, elipse_y, num_x_high, num_x_center, num_x_low,\n",
    "                          num_y_high, num_y_center, num_y_low, arrow_high, arrow_center, arrow_low, arrow_top)\n",
    "\n",
    "        self.play(casi_todo.animate.shift(LEFT * 12), label_y.animate.shift(LEFT * 6.3))\n",
    "\n",
    "        igual = Text(\" = \").next_to(label_y.get_right())\n",
    "        self.play(Create(igual), label.animate.shift(DOWN * 0.9))\n",
    "\n",
    "        f_x = MathTex(r\"f(x) = 2 * x\").scale(1.15).move_to(UP * 1.3)\n",
    "        f_x.shift(LEFT *  0.55)\n",
    "        self.play(Create(f_x))\n",
    "        \n",
    "        self.wait()\n"
   ]
  },
  {
   "cell_type": "code",
   "execution_count": null,
   "id": "0d79d0c9-7ee5-49eb-9c29-99075fb1c06f",
   "metadata": {},
   "outputs": [],
   "source": [
    "Entonces si seguimos el orden de cada flecha vemos una relación, cuál es esa relación ? \n",
    "Se puede ver que los números del conjunto B son el doble de los números del conjunto A\n",
    "ahora podemos decir que cualquier número que esté en A si lo multiplicamos por 2 nos va a dar el valor del número con el que se empareja en B"
   ]
  },
  {
   "cell_type": "code",
   "execution_count": null,
   "id": "a2adeeba-bb8f-4064-a1fc-4ff7ee8b8b2a",
   "metadata": {},
   "outputs": [],
   "source": [
    "Pueden ver a la función como una máquina que tiene la capacidad de transformar un número en otro."
   ]
  },
  {
   "cell_type": "code",
   "execution_count": null,
   "id": "8714c087-1ce6-4ae7-9561-ec762f145dc8",
   "metadata": {},
   "outputs": [],
   "source": []
  },
  {
   "cell_type": "code",
   "execution_count": 29,
   "id": "34db4e34-b185-4c50-a721-ca8f124ced8f",
   "metadata": {},
   "outputs": [
    {
     "data": {
      "text/html": [
       "<pre style=\"white-space:pre;overflow-x:auto;line-height:normal;font-family:Menlo,'DejaVu Sans Mono',consolas,'Courier New',monospace\">Manim Community <span style=\"color: #008000; text-decoration-color: #008000\">v0.18.0</span>\n",
       "\n",
       "</pre>\n"
      ],
      "text/plain": [
       "Manim Community \u001b[32mv0.\u001b[0m\u001b[32m18.0\u001b[0m\n",
       "\n"
      ]
     },
     "metadata": {},
     "output_type": "display_data"
    },
    {
     "name": "stderr",
     "output_type": "stream",
     "text": [
      "                                                                                               \r"
     ]
    },
    {
     "data": {
      "text/html": [
       "<video src=\"media\\jupyter\\Tabla@2024-02-26@10-44-09.mp4\" controls autoplay loop style=\"max-width: 75%;\"  >\n",
       "      Your browser does not support the <code>video</code> element.\n",
       "    </video>"
      ],
      "text/plain": [
       "<IPython.core.display.Video object>"
      ]
     },
     "metadata": {},
     "output_type": "display_data"
    }
   ],
   "source": [
    "%%manim -ql Tabla\n",
    "config.background_color = \"#24043d\"\n",
    "\n",
    "class Tabla(Scene):\n",
    "    def construct(self):\n",
    "        table = Table(\n",
    "            [[\"La función se define\\ndirectamente con una\\nexpresión matemática.\", \"\"],\n",
    "            [\"La función no se define\\ndirectamente con una\\nexpresión matemática.\",\"\"],\n",
    "            [\"La función se define\\ncomo una suma infinita\\nde términos\", \"\"],\n",
    "            [\"La función se define\\nen términos de sí misma,\\nutilizando casos base y\\npasos de recursión\",\"\",]],\n",
    "            row_labels=[Text(\"Funciones\\nexplícitas\"), Text(\"Funciones\\nimplícitas\"),\n",
    "                       Text(\"Series o\\nsumatorias\"), Text(\"Funciones\\nrecursivas\")],\n",
    "            col_labels=[Text(\"Explicación\"), Text(\"Definición\")]\n",
    "            \n",
    "        ).scale(0.5)\n",
    "        table.move_to(LEFT * 1)\n",
    "        self.add(table)\n",
    "        prima = MathTex(r\"f(x) = x^2 + 3x - 5\").scale(0.8)\n",
    "        prima.next_to(table[0][3].get_right())\n",
    "        prima.shift(RIGHT * 0.35)\n",
    "        secu = MathTex(r\"r^2 = x^2 + y^2\").scale(0.8)\n",
    "        secu.next_to(table[0][6].get_right())\n",
    "        secu.shift(RIGHT * 0.45)\n",
    "        terc =  MathTex(r\"e^x = 1 + x + \\frac{x^2}{2!} + \\frac{x^3}{3!} + \\cdots\").scale(0.8)\n",
    "        terc.next_to(table[0][9].get_right())\n",
    "        terc.shift(RIGHT * 0.3)\n",
    "        cuart = MathTex(r\"n! = \\begin{cases} 1, & \\text{si } n = 0 \\\\ n \\times (n-1)!, & \\text{si } n > 0 \\end{cases}\").scale(0.8)\n",
    "        cuart.next_to(table[0][12].get_right())\n",
    "        cuart.shift(RIGHT * 0.2)\n",
    "        \n",
    "        self.add(prima, secu, terc, cuart)\n",
    "        self.wait(5)\n",
    "        \n",
    "        grupo = VGroup(table, prima, secu, terc, cuart)\n",
    "        self.play(Uncreate(grupo))\n",
    "        self.wait(5)"
   ]
  },
  {
   "cell_type": "code",
   "execution_count": null,
   "id": "96a7d038-87db-4dde-826f-0c678534a6e0",
   "metadata": {},
   "outputs": [],
   "source": []
  },
  {
   "cell_type": "code",
   "execution_count": null,
   "id": "000c78b1-91f8-4de8-bcb7-f959d6a6a1c7",
   "metadata": {},
   "outputs": [],
   "source": []
  },
  {
   "cell_type": "code",
   "execution_count": null,
   "id": "f32408fb-4b9a-4167-9f1f-adcabc8f0ec1",
   "metadata": {},
   "outputs": [],
   "source": []
  },
  {
   "cell_type": "code",
   "execution_count": 26,
   "id": "a867e6f1-7ff9-4f8c-bea0-038ba0a4164f",
   "metadata": {},
   "outputs": [
    {
     "data": {
      "text/html": [
       "<pre style=\"white-space:pre;overflow-x:auto;line-height:normal;font-family:Menlo,'DejaVu Sans Mono',consolas,'Courier New',monospace\">Manim Community <span style=\"color: #008000; text-decoration-color: #008000\">v0.18.0</span>\n",
       "\n",
       "</pre>\n"
      ],
      "text/plain": [
       "Manim Community \u001b[32mv0.\u001b[0m\u001b[32m18.0\u001b[0m\n",
       "\n"
      ]
     },
     "metadata": {},
     "output_type": "display_data"
    },
    {
     "name": "stderr",
     "output_type": "stream",
     "text": [
      "                                                                                                                       \r"
     ]
    },
    {
     "data": {
      "text/html": [
       "<video src=\"media\\jupyter\\EjemploCodigo@2024-02-26@10-34-08.mp4\" controls autoplay loop style=\"max-width: 75%;\"  >\n",
       "      Your browser does not support the <code>video</code> element.\n",
       "    </video>"
      ],
      "text/plain": [
       "<IPython.core.display.Video object>"
      ]
     },
     "metadata": {},
     "output_type": "display_data"
    }
   ],
   "source": [
    "%%manim -ql EjemploCodigo\n",
    "config.background_color = \"#24043d\"\n",
    "\n",
    "class EjemploCodigo(Scene):\n",
    "    def construct(self):\n",
    "        codigo = '''\n",
    "def factorial(n):\n",
    "    if n == 0 or n == 1:\n",
    "        return 1\n",
    "    else:\n",
    "        return n * factorial(n-1)\n",
    "'''\n",
    "        rendered_code = Code(code = codigo, tab_width =3, background = \"window\",\n",
    "                             language = \"Python\", font=\"Monospace\").scale(0.8).move_to(3.5*LEFT + 2.5 * UP)\n",
    "        self.add(rendered_code)\n",
    "\n",
    "        texto = Tex(\"Supongamos $n = 5$\", font_size=36, color=WHITE).scale(1.2)\n",
    "        subrayado = Underline(texto)\n",
    "        grupo_texto = VGroup(texto, subrayado)\n",
    "\n",
    "        subrayado = Underline(texto)\n",
    "        grupo_texto = VGroup(texto, subrayado)\n",
    "\n",
    "        # Posicionar el texto\n",
    "        grupo_texto.move_to(UP * 3 + RIGHT * 3)\n",
    "\n",
    "        self.play(Write(grupo_texto))\n",
    "        self.wait(5)\n",
    "        \n",
    "        # creamos puntos de referencia para las flechas verdes\n",
    "        punto =  Dot().next_to(rendered_code.get_center() + UP * 0.39 + RIGHT * 0.20)\n",
    "        punto2 = Dot().next_to(rendered_code.get_center() + UP * 0.13 + RIGHT * 1.16)\n",
    "        punto3 = Dot().next_to(rendered_code.get_center() + DOWN * 0.13 + RIGHT * 0.05)\n",
    "        punto4 = Dot().next_to(rendered_code.get_center() + DOWN * 0.39 + LEFT * 1.24)\n",
    "        punto5 = Dot().next_to(rendered_code.get_center() + DOWN * 0.65 + RIGHT * 2.5)\n",
    "        # creamos el grupo y lo mandamos al fondo con z_index\n",
    "        puntos = VGroup(punto, punto2, punto3, punto4, punto5).set_z_index(-1)\n",
    "        self.add(puntos)\n",
    "        \n",
    "        flecha = Arrow(rendered_code.get_center()+ UP * 0.15 + RIGHT * 2, grupo_texto)\n",
    "        # Animar la aparición del texto y la flecha\n",
    "        pointer = Arrow(rendered_code.get_center() + UP * 0.39 + RIGHT * 2, punto, color = GREEN)\n",
    "        pointer2 = Arrow(rendered_code.get_center() + UP * 0.13 + RIGHT * 2.96, punto2, color = GREEN)\n",
    "        pointer3 = Arrow(rendered_code.get_center() + DOWN * 0.13 + RIGHT * 1.85, punto3, color = GREEN)\n",
    "        pointer4 = Arrow(rendered_code.get_center() + DOWN * 0.39 + RIGHT * 0.56, punto4, color = GREEN)\n",
    "        pointer5 = Arrow(rendered_code.get_center() + DOWN * 0.65 + RIGHT * 4.3, punto5, color = GREEN)\n",
    "        self.add(pointer)\n",
    "        self.wait(2)\n",
    "        self.remove(pointer)\n",
    "        self.add(pointer2)\n",
    "        self.wait(2)\n",
    "        self.remove(pointer2)\n",
    "        #self.add(pointer3)\n",
    "        #self.wait(2)\n",
    "        #self.remove(pointer3)\n",
    "        self.add(pointer4)\n",
    "        self.wait(2)\n",
    "        self.remove(pointer4)\n",
    "        self.add(pointer5)\n",
    "        self.wait(2)\n",
    "\n",
    "        \n",
    "        codigo5 = '''\n",
    "def factorial(5):\n",
    "    if 5 == 0 or 5 == 1:\n",
    "        return 1\n",
    "    else:\n",
    "        return 5 * factorial(4)\n",
    "'''\n",
    "\n",
    "        rendered_code5 = Code(code = codigo5, tab_width =3, background = \"window\",\n",
    "                             language = \"Python\", font=\"Monospace\").scale(0.8).move_to(3.5*LEFT + 2.5 * UP)\n",
    "        self.add(rendered_code5).bring_to_front()\n",
    "        self.play(rendered_code5.animate.shift( DOWN * 2.5 ))\n",
    "        self.wait(3)\n",
    "\n",
    "        codigo4 = '''\n",
    "def factorial(4):\n",
    "    if 4 == 0 or 4 == 1:\n",
    "        return 1\n",
    "    else:\n",
    "        return 4 * factorial(3)\n",
    "''' \n",
    "\n",
    "        rendered_code4 = Code(code = codigo4, tab_width =3, background = \"window\",\n",
    "                             language = \"Python\", font=\"Monospace\").scale(0.8).move_to(3.5*LEFT + 2.5 * UP)\n",
    "        self.add(rendered_code4).bring_to_front()\n",
    "        self.play(rendered_code4.animate.shift( DOWN * 2.7 ))\n",
    "        self.wait(3)\n",
    "\n",
    "        codigo3 = '''\n",
    "def factorial(3):\n",
    "    if 3 == 0 or 3 == 1:\n",
    "        return 1\n",
    "    else:\n",
    "        return 3 * factorial(2)\n",
    "'''\n",
    "        rendered_code3 = Code(code = codigo3, tab_width =3, background = \"window\",\n",
    "                             language = \"Python\", font=\"Monospace\").scale(0.8).move_to(3.5*LEFT + 2.5 * UP)\n",
    "        self.add(rendered_code3)\n",
    "        self.play(rendered_code3.animate.shift( DOWN * 2.9 ))\n",
    "        self.wait(3)\n",
    "        \n",
    "        codigo2 = '''\n",
    "def factorial(2):\n",
    "    if 2 == 0 or 2 == 1:\n",
    "        return 1\n",
    "    else:\n",
    "        return 2 * factorial(1)\n",
    "'''\n",
    "\n",
    "        rendered_code2 = Code(code = codigo2, tab_width =3, background = \"window\",\n",
    "                             language = \"Python\", font=\"Monospace\").scale(0.8).move_to(3.5*LEFT + 2.5 * UP)\n",
    "        self.add(rendered_code2)\n",
    "        self.play(rendered_code2.animate.shift( DOWN * 3.1 ))\n",
    "\n",
    "        self.remove(pointer5)\n",
    "        self.wait(2)\n",
    "        self.add(pointer)\n",
    "        self.wait(2)\n",
    "        self.remove(pointer)\n",
    "        self.add(pointer2)\n",
    "        self.wait(2)\n",
    "        self.remove(pointer2)\n",
    "        self.add(pointer3).bring_to_front()\n",
    "        self.wait(3)\n",
    "\n",
    "        codigo1 = '''\n",
    "def factorial(1):\n",
    "    if 1 == 0 or 1 == 1:\n",
    "        return 1\n",
    "    else:\n",
    "        return _ * factorial(_)\n",
    "'''\n",
    "\n",
    "        rendered_code1 = Code(code = codigo1, tab_width =3, background = \"window\",\n",
    "                             language = \"Python\", font=\"Monospace\").scale(0.8).move_to(3.5*LEFT + 2.5 * UP)\n",
    "        self.add(rendered_code1)\n",
    "        self.play(rendered_code1.animate.shift( DOWN * 3.3 ))\n",
    "\n",
    "        self.wait(2)\n",
    "        \n",
    "\n",
    "        # Crear un rectángulo amarillo sin relleno\n",
    "        yellow_rect = Rectangle(\n",
    "            width=5,\n",
    "            height=0.7,\n",
    "            stroke_color=YELLOW,  # Color del borde\n",
    "            stroke_width=7.5,      # Ancho del borde\n",
    "        ).next_to(rendered_code1.get_center()).shift(UP * 0.05 + LEFT * 2.5)\n",
    "    \n",
    "        \n",
    "    \n",
    "\n",
    "        ahora = Text(\"Ahora se resuelve\\n la pila de llamadas\", font_size=36, color=WHITE).scale(1.2)\n",
    "        ahora.next_to(rendered_code5.get_right() + RIGHT * 0.5)\n",
    "        self.play(Write(ahora))\n",
    "        self.play(Unwrite(ahora))\n",
    "\n",
    "        self.play(Create(yellow_rect))\n",
    "\n",
    "        resultado = Text(\"resultado = \").next_to(rendered_code5.get_right()).scale(0.7)\n",
    "        uno = Text(\"1 \").next_to(resultado.get_right()).scale(0.7)\n",
    "\n",
    "        self.play(Write(resultado))\n",
    "        # Elimino el código actual y el rectángulo amarillo\n",
    "        self.remove(yellow_rect, rendered_code1)\n",
    "\n",
    "        # posiciono el rectángulo en el siguiente fragmento de código\n",
    "        yellow_rect.next_to(rendered_code2.get_center()).shift(DOWN * 0.5 + LEFT * 2.5)\n",
    "        # Y lo vuelvo a crear\n",
    "        self.play(Create(yellow_rect))\n",
    "\n",
    "        # Creo factor y símbolo de multiplicación\n",
    "        dos = Text(\"2 \" ).next_to(resultado.get_right()).scale(0.7)\n",
    "        mult = Text(\"* \").next_to(resultado).shift(RIGHT * 0.5)\n",
    "        # posiciono el resultado parcial a la derecha del signo \"*\" y lo creo junto al nuevo factor\n",
    "        self.play(uno.animate.next_to(mult.get_right()))\n",
    "        self.play(Create(dos), Create(mult))\n",
    "        # Quito el símbolo de multiplicación y el factorial de 1 expresado como un número entero(1)\n",
    "        self.play(Uncreate(mult), Uncreate(uno))\n",
    "        self.remove(yellow_rect, rendered_code2)\n",
    "\n",
    "        # posiciono el rectángulo en el siguiente fragmento de código\n",
    "        yellow_rect.next_to(rendered_code3.get_center()).shift(DOWN * 0.5 + LEFT * 2.5)\n",
    "        # Y lo vuelvo a crear\n",
    "        self.play(Create(yellow_rect))\n",
    "\n",
    "\n",
    "        # Creo factor de la multiplicación\n",
    "        tres = Text(\"3 \" ).next_to(resultado.get_right()).scale(0.7)\n",
    "        mult = Text(\"* \").next_to(resultado).shift(RIGHT * 0.5)\n",
    "        # posiciono el resultado parcial a la derecha del signo \"*\" y lo creo junto al nuevo factor\n",
    "        self.play(dos.animate.next_to(mult.get_right()))\n",
    "        self.play(Create(tres), Create(mult))\n",
    "        # Quito el símbolo de multiplicación y el factorial de 2 expresado como un número entero(2)\n",
    "        self.play(Uncreate(dos), Uncreate(mult), Uncreate(tres))\n",
    "        # Update del resultado\n",
    "        seis = Text(\"6 \").next_to(resultado.get_right()).scale(0.7) \n",
    "        self.play(Create(seis))\n",
    "        self.remove(yellow_rect, rendered_code3)\n",
    "\n",
    "        # posiciono el rectángulo en el siguiente fragmento de código\n",
    "        yellow_rect.next_to(rendered_code4.get_center()).shift(DOWN * 0.5 + LEFT * 2.5)\n",
    "        # Y lo vuelvo a crear\n",
    "        self.play(Create(yellow_rect))\n",
    "        \n",
    "        # Creo factor de la multiplicación\n",
    "        cuatro = Text(\"4 \" ).next_to(resultado.get_right()).scale(0.7)\n",
    "        mult = Text(\"* \").next_to(resultado).shift(RIGHT * 0.5)\n",
    "        # posiciono el resultado parcial a la derecha del signo \"*\" y lo creo junto al nuevo factor\n",
    "        self.play(seis.animate.next_to(mult.get_right()))\n",
    "        self.play(Create(cuatro), Create(mult))\n",
    "        # Quito el símbolo de multiplicación y el factorial de 2 expresado como un número entero(2)\n",
    "        self.play(Uncreate(cuatro), Uncreate(mult), Uncreate(seis))\n",
    "        xxiv = Text(\"24 \").next_to(resultado.get_right()).scale(0.7) \n",
    "        self.play(Create(xxiv))\n",
    "\n",
    "        self.remove(yellow_rect, rendered_code4)\n",
    "\n",
    "        # posiciono el rectángulo en el siguiente fragmento de código\n",
    "        yellow_rect.next_to(rendered_code5.get_center()).shift(DOWN * 0.5 + LEFT * 2.5)\n",
    "        # Y lo vuelvo a crear\n",
    "        self.play(Create(yellow_rect))\n",
    "\n",
    "        \n",
    "        # Creo factor de la multiplicación\n",
    "        cinco = Text(\"5 \" ).next_to(resultado.get_right()).scale(0.7)\n",
    "        mult = Text(\"* \").next_to(resultado).shift(RIGHT * 0.5)\n",
    "        # posiciono el resultado parcial a la derecha del signo \"*\" y lo creo junto al nuevo factor\n",
    "        self.play(xxiv.animate.next_to(mult.get_right()))\n",
    "        self.play(Create(cinco), Create(mult))\n",
    "        # Quito el símbolo de multiplicación y el factorial de 5 expresado como un número entero(2)\n",
    "        self.play(Uncreate(cinco), Uncreate(mult), Uncreate(xxiv))\n",
    "        cxx = Text(\"120 \").next_to(resultado.get_right()).scale(0.7) \n",
    "        self.play(Create(cxx))\n",
    "        self.remove(yellow_rect, rendered_code1)\n",
    "\n",
    "        \n",
    "        self.wait(2)"
   ]
  },
  {
   "cell_type": "code",
   "execution_count": null,
   "id": "4cdbba40-c875-4ea7-9adb-278612a6ced5",
   "metadata": {},
   "outputs": [],
   "source": []
  },
  {
   "cell_type": "code",
   "execution_count": null,
   "id": "87a97908-3e1c-484b-9a66-5021db455120",
   "metadata": {},
   "outputs": [],
   "source": []
  },
  {
   "cell_type": "code",
   "execution_count": null,
   "id": "83b7f5ae-0f8a-453f-8872-90c1d5aa0eb9",
   "metadata": {},
   "outputs": [],
   "source": []
  },
  {
   "cell_type": "code",
   "execution_count": null,
   "id": "324c8b3c-d52a-45a8-8147-950954c29157",
   "metadata": {},
   "outputs": [],
   "source": []
  },
  {
   "cell_type": "code",
   "execution_count": null,
   "id": "2d2fbcb5-9e89-4d75-86d3-f778bea96503",
   "metadata": {},
   "outputs": [],
   "source": []
  },
  {
   "cell_type": "code",
   "execution_count": null,
   "id": "bdbba8b1-9450-4327-8b2b-3eb94fbc5f8c",
   "metadata": {},
   "outputs": [],
   "source": []
  },
  {
   "cell_type": "code",
   "execution_count": null,
   "id": "3d1cb629-e4cb-4a71-9820-aaf4b2a6f868",
   "metadata": {},
   "outputs": [],
   "source": []
  },
  {
   "cell_type": "code",
   "execution_count": null,
   "id": "56d8a7ee-982c-4f16-8bd2-5537aeff1855",
   "metadata": {},
   "outputs": [],
   "source": []
  },
  {
   "cell_type": "code",
   "execution_count": null,
   "id": "e7d30504-2278-4311-9ce6-2389c855f26f",
   "metadata": {},
   "outputs": [],
   "source": []
  },
  {
   "cell_type": "code",
   "execution_count": null,
   "id": "f972c135-3eb9-49f0-ba11-3cdc1f40fcc9",
   "metadata": {},
   "outputs": [],
   "source": []
  },
  {
   "cell_type": "code",
   "execution_count": null,
   "id": "e1bd9022-fe25-429c-8a34-1484196f41b2",
   "metadata": {},
   "outputs": [],
   "source": []
  }
 ],
 "metadata": {
  "kernelspec": {
   "display_name": "Python 3 (ipykernel)",
   "language": "python",
   "name": "python3"
  },
  "language_info": {
   "codemirror_mode": {
    "name": "ipython",
    "version": 3
   },
   "file_extension": ".py",
   "mimetype": "text/x-python",
   "name": "python",
   "nbconvert_exporter": "python",
   "pygments_lexer": "ipython3",
   "version": "3.11.8"
  }
 },
 "nbformat": 4,
 "nbformat_minor": 5
}
