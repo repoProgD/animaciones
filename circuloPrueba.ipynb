{
 "cells": [
  {
   "cell_type": "code",
   "execution_count": 1,
   "id": "8ad5c551-5bae-48c0-9508-c2bca53c2f7c",
   "metadata": {},
   "outputs": [
    {
     "name": "stderr",
     "output_type": "stream",
     "text": [
      "C:\\Users\\Diego\\anaconda3\\envs\\animaciones\\Lib\\site-packages\\pydub\\utils.py:170: RuntimeWarning: Couldn't find ffmpeg or avconv - defaulting to ffmpeg, but may not work\n",
      "  warn(\"Couldn't find ffmpeg or avconv - defaulting to ffmpeg, but may not work\", RuntimeWarning)\n"
     ]
    },
    {
     "data": {
      "text/html": [
       "<pre style=\"white-space:pre;overflow-x:auto;line-height:normal;font-family:Menlo,'DejaVu Sans Mono',consolas,'Courier New',monospace\"><span style=\"color: #7fbfbf; text-decoration-color: #7fbfbf\">[03/13/24 21:25:56] </span><span style=\"color: #800000; text-decoration-color: #800000\">WARNING </span> Missing Plugins: <span style=\"font-weight: bold\">{</span><span style=\"color: #008000; text-decoration-color: #008000\">''</span><span style=\"font-weight: bold\">}</span>                                                   <a href=\"file://C:\\Users\\Diego\\anaconda3\\envs\\animaciones\\Lib\\site-packages\\manim\\plugins\\__init__.py\" target=\"_blank\"><span style=\"color: #7f7f7f; text-decoration-color: #7f7f7f\">__init__.py</span></a><span style=\"color: #7f7f7f; text-decoration-color: #7f7f7f\">:</span><a href=\"file://C:\\Users\\Diego\\anaconda3\\envs\\animaciones\\Lib\\site-packages\\manim\\plugins\\__init__.py#17\" target=\"_blank\"><span style=\"color: #7f7f7f; text-decoration-color: #7f7f7f\">17</span></a>\n",
       "</pre>\n"
      ],
      "text/plain": [
       "\u001b[2;36m[03/13/24 21:25:56]\u001b[0m\u001b[2;36m \u001b[0m\u001b[31mWARNING \u001b[0m Missing Plugins: \u001b[1m{\u001b[0m\u001b[32m''\u001b[0m\u001b[1m}\u001b[0m                                                   \u001b]8;id=224444;file://C:\\Users\\Diego\\anaconda3\\envs\\animaciones\\Lib\\site-packages\\manim\\plugins\\__init__.py\u001b\\\u001b[2m__init__.py\u001b[0m\u001b]8;;\u001b\\\u001b[2m:\u001b[0m\u001b]8;id=612524;file://C:\\Users\\Diego\\anaconda3\\envs\\animaciones\\Lib\\site-packages\\manim\\plugins\\__init__.py#17\u001b\\\u001b[2m17\u001b[0m\u001b]8;;\u001b\\\n"
      ]
     },
     "metadata": {},
     "output_type": "display_data"
    }
   ],
   "source": [
    "from manim import *\n"
   ]
  },
  {
   "cell_type": "code",
   "execution_count": 2,
   "id": "596ca947-6b61-4edf-8b6e-01c8607631f5",
   "metadata": {},
   "outputs": [],
   "source": [
    "config.media_width = \"75%\"\n",
    "config.verbosity = \"WARNING\""
   ]
  },
  {
   "cell_type": "code",
   "execution_count": null,
   "id": "9cee2f4f-bbeb-46ab-b153-ed66e7d6c6e4",
   "metadata": {},
   "outputs": [],
   "source": []
  },
  {
   "cell_type": "code",
   "execution_count": null,
   "id": "147d1735-a699-4e35-95ce-184bfac2ea7a",
   "metadata": {},
   "outputs": [],
   "source": []
  },
  {
   "cell_type": "code",
   "execution_count": 3,
   "id": "b5023288-a11e-42dd-a217-6be24bde97b4",
   "metadata": {},
   "outputs": [
    {
     "ename": "RuntimeError",
     "evalue": "Manim could not find ffmpeg, which is required for generating video output.\nFor installing ffmpeg please consult https://docs.manim.community/en/stable/installation.html\nMake sure to either add ffmpeg to the PATH environment variable\nor set path to the ffmpeg executable under the ffmpeg header in Manim's configuration.",
     "output_type": "error",
     "traceback": [
      "\u001b[1;31m---------------------------------------------------------------------------\u001b[0m",
      "\u001b[1;31mRuntimeError\u001b[0m                              Traceback (most recent call last)",
      "Cell \u001b[1;32mIn[3], line 8\u001b[0m\n\u001b[0;32m      5\u001b[0m         \u001b[38;5;28mself\u001b[39m\u001b[38;5;241m.\u001b[39madd(square)\n\u001b[0;32m      7\u001b[0m \u001b[38;5;66;03m# Renderiza la escena\u001b[39;00m\n\u001b[1;32m----> 8\u001b[0m scene \u001b[38;5;241m=\u001b[39m \u001b[43mMyScene\u001b[49m\u001b[43m(\u001b[49m\u001b[43m)\u001b[49m\n\u001b[0;32m      9\u001b[0m scene\u001b[38;5;241m.\u001b[39mrender()\n",
      "File \u001b[1;32m~\\anaconda3\\envs\\animaciones\\Lib\\site-packages\\manim\\scene\\scene.py:147\u001b[0m, in \u001b[0;36mScene.__init__\u001b[1;34m(self, renderer, camera_class, always_update_mobjects, random_seed, skip_animations)\u001b[0m\n\u001b[0;32m    145\u001b[0m \u001b[38;5;28;01melse\u001b[39;00m:\n\u001b[0;32m    146\u001b[0m     \u001b[38;5;28mself\u001b[39m\u001b[38;5;241m.\u001b[39mrenderer \u001b[38;5;241m=\u001b[39m renderer\n\u001b[1;32m--> 147\u001b[0m \u001b[38;5;28;43mself\u001b[39;49m\u001b[38;5;241;43m.\u001b[39;49m\u001b[43mrenderer\u001b[49m\u001b[38;5;241;43m.\u001b[39;49m\u001b[43minit_scene\u001b[49m\u001b[43m(\u001b[49m\u001b[38;5;28;43mself\u001b[39;49m\u001b[43m)\u001b[49m\n\u001b[0;32m    149\u001b[0m \u001b[38;5;28mself\u001b[39m\u001b[38;5;241m.\u001b[39mmobjects \u001b[38;5;241m=\u001b[39m []\n\u001b[0;32m    150\u001b[0m \u001b[38;5;66;03m# TODO, remove need for foreground mobjects\u001b[39;00m\n",
      "File \u001b[1;32m~\\anaconda3\\envs\\animaciones\\Lib\\site-packages\\manim\\renderer\\cairo_renderer.py:54\u001b[0m, in \u001b[0;36mCairoRenderer.init_scene\u001b[1;34m(self, scene)\u001b[0m\n\u001b[0;32m     53\u001b[0m \u001b[38;5;28;01mdef\u001b[39;00m \u001b[38;5;21minit_scene\u001b[39m(\u001b[38;5;28mself\u001b[39m, scene):\n\u001b[1;32m---> 54\u001b[0m     \u001b[38;5;28mself\u001b[39m\u001b[38;5;241m.\u001b[39mfile_writer: Any \u001b[38;5;241m=\u001b[39m \u001b[38;5;28;43mself\u001b[39;49m\u001b[38;5;241;43m.\u001b[39;49m\u001b[43m_file_writer_class\u001b[49m\u001b[43m(\u001b[49m\n\u001b[0;32m     55\u001b[0m \u001b[43m        \u001b[49m\u001b[38;5;28;43mself\u001b[39;49m\u001b[43m,\u001b[49m\n\u001b[0;32m     56\u001b[0m \u001b[43m        \u001b[49m\u001b[43mscene\u001b[49m\u001b[38;5;241;43m.\u001b[39;49m\u001b[38;5;18;43m__class__\u001b[39;49m\u001b[38;5;241;43m.\u001b[39;49m\u001b[38;5;18;43m__name__\u001b[39;49m\u001b[43m,\u001b[49m\n\u001b[0;32m     57\u001b[0m \u001b[43m    \u001b[49m\u001b[43m)\u001b[49m\n",
      "File \u001b[1;32m~\\anaconda3\\envs\\animaciones\\Lib\\site-packages\\manim\\scene\\scene_file_writer.py:88\u001b[0m, in \u001b[0;36mSceneFileWriter.__init__\u001b[1;34m(self, renderer, scene_name, **kwargs)\u001b[0m\n\u001b[0;32m     86\u001b[0m \u001b[38;5;66;03m# fail fast if ffmpeg is not found\u001b[39;00m\n\u001b[0;32m     87\u001b[0m \u001b[38;5;28;01mif\u001b[39;00m \u001b[38;5;129;01mnot\u001b[39;00m ensure_executable(Path(config\u001b[38;5;241m.\u001b[39mffmpeg_executable)):\n\u001b[1;32m---> 88\u001b[0m     \u001b[38;5;28;01mraise\u001b[39;00m \u001b[38;5;167;01mRuntimeError\u001b[39;00m(\n\u001b[0;32m     89\u001b[0m         \u001b[38;5;124m\"\u001b[39m\u001b[38;5;124mManim could not find ffmpeg, which is required for generating video output.\u001b[39m\u001b[38;5;130;01m\\n\u001b[39;00m\u001b[38;5;124m\"\u001b[39m\n\u001b[0;32m     90\u001b[0m         \u001b[38;5;124m\"\u001b[39m\u001b[38;5;124mFor installing ffmpeg please consult https://docs.manim.community/en/stable/installation.html\u001b[39m\u001b[38;5;130;01m\\n\u001b[39;00m\u001b[38;5;124m\"\u001b[39m\n\u001b[0;32m     91\u001b[0m         \u001b[38;5;124m\"\u001b[39m\u001b[38;5;124mMake sure to either add ffmpeg to the PATH environment variable\u001b[39m\u001b[38;5;130;01m\\n\u001b[39;00m\u001b[38;5;124m\"\u001b[39m\n\u001b[0;32m     92\u001b[0m         \u001b[38;5;124m\"\u001b[39m\u001b[38;5;124mor set path to the ffmpeg executable under the ffmpeg header in Manim\u001b[39m\u001b[38;5;124m'\u001b[39m\u001b[38;5;124ms configuration.\u001b[39m\u001b[38;5;124m\"\u001b[39m\n\u001b[0;32m     93\u001b[0m     )\n",
      "\u001b[1;31mRuntimeError\u001b[0m: Manim could not find ffmpeg, which is required for generating video output.\nFor installing ffmpeg please consult https://docs.manim.community/en/stable/installation.html\nMake sure to either add ffmpeg to the PATH environment variable\nor set path to the ffmpeg executable under the ffmpeg header in Manim's configuration."
     ]
    }
   ],
   "source": [
    "class MyScene(Scene):\n",
    "    def construct(self):\n",
    "        # Crea un cuadrado con un lado de longitud 2 y lo muestra en la escena\n",
    "        square = Square(side_length=2)\n",
    "        self.add(square)\n",
    "\n",
    "# Renderiza la escena\n",
    "scene = MyScene()\n",
    "scene.render()"
   ]
  },
  {
   "cell_type": "code",
   "execution_count": null,
   "id": "2ac55886-5adf-41d9-b56c-b4b312502880",
   "metadata": {},
   "outputs": [],
   "source": []
  },
  {
   "cell_type": "code",
   "execution_count": null,
   "id": "e115ec6b-9476-4095-b8f2-4f331afcd61e",
   "metadata": {},
   "outputs": [],
   "source": []
  }
 ],
 "metadata": {
  "kernelspec": {
   "display_name": "Python 3 (ipykernel)",
   "language": "python",
   "name": "python3"
  },
  "language_info": {
   "codemirror_mode": {
    "name": "ipython",
    "version": 3
   },
   "file_extension": ".py",
   "mimetype": "text/x-python",
   "name": "python",
   "nbconvert_exporter": "python",
   "pygments_lexer": "ipython3",
   "version": "3.11.7"
  }
 },
 "nbformat": 4,
 "nbformat_minor": 5
}
