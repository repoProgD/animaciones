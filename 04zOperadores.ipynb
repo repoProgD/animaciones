{
 "cells": [
  {
   "cell_type": "markdown",
   "id": "09142194-70c7-4374-8c3f-43138ab6af37",
   "metadata": {},
   "source": [
    "<h1 style=\"background-color: #24043d; color: white; padding: 25px;\">\n",
    "   Operadores &#8544;\r\n",
    "</h1>"
   ]
  },
  {
   "cell_type": "markdown",
   "id": "ec731e4b-5f20-4299-8b39-1b1d1f4172b7",
   "metadata": {},
   "source": [
    "<h2 style=\"background-color: #24043d; color: white; padding: 12px;\">\n",
    "    1. Definiciones\n",
    "</h2>"
   ]
  },
  {
   "cell_type": "markdown",
   "id": "4211dc10-79c2-4cf0-abbe-495d16089621",
   "metadata": {},
   "source": [
    "<p style=\"background-color: #C483F7; color: black; padding: 12px;\">\n",
    "    Definición: Los <b>operadores</b> son símbolos o palabras clave que se utilizan en programación para realizar operaciones. Estas operaciones pueden ser: de tipo aritmética (para realizar cuentas matemáticas), de comparación, lógicas, asignación, entre otras. Es decir que los operadores indican el tipo de acción que vamos a realizar sobre los datos que los acompañan en una expresión.\n",
    "</p>"
   ]
  },
  {
   "cell_type": "markdown",
   "id": "63e362a1-364b-4784-a1ef-9c55c82e8a60",
   "metadata": {},
   "source": [
    "<p style=\"background-color: #C483F7; color: black; padding: 12px;\">\n",
    "    Definición: Los <b>operandos</b> son los datos que acompañan a los operadores en una expresión. Dicho de otra manera, los operandos son los datos sobre los cuáles se va a realizar la acción indicada por el operador de una expresión.\n",
    "</p>"
   ]
  },
  {
   "cell_type": "markdown",
   "id": "85c8a22e-d1b4-4327-b702-163e448edb74",
   "metadata": {},
   "source": [
    "<p style=\"background-color: #C483F7; color: black; padding: 12px;\">\n",
    "    Sintaxis: Como regla general, los operadores quedan encerrados entre dos operandos. Una expresión típica es <b>operando operador operando</b>, o si lo prefieren de una manera menos formal <b>dato operador dato</b>, como por ejemplo en la suma <b>a + b</b> (El operador \"+\" queda encerrado entre los operandos \"a\" y \"b\"). Sin embargo, existen algunas excepciones a esta regla como en el caso de la negación lógica(not) y en operaciones de incremento y decremento, por nombrar algunas.\n",
    "</p>"
   ]
  },
  {
   "cell_type": "markdown",
   "id": "87e0ccd9-e8dc-4f25-a8a3-82d41ebde630",
   "metadata": {},
   "source": [
    "### **1.1. Operadores**"
   ]
  },
  {
   "cell_type": "markdown",
   "id": "f44d2f61-4082-4ef7-94df-12cb025f5470",
   "metadata": {},
   "source": [
    "| Tipo de Operador          | Operadores                            | Ejemplo                |\n",
    "|---------------------------|---------------------------------------|------------------------|\n",
    "| Aritmético                | +, -, *, /, //, %, **                 | `a + b`, `x * y`       |\n",
    "| Asignación                | =, +=, -=, *=, /=, //=, %=            | `x = 10`, `y += 5`     |\n",
    "| Identidad                 | is, is not                            | `x is y`, `a is not b` |\n",
    "| Comparación               | ==, !=, >, <, >=, <=                  | `x == y`, `a > b`      |\n",
    "| Pertenencia               | in, not in                            | `x in y`, `a not in b` |\n",
    "| Lógico                    | and, or, not                          | `x and y`, `not x`     |"
   ]
  },
  {
   "cell_type": "markdown",
   "id": "d324bfcf-85ce-48db-baaa-2a238dedb425",
   "metadata": {},
   "source": [
    "<h2 style=\"background-color: #24043d; color: white; padding: 12px;\">\n",
    "    2. Operadores Aritméticos\n",
    "</h2>"
   ]
  },
  {
   "cell_type": "markdown",
   "id": "0f097483-8333-4164-b9a5-282ce4d9c8e0",
   "metadata": {},
   "source": [
    "### **2.1. Operadores aritméticos básicos**"
   ]
  },
  {
   "cell_type": "markdown",
   "id": "3fd9198a-ede7-4a3c-8425-4cea8e327475",
   "metadata": {},
   "source": [
    "### `+` `-` `*` `/`"
   ]
  },
  {
   "cell_type": "markdown",
   "id": "42defe60-648d-4c2d-93aa-f702863aed9f",
   "metadata": {},
   "source": [
    "##### **Son los operadores utilizados para crear las operaciones aritméticas elementales: suma, resta, multiplicación y división. Estos operadores fueron vistos en la sección de tipos de datos númericos en la lección de tipos de datos.**"
   ]
  },
  {
   "cell_type": "markdown",
   "id": "27cf5a0c-2998-4faf-8b57-9fc3fb8eec44",
   "metadata": {},
   "source": [
    "##### **Los operadores de suma y multiplicación se utilizan para operar sobre secuencias. Algo vimos ya en la sección de strings pero también sirven para multiplicar listas, tuplas, entre otras secuencias.**"
   ]
  },
  {
   "cell_type": "markdown",
   "id": "ab78ce1c-703e-4c35-ab1e-38ba4549f3b8",
   "metadata": {},
   "source": [
    "### **2.2. Operador de división entera**"
   ]
  },
  {
   "cell_type": "markdown",
   "id": "220c9958-8ca1-4918-bd98-5f0ed0ff5abf",
   "metadata": {},
   "source": [
    "### `//`"
   ]
  },
  {
   "cell_type": "code",
   "execution_count": 64,
   "id": "cf892f2e-27c5-4f1b-a14e-1d933d4c656a",
   "metadata": {},
   "outputs": [
    {
     "name": "stdout",
     "output_type": "stream",
     "text": [
      "El resultado de la división es: 2.3333333333333335\n",
      "El resultado de la división entera es: 2\n"
     ]
    }
   ],
   "source": [
    "res = 7/3\n",
    "a = 7//3\n",
    "print(f\"El resultado de la división es: {res}\\nEl resultado de la división entera es: {a}\")"
   ]
  },
  {
   "cell_type": "markdown",
   "id": "3ae21f89-67d3-4b8c-8441-62869d793773",
   "metadata": {},
   "source": [
    "##### **Este operador es utilizado para obtener la parte entera de una división. También fue presentado en la lección de tipos de datos pero vale la pena recordarlo.**"
   ]
  },
  {
   "cell_type": "markdown",
   "id": "f12b79d0-2a57-4cf9-bf68-9293a52e511f",
   "metadata": {},
   "source": [
    "### **2.2. Operador de Potenciación**"
   ]
  },
  {
   "cell_type": "markdown",
   "id": "ef03b1be-88b6-49c3-8ceb-01d0c8f5312e",
   "metadata": {},
   "source": [
    "### `**`"
   ]
  },
  {
   "cell_type": "markdown",
   "id": "95b04f8a-ab31-493d-8fc6-2308d09c95d6",
   "metadata": {},
   "source": [
    "##### **Es el operador que se utiliza para realizar cálculos de potencia**"
   ]
  },
  {
   "cell_type": "code",
   "execution_count": 65,
   "id": "56a34bb6-35e0-45fe-a875-0a159b02ef61",
   "metadata": {},
   "outputs": [
    {
     "name": "stdout",
     "output_type": "stream",
     "text": [
      "25\n"
     ]
    }
   ],
   "source": [
    "b = 5 ** 2\n",
    "print(b)"
   ]
  },
  {
   "cell_type": "code",
   "execution_count": 66,
   "id": "b507fa20-92f0-473d-8044-7a8cf533bb4d",
   "metadata": {},
   "outputs": [
    {
     "name": "stdout",
     "output_type": "stream",
     "text": [
      "27\n"
     ]
    }
   ],
   "source": [
    "c = 3 ** 3\n",
    "print(c)"
   ]
  },
  {
   "cell_type": "markdown",
   "id": "700dac5e-f49d-474d-b057-700677415fad",
   "metadata": {},
   "source": [
    "##### **También se puede utilizar para calcular raíces**"
   ]
  },
  {
   "cell_type": "code",
   "execution_count": 42,
   "id": "ddc1518c-2d32-45f1-9052-efd65498b80f",
   "metadata": {},
   "outputs": [
    {
     "name": "stdout",
     "output_type": "stream",
     "text": [
      "5.0\n"
     ]
    }
   ],
   "source": [
    "# raíz cuadrada\n",
    "raiz_cuadrada = 25 ** (1/2)\n",
    "print(raiz_cuadrada)"
   ]
  },
  {
   "cell_type": "code",
   "execution_count": 46,
   "id": "2fa77694-6ec2-46ef-8071-efeeec64783f",
   "metadata": {},
   "outputs": [
    {
     "name": "stdout",
     "output_type": "stream",
     "text": [
      "3.0\n"
     ]
    }
   ],
   "source": [
    "# raíz cúbica\n",
    "raiz_cubica = 27 ** (1/3)\n",
    "print(raiz_cubica)"
   ]
  },
  {
   "cell_type": "code",
   "execution_count": null,
   "id": "4c4be90a-c3cb-4b67-a091-85353fbe93d2",
   "metadata": {},
   "outputs": [],
   "source": []
  },
  {
   "cell_type": "markdown",
   "id": "48b8c6cd-e161-4b05-bd2e-8009bda68819",
   "metadata": {},
   "source": [
    "##### **Nota: En Python el cálculo del logaritmo no involucra un operador logaritmo, sino que se usa una función para calcularlo.**"
   ]
  },
  {
   "cell_type": "markdown",
   "id": "5a2291bf-d8ba-4a99-b685-f20b50cdf40f",
   "metadata": {},
   "source": [
    "### **2.3. Operador módulo (Muy Importante)**"
   ]
  },
  {
   "cell_type": "markdown",
   "id": "c2e9ff96-4e0a-40f7-af1a-42aa736975c9",
   "metadata": {},
   "source": [
    "### `%`"
   ]
  },
  {
   "cell_type": "markdown",
   "id": "5614ddfa-82e4-4672-85d0-37eee9570d67",
   "metadata": {},
   "source": [
    "##### **Nota: No confundir con porcentaje. El operador módulo se emplea para calcular el resto o residuo de una división.**"
   ]
  },
  {
   "cell_type": "code",
   "execution_count": 39,
   "id": "2f881df7-5519-4710-8600-1a0a2d1e218c",
   "metadata": {},
   "outputs": [
    {
     "name": "stdout",
     "output_type": "stream",
     "text": [
      "El cociente de 17/5 es: 3.4\n",
      "El residuo de 17/5 es:2\n",
      "5.4\n"
     ]
    }
   ],
   "source": [
    "d = 17 / 5\n",
    "e = 17 % 5\n",
    "f = d + e\n",
    "print(f\"El cociente de 17/5 es: {d}\\nEl residuo de 17/5 es:{e}\")\n",
    "print(f) "
   ]
  },
  {
   "cell_type": "markdown",
   "id": "24d7a690-27f2-4236-aa87-934d9a6bc25b",
   "metadata": {},
   "source": [
    "##### **Un poco de mates:**\n",
    "##### **dividendo/divisor = cociente**\n",
    "##### **cociente + módulo = dividendo => dividendo - cociente = residuo**"
   ]
  },
  {
   "cell_type": "code",
   "execution_count": null,
   "id": "e5597670-3399-4bdd-beee-ca42a243b132",
   "metadata": {},
   "outputs": [],
   "source": [
    "17 / 5          # Realicemos esta división\n",
    "17 - 5 = 12     # Mientras el resultado de la resta sea mayor que 5, volvemos a restar.\n",
    "12 - 5 = 7      # Es mayor que 5. Entonces, seguimos restando\n",
    "7 - 5 = 2       # Cuando el resultado de la resta sea más pequeño que el divisor, no restamos más\n",
    "                # En este caso el residuo es 2"
   ]
  },
  {
   "cell_type": "markdown",
   "id": "1723e8f5-1523-4f63-86d8-5482dea5f1a5",
   "metadata": {},
   "source": [
    "#### **Propiedad 1: El resultado del módulo siempre es menor que el divisor**"
   ]
  },
  {
   "cell_type": "code",
   "execution_count": null,
   "id": "b660ce5a-180f-4510-91f5-28b472a96a71",
   "metadata": {},
   "outputs": [],
   "source": [
    "# RECALCAR QUE EL MÓDULO TIENE MUCHAS UTILIDADES; QUE ES UNA OPERACIÓN QUE LOS VA A MEJORAR COMO PROGRAMADORES Y QUE ADEMÁS LES VA A \n",
    "# ESTAR ABRIENDO LA PUERTA A UNA MANERA DE RAZONAR QUE ESTÁ A OTRO NIVEL"
   ]
  },
  {
   "cell_type": "markdown",
   "id": "18b72280-95c8-4800-a651-bd74d1ebe634",
   "metadata": {},
   "source": [
    "#### **Propiedad 2: Si el dividendo es exactamente divisible por el divisor, entonces el resultado del múdulo es cero.**  "
   ]
  },
  {
   "cell_type": "code",
   "execution_count": 40,
   "id": "d7a58f0e-8ae9-4a9a-ad6a-c366c3fa1119",
   "metadata": {},
   "outputs": [
    {
     "name": "stdout",
     "output_type": "stream",
     "text": [
      "El resultado de dividir 15 entre 5 es: 3.0\n",
      "El módulo de 15/5 es: 0\n"
     ]
    }
   ],
   "source": [
    "g = 15 / 5\n",
    "g2 = 15 % 5\n",
    "print(f\"El resultado de dividir 15 entre 5 es: {g}\\nEl módulo de 15/5 es: {g2}\")"
   ]
  },
  {
   "cell_type": "markdown",
   "id": "62ae2e03-308e-429c-b42e-130710ef556f",
   "metadata": {},
   "source": [
    "##### **¿Para qué vamos a estar usándolo? (Por ahora)**"
   ]
  },
  {
   "cell_type": "markdown",
   "id": "eccb67ab-7987-44ec-8e08-27b302833850",
   "metadata": {},
   "source": [
    "- **Para saber si un número es par**\n",
    "- **Para saber si número es divisible exactamente por otro**"
   ]
  },
  {
   "cell_type": "code",
   "execution_count": 20,
   "id": "85518d91-d69c-4d78-b5b4-2b7cb6dbd174",
   "metadata": {},
   "outputs": [],
   "source": [
    "# Para saber si un número es par\n"
   ]
  },
  {
   "cell_type": "code",
   "execution_count": 18,
   "id": "2e6fca51-8bc3-49c1-bf26-a7ee21c8f6d8",
   "metadata": {},
   "outputs": [
    {
     "name": "stdout",
     "output_type": "stream",
     "text": [
      "0\n"
     ]
    }
   ],
   "source": [
    "# para saber si un número es divisible exactamente por otro\n",
    "print(12387453%3)"
   ]
  },
  {
   "cell_type": "code",
   "execution_count": 19,
   "id": "c687b5ab-2eb1-46d5-9955-d078d589391c",
   "metadata": {},
   "outputs": [
    {
     "name": "stdout",
     "output_type": "stream",
     "text": [
      "4129151.0\n"
     ]
    }
   ],
   "source": [
    "print(12387453/3)"
   ]
  },
  {
   "cell_type": "code",
   "execution_count": null,
   "id": "b0fa8ef7-b99c-4849-9e96-816f0d6ef9fb",
   "metadata": {},
   "outputs": [],
   "source": [
    "265/12"
   ]
  },
  {
   "cell_type": "code",
   "execution_count": null,
   "id": "25b421e0-4c7d-4a8f-988a-b552f2ae8684",
   "metadata": {},
   "outputs": [],
   "source": []
  },
  {
   "cell_type": "markdown",
   "id": "0a6176ed-273d-4066-9eaf-0eafdeabfd58",
   "metadata": {},
   "source": [
    "<h2 style=\"background-color: #24043d; color: white; padding: 12px;\">\n",
    "    3. Operadores de asignación\n",
    "</h2>"
   ]
  },
  {
   "cell_type": "markdown",
   "id": "9c85d88b-791d-4351-95b2-f8269fb41cd3",
   "metadata": {},
   "source": [
    "### **3.1. Operador de asignación básico `=`**"
   ]
  },
  {
   "cell_type": "markdown",
   "id": "e4cafa22-8795-4d85-9055-309c8940c076",
   "metadata": {},
   "source": [
    "##### **El operador de asignación básico `=` se emplea para asignar un valor a una variable.**"
   ]
  },
  {
   "cell_type": "code",
   "execution_count": 42,
   "id": "ca6279f4-9394-4054-a7b6-112141a636c7",
   "metadata": {},
   "outputs": [
    {
     "name": "stdout",
     "output_type": "stream",
     "text": [
      "5.3\n"
     ]
    }
   ],
   "source": [
    "# asignación de variable básica\n",
    "h = 5.3\n",
    "print(h)"
   ]
  },
  {
   "cell_type": "markdown",
   "id": "eff07aab-df33-465a-b6e1-f2f2041d4959",
   "metadata": {},
   "source": [
    "##### **También se puede utilizar para actualizar una variable mediante asignaciones sucesivas**"
   ]
  },
  {
   "cell_type": "code",
   "execution_count": 43,
   "id": "cfbbd99c-1eed-4b36-b239-95d75285a0b7",
   "metadata": {},
   "outputs": [
    {
     "name": "stdout",
     "output_type": "stream",
     "text": [
      "8.8\n"
     ]
    }
   ],
   "source": [
    "# actualización de variable\n",
    "h = h + 3.5\n",
    "print(h)"
   ]
  },
  {
   "cell_type": "code",
   "execution_count": 42,
   "id": "0fb4abe5-28a6-4c4c-ba5b-e9522b33afd4",
   "metadata": {},
   "outputs": [
    {
     "name": "stdout",
     "output_type": "stream",
     "text": [
      "Tengo\n"
     ]
    }
   ],
   "source": [
    "# misma idea con una string\n",
    "cadena = \"Tengo\"\n",
    "print(cadena)"
   ]
  },
  {
   "cell_type": "code",
   "execution_count": 43,
   "id": "ff94ed23-d197-44e5-a36d-407421dc8f9d",
   "metadata": {},
   "outputs": [
    {
     "name": "stdout",
     "output_type": "stream",
     "text": [
      "Tengo hambre\n"
     ]
    }
   ],
   "source": [
    "# actualización de la cadena \n",
    "cadena = cadena + \" hambre\"\n",
    "print(cadena)"
   ]
  },
  {
   "cell_type": "markdown",
   "id": "0ce4a80a-b880-4c20-b845-7c5110f48370",
   "metadata": {},
   "source": [
    "##### **Existe una forma más concisa de escribir una actualización de una variable y se hace utilizando operadores múltiples**"
   ]
  },
  {
   "cell_type": "markdown",
   "id": "8e2c0ea6-ba52-4ec6-8e1a-3f87abfc50f5",
   "metadata": {},
   "source": [
    "### **3.2. Operadores de asignación compuestos `+=` `-=` `*=` `/=` `//=` `%=`**\n"
   ]
  },
  {
   "cell_type": "markdown",
   "id": "4b78080a-7165-47eb-838a-d429871af00f",
   "metadata": {},
   "source": [
    "##### **Con números**"
   ]
  },
  {
   "cell_type": "code",
   "execution_count": 45,
   "id": "ce2a7139-2b1e-463b-a445-fbad0feb7c0c",
   "metadata": {},
   "outputs": [
    {
     "name": "stdout",
     "output_type": "stream",
     "text": [
      "200\n"
     ]
    }
   ],
   "source": [
    "i = 100\n",
    "i += 100   # equivale a hacer i = i + 100\n",
    "print(i)"
   ]
  },
  {
   "cell_type": "code",
   "execution_count": 47,
   "id": "fbb1ebc2-b94d-444e-ba7a-658e79200bed",
   "metadata": {},
   "outputs": [
    {
     "name": "stdout",
     "output_type": "stream",
     "text": [
      "25\n"
     ]
    }
   ],
   "source": [
    "i //= 2\n",
    "i//= 2\n",
    "i//= 2\n",
    "print(i)"
   ]
  },
  {
   "cell_type": "code",
   "execution_count": 48,
   "id": "4c211a47-7f27-478b-9f7e-33214d951059",
   "metadata": {},
   "outputs": [
    {
     "name": "stdout",
     "output_type": "stream",
     "text": [
      "85\n"
     ]
    }
   ],
   "source": [
    "j = 175\n",
    "j %= 90\n",
    "print(j)"
   ]
  },
  {
   "cell_type": "markdown",
   "id": "2897944f-8663-4761-b76b-9196389c7749",
   "metadata": {},
   "source": [
    "##### **Nota: No existe un operador de asignación múltiple para la potencia**"
   ]
  },
  {
   "cell_type": "markdown",
   "id": "d3848f24-91e6-4062-912a-06fd63d4cc49",
   "metadata": {},
   "source": [
    "##### **Con strings**"
   ]
  },
  {
   "cell_type": "code",
   "execution_count": 44,
   "id": "cf418b3a-9465-46a9-86d7-d7739be29936",
   "metadata": {},
   "outputs": [
    {
     "name": "stdout",
     "output_type": "stream",
     "text": [
      "Tengo hambre porque no\n",
      "Tengo hambre porque no como desde la mañana.\n"
     ]
    }
   ],
   "source": [
    "cadena += \" porque no\"\n",
    "print(cadena)\n",
    "cadena += \" como desde la mañana.\"\n",
    "print(cadena)"
   ]
  },
  {
   "cell_type": "code",
   "execution_count": 49,
   "id": "56060561-c4fb-47ab-a770-6931d8d62ab6",
   "metadata": {},
   "outputs": [
    {
     "name": "stdout",
     "output_type": "stream",
     "text": [
      "Repetir_Repetir_Repetir_Repetir_Repetir_Repetir_Repetir_Repetir_Repetir_Repetir_\n"
     ]
    }
   ],
   "source": [
    "cadena_dos = \"Repetir_\"\n",
    "cadena_dos *= 10\n",
    "print(cadena_dos)"
   ]
  },
  {
   "cell_type": "code",
   "execution_count": null,
   "id": "ec64e1f7-1e3f-438d-ae56-8a7a0831abda",
   "metadata": {},
   "outputs": [],
   "source": []
  },
  {
   "cell_type": "code",
   "execution_count": null,
   "id": "7363c558-406b-4b7a-a129-e6fc269b835f",
   "metadata": {},
   "outputs": [],
   "source": []
  },
  {
   "cell_type": "code",
   "execution_count": null,
   "id": "6030b104-23f4-4f01-866c-aa9fc7b0d9bd",
   "metadata": {},
   "outputs": [],
   "source": []
  },
  {
   "cell_type": "markdown",
   "id": "70072ac9-dad1-4d88-bbfe-0e53e6a294eb",
   "metadata": {},
   "source": [
    "<h2 style=\"background-color: #24043d; color: white; padding: 12px;\">\n",
    "    4. Operadores de Identidad\n",
    "</h2>"
   ]
  },
  {
   "cell_type": "markdown",
   "id": "895d0c93-78b6-403f-8651-6f943231744e",
   "metadata": {},
   "source": [
    "### **4.1. Operador `is`**"
   ]
  },
  {
   "cell_type": "markdown",
   "id": "e4835aad-3d54-4113-b3db-af33bf61ad20",
   "metadata": {},
   "source": [
    "##### **Otro operador con nombre inglés. A este lo vamos a leer como \"es\" (del verbo ser) y lo vamos a usar cuando querramos saber si dos objetos ocupan el lugar de la memoria.**\n",
    "##### **Si ambos objetos están en la misma posición de memoria, entonces estamos frente al mismo objeto ya que no existen dos objetos que ocupen el mismo lugar de memoria al mismo tiempo.**"
   ]
  },
  {
   "cell_type": "code",
   "execution_count": 1,
   "id": "38bc2dcd-726b-4c01-b027-7d5003ae75da",
   "metadata": {},
   "outputs": [],
   "source": [
    "pal = \"Alpha\""
   ]
  },
  {
   "cell_type": "code",
   "execution_count": 2,
   "id": "a56d7fad-fe20-4991-b464-fbec9fdc37be",
   "metadata": {},
   "outputs": [
    {
     "name": "stdout",
     "output_type": "stream",
     "text": [
      "140706578661376\n",
      "140706578663784\n",
      "140706578664008\n",
      "140706578663560\n",
      "140706578663168\n"
     ]
    }
   ],
   "source": [
    "for letra in pal:\n",
    "    print(id(letra))"
   ]
  },
  {
   "cell_type": "code",
   "execution_count": 69,
   "id": "07de79f8-0c3a-495a-9c17-59bd757b6967",
   "metadata": {},
   "outputs": [
    {
     "name": "stdout",
     "output_type": "stream",
     "text": [
      "True\n",
      "True\n"
     ]
    }
   ],
   "source": [
    "pal = \"Alpha\"\n",
    "primera = pal[0]\n",
    "primera is pal[0]\n",
    "a_mayuscula = \"Algo\"[0]\n",
    "print(a_mayuscula == primera)\n",
    "print(a_mayuscula is pal[0])"
   ]
  },
  {
   "cell_type": "code",
   "execution_count": 70,
   "id": "12608997-0f46-4a33-901e-76b36466e91b",
   "metadata": {},
   "outputs": [
    {
     "data": {
      "text/plain": [
       "True"
      ]
     },
     "execution_count": 70,
     "metadata": {},
     "output_type": "execute_result"
    }
   ],
   "source": [
    "primera is pal[0]"
   ]
  },
  {
   "cell_type": "code",
   "execution_count": 71,
   "id": "e45bc173-3a0c-4483-a704-370d5fcd03b4",
   "metadata": {},
   "outputs": [],
   "source": [
    "a_mayuscula = \"Algo\"[0]"
   ]
  },
  {
   "cell_type": "code",
   "execution_count": 72,
   "id": "d177e295-6c1e-4599-a1e4-d62b046eaba3",
   "metadata": {},
   "outputs": [
    {
     "data": {
      "text/plain": [
       "True"
      ]
     },
     "execution_count": 72,
     "metadata": {},
     "output_type": "execute_result"
    }
   ],
   "source": [
    "a_mayuscula == primera"
   ]
  },
  {
   "cell_type": "code",
   "execution_count": 73,
   "id": "26d98e35-20a3-489a-baf3-f57fbc4b8a85",
   "metadata": {},
   "outputs": [
    {
     "data": {
      "text/plain": [
       "True"
      ]
     },
     "execution_count": 73,
     "metadata": {},
     "output_type": "execute_result"
    }
   ],
   "source": [
    "a_mayuscula is pal[0]"
   ]
  },
  {
   "cell_type": "code",
   "execution_count": 74,
   "id": "a2503960-478e-4d99-92d4-132797ca1d1b",
   "metadata": {},
   "outputs": [
    {
     "data": {
      "text/plain": [
       "140706609594368"
      ]
     },
     "execution_count": 74,
     "metadata": {},
     "output_type": "execute_result"
    }
   ],
   "source": [
    "id(a_mayuscula)"
   ]
  },
  {
   "cell_type": "code",
   "execution_count": 56,
   "id": "1f63319f-cf5b-45a8-91b7-3a5ac4a6f1ed",
   "metadata": {},
   "outputs": [],
   "source": [
    "# asignamos \"k\" e \"l\" con un mismo valor\n",
    "k = 5\n",
    "l = 5"
   ]
  },
  {
   "cell_type": "code",
   "execution_count": 57,
   "id": "89a1ea9e-6532-4c8f-bb0b-e092419c4618",
   "metadata": {},
   "outputs": [
    {
     "name": "stdout",
     "output_type": "stream",
     "text": [
      "140706323223464\n",
      "140706323223464\n"
     ]
    }
   ],
   "source": [
    "# revisamos la posición de memoria de \"k\" e \"l\" \n",
    "print(id(k))\n",
    "print(id(l))"
   ]
  },
  {
   "cell_type": "code",
   "execution_count": 58,
   "id": "78e43f27-bacd-4ccc-9f03-3dd8398703b5",
   "metadata": {},
   "outputs": [
    {
     "data": {
      "text/plain": [
       "True"
      ]
     },
     "execution_count": 58,
     "metadata": {},
     "output_type": "execute_result"
    }
   ],
   "source": [
    "k is l"
   ]
  },
  {
   "cell_type": "code",
   "execution_count": 59,
   "id": "98cd9223-e0dc-4c64-a84b-d7b701f49cfc",
   "metadata": {},
   "outputs": [],
   "source": [
    "m = 5.0"
   ]
  },
  {
   "cell_type": "code",
   "execution_count": 60,
   "id": "bee26831-b20d-4174-9334-670a8fa0f21f",
   "metadata": {},
   "outputs": [
    {
     "data": {
      "text/plain": [
       "True"
      ]
     },
     "execution_count": 60,
     "metadata": {},
     "output_type": "execute_result"
    }
   ],
   "source": [
    "m == k"
   ]
  },
  {
   "cell_type": "code",
   "execution_count": 61,
   "id": "3560dc6b-3b2e-4eef-a0f6-83d96b8ac336",
   "metadata": {},
   "outputs": [
    {
     "data": {
      "text/plain": [
       "False"
      ]
     },
     "execution_count": 61,
     "metadata": {},
     "output_type": "execute_result"
    }
   ],
   "source": [
    "m is k"
   ]
  },
  {
   "cell_type": "code",
   "execution_count": 62,
   "id": "f22bba40-58a8-4800-bb52-a444176f7484",
   "metadata": {},
   "outputs": [
    {
     "ename": "NameError",
     "evalue": "name 'pal' is not defined",
     "output_type": "error",
     "traceback": [
      "\u001b[1;31m---------------------------------------------------------------------------\u001b[0m",
      "\u001b[1;31mNameError\u001b[0m                                 Traceback (most recent call last)",
      "Cell \u001b[1;32mIn[62], line 2\u001b[0m\n\u001b[0;32m      1\u001b[0m una_mas \u001b[38;5;241m=\u001b[39m \u001b[38;5;124m\"\u001b[39m\u001b[38;5;124mAlpha\u001b[39m\u001b[38;5;124m\"\u001b[39m\n\u001b[1;32m----> 2\u001b[0m pal \u001b[38;5;129;01mis\u001b[39;00m una_mas\n",
      "\u001b[1;31mNameError\u001b[0m: name 'pal' is not defined"
     ]
    }
   ],
   "source": [
    "una_mas = \"Alpha\"\n",
    "pal is una_mas"
   ]
  },
  {
   "cell_type": "markdown",
   "id": "d0238000-0265-470b-ae65-c3681ff45fbb",
   "metadata": {},
   "source": [
    "### **4.2. Operador `is not`**"
   ]
  },
  {
   "cell_type": "markdown",
   "id": "61097fe6-785c-4978-bbaf-e0ff259590cc",
   "metadata": {},
   "source": [
    "##### **El segundo operador de identidad \"is not\", que significa \"no es\", es el contrario al anterior y sirve para saber si dos datos ocupan lugares distintas posiciones de memoria. Por lo tanto, sirve para averiguar si hablamos o no de objetos distintos.**"
   ]
  },
  {
   "cell_type": "code",
   "execution_count": 51,
   "id": "dac5a389-0760-4a51-ac62-7cc41ea7fc4a",
   "metadata": {},
   "outputs": [],
   "source": [
    "# Les queda de práctica"
   ]
  },
  {
   "cell_type": "markdown",
   "id": "2eb8a4ce-a7aa-43ae-b068-f6996e257457",
   "metadata": {},
   "source": [
    "<h1 style=\"background-color: #24043d; color: white; padding: 25px;\">\n",
    "   Operadores &#8545;\r\n",
    "</h1>"
   ]
  },
  {
   "cell_type": "code",
   "execution_count": null,
   "id": "ed7346b6-2e09-406c-af92-4afc5072a70a",
   "metadata": {},
   "outputs": [],
   "source": [
    "# Para después de ver booleanos"
   ]
  },
  {
   "cell_type": "markdown",
   "id": "227ab9a6-9974-46a3-aa80-61469b2d660f",
   "metadata": {},
   "source": [
    "<h2 style=\"background-color: #24043d; color: white; padding: 12px;\">\n",
    "    5. Operadores de comparación\n",
    "</h2>"
   ]
  },
  {
   "cell_type": "markdown",
   "id": "3fa38c34-1cde-4a87-ac8f-1bde3b5b95d3",
   "metadata": {},
   "source": [
    "### **5.1. Igualdad (relacional) `==` y desigualdad `!=`**"
   ]
  },
  {
   "cell_type": "markdown",
   "id": "70376c69-1c26-426f-96c7-1629cdabbb65",
   "metadata": {},
   "source": [
    "##### **El operador de igualdad sirve para comparar dos valores de expresiones, pueden ser numéricos o datos más complejos**"
   ]
  },
  {
   "cell_type": "code",
   "execution_count": 68,
   "id": "8cf1e51c-598d-45ba-9200-77cfe8568cf5",
   "metadata": {},
   "outputs": [],
   "source": [
    "a = 3\n",
    "b = 25"
   ]
  },
  {
   "cell_type": "code",
   "execution_count": 69,
   "id": "41dec888-8b11-4bc9-a700-0a9253b346d3",
   "metadata": {},
   "outputs": [
    {
     "data": {
      "text/plain": [
       "False"
      ]
     },
     "execution_count": 69,
     "metadata": {},
     "output_type": "execute_result"
    }
   ],
   "source": [
    "a == b"
   ]
  },
  {
   "cell_type": "code",
   "execution_count": 70,
   "id": "71d6d26b-cead-4e6d-8ed9-214f97b96214",
   "metadata": {},
   "outputs": [
    {
     "data": {
      "text/plain": [
       "True"
      ]
     },
     "execution_count": 70,
     "metadata": {},
     "output_type": "execute_result"
    }
   ],
   "source": [
    "25 == b"
   ]
  },
  {
   "cell_type": "code",
   "execution_count": 71,
   "id": "77a3e6a5-2a1c-40bb-ae62-a3799cf71206",
   "metadata": {},
   "outputs": [
    {
     "data": {
      "text/plain": [
       "True"
      ]
     },
     "execution_count": 71,
     "metadata": {},
     "output_type": "execute_result"
    }
   ],
   "source": [
    "(25 == b) == (b == 25)"
   ]
  },
  {
   "cell_type": "markdown",
   "id": "88e7f5de-2201-4f14-a3a6-46c9ccbcb555",
   "metadata": {},
   "source": [
    "##### **El operador de desigualdad también compara el valor de dos expresiones y nos dice si son diferentes**"
   ]
  },
  {
   "cell_type": "code",
   "execution_count": 2,
   "id": "8d23ba3f-a130-4a23-9d4e-62ac76647d5e",
   "metadata": {},
   "outputs": [],
   "source": [
    "lista_a = [1, 2, 3, 4, 5]\n",
    "lista_b = [1, 2, 3, 4, 5,6]"
   ]
  },
  {
   "cell_type": "code",
   "execution_count": 4,
   "id": "a7ac5dc0-3225-4362-9c90-462a27e170b8",
   "metadata": {},
   "outputs": [
    {
     "name": "stdout",
     "output_type": "stream",
     "text": [
      "False\n",
      "2031689474688\n",
      "2031689250624\n"
     ]
    }
   ],
   "source": [
    "# comparar, ver posición de memoria\n",
    "print(lista_a != lista_b)\n",
    "print(id(lista_a))\n",
    "print(id(lista_b))"
   ]
  },
  {
   "cell_type": "markdown",
   "id": "8b7cd8b3-64e1-471b-9948-6b44c48d1dc6",
   "metadata": {},
   "source": [
    "### **5.2. Mayor que  `>` y menor que `<`**"
   ]
  },
  {
   "cell_type": "markdown",
   "id": "ee12e5ee-c760-4bc1-bc9f-6fb6147d8a3e",
   "metadata": {},
   "source": [
    "##### **El operador \"mayor que\" compara dos expresiones y devuelve True(verdadero) si la expresión de la izquierda es mayor que la de la derecha. En caso contrario, devuelve False.**"
   ]
  },
  {
   "cell_type": "code",
   "execution_count": 72,
   "id": "4c9c9948-73ad-4d43-be1d-6cfd343d20bf",
   "metadata": {},
   "outputs": [
    {
     "name": "stdout",
     "output_type": "stream",
     "text": [
      "False\n"
     ]
    }
   ],
   "source": [
    "# valores numéricos\n",
    "c = 10\n",
    "d = 20\n",
    "print(c > d)"
   ]
  },
  {
   "cell_type": "code",
   "execution_count": 12,
   "id": "becc9a1c-e19c-4fd1-9a34-6304735fe589",
   "metadata": {},
   "outputs": [
    {
     "name": "stdout",
     "output_type": "stream",
     "text": [
      "False\n"
     ]
    }
   ],
   "source": [
    "# comparación de strings\n",
    "string_uno = \"abcdefghi\"\n",
    "string_dos = \"abcdefphi\"\n",
    "print(string_uno > string_dos)"
   ]
  },
  {
   "cell_type": "code",
   "execution_count": 10,
   "id": "4426c167-362a-43af-bb01-60c76a49bf9c",
   "metadata": {},
   "outputs": [
    {
     "data": {
      "text/plain": [
       "False"
      ]
     },
     "execution_count": 10,
     "metadata": {},
     "output_type": "execute_result"
    }
   ],
   "source": [
    "# comparación posición a posición\n",
    "lista_c = [0,2,3,1]\n",
    "lista_b = [1,2,3]\n",
    "\n",
    "lista_c > lista_b"
   ]
  },
  {
   "cell_type": "markdown",
   "id": "a2a6e14f-4915-4d02-a500-c4da956595bc",
   "metadata": {},
   "source": [
    "##### **¿Cómo evito confundirme con estos dos operadores?**"
   ]
  },
  {
   "cell_type": "markdown",
   "id": "c6f8dad8-4ff3-4936-8d99-44f669a34bac",
   "metadata": {},
   "source": [
    "# . < :"
   ]
  },
  {
   "cell_type": "markdown",
   "id": "7bd7d963-e109-43c8-89c0-19b243d444f3",
   "metadata": {},
   "source": [
    "# : > ."
   ]
  },
  {
   "cell_type": "markdown",
   "id": "ac41e7d5-5882-4d81-9c0a-0ee87b5592f6",
   "metadata": {},
   "source": [
    "### **5.3. Mayor o igual que `>=`;  menor o igual que `<=`**"
   ]
  },
  {
   "cell_type": "markdown",
   "id": "e30fc5ac-2e64-445e-8bbe-599a3489ed59",
   "metadata": {},
   "source": [
    "##### **Estos símbolos son muy similares a los anteriores pero con un agregado muy importante, incluyen una igualdad.**"
   ]
  },
  {
   "cell_type": "code",
   "execution_count": 73,
   "id": "90b13d9f-382b-4fa3-a696-14f648a9dc5a",
   "metadata": {},
   "outputs": [
    {
     "name": "stdout",
     "output_type": "stream",
     "text": [
      "True\n",
      "True\n"
     ]
    }
   ],
   "source": [
    "# ejemplo numérico\n",
    "print(5 >= 5)\n",
    "# ejemplo de string\n",
    "print(\"triste\" >= \"Triste\")"
   ]
  },
  {
   "cell_type": "code",
   "execution_count": 74,
   "id": "fa3bb9aa-64af-4f73-bb03-1cccf51702f2",
   "metadata": {},
   "outputs": [
    {
     "name": "stdout",
     "output_type": "stream",
     "text": [
      "False\n"
     ]
    }
   ],
   "source": [
    "# ejemplo de listas\n",
    "lista_c = [1,2,3]\n",
    "lista_d = [2,2,3]\n",
    "print(lista_c >= lista_d)"
   ]
  },
  {
   "cell_type": "code",
   "execution_count": 75,
   "id": "5450e93b-a94a-4f0a-b1a4-ea32549c11dd",
   "metadata": {},
   "outputs": [
    {
     "name": "stdout",
     "output_type": "stream",
     "text": [
      "True\n"
     ]
    }
   ],
   "source": [
    "print(\"a\" <= \"b\")"
   ]
  },
  {
   "cell_type": "markdown",
   "id": "b5cf091f-c93e-40b8-b514-72b8b75312eb",
   "metadata": {},
   "source": [
    "### **5.4. Un caso de comparación: ¿Por qué las strings son case sensitive?**"
   ]
  },
  {
   "cell_type": "code",
   "execution_count": 76,
   "id": "456ed9ea-440e-440a-b4f5-7dc829f485c2",
   "metadata": {},
   "outputs": [
    {
     "data": {
      "text/plain": [
       "False"
      ]
     },
     "execution_count": 76,
     "metadata": {},
     "output_type": "execute_result"
    }
   ],
   "source": [
    "\"a\" == \"A\""
   ]
  },
  {
   "cell_type": "code",
   "execution_count": 77,
   "id": "43432175-d645-4e7c-90b1-4c70e2a264cd",
   "metadata": {},
   "outputs": [
    {
     "data": {
      "text/plain": [
       "False"
      ]
     },
     "execution_count": 77,
     "metadata": {},
     "output_type": "execute_result"
    }
   ],
   "source": [
    "\"a\" < \"A\""
   ]
  },
  {
   "cell_type": "code",
   "execution_count": 78,
   "id": "37ae9d62-1484-403e-8657-fcbc175bc149",
   "metadata": {},
   "outputs": [
    {
     "name": "stdout",
     "output_type": "stream",
     "text": [
      "97\n"
     ]
    }
   ],
   "source": [
    "print(ord(\"a\"))"
   ]
  },
  {
   "cell_type": "code",
   "execution_count": 79,
   "id": "6577707f-0679-4e5e-9ade-11d60ed904eb",
   "metadata": {},
   "outputs": [
    {
     "name": "stdout",
     "output_type": "stream",
     "text": [
      "65\n"
     ]
    }
   ],
   "source": [
    "print(ord(\"A\"))"
   ]
  },
  {
   "cell_type": "code",
   "execution_count": null,
   "id": "92323757-96fe-411d-9a33-6a8aec0579a6",
   "metadata": {},
   "outputs": [],
   "source": []
  },
  {
   "cell_type": "markdown",
   "id": "404f2651-8746-4ad7-8347-b36f18970c9c",
   "metadata": {},
   "source": [
    "<h2 style=\"background-color: #24043d; color: white; padding: 12px;\">\n",
    "    6. Operadores pertenencia\n",
    "</h2>"
   ]
  },
  {
   "cell_type": "markdown",
   "id": "b8a8c2b4-2012-4831-a699-61e3f5856668",
   "metadata": {},
   "source": [
    "### **6.1. Operador `in`**"
   ]
  },
  {
   "cell_type": "markdown",
   "id": "60120794-074d-470b-b928-74442fee2222",
   "metadata": {},
   "source": [
    "##### **El nombre de este operador proviene del inglés, significa \"en\" y se utiliza para encontrar un elemento dentro de una secuencia (o en otras estructuras de datos).**"
   ]
  },
  {
   "cell_type": "code",
   "execution_count": 5,
   "id": "b2a72f4f-b7a0-44b4-93e9-d46aade0517d",
   "metadata": {},
   "outputs": [
    {
     "name": "stdout",
     "output_type": "stream",
     "text": [
      "True\n",
      "False\n",
      "False\n",
      "True\n"
     ]
    }
   ],
   "source": [
    "palabra = \"Pertenencia\"\n",
    "print(\"t\" in palabra)\n",
    "print(\"w\" in palabra)\n",
    "print(\"p\" in palabra)\n",
    "print(\"P\" in palabra)"
   ]
  },
  {
   "cell_type": "code",
   "execution_count": 1,
   "id": "aec9f7c7-8d47-4035-ad89-8eab6f7d5b64",
   "metadata": {},
   "outputs": [
    {
     "name": "stdout",
     "output_type": "stream",
     "text": [
      "True\n",
      "False\n"
     ]
    }
   ],
   "source": [
    "mi_diccionario = {'a': 1, 'b': 2, 'c': 3}\n",
    "print('a' in mi_diccionario)  # True (Verifica si la clave 'a' está presente en el diccionario)\n",
    "print('z' in mi_diccionario)  # False (Verifica si la clave 'z' está presente en el diccionario)\n"
   ]
  },
  {
   "cell_type": "markdown",
   "id": "06690eb2-a516-4586-a27f-f0405859f87d",
   "metadata": {},
   "source": [
    "### **6.2. Operador `not in`**"
   ]
  },
  {
   "cell_type": "code",
   "execution_count": 81,
   "id": "f8a04991-790a-4645-8aba-71ba1af91aa7",
   "metadata": {},
   "outputs": [
    {
     "data": {
      "text/plain": [
       "False"
      ]
     },
     "execution_count": 81,
     "metadata": {},
     "output_type": "execute_result"
    }
   ],
   "source": [
    "lista_f = [1,3,5]\n",
    "lista_g = [1,3,5]\n",
    "lista_f is lista_g"
   ]
  },
  {
   "cell_type": "markdown",
   "id": "00ba46fa-95d2-4791-af40-0807f977b35f",
   "metadata": {},
   "source": [
    "##### **El nombre de este operador podría traducirse como \"no está en\" y se utiliza para consultar si un elemento no se encuentra en una secuencia (o en otras estructuras de datos)**"
   ]
  },
  {
   "cell_type": "code",
   "execution_count": 19,
   "id": "1cb47c2b-a91d-498f-9d2a-5d9c24e5a5c0",
   "metadata": {},
   "outputs": [
    {
     "name": "stdout",
     "output_type": "stream",
     "text": [
      "False\n"
     ]
    }
   ],
   "source": [
    "lista_d = [1, 1, 2, 3, 5, 8, 13, 21]\n",
    "print(5 not in lista_d)"
   ]
  },
  {
   "cell_type": "code",
   "execution_count": null,
   "id": "370ff3d4-6f50-414e-abbe-70bcf36d1965",
   "metadata": {},
   "outputs": [],
   "source": []
  },
  {
   "cell_type": "markdown",
   "id": "8530cbd8-1eb1-4e45-a45d-c0d3d05e98cc",
   "metadata": {},
   "source": [
    "| Tipo de Operador          | Operadores                            | Ejemplo                |\n",
    "|---------------------------|---------------------------------------|------------------------|\n",
    "| Aritmético                | +, -, *, /, //, %, **                 | `a + b`, `x * y`       |\n",
    "| Comparación               | ==, !=, >, <, >=, <=                  | `x == y`, `a > b`      |\n",
    "| Asignación                | =, +=, -=, *=, /=, //=, %=            | `x = 10`, `y += 5`     |\n",
    "| Identidad                 | is, is not                            | `x is y`, `a is not b` |\n",
    "| Pertenencia               | in, not in                            | `x in y`, `a not in b` |\n",
    "| Lógico                    | and, or, not                          | `x and y`, `not x`     |"
   ]
  },
  {
   "cell_type": "markdown",
   "id": "092d8150-8eba-429e-904f-999323fa64d6",
   "metadata": {},
   "source": [
    "<h4 style=\"background-color: #E7E118; color: black; padding: 12px;\">\n",
    "   Importante!\n",
    "</h4>"
   ]
  },
  {
   "cell_type": "markdown",
   "id": "7457f8cb-923c-4618-b908-ca52f4908cce",
   "metadata": {},
   "source": [
    "####  **&#8544;)**\n",
    "##### **1)  Una posición de memoria es única e irrepetible; no existen dos posiciones de memoria con el mismo número que las identifique.**  \n",
    "##### **2)  Dos objetos no pueden ocupar el mismo lugar de memoria al mismo tiempo**  \n",
    "##### **3)  En consecuencia, la posición de memoria se usa para identificar a los objetos en Python**"
   ]
  },
  {
   "cell_type": "markdown",
   "id": "06c742b6-d9d1-495d-8d17-5d45c14f942f",
   "metadata": {},
   "source": [
    "#### **&#8545;)**\n",
    "#####  **Python optimiza el manejo de datos inmutables(caracteres, strings, datos numéricos). Si un dato inmutable es creado, Python lo almacena en una posición de memoria específica. Luego si se declara otra variable con el mismo contenido, Python creará una referencia al primer dato; no creará uno nuevo.** "
   ]
  },
  {
   "cell_type": "code",
   "execution_count": null,
   "id": "41c2d6c6-8016-4b81-8d48-bee67740c8c7",
   "metadata": {},
   "outputs": [],
   "source": []
  },
  {
   "cell_type": "markdown",
   "id": "eaf938fc-6fe6-4a67-9054-ed9c0411e7d5",
   "metadata": {},
   "source": [
    "<h2 style=\"background-color: #24043d; color: white; padding: 12px;\">\n",
    "    8. Operadores lógicos\n",
    "</h2>"
   ]
  },
  {
   "cell_type": "markdown",
   "id": "6aa1a282-65dc-4f1a-9517-94b5bf2a19f1",
   "metadata": {},
   "source": [
    "Un operador lógico es un símbolo o conjunto de símbolos utilizados en lógica proposicional y en programación para combinar, modificar o negar proposiciones o expresiones booleanas. Estas expresiones booleanas representan valores de verdad, que pueden ser verdadero (True) o falso (False). Los operadores lógicos permiten realizar operaciones sobre estos valores de verdad para evaluar condiciones y tomar decisiones en el flujo de un programa."
   ]
  },
  {
   "cell_type": "markdown",
   "id": "f38a37b3-0f4f-4778-b909-a8306e70a6b0",
   "metadata": {},
   "source": [
    "### **8.1. Operador `and`**"
   ]
  },
  {
   "cell_type": "markdown",
   "id": "99359401-aa63-497a-a43f-1c8f57f2a83b",
   "metadata": {},
   "source": [
    "##### **El operador `and` es el símbolo con el que se realiza la conjunción lógica**"
   ]
  },
  {
   "cell_type": "code",
   "execution_count": null,
   "id": "48e2d468-31bf-4fa9-a581-4a98b1616517",
   "metadata": {},
   "outputs": [],
   "source": [
    "Tabla de verdad del operador and"
   ]
  },
  {
   "cell_type": "markdown",
   "id": "378d4f17-579f-41a5-b1db-114567eb391a",
   "metadata": {},
   "source": [
    "| P     | Q     | P and Q |\r\n",
    "|-------|-------|---------|\r\n",
    "| True  | True  | True    |\r\n",
    "| True  | False | False   |\r\n",
    "| False | True  | False   |\r\n",
    "| False | False | False   |"
   ]
  },
  {
   "cell_type": "code",
   "execution_count": 1,
   "id": "cfc882cd-50e9-4546-8c44-8ca55458a3bb",
   "metadata": {},
   "outputs": [
    {
     "data": {
      "text/plain": [
       "True"
      ]
     },
     "execution_count": 1,
     "metadata": {},
     "output_type": "execute_result"
    }
   ],
   "source": [
    "print(5 < 10 and 5 < 15)"
   ]
  },
  {
   "cell_type": "code",
   "execution_count": 2,
   "id": "478742d3-d824-475e-8049-3abd96274e64",
   "metadata": {},
   "outputs": [
    {
     "data": {
      "text/plain": [
       "False"
      ]
     },
     "execution_count": 2,
     "metadata": {},
     "output_type": "execute_result"
    }
   ],
   "source": [
    "print(5 < 10 and 5 < 0)"
   ]
  },
  {
   "cell_type": "code",
   "execution_count": 9,
   "id": "756714b3-953e-4093-b16e-1d4b4792f82f",
   "metadata": {},
   "outputs": [
    {
     "name": "stdout",
     "output_type": "stream",
     "text": [
      "el largo de hola es: 4\n",
      "el largo de logica es: 6\n",
      "el largo de con_python es: 10\n"
     ]
    }
   ],
   "source": [
    "hola = \"hola\"\n",
    "print(f\"el largo de hola es: {len(hola)}\")\n",
    "logica = \"lógica\"\n",
    "print(f\"el largo de logica es: {len(logica)}\")\n",
    "con_python = \"Con Python\"\n",
    "print(f\"el largo de con_python es: {len(con_python)}\")"
   ]
  },
  {
   "cell_type": "code",
   "execution_count": 26,
   "id": "1a114d45-1f3f-4421-9c2b-bd3546709e74",
   "metadata": {},
   "outputs": [
    {
     "name": "stdout",
     "output_type": "stream",
     "text": [
      "False\n"
     ]
    }
   ],
   "source": [
    "print(len(hola) > len(logica) and len(con_python) > len(hola))"
   ]
  },
  {
   "cell_type": "code",
   "execution_count": 27,
   "id": "b432436c-e796-49c9-8c76-7c6cbc22ac47",
   "metadata": {},
   "outputs": [
    {
     "name": "stdout",
     "output_type": "stream",
     "text": [
      "False\n"
     ]
    }
   ],
   "source": [
    "print(len(logica) > len(con_python) and len(con_python) < len(hola))"
   ]
  },
  {
   "cell_type": "markdown",
   "id": "b0e2114d-bca9-4d6f-9a12-4065776a4ef8",
   "metadata": {},
   "source": [
    "### **8.2. Operador `or`**"
   ]
  },
  {
   "cell_type": "markdown",
   "id": "05f93d9c-8ef1-4f46-be57-c009e2692ec1",
   "metadata": {},
   "source": [
    "##### **Con el operador `or` podemos realizar la disyunción lógica**"
   ]
  },
  {
   "cell_type": "markdown",
   "id": "1c4be80a-4cd6-4ffb-acc9-a050cc56ad15",
   "metadata": {},
   "source": [
    "| P     | Q     | P or Q |\n",
    "|-------|-------|--------|\n",
    "| True  | True  | True   |\n",
    "| True  | False | True   |\n",
    "| False | True  | True   |\n",
    "| False | False | False  |\n"
   ]
  },
  {
   "cell_type": "code",
   "execution_count": 28,
   "id": "6941450f-fe80-4ba8-a809-9e66a404f4d5",
   "metadata": {},
   "outputs": [
    {
     "name": "stdout",
     "output_type": "stream",
     "text": [
      "True\n"
     ]
    }
   ],
   "source": [
    "print(len(hola) == 6 or len(hola) < len(con_python))"
   ]
  },
  {
   "cell_type": "code",
   "execution_count": 29,
   "id": "8095a880-65e8-429b-93d4-9bb70112b900",
   "metadata": {},
   "outputs": [
    {
     "name": "stdout",
     "output_type": "stream",
     "text": [
      "False\n"
     ]
    }
   ],
   "source": [
    "print(len(hola) == 6 or len(hola) == 7)"
   ]
  },
  {
   "cell_type": "code",
   "execution_count": 30,
   "id": "c764f044-2b3c-40ae-bcd9-e5dabdc28107",
   "metadata": {},
   "outputs": [
    {
     "name": "stdout",
     "output_type": "stream",
     "text": [
      "True\n"
     ]
    }
   ],
   "source": [
    "print(len(con_python) > 50 or len(con_python) % 2 == 0)"
   ]
  },
  {
   "cell_type": "code",
   "execution_count": 31,
   "id": "da563072-eb16-403d-ad1f-1aa4472eaa42",
   "metadata": {},
   "outputs": [
    {
     "name": "stdout",
     "output_type": "stream",
     "text": [
      "False\n"
     ]
    }
   ],
   "source": [
    "print(len(logica) % 2 != 0 or len(con_python) % 2 != 0)"
   ]
  },
  {
   "cell_type": "markdown",
   "id": "7f3f6726-a22d-4bfb-bbff-4a2bf0e90db0",
   "metadata": {},
   "source": [
    "### **8.3. Operador `not`**"
   ]
  },
  {
   "cell_type": "markdown",
   "id": "53428e24-fd3c-4255-aaf1-6ac792e3ad1f",
   "metadata": {},
   "source": [
    "##### **El operador not, nos sirve para realizar la negación lógica.**"
   ]
  },
  {
   "cell_type": "markdown",
   "id": "32c28aec-eccc-48ea-be28-2f5de7e55ac3",
   "metadata": {},
   "source": [
    "| P     | not P |\n",
    "|-------|-------|\n",
    "| True  | False |\n",
    "| False | True  |\n"
   ]
  },
  {
   "cell_type": "code",
   "execution_count": 32,
   "id": "96e06b2c-b83e-47fb-a722-24e733bf8d51",
   "metadata": {},
   "outputs": [
    {
     "name": "stdout",
     "output_type": "stream",
     "text": [
      "False\n"
     ]
    }
   ],
   "source": [
    "print(6 == 7)"
   ]
  },
  {
   "cell_type": "code",
   "execution_count": 33,
   "id": "8699106c-edc4-4bb1-bd3f-08c7432bf295",
   "metadata": {},
   "outputs": [
    {
     "name": "stdout",
     "output_type": "stream",
     "text": [
      "True\n"
     ]
    }
   ],
   "source": [
    "print(not 6 == 7)"
   ]
  },
  {
   "cell_type": "code",
   "execution_count": 34,
   "id": "6debe0b7-5fa8-4bde-a6ab-2aff7cc2a2a0",
   "metadata": {},
   "outputs": [
    {
     "name": "stdout",
     "output_type": "stream",
     "text": [
      "False\n"
     ]
    }
   ],
   "source": [
    "print(len(hola) == 6)"
   ]
  },
  {
   "cell_type": "code",
   "execution_count": 35,
   "id": "ef7c318f-ceb9-4831-9698-1c4bfab598c3",
   "metadata": {},
   "outputs": [
    {
     "name": "stdout",
     "output_type": "stream",
     "text": [
      "True\n"
     ]
    }
   ],
   "source": [
    "print(not len(hola) == 6)"
   ]
  },
  {
   "cell_type": "code",
   "execution_count": null,
   "id": "fec7b7ea-3e2a-4c88-9343-b7d37dc394dc",
   "metadata": {},
   "outputs": [],
   "source": []
  },
  {
   "cell_type": "markdown",
   "id": "7a95ae5c-65dc-4af3-acc4-d89c467509c1",
   "metadata": {},
   "source": [
    "<h2 style=\"background-color: #24043d; color: white; padding: 12px;\">\n",
    "    9. Precedencia\n",
    "</h2>"
   ]
  },
  {
   "cell_type": "markdown",
   "id": "54491b0b-7853-4af7-bec7-e3388a0626b7",
   "metadata": {},
   "source": [
    "| Precedencia | Operadores            | Descripción                                    |\n",
    "|-------------|-----------------------|------------------------------------------------|\n",
    "| 1           | `()`| Expresiones con paréntesis|\n",
    "| 2           | `**`                  | Exponenciación                                 |\n",
    "| 3           | `+x`, `-x`     | Positivo, negativo      |\n",
    "| 4           | `*`, `/`, `//`, `%` | Multiplicación, división, división entera, módulo |\n",
    "| 5           | `+`, `-`             | Adición y sustracción                          |\n",
    "| 6           | `in`, `not in`, `is`, `is not`, `<`, `<=`, `>`, `>=`, `!=`, `==` | Comparaciones, membresía y pruebas de identidad |\n",
    "| 7           | `not x`              | Negación booleana                              |\n",
    "| 8           | `and`                | AND lógico                                     |\n",
    "| 9           | `or`                 | OR lógico                                      |\n",
    "|10           | `=`,`+=`,`-=`,`/=`,`//=`,`*=`,`%=`| Operadores de asignación         |"
   ]
  },
  {
   "cell_type": "markdown",
   "id": "cf5ce420-cb6e-4ecd-806c-284ba4f1d689",
   "metadata": {},
   "source": [
    "<p style=\"background-color: #C483F7; color: black; padding: 12px;\">\n",
    "    Definición: <b>La precedencia</b> es una regla que señala el orden en el que se deben ejecutar las operaciones. La tabla de arriba está ordenada de arriba hacia abajo, según el orden de precedencia. Dicho de otra manera, cuanto más arriba, en la tabla, esté un operador mayor prioridad tiene esa operación.\n",
    "</p>"
   ]
  },
  {
   "cell_type": "markdown",
   "id": "a9a1aa5d-b598-4531-9dc1-dd07cb15b19d",
   "metadata": {},
   "source": [
    "##### **Ejemplo con números**"
   ]
  },
  {
   "cell_type": "code",
   "execution_count": 36,
   "id": "cd932c95-e3e3-4020-b590-3a8f2319a0c6",
   "metadata": {},
   "outputs": [
    {
     "name": "stdout",
     "output_type": "stream",
     "text": [
      "10.5\n"
     ]
    }
   ],
   "source": [
    "print(5 * 2 + 3 / 2 - 1)"
   ]
  },
  {
   "cell_type": "code",
   "execution_count": 37,
   "id": "891db54c-00e2-401b-be6f-24567ed7488e",
   "metadata": {},
   "outputs": [
    {
     "name": "stdout",
     "output_type": "stream",
     "text": [
      "10.5\n"
     ]
    }
   ],
   "source": [
    "print(10 + 1.5 - 1)"
   ]
  },
  {
   "cell_type": "code",
   "execution_count": 38,
   "id": "7534bd84-3ee7-40e8-94ea-d54c47108560",
   "metadata": {},
   "outputs": [
    {
     "name": "stdout",
     "output_type": "stream",
     "text": [
      "10.5\n"
     ]
    }
   ],
   "source": [
    "print(11.5 - 1)"
   ]
  },
  {
   "cell_type": "code",
   "execution_count": 65,
   "id": "e4ad6328-a173-4265-9275-6b96a00ff7b9",
   "metadata": {},
   "outputs": [
    {
     "name": "stdout",
     "output_type": "stream",
     "text": [
      "100\n"
     ]
    }
   ],
   "source": [
    "k = 100\n",
    "print(k)"
   ]
  },
  {
   "cell_type": "code",
   "execution_count": 66,
   "id": "fefe6fb8-6f98-4a47-819f-783791c2cebd",
   "metadata": {},
   "outputs": [
    {
     "name": "stdout",
     "output_type": "stream",
     "text": [
      "110.0\n"
     ]
    }
   ],
   "source": [
    "# ejemplo de operador compuesto, solo para ejemplificar el orden de precedencia. No hagan esto en su código porque no es código claro.\n",
    "k += 5 + 10 /2  \n",
    "print(k)"
   ]
  },
  {
   "cell_type": "markdown",
   "id": "7c275ea6-217a-43e4-869f-f6a50bfe55b2",
   "metadata": {},
   "source": [
    "##### **Ejemplo con strings**"
   ]
  },
  {
   "cell_type": "code",
   "execution_count": 84,
   "id": "0a1aa4ed-1525-4023-babe-793243006c75",
   "metadata": {},
   "outputs": [],
   "source": [
    "una = \"Una \""
   ]
  },
  {
   "cell_type": "code",
   "execution_count": 87,
   "id": "3bbc9e6d-bb4e-4e66-83cc-75a88e14a840",
   "metadata": {},
   "outputs": [],
   "source": [
    "palabra = \"palabra \""
   ]
  },
  {
   "cell_type": "code",
   "execution_count": 88,
   "id": "5da846b7-10cc-4bd1-97c2-455ed9f9a96a",
   "metadata": {},
   "outputs": [
    {
     "name": "stdout",
     "output_type": "stream",
     "text": [
      "Una palabra palabra palabra palabra \n"
     ]
    }
   ],
   "source": [
    "print(una + palabra * 4)"
   ]
  },
  {
   "cell_type": "code",
   "execution_count": null,
   "id": "59d2e1ff-eb42-4d56-bb6f-bf8949128685",
   "metadata": {},
   "outputs": [],
   "source": []
  },
  {
   "cell_type": "markdown",
   "id": "17114488-ddf0-4a7f-bdda-3e4cfdf5b84c",
   "metadata": {},
   "source": [
    "<h4 style=\"background-color: #E7E118; color: black; padding: 12px;\">\n",
    "   Importante!\n",
    "</h4>"
   ]
  },
  {
   "cell_type": "markdown",
   "id": "f8edc4c9-800d-48e1-aef5-7514f8852439",
   "metadata": {},
   "source": [
    "##### **Entender las reglas de precedencia y familirizarse con ellas, es vital para evitar ambigüedades y escribir operaciones incorrectas a la hora de desarrollar nuestro código.**"
   ]
  },
  {
   "cell_type": "code",
   "execution_count": null,
   "id": "df95f68f-f526-42a0-a76b-20548d83b98f",
   "metadata": {},
   "outputs": [],
   "source": []
  },
  {
   "cell_type": "markdown",
   "id": "b763cf19-a7b2-4aeb-8a2d-9a59c4d908e2",
   "metadata": {},
   "source": [
    "<h4 style=\"background-color: #D27E24; color: black; padding: 12px;\">\n",
    "    ¿Qué puede salir mal?\n",
    "</h4>"
   ]
  },
  {
   "cell_type": "markdown",
   "id": "0168e1c0-3af1-4e8d-8cbd-274b67614a4c",
   "metadata": {},
   "source": [
    "##### **&#8544;) Ser ambigüos: En expresiones complejas, la falta de paréntesis o el desconocimiento de las reglas de precedencia pueden llevarnos a ambigüedades en el código, lo que resulta en resultados inesperados o incorrectos.**"
   ]
  },
  {
   "cell_type": "markdown",
   "id": "f813174e-028d-409e-99bb-438e1881c5d9",
   "metadata": {},
   "source": [
    "##### **&#8545;) Aplicar operadores a tipos de datos incompatibles puede resultar en conversiones automáticas de tipo o en errores de tipo que pueden causar comportamientos inesperados.**\n",
    "##### &nbsp;&nbsp;&nbsp;&nbsp;**Ejemplo:**\n",
    "##### &nbsp;&nbsp;&nbsp;&nbsp;**numero = \"10\"**\n",
    "##### &nbsp;&nbsp;&nbsp;&nbsp;**suma = numero + 5**"
   ]
  },
  {
   "cell_type": "markdown",
   "id": "7d1bcd6b-052d-42d5-9adf-877f1b1edf00",
   "metadata": {},
   "source": [
    "##### **&#8546;) Un error muy común es confundir el operador de asignación de variables `=` con el de comparación `==`**"
   ]
  },
  {
   "cell_type": "markdown",
   "id": "f4905f58-1d2b-4f54-8961-79daa6538e0f",
   "metadata": {},
   "source": [
    "##### **&#8547;) Algunas operaciones pueden no estar definidas para los datos ingresados.**\n",
    "##### **Ej:**\n",
    "##### **&nbsp;&nbsp;&nbsp;&nbsp; Dividir un número por cero, intentar obtener el módulo cero de un número.**\n"
   ]
  },
  {
   "cell_type": "code",
   "execution_count": null,
   "id": "3f2f8590-6c5b-4782-9963-0db997a51cc5",
   "metadata": {},
   "outputs": [],
   "source": []
  },
  {
   "cell_type": "markdown",
   "id": "82c4f860-9c59-4e51-ad2f-105fa2fece9e",
   "metadata": {},
   "source": [
    "<h4 style=\"background-color: green; color: white; padding: 12px;\">\n",
    "    Buenas prácticas de programación:\n",
    "</h4>"
   ]
  },
  {
   "cell_type": "markdown",
   "id": "4be59a37-cd34-4b46-a29d-aaaf471c73d4",
   "metadata": {},
   "source": [
    "##### **&#8544;) Usar siempre paréntesis para separar expresiones, no es la forma más breve de escribir código pero es la más clara.**\n",
    "##### &nbsp;&nbsp;&nbsp;&nbsp; **Ejemplo: ((a * b) + c) / (d - e)**\n",
    "##### **&#8545;) Evitar sobrecargar una misma línea con una expresión que involucre muchas operaciones.** \n",
    "##### &nbsp;&nbsp;&nbsp;&nbsp; **Ejemplo: resultado = (a * b + c) / (d - e) + (f * g - h) * (i + j) - (k / l)**\n",
    "##### &nbsp;&nbsp;&nbsp;&nbsp;**puede ser dividido en:**\n",
    "##### &nbsp;&nbsp;&nbsp;&nbsp;**primera = ((a * b) + c) / (d - e)**\n",
    "##### &nbsp;&nbsp;&nbsp;&nbsp;**segunda = ((f * g) - h) * (i + j)**\n",
    "##### &nbsp;&nbsp;&nbsp;&nbsp;**tercera = (k / l)**\n",
    "##### &nbsp;&nbsp;&nbsp;&nbsp;**resultado = primera + segunda - tercera**\n",
    "##### **&#8546;) No realizar otras operaciones en la misma línea que se hace una asignación con algún operador compuesto.** \n",
    "##### &nbsp;&nbsp;&nbsp;&nbsp;&nbsp; **Ejemplo: k += 5 + 10 /2**\n"
   ]
  },
  {
   "cell_type": "code",
   "execution_count": null,
   "id": "f4f0a700-5fb2-4783-badb-37fc644f45ad",
   "metadata": {},
   "outputs": [],
   "source": []
  }
 ],
 "metadata": {
  "kernelspec": {
   "display_name": "Python 3 (ipykernel)",
   "language": "python",
   "name": "python3"
  },
  "language_info": {
   "codemirror_mode": {
    "name": "ipython",
    "version": 3
   },
   "file_extension": ".py",
   "mimetype": "text/x-python",
   "name": "python",
   "nbconvert_exporter": "python",
   "pygments_lexer": "ipython3",
   "version": "3.11.8"
  }
 },
 "nbformat": 4,
 "nbformat_minor": 5
}
