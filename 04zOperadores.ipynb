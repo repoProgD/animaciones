{
 "cells": [
  {
   "cell_type": "markdown",
   "id": "09142194-70c7-4374-8c3f-43138ab6af37",
   "metadata": {},
   "source": [
    "<h1 style=\"background-color: #24043d; color: white; padding: 25px;\">\n",
    "   Operadores\n",
    "</h1>"
   ]
  },
  {
   "cell_type": "markdown",
   "id": "ec731e4b-5f20-4299-8b39-1b1d1f4172b7",
   "metadata": {},
   "source": [
    "<h2 style=\"background-color: #24043d; color: white; padding: 12px;\">\n",
    "    1. Definiciones\n",
    "</h2>"
   ]
  },
  {
   "cell_type": "markdown",
   "id": "4211dc10-79c2-4cf0-abbe-495d16089621",
   "metadata": {},
   "source": [
    "<p style=\"background-color: #C483F7; color: black; padding: 12px;\">\n",
    "    Definición: Los <b>operadores</b> son símbolos o palabras clave que se utilizan en programación para realizar operaciones. Estas operaciones pueden ser: de tipo aritmética (para realizar cuentas matemáticas), de comparación, lógicas, asignación, entre otras. Es decir que los operadores indican el tipo de acción que vamos a realizar sobre los datos que los acompañan en una expresión.\n",
    "</p>"
   ]
  },
  {
   "cell_type": "markdown",
   "id": "63e362a1-364b-4784-a1ef-9c55c82e8a60",
   "metadata": {},
   "source": [
    "<p style=\"background-color: #C483F7; color: black; padding: 12px;\">\n",
    "    Definición: Los <b>operandos</b> son los datos que acompañan a los operadores en una expresión. Dicho de otra manera, los operandos son los datos sobre los cuáles se va a realizar la acción indicada por el operador de una expresión.\n",
    "</p>"
   ]
  },
  {
   "cell_type": "markdown",
   "id": "85c8a22e-d1b4-4327-b702-163e448edb74",
   "metadata": {},
   "source": [
    "<p style=\"background-color: #C483F7; color: black; padding: 12px;\">\n",
    "    Sintaxis: Como regla general, los operadores quedan encerrados entre dos operandos. Una expresión típica es <b>operando operador operando</b>, o si lo prefieren de una manera menos formal <b>dato operador dato</b>, como por ejemplo en la suma <b>a + b</b>. Sin embargo, existen algunas excepciones a esta regla como en el caso de la negación lógica(not) y en operaciones de incremento y decremento, por nombrar algunas.\n",
    "</p>"
   ]
  },
  {
   "cell_type": "markdown",
   "id": "87e0ccd9-e8dc-4f25-a8a3-82d41ebde630",
   "metadata": {},
   "source": [
    "### 1.1. Operadores "
   ]
  },
  {
   "cell_type": "markdown",
   "id": "f44d2f61-4082-4ef7-94df-12cb025f5470",
   "metadata": {},
   "source": [
    "| Tipo de Operador          | Operadores                            | Ejemplo                |\n",
    "|---------------------------|---------------------------------------|------------------------|\n",
    "| Aritmético                | +, -, *, /, //, %, **                 | `a + b`, `x * y`       |\n",
    "| Comparación               | ==, !=, >, <, >=, <=                  | `x == y`, `a > b`      |\n",
    "| Lógico                    | and, or, not                          | `x and y`, `not x`     |\n",
    "| Asignación                | =, +=, -=, *=, /=, //=, %=            | `x = 10`, `y += 5`     |\n",
    "| Identidad                 | is, is not                            | `x is y`, `a is not b` |\n",
    "| Pertenencia               | in, not in                            | `x in y`, `a not in b` |\n",
    "| Bit a Bit                 | &, \\|, ^, <<, >>                      | `x & y`, `a ^ b`       |\n"
   ]
  },
  {
   "cell_type": "code",
   "execution_count": null,
   "id": "c52cd537-9c18-4dd5-9ac4-f279a54f6da3",
   "metadata": {},
   "outputs": [],
   "source": []
  },
  {
   "cell_type": "markdown",
   "id": "d324bfcf-85ce-48db-baaa-2a238dedb425",
   "metadata": {},
   "source": [
    "<h2 style=\"background-color: #24043d; color: white; padding: 12px;\">\n",
    "    2. Operadores Aritméticos\n",
    "</h2>"
   ]
  },
  {
   "cell_type": "markdown",
   "id": "0f097483-8333-4164-b9a5-282ce4d9c8e0",
   "metadata": {},
   "source": [
    "### **2.1. Operadores aritméticos básicos**"
   ]
  },
  {
   "cell_type": "markdown",
   "id": "3fd9198a-ede7-4a3c-8425-4cea8e327475",
   "metadata": {},
   "source": [
    "### `+` `-` `*` `/`"
   ]
  },
  {
   "cell_type": "markdown",
   "id": "42defe60-648d-4c2d-93aa-f702863aed9f",
   "metadata": {},
   "source": [
    "##### Son los operadores utilizados para crear las operaciones aritméticas elementales: suma, resta, multiplicación y división. Estos operadores fueron vistos en la sección de tipos de datos númericos en la lección de tipos de datos."
   ]
  },
  {
   "cell_type": "markdown",
   "id": "27cf5a0c-2998-4faf-8b57-9fc3fb8eec44",
   "metadata": {},
   "source": [
    "##### Los operadores de suma y multiplicación se utilizan para operar sobre secuencias. Algo vimos ya en la sección de strings pero también sirven para multiplicar listas, tuplas, entre otras secuencias."
   ]
  },
  {
   "cell_type": "markdown",
   "id": "ab78ce1c-703e-4c35-ab1e-38ba4549f3b8",
   "metadata": {},
   "source": [
    "### **2.2. Operador de división entera**"
   ]
  },
  {
   "cell_type": "markdown",
   "id": "220c9958-8ca1-4918-bd98-5f0ed0ff5abf",
   "metadata": {},
   "source": [
    "### `//`"
   ]
  },
  {
   "cell_type": "code",
   "execution_count": 7,
   "id": "cf892f2e-27c5-4f1b-a14e-1d933d4c656a",
   "metadata": {},
   "outputs": [
    {
     "name": "stdout",
     "output_type": "stream",
     "text": [
      "El resultado de la división es: 2.3333333333333335\n",
      "El resultado de la división entera es: 2\n"
     ]
    }
   ],
   "source": [
    "res = 7/3\n",
    "a = 7//3\n",
    "print(f\"El resultado de la división es: {res}\\nEl resultado de la división entera es: {a}\")"
   ]
  },
  {
   "cell_type": "markdown",
   "id": "3ae21f89-67d3-4b8c-8441-62869d793773",
   "metadata": {},
   "source": [
    "##### Este operador es utilizado para obtener la parte entera de una división. También fue presentado en la lección de tipos de datos pero vale la pena recordarlo"
   ]
  },
  {
   "cell_type": "markdown",
   "id": "f12b79d0-2a57-4cf9-bf68-9293a52e511f",
   "metadata": {},
   "source": [
    "### **2.2. Operador de Potenciación**"
   ]
  },
  {
   "cell_type": "markdown",
   "id": "ef03b1be-88b6-49c3-8ceb-01d0c8f5312e",
   "metadata": {},
   "source": [
    "### `**`"
   ]
  },
  {
   "cell_type": "markdown",
   "id": "95b04f8a-ab31-493d-8fc6-2308d09c95d6",
   "metadata": {},
   "source": [
    "##### Es el operador que se utiliza para realizar cálculos de potencia"
   ]
  },
  {
   "cell_type": "code",
   "execution_count": 40,
   "id": "56a34bb6-35e0-45fe-a875-0a159b02ef61",
   "metadata": {},
   "outputs": [
    {
     "name": "stdout",
     "output_type": "stream",
     "text": [
      "25\n"
     ]
    }
   ],
   "source": [
    "b = 5 ** 2\n",
    "print(b)"
   ]
  },
  {
   "cell_type": "markdown",
   "id": "48b8c6cd-e161-4b05-bd2e-8009bda68819",
   "metadata": {},
   "source": [
    "##### Nota: En Python el cálculo del logaritmo no involucra un operador logaritmo, sino que se usa una función para calcularlo."
   ]
  },
  {
   "cell_type": "markdown",
   "id": "5a2291bf-d8ba-4a99-b685-f20b50cdf40f",
   "metadata": {},
   "source": [
    "### **2.3. Operador módulo (Muy Importante)**"
   ]
  },
  {
   "cell_type": "markdown",
   "id": "c2e9ff96-4e0a-40f7-af1a-42aa736975c9",
   "metadata": {},
   "source": [
    "### `%`"
   ]
  },
  {
   "cell_type": "markdown",
   "id": "5614ddfa-82e4-4672-85d0-37eee9570d67",
   "metadata": {},
   "source": [
    "##### No confundir con porcentaje. El operador módulo se emplea para calcular el resto o residuo de una división."
   ]
  },
  {
   "cell_type": "code",
   "execution_count": 11,
   "id": "2f881df7-5519-4710-8600-1a0a2d1e218c",
   "metadata": {},
   "outputs": [
    {
     "name": "stdout",
     "output_type": "stream",
     "text": [
      "El cociente de 17/5 es: 3.4\n",
      "El residuo de 17/5 es:2\n",
      "5.4\n"
     ]
    }
   ],
   "source": [
    "c = 17 / 5\n",
    "d = 17 % 5\n",
    "e = c + d\n",
    "print(f\"El cociente de 17/5 es: {c}\\nEl residuo de 17/5 es:{d}\")\n",
    "print(e) "
   ]
  },
  {
   "cell_type": "markdown",
   "id": "24d7a690-27f2-4236-aa87-934d9a6bc25b",
   "metadata": {},
   "source": [
    "##### Un poco de mates:\n",
    "##### dividendo/divisor = cociente\n",
    "##### cociente + módulo = dividendo => dividendo - cociente = residuo"
   ]
  },
  {
   "cell_type": "code",
   "execution_count": null,
   "id": "e5597670-3399-4bdd-beee-ca42a243b132",
   "metadata": {},
   "outputs": [],
   "source": [
    "17 / 5          # Realicemos esta división\n",
    "17 - 5 = 12     # Mientras el resultado de la resta sea mayor que 5, volvemos a restar.\n",
    "12 - 5 = 7      # Es mayor que 5. Entonces, seguimos restando\n",
    "7 - 5 = 2       # Cuando el resultado de la resta sea más pequeño que el divisor, no restamos más\n",
    "                # En este caso el residuo es 2"
   ]
  },
  {
   "cell_type": "markdown",
   "id": "1723e8f5-1523-4f63-86d8-5482dea5f1a5",
   "metadata": {},
   "source": [
    "#### **Propiedad 1: El resultado del módulo siempre es menor que el divisor**"
   ]
  },
  {
   "cell_type": "code",
   "execution_count": null,
   "id": "b660ce5a-180f-4510-91f5-28b472a96a71",
   "metadata": {},
   "outputs": [],
   "source": [
    "# RECALCAR QUE EL MÓDULO TIENE MUCHAS UTILIDADES; QUE ES UNA OPERACIÓN QUE LOS VA A MEJORAR COMO PROGRAMADORES Y QUE ADEMÁS LES VA A \n",
    "# ESTAR ABRIENDO LA PUERTA A UNA MANERA DE RAZONAR QUE ESTÁ A OTRO NIVEL"
   ]
  },
  {
   "cell_type": "markdown",
   "id": "18b72280-95c8-4800-a651-bd74d1ebe634",
   "metadata": {},
   "source": [
    "#### **Propiedad 2: Si el dividendo es exactamente divisible por el divisor, entonces el resultado del múdulo es cero.**  "
   ]
  },
  {
   "cell_type": "code",
   "execution_count": 12,
   "id": "d7a58f0e-8ae9-4a9a-ad6a-c366c3fa1119",
   "metadata": {},
   "outputs": [
    {
     "name": "stdout",
     "output_type": "stream",
     "text": [
      "El resultado de dividir 15 entre 5 es: 3.0\n",
      "El módulo de 15/5 es: 0\n"
     ]
    }
   ],
   "source": [
    "f = 15 / 5\n",
    "f2 = 15 % 5\n",
    "print(f\"El resultado de dividir 15 entre 5 es: {f}\\nEl módulo de 15/5 es: {f2}\")"
   ]
  },
  {
   "cell_type": "markdown",
   "id": "62ae2e03-308e-429c-b42e-130710ef556f",
   "metadata": {},
   "source": [
    "##### ¿Para qué vamos a estar usándolo? (Por ahora)"
   ]
  },
  {
   "cell_type": "markdown",
   "id": "eccb67ab-7987-44ec-8e08-27b302833850",
   "metadata": {},
   "source": [
    "- **Para saber si un número es par**\n",
    "- **Para saber si número es divisible exactamente por otro**"
   ]
  },
  {
   "cell_type": "code",
   "execution_count": 20,
   "id": "85518d91-d69c-4d78-b5b4-2b7cb6dbd174",
   "metadata": {},
   "outputs": [],
   "source": [
    "# Para saber si un número es par\n"
   ]
  },
  {
   "cell_type": "code",
   "execution_count": 18,
   "id": "2e6fca51-8bc3-49c1-bf26-a7ee21c8f6d8",
   "metadata": {},
   "outputs": [
    {
     "name": "stdout",
     "output_type": "stream",
     "text": [
      "0\n"
     ]
    }
   ],
   "source": [
    "# para saber si un número es divisible exactamente por otro\n",
    "print(12387453%3)"
   ]
  },
  {
   "cell_type": "code",
   "execution_count": 19,
   "id": "c687b5ab-2eb1-46d5-9955-d078d589391c",
   "metadata": {},
   "outputs": [
    {
     "name": "stdout",
     "output_type": "stream",
     "text": [
      "4129151.0\n"
     ]
    }
   ],
   "source": [
    "print(12387453/3)"
   ]
  },
  {
   "cell_type": "code",
   "execution_count": null,
   "id": "b0fa8ef7-b99c-4849-9e96-816f0d6ef9fb",
   "metadata": {},
   "outputs": [],
   "source": [
    "265/12"
   ]
  },
  {
   "cell_type": "markdown",
   "id": "227ab9a6-9974-46a3-aa80-61469b2d660f",
   "metadata": {},
   "source": [
    "<h2 style=\"background-color: #24043d; color: white; padding: 12px;\">\n",
    "    3. Operadores de comparación\n",
    "</h2>"
   ]
  },
  {
   "cell_type": "markdown",
   "id": "3fa38c34-1cde-4a87-ac8f-1bde3b5b95d3",
   "metadata": {},
   "source": [
    "### 3.1. Igualdad (relacional) `==` y desigualdad `!=`"
   ]
  },
  {
   "cell_type": "markdown",
   "id": "70376c69-1c26-426f-96c7-1629cdabbb65",
   "metadata": {},
   "source": [
    "##### El operador de igualdad sirve para comparar dos valores de expresiones, pueden ser numéricos o datos más complejos"
   ]
  },
  {
   "cell_type": "code",
   "execution_count": 41,
   "id": "41dec888-8b11-4bc9-a700-0a9253b346d3",
   "metadata": {},
   "outputs": [
    {
     "data": {
      "text/plain": [
       "False"
      ]
     },
     "execution_count": 41,
     "metadata": {},
     "output_type": "execute_result"
    }
   ],
   "source": [
    "a == b"
   ]
  },
  {
   "cell_type": "code",
   "execution_count": 47,
   "id": "71d6d26b-cead-4e6d-8ed9-214f97b96214",
   "metadata": {},
   "outputs": [
    {
     "data": {
      "text/plain": [
       "True"
      ]
     },
     "execution_count": 47,
     "metadata": {},
     "output_type": "execute_result"
    }
   ],
   "source": [
    "25 == b"
   ]
  },
  {
   "cell_type": "code",
   "execution_count": 49,
   "id": "77a3e6a5-2a1c-40bb-ae62-a3799cf71206",
   "metadata": {},
   "outputs": [
    {
     "data": {
      "text/plain": [
       "True"
      ]
     },
     "execution_count": 49,
     "metadata": {},
     "output_type": "execute_result"
    }
   ],
   "source": [
    "(25 == b) == (b == 25)"
   ]
  },
  {
   "cell_type": "code",
   "execution_count": null,
   "id": "bd5f6fc4-74ca-4506-b723-bdfbfe600330",
   "metadata": {},
   "outputs": [],
   "source": []
  },
  {
   "cell_type": "markdown",
   "id": "88e7f5de-2201-4f14-a3a6-46c9ccbcb555",
   "metadata": {},
   "source": [
    "##### El operador de desigualdad también compara el valor de dos expresiones y nos dice si son diferentes"
   ]
  },
  {
   "cell_type": "code",
   "execution_count": 2,
   "id": "8d23ba3f-a130-4a23-9d4e-62ac76647d5e",
   "metadata": {},
   "outputs": [],
   "source": [
    "lista_a = [1, 2, 3, 4, 5]\n",
    "lista_b = [1, 2, 3, 4, 5,6]"
   ]
  },
  {
   "cell_type": "code",
   "execution_count": 4,
   "id": "a7ac5dc0-3225-4362-9c90-462a27e170b8",
   "metadata": {},
   "outputs": [
    {
     "name": "stdout",
     "output_type": "stream",
     "text": [
      "False\n",
      "2031689474688\n",
      "2031689250624\n"
     ]
    }
   ],
   "source": [
    "# comparar, ver posición de memoria\n",
    "print(lista_a != lista_b)\n",
    "print(id(lista_a))\n",
    "print(id(lista_b))"
   ]
  },
  {
   "cell_type": "markdown",
   "id": "8b7cd8b3-64e1-471b-9948-6b44c48d1dc6",
   "metadata": {},
   "source": [
    "### 3.2. **Mayor que  `>` y menor que `<`**"
   ]
  },
  {
   "cell_type": "markdown",
   "id": "ee12e5ee-c760-4bc1-bc9f-6fb6147d8a3e",
   "metadata": {},
   "source": [
    "El operador \"mayor que\" compara dos expresiones y devuelve True(verdadero) si la expresión de la izquierda es mayor que la de la derecha. En caso contrario, devuelve False."
   ]
  },
  {
   "cell_type": "code",
   "execution_count": 5,
   "id": "4c9c9948-73ad-4d43-be1d-6cfd343d20bf",
   "metadata": {},
   "outputs": [
    {
     "name": "stdout",
     "output_type": "stream",
     "text": [
      "False\n"
     ]
    }
   ],
   "source": [
    "# valores numéricos\n",
    "g = 10\n",
    "h = 20\n",
    "print(g > h)"
   ]
  },
  {
   "cell_type": "code",
   "execution_count": 12,
   "id": "becc9a1c-e19c-4fd1-9a34-6304735fe589",
   "metadata": {},
   "outputs": [
    {
     "name": "stdout",
     "output_type": "stream",
     "text": [
      "False\n"
     ]
    }
   ],
   "source": [
    "# comparación de strings\n",
    "string_uno = \"abcdefghi\"\n",
    "string_dos = \"abcdefphi\"\n",
    "print(string_uno > string_dos)"
   ]
  },
  {
   "cell_type": "code",
   "execution_count": 10,
   "id": "4426c167-362a-43af-bb01-60c76a49bf9c",
   "metadata": {},
   "outputs": [
    {
     "data": {
      "text/plain": [
       "False"
      ]
     },
     "execution_count": 10,
     "metadata": {},
     "output_type": "execute_result"
    }
   ],
   "source": [
    "# comparación posición a posición\n",
    "lista_c = [0,2,3,1]\n",
    "lista_b = [1,2,3]\n",
    "\n",
    "lista_c > lista_b"
   ]
  },
  {
   "cell_type": "code",
   "execution_count": null,
   "id": "d81a907a-b50b-4dea-8409-025ddd956c2d",
   "metadata": {},
   "outputs": [],
   "source": []
  },
  {
   "cell_type": "code",
   "execution_count": null,
   "id": "49d41021-70fd-4d71-a05d-10fdc2c61820",
   "metadata": {},
   "outputs": [],
   "source": [
    "¿Cómo evito confundirme con estos dos operadores? \n",
    ".:5 < 7"
   ]
  },
  {
   "cell_type": "markdown",
   "id": "c6f8dad8-4ff3-4936-8d99-44f669a34bac",
   "metadata": {},
   "source": [
    "# . < :"
   ]
  },
  {
   "cell_type": "markdown",
   "id": "7bd7d963-e109-43c8-89c0-19b243d444f3",
   "metadata": {},
   "source": [
    "# : > ."
   ]
  },
  {
   "cell_type": "markdown",
   "id": "ac41e7d5-5882-4d81-9c0a-0ee87b5592f6",
   "metadata": {},
   "source": [
    "### **3.3. Mayor o igual que `>=`;  menor o igual que `<=`**"
   ]
  },
  {
   "cell_type": "raw",
   "id": "af6a05f1-4780-49bb-bfa5-46f3da17d804",
   "metadata": {},
   "source": [
    "Estos símbolos son muy similares a los anteriores pero con un agregado muy importante, incluyen una igualdad."
   ]
  },
  {
   "cell_type": "code",
   "execution_count": 18,
   "id": "90b13d9f-382b-4fa3-a696-14f648a9dc5a",
   "metadata": {},
   "outputs": [
    {
     "name": "stdout",
     "output_type": "stream",
     "text": [
      "True\n",
      "True\n"
     ]
    }
   ],
   "source": [
    "# ejemplo numérico\n",
    "print(5 >= 5)\n",
    "# ejemplo de string\n",
    "print(\"triste\" >= \"Triste\")"
   ]
  },
  {
   "cell_type": "code",
   "execution_count": 20,
   "id": "fa3bb9aa-64af-4f73-bb03-1cccf51702f2",
   "metadata": {},
   "outputs": [
    {
     "name": "stdout",
     "output_type": "stream",
     "text": [
      "False\n"
     ]
    }
   ],
   "source": [
    "# ejemplo de listas\n",
    "lista_c = [1,2,3]\n",
    "lista_d = [2,2,3]\n",
    "print(lista_c >= lista_d)"
   ]
  },
  {
   "cell_type": "code",
   "execution_count": 21,
   "id": "5450e93b-a94a-4f0a-b1a4-ea32549c11dd",
   "metadata": {},
   "outputs": [
    {
     "name": "stdout",
     "output_type": "stream",
     "text": [
      "True\n"
     ]
    }
   ],
   "source": [
    "print(\"a\" <= \"b\")"
   ]
  },
  {
   "cell_type": "markdown",
   "id": "b5cf091f-c93e-40b8-b514-72b8b75312eb",
   "metadata": {},
   "source": [
    "### **3.4. Un caso de comparación: ¿Por qué las strings son case sensitive?**"
   ]
  },
  {
   "cell_type": "code",
   "execution_count": 22,
   "id": "456ed9ea-440e-440a-b4f5-7dc829f485c2",
   "metadata": {},
   "outputs": [
    {
     "data": {
      "text/plain": [
       "False"
      ]
     },
     "execution_count": 22,
     "metadata": {},
     "output_type": "execute_result"
    }
   ],
   "source": [
    "\"a\" == \"A\""
   ]
  },
  {
   "cell_type": "code",
   "execution_count": 26,
   "id": "43432175-d645-4e7c-90b1-4c70e2a264cd",
   "metadata": {},
   "outputs": [
    {
     "data": {
      "text/plain": [
       "False"
      ]
     },
     "execution_count": 26,
     "metadata": {},
     "output_type": "execute_result"
    }
   ],
   "source": [
    "\"a\" < \"A\""
   ]
  },
  {
   "cell_type": "code",
   "execution_count": 37,
   "id": "37ae9d62-1484-403e-8657-fcbc175bc149",
   "metadata": {},
   "outputs": [
    {
     "name": "stdout",
     "output_type": "stream",
     "text": [
      "97\n"
     ]
    }
   ],
   "source": [
    "print(ord(\"a\"))"
   ]
  },
  {
   "cell_type": "code",
   "execution_count": 38,
   "id": "6577707f-0679-4e5e-9ade-11d60ed904eb",
   "metadata": {},
   "outputs": [
    {
     "name": "stdout",
     "output_type": "stream",
     "text": [
      "65\n"
     ]
    }
   ],
   "source": [
    "print(ord(\"A\"))"
   ]
  },
  {
   "cell_type": "code",
   "execution_count": null,
   "id": "448baaab-532f-49e4-91a0-8860a5c39f8f",
   "metadata": {},
   "outputs": [],
   "source": []
  },
  {
   "cell_type": "code",
   "execution_count": null,
   "id": "23cf4776-9f7f-4d02-bdce-bbbbfa8b7c55",
   "metadata": {},
   "outputs": [],
   "source": []
  },
  {
   "cell_type": "markdown",
   "id": "7164f1b3-57ad-4e46-b081-af0de0e15e82",
   "metadata": {},
   "source": [
    "### 3.."
   ]
  },
  {
   "cell_type": "markdown",
   "id": "e85db8cd-eb7a-4346-b588-5c64e264b89f",
   "metadata": {},
   "source": [
    "### 3.."
   ]
  },
  {
   "cell_type": "markdown",
   "id": "295af190-7e2f-4267-8427-d73f33c99daf",
   "metadata": {},
   "source": [
    "### 3.."
   ]
  },
  {
   "cell_type": "markdown",
   "id": "f6c4cbb3-162f-4dcf-87f6-e102165a7c35",
   "metadata": {},
   "source": [
    "##### h5"
   ]
  },
  {
   "cell_type": "markdown",
   "id": "82c4f860-9c59-4e51-ad2f-105fa2fece9e",
   "metadata": {},
   "source": [
    "<h4 style=\"background-color: green; color: white; padding: 12px;\">\n",
    "    Buenas prácticas de programación:\n",
    "</h4>"
   ]
  },
  {
   "cell_type": "markdown",
   "id": "4be59a37-cd34-4b46-a29d-aaaf471c73d4",
   "metadata": {},
   "source": [
    "###### h5"
   ]
  },
  {
   "cell_type": "markdown",
   "id": "14fb4ccf-043e-41a4-90dd-ac9fd444f774",
   "metadata": {},
   "source": [
    "<h4 style=\"background-color: #C03728; color: white; padding: 12px;\">\n",
    "    Malas prácticas de programación:\n",
    "</h4>"
   ]
  },
  {
   "cell_type": "markdown",
   "id": "81f18b04-b052-4afb-996b-2dbed5cb97ed",
   "metadata": {},
   "source": [
    "###### h5"
   ]
  },
  {
   "cell_type": "markdown",
   "id": "2078fa4d-68e3-4153-b037-21f844ace028",
   "metadata": {},
   "source": [
    "<h4 style=\"background-color: #E7E118; color: black; padding: 12px;\">\n",
    "   Importante!\n",
    "</h4>"
   ]
  },
  {
   "cell_type": "markdown",
   "id": "a4faf56e-955b-40a7-bb2a-28210b47d555",
   "metadata": {},
   "source": [
    "###### h5"
   ]
  },
  {
   "cell_type": "markdown",
   "id": "d5a802d8-6933-4b20-a2f8-8e7fb21ef4fd",
   "metadata": {},
   "source": [
    "<h4 style=\"background-color: #D27E24; color: black; padding: 12px;\">\n",
    "    ¿Qué puede salir mal?\n",
    "</h4>"
   ]
  },
  {
   "cell_type": "markdown",
   "id": "21562a19-e557-4714-8313-1e06e9876637",
   "metadata": {},
   "source": [
    "###### h5"
   ]
  },
  {
   "cell_type": "code",
   "execution_count": null,
   "id": "52734b2c-4785-40ed-b971-6546ac70d06b",
   "metadata": {},
   "outputs": [],
   "source": []
  },
  {
   "cell_type": "markdown",
   "id": "df661945-ed14-4bfd-aa16-d9f2fe2002ce",
   "metadata": {},
   "source": [
    "##### h5"
   ]
  },
  {
   "cell_type": "code",
   "execution_count": null,
   "id": "152d7d5b-afb3-4b1b-ab53-ec263d3f3f68",
   "metadata": {},
   "outputs": [],
   "source": []
  }
 ],
 "metadata": {
  "kernelspec": {
   "display_name": "Python 3 (ipykernel)",
   "language": "python",
   "name": "python3"
  },
  "language_info": {
   "codemirror_mode": {
    "name": "ipython",
    "version": 3
   },
   "file_extension": ".py",
   "mimetype": "text/x-python",
   "name": "python",
   "nbconvert_exporter": "python",
   "pygments_lexer": "ipython3",
   "version": "3.11.8"
  }
 },
 "nbformat": 4,
 "nbformat_minor": 5
}
