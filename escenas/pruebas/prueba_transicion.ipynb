{
 "cells": [
  {
   "cell_type": "code",
   "execution_count": 1,
   "id": "b148504f-74dd-49a3-82da-d2aa79a8a5c2",
   "metadata": {},
   "outputs": [],
   "source": [
    "from manim import *"
   ]
  },
  {
   "cell_type": "code",
   "execution_count": 2,
   "id": "71e97c7b-f98f-43be-a0c6-04dc6976f3c8",
   "metadata": {},
   "outputs": [],
   "source": [
    "import sys\n",
    "from pathlib import Path\n",
    "\n",
    "# Subir un solo nivel desde la carpeta actual (escenas/horizontales)\n",
    "root_path = Path().resolve().parents[1]    # parents[0] sería un salto hacia arriba, [1] son dos\n",
    "\n",
    "# Agregarlo al sys.path si no está ya\n",
    "if str(root_path) not in sys.path:\n",
    "    sys.path.append(str(root_path))"
   ]
  },
  {
   "cell_type": "code",
   "execution_count": 3,
   "id": "ab013be2-5424-464c-8a07-b41c26d2a086",
   "metadata": {},
   "outputs": [],
   "source": [
    "import src.herramientas as h"
   ]
  },
  {
   "cell_type": "code",
   "execution_count": 4,
   "id": "6017a965-15db-4f80-9b56-56a6e67143da",
   "metadata": {},
   "outputs": [],
   "source": [
    "import src.movimiento as mv"
   ]
  },
  {
   "cell_type": "code",
   "execution_count": 5,
   "id": "d1513bd4-9d71-4d02-8926-5c2311f9cd66",
   "metadata": {},
   "outputs": [],
   "source": [
    "import layouts.cruz as cz"
   ]
  },
  {
   "cell_type": "code",
   "execution_count": 15,
   "id": "59950907-9337-4eeb-859d-6aef93c7930c",
   "metadata": {},
   "outputs": [],
   "source": [
    "# from layouts.basicos import en_linea_horizontal\n",
    "# import src.funciones as f"
   ]
  },
  {
   "cell_type": "code",
   "execution_count": 4,
   "id": "6f1fc7a3-2d67-4078-a998-303a08b09c1b",
   "metadata": {},
   "outputs": [],
   "source": [
    "config.media_width = \"75%\"\n",
    "config.verbosity = \"WARNING\"\n",
    "config.background_color = \"#24043d\""
   ]
  },
  {
   "cell_type": "code",
   "execution_count": null,
   "id": "00c644e1-e2a2-43c1-9e72-c75bc0d4a445",
   "metadata": {},
   "outputs": [],
   "source": []
  },
  {
   "cell_type": "code",
   "execution_count": null,
   "id": "9f1f99ec-ab68-4539-9bcb-9d75940d1b1a",
   "metadata": {},
   "outputs": [],
   "source": []
  },
  {
   "cell_type": "code",
   "execution_count": null,
   "id": "01487985-7bc1-4914-a990-ce86635dcddc",
   "metadata": {},
   "outputs": [],
   "source": []
  },
  {
   "cell_type": "code",
   "execution_count": null,
   "id": "9a23b83b-5792-4d2a-a435-404606717906",
   "metadata": {},
   "outputs": [],
   "source": []
  },
  {
   "cell_type": "code",
   "execution_count": null,
   "id": "d7c7bbe6-00a1-4f8d-8cc4-9d07bec38467",
   "metadata": {},
   "outputs": [],
   "source": []
  },
  {
   "cell_type": "code",
   "execution_count": null,
   "id": "98ae33e6-f25b-4613-a3f5-cdaa75dfc734",
   "metadata": {},
   "outputs": [],
   "source": []
  },
  {
   "cell_type": "code",
   "execution_count": null,
   "id": "de814d54-9515-4aeb-8741-396066235ebd",
   "metadata": {},
   "outputs": [],
   "source": []
  },
  {
   "cell_type": "code",
   "execution_count": null,
   "id": "04a7e3c6-8ee6-4a66-9e08-576f6e271ad5",
   "metadata": {},
   "outputs": [],
   "source": []
  },
  {
   "cell_type": "code",
   "execution_count": null,
   "id": "6031fcf4-34e9-4ee9-bbd6-8e409ddb16c6",
   "metadata": {},
   "outputs": [],
   "source": []
  },
  {
   "cell_type": "code",
   "execution_count": null,
   "id": "598f326e-398b-4790-aaff-dc0c8730e50b",
   "metadata": {},
   "outputs": [],
   "source": []
  },
  {
   "cell_type": "code",
   "execution_count": null,
   "id": "81a5391e-4fa1-4ba1-95f3-3f2942d4dea6",
   "metadata": {},
   "outputs": [],
   "source": []
  }
 ],
 "metadata": {
  "kernelspec": {
   "display_name": "Python 3 (ipykernel)",
   "language": "python",
   "name": "python3"
  },
  "language_info": {
   "codemirror_mode": {
    "name": "ipython",
    "version": 3
   },
   "file_extension": ".py",
   "mimetype": "text/x-python",
   "name": "python",
   "nbconvert_exporter": "python",
   "pygments_lexer": "ipython3",
   "version": "3.10.16"
  }
 },
 "nbformat": 4,
 "nbformat_minor": 5
}
