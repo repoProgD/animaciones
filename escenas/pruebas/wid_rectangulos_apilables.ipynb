{
 "cells": [
  {
   "cell_type": "code",
   "execution_count": 1,
   "id": "b148504f-74dd-49a3-82da-d2aa79a8a5c2",
   "metadata": {},
   "outputs": [],
   "source": [
    "from manim import *"
   ]
  },
  {
   "cell_type": "code",
   "execution_count": 2,
   "id": "71e97c7b-f98f-43be-a0c6-04dc6976f3c8",
   "metadata": {},
   "outputs": [],
   "source": [
    "import sys\n",
    "from pathlib import Path\n",
    "\n",
    "# Subir un solo nivel desde la carpeta actual (escenas/horizontales)\n",
    "root_path = Path().resolve().parents[1]    # parents[0] sería un salto hacia arriba, [1] son dos\n",
    "\n",
    "# Agregarlo al sys.path si no está ya\n",
    "if str(root_path) not in sys.path:\n",
    "    sys.path.append(str(root_path))"
   ]
  },
  {
   "cell_type": "code",
   "execution_count": 3,
   "id": "8d08f092-a31a-4a7d-bb1e-29da199116b8",
   "metadata": {},
   "outputs": [
    {
     "data": {
      "text/plain": [
       "WindowsPath('C:/Users/Diego/Desktop/animaciones')"
      ]
     },
     "execution_count": 3,
     "metadata": {},
     "output_type": "execute_result"
    }
   ],
   "source": [
    "root_path"
   ]
  },
  {
   "cell_type": "code",
   "execution_count": 10,
   "id": "ab013be2-5424-464c-8a07-b41c26d2a086",
   "metadata": {},
   "outputs": [],
   "source": [
    "#import src.herramientas as h"
   ]
  },
  {
   "cell_type": "code",
   "execution_count": 4,
   "id": "6017a965-15db-4f80-9b56-56a6e67143da",
   "metadata": {},
   "outputs": [],
   "source": [
    "#import src.movimiento as mv"
   ]
  },
  {
   "cell_type": "code",
   "execution_count": 5,
   "id": "d1513bd4-9d71-4d02-8926-5c2311f9cd66",
   "metadata": {},
   "outputs": [],
   "source": [
    "import src.widgets.mi_panel as mp"
   ]
  },
  {
   "cell_type": "code",
   "execution_count": 6,
   "id": "75cb5cfc-eac4-4ab1-a06d-e59583d3af52",
   "metadata": {},
   "outputs": [],
   "source": [
    "import layouts.rectangulos_apilables as rapilables"
   ]
  },
  {
   "cell_type": "code",
   "execution_count": 15,
   "id": "59950907-9337-4eeb-859d-6aef93c7930c",
   "metadata": {},
   "outputs": [],
   "source": [
    "# from layouts.basicos import en_linea_horizontal\n",
    "# import src.funciones as f"
   ]
  },
  {
   "cell_type": "code",
   "execution_count": 7,
   "id": "6f1fc7a3-2d67-4078-a998-303a08b09c1b",
   "metadata": {},
   "outputs": [],
   "source": [
    "config.media_width = \"75%\"\n",
    "config.verbosity = \"WARNING\"\n",
    "config.background_color = \"#24043d\""
   ]
  },
  {
   "cell_type": "code",
   "execution_count": 10,
   "id": "327ca9fe-3ed9-4da6-8397-bbc09d551ebc",
   "metadata": {},
   "outputs": [
    {
     "data": {
      "text/html": [
       "<pre style=\"white-space:pre;overflow-x:auto;line-height:normal;font-family:Menlo,'DejaVu Sans Mono',consolas,'Courier New',monospace\">Manim Community <span style=\"color: #008000; text-decoration-color: #008000\">v0.19.0</span>\n",
       "\n",
       "</pre>\n"
      ],
      "text/plain": [
       "Manim Community \u001b[32mv0.\u001b[0m\u001b[32m19.0\u001b[0m\n",
       "\n"
      ]
     },
     "metadata": {},
     "output_type": "display_data"
    },
    {
     "data": {
      "text/html": [
       "<video src=\"media\\jupyter\\TestScene@2025-04-28@19-15-15.mp4\" controls autoplay loop style=\"max-width: 75%;\"  >\n",
       "      Your browser does not support the <code>video</code> element.\n",
       "    </video>"
      ],
      "text/plain": [
       "<IPython.core.display.Video object>"
      ]
     },
     "metadata": {},
     "output_type": "display_data"
    }
   ],
   "source": [
    "%%manim -ql TestScene\n",
    "\n",
    "class TestScene(Scene):\n",
    "    def construct(self):\n",
    "        \"\"\"\n",
    "        Construye la escena con los widgets apilados y alineados según los parámetros.\n",
    "\n",
    "        En esta escena, se agrega un conjunto de widgets (rectángulos) y se organiza \n",
    "        usando la clase RectangulosApilables con los parámetros definidos para probar\n",
    "        la funcionalidad de apilamiento y alineación.\n",
    "        \"\"\"\n",
    "        widgets = [\n",
    "            mp.TextWidgetPanel(\"Primer widget\", fill=True),\n",
    "            mp.TextWidgetPanel(\"Segundo\", fill=True, container_type=\"RoundedRectangle\"),\n",
    "            mp.TextWidgetPanel(\"Tercero más largo\", fill=True)\n",
    "        ]\n",
    "\n",
    "        layout = rapilables.RectangulosApilables(\n",
    "            widgets,\n",
    "            vertical_spacing=0.3,\n",
    "            # offsets_x=[-1, 0, 1],  # Descomentar para ver control manual\n",
    "            # random_x_range=(-0.5, 0.5),  # O random\n",
    "            alignment=\"right\",  # Si no se define offsets_x ni random\n",
    "        )\n",
    "\n",
    "        self.add(layout)\n",
    "        self.wait(3)\n",
    "\n",
    "\n"
   ]
  },
  {
   "cell_type": "code",
   "execution_count": null,
   "id": "00c644e1-e2a2-43c1-9e72-c75bc0d4a445",
   "metadata": {},
   "outputs": [],
   "source": [
    "\n",
    "      "
   ]
  }
 ],
 "metadata": {
  "kernelspec": {
   "display_name": "Python 3 (ipykernel)",
   "language": "python",
   "name": "python3"
  },
  "language_info": {
   "codemirror_mode": {
    "name": "ipython",
    "version": 3
   },
   "file_extension": ".py",
   "mimetype": "text/x-python",
   "name": "python",
   "nbconvert_exporter": "python",
   "pygments_lexer": "ipython3",
   "version": "3.10.16"
  }
 },
 "nbformat": 4,
 "nbformat_minor": 5
}
