{
 "cells": [
  {
   "cell_type": "code",
   "execution_count": 1,
   "id": "b148504f-74dd-49a3-82da-d2aa79a8a5c2",
   "metadata": {},
   "outputs": [
    {
     "data": {
      "text/html": [
       "<pre style=\"white-space:pre;overflow-x:auto;line-height:normal;font-family:Menlo,'DejaVu Sans Mono',consolas,'Courier New',monospace\">Manim Community <span style=\"color: #008000; text-decoration-color: #008000\">v0.18.0</span>\n",
       "\n",
       "</pre>\n"
      ],
      "text/plain": [
       "Manim Community \u001b[32mv0.\u001b[0m\u001b[32m18.0\u001b[0m\n",
       "\n"
      ]
     },
     "metadata": {},
     "output_type": "display_data"
    }
   ],
   "source": [
    "from manim import *"
   ]
  },
  {
   "cell_type": "code",
   "execution_count": 2,
   "id": "8d674c15-8508-4365-8b88-77c7ac2b0e93",
   "metadata": {},
   "outputs": [],
   "source": [
    "import sys\n",
    "import os\n",
    "\n",
    "# Configuración del directorio raíz del proyecto\n",
    "project_root = os.path.abspath(os.path.join(os.getcwd(), '..'))  # Directorio raíz\n",
    "# Configuración de las rutas\n",
    "sys.path.append(os.path.join(project_root, 'src'))  # Agregar 'src' al path para importaciones"
   ]
  },
  {
   "cell_type": "code",
   "execution_count": 3,
   "id": "6f1fc7a3-2d67-4078-a998-303a08b09c1b",
   "metadata": {},
   "outputs": [],
   "source": [
    "config.media_width = \"75%\"\n",
    "config.verbosity = \"WARNING\"\n",
    "config.background_color = \"#24043d\""
   ]
  },
  {
   "cell_type": "code",
   "execution_count": 4,
   "id": "bf64c183-757e-4e10-9621-9734ece5bdb1",
   "metadata": {},
   "outputs": [],
   "source": [
    "import herramientas as h"
   ]
  },
  {
   "cell_type": "code",
   "execution_count": 6,
   "id": "03571f13-1c32-47ca-8061-020bb20fd10c",
   "metadata": {},
   "outputs": [
    {
     "data": {
      "text/html": [
       "<video src=\"media\\jupyter\\ZoomOutVerticalScene@2025-04-22@10-34-22.mp4\" controls autoplay loop style=\"max-width: 75%;\"  >\n",
       "      Your browser does not support the <code>video</code> element.\n",
       "    </video>"
      ],
      "text/plain": [
       "<IPython.core.display.Video object>"
      ]
     },
     "metadata": {},
     "output_type": "display_data"
    }
   ],
   "source": [
    "%%manim -ql ZoomOutVerticalScene\n",
    "\"\"\"Escena de prueba que me permite visualizar una configuración vertical sin necesidad de cambiar el frame de trabajo\"\"\" \n",
    "class ZoomOutVerticalScene(MovingCameraScene):  # ¡Esto es clave! esta clase hereda a Scene, en teoría puedo hacer todo lo mismo\n",
    "    def construct(self):\n",
    "        # 1. Setear formato vertical 9:16\n",
    "        self.camera.frame.set(width=9, height=16)\n",
    "\n",
    "        # 2. Zoom out para más espacio de trabajo\n",
    "        self.camera.frame.scale(1)\n",
    "\n",
    "        # 3. Agregar tu rejilla\n",
    "        grilla_vertical = h.GrillaVertical()\n",
    "        self.add(grilla_vertical)\n",
    "\n",
    "        logo = h.LogoV()\n",
    "        #logo.move_to([-2.94, -6.5, 0]).set_opacity(0.55)\n",
    "        self.add(logo)\n",
    "\n",
    "        self.wait(2)"
   ]
  },
  {
   "cell_type": "code",
   "execution_count": 6,
   "id": "327ca9fe-3ed9-4da6-8397-bbc09d551ebc",
   "metadata": {},
   "outputs": [
    {
     "ename": "AttributeError",
     "evalue": "'Camera' object has no attribute 'frame'",
     "output_type": "error",
     "traceback": [
      "\u001b[1;31m---------------------------------------------------------------------------\u001b[0m",
      "\u001b[1;31mAttributeError\u001b[0m                            Traceback (most recent call last)",
      "Cell \u001b[1;32mIn[6], line 1\u001b[0m\n\u001b[1;32m----> 1\u001b[0m get_ipython()\u001b[38;5;241m.\u001b[39mrun_cell_magic(\u001b[38;5;124m'\u001b[39m\u001b[38;5;124mmanim\u001b[39m\u001b[38;5;124m'\u001b[39m, \u001b[38;5;124m'\u001b[39m\u001b[38;5;124m-ql MiClase\u001b[39m\u001b[38;5;124m'\u001b[39m, \u001b[38;5;124m'\u001b[39m\u001b[38;5;124mclass MiClase(Scene): \u001b[39m\u001b[38;5;130;01m\\n\u001b[39;00m\u001b[38;5;124m#class MiClase(MovingCameraScene):\u001b[39m\u001b[38;5;130;01m\\n\u001b[39;00m\u001b[38;5;124m    \u001b[39m\u001b[38;5;130;01m\\n\u001b[39;00m\u001b[38;5;124m    def construct(self):\u001b[39m\u001b[38;5;130;01m\\n\u001b[39;00m\u001b[38;5;124m        # Obtener el tamaño de la pantalla\u001b[39m\u001b[38;5;130;01m\\n\u001b[39;00m\u001b[38;5;124m        ancho = self.camera.frame_width\u001b[39m\u001b[38;5;130;01m\\n\u001b[39;00m\u001b[38;5;124m        alto = self.camera.frame_height\u001b[39m\u001b[38;5;130;01m\\n\u001b[39;00m\u001b[38;5;130;01m\\n\u001b[39;00m\u001b[38;5;124m        # Añadir logo\u001b[39m\u001b[38;5;130;01m\\n\u001b[39;00m\u001b[38;5;124m        logo = h.Logo()\u001b[39m\u001b[38;5;130;01m\\n\u001b[39;00m\u001b[38;5;124m        self.add(logo)\u001b[39m\u001b[38;5;130;01m\\n\u001b[39;00m\u001b[38;5;130;01m\\n\u001b[39;00m\u001b[38;5;124m        grilla_vertical = h.GrillaVertical()\u001b[39m\u001b[38;5;130;01m\\n\u001b[39;00m\u001b[38;5;124m        self.add(grilla_vertical)\u001b[39m\u001b[38;5;130;01m\\n\u001b[39;00m\u001b[38;5;124m        self.wait(5)\u001b[39m\u001b[38;5;130;01m\\n\u001b[39;00m\u001b[38;5;130;01m\\n\u001b[39;00m\u001b[38;5;124m        # 1. Seteamos el tamaño de la cámara en formato 9:16 (vertical)\u001b[39m\u001b[38;5;130;01m\\n\u001b[39;00m\u001b[38;5;124m        self.camera.frame.set(width=9, height=16)\u001b[39m\u001b[38;5;130;01m\\n\u001b[39;00m\u001b[38;5;130;01m\\n\u001b[39;00m\u001b[38;5;124m        # 2. Hacemos zoom out para ver más contenido alrededor\u001b[39m\u001b[38;5;130;01m\\n\u001b[39;00m\u001b[38;5;124m        self.camera.frame.scale(1.5)  # Aumentá este número si querés más espacio de trabajo\u001b[39m\u001b[38;5;130;01m\\n\u001b[39;00m\u001b[38;5;130;01m\\n\u001b[39;00m\u001b[38;5;124m        # 3. Añadimos la grilla vertical (que mide exactamente 9 x 16)\u001b[39m\u001b[38;5;130;01m\\n\u001b[39;00m\u001b[38;5;124m        grilla = GrillaVertical()\u001b[39m\u001b[38;5;130;01m\\n\u001b[39;00m\u001b[38;5;124m        self.add(grilla)\u001b[39m\u001b[38;5;130;01m\\n\u001b[39;00m\u001b[38;5;130;01m\\n\u001b[39;00m\u001b[38;5;124m        # Ejemplo: un objeto fuera del campo visible original\u001b[39m\u001b[38;5;130;01m\\n\u001b[39;00m\u001b[38;5;124m        texto = Text(\u001b[39m\u001b[38;5;124m\"\u001b[39m\u001b[38;5;124mFuera del recorte\u001b[39m\u001b[38;5;124m\"\u001b[39m\u001b[38;5;124m, font_size=24).to_edge(DOWN).shift(DOWN * 3)\u001b[39m\u001b[38;5;130;01m\\n\u001b[39;00m\u001b[38;5;124m        self.add(texto)\u001b[39m\u001b[38;5;130;01m\\n\u001b[39;00m\u001b[38;5;130;01m\\n\u001b[39;00m\u001b[38;5;124m        self.wait(2)\u001b[39m\u001b[38;5;130;01m\\n\u001b[39;00m\u001b[38;5;124m'\u001b[39m)\n",
      "File \u001b[1;32m~\\anaconda3\\envs\\animaciones\\Lib\\site-packages\\IPython\\core\\interactiveshell.py:2517\u001b[0m, in \u001b[0;36mInteractiveShell.run_cell_magic\u001b[1;34m(self, magic_name, line, cell)\u001b[0m\n\u001b[0;32m   2515\u001b[0m \u001b[38;5;28;01mwith\u001b[39;00m \u001b[38;5;28mself\u001b[39m\u001b[38;5;241m.\u001b[39mbuiltin_trap:\n\u001b[0;32m   2516\u001b[0m     args \u001b[38;5;241m=\u001b[39m (magic_arg_s, cell)\n\u001b[1;32m-> 2517\u001b[0m     result \u001b[38;5;241m=\u001b[39m fn(\u001b[38;5;241m*\u001b[39margs, \u001b[38;5;241m*\u001b[39m\u001b[38;5;241m*\u001b[39mkwargs)\n\u001b[0;32m   2519\u001b[0m \u001b[38;5;66;03m# The code below prevents the output from being displayed\u001b[39;00m\n\u001b[0;32m   2520\u001b[0m \u001b[38;5;66;03m# when using magics with decorator @output_can_be_silenced\u001b[39;00m\n\u001b[0;32m   2521\u001b[0m \u001b[38;5;66;03m# when the last Python token in the expression is a ';'.\u001b[39;00m\n\u001b[0;32m   2522\u001b[0m \u001b[38;5;28;01mif\u001b[39;00m \u001b[38;5;28mgetattr\u001b[39m(fn, magic\u001b[38;5;241m.\u001b[39mMAGIC_OUTPUT_CAN_BE_SILENCED, \u001b[38;5;28;01mFalse\u001b[39;00m):\n",
      "File \u001b[1;32m~\\anaconda3\\envs\\animaciones\\Lib\\site-packages\\manim\\utils\\ipython_magic.py:141\u001b[0m, in \u001b[0;36mManimMagic.manim\u001b[1;34m(self, line, cell, local_ns)\u001b[0m\n\u001b[0;32m    139\u001b[0m     SceneClass \u001b[38;5;241m=\u001b[39m local_ns[config[\u001b[38;5;124m\"\u001b[39m\u001b[38;5;124mscene_names\u001b[39m\u001b[38;5;124m\"\u001b[39m][\u001b[38;5;241m0\u001b[39m]]\n\u001b[0;32m    140\u001b[0m     scene \u001b[38;5;241m=\u001b[39m SceneClass(renderer\u001b[38;5;241m=\u001b[39mrenderer)\n\u001b[1;32m--> 141\u001b[0m     scene\u001b[38;5;241m.\u001b[39mrender()\n\u001b[0;32m    142\u001b[0m \u001b[38;5;28;01mfinally\u001b[39;00m:\n\u001b[0;32m    143\u001b[0m     \u001b[38;5;66;03m# Shader cache becomes invalid as the context is destroyed\u001b[39;00m\n\u001b[0;32m    144\u001b[0m     shader_program_cache\u001b[38;5;241m.\u001b[39mclear()\n",
      "File \u001b[1;32m~\\anaconda3\\envs\\animaciones\\Lib\\site-packages\\manim\\scene\\scene.py:223\u001b[0m, in \u001b[0;36mScene.render\u001b[1;34m(self, preview)\u001b[0m\n\u001b[0;32m    221\u001b[0m \u001b[38;5;28mself\u001b[39m\u001b[38;5;241m.\u001b[39msetup()\n\u001b[0;32m    222\u001b[0m \u001b[38;5;28;01mtry\u001b[39;00m:\n\u001b[1;32m--> 223\u001b[0m     \u001b[38;5;28mself\u001b[39m\u001b[38;5;241m.\u001b[39mconstruct()\n\u001b[0;32m    224\u001b[0m \u001b[38;5;28;01mexcept\u001b[39;00m EndSceneEarlyException:\n\u001b[0;32m    225\u001b[0m     \u001b[38;5;28;01mpass\u001b[39;00m\n",
      "File \u001b[1;32m<string>:18\u001b[0m, in \u001b[0;36mconstruct\u001b[1;34m(self)\u001b[0m\n",
      "\u001b[1;31mAttributeError\u001b[0m: 'Camera' object has no attribute 'frame'"
     ]
    }
   ],
   "source": [
    "%%manim -ql MiClase\n",
    "class MiClase(Scene): \n",
    "#class MiClase(MovingCameraScene):\n",
    "    \n",
    "    def construct(self):\n",
    "        # Obtener el tamaño de la pantalla\n",
    "        ancho = self.camera.frame_width\n",
    "        alto = self.camera.frame_height\n",
    "\n",
    "        # Añadir logo\n",
    "        logo = h.Logo()\n",
    "        self.add(logo)\n",
    "\n",
    "        grilla_vertical = h.GrillaVertical()\n",
    "        self.add(grilla_vertical)\n",
    "        self.wait(5)\n",
    "\n",
    "\n",
    "        # 3. Añadimos la grilla vertical (que mide exactamente 9 x 16)\n",
    "        grilla = GrillaVertical()\n",
    "        self.add(grilla)\n",
    "\n",
    "        # Ejemplo: un objeto fuera del campo visible original\n",
    "        texto = Text(\"Fuera del recorte\", font_size=24).to_edge(DOWN).shift(DOWN * 3)\n",
    "        self.add(texto)\n",
    "\n",
    "        self.wait(2)"
   ]
  },
  {
   "cell_type": "code",
   "execution_count": null,
   "id": "21b01367-384f-4b80-a0fc-197473a9bd2e",
   "metadata": {},
   "outputs": [],
   "source": []
  },
  {
   "cell_type": "code",
   "execution_count": null,
   "id": "2dadcdac-d4d7-41a5-a806-54bc390816fd",
   "metadata": {},
   "outputs": [],
   "source": [
    " def girar_hora(hora_inicial, horas_transcurridas, valor_ciclo=12):\n",
    "            # saco la posición al descontar todos los ciclos realizados por las horas transcurridas (12 horas = 1 ciclo; 37 horas = 3 ciclos + 1 hora)\n",
    "            nueva_hora = horas_transcurridas % valor_ciclo\n",
    "            factor = nueva_hora/valor_ciclo\n",
    "            if factor == 0:\n",
    "                angulo = -2*PI - 0.01\n",
    "            else:\n",
    "                angulo = -2*PI * factor    \n",
    "            \n",
    "            if horas_transcurridas <= 12 & horas_transcurridas != 0:\n",
    "                self.play(Rotate(hora, about_point=centro, angle=angulo, \n",
    "                  rate_func=linear)\n",
    "                         )\n",
    "            else: \n",
    "                vueltas = horas_transcurridas // 12   \n",
    "                for i in range(vueltas):\n",
    "                    # una vez que tengo la cant de vueltas lo hago girar por -2*PI - 0.0001 porque si lo hago girar -2*PI no se mueve\n",
    "                    self.play(Rotate(hora, about_point=centro, angle = -2*PI - 0.0001, rate_func=linear))\n",
    "                if horas_transcurridas % 12 != 0:\n",
    "                    self.play(Rotate(hora, about_point=centro, angle=angulo, \n",
    "                  rate_func=linear))\n",
    "\n",
    "        # fin girar_hora\n",
    "        \n",
    "        # Centro de la pantalla\n",
    "        centro = 3*RIGHT + 1 * DOWN\n",
    "        circulo_central =  Circle(radius=0.175, color=WHITE, fill_opacity=1, stroke_color=WHITE).move_to(centro)\n",
    "        # Radio de la circunferencia\n",
    "        radio = 2.1   \n",
    "        # Número de círculos (12 en este caso)\n",
    "        num_circulos = 12  \n",
    "        # Crear una lista para almacenar los círculos\n",
    "        circulos = VGroup()\n",
    "        numeros = VGroup()  # Lista para almacenar los números\n",
    "        \n",
    "        # Calcular la posición de cada círculo\n",
    "        for i in range(num_circulos):\n",
    "            angulo = -i * TAU / num_circulos + PI / 2  # Ajustar el ángulo para empezar en \"12 en punto\"\n",
    "            posicion = centro + np.array([radio * np.cos(angulo), radio * np.sin(angulo), 0])\n",
    "            \n",
    "            # Crear y añadir el círculo a la lista\n",
    "            circulo = Circle(radius=0.35, color=\"#0606FF\", fill_opacity=1, stroke_color=WHITE).move_to(posicion)\n",
    "            circulos.add(circulo)\n",
    "\n",
    "            # Crear y añadir el número a la lista\n",
    "            if i == 0:\n",
    "                numero = Text(\"12\", font=\"Arial Black\").scale(0.63).move_to(posicion)\n",
    "            else:\n",
    "                numero = Text(str(i), font=\"Arial Black\").scale(0.63).move_to(posicion)\n",
    "            numeros.add(numero)\n",
    "\n",
    "        hora = Line(centro, circulos[0].get_center() + DOWN * 1, stroke_width=17)\n",
    "        minutero = Line(centro, circulos[0].get_center() + DOWN * 0.56, stroke_width=10)\n",
    "        marco = RoundedRectangle(width=5.4, height=5.4, corner_radius=0.26, color = \"#AF317B\", fill_opacity=1, stroke_color=WHITE ).move_to(centro)\n",
    "        #imagen = ImageMobject(\"images\\\\robo_solo3.png\").scale(0.5)\n",
    "        reloj = Group(*[marco, circulos, numeros, hora, minutero, circulo_central])\n",
    "        self.add(reloj)\n",
    "        horas_transcurridas = 355\n",
    "        girar_hora(12,horas_transcurridas)\n",
    "        # Añadir los círculos a la escena"
   ]
  },
  {
   "cell_type": "code",
   "execution_count": null,
   "id": "f5a7434f-eb54-4e5c-be5b-e15022e0508b",
   "metadata": {},
   "outputs": [],
   "source": []
  },
  {
   "cell_type": "code",
   "execution_count": 30,
   "id": "66541e5e-380e-4af9-89a9-3aceff1d8704",
   "metadata": {},
   "outputs": [
    {
     "ename": "AttributeError",
     "evalue": "ImageMobject object has no attribute 'anchors'",
     "output_type": "error",
     "traceback": [
      "\u001b[1;31m---------------------------------------------------------------------------\u001b[0m",
      "\u001b[1;31mAttributeError\u001b[0m                            Traceback (most recent call last)",
      "Cell \u001b[1;32mIn[30], line 1\u001b[0m\n\u001b[1;32m----> 1\u001b[0m get_ipython()\u001b[38;5;241m.\u001b[39mrun_cell_magic(\u001b[38;5;124m'\u001b[39m\u001b[38;5;124mmanim\u001b[39m\u001b[38;5;124m'\u001b[39m, \u001b[38;5;124m'\u001b[39m\u001b[38;5;124m-ql ZoomOutVerticalScene\u001b[39m\u001b[38;5;124m'\u001b[39m, \u001b[38;5;124m'\u001b[39m\u001b[38;5;124m\"\u001b[39m\u001b[38;5;124m\"\u001b[39m\u001b[38;5;124m\"\u001b[39m\u001b[38;5;124mEscena de prueba que me permite visualizar una configuración vertical sin necesidad de cambiar el frame de trabajo\u001b[39m\u001b[38;5;124m\"\u001b[39m\u001b[38;5;124m\"\u001b[39m\u001b[38;5;124m\"\u001b[39m\u001b[38;5;124m \u001b[39m\u001b[38;5;130;01m\\n\u001b[39;00m\u001b[38;5;124mclass ZoomOutVerticalScene(MovingCameraScene):  # ¡Esto es clave! esta clase hereda a Scene, en teoría puedo hacer todo lo mismo\u001b[39m\u001b[38;5;130;01m\\n\u001b[39;00m\u001b[38;5;124m    def construct(self):\u001b[39m\u001b[38;5;130;01m\\n\u001b[39;00m\u001b[38;5;124m        # 1. Setear formato vertical 9:16\u001b[39m\u001b[38;5;130;01m\\n\u001b[39;00m\u001b[38;5;124m        self.camera.frame.set(width=9, height=16)\u001b[39m\u001b[38;5;130;01m\\n\u001b[39;00m\u001b[38;5;130;01m\\n\u001b[39;00m\u001b[38;5;124m        # 2. Zoom out para más espacio de trabajo\u001b[39m\u001b[38;5;130;01m\\n\u001b[39;00m\u001b[38;5;124m        self.camera.frame.scale(1)\u001b[39m\u001b[38;5;130;01m\\n\u001b[39;00m\u001b[38;5;130;01m\\n\u001b[39;00m\u001b[38;5;124m        # 3. Agregar tu rejilla\u001b[39m\u001b[38;5;130;01m\\n\u001b[39;00m\u001b[38;5;124m        grilla = h.GrillaVertical()\u001b[39m\u001b[38;5;130;01m\\n\u001b[39;00m\u001b[38;5;124m        self.add(grilla)\u001b[39m\u001b[38;5;130;01m\\n\u001b[39;00m\u001b[38;5;130;01m\\n\u001b[39;00m\u001b[38;5;124m        # 4. Agregar algo fuera del centro para testear\u001b[39m\u001b[38;5;130;01m\\n\u001b[39;00m\u001b[38;5;124m        texto = Text(\u001b[39m\u001b[38;5;124m\"\u001b[39m\u001b[38;5;124m¡Hola!\u001b[39m\u001b[38;5;124m\"\u001b[39m\u001b[38;5;124m, font_size=32).to_edge(DOWN).shift(DOWN * 3)\u001b[39m\u001b[38;5;130;01m\\n\u001b[39;00m\u001b[38;5;124m        self.add(texto)\u001b[39m\u001b[38;5;130;01m\\n\u001b[39;00m\u001b[38;5;130;01m\\n\u001b[39;00m\u001b[38;5;124m        # Añadir logo\u001b[39m\u001b[38;5;130;01m\\n\u001b[39;00m\u001b[38;5;124m        logo = h.Logo()\u001b[39m\u001b[38;5;130;01m\\n\u001b[39;00m\u001b[38;5;124m        logo.move_to(-3*DOWN)\u001b[39m\u001b[38;5;130;01m\\n\u001b[39;00m\u001b[38;5;124m        self.add(logo)\u001b[39m\u001b[38;5;130;01m\\n\u001b[39;00m\u001b[38;5;124m        \u001b[39m\u001b[38;5;130;01m\\n\u001b[39;00m\u001b[38;5;130;01m\\n\u001b[39;00m\u001b[38;5;124m        def girar_hora(hora_inicial, horas_transcurridas, valor_ciclo=12):\u001b[39m\u001b[38;5;130;01m\\n\u001b[39;00m\u001b[38;5;124m            # saco la posición al descontar todos los ciclos realizados por las horas transcurridas (12 horas = 1 ciclo; 37 horas = 3 ciclos + 1 hora)\u001b[39m\u001b[38;5;130;01m\\n\u001b[39;00m\u001b[38;5;124m            nueva_hora = horas_transcurridas \u001b[39m\u001b[38;5;124m%\u001b[39m\u001b[38;5;124m valor_ciclo\u001b[39m\u001b[38;5;130;01m\\n\u001b[39;00m\u001b[38;5;124m            factor = nueva_hora/valor_ciclo\u001b[39m\u001b[38;5;130;01m\\n\u001b[39;00m\u001b[38;5;124m            if factor == 0:\u001b[39m\u001b[38;5;130;01m\\n\u001b[39;00m\u001b[38;5;124m                angulo = -2*PI - 0.01\u001b[39m\u001b[38;5;130;01m\\n\u001b[39;00m\u001b[38;5;124m            else:\u001b[39m\u001b[38;5;130;01m\\n\u001b[39;00m\u001b[38;5;124m                angulo = -2*PI * factor    \u001b[39m\u001b[38;5;130;01m\\n\u001b[39;00m\u001b[38;5;124m            \u001b[39m\u001b[38;5;130;01m\\n\u001b[39;00m\u001b[38;5;124m            if horas_transcurridas <= 12 & horas_transcurridas != 0:\u001b[39m\u001b[38;5;130;01m\\n\u001b[39;00m\u001b[38;5;124m                self.play(Rotate(hora, about_point=centro, angle=angulo, \u001b[39m\u001b[38;5;130;01m\\n\u001b[39;00m\u001b[38;5;124m                  rate_func=linear)\u001b[39m\u001b[38;5;130;01m\\n\u001b[39;00m\u001b[38;5;124m                         )\u001b[39m\u001b[38;5;130;01m\\n\u001b[39;00m\u001b[38;5;124m            else: \u001b[39m\u001b[38;5;130;01m\\n\u001b[39;00m\u001b[38;5;124m                vueltas = horas_transcurridas // 12   \u001b[39m\u001b[38;5;130;01m\\n\u001b[39;00m\u001b[38;5;124m                for i in range(vueltas):\u001b[39m\u001b[38;5;130;01m\\n\u001b[39;00m\u001b[38;5;124m                    # una vez que tengo la cant de vueltas lo hago girar por -2*PI - 0.0001 porque si lo hago girar -2*PI no se mueve\u001b[39m\u001b[38;5;130;01m\\n\u001b[39;00m\u001b[38;5;124m                    self.play(Rotate(hora, about_point=centro, angle = -2*PI - 0.0001, rate_func=linear))\u001b[39m\u001b[38;5;130;01m\\n\u001b[39;00m\u001b[38;5;124m                if horas_transcurridas \u001b[39m\u001b[38;5;124m%\u001b[39m\u001b[38;5;124m 12 != 0:\u001b[39m\u001b[38;5;130;01m\\n\u001b[39;00m\u001b[38;5;124m                    self.play(Rotate(hora, about_point=centro, angle=angulo, \u001b[39m\u001b[38;5;130;01m\\n\u001b[39;00m\u001b[38;5;124m                  rate_func=linear))\u001b[39m\u001b[38;5;130;01m\\n\u001b[39;00m\u001b[38;5;130;01m\\n\u001b[39;00m\u001b[38;5;124m        # fin girar_hora\u001b[39m\u001b[38;5;130;01m\\n\u001b[39;00m\u001b[38;5;124m        \u001b[39m\u001b[38;5;130;01m\\n\u001b[39;00m\u001b[38;5;124m        # Centro del reloj\u001b[39m\u001b[38;5;130;01m\\n\u001b[39;00m\u001b[38;5;124m        centro = 3*RIGHT + 1 * DOWN\u001b[39m\u001b[38;5;130;01m\\n\u001b[39;00m\u001b[38;5;124m        circulo_central =  Circle(radius=0.175, color=WHITE, fill_opacity=1, stroke_color=WHITE).move_to(centro)\u001b[39m\u001b[38;5;130;01m\\n\u001b[39;00m\u001b[38;5;124m        # Radio de la circunferencia\u001b[39m\u001b[38;5;130;01m\\n\u001b[39;00m\u001b[38;5;124m        radio = 2.1   \u001b[39m\u001b[38;5;130;01m\\n\u001b[39;00m\u001b[38;5;124m        # Número de círculos (12 en este caso)\u001b[39m\u001b[38;5;130;01m\\n\u001b[39;00m\u001b[38;5;124m        num_circulos = 12  \u001b[39m\u001b[38;5;130;01m\\n\u001b[39;00m\u001b[38;5;124m        # Crear una lista para almacenar los círculos\u001b[39m\u001b[38;5;130;01m\\n\u001b[39;00m\u001b[38;5;124m        circulos = VGroup()\u001b[39m\u001b[38;5;130;01m\\n\u001b[39;00m\u001b[38;5;124m        numeros = VGroup()  # Lista para almacenar los números\u001b[39m\u001b[38;5;130;01m\\n\u001b[39;00m\u001b[38;5;124m        \u001b[39m\u001b[38;5;130;01m\\n\u001b[39;00m\u001b[38;5;124m        # Calcular la posición de cada círculo\u001b[39m\u001b[38;5;130;01m\\n\u001b[39;00m\u001b[38;5;124m        for i in range(num_circulos):\u001b[39m\u001b[38;5;130;01m\\n\u001b[39;00m\u001b[38;5;124m            angulo = -i * TAU / num_circulos + PI / 2  # Ajustar el ángulo para empezar en \u001b[39m\u001b[38;5;124m\"\u001b[39m\u001b[38;5;124m12 en punto\u001b[39m\u001b[38;5;124m\"\u001b[39m\u001b[38;5;130;01m\\n\u001b[39;00m\u001b[38;5;124m            posicion = centro + np.array([radio * np.cos(angulo), radio * np.sin(angulo), 0])\u001b[39m\u001b[38;5;130;01m\\n\u001b[39;00m\u001b[38;5;124m            \u001b[39m\u001b[38;5;130;01m\\n\u001b[39;00m\u001b[38;5;124m            # Crear y añadir el círculo a la lista\u001b[39m\u001b[38;5;130;01m\\n\u001b[39;00m\u001b[38;5;124m            circulo = Circle(radius=0.35, color=\u001b[39m\u001b[38;5;124m\"\u001b[39m\u001b[38;5;124m#0606FF\u001b[39m\u001b[38;5;124m\"\u001b[39m\u001b[38;5;124m, fill_opacity=1, stroke_color=WHITE).move_to(posicion)\u001b[39m\u001b[38;5;130;01m\\n\u001b[39;00m\u001b[38;5;124m            circulos.add(circulo)\u001b[39m\u001b[38;5;130;01m\\n\u001b[39;00m\u001b[38;5;130;01m\\n\u001b[39;00m\u001b[38;5;124m            # Crear y añadir el número a la lista\u001b[39m\u001b[38;5;130;01m\\n\u001b[39;00m\u001b[38;5;124m            if i == 0:\u001b[39m\u001b[38;5;130;01m\\n\u001b[39;00m\u001b[38;5;124m                numero = Text(\u001b[39m\u001b[38;5;124m\"\u001b[39m\u001b[38;5;124m12\u001b[39m\u001b[38;5;124m\"\u001b[39m\u001b[38;5;124m, font=\u001b[39m\u001b[38;5;124m\"\u001b[39m\u001b[38;5;124mArial Black\u001b[39m\u001b[38;5;124m\"\u001b[39m\u001b[38;5;124m).scale(0.63).move_to(posicion)\u001b[39m\u001b[38;5;130;01m\\n\u001b[39;00m\u001b[38;5;124m            else:\u001b[39m\u001b[38;5;130;01m\\n\u001b[39;00m\u001b[38;5;124m                numero = Text(str(i), font=\u001b[39m\u001b[38;5;124m\"\u001b[39m\u001b[38;5;124mArial Black\u001b[39m\u001b[38;5;124m\"\u001b[39m\u001b[38;5;124m).scale(0.63).move_to(posicion)\u001b[39m\u001b[38;5;130;01m\\n\u001b[39;00m\u001b[38;5;124m            numeros.add(numero)\u001b[39m\u001b[38;5;130;01m\\n\u001b[39;00m\u001b[38;5;130;01m\\n\u001b[39;00m\u001b[38;5;124m        hora = Line(centro, circulos[0].get_center() + DOWN * 1, stroke_width=17)\u001b[39m\u001b[38;5;130;01m\\n\u001b[39;00m\u001b[38;5;124m        minutero = Line(centro, circulos[0].get_center() + DOWN * 0.56, stroke_width=10)\u001b[39m\u001b[38;5;130;01m\\n\u001b[39;00m\u001b[38;5;124m        marco = RoundedRectangle(width=5.4, height=5.4, corner_radius=0.26, color = \u001b[39m\u001b[38;5;124m\"\u001b[39m\u001b[38;5;124m#AF317B\u001b[39m\u001b[38;5;124m\"\u001b[39m\u001b[38;5;124m, fill_opacity=1, stroke_color=WHITE ).move_to(centro)\u001b[39m\u001b[38;5;130;01m\\n\u001b[39;00m\u001b[38;5;124m        reloj = Group(*[marco, circulos, numeros, hora, minutero, circulo_central]).scale(0.6).move_to([2,-4,0])\u001b[39m\u001b[38;5;130;01m\\n\u001b[39;00m\u001b[38;5;124m        centro = reloj.get_center()    # Redefino el centro para que la aguja de la hora se mueva respecto de la nueva posición del centro del reloj\u001b[39m\u001b[38;5;130;01m\\n\u001b[39;00m\u001b[38;5;124m        self.add(reloj)   \u001b[39m\u001b[38;5;130;01m\\n\u001b[39;00m\u001b[38;5;124m        horas_transcurridas = 355\u001b[39m\u001b[38;5;130;01m\\n\u001b[39;00m\u001b[38;5;124m        girar_hora(12,horas_transcurridas)\u001b[39m\u001b[38;5;130;01m\\n\u001b[39;00m\u001b[38;5;124m        # Añadir los círculos a la escena\u001b[39m\u001b[38;5;130;01m\\n\u001b[39;00m\u001b[38;5;130;01m\\n\u001b[39;00m\u001b[38;5;124m        self.wait(2)\u001b[39m\u001b[38;5;130;01m\\n\u001b[39;00m\u001b[38;5;124m'\u001b[39m)\n",
      "File \u001b[1;32m~\\anaconda3\\envs\\animaciones\\Lib\\site-packages\\IPython\\core\\interactiveshell.py:2517\u001b[0m, in \u001b[0;36mInteractiveShell.run_cell_magic\u001b[1;34m(self, magic_name, line, cell)\u001b[0m\n\u001b[0;32m   2515\u001b[0m \u001b[38;5;28;01mwith\u001b[39;00m \u001b[38;5;28mself\u001b[39m\u001b[38;5;241m.\u001b[39mbuiltin_trap:\n\u001b[0;32m   2516\u001b[0m     args \u001b[38;5;241m=\u001b[39m (magic_arg_s, cell)\n\u001b[1;32m-> 2517\u001b[0m     result \u001b[38;5;241m=\u001b[39m fn(\u001b[38;5;241m*\u001b[39margs, \u001b[38;5;241m*\u001b[39m\u001b[38;5;241m*\u001b[39mkwargs)\n\u001b[0;32m   2519\u001b[0m \u001b[38;5;66;03m# The code below prevents the output from being displayed\u001b[39;00m\n\u001b[0;32m   2520\u001b[0m \u001b[38;5;66;03m# when using magics with decorator @output_can_be_silenced\u001b[39;00m\n\u001b[0;32m   2521\u001b[0m \u001b[38;5;66;03m# when the last Python token in the expression is a ';'.\u001b[39;00m\n\u001b[0;32m   2522\u001b[0m \u001b[38;5;28;01mif\u001b[39;00m \u001b[38;5;28mgetattr\u001b[39m(fn, magic\u001b[38;5;241m.\u001b[39mMAGIC_OUTPUT_CAN_BE_SILENCED, \u001b[38;5;28;01mFalse\u001b[39;00m):\n",
      "File \u001b[1;32m~\\anaconda3\\envs\\animaciones\\Lib\\site-packages\\manim\\utils\\ipython_magic.py:141\u001b[0m, in \u001b[0;36mManimMagic.manim\u001b[1;34m(self, line, cell, local_ns)\u001b[0m\n\u001b[0;32m    139\u001b[0m     SceneClass \u001b[38;5;241m=\u001b[39m local_ns[config[\u001b[38;5;124m\"\u001b[39m\u001b[38;5;124mscene_names\u001b[39m\u001b[38;5;124m\"\u001b[39m][\u001b[38;5;241m0\u001b[39m]]\n\u001b[0;32m    140\u001b[0m     scene \u001b[38;5;241m=\u001b[39m SceneClass(renderer\u001b[38;5;241m=\u001b[39mrenderer)\n\u001b[1;32m--> 141\u001b[0m     scene\u001b[38;5;241m.\u001b[39mrender()\n\u001b[0;32m    142\u001b[0m \u001b[38;5;28;01mfinally\u001b[39;00m:\n\u001b[0;32m    143\u001b[0m     \u001b[38;5;66;03m# Shader cache becomes invalid as the context is destroyed\u001b[39;00m\n\u001b[0;32m    144\u001b[0m     shader_program_cache\u001b[38;5;241m.\u001b[39mclear()\n",
      "File \u001b[1;32m~\\anaconda3\\envs\\animaciones\\Lib\\site-packages\\manim\\scene\\scene.py:223\u001b[0m, in \u001b[0;36mScene.render\u001b[1;34m(self, preview)\u001b[0m\n\u001b[0;32m    221\u001b[0m \u001b[38;5;28mself\u001b[39m\u001b[38;5;241m.\u001b[39msetup()\n\u001b[0;32m    222\u001b[0m \u001b[38;5;28;01mtry\u001b[39;00m:\n\u001b[1;32m--> 223\u001b[0m     \u001b[38;5;28mself\u001b[39m\u001b[38;5;241m.\u001b[39mconstruct()\n\u001b[0;32m    224\u001b[0m \u001b[38;5;28;01mexcept\u001b[39;00m EndSceneEarlyException:\n\u001b[0;32m    225\u001b[0m     \u001b[38;5;28;01mpass\u001b[39;00m\n",
      "File \u001b[1;32m<string>:20\u001b[0m, in \u001b[0;36mconstruct\u001b[1;34m(self)\u001b[0m\n",
      "File \u001b[1;32m~\\anaconda3\\envs\\animaciones\\Lib\\site-packages\\manim\\mobject\\mobject.py:1669\u001b[0m, in \u001b[0;36mMobject.move_to\u001b[1;34m(self, point_or_mobject, aligned_edge, coor_mask)\u001b[0m\n\u001b[0;32m   1667\u001b[0m \u001b[38;5;28;01melse\u001b[39;00m:\n\u001b[0;32m   1668\u001b[0m     target \u001b[38;5;241m=\u001b[39m point_or_mobject\n\u001b[1;32m-> 1669\u001b[0m point_to_align \u001b[38;5;241m=\u001b[39m \u001b[38;5;28mself\u001b[39m\u001b[38;5;241m.\u001b[39mget_critical_point(aligned_edge)\n\u001b[0;32m   1670\u001b[0m \u001b[38;5;28mself\u001b[39m\u001b[38;5;241m.\u001b[39mshift((target \u001b[38;5;241m-\u001b[39m point_to_align) \u001b[38;5;241m*\u001b[39m coor_mask)\n\u001b[0;32m   1671\u001b[0m \u001b[38;5;28;01mreturn\u001b[39;00m \u001b[38;5;28mself\u001b[39m\n",
      "File \u001b[1;32m~\\anaconda3\\envs\\animaciones\\Lib\\site-packages\\manim\\mobject\\mobject.py:1983\u001b[0m, in \u001b[0;36mMobject.get_critical_point\u001b[1;34m(self, direction)\u001b[0m\n\u001b[0;32m   1968\u001b[0m \u001b[38;5;250m\u001b[39m\u001b[38;5;124;03m\"\"\"Picture a box bounding the :class:`~.Mobject`.  Such a box has\u001b[39;00m\n\u001b[0;32m   1969\u001b[0m \u001b[38;5;124;03m9 'critical points': 4 corners, 4 edge center, the\u001b[39;00m\n\u001b[0;32m   1970\u001b[0m \u001b[38;5;124;03mcenter. This returns one of them, along the given direction.\u001b[39;00m\n\u001b[1;32m   (...)\u001b[0m\n\u001b[0;32m   1980\u001b[0m \n\u001b[0;32m   1981\u001b[0m \u001b[38;5;124;03m\"\"\"\u001b[39;00m\n\u001b[0;32m   1982\u001b[0m result \u001b[38;5;241m=\u001b[39m np\u001b[38;5;241m.\u001b[39mzeros(\u001b[38;5;28mself\u001b[39m\u001b[38;5;241m.\u001b[39mdim)\n\u001b[1;32m-> 1983\u001b[0m all_points \u001b[38;5;241m=\u001b[39m \u001b[38;5;28mself\u001b[39m\u001b[38;5;241m.\u001b[39mget_points_defining_boundary()\n\u001b[0;32m   1984\u001b[0m \u001b[38;5;28;01mif\u001b[39;00m \u001b[38;5;28mlen\u001b[39m(all_points) \u001b[38;5;241m==\u001b[39m \u001b[38;5;241m0\u001b[39m:\n\u001b[0;32m   1985\u001b[0m     \u001b[38;5;28;01mreturn\u001b[39;00m result\n",
      "File \u001b[1;32m~\\anaconda3\\envs\\animaciones\\Lib\\site-packages\\manim\\mobject\\types\\vectorized_mobject.py:1478\u001b[0m, in \u001b[0;36mVMobject.get_points_defining_boundary\u001b[1;34m(self)\u001b[0m\n\u001b[0;32m   1475\u001b[0m \u001b[38;5;28;01mdef\u001b[39;00m \u001b[38;5;21mget_points_defining_boundary\u001b[39m(\u001b[38;5;28mself\u001b[39m) \u001b[38;5;241m-\u001b[39m\u001b[38;5;241m>\u001b[39m Point3D_Array:\n\u001b[0;32m   1476\u001b[0m     \u001b[38;5;66;03m# Probably returns all anchors, but this is weird regarding  the name of the method.\u001b[39;00m\n\u001b[0;32m   1477\u001b[0m     \u001b[38;5;28;01mreturn\u001b[39;00m np\u001b[38;5;241m.\u001b[39marray(\n\u001b[1;32m-> 1478\u001b[0m         \u001b[38;5;28mtuple\u001b[39m(it\u001b[38;5;241m.\u001b[39mchain(\u001b[38;5;241m*\u001b[39m(sm\u001b[38;5;241m.\u001b[39mget_anchors() \u001b[38;5;28;01mfor\u001b[39;00m sm \u001b[38;5;129;01min\u001b[39;00m \u001b[38;5;28mself\u001b[39m\u001b[38;5;241m.\u001b[39mget_family())))\n\u001b[0;32m   1479\u001b[0m     )\n",
      "File \u001b[1;32m~\\anaconda3\\envs\\animaciones\\Lib\\site-packages\\manim\\mobject\\types\\vectorized_mobject.py:1478\u001b[0m, in \u001b[0;36m<genexpr>\u001b[1;34m(.0)\u001b[0m\n\u001b[0;32m   1475\u001b[0m \u001b[38;5;28;01mdef\u001b[39;00m \u001b[38;5;21mget_points_defining_boundary\u001b[39m(\u001b[38;5;28mself\u001b[39m) \u001b[38;5;241m-\u001b[39m\u001b[38;5;241m>\u001b[39m Point3D_Array:\n\u001b[0;32m   1476\u001b[0m     \u001b[38;5;66;03m# Probably returns all anchors, but this is weird regarding  the name of the method.\u001b[39;00m\n\u001b[0;32m   1477\u001b[0m     \u001b[38;5;28;01mreturn\u001b[39;00m np\u001b[38;5;241m.\u001b[39marray(\n\u001b[1;32m-> 1478\u001b[0m         \u001b[38;5;28mtuple\u001b[39m(it\u001b[38;5;241m.\u001b[39mchain(\u001b[38;5;241m*\u001b[39m(sm\u001b[38;5;241m.\u001b[39mget_anchors() \u001b[38;5;28;01mfor\u001b[39;00m sm \u001b[38;5;129;01min\u001b[39;00m \u001b[38;5;28mself\u001b[39m\u001b[38;5;241m.\u001b[39mget_family())))\n\u001b[0;32m   1479\u001b[0m     )\n",
      "File \u001b[1;32m~\\anaconda3\\envs\\animaciones\\Lib\\site-packages\\manim\\mobject\\mobject.py:647\u001b[0m, in \u001b[0;36mMobject.__getattr__.<locals>.getter\u001b[1;34m(self)\u001b[0m\n\u001b[0;32m    639\u001b[0m \u001b[38;5;28;01mdef\u001b[39;00m \u001b[38;5;21mgetter\u001b[39m(\u001b[38;5;28mself\u001b[39m):\n\u001b[0;32m    640\u001b[0m     warnings\u001b[38;5;241m.\u001b[39mwarn(\n\u001b[0;32m    641\u001b[0m         \u001b[38;5;124m\"\u001b[39m\u001b[38;5;124mThis method is not guaranteed to stay around. Please prefer \u001b[39m\u001b[38;5;124m\"\u001b[39m\n\u001b[0;32m    642\u001b[0m         \u001b[38;5;124m\"\u001b[39m\u001b[38;5;124mgetting the attribute normally.\u001b[39m\u001b[38;5;124m\"\u001b[39m,\n\u001b[0;32m    643\u001b[0m         \u001b[38;5;167;01mDeprecationWarning\u001b[39;00m,\n\u001b[0;32m    644\u001b[0m         stacklevel\u001b[38;5;241m=\u001b[39m\u001b[38;5;241m2\u001b[39m,\n\u001b[0;32m    645\u001b[0m     )\n\u001b[1;32m--> 647\u001b[0m     \u001b[38;5;28;01mreturn\u001b[39;00m \u001b[38;5;28mgetattr\u001b[39m(\u001b[38;5;28mself\u001b[39m, to_get)\n",
      "File \u001b[1;32m~\\anaconda3\\envs\\animaciones\\Lib\\site-packages\\manim\\mobject\\mobject.py:672\u001b[0m, in \u001b[0;36mMobject.__getattr__\u001b[1;34m(self, attr)\u001b[0m\n\u001b[0;32m    669\u001b[0m     \u001b[38;5;28;01mreturn\u001b[39;00m types\u001b[38;5;241m.\u001b[39mMethodType(setter, \u001b[38;5;28mself\u001b[39m)\n\u001b[0;32m    671\u001b[0m \u001b[38;5;66;03m# Unhandled attribute, therefore error\u001b[39;00m\n\u001b[1;32m--> 672\u001b[0m \u001b[38;5;28;01mraise\u001b[39;00m \u001b[38;5;167;01mAttributeError\u001b[39;00m(\u001b[38;5;124mf\u001b[39m\u001b[38;5;124m\"\u001b[39m\u001b[38;5;132;01m{\u001b[39;00m\u001b[38;5;28mtype\u001b[39m(\u001b[38;5;28mself\u001b[39m)\u001b[38;5;241m.\u001b[39m\u001b[38;5;18m__name__\u001b[39m\u001b[38;5;132;01m}\u001b[39;00m\u001b[38;5;124m object has no attribute \u001b[39m\u001b[38;5;124m'\u001b[39m\u001b[38;5;132;01m{\u001b[39;00mattr\u001b[38;5;132;01m}\u001b[39;00m\u001b[38;5;124m'\u001b[39m\u001b[38;5;124m\"\u001b[39m)\n",
      "\u001b[1;31mAttributeError\u001b[0m: ImageMobject object has no attribute 'anchors'"
     ]
    }
   ],
   "source": [
    "%%manim -ql ZoomOutVerticalScene\n",
    "\"\"\"Escena de prueba que me permite visualizar una configuración vertical sin necesidad de cambiar el frame de trabajo\"\"\" \n",
    "class ZoomOutVerticalScene(MovingCameraScene):  # ¡Esto es clave! esta clase hereda a Scene, en teoría puedo hacer todo lo mismo\n",
    "    def construct(self):\n",
    "        # 1. Setear formato vertical 9:16\n",
    "        self.camera.frame.set(width=9, height=16)\n",
    "\n",
    "        # 2. Zoom out para más espacio de trabajo\n",
    "        self.camera.frame.scale(1)\n",
    "\n",
    "        # 3. Agregar tu rejilla\n",
    "        grilla = h.GrillaVertical()\n",
    "        self.add(grilla)\n",
    "\n",
    "        # 4. Agregar algo fuera del centro para testear\n",
    "        texto = Text(\"¡Hola!\", font_size=32).to_edge(DOWN).shift(DOWN * 3)\n",
    "        self.add(texto)\n",
    "\n",
    "        # Añadir logo\n",
    "        logo = h.Logo()\n",
    "        self.add(logo)\n",
    "        \n",
    "\n",
    "        def girar_hora(hora_inicial, horas_transcurridas, valor_ciclo=12):\n",
    "            # saco la posición al descontar todos los ciclos realizados por las horas transcurridas (12 horas = 1 ciclo; 37 horas = 3 ciclos + 1 hora)\n",
    "            nueva_hora = horas_transcurridas % valor_ciclo\n",
    "            factor = nueva_hora/valor_ciclo\n",
    "            if factor == 0:\n",
    "                angulo = -2*PI - 0.01\n",
    "            else:\n",
    "                angulo = -2*PI * factor    \n",
    "            \n",
    "            if horas_transcurridas <= 12 & horas_transcurridas != 0:\n",
    "                self.play(Rotate(hora, about_point=centro, angle=angulo, \n",
    "                  rate_func=linear)\n",
    "                         )\n",
    "            else: \n",
    "                vueltas = horas_transcurridas // 12   \n",
    "                for i in range(vueltas):\n",
    "                    # una vez que tengo la cant de vueltas lo hago girar por -2*PI - 0.0001 porque si lo hago girar -2*PI no se mueve\n",
    "                    self.play(Rotate(hora, about_point=centro, angle = -2*PI - 0.0001, rate_func=linear))\n",
    "                if horas_transcurridas % 12 != 0:\n",
    "                    self.play(Rotate(hora, about_point=centro, angle=angulo, \n",
    "                  rate_func=linear))\n",
    "\n",
    "        # fin girar_hora\n",
    "        \n",
    "        # Centro del reloj\n",
    "        centro = 3*RIGHT + 1 * DOWN\n",
    "        circulo_central =  Circle(radius=0.175, color=WHITE, fill_opacity=1, stroke_color=WHITE).move_to(centro)\n",
    "        # Radio de la circunferencia\n",
    "        radio = 2.1   \n",
    "        # Número de círculos (12 en este caso)\n",
    "        num_circulos = 12  \n",
    "        # Crear una lista para almacenar los círculos\n",
    "        circulos = VGroup()\n",
    "        numeros = VGroup()  # Lista para almacenar los números\n",
    "        \n",
    "        # Calcular la posición de cada círculo\n",
    "        for i in range(num_circulos):\n",
    "            angulo = -i * TAU / num_circulos + PI / 2  # Ajustar el ángulo para empezar en \"12 en punto\"\n",
    "            posicion = centro + np.array([radio * np.cos(angulo), radio * np.sin(angulo), 0])\n",
    "            \n",
    "            # Crear y añadir el círculo a la lista\n",
    "            circulo = Circle(radius=0.35, color=\"#0606FF\", fill_opacity=1, stroke_color=WHITE).move_to(posicion)\n",
    "            circulos.add(circulo)\n",
    "\n",
    "            # Crear y añadir el número a la lista\n",
    "            if i == 0:\n",
    "                numero = Text(\"12\", font=\"Arial Black\").scale(0.63).move_to(posicion)\n",
    "            else:\n",
    "                numero = Text(str(i), font=\"Arial Black\").scale(0.63).move_to(posicion)\n",
    "            numeros.add(numero)\n",
    "\n",
    "        hora = Line(centro, circulos[0].get_center() + DOWN * 1, stroke_width=17)\n",
    "        minutero = Line(centro, circulos[0].get_center() + DOWN * 0.56, stroke_width=10)\n",
    "        marco = RoundedRectangle(width=5.4, height=5.4, corner_radius=0.26, color = \"#AF317B\", fill_opacity=1, stroke_color=WHITE ).move_to(centro)\n",
    "        reloj = Group(*[marco, circulos, numeros, hora, minutero, circulo_central]).scale(0.6).move_to([2,-4,0])\n",
    "        centro = reloj.get_center()    # Redefino el centro para que la aguja de la hora se mueva respecto de la nueva posición del centro del reloj\n",
    "        self.add(reloj)   \n",
    "        horas_transcurridas = 355\n",
    "        girar_hora(12,horas_transcurridas)\n",
    "        # Añadir los círculos a la escena\n",
    "\n",
    "        self.wait(2)"
   ]
  },
  {
   "cell_type": "code",
   "execution_count": null,
   "id": "7a867362-e025-4c4c-857f-2c6d0a186bae",
   "metadata": {},
   "outputs": [],
   "source": []
  },
  {
   "cell_type": "code",
   "execution_count": null,
   "id": "21bf129a-03ad-400e-b2ef-732be4947536",
   "metadata": {},
   "outputs": [],
   "source": []
  },
  {
   "cell_type": "code",
   "execution_count": null,
   "id": "03409d77-3329-41fb-a83c-01f2852f8890",
   "metadata": {},
   "outputs": [],
   "source": []
  },
  {
   "cell_type": "code",
   "execution_count": null,
   "id": "fd2ef6c0-c79b-4aa5-ad14-c97e3ecc5fda",
   "metadata": {},
   "outputs": [],
   "source": []
  },
  {
   "cell_type": "code",
   "execution_count": null,
   "id": "c818e048-3067-4546-b120-130bea9d1499",
   "metadata": {},
   "outputs": [],
   "source": []
  },
  {
   "cell_type": "code",
   "execution_count": null,
   "id": "8e811c5a-bb92-43f8-bbf3-8578741569fd",
   "metadata": {},
   "outputs": [],
   "source": []
  },
  {
   "cell_type": "code",
   "execution_count": null,
   "id": "4b210cca-e9a0-460d-8258-69ea4063f94e",
   "metadata": {},
   "outputs": [],
   "source": []
  },
  {
   "cell_type": "code",
   "execution_count": null,
   "id": "ff3fe295-4d21-45d9-8d5e-b14c822012a6",
   "metadata": {},
   "outputs": [],
   "source": []
  },
  {
   "cell_type": "code",
   "execution_count": null,
   "id": "23f274f8-d3cf-49cd-ad72-4649919f8c2d",
   "metadata": {},
   "outputs": [],
   "source": []
  },
  {
   "cell_type": "code",
   "execution_count": null,
   "id": "8838e27d-a8c6-4732-a526-c099b9beded1",
   "metadata": {},
   "outputs": [],
   "source": []
  },
  {
   "cell_type": "code",
   "execution_count": null,
   "id": "3aac0762-52ac-402e-88e0-cbb568d37ce2",
   "metadata": {},
   "outputs": [],
   "source": []
  }
 ],
 "metadata": {
  "kernelspec": {
   "display_name": "Python 3 (ipykernel)",
   "language": "python",
   "name": "python3"
  },
  "language_info": {
   "codemirror_mode": {
    "name": "ipython",
    "version": 3
   },
   "file_extension": ".py",
   "mimetype": "text/x-python",
   "name": "python",
   "nbconvert_exporter": "python",
   "pygments_lexer": "ipython3",
   "version": "3.11.8"
  }
 },
 "nbformat": 4,
 "nbformat_minor": 5
}
