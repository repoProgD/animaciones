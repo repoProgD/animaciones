{
 "cells": [
  {
   "cell_type": "code",
   "execution_count": 1,
   "id": "18f3673d-ed1f-4015-8614-ef6e16b42a15",
   "metadata": {},
   "outputs": [
    {
     "data": {
      "text/html": [
       "<pre style=\"white-space:pre;overflow-x:auto;line-height:normal;font-family:Menlo,'DejaVu Sans Mono',consolas,'Courier New',monospace\">Manim Community <span style=\"color: #008000; text-decoration-color: #008000\">v0.18.0</span>\n",
       "\n",
       "</pre>\n"
      ],
      "text/plain": [
       "Manim Community \u001b[32mv0.\u001b[0m\u001b[32m18.0\u001b[0m\n",
       "\n"
      ]
     },
     "metadata": {},
     "output_type": "display_data"
    }
   ],
   "source": [
    "from manim import *"
   ]
  },
  {
   "cell_type": "code",
   "execution_count": 2,
   "id": "5ac4e83a-d2d2-4b85-9db8-450118f43e5b",
   "metadata": {},
   "outputs": [],
   "source": [
    "import sys\n",
    "import os\n",
    "\n",
    "# Configuración del directorio raíz del proyecto\n",
    "project_root = os.path.abspath(os.path.join(os.getcwd(), '..'))  # Directorio raíz\n",
    "# Configuración de las rutas\n",
    "sys.path.append(os.path.join(project_root, 'src'))  # Agregar 'src' al path para importaciones"
   ]
  },
  {
   "cell_type": "code",
   "execution_count": 3,
   "id": "f72e4140-f863-40e6-8b40-352a21998eb7",
   "metadata": {},
   "outputs": [],
   "source": [
    "config.media_width = \"75%\"\n",
    "config.verbosity = \"WARNING\"\n",
    "config.background_color = \"#24043d\""
   ]
  },
  {
   "cell_type": "code",
   "execution_count": 4,
   "id": "cefd3778-7326-438b-8b04-67a2f3b97368",
   "metadata": {},
   "outputs": [],
   "source": [
    "#import cuadro_datos as cd\n",
    "import herramientas as h\n",
    "import funciones as f"
   ]
  },
  {
   "cell_type": "code",
   "execution_count": null,
   "id": "e31577d9-10e6-429d-9f6d-5266790d870e",
   "metadata": {},
   "outputs": [],
   "source": []
  },
  {
   "cell_type": "code",
   "execution_count": 5,
   "id": "b11af0dc-20f8-47c4-bfa4-9c32081b8482",
   "metadata": {
    "scrolled": true
   },
   "outputs": [
    {
     "name": "stderr",
     "output_type": "stream",
     "text": [
      "                                                                                                                       \r"
     ]
    },
    {
     "data": {
      "text/html": [
       "<video src=\"media\\jupyter\\Booleanos@2025-04-20@16-16-48.mp4\" controls autoplay loop style=\"max-width: 75%;\"  >\n",
       "      Your browser does not support the <code>video</code> element.\n",
       "    </video>"
      ],
      "text/plain": [
       "<IPython.core.display.Video object>"
      ]
     },
     "metadata": {},
     "output_type": "display_data"
    }
   ],
   "source": [
    "%%manim -ql Booleanos\n",
    "class Booleanos(MovingCameraScene):\n",
    "    \n",
    "    def construct(self):\n",
    "        # Obtener el tamaño de la pantalla\n",
    "        ancho = self.camera.frame_width\n",
    "        alto = self.camera.frame_height\n",
    "\n",
    "        # Añadir logo\n",
    "        logo = h.Logo()\n",
    "        self.add(logo)                  \n",
    "        cuadro = f.construir_cuadro(self)\n",
    "        booleanos = f.crear_rectangulo(2, 0.5, \"#AC1DB8\", 0.85, \"Booleanos\").next_to(UP * 1.5 + LEFT * 3.75)\n",
    "        # añado grilla\n",
    "        #grilla = h.GrillaRegla().shift(UP * alto)\n",
    "        #self.add(grilla)\n",
    "        logo2 = logo.copy()\n",
    "        logo2.shift(alto*UP)\n",
    "        self.add(logo2)\n",
    "        # guardar el estado de la escena, sirve para volver a este punto con Restore()\n",
    "        self.camera.frame.save_state()\n",
    "        # animo la cámara y la llevo arriba\n",
    "        self.play(self.camera.frame.animate.move_to(booleanos))\n",
    "        self.play(self.camera.frame.animate.move_to(alto * UP), booleanos.animate.move_to((alto + 1.5) * UP), run_time=(2))\n",
    "        rectangulo1 = Rectangle(width=3, height=2, color=\"#24043d\", fill_opacity=1).move_to(RIGHT * 2.5)\n",
    "      \n",
    "        \n",
    "        # Añadir el rectángulo a la escena\n",
    "        self.add(rectangulo1)\n",
    "        self.wait(3)\n",
    "        self.play(rectangulo1.animate.shift(3*RIGHT))\n",
    "        self.wait(3)"
   ]
  },
  {
   "cell_type": "code",
   "execution_count": null,
   "id": "86e2ddc0-98fa-4373-9013-5a6600513797",
   "metadata": {},
   "outputs": [],
   "source": []
  }
 ],
 "metadata": {
  "kernelspec": {
   "display_name": "Python 3 (ipykernel)",
   "language": "python",
   "name": "python3"
  },
  "language_info": {
   "codemirror_mode": {
    "name": "ipython",
    "version": 3
   },
   "file_extension": ".py",
   "mimetype": "text/x-python",
   "name": "python",
   "nbconvert_exporter": "python",
   "pygments_lexer": "ipython3",
   "version": "3.11.8"
  }
 },
 "nbformat": 4,
 "nbformat_minor": 5
}
