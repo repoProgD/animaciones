{
 "cells": [
  {
   "cell_type": "code",
   "execution_count": 1,
   "id": "2cf0c19a-420c-49ef-a117-f839f5e7d2d5",
   "metadata": {},
   "outputs": [
    {
     "data": {
      "text/html": [
       "<pre style=\"white-space:pre;overflow-x:auto;line-height:normal;font-family:Menlo,'DejaVu Sans Mono',consolas,'Courier New',monospace\">Manim Community <span style=\"color: #008000; text-decoration-color: #008000\">v0.18.0</span>\n",
       "\n",
       "</pre>\n"
      ],
      "text/plain": [
       "Manim Community \u001b[32mv0.\u001b[0m\u001b[32m18.0\u001b[0m\n",
       "\n"
      ]
     },
     "metadata": {},
     "output_type": "display_data"
    }
   ],
   "source": [
    "from manim import *"
   ]
  },
  {
   "cell_type": "code",
   "execution_count": 2,
   "id": "f6286797-927f-4c1c-98a3-c2d5c9def4c3",
   "metadata": {},
   "outputs": [],
   "source": [
    "import random\n",
    "import os"
   ]
  },
  {
   "cell_type": "code",
   "execution_count": 3,
   "id": "906fb84a-abd1-4ac1-82d4-f5d3dbae0e16",
   "metadata": {},
   "outputs": [],
   "source": [
    "#config.media_width = \"75%\"\n",
    "config.verbosity = \"WARNING\"\n",
    "config.background_color = \"#24043d\""
   ]
  },
  {
   "cell_type": "code",
   "execution_count": null,
   "id": "a7639391-a4f9-4eb5-acd2-1031788e7b5a",
   "metadata": {},
   "outputs": [],
   "source": []
  },
  {
   "cell_type": "code",
   "execution_count": null,
   "id": "d0661031-55a1-4a97-882d-cc5542e41f75",
   "metadata": {},
   "outputs": [],
   "source": [
    "%%manim -ql Mazo\n",
    "class Mazo(Scene):\n",
    "    def construct(self):\n",
    "        as_pica = ImageMobject(\"..\\\\images\\\\1p.png\").scale(2)\n",
    "        self.add(as_pica)\n",
    "        self.wait(2)\n",
    "    "
   ]
  },
  {
   "cell_type": "code",
   "execution_count": null,
   "id": "bda0efe0-1007-4919-9593-4ca7adedce11",
   "metadata": {},
   "outputs": [],
   "source": []
  },
  {
   "cell_type": "code",
   "execution_count": 4,
   "id": "6087cfa2-4ef0-4106-b35e-34448afd1c0e",
   "metadata": {},
   "outputs": [],
   "source": [
    "class Mazo:\n",
    "    \"\"\"La clase utiliza una ruta donde estarán las cartas y un parámetro con valor por defecto para la escala \"\"\"\n",
    "    def __init__(self, ruta_carpeta_cartas, escala=1.5):\n",
    "        self.ruta = ruta_carpeta_cartas\n",
    "        self.escala = escala\n",
    "        self.cartas = self._cargar_cartas()\n",
    "        self.barajar()\n",
    "\n",
    "    def _cargar_cartas(self):\n",
    "        \"\"\"Carga todas las imágenes .png de la carpeta y las convierte en ImageMobjects.\"\"\"\n",
    "        cartas = []\n",
    "        for archivo in sorted(os.listdir(self.ruta)):\n",
    "            if archivo.endswith(\".png\"):\n",
    "                carta = ImageMobject(os.path.join(self.ruta, archivo)).scale(self.escala)\n",
    "                cartas.append(carta)\n",
    "        return cartas\n",
    "\n",
    "    def barajar(self):\n",
    "        random.shuffle(self.cartas)\n",
    "\n",
    "    def tomar(self, cantidad=1):\n",
    "        \"\"\"Toma las primeras 'cantidad' cartas del mazo.\"\"\"\n",
    "        seleccion = self.cartas[:cantidad]\n",
    "        self.cartas = self.cartas[cantidad:]\n",
    "        return seleccion\n",
    "\n",
    "    def resetear(self):\n",
    "        \"\"\"Recarga y baraja el mazo (útil para repetir la animación).\"\"\"\n",
    "        self.cartas = self._cargar_cartas()\n",
    "        self.barajar()\n",
    "\n",
    "    def mostrar_en_fila(self, start=LEFT * 4, espacio=1):\n",
    "        \"\"\"Devuelve un Group con las cartas en fila.\"\"\"            # Las imágenes no pueden formar un VGroup, eso es solo para figuras vectorizadas.\n",
    "        fila = Group(*self.cartas).arrange(RIGHT, buff=espacio).move_to(start)    \n",
    "        return fila\n",
    "\n",
    "    def apilar_cartas(self, direccion=DOWN, desplazamiento=0.3):\n",
    "        \"\"\"\n",
    "        Devuelve un Group donde las cartas que se apilan parcialmente.    \n",
    "        dirección: vector de desplazamiento entre cartas (ej. DOWN, RIGHT).\n",
    "        desplazamiento: cuánto se desplaza cada carta respecto a la anterior.\n",
    "        \"\"\"\n",
    "        pila = Group()\n",
    "        for i, carta in enumerate(self.cartas):\n",
    "            carta_copy = carta.copy().shift(i * desplazamiento * direccion)\n",
    "            pila.add(carta_copy)\n",
    "        return pila\n",
    "\n",
    "    def animar_apilamiento(self, escena, n=None, direccion=DOWN, desplazamiento=0.4, duracion=0.5):\n",
    "        \"\"\"\n",
    "        Anima una pila de cartas con desplazamiento parcial.\n",
    "        \n",
    "        - escena: instancia de Scene donde se reproducirá.\n",
    "        - n: cantidad de cartas a mostrar (por defecto, todas).\n",
    "        - direccion: vector de dirección del apilamiento.\n",
    "        - desplazamiento: cuánto se ve de la carta de abajo.\n",
    "        - duracion: duración de la animación por carta.\n",
    "        \"\"\"\n",
    "        if n is None:\n",
    "            n = len(self.cartas)\n",
    "\n",
    "        seleccionadas = self.cartas[:n]\n",
    "\n",
    "        # Recorremos al revés para que la última carta quede arriba, esto afecta al vector dirección, entonces DOWN desplazará las cartas hacia\n",
    "        # arriba en la animación y viceversa\n",
    "        for i, carta in enumerate(reversed(seleccionadas)):\n",
    "            idx = n - 1 - i  # índice desde el final hacia el principio\n",
    "            carta.move_to(ORIGIN + idx * desplazamiento * direccion)\n",
    "            escena.add(carta)\n",
    "            escena.play(FadeIn(carta), run_time=duracion)\n"
   ]
  },
  {
   "cell_type": "code",
   "execution_count": null,
   "id": "415bffaa-e1ce-4199-896d-5ae0a65d98ab",
   "metadata": {},
   "outputs": [],
   "source": []
  },
  {
   "cell_type": "code",
   "execution_count": null,
   "id": "b7c88401-a7a2-4a93-8017-6cafbdbf2668",
   "metadata": {},
   "outputs": [],
   "source": [
    "%%manim -ql MostrarCartas\n",
    "class MostrarCartas(Scene):\n",
    "    def construct(self):\n",
    "        mazo = Mazo(\"../images/cartas\", escala=1.5)\n",
    "\n",
    "        fila = mazo.mostrar_en_fila(start=ORIGIN, espacio=0.5)\n",
    "        self.play(FadeIn(fila))\n",
    "        self.wait(2)\n",
    "\n",
    "        cartas_repartidas = mazo.tomar(3)\n",
    "        for carta in cartas_repartidas:\n",
    "            self.play(carta.animate.shift(UP * 2), run_time=0.5)\n",
    "        self.wait()\n"
   ]
  },
  {
   "cell_type": "code",
   "execution_count": null,
   "id": "4b572410-8b2b-45a5-8118-99eae84737b7",
   "metadata": {},
   "outputs": [],
   "source": [
    "%%manim -ql ApilarCartas\n",
    "class ApilarCartas(Scene):\n",
    "    def construct(self):\n",
    "        mazo = Mazo(\"../images/cartas\", escala=1.5)\n",
    "        cartas = mazo.cartas  # Accedemos a las cartas directamente\n",
    "\n",
    "        # Punto base\n",
    "        base = ORIGIN\n",
    "        direccion = DOWN\n",
    "        desplazamiento = 0.25\n",
    "        duracion = 0.8  # 🕒 tiempo entre cada carta\n",
    "\n",
    "        for i, carta in enumerate(cartas):\n",
    "            carta.move_to(base + i * desplazamiento * direccion)\n",
    "            self.add(carta)  # Agrega la carta pero sin mostrarla aún\n",
    "            self.play(FadeIn(carta), run_time=duracion)\n",
    "\n",
    "        self.wait()"
   ]
  },
  {
   "cell_type": "code",
   "execution_count": null,
   "id": "eb1c04d9-e96a-41d9-90c9-4193e9b5bff5",
   "metadata": {},
   "outputs": [],
   "source": []
  },
  {
   "cell_type": "code",
   "execution_count": 9,
   "id": "7fd2e867-0eed-4922-a81c-60394b384c55",
   "metadata": {},
   "outputs": [
    {
     "name": "stderr",
     "output_type": "stream",
     "text": [
      "                                                                                                                       \r"
     ]
    },
    {
     "data": {
      "text/html": [
       "<video src=\"media\\jupyter\\ApilarArbitrario@2025-04-21@19-16-24.mp4\" controls autoplay loop style=\"max-width: 60%;\"  >\n",
       "      Your browser does not support the <code>video</code> element.\n",
       "    </video>"
      ],
      "text/plain": [
       "<IPython.core.display.Video object>"
      ]
     },
     "metadata": {},
     "output_type": "display_data"
    }
   ],
   "source": [
    "%%manim -qh ApilarArbitrario\n",
    "class ApilarArbitrario(Scene):\n",
    "    def construct(self):\n",
    "        mazo = Mazo(\"../images/cartas\", escala=1.5)\n",
    "        # n es la cantidad de cartas que voy a apilar\n",
    "        mazo.animar_apilamiento(self, n=3, direccion=UP, desplazamiento=0.3, duracion=0.8)\n",
    "        self.wait()"
   ]
  },
  {
   "cell_type": "code",
   "execution_count": null,
   "id": "b42571c4-4226-4cdf-bbe0-64fe19b5acda",
   "metadata": {},
   "outputs": [],
   "source": []
  },
  {
   "cell_type": "code",
   "execution_count": null,
   "id": "2bd10f98-fbed-4e04-90b9-5fd0d51f957e",
   "metadata": {},
   "outputs": [],
   "source": []
  },
  {
   "cell_type": "code",
   "execution_count": null,
   "id": "3dd1e8d6-2e17-406e-9a83-c633d32e7790",
   "metadata": {},
   "outputs": [],
   "source": []
  },
  {
   "cell_type": "code",
   "execution_count": null,
   "id": "25f1c1f2-827d-4475-974b-4a2cc07c089e",
   "metadata": {},
   "outputs": [],
   "source": []
  },
  {
   "cell_type": "code",
   "execution_count": null,
   "id": "7d131206-bf23-4bdf-9a8c-36c736e21c1c",
   "metadata": {},
   "outputs": [],
   "source": []
  },
  {
   "cell_type": "code",
   "execution_count": null,
   "id": "b2d60faf-e1fa-44aa-bc83-ac7958c01447",
   "metadata": {},
   "outputs": [],
   "source": []
  }
 ],
 "metadata": {
  "kernelspec": {
   "display_name": "Python 3 (ipykernel)",
   "language": "python",
   "name": "python3"
  },
  "language_info": {
   "codemirror_mode": {
    "name": "ipython",
    "version": 3
   },
   "file_extension": ".py",
   "mimetype": "text/x-python",
   "name": "python",
   "nbconvert_exporter": "python",
   "pygments_lexer": "ipython3",
   "version": "3.11.8"
  }
 },
 "nbformat": 4,
 "nbformat_minor": 5
}
