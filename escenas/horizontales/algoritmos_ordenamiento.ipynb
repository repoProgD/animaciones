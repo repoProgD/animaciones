{
 "cells": [
  {
   "cell_type": "code",
   "execution_count": 1,
   "id": "b148504f-74dd-49a3-82da-d2aa79a8a5c2",
   "metadata": {},
   "outputs": [],
   "source": [
    "from manim import *"
   ]
  },
  {
   "cell_type": "code",
   "execution_count": 2,
   "id": "1f44427f-844e-4a81-b9bc-5b57e591d5be",
   "metadata": {},
   "outputs": [],
   "source": [
    "import sys\n",
    "from pathlib import Path\n",
    "\n",
    "# Subir un solo nivel desde la carpeta actual (escenas/horizontales)\n",
    "root_path = Path().resolve().parents[1]    # parents[0] sería un salto hacia arriba, [1] son dos\n",
    "\n",
    "# Agregarlo al sys.path si no está ya\n",
    "if str(root_path) not in sys.path:\n",
    "    sys.path.append(str(root_path))"
   ]
  },
  {
   "cell_type": "code",
   "execution_count": 32,
   "id": "078ad617-65c1-4431-a4f9-bb87dce6f0b1",
   "metadata": {},
   "outputs": [
    {
     "data": {
      "text/plain": [
       "WindowsPath('C:/Users/Diego/Desktop/animaciones')"
      ]
     },
     "execution_count": 32,
     "metadata": {},
     "output_type": "execute_result"
    }
   ],
   "source": [
    "root_path"
   ]
  },
  {
   "cell_type": "code",
   "execution_count": 3,
   "id": "bf64c183-757e-4e10-9621-9734ece5bdb1",
   "metadata": {},
   "outputs": [],
   "source": [
    "import src.herramientas as h"
   ]
  },
  {
   "cell_type": "code",
   "execution_count": 33,
   "id": "1ea63fd8-69f8-4ce7-a9aa-4aaa6978b854",
   "metadata": {},
   "outputs": [],
   "source": [
    "import src.widgets.mi_bezier as bz"
   ]
  },
  {
   "cell_type": "code",
   "execution_count": 4,
   "id": "1115ce4a-605c-42df-905e-9332ca44fbe0",
   "metadata": {},
   "outputs": [],
   "source": [
    "# from layouts.basicos import en_linea_horizontal\n",
    "# import src.funciones as f"
   ]
  },
  {
   "cell_type": "code",
   "execution_count": 5,
   "id": "6f1fc7a3-2d67-4078-a998-303a08b09c1b",
   "metadata": {},
   "outputs": [],
   "source": [
    "config.media_width = \"75%\"\n",
    "config.verbosity = \"WARNING\"\n",
    "config.background_color = \"#24043d\""
   ]
  },
  {
   "cell_type": "markdown",
   "id": "012bd623-f20f-4618-a0b0-1c41aea28973",
   "metadata": {},
   "source": [
    "# Fijate, creo que se puede simplificar el ordenamiento de las cartas con Succession(). Abajo el link\n",
    "\n",
    "[succession()](https://docs.manim.community/en/stable/reference/manim.animation.composition.Succession.html)\n"
   ]
  },
  {
   "cell_type": "code",
   "execution_count": 44,
   "id": "327ca9fe-3ed9-4da6-8397-bbc09d551ebc",
   "metadata": {},
   "outputs": [
    {
     "data": {
      "text/html": [
       "<pre style=\"white-space:pre;overflow-x:auto;line-height:normal;font-family:Menlo,'DejaVu Sans Mono',consolas,'Courier New',monospace\">Manim Community <span style=\"color: #008000; text-decoration-color: #008000\">v0.19.0</span>\n",
       "\n",
       "</pre>\n"
      ],
      "text/plain": [
       "Manim Community \u001b[32mv0.\u001b[0m\u001b[32m19.0\u001b[0m\n",
       "\n"
      ]
     },
     "metadata": {},
     "output_type": "display_data"
    },
    {
     "name": "stderr",
     "output_type": "stream",
     "text": [
      "                                                                                                                       "
     ]
    },
    {
     "name": "stdout",
     "output_type": "stream",
     "text": [
      "1.0370370370370363\n",
      "1.5555555555555554\n",
      "11.033333333333333\n"
     ]
    },
    {
     "data": {
      "text/html": [
       "<video src=\"media\\jupyter\\InsertionSort@2025-05-01@14-29-45.mp4\" controls autoplay loop style=\"max-width: 75%;\"  >\n",
       "      Your browser does not support the <code>video</code> element.\n",
       "    </video>"
      ],
      "text/plain": [
       "<IPython.core.display.Video object>"
      ]
     },
     "metadata": {},
     "output_type": "display_data"
    }
   ],
   "source": [
    "%%manim -ql InsertionSort\n",
    "class InsertionSort(Scene): \n",
    "#class MiClase(MovingCameraScene):\n",
    "    \n",
    "    def construct(self):\n",
    "        # Obtener el tamaño de la pantalla\n",
    "        ancho = self.camera.frame_width\n",
    "        alto = self.camera.frame_height\n",
    "    \n",
    "        #Añadir logo\n",
    "        logo = h.Logo()\n",
    "        self.add(logo)\n",
    "\n",
    "        cartas_bulk = h.cargar_imagenes_desde_carpeta(\"cartas\")\n",
    "        indices = [32, 12, 8, 24, 20, 28, 0, 16, 36]\n",
    "        # Crear las cartas\n",
    "        cartas = Group(*[cartas_bulk[i] for i in indices])\n",
    "        en_linea_horizontal(cartas, espacio=1.25, alineacion=\"derecha\", max_izquierda=5, max_derecha=0, altura=1)\n",
    "\n",
    "        # FadeIn secuencial de las cartas\n",
    "        self.play(LaggedStart(*[FadeIn(carta) for carta in cartas], lag_ratio=0.7))\n",
    "\n",
    "        # Movimiento grupal + scale\n",
    "        # self.play(cartas.animate.shift(1 * RIGHT + 2.25 * DOWN).scale(0.95))\n",
    "\n",
    "        # Crear los anchors (Point en cada centro de carta)\n",
    "        anchors = Group(*[Point(carta.get_center()) for carta in cartas])\n",
    "\n",
    "        # Opcional para verlos: agregá puntitos rojos\n",
    "        debug_dots = Group(*[Dot(anchor.get_center(), color=RED, radius=0.05) for anchor in anchors])\n",
    "        self.add(debug_dots)\n",
    "        self.add(anchors)\n",
    "\n",
    "        self.play(cartas[0].animate.shift(DOWN * 1.6))\n",
    "        self.wait(1.25)\n",
    "        self.play(cartas[2].animate.move_to(anchors[0].get_center()))\n",
    "        self.wait(1.25)\n",
    "        self.play(cartas[-2].animate.move_to(anchors[2].get_center()))\n",
    "        self.wait(1.25)\n",
    "        self.play(cartas[3].animate.shift(DOWN * 1.6))\n",
    "        self.wait(1.25)\n",
    "        self.play(cartas[4].animate.move_to(anchors[3].get_center()))\n",
    "        self.wait(1.25)\n",
    "        self.play(cartas[3].animate.move_to(anchors[4].get_center()))\n",
    "        self.wait(1.25)\n",
    "        self.play(cartas[6].animate.shift(DOWN * 1.6))\n",
    "        self.wait(1.25)\n",
    "        self.play(cartas[0].animate.move_to(anchors[6].get_center()))\n",
    "        self.wait(1.25)\n",
    "        self.play(cartas[-1].animate.move_to(anchors[-2].get_center()))\n",
    "        self.wait(1.25)\n",
    "        self.play(cartas[6].animate.move_to(anchors[-1].get_center()))\n",
    "        print(cartas[0].width)   # Ancho de la carta\n",
    "        print(cartas[0].height)  # Alto de la carta\n",
    "        print(cartas.width)\n",
    "\n",
    "        #grilla = h.GrillaRegla()\n",
    "        #self.add(grilla)\n",
    "        self.wait(5)\n",
    "        "
   ]
  },
  {
   "cell_type": "code",
   "execution_count": 15,
   "id": "03409d77-3329-41fb-a83c-01f2852f8890",
   "metadata": {},
   "outputs": [
    {
     "ename": "SyntaxError",
     "evalue": "invalid syntax (3825687111.py, line 1)",
     "output_type": "error",
     "traceback": [
      "\u001b[1;36m  Cell \u001b[1;32mIn[15], line 1\u001b[1;36m\u001b[0m\n\u001b[1;33m    6 pasa por debajo de 5\u001b[0m\n\u001b[1;37m      ^\u001b[0m\n\u001b[1;31mSyntaxError\u001b[0m\u001b[1;31m:\u001b[0m invalid syntax\n"
     ]
    }
   ],
   "source": [
    "6 [3] pasa por debajo de 5 [4]\n",
    "8 [0] pasa por debajo de muchas\n",
    "10 [6] pasa por debajo de 9 [-1]"
   ]
  },
  {
   "cell_type": "code",
   "execution_count": null,
   "id": "c1570d1b-7ef6-4e5d-a64f-62b73a2e55f4",
   "metadata": {},
   "outputs": [],
   "source": []
  },
  {
   "cell_type": "code",
   "execution_count": 50,
   "id": "03571f13-1c32-47ca-8061-020bb20fd10c",
   "metadata": {},
   "outputs": [
    {
     "data": {
      "text/html": [
       "<pre style=\"white-space:pre;overflow-x:auto;line-height:normal;font-family:Menlo,'DejaVu Sans Mono',consolas,'Courier New',monospace\">Manim Community <span style=\"color: #008000; text-decoration-color: #008000\">v0.19.0</span>\n",
       "\n",
       "</pre>\n"
      ],
      "text/plain": [
       "Manim Community \u001b[32mv0.\u001b[0m\u001b[32m19.0\u001b[0m\n",
       "\n"
      ]
     },
     "metadata": {},
     "output_type": "display_data"
    },
    {
     "name": "stderr",
     "output_type": "stream",
     "text": [
      "                                                                                                                       "
     ]
    },
    {
     "data": {
      "text/html": [
       "<video src=\"media\\jupyter\\InsertionSort@2025-05-01@19-30-24.mp4\" controls autoplay loop style=\"max-width: 75%;\"  >\n",
       "      Your browser does not support the <code>video</code> element.\n",
       "    </video>"
      ],
      "text/plain": [
       "<IPython.core.display.Video object>"
      ]
     },
     "metadata": {},
     "output_type": "display_data"
    }
   ],
   "source": [
    "%%manim -ql InsertionSort\n",
    "class InsertionSort(Scene): \n",
    "#class MiClase(MovingCameraScene):\n",
    "    \n",
    "    def construct(self):\n",
    "        # Obtener el tamaño de la pantalla\n",
    "        ancho = self.camera.frame_width\n",
    "        alto = self.camera.frame_height\n",
    "    \n",
    "        #Añadir logo\n",
    "        logo = h.Logo()\n",
    "        self.add(logo)\n",
    "\n",
    "        cartas_bulk = h.cargar_imagenes_desde_carpeta(\"cartas\")\n",
    "        indices = [32, 12, 8, 24, 20, 28, 0, 16, 36]\n",
    "        # Crear las cartas\n",
    "        cartas = Group(*[cartas_bulk[i] for i in indices])\n",
    "        en_linea_horizontal(cartas, espacio=1.25, alineacion=\"derecha\", max_izquierda=5, max_derecha=0, altura=1)\n",
    "\n",
    "        # FadeIn secuencial de las cartas\n",
    "        self.play(LaggedStart(*[FadeIn(carta) for carta in cartas], lag_ratio=0.5))\n",
    "\n",
    "        # Crear los anchors (Point en cada centro de carta)\n",
    "        anchors = Group(*[Point(carta.get_center()) for carta in cartas])\n",
    "\n",
    "        # Opcional para verlos: agregá puntitos rojos\n",
    "        #debug_dots = Group(*[Dot(anchor.get_center(), color=RED, radius=0.05) for anchor in anchors])\n",
    "        #self.add(debug_dots)\n",
    "        #self.add(anchors)\n",
    "\n",
    "        self.play(cartas[0].animate.shift(DOWN * 1.6))\n",
    "        self.wait()\n",
    "         \n",
    "        # Creo el path para la siguiente carta\n",
    "        path = CubicBezier(\n",
    "        cartas[2].get_center(),\n",
    "        (cartas[2].get_center() + anchors[0].get_center())/2 + 0.8 * LEFT + UP * 0.7,\n",
    "        (cartas[2].get_center() + anchors[0].get_center())/2 + 0.11 * RIGHT + UP * 0.7,\n",
    "        anchors[0].get_center()\n",
    "        )\n",
    "\n",
    "        \n",
    "        # subo la carta\n",
    "        self.play(cartas[2].animate.scale(1.25), rate_func=smooth, run_time=0.4)\n",
    "        # Muevo\n",
    "        self.play(MoveAlongPath(cartas[2], path, rate_func=smooth, run_time=1))\n",
    "        # bajo la carta\n",
    "        self.play(cartas[2].animate.scale(0.8), rate_func=smooth, run_time=0.6)\n",
    "        self.wait()\n",
    "        \n",
    "        # Creo el path para la siguiente carta\n",
    "        path = CubicBezier(\n",
    "        cartas[-2].get_center(),\n",
    "        (cartas[-2].get_center() + anchors[2].get_center())/2 + 0.8 * LEFT + UP * 1,\n",
    "        (cartas[-2].get_center() + anchors[2].get_center())/2 + 0.11 * RIGHT + UP * 1,\n",
    "        anchors[2].get_center()\n",
    "        )\n",
    "\n",
    "        # subo la carta\n",
    "        self.play(cartas[-2].animate.scale(1.25), rate_func=smooth, run_time=0.4)\n",
    "        # Muevo\n",
    "        self.play(MoveAlongPath(cartas[-2], path, rate_func=smooth, run_time=1))\n",
    "        # bajo la carta\n",
    "        self.play(cartas[-2].animate.scale(0.8), rate_func=smooth, run_time=0.5)\n",
    "        self.wait()\n",
    "        \n",
    "        # self.play(cartas[-2].animate.move_to(anchors[2].get_center()))\n",
    "        # self.wait(1.25)\n",
    "        self.play(cartas[3].animate.scale(1.25), rate_func=smooth, run_time=0.4)\n",
    "        self.play(cartas[3].animate.shift(DOWN * 1.6))\n",
    "        self.play(cartas[3].animate.scale(0.8), rate_func=smooth, run_time=0.5)\n",
    "        self.wait()\n",
    "\n",
    "        self.play(cartas[4].animate.scale(1.25), rate_func=smooth, run_time=0.4)\n",
    "        self.play(cartas[4].animate.move_to(anchors[3].get_center()))\n",
    "        self.play(cartas[4].animate.scale(0.8), rate_func=smooth, run_time=0.5)\n",
    "        self.wait()\n",
    "\n",
    "        \n",
    "        cartas[3].set(z_index=12)\n",
    "        self.play(cartas[3].animate.scale(1.25), rate_func=smooth, run_time=0.4)\n",
    "        self.play(cartas[3].animate.move_to(anchors[4].get_center()))\n",
    "        self.play(cartas[3].animate.scale(0.8), rate_func=smooth, run_time=0.5)\n",
    "        self.wait()\n",
    "        \n",
    "        self.play(cartas[6].animate.scale(1.25), rate_func=smooth, run_time=0.4)\n",
    "        self.play(cartas[6].animate.shift(DOWN * 1.6))\n",
    "        self.play(cartas[6].animate.scale(0.8), rate_func=smooth, run_time=0.5)\n",
    "        self.wait()\n",
    "\n",
    "        cartas[0].set(z_index=20) \n",
    "        # Creo el path para la siguiente carta\n",
    "        path = CubicBezier(\n",
    "        cartas[0].get_center(),\n",
    "        (cartas[0].get_center() + anchors[6].get_center())/2 + 0.8 * LEFT + UP * 1,\n",
    "        (cartas[0].get_center() + anchors[6].get_center())/2 + 0.11 * RIGHT + UP * 1,\n",
    "        anchors[6].get_center()\n",
    "        )\n",
    "        # subo la carta\n",
    "        self.play(cartas[0].animate.scale(1.25), rate_func=smooth, run_time=0.4)\n",
    "        # Muevo\n",
    "        self.play(MoveAlongPath(cartas[0], path, rate_func=smooth, run_time=1))\n",
    "        # bajo la carta\n",
    "        self.play(cartas[0].animate.scale(0.8), rate_func=smooth, run_time=0.5)\n",
    "        self.wait()\n",
    "\n",
    "        self.play(cartas[-1].animate.scale(1.25), rate_func=smooth, run_time=0.4)\n",
    "        self.play(cartas[-1].animate.move_to(anchors[-2].get_center()))\n",
    "        self.play(cartas[-1].animate.scale(0.8), rate_func=smooth, run_time=0.5)\n",
    "        self.wait()\n",
    "        \n",
    "        cartas[6].set(z_index=50)\n",
    "\n",
    "        # Creo el path para la siguiente carta\n",
    "        path = CubicBezier(\n",
    "        cartas[6].get_center(),\n",
    "        (cartas[6].get_center() + anchors[-1].get_center())/2 + 0.8 * LEFT + UP * 0.6,\n",
    "        (cartas[6].get_center() + anchors[-1].get_center())/2 + 0.11 * RIGHT + UP * 0.6,\n",
    "        anchors[-1].get_center()\n",
    "        )\n",
    "        # subo la carta\n",
    "        self.play(cartas[6].animate.scale(1.25), rate_func=smooth, run_time=0.4)\n",
    "        # Muevo\n",
    "        self.play(MoveAlongPath(cartas[6], path, rate_func=smooth, run_time=1))\n",
    "        # bajo la carta\n",
    "        self.play(cartas[6].animate.scale(0.8), rate_func=smooth, run_time=0.5)\n",
    "        self.wait(1)\n",
    "        \n",
    "        \n",
    "        self.wait(3)\n",
    "        \n",
    "        ###########CÖMO SIGUE!\n",
    "\n",
    "        # Se juntan todas las cartas en el anchors[4]\n",
    "        # desde ahí las volves a sus posiciones originales: cards[0] a anchors[0], cards[1] a anchors[1] y así sucesivamente.\n",
    "        # Aparecen los índices arriba de las cartas y explicamos el algoritmo. Abajo el snippet de código."
   ]
  },
  {
   "cell_type": "code",
   "execution_count": null,
   "id": "fd2ef6c0-c79b-4aa5-ad14-c97e3ecc5fda",
   "metadata": {},
   "outputs": [],
   "source": []
  }
 ],
 "metadata": {
  "kernelspec": {
   "display_name": "Python 3 (ipykernel)",
   "language": "python",
   "name": "python3"
  },
  "language_info": {
   "codemirror_mode": {
    "name": "ipython",
    "version": 3
   },
   "file_extension": ".py",
   "mimetype": "text/x-python",
   "name": "python",
   "nbconvert_exporter": "python",
   "pygments_lexer": "ipython3",
   "version": "3.10.16"
  }
 },
 "nbformat": 4,
 "nbformat_minor": 5
}
