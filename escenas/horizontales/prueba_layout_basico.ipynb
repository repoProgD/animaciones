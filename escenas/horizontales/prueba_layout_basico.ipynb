{
 "cells": [
  {
   "cell_type": "code",
   "execution_count": 1,
   "id": "b148504f-74dd-49a3-82da-d2aa79a8a5c2",
   "metadata": {},
   "outputs": [],
   "source": [
    "from manim import *"
   ]
  },
  {
   "cell_type": "code",
   "execution_count": null,
   "id": "390cd5bb-260b-40cf-85e7-3a4c9f6314ae",
   "metadata": {},
   "outputs": [],
   "source": [
    "import sys\n",
    "from pathlib import Path\n",
    "\n",
    "# Subir un solo nivel desde la carpeta actual (escenas/horizontales)\n",
    "root_path = Path().resolve().parents[1]    # parents[0] sería un salto hacia arriba, [1] son dos\n",
    "\n",
    "# Agregarlo al sys.path si no está ya\n",
    "if str(root_path) not in sys.path:\n",
    "    sys.path.append(str(root_path))"
   ]
  },
  {
   "cell_type": "code",
   "execution_count": null,
   "id": "da20c10a-2129-4d6f-b7d9-71c27cb6b871",
   "metadata": {},
   "outputs": [],
   "source": [
    "import src.herramientas as h"
   ]
  },
  {
   "cell_type": "code",
   "execution_count": null,
   "id": "eb5c1cba-4be3-4d97-8362-fc8040452172",
   "metadata": {},
   "outputs": [],
   "source": [
    "# from layouts.basicos import en_linea_horizontal\n",
    "# import src.funciones as f"
   ]
  },
  {
   "cell_type": "code",
   "execution_count": 4,
   "id": "bf64c183-757e-4e10-9621-9734ece5bdb1",
   "metadata": {},
   "outputs": [],
   "source": [
    "import src.herramientas as h"
   ]
  },
  {
   "cell_type": "code",
   "execution_count": 2,
   "id": "6f1fc7a3-2d67-4078-a998-303a08b09c1b",
   "metadata": {},
   "outputs": [],
   "source": [
    "config.media_width = \"75%\"\n",
    "config.verbosity = \"WARNING\"\n",
    "config.background_color = \"#24043d\""
   ]
  },
  {
   "cell_type": "code",
   "execution_count": null,
   "id": "cf3bf9d1-763c-4fc4-adc8-fae01c5d5d06",
   "metadata": {},
   "outputs": [],
   "source": [
    "grupo: VGroup, espacio: float = 1.0, alineacion: str = \"centro\", \n",
    "                         max_izquierda: float = -5, max_derecha: float = 5, altura: float = 0"
   ]
  },
  {
   "cell_type": "code",
   "execution_count": 91,
   "id": "03409d77-3329-41fb-a83c-01f2852f8890",
   "metadata": {},
   "outputs": [
    {
     "data": {
      "text/html": [
       "<pre style=\"white-space:pre;overflow-x:auto;line-height:normal;font-family:Menlo,'DejaVu Sans Mono',consolas,'Courier New',monospace\">Manim Community <span style=\"color: #008000; text-decoration-color: #008000\">v0.19.0</span>\n",
       "\n",
       "</pre>\n"
      ],
      "text/plain": [
       "Manim Community \u001b[32mv0.\u001b[0m\u001b[32m19.0\u001b[0m\n",
       "\n"
      ]
     },
     "metadata": {},
     "output_type": "display_data"
    },
    {
     "name": "stderr",
     "output_type": "stream",
     "text": [
      "                                                                                                                       "
     ]
    },
    {
     "data": {
      "text/html": [
       "<video src=\"media\\jupyter\\PruebaLayouts@2025-04-25@12-10-40.mp4\" controls autoplay loop style=\"max-width: 75%;\"  >\n",
       "      Your browser does not support the <code>video</code> element.\n",
       "    </video>"
      ],
      "text/plain": [
       "<IPython.core.display.Video object>"
      ]
     },
     "metadata": {},
     "output_type": "display_data"
    }
   ],
   "source": [
    "%%manim -ql PruebaLayouts\n",
    "class PruebaLayouts(Scene):\n",
    "    def construct(self):\n",
    "        cuadrados = VGroup(*[Square(0.5, color=BLUE, fill_opacity=0.5) for _ in range(7)])\n",
    "        # Distribuir los cuadrados en línea horizontal, centrados y moverlos 2 unidades hacia arriba\n",
    "        en_linea_horizontal(cuadrados, espacio=1, alineacion=\"derecha\", max_izquierda = 10, max_derecha = 2, altura=-3)\n",
    "        self.play(FadeIn(cuadrados))\n",
    "        self.wait(2)\n"
   ]
  },
  {
   "cell_type": "code",
   "execution_count": 20,
   "id": "03571f13-1c32-47ca-8061-020bb20fd10c",
   "metadata": {},
   "outputs": [
    {
     "data": {
      "text/html": [
       "<pre style=\"white-space:pre;overflow-x:auto;line-height:normal;font-family:Menlo,'DejaVu Sans Mono',consolas,'Courier New',monospace\">Manim Community <span style=\"color: #008000; text-decoration-color: #008000\">v0.19.0</span>\n",
       "\n",
       "</pre>\n"
      ],
      "text/plain": [
       "Manim Community \u001b[32mv0.\u001b[0m\u001b[32m19.0\u001b[0m\n",
       "\n"
      ]
     },
     "metadata": {},
     "output_type": "display_data"
    },
    {
     "name": "stderr",
     "output_type": "stream",
     "text": [
      "                                                                                                                       "
     ]
    },
    {
     "data": {
      "text/html": [
       "<video src=\"media\\jupyter\\PruebaCircular@2025-04-25@08-36-37.mp4\" controls autoplay loop style=\"max-width: 75%;\"  >\n",
       "      Your browser does not support the <code>video</code> element.\n",
       "    </video>"
      ],
      "text/plain": [
       "<IPython.core.display.Video object>"
      ]
     },
     "metadata": {},
     "output_type": "display_data"
    }
   ],
   "source": [
    "%%manim -ql PruebaCircular\n",
    "\n",
    "class PruebaCircular(Scene):\n",
    "    def construct(self):\n",
    "        # Crear un grupo de 6 círculos\n",
    "        circulos = VGroup(*[Circle(radius=0.5, color=BLUE, fill_opacity=0.5) for _ in range(6)])\n",
    "        \n",
    "        # Usar el layout en círculo con radio 3 y altura 2\n",
    "        en_circulo(circulos, radio=2, espacio=0.3, alineacion=\"centro\", altura=2)\n",
    "        \n",
    "        # Animar el grupo de círculos\n",
    "        self.play(FadeIn(circulos))\n",
    "        self.wait(2)\n"
   ]
  },
  {
   "cell_type": "code",
   "execution_count": 22,
   "id": "fd2ef6c0-c79b-4aa5-ad14-c97e3ecc5fda",
   "metadata": {},
   "outputs": [
    {
     "data": {
      "text/html": [
       "<pre style=\"white-space:pre;overflow-x:auto;line-height:normal;font-family:Menlo,'DejaVu Sans Mono',consolas,'Courier New',monospace\">Manim Community <span style=\"color: #008000; text-decoration-color: #008000\">v0.19.0</span>\n",
       "\n",
       "</pre>\n"
      ],
      "text/plain": [
       "Manim Community \u001b[32mv0.\u001b[0m\u001b[32m19.0\u001b[0m\n",
       "\n"
      ]
     },
     "metadata": {},
     "output_type": "display_data"
    },
    {
     "name": "stderr",
     "output_type": "stream",
     "text": [
      "                                                                                                                       "
     ]
    },
    {
     "data": {
      "text/html": [
       "<video src=\"media\\jupyter\\PruebaLayoutCircular@2025-04-25@08-39-42.mp4\" controls autoplay loop style=\"max-width: 75%;\"  >\n",
       "      Your browser does not support the <code>video</code> element.\n",
       "    </video>"
      ],
      "text/plain": [
       "<IPython.core.display.Video object>"
      ]
     },
     "metadata": {},
     "output_type": "display_data"
    }
   ],
   "source": [
    "%%manim -ql PruebaLayoutCircular\n",
    "\n",
    "class PruebaLayoutCircular(Scene):\n",
    "    def construct(self):\n",
    "        # Crear un grupo de cuadrados\n",
    "        cuadrados = VGroup(*[Square(0.6, color=BLUE, fill_opacity=0.5) for _ in range(6)])\n",
    "        \n",
    "        # Distribuir los cuadrados en un layout circular\n",
    "        en_circulo(cuadrados, radio=2, altura=1)\n",
    "        \n",
    "        # Mostrar los cuadrados\n",
    "        self.play(FadeIn(cuadrados))\n",
    "        self.wait(2)\n"
   ]
  },
  {
   "cell_type": "code",
   "execution_count": 23,
   "id": "d114c514-b7bc-445d-bc90-bf1dc6b08f1b",
   "metadata": {},
   "outputs": [
    {
     "data": {
      "text/html": [
       "<pre style=\"white-space:pre;overflow-x:auto;line-height:normal;font-family:Menlo,'DejaVu Sans Mono',consolas,'Courier New',monospace\">Manim Community <span style=\"color: #008000; text-decoration-color: #008000\">v0.19.0</span>\n",
       "\n",
       "</pre>\n"
      ],
      "text/plain": [
       "Manim Community \u001b[32mv0.\u001b[0m\u001b[32m19.0\u001b[0m\n",
       "\n"
      ]
     },
     "metadata": {},
     "output_type": "display_data"
    },
    {
     "name": "stderr",
     "output_type": "stream",
     "text": [
      "                                                                                                                       "
     ]
    },
    {
     "data": {
      "text/html": [
       "<video src=\"media\\jupyter\\PruebaLayoutCircular@2025-04-25@08-41-25.mp4\" controls autoplay loop style=\"max-width: 75%;\"  >\n",
       "      Your browser does not support the <code>video</code> element.\n",
       "    </video>"
      ],
      "text/plain": [
       "<IPython.core.display.Video object>"
      ]
     },
     "metadata": {},
     "output_type": "display_data"
    }
   ],
   "source": [
    "%%manim -ql PruebaLayoutCircular\n",
    "\n",
    "class PruebaLayoutCircular(Scene):\n",
    "    def construct(self):\n",
    "        # Crear un grupo de cuadrados\n",
    "        cuadrados = VGroup(*[Square(0.6, color=BLUE, fill_opacity=0.5) for _ in range(6)])\n",
    "        \n",
    "        # Distribuir los cuadrados en un layout circular\n",
    "        en_circulo(cuadrados, radio=3, altura=1)\n",
    "        \n",
    "        # Animación: rotar el grupo de cuadrados hacia la derecha\n",
    "        self.play(Rotate(cuadrados, angle=PI / 2))  # Rotar el grupo completo 90 grados hacia la derecha\n",
    "        \n",
    "        # Animación: rotar cada cuadrado hacia la izquierda individualmente\n",
    "        for cuadrado in cuadrados:\n",
    "            self.play(Rotate(cuadrado, angle=-PI / 2))  # Rotar cada cuadrado 90 grados hacia la izquierda\n",
    "        \n",
    "        self.wait(2)\n"
   ]
  },
  {
   "cell_type": "code",
   "execution_count": 38,
   "id": "7504d5b7-ceee-42a9-ab3c-f984237cd81f",
   "metadata": {},
   "outputs": [
    {
     "data": {
      "text/html": [
       "<pre style=\"white-space:pre;overflow-x:auto;line-height:normal;font-family:Menlo,'DejaVu Sans Mono',consolas,'Courier New',monospace\">Manim Community <span style=\"color: #008000; text-decoration-color: #008000\">v0.19.0</span>\n",
       "\n",
       "</pre>\n"
      ],
      "text/plain": [
       "Manim Community \u001b[32mv0.\u001b[0m\u001b[32m19.0\u001b[0m\n",
       "\n"
      ]
     },
     "metadata": {},
     "output_type": "display_data"
    },
    {
     "name": "stderr",
     "output_type": "stream",
     "text": [
      "                                                                                                                       "
     ]
    },
    {
     "data": {
      "text/html": [
       "<video src=\"media\\jupyter\\PruebaLayoutCircular3@2025-04-25@08-59-54.mp4\" controls autoplay loop style=\"max-width: 75%;\"  >\n",
       "      Your browser does not support the <code>video</code> element.\n",
       "    </video>"
      ],
      "text/plain": [
       "<IPython.core.display.Video object>"
      ]
     },
     "metadata": {},
     "output_type": "display_data"
    }
   ],
   "source": [
    "%%manim -ql PruebaLayoutCircular3\n",
    "\n",
    "class PruebaLayoutCircular3(Scene):\n",
    "    def construct(self):\n",
    "        # Crear un grupo de cuadrados\n",
    "        cuadrados = VGroup(*[Square(0.6, color=BLUE, fill_opacity=0.5) for _ in range(6)])\n",
    "        \n",
    "        # Distribuir los cuadrados en un layout circular\n",
    "        en_circulo(cuadrados, radio=3, altura=1)\n",
    "        \n",
    "        # Animación: rotar el círculo lentamente en sentido contrario\n",
    "        # y los cuadrados rápidamente en sentido contrario\n",
    "        self.play(\n",
    "            # Rotación del grupo completo (cuadrados) lentamente en sentido contrario\n",
    "            Rotate(cuadrados, angle=PI, run_time=10),  # El grupo de cuadrados gira lentamente en sentido contrario\n",
    "            \n",
    "            # Rotación individual de cada cuadrado rápidamente en sentido contrario\n",
    "            *[Rotate(cuadrado, angle=-5 * PI, run_time=5) for cuadrado in cuadrados]  # Los cuadrados giran rápidamente\n",
    "        )\n",
    "        \n",
    "        self.wait(2)\n",
    "\n",
    "\n",
    "\n",
    "\n"
   ]
  },
  {
   "cell_type": "code",
   "execution_count": 47,
   "id": "6a6db611-5e6a-4766-8481-8e265ef78e02",
   "metadata": {},
   "outputs": [
    {
     "data": {
      "text/html": [
       "<pre style=\"white-space:pre;overflow-x:auto;line-height:normal;font-family:Menlo,'DejaVu Sans Mono',consolas,'Courier New',monospace\">Manim Community <span style=\"color: #008000; text-decoration-color: #008000\">v0.19.0</span>\n",
       "\n",
       "</pre>\n"
      ],
      "text/plain": [
       "Manim Community \u001b[32mv0.\u001b[0m\u001b[32m19.0\u001b[0m\n",
       "\n"
      ]
     },
     "metadata": {},
     "output_type": "display_data"
    },
    {
     "name": "stderr",
     "output_type": "stream",
     "text": [
      "                                                                                                                       "
     ]
    },
    {
     "data": {
      "text/html": [
       "<video src=\"media\\jupyter\\TransformacionLayouts@2025-04-25@09-23-40.mp4\" controls autoplay loop style=\"max-width: 75%;\"  >\n",
       "      Your browser does not support the <code>video</code> element.\n",
       "    </video>"
      ],
      "text/plain": [
       "<IPython.core.display.Video object>"
      ]
     },
     "metadata": {},
     "output_type": "display_data"
    }
   ],
   "source": [
    "%%manim -ql TransformacionLayouts\n",
    "\n",
    "def en_linea(grupo: VGroup, espacio: float = 1.0) -> VGroup:\n",
    "    \"\"\"\n",
    "    Distribuye un grupo de objetos en línea horizontal con espacio uniforme.\n",
    "    \"\"\"\n",
    "    n = len(grupo)\n",
    "    for i, obj in enumerate(grupo):\n",
    "        obj.move_to([i * espacio, 0, 0])\n",
    "    return grupo\n",
    "\n",
    "def en_circulo(grupo: VGroup, radio: float = 3) -> list:\n",
    "    \"\"\"\n",
    "    Distribuye un grupo de objetos en un layout circular.\n",
    "    \"\"\"\n",
    "    n = len(grupo)\n",
    "    posiciones = []\n",
    "    for i, obj in enumerate(grupo):\n",
    "        angulo = 2 * PI * i / n\n",
    "        posicion = [radio * np.cos(angulo), radio * np.sin(angulo), 0]\n",
    "        posiciones.append(posicion)\n",
    "    return posiciones  # Devolver las posiciones destino para los objetos\n",
    "\n",
    "class TransformacionLayouts(Scene):\n",
    "    def construct(self):\n",
    "        # Crear un grupo de cuadrados\n",
    "        cuadrados = VGroup(*[Square(0.6, color=BLUE, fill_opacity=0.5) for _ in range(6)])\n",
    "\n",
    "        # Crear el layout lineal y mostrarlo\n",
    "        en_linea(cuadrados, espacio=1.2)\n",
    "        self.play(FadeIn(cuadrados))  # Mostrar los cuadrados en su disposición lineal\n",
    "        self.wait(1)\n",
    "\n",
    "        # Crear el layout circular (puntos destino, pero no visible)\n",
    "        puntos_circulares = en_circulo(cuadrados, radio=3)\n",
    "        \n",
    "        # Animación: mover cada cuadrado del layout lineal a su punto destino en el layout circular\n",
    "        for cuadrado, punto in zip(cuadrados, puntos_circulares):\n",
    "            self.play(cuadrado.animate.shift(punto - cuadrado.get_center()))  # Desplazamiento hacia el punto destino\n",
    "                                                                              ### Desplazmiento lento, puede mejorar con función built-in de animación\n",
    "        self.wait(2)\n"
   ]
  },
  {
   "cell_type": "code",
   "execution_count": 48,
   "id": "5ee7bdb2-562b-49eb-b9d6-adc74c353474",
   "metadata": {},
   "outputs": [
    {
     "data": {
      "text/html": [
       "<pre style=\"white-space:pre;overflow-x:auto;line-height:normal;font-family:Menlo,'DejaVu Sans Mono',consolas,'Courier New',monospace\">Manim Community <span style=\"color: #008000; text-decoration-color: #008000\">v0.19.0</span>\n",
       "\n",
       "</pre>\n"
      ],
      "text/plain": [
       "Manim Community \u001b[32mv0.\u001b[0m\u001b[32m19.0\u001b[0m\n",
       "\n"
      ]
     },
     "metadata": {},
     "output_type": "display_data"
    },
    {
     "name": "stderr",
     "output_type": "stream",
     "text": [
      "                                                                                                                       "
     ]
    },
    {
     "data": {
      "text/html": [
       "<video src=\"media\\jupyter\\TransformacionLayouts2@2025-04-25@09-40-43.mp4\" controls autoplay loop style=\"max-width: 75%;\"  >\n",
       "      Your browser does not support the <code>video</code> element.\n",
       "    </video>"
      ],
      "text/plain": [
       "<IPython.core.display.Video object>"
      ]
     },
     "metadata": {},
     "output_type": "display_data"
    }
   ],
   "source": [
    "%%manim -ql TransformacionLayouts2\n",
    "\n",
    "def en_linea(grupo: VGroup, espacio: float = 1.0) -> VGroup:\n",
    "    \"\"\"\n",
    "    Distribuye un grupo de objetos en línea horizontal con espacio uniforme.\n",
    "    \"\"\"\n",
    "    n = len(grupo)\n",
    "    for i, obj in enumerate(grupo):\n",
    "        obj.move_to([i * espacio, 0, 0])\n",
    "    return grupo\n",
    "\n",
    "def en_circulo(grupo: VGroup, radio: float = 3) -> list:\n",
    "    \"\"\"\n",
    "    Distribuye un grupo de objetos en un layout circular.\n",
    "    \"\"\"\n",
    "    n = len(grupo)\n",
    "    posiciones = []\n",
    "    for i, obj in enumerate(grupo):\n",
    "        angulo = 2 * PI * i / n\n",
    "        posicion = [radio * np.cos(angulo), radio * np.sin(angulo), 0]\n",
    "        posiciones.append(posicion)\n",
    "    return posiciones  # Devolver las posiciones destino para los objetos\n",
    "\n",
    "def mover_por_indice(puntos: list, pasos: int) -> list:\n",
    "    \"\"\"\n",
    "    Mueve los objetos del layout circular basándose en un desplazamiento de índices.\n",
    "    Los \"pasos\" corresponden a un desplazamiento cíclico en la lista de posiciones.\n",
    "    \"\"\"\n",
    "    n = len(puntos)\n",
    "    # Mover los objetos desplazando los índices en la lista\n",
    "    desplazados = puntos[pasos % n:] + puntos[:pasos % n]\n",
    "    return desplazados\n",
    "\n",
    "class TransformacionLayouts2(Scene):\n",
    "    def construct(self):\n",
    "        # Crear un grupo de cuadrados\n",
    "        cuadrados = VGroup(*[Square(0.6, color=BLUE, fill_opacity=0.5) for _ in range(6)])\n",
    "\n",
    "        # Crear el layout lineal y mostrarlo\n",
    "        en_linea(cuadrados, espacio=1.2)\n",
    "        self.play(FadeIn(cuadrados))  # Mostrar los cuadrados en su disposición lineal\n",
    "        self.wait(1)\n",
    "\n",
    "        # Crear el layout circular (puntos destino, pero no visible)\n",
    "        puntos_circulares = en_circulo(cuadrados, radio=3)\n",
    "        \n",
    "        # Definir cuántos pasos queremos mover los objetos (esto puede ser variable)\n",
    "        pasos = 3  # Por ejemplo, 3 pasos en sentido antihorario\n",
    "\n",
    "        # Calcular las posiciones destino rotadas por el número de pasos\n",
    "        puntos_rotados = mover_por_indice(puntos_circulares, pasos)\n",
    "\n",
    "        # Animación: mover cada cuadrado del layout lineal a su punto destino en el layout circular\n",
    "        for cuadrado, punto in zip(cuadrados, puntos_rotados):\n",
    "            self.play(cuadrado.animate.shift(punto - cuadrado.get_center()))  # Desplazamiento hacia el punto destino\n",
    "\n",
    "        self.wait(2)\n"
   ]
  },
  {
   "cell_type": "code",
   "execution_count": 51,
   "id": "78eeb124-c873-4370-aec4-fe5f641c1065",
   "metadata": {},
   "outputs": [
    {
     "data": {
      "text/html": [
       "<pre style=\"white-space:pre;overflow-x:auto;line-height:normal;font-family:Menlo,'DejaVu Sans Mono',consolas,'Courier New',monospace\">Manim Community <span style=\"color: #008000; text-decoration-color: #008000\">v0.19.0</span>\n",
       "\n",
       "</pre>\n"
      ],
      "text/plain": [
       "Manim Community \u001b[32mv0.\u001b[0m\u001b[32m19.0\u001b[0m\n",
       "\n"
      ]
     },
     "metadata": {},
     "output_type": "display_data"
    },
    {
     "name": "stderr",
     "output_type": "stream",
     "text": [
      "                                                                                                                       "
     ]
    },
    {
     "data": {
      "text/html": [
       "<video src=\"media\\jupyter\\ALayoutCircular@2025-04-25@09-57-37.mp4\" controls autoplay loop style=\"max-width: 75%;\"  >\n",
       "      Your browser does not support the <code>video</code> element.\n",
       "    </video>"
      ],
      "text/plain": [
       "<IPython.core.display.Video object>"
      ]
     },
     "metadata": {},
     "output_type": "display_data"
    }
   ],
   "source": [
    "%%manim -ql ALayoutCircular\n",
    "### IMPORTANTE: Este podría ser la base de mi reloj para explicar módulo. Es muy catchy\n",
    "def en_circulo(grupo: VGroup, radio: float = 3):\n",
    "    \"\"\"Distribuye un grupo de objetos en un layout circular.\"\"\"\n",
    "    n = len(grupo)\n",
    "    puntos_destino = []\n",
    "    for i, obj in enumerate(grupo):\n",
    "        angulo = 2 * PI * i / n\n",
    "        punto = [radio * np.cos(angulo), radio * np.sin(angulo), 0]\n",
    "        puntos_destino.append(punto)\n",
    "        obj.target_position = punto  # Asignar el punto destino a cada objeto\n",
    "    return puntos_destino\n",
    "\n",
    "class ALayoutCircular(Scene):\n",
    "    def construct(self):\n",
    "        # Crear 12 círculos en el mismo punto\n",
    "        circulos = VGroup(*[Circle(radius=0.3, color=BLUE, fill_opacity=0.5) for _ in range(12)])\n",
    "        \n",
    "        # Colocarlos en el mismo punto (por defecto están en el origen)\n",
    "        for circulo in circulos:\n",
    "            circulo.move_to(ORIGIN)\n",
    "        \n",
    "        # Animación: mostrar los círculos en su posición inicial\n",
    "        self.play(FadeIn(circulos))  \n",
    "        \n",
    "        # Obtener los puntos destino para los círculos (distribuir en círculo)\n",
    "        puntos_destino = en_circulo(circulos, radio=3)\n",
    "        \n",
    "        # Animación de los círculos desplazándose hacia sus puntos destino\n",
    "        self.play(\n",
    "            *[circulo.animate.move_to(punto) for circulo, punto in zip(circulos, puntos_destino)]\n",
    "        )\n",
    "\n",
    "        self.wait(2)\n",
    "\n"
   ]
  },
  {
   "cell_type": "code",
   "execution_count": 65,
   "id": "33a86792-77cf-4f0c-84fa-9b83510bec4a",
   "metadata": {},
   "outputs": [
    {
     "data": {
      "text/html": [
       "<pre style=\"white-space:pre;overflow-x:auto;line-height:normal;font-family:Menlo,'DejaVu Sans Mono',consolas,'Courier New',monospace\">Manim Community <span style=\"color: #008000; text-decoration-color: #008000\">v0.19.0</span>\n",
       "\n",
       "</pre>\n"
      ],
      "text/plain": [
       "Manim Community \u001b[32mv0.\u001b[0m\u001b[32m19.0\u001b[0m\n",
       "\n"
      ]
     },
     "metadata": {},
     "output_type": "display_data"
    },
    {
     "name": "stderr",
     "output_type": "stream",
     "text": [
      "                                                                                                                       "
     ]
    },
    {
     "data": {
      "text/html": [
       "<video src=\"media\\jupyter\\ALayoutCircular2@2025-04-25@10-36-46.mp4\" controls autoplay loop style=\"max-width: 75%;\"  >\n",
       "      Your browser does not support the <code>video</code> element.\n",
       "    </video>"
      ],
      "text/plain": [
       "<IPython.core.display.Video object>"
      ]
     },
     "metadata": {},
     "output_type": "display_data"
    }
   ],
   "source": [
    "%%manim -ql ALayoutCircular2\n",
    "\n",
    "import numpy as np\n",
    "\n",
    "def en_circulo(grupo: VGroup, radio: float = 3):\n",
    "    \"\"\"Distribuye un grupo de objetos en un layout circular.\"\"\"\n",
    "    n = len(grupo)\n",
    "    puntos_destino = []\n",
    "    for i, obj in enumerate(grupo):\n",
    "        angulo = 2 * PI * i / n\n",
    "        punto = [radio * np.cos(angulo), radio * np.sin(angulo), 0]\n",
    "        puntos_destino.append(punto)\n",
    "    return puntos_destino\n",
    "\n",
    "class MovimientoArco(Scene):\n",
    "    def construct(self):\n",
    "        # Crear los círculos\n",
    "        circulos = VGroup(*[Circle(radius=0.3, color=BLUE, fill_opacity=0.5) for _ in range(5)])\n",
    "\n",
    "        # Distribuir los círculos sobre el perímetro de un círculo\n",
    "        puntos_destino = en_circulo(circulos, radio=3)\n",
    "\n",
    "        # Asignar posiciones a los círculos\n",
    "        for circulo, punto in zip(circulos, puntos_destino):\n",
    "            circulo.move_to(punto)\n",
    "\n",
    "        self.add(circulos)\n",
    "\n",
    "        # Definir los arcos para cada círculo (por ejemplo, arcos de 90°)\n",
    "        arcos = []\n",
    "        for i in range(len(circulos)):\n",
    "            angulo_inicial = i * (PI / 2)  # Distribuir arcos de 90° cada uno\n",
    "            arco = Arc(radius=3, angle=PI / 2, start_angle=angulo_inicial)\n",
    "            arcos.append(arco)\n",
    "\n",
    "        # Asignar un arco a cada círculo y animar su movimiento\n",
    "        for circulo, arco in zip(circulos, arcos):\n",
    "            self.play(MoveAlongPath(circulo, arco), run_time=2)\n",
    "\n",
    "        self.wait(2)  # Esperar al final\n",
    "\n"
   ]
  },
  {
   "cell_type": "code",
   "execution_count": null,
   "id": "e0b3d9ae-d9f8-40e6-b5d7-cb4e587f84a4",
   "metadata": {},
   "outputs": [],
   "source": []
  },
  {
   "cell_type": "code",
   "execution_count": null,
   "id": "48c64c74-8918-4790-8651-8ff23fde4def",
   "metadata": {},
   "outputs": [],
   "source": []
  },
  {
   "cell_type": "code",
   "execution_count": null,
   "id": "567cff96-e79d-46ed-817e-18a38b6b5bbb",
   "metadata": {},
   "outputs": [],
   "source": []
  },
  {
   "cell_type": "code",
   "execution_count": null,
   "id": "bb1313aa-366f-435c-8fa1-32b06bd55ea6",
   "metadata": {},
   "outputs": [],
   "source": []
  },
  {
   "cell_type": "code",
   "execution_count": null,
   "id": "8b291635-7798-41e5-a8fc-6101119ab80f",
   "metadata": {},
   "outputs": [],
   "source": []
  },
  {
   "cell_type": "code",
   "execution_count": 67,
   "id": "eb7047d0-2f41-43a4-90e3-d49039764fea",
   "metadata": {},
   "outputs": [],
   "source": [
    "import numpy as np"
   ]
  },
  {
   "cell_type": "code",
   "execution_count": 70,
   "id": "38a700e2-ac24-4ed7-baa6-f47be8f888ec",
   "metadata": {},
   "outputs": [
    {
     "data": {
      "text/html": [
       "<pre style=\"white-space:pre;overflow-x:auto;line-height:normal;font-family:Menlo,'DejaVu Sans Mono',consolas,'Courier New',monospace\">Manim Community <span style=\"color: #008000; text-decoration-color: #008000\">v0.19.0</span>\n",
       "\n",
       "</pre>\n"
      ],
      "text/plain": [
       "Manim Community \u001b[32mv0.\u001b[0m\u001b[32m19.0\u001b[0m\n",
       "\n"
      ]
     },
     "metadata": {},
     "output_type": "display_data"
    },
    {
     "name": "stderr",
     "output_type": "stream",
     "text": [
      "                                                                                                                       "
     ]
    },
    {
     "data": {
      "text/html": [
       "<video src=\"media\\jupyter\\MovimientoArco@2025-04-25@10-48-24.mp4\" controls autoplay loop style=\"max-width: 75%;\"  >\n",
       "      Your browser does not support the <code>video</code> element.\n",
       "    </video>"
      ],
      "text/plain": [
       "<IPython.core.display.Video object>"
      ]
     },
     "metadata": {},
     "output_type": "display_data"
    }
   ],
   "source": [
    "%%manim -ql MovimientoArco\n",
    "\n",
    "\n",
    "def en_circulo(grupo: VGroup, radio: float = 3):\n",
    "    \"\"\"Distribuye un grupo de objetos en un layout circular.\"\"\"\n",
    "    n = len(grupo)\n",
    "    puntos_destino = []\n",
    "    for i, obj in enumerate(grupo):\n",
    "        angulo = 2 * PI * i / n\n",
    "        punto = [radio * np.cos(angulo), radio * np.sin(angulo), 0]\n",
    "        puntos_destino.append(punto)\n",
    "    return puntos_destino\n",
    "\n",
    "class MovimientoArco(Scene):\n",
    "    def construct(self):\n",
    "        # Crear los círculos\n",
    "        circulos = VGroup(*[Circle(radius=0.3, color=BLUE, fill_opacity=0.5) for _ in range(6)])  # Ajustamos a 6 objetos\n",
    "\n",
    "        # Distribuir los círculos sobre el perímetro de un círculo\n",
    "        puntos_destino = en_circulo(circulos, radio=3)\n",
    "\n",
    "        # Asignar posiciones a los círculos\n",
    "        for circulo, punto in zip(circulos, puntos_destino):\n",
    "            circulo.move_to(punto)\n",
    "\n",
    "        self.add(circulos[0])\n",
    "\n",
    "        # Definir los arcos para cada círculo (por ejemplo, arcos de 60°)\n",
    "        arcos = []\n",
    "        for i in range(len(circulos)):\n",
    "            angulo_inicial = i * (PI / 3)  # Distribuir arcos de 60° cada uno\n",
    "            arco = Arc(radius=3, angle=PI / 3, start_angle=angulo_inicial)\n",
    "            arcos.append(arco)\n",
    "\n",
    "        # Animar el movimiento de los círculos a lo largo de los arcos sin mostrar los arcos\n",
    "        for circulo, arco in zip(circulos, arcos):\n",
    "            # No añadir los arcos a la escena\n",
    "            self.play(MoveAlongPath(circulo, arco), run_time=2)\n",
    "\n",
    "        self.wait(2)  # Esperar al final\n",
    "\n",
    "\n"
   ]
  },
  {
   "cell_type": "code",
   "execution_count": 81,
   "id": "08a49391-9023-4203-a565-344994e368c3",
   "metadata": {},
   "outputs": [
    {
     "data": {
      "text/html": [
       "<pre style=\"white-space:pre;overflow-x:auto;line-height:normal;font-family:Menlo,'DejaVu Sans Mono',consolas,'Courier New',monospace\">Manim Community <span style=\"color: #008000; text-decoration-color: #008000\">v0.19.0</span>\n",
       "\n",
       "</pre>\n"
      ],
      "text/plain": [
       "Manim Community \u001b[32mv0.\u001b[0m\u001b[32m19.0\u001b[0m\n",
       "\n"
      ]
     },
     "metadata": {},
     "output_type": "display_data"
    },
    {
     "name": "stderr",
     "output_type": "stream",
     "text": [
      "                                                                                                                       "
     ]
    },
    {
     "data": {
      "text/html": [
       "<video src=\"media\\jupyter\\MovimientoArco2@2025-04-25@11-23-38.mp4\" controls autoplay loop style=\"max-width: 75%;\"  >\n",
       "      Your browser does not support the <code>video</code> element.\n",
       "    </video>"
      ],
      "text/plain": [
       "<IPython.core.display.Video object>"
      ]
     },
     "metadata": {},
     "output_type": "display_data"
    }
   ],
   "source": [
    "%%manim -ql MovimientoArco2\n",
    "\n",
    "def en_circulo(grupo: VGroup, radio: float = 3):\n",
    "    \"\"\"Distribuye un grupo de objetos en un layout circular y devuelve sus puntos de destino.\"\"\"\n",
    "    n = len(grupo)\n",
    "    puntos_destino = []\n",
    "    for i in range(n):\n",
    "        angulo = 2 * PI * i / n\n",
    "        punto = [radio * np.cos(angulo), radio * np.sin(angulo), 0]\n",
    "        puntos_destino.append(punto)\n",
    "    return puntos_destino\n",
    "\n",
    "class MovimientoArco2(Scene):\n",
    "    def construct(self):\n",
    "        cantidad = 6\n",
    "        radio = 3\n",
    "\n",
    "        # Crear círculos rojos (destino)\n",
    "        circulos_rojos = VGroup(*[Circle(radius=0.3, color=RED, fill_opacity=0.5) for _ in range(cantidad)])\n",
    "        puntos_destino = en_circulo(circulos_rojos, radio=radio)\n",
    "        for circulo, punto in zip(circulos_rojos, puntos_destino):\n",
    "            circulo.move_to(punto)\n",
    "\n",
    "        # Crear círculos azules (origen)\n",
    "        circulos_azules = VGroup(*[Circle(radius=0.3, color=BLUE, fill_opacity=0.5) for _ in range(cantidad)])\n",
    "\n",
    "        # Posicionar el primero directamente en su destino (no se mueve)\n",
    "        circulos_azules[0].move_to(puntos_destino[0])\n",
    "\n",
    "        # El resto, todos empiezan desde el mismo punto de origen\n",
    "        punto_origen = puntos_destino[0]\n",
    "        for i in range(1, cantidad):\n",
    "            circulos_azules[i].move_to(punto_origen)\n",
    "\n",
    "        # Mostrar ambos grupos\n",
    "        self.add(circulos_rojos, circulos_azules)\n",
    "        self.wait(1)\n",
    "\n",
    "        # Calcular arcos y animar (excepto el primero)\n",
    "        for i in range(1, cantidad):\n",
    "            punto_destino = puntos_destino[i]\n",
    "            angulo_inicial = np.arctan2(punto_origen[1], punto_origen[0])\n",
    "            angulo_final = np.arctan2(punto_destino[1], punto_destino[0])\n",
    "            delta = angulo_final - angulo_inicial\n",
    "            if delta <= 0:\n",
    "                delta += 2 * PI\n",
    "            arco = Arc(radius=radio, start_angle=angulo_inicial, angle=delta)\n",
    "            self.play(MoveAlongPath(circulos_azules[i], arco), run_time=1)\n",
    "            self.wait(0.1)\n",
    "\n",
    "        self.wait(2)\n",
    "\n",
    "\n",
    "\n"
   ]
  },
  {
   "cell_type": "code",
   "execution_count": null,
   "id": "8cd781de-736c-43c7-bd64-ca650607270d",
   "metadata": {},
   "outputs": [],
   "source": []
  },
  {
   "cell_type": "code",
   "execution_count": 83,
   "id": "3fea4100-aaca-4bfd-acaf-1b49def81dbb",
   "metadata": {},
   "outputs": [
    {
     "data": {
      "text/html": [
       "<pre style=\"white-space:pre;overflow-x:auto;line-height:normal;font-family:Menlo,'DejaVu Sans Mono',consolas,'Courier New',monospace\">Manim Community <span style=\"color: #008000; text-decoration-color: #008000\">v0.19.0</span>\n",
       "\n",
       "</pre>\n"
      ],
      "text/plain": [
       "Manim Community \u001b[32mv0.\u001b[0m\u001b[32m19.0\u001b[0m\n",
       "\n"
      ]
     },
     "metadata": {},
     "output_type": "display_data"
    },
    {
     "name": "stderr",
     "output_type": "stream",
     "text": [
      "                                                                                                                       "
     ]
    },
    {
     "data": {
      "text/html": [
       "<video src=\"media\\jupyter\\MovimientoArcoOptimo@2025-04-25@11-29-16.mp4\" controls autoplay loop style=\"max-width: 75%;\"  >\n",
       "      Your browser does not support the <code>video</code> element.\n",
       "    </video>"
      ],
      "text/plain": [
       "<IPython.core.display.Video object>"
      ]
     },
     "metadata": {},
     "output_type": "display_data"
    }
   ],
   "source": [
    "%%manim -ql MovimientoArcoOptimo\n",
    "\n",
    "def en_circulo(grupo: VGroup, radio: float = 3):\n",
    "    \"\"\"Distribuye un grupo de objetos en un layout circular y devuelve sus puntos de destino.\"\"\"\n",
    "    n = len(grupo)\n",
    "    return [[radio * np.cos(2 * PI * i / n), radio * np.sin(2 * PI * i / n), 0] for i in range(n)]\n",
    "\n",
    "def arco_entre(p_origen, p_destino, radio):\n",
    "    \"\"\"Devuelve un arco entre dos puntos, siguiendo la dirección antihoraria más corta.\"\"\"\n",
    "    ang0 = np.arctan2(p_origen[1], p_origen[0])\n",
    "    ang1 = np.arctan2(p_destino[1], p_destino[0])\n",
    "    delta = ang1 - ang0\n",
    "    if delta <= 0:\n",
    "        delta += 2 * PI\n",
    "    return Arc(radius=radio, start_angle=ang0, angle=delta)\n",
    "\n",
    "def crear_circulos(cantidad, color, radio=0.3):\n",
    "    return VGroup(*[Circle(radius=radio, color=color, fill_opacity=0.5) for _ in range(cantidad)])\n",
    "\n",
    "class MovimientoArcoOptimo(Scene):\n",
    "    def construct(self):\n",
    "        cantidad = 9\n",
    "        radio = 3\n",
    "\n",
    "        # Crear y posicionar círculos rojos en forma circular\n",
    "        circulos_rojos = crear_circulos(cantidad, RED)\n",
    "        puntos_destino = en_circulo(circulos_rojos, radio)\n",
    "        for c, p in zip(circulos_rojos, puntos_destino):\n",
    "            c.move_to(p)\n",
    "\n",
    "        # Crear círculos azules y posicionar\n",
    "        circulos_azules = crear_circulos(cantidad, BLUE)\n",
    "        circulos_azules[0].move_to(puntos_destino[0])\n",
    "        for i in range(1, cantidad):\n",
    "            circulos_azules[i].move_to(puntos_destino[0])  # todos al origen\n",
    "\n",
    "        # Mostrar\n",
    "        self.add(circulos_rojos, circulos_azules)\n",
    "        self.wait(1)\n",
    "\n",
    "        # Animar\n",
    "        for i in range(1, cantidad):\n",
    "            arco = arco_entre(puntos_destino[0], puntos_destino[i], radio)\n",
    "            self.play(MoveAlongPath(circulos_azules[i], arco), run_time=1)\n",
    "            self.wait(0.1)\n",
    "\n",
    "        self.wait(2)\n"
   ]
  },
  {
   "cell_type": "code",
   "execution_count": 92,
   "id": "680e9284-58df-4206-a0be-ac2fee9276f8",
   "metadata": {},
   "outputs": [
    {
     "data": {
      "text/html": [
       "<pre style=\"white-space:pre;overflow-x:auto;line-height:normal;font-family:Menlo,'DejaVu Sans Mono',consolas,'Courier New',monospace\">Manim Community <span style=\"color: #008000; text-decoration-color: #008000\">v0.19.0</span>\n",
       "\n",
       "</pre>\n"
      ],
      "text/plain": [
       "Manim Community \u001b[32mv0.\u001b[0m\u001b[32m19.0\u001b[0m\n",
       "\n"
      ]
     },
     "metadata": {},
     "output_type": "display_data"
    },
    {
     "name": "stderr",
     "output_type": "stream",
     "text": [
      "                                                                                                                       "
     ]
    },
    {
     "data": {
      "text/html": [
       "<video src=\"media\\jupyter\\MovArcoDosDirecciones@2025-04-25@12-15-52.mp4\" controls autoplay loop style=\"max-width: 75%;\"  >\n",
       "      Your browser does not support the <code>video</code> element.\n",
       "    </video>"
      ],
      "text/plain": [
       "<IPython.core.display.Video object>"
      ]
     },
     "metadata": {},
     "output_type": "display_data"
    }
   ],
   "source": [
    "%%manim -ql MovArcoDosDirecciones\n",
    "def calcular_arco(punto_origen, punto_destino, radio):\n",
    "    \"\"\"Calcula el arco a seguir entre dos puntos, eligiendo el recorrido más corto (positivo o negativo).\"\"\"\n",
    "    angulo_inicial = np.arctan2(punto_origen[1], punto_origen[0])\n",
    "    angulo_final = np.arctan2(punto_destino[1], punto_destino[0])\n",
    "    delta = angulo_final - angulo_inicial\n",
    "    # Asegurarse de que el arco sea el recorrido más corto\n",
    "    if delta <= -PI:\n",
    "        delta += 2 * PI  # Si el ángulo es negativo, dar la vuelta en sentido positivo\n",
    "    elif delta > PI:\n",
    "        delta -= 2 * PI  # Si el ángulo es mayor que PI, recorrer el ángulo negativo\n",
    "    arco = Arc(radius=radio, start_angle=angulo_inicial, angle=delta)\n",
    "    return arco\n",
    "\n",
    "class MovArcoDosDirecciones(Scene):\n",
    "    def construct(self):\n",
    "        cantidad = 11\n",
    "        radio = 3\n",
    "\n",
    "        # Crear círculos rojos (destino)\n",
    "        circulos_rojos = VGroup(*[Circle(radius=0.3, color=RED, fill_opacity=0.5) for _ in range(cantidad)])\n",
    "        puntos_destino = en_circulo(circulos_rojos, radio=radio)\n",
    "        for circulo, punto in zip(circulos_rojos, puntos_destino):\n",
    "            circulo.move_to(punto)\n",
    "\n",
    "        # Crear círculos azules (origen)\n",
    "        circulos_azules = VGroup(*[Circle(radius=0.3, color=BLUE, fill_opacity=0.5) for _ in range(cantidad)])\n",
    "\n",
    "        # Posicionar el primero directamente en su destino (no se mueve)\n",
    "        circulos_azules[0].move_to(puntos_destino[0])\n",
    "\n",
    "        # El resto, todos empiezan desde el mismo punto de origen\n",
    "        punto_origen = puntos_destino[0]\n",
    "        for i in range(1, cantidad):\n",
    "            circulos_azules[i].move_to(punto_origen)\n",
    "\n",
    "        # Mostrar ambos grupos\n",
    "        self.add(circulos_rojos, circulos_azules)\n",
    "        self.wait(1)\n",
    "\n",
    "        # Calcular arcos y animar (excepto el primero)\n",
    "        for i in range(1, cantidad):\n",
    "            punto_destino = puntos_destino[i]\n",
    "            arco = calcular_arco(punto_origen, punto_destino, radio)\n",
    "            self.play(MoveAlongPath(circulos_azules[i], arco), run_time=1)\n",
    "            self.wait(0.1)\n",
    "\n",
    "        self.wait(2)\n"
   ]
  },
  {
   "cell_type": "code",
   "execution_count": null,
   "id": "0e6ff108-7149-49e0-b338-55f0c7189b54",
   "metadata": {},
   "outputs": [],
   "source": [
    "grupo: VGroup, espacio: float = 1.0, alineacion: str = \"centro\", \n",
    "    max_abajo: float = -3, max_arriba: float = 3, desplazamiento_horizontal: float = 0"
   ]
  },
  {
   "cell_type": "code",
   "execution_count": null,
   "id": "55700bec-ca21-4aa3-a9fa-d2dd60359b8b",
   "metadata": {},
   "outputs": [],
   "source": [
    "class TestLayoutVertical(Scene):\n",
    "    def construct(self):\n",
    "        # Crear objetos de prueba\n",
    "        circulos = VGroup(*[Circle(radius=0.3, color=BLUE, fill_opacity=0.5) for _ in range(7)])\n",
    "\n",
    "        # Aplicar el layout vertical\n",
    "        en_linea_vertical(circulos, espacio=0.7, alineacion=\"centro\", max_abajo=-3, max_arriba=-2, desplazamiento_horizontal=-3)\n",
    "\n",
    "        # Mostrar\n",
    "        self.play(FadeIn(circulos))\n",
    "        self.wait(2)"
   ]
  },
  {
   "cell_type": "code",
   "execution_count": null,
   "id": "f1751450-0018-41ec-8edb-a723ea7fa834",
   "metadata": {},
   "outputs": [],
   "source": []
  },
  {
   "cell_type": "code",
   "execution_count": 24,
   "id": "61967cc0-f15a-46b7-9ca4-e94978116887",
   "metadata": {},
   "outputs": [
    {
     "data": {
      "text/html": [
       "<pre style=\"white-space:pre;overflow-x:auto;line-height:normal;font-family:Menlo,'DejaVu Sans Mono',consolas,'Courier New',monospace\">Manim Community <span style=\"color: #008000; text-decoration-color: #008000\">v0.19.0</span>\n",
       "\n",
       "</pre>\n"
      ],
      "text/plain": [
       "Manim Community \u001b[32mv0.\u001b[0m\u001b[32m19.0\u001b[0m\n",
       "\n"
      ]
     },
     "metadata": {},
     "output_type": "display_data"
    },
    {
     "name": "stderr",
     "output_type": "stream",
     "text": [
      "                                                                                                                       "
     ]
    },
    {
     "data": {
      "text/html": [
       "<video src=\"media\\jupyter\\TestGrilla@2025-04-25@17-18-47.mp4\" controls autoplay loop style=\"max-width: 75%;\"  >\n",
       "      Your browser does not support the <code>video</code> element.\n",
       "    </video>"
      ],
      "text/plain": [
       "<IPython.core.display.Video object>"
      ]
     },
     "metadata": {},
     "output_type": "display_data"
    }
   ],
   "source": [
    "%%manim -ql TestGrilla\n",
    "\n",
    "class TestGrilla(Scene):\n",
    "    def construct(self):\n",
    "        # Crear algunos cuadrados de colores\n",
    "        cuadrados = VGroup(*[\n",
    "            Square(0.6).set_fill(color, opacity=0.8).set_stroke(WHITE)\n",
    "            for color in [RED, GREEN, BLUE, YELLOW, ORANGE, PURPLE, TEAL, PINK, MAROON, GOLD, RED, GREEN, BLUE, YELLOW,\n",
    "                         WHITE, PINK, RED, GREEN, BLUE, YELLOW, ORANGE, PURPLE, TEAL, PINK, MAROON, GOLD, RED, GREEN, BLUE, YELLOW,\n",
    "                         WHITE, PINK, RED, GREEN, BLUE, YELLOW, ORANGE, PURPLE, TEAL, PINK, MAROON, GOLD, RED, GREEN, BLUE, YELLOW,\n",
    "                         WHITE, PINK, RED, GREEN, BLUE, YELLOW, ORANGE, PURPLE, TEAL, PINK, MAROON, GOLD, RED, GREEN, BLUE, YELLOW,\n",
    "                         WHITE]\n",
    "        ])\n",
    "\n",
    "        # Aplicar el layout en grilla\n",
    "        en_grilla(\n",
    "            grupo=cuadrados,\n",
    "            columnas=9,\n",
    "            espacio_x=0.6,\n",
    "            espacio_y=0.6,\n",
    "            alineacion_horizontal=\"centro\",\n",
    "            alineacion_vertical=\"arriba\",\n",
    "            max_izquierda=-6,\n",
    "            max_derecha=6,\n",
    "            max_abajo=-3.5,\n",
    "            max_arriba=2\n",
    "        )\n",
    "\n",
    "        self.play(FadeIn(cuadrados, lag_ratio=0.1))\n",
    "        self.wait(2)\n"
   ]
  },
  {
   "cell_type": "code",
   "execution_count": null,
   "id": "7df00c91-7676-462b-a6b7-7ae7ef14a2e7",
   "metadata": {},
   "outputs": [],
   "source": []
  },
  {
   "cell_type": "code",
   "execution_count": null,
   "id": "7a08db02-e973-49aa-a388-34c9f8b9c5b2",
   "metadata": {},
   "outputs": [],
   "source": []
  }
 ],
 "metadata": {
  "kernelspec": {
   "display_name": "Python 3 (ipykernel)",
   "language": "python",
   "name": "python3"
  },
  "language_info": {
   "codemirror_mode": {
    "name": "ipython",
    "version": 3
   },
   "file_extension": ".py",
   "mimetype": "text/x-python",
   "name": "python",
   "nbconvert_exporter": "python",
   "pygments_lexer": "ipython3",
   "version": "3.10.16"
  }
 },
 "nbformat": 4,
 "nbformat_minor": 5
}
