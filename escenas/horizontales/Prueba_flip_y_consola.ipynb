{
 "cells": [
  {
   "cell_type": "code",
   "execution_count": 1,
   "id": "76e41e72-da5d-4c49-8494-846af95a4cde",
   "metadata": {},
   "outputs": [],
   "source": [
    "from manim import *"
   ]
  },
  {
   "cell_type": "code",
   "execution_count": 34,
   "id": "1cff5ca6-f7d4-4e09-b77c-6ae9fda860b6",
   "metadata": {},
   "outputs": [],
   "source": [
    "config.media_width = \"75%\"\n",
    "config.verbosity = \"WARNING\"\n",
    "config.background_color = \"#24043d\""
   ]
  },
  {
   "cell_type": "code",
   "execution_count": 35,
   "id": "37700b32-b811-4f9d-a511-3eaf4c48bfe1",
   "metadata": {},
   "outputs": [
    {
     "data": {
      "text/html": [
       "<pre style=\"white-space:pre;overflow-x:auto;line-height:normal;font-family:Menlo,'DejaVu Sans Mono',consolas,'Courier New',monospace\">Manim Community <span style=\"color: #008000; text-decoration-color: #008000\">v0.19.0</span>\n",
       "\n",
       "</pre>\n"
      ],
      "text/plain": [
       "Manim Community \u001b[32mv0.\u001b[0m\u001b[32m19.0\u001b[0m\n",
       "\n"
      ]
     },
     "metadata": {},
     "output_type": "display_data"
    },
    {
     "name": "stderr",
     "output_type": "stream",
     "text": [
      "                                                                                                                       "
     ]
    },
    {
     "data": {
      "text/html": [
       "<video src=\"media\\jupyter\\FlipHorizontal@2025-04-27@16-16-01.mp4\" controls autoplay loop style=\"max-width: 75%;\"  >\n",
       "      Your browser does not support the <code>video</code> element.\n",
       "    </video>"
      ],
      "text/plain": [
       "<IPython.core.display.Video object>"
      ]
     },
     "metadata": {},
     "output_type": "display_data"
    }
   ],
   "source": [
    "%%manim -ql FlipHorizontal\n",
    "class FlipHorizontal(Scene):\n",
    "    def construct(self):\n",
    "        texto = Text(\"Hola\").shift(LEFT)\n",
    "        self.add(texto)\n",
    "        self.wait()\n",
    "        self.play(texto.animate.scale([-1, 1, 1]), run_time = 1)  # scale está multiplicando por -1. Entonces, respeta el tamaño y le invierte el sentido\n",
    "                                                    # y al animarlo da la sensación de que giró.\n",
    "        self.wait()\n"
   ]
  },
  {
   "cell_type": "code",
   "execution_count": 36,
   "id": "8c07a135-9869-4f91-9240-8d8bb188e6a7",
   "metadata": {},
   "outputs": [
    {
     "data": {
      "text/html": [
       "<pre style=\"white-space:pre;overflow-x:auto;line-height:normal;font-family:Menlo,'DejaVu Sans Mono',consolas,'Courier New',monospace\">Manim Community <span style=\"color: #008000; text-decoration-color: #008000\">v0.19.0</span>\n",
       "\n",
       "</pre>\n"
      ],
      "text/plain": [
       "Manim Community \u001b[32mv0.\u001b[0m\u001b[32m19.0\u001b[0m\n",
       "\n"
      ]
     },
     "metadata": {},
     "output_type": "display_data"
    },
    {
     "name": "stderr",
     "output_type": "stream",
     "text": [
      "                                                                                                                       "
     ]
    },
    {
     "data": {
      "text/html": [
       "<video src=\"media\\jupyter\\FlipVertical@2025-04-27@16-16-09.mp4\" controls autoplay loop style=\"max-width: 75%;\"  >\n",
       "      Your browser does not support the <code>video</code> element.\n",
       "    </video>"
      ],
      "text/plain": [
       "<IPython.core.display.Video object>"
      ]
     },
     "metadata": {},
     "output_type": "display_data"
    }
   ],
   "source": [
    "%%manim -ql FlipVertical\n",
    "class FlipVertical(Scene):\n",
    "    def construct(self):\n",
    "        texto = Text(\"Hola\").shift(LEFT)\n",
    "        self.add(texto)\n",
    "        self.wait()\n",
    "        self.play(texto.animate.scale([1, -1, 1]), run_time = 2.5, rate_func=there_and_back)  # scale está multiplicando por -1. Entonces, respeta el tamaño y le invierte el sentido\n",
    "                                                    # y al animarlo da la sensación de que giró.\n",
    "        self.wait()"
   ]
  },
  {
   "cell_type": "code",
   "execution_count": null,
   "id": "98fb4e5b-3561-4144-8c43-1c51e40f9a63",
   "metadata": {},
   "outputs": [],
   "source": []
  },
  {
   "cell_type": "code",
   "execution_count": 37,
   "id": "830c7520-d732-4f3e-8cee-b673a59bb3cc",
   "metadata": {},
   "outputs": [
    {
     "data": {
      "text/html": [
       "<pre style=\"white-space:pre;overflow-x:auto;line-height:normal;font-family:Menlo,'DejaVu Sans Mono',consolas,'Courier New',monospace\">Manim Community <span style=\"color: #008000; text-decoration-color: #008000\">v0.19.0</span>\n",
       "\n",
       "</pre>\n"
      ],
      "text/plain": [
       "Manim Community \u001b[32mv0.\u001b[0m\u001b[32m19.0\u001b[0m\n",
       "\n"
      ]
     },
     "metadata": {},
     "output_type": "display_data"
    },
    {
     "ename": "OSError",
     "evalue": "From: C:\\Users\\Diego\\Desktop\\animaciones\\escenas\\horizontales, could not find ..\\..\\svg_writer\\circulo_out.svg at either of these locations: ['..\\\\..\\\\svg_writer\\\\circulo_out.svg', '..\\\\..\\\\svg_writer\\\\circulo_out.svg', '..\\\\..\\\\svg_writer\\\\circulo_out.svg.svg']",
     "output_type": "error",
     "traceback": [
      "\u001b[1;31m---------------------------------------------------------------------------\u001b[0m",
      "\u001b[1;31mOSError\u001b[0m                                   Traceback (most recent call last)",
      "Cell \u001b[1;32mIn[37], line 1\u001b[0m\n\u001b[1;32m----> 1\u001b[0m \u001b[43mget_ipython\u001b[49m\u001b[43m(\u001b[49m\u001b[43m)\u001b[49m\u001b[38;5;241;43m.\u001b[39;49m\u001b[43mrun_cell_magic\u001b[49m\u001b[43m(\u001b[49m\u001b[38;5;124;43m'\u001b[39;49m\u001b[38;5;124;43mmanim\u001b[39;49m\u001b[38;5;124;43m'\u001b[39;49m\u001b[43m,\u001b[49m\u001b[43m \u001b[49m\u001b[38;5;124;43m'\u001b[39;49m\u001b[38;5;124;43m-ql FlipVertical\u001b[39;49m\u001b[38;5;124;43m'\u001b[39;49m\u001b[43m,\u001b[49m\u001b[43m \u001b[49m\u001b[38;5;124;43m'\u001b[39;49m\u001b[38;5;124;43mclass FlipVertical(Scene):\u001b[39;49m\u001b[38;5;130;43;01m\\n\u001b[39;49;00m\u001b[38;5;124;43m    def construct(self):\u001b[39;49m\u001b[38;5;130;43;01m\\n\u001b[39;49;00m\u001b[38;5;124;43m        #imagen =SVGMobject(\u001b[39;49m\u001b[38;5;124;43m\"\u001b[39;49m\u001b[38;5;124;43m../../svg_writer/svg_con_texto/Bold/mayusculas/A.svg\u001b[39;49m\u001b[38;5;124;43m\"\u001b[39;49m\u001b[38;5;124;43m)\u001b[39;49m\u001b[38;5;130;43;01m\\n\u001b[39;49;00m\u001b[38;5;124;43m        imagen = SVGMobject(\u001b[39;49m\u001b[38;5;124;43m\"\u001b[39;49m\u001b[38;5;124;43m../../svg_writer/circulo_out.svg\u001b[39;49m\u001b[38;5;124;43m\"\u001b[39;49m\u001b[38;5;124;43m)\u001b[39;49m\u001b[38;5;130;43;01m\\n\u001b[39;49;00m\u001b[38;5;124;43m        imagen.set_color(WHITE)\u001b[39;49m\u001b[38;5;130;43;01m\\n\u001b[39;49;00m\u001b[38;5;124;43m        self.add(imagen)\u001b[39;49m\u001b[38;5;130;43;01m\\n\u001b[39;49;00m\u001b[38;5;124;43m        self.wait()\u001b[39;49m\u001b[38;5;130;43;01m\\n\u001b[39;49;00m\u001b[38;5;124;43m        self.play(imagen.animate.scale([1, -1, 0]), run_time = 2.5, rate_func=there_and_back)  # scale está multiplicando por -1. Entonces, respeta el tamaño y le invierte el sentido\u001b[39;49m\u001b[38;5;130;43;01m\\n\u001b[39;49;00m\u001b[38;5;124;43m                                                    # y al animarlo da la sensación de que giró.\u001b[39;49m\u001b[38;5;130;43;01m\\n\u001b[39;49;00m\u001b[38;5;124;43m        self.wait()\u001b[39;49m\u001b[38;5;130;43;01m\\n\u001b[39;49;00m\u001b[38;5;124;43m'\u001b[39;49m\u001b[43m)\u001b[49m\n",
      "File \u001b[1;32m~\\anaconda3\\envs\\animaciones\\lib\\site-packages\\IPython\\core\\interactiveshell.py:2543\u001b[0m, in \u001b[0;36mInteractiveShell.run_cell_magic\u001b[1;34m(self, magic_name, line, cell)\u001b[0m\n\u001b[0;32m   2541\u001b[0m \u001b[38;5;28;01mwith\u001b[39;00m \u001b[38;5;28mself\u001b[39m\u001b[38;5;241m.\u001b[39mbuiltin_trap:\n\u001b[0;32m   2542\u001b[0m     args \u001b[38;5;241m=\u001b[39m (magic_arg_s, cell)\n\u001b[1;32m-> 2543\u001b[0m     result \u001b[38;5;241m=\u001b[39m fn(\u001b[38;5;241m*\u001b[39margs, \u001b[38;5;241m*\u001b[39m\u001b[38;5;241m*\u001b[39mkwargs)\n\u001b[0;32m   2545\u001b[0m \u001b[38;5;66;03m# The code below prevents the output from being displayed\u001b[39;00m\n\u001b[0;32m   2546\u001b[0m \u001b[38;5;66;03m# when using magics with decorator @output_can_be_silenced\u001b[39;00m\n\u001b[0;32m   2547\u001b[0m \u001b[38;5;66;03m# when the last Python token in the expression is a ';'.\u001b[39;00m\n\u001b[0;32m   2548\u001b[0m \u001b[38;5;28;01mif\u001b[39;00m \u001b[38;5;28mgetattr\u001b[39m(fn, magic\u001b[38;5;241m.\u001b[39mMAGIC_OUTPUT_CAN_BE_SILENCED, \u001b[38;5;28;01mFalse\u001b[39;00m):\n",
      "File \u001b[1;32m~\\anaconda3\\envs\\animaciones\\lib\\site-packages\\manim\\utils\\ipython_magic.py:143\u001b[0m, in \u001b[0;36mManimMagic.manim\u001b[1;34m(self, line, cell, local_ns)\u001b[0m\n\u001b[0;32m    141\u001b[0m     SceneClass \u001b[38;5;241m=\u001b[39m local_ns[config[\u001b[38;5;124m\"\u001b[39m\u001b[38;5;124mscene_names\u001b[39m\u001b[38;5;124m\"\u001b[39m][\u001b[38;5;241m0\u001b[39m]]\n\u001b[0;32m    142\u001b[0m     scene \u001b[38;5;241m=\u001b[39m SceneClass(renderer\u001b[38;5;241m=\u001b[39mrenderer)\n\u001b[1;32m--> 143\u001b[0m     \u001b[43mscene\u001b[49m\u001b[38;5;241;43m.\u001b[39;49m\u001b[43mrender\u001b[49m\u001b[43m(\u001b[49m\u001b[43m)\u001b[49m\n\u001b[0;32m    144\u001b[0m \u001b[38;5;28;01mfinally\u001b[39;00m:\n\u001b[0;32m    145\u001b[0m     \u001b[38;5;66;03m# Shader cache becomes invalid as the context is destroyed\u001b[39;00m\n\u001b[0;32m    146\u001b[0m     shader_program_cache\u001b[38;5;241m.\u001b[39mclear()\n",
      "File \u001b[1;32m~\\anaconda3\\envs\\animaciones\\lib\\site-packages\\manim\\scene\\scene.py:237\u001b[0m, in \u001b[0;36mScene.render\u001b[1;34m(self, preview)\u001b[0m\n\u001b[0;32m    235\u001b[0m \u001b[38;5;28mself\u001b[39m\u001b[38;5;241m.\u001b[39msetup()\n\u001b[0;32m    236\u001b[0m \u001b[38;5;28;01mtry\u001b[39;00m:\n\u001b[1;32m--> 237\u001b[0m     \u001b[38;5;28;43mself\u001b[39;49m\u001b[38;5;241;43m.\u001b[39;49m\u001b[43mconstruct\u001b[49m\u001b[43m(\u001b[49m\u001b[43m)\u001b[49m\n\u001b[0;32m    238\u001b[0m \u001b[38;5;28;01mexcept\u001b[39;00m EndSceneEarlyException:\n\u001b[0;32m    239\u001b[0m     \u001b[38;5;28;01mpass\u001b[39;00m\n",
      "File \u001b[1;32m<string>:4\u001b[0m, in \u001b[0;36mconstruct\u001b[1;34m(self)\u001b[0m\n",
      "File \u001b[1;32m~\\anaconda3\\envs\\animaciones\\lib\\site-packages\\manim\\mobject\\svg\\svg_mobject.py:145\u001b[0m, in \u001b[0;36mSVGMobject.__init__\u001b[1;34m(self, file_name, should_center, height, width, color, opacity, fill_color, fill_opacity, stroke_color, stroke_opacity, stroke_width, svg_default, path_string_config, use_svg_cache, **kwargs)\u001b[0m\n\u001b[0;32m    142\u001b[0m     path_string_config \u001b[38;5;241m=\u001b[39m {}\n\u001b[0;32m    143\u001b[0m \u001b[38;5;28mself\u001b[39m\u001b[38;5;241m.\u001b[39mpath_string_config \u001b[38;5;241m=\u001b[39m path_string_config\n\u001b[1;32m--> 145\u001b[0m \u001b[38;5;28;43mself\u001b[39;49m\u001b[38;5;241;43m.\u001b[39;49m\u001b[43minit_svg_mobject\u001b[49m\u001b[43m(\u001b[49m\u001b[43muse_svg_cache\u001b[49m\u001b[38;5;241;43m=\u001b[39;49m\u001b[43muse_svg_cache\u001b[49m\u001b[43m)\u001b[49m\n\u001b[0;32m    147\u001b[0m \u001b[38;5;28mself\u001b[39m\u001b[38;5;241m.\u001b[39mset_style(\n\u001b[0;32m    148\u001b[0m     fill_color\u001b[38;5;241m=\u001b[39mfill_color,\n\u001b[0;32m    149\u001b[0m     fill_opacity\u001b[38;5;241m=\u001b[39mfill_opacity,\n\u001b[1;32m   (...)\u001b[0m\n\u001b[0;32m    152\u001b[0m     stroke_width\u001b[38;5;241m=\u001b[39mstroke_width,\n\u001b[0;32m    153\u001b[0m )\n\u001b[0;32m    154\u001b[0m \u001b[38;5;28mself\u001b[39m\u001b[38;5;241m.\u001b[39mmove_into_position()\n",
      "File \u001b[1;32m~\\anaconda3\\envs\\animaciones\\lib\\site-packages\\manim\\mobject\\svg\\svg_mobject.py:171\u001b[0m, in \u001b[0;36mSVGMobject.init_svg_mobject\u001b[1;34m(self, use_svg_cache)\u001b[0m\n\u001b[0;32m    168\u001b[0m         \u001b[38;5;28mself\u001b[39m\u001b[38;5;241m.\u001b[39madd(\u001b[38;5;241m*\u001b[39mmob)\n\u001b[0;32m    169\u001b[0m         \u001b[38;5;28;01mreturn\u001b[39;00m\n\u001b[1;32m--> 171\u001b[0m \u001b[38;5;28;43mself\u001b[39;49m\u001b[38;5;241;43m.\u001b[39;49m\u001b[43mgenerate_mobject\u001b[49m\u001b[43m(\u001b[49m\u001b[43m)\u001b[49m\n\u001b[0;32m    172\u001b[0m \u001b[38;5;28;01mif\u001b[39;00m use_svg_cache:\n\u001b[0;32m    173\u001b[0m     SVG_HASH_TO_MOB_MAP[hash_val] \u001b[38;5;241m=\u001b[39m \u001b[38;5;28mself\u001b[39m\u001b[38;5;241m.\u001b[39mcopy()\n",
      "File \u001b[1;32m~\\anaconda3\\envs\\animaciones\\lib\\site-packages\\manim\\mobject\\svg\\svg_mobject.py:192\u001b[0m, in \u001b[0;36mSVGMobject.generate_mobject\u001b[1;34m(self)\u001b[0m\n\u001b[0;32m    190\u001b[0m \u001b[38;5;28;01mdef\u001b[39;00m\u001b[38;5;250m \u001b[39m\u001b[38;5;21mgenerate_mobject\u001b[39m(\u001b[38;5;28mself\u001b[39m) \u001b[38;5;241m-\u001b[39m\u001b[38;5;241m>\u001b[39m \u001b[38;5;28;01mNone\u001b[39;00m:\n\u001b[0;32m    191\u001b[0m \u001b[38;5;250m    \u001b[39m\u001b[38;5;124;03m\"\"\"Parse the SVG and translate its elements to submobjects.\"\"\"\u001b[39;00m\n\u001b[1;32m--> 192\u001b[0m     file_path \u001b[38;5;241m=\u001b[39m \u001b[38;5;28;43mself\u001b[39;49m\u001b[38;5;241;43m.\u001b[39;49m\u001b[43mget_file_path\u001b[49m\u001b[43m(\u001b[49m\u001b[43m)\u001b[49m\n\u001b[0;32m    193\u001b[0m     element_tree \u001b[38;5;241m=\u001b[39m ET\u001b[38;5;241m.\u001b[39mparse(file_path)\n\u001b[0;32m    194\u001b[0m     new_tree \u001b[38;5;241m=\u001b[39m \u001b[38;5;28mself\u001b[39m\u001b[38;5;241m.\u001b[39mmodify_xml_tree(element_tree)\n",
      "File \u001b[1;32m~\\anaconda3\\envs\\animaciones\\lib\\site-packages\\manim\\mobject\\svg\\svg_mobject.py:210\u001b[0m, in \u001b[0;36mSVGMobject.get_file_path\u001b[1;34m(self)\u001b[0m\n\u001b[0;32m    208\u001b[0m \u001b[38;5;28;01mif\u001b[39;00m \u001b[38;5;28mself\u001b[39m\u001b[38;5;241m.\u001b[39mfile_name \u001b[38;5;129;01mis\u001b[39;00m \u001b[38;5;28;01mNone\u001b[39;00m:\n\u001b[0;32m    209\u001b[0m     \u001b[38;5;28;01mraise\u001b[39;00m \u001b[38;5;167;01mValueError\u001b[39;00m(\u001b[38;5;124m\"\u001b[39m\u001b[38;5;124mMust specify file for SVGMobject\u001b[39m\u001b[38;5;124m\"\u001b[39m)\n\u001b[1;32m--> 210\u001b[0m \u001b[38;5;28;01mreturn\u001b[39;00m \u001b[43mget_full_vector_image_path\u001b[49m\u001b[43m(\u001b[49m\u001b[38;5;28;43mself\u001b[39;49m\u001b[38;5;241;43m.\u001b[39;49m\u001b[43mfile_name\u001b[49m\u001b[43m)\u001b[49m\n",
      "File \u001b[1;32m~\\anaconda3\\envs\\animaciones\\lib\\site-packages\\manim\\utils\\images.py:36\u001b[0m, in \u001b[0;36mget_full_vector_image_path\u001b[1;34m(image_file_name)\u001b[0m\n\u001b[0;32m     35\u001b[0m \u001b[38;5;28;01mdef\u001b[39;00m\u001b[38;5;250m \u001b[39m\u001b[38;5;21mget_full_vector_image_path\u001b[39m(image_file_name: \u001b[38;5;28mstr\u001b[39m \u001b[38;5;241m|\u001b[39m PurePath) \u001b[38;5;241m-\u001b[39m\u001b[38;5;241m>\u001b[39m Path:\n\u001b[1;32m---> 36\u001b[0m     \u001b[38;5;28;01mreturn\u001b[39;00m \u001b[43mseek_full_path_from_defaults\u001b[49m\u001b[43m(\u001b[49m\n\u001b[0;32m     37\u001b[0m \u001b[43m        \u001b[49m\u001b[43mimage_file_name\u001b[49m\u001b[43m,\u001b[49m\n\u001b[0;32m     38\u001b[0m \u001b[43m        \u001b[49m\u001b[43mdefault_dir\u001b[49m\u001b[38;5;241;43m=\u001b[39;49m\u001b[43mconfig\u001b[49m\u001b[38;5;241;43m.\u001b[39;49m\u001b[43mget_dir\u001b[49m\u001b[43m(\u001b[49m\u001b[38;5;124;43m\"\u001b[39;49m\u001b[38;5;124;43massets_dir\u001b[39;49m\u001b[38;5;124;43m\"\u001b[39;49m\u001b[43m)\u001b[49m\u001b[43m,\u001b[49m\n\u001b[0;32m     39\u001b[0m \u001b[43m        \u001b[49m\u001b[43mextensions\u001b[49m\u001b[38;5;241;43m=\u001b[39;49m\u001b[43m[\u001b[49m\u001b[38;5;124;43m\"\u001b[39;49m\u001b[38;5;124;43m.svg\u001b[39;49m\u001b[38;5;124;43m\"\u001b[39;49m\u001b[43m]\u001b[49m\u001b[43m,\u001b[49m\n\u001b[0;32m     40\u001b[0m \u001b[43m    \u001b[49m\u001b[43m)\u001b[49m\n",
      "File \u001b[1;32m~\\anaconda3\\envs\\animaciones\\lib\\site-packages\\manim\\utils\\file_ops.py:182\u001b[0m, in \u001b[0;36mseek_full_path_from_defaults\u001b[1;34m(file_name, default_dir, extensions)\u001b[0m\n\u001b[0;32m    177\u001b[0m         \u001b[38;5;28;01mreturn\u001b[39;00m path\n\u001b[0;32m    178\u001b[0m error \u001b[38;5;241m=\u001b[39m (\n\u001b[0;32m    179\u001b[0m     \u001b[38;5;124mf\u001b[39m\u001b[38;5;124m\"\u001b[39m\u001b[38;5;124mFrom: \u001b[39m\u001b[38;5;132;01m{\u001b[39;00mPath\u001b[38;5;241m.\u001b[39mcwd()\u001b[38;5;132;01m}\u001b[39;00m\u001b[38;5;124m, could not find \u001b[39m\u001b[38;5;132;01m{\u001b[39;00mfile_name\u001b[38;5;132;01m}\u001b[39;00m\u001b[38;5;124m at either \u001b[39m\u001b[38;5;124m\"\u001b[39m\n\u001b[0;32m    180\u001b[0m     \u001b[38;5;124mf\u001b[39m\u001b[38;5;124m\"\u001b[39m\u001b[38;5;124mof these locations: \u001b[39m\u001b[38;5;132;01m{\u001b[39;00m\u001b[38;5;28mlist\u001b[39m(\u001b[38;5;28mmap\u001b[39m(\u001b[38;5;28mstr\u001b[39m,\u001b[38;5;250m \u001b[39mpossible_paths))\u001b[38;5;132;01m}\u001b[39;00m\u001b[38;5;124m\"\u001b[39m\n\u001b[0;32m    181\u001b[0m )\n\u001b[1;32m--> 182\u001b[0m \u001b[38;5;28;01mraise\u001b[39;00m \u001b[38;5;167;01mOSError\u001b[39;00m(error)\n",
      "\u001b[1;31mOSError\u001b[0m: From: C:\\Users\\Diego\\Desktop\\animaciones\\escenas\\horizontales, could not find ..\\..\\svg_writer\\circulo_out.svg at either of these locations: ['..\\\\..\\\\svg_writer\\\\circulo_out.svg', '..\\\\..\\\\svg_writer\\\\circulo_out.svg', '..\\\\..\\\\svg_writer\\\\circulo_out.svg.svg']"
     ]
    }
   ],
   "source": [
    "%%manim -ql FlipVertical\n",
    "class FlipVertical(Scene):\n",
    "    def construct(self):\n",
    "        #imagen =SVGMobject(\"../../svg_writer/svg_con_texto/Bold/mayusculas/A.svg\")\n",
    "        imagen = SVGMobject(\"../../svg_writer/circulo_out.svg\")\n",
    "        imagen.set_color(WHITE)\n",
    "        self.add(imagen)\n",
    "        self.wait()\n",
    "        self.play(imagen.animate.scale([1, -1, 0]), run_time = 2.5, rate_func=there_and_back)  # scale está multiplicando por -1. Entonces, respeta el tamaño y le invierte el sentido\n",
    "                                                    # y al animarlo da la sensación de que giró.\n",
    "        self.wait()"
   ]
  },
  {
   "cell_type": "code",
   "execution_count": null,
   "id": "a441ebf3-0da4-4ff1-a530-8bbe0c0ea7a8",
   "metadata": {},
   "outputs": [],
   "source": []
  },
  {
   "cell_type": "code",
   "execution_count": null,
   "id": "68620220-2fab-40fa-a79c-74d6abaf78c1",
   "metadata": {},
   "outputs": [],
   "source": [
    "border_color = \"#00F5FF\"   # Turquesa fuerte\n",
    "        glow_color = \"#80FFFF\"     # Celeste brillante\n",
    "        flash_color = \"#E0FFFF\"    # Blanco azulado\n",
    "        \n",
    "        # Fondo semi-transparente\n",
    "        background_panel = RoundedRectangle(\n",
    "            width=width,\n",
    "            height=height,\n",
    "            corner_radius=corner_radius,\n",
    "            fill_color=BLACK,\n",
    "            fill_opacity=0.15,   # Muy baja opacidad\n",
    "            stroke_width=0,      # Sin borde en el fondo\n",
    "        )"
   ]
  },
  {
   "cell_type": "code",
   "execution_count": 38,
   "id": "44ed290a-5905-471d-a5c1-066772137e86",
   "metadata": {},
   "outputs": [],
   "source": [
    "from manim import *\n",
    "import random"
   ]
  },
  {
   "cell_type": "code",
   "execution_count": 136,
   "id": "ac3c1282-cc2c-440b-9809-d5f802f9f843",
   "metadata": {},
   "outputs": [
    {
     "data": {
      "text/html": [
       "<pre style=\"white-space:pre;overflow-x:auto;line-height:normal;font-family:Menlo,'DejaVu Sans Mono',consolas,'Courier New',monospace\">Manim Community <span style=\"color: #008000; text-decoration-color: #008000\">v0.19.0</span>\n",
       "\n",
       "</pre>\n"
      ],
      "text/plain": [
       "Manim Community \u001b[32mv0.\u001b[0m\u001b[32m19.0\u001b[0m\n",
       "\n"
      ]
     },
     "metadata": {},
     "output_type": "display_data"
    },
    {
     "name": "stderr",
     "output_type": "stream",
     "text": [
      "                                                                                                                       "
     ]
    },
    {
     "data": {
      "text/html": [
       "<video src=\"media\\jupyter\\FuturisticConsole@2025-04-27@18-02-46.mp4\" controls autoplay loop style=\"max-width: 75%;\"  >\n",
       "      Your browser does not support the <code>video</code> element.\n",
       "    </video>"
      ],
      "text/plain": [
       "<IPython.core.display.Video object>"
      ]
     },
     "metadata": {},
     "output_type": "display_data"
    }
   ],
   "source": [
    "%%manim -ql FuturisticConsole\n",
    "\n",
    "class FuturisticConsole(Scene):\n",
    "    def construct(self):\n",
    "        # Parámetros\n",
    "        width = 7.5\n",
    "        height = 4.35\n",
    "        border_color = \"#00F5FF\"   # O puedes usar un Gradiente si quieres más onda\n",
    "        glow_color = \"#80FFFF\"  # Color para el efecto de brillo\n",
    "        border_width = 6\n",
    "        offset = 0.3  # Separación de las líneas internas respecto al borde\n",
    "\n",
    "        # Base: consola transparente con borde brillante\n",
    "        console = RoundedRectangle(\n",
    "            width=width,\n",
    "            height=height,\n",
    "            corner_radius=0.15,\n",
    "            color=border_color,\n",
    "            stroke_width=border_width,\n",
    "            fill_color=BLACK,\n",
    "            fill_opacity=0.15,  # Vidrio esmerilado suave\n",
    "        )\n",
    "\n",
    "        # Glow adicional (simulado duplicando el borde con más difuminado)\n",
    "        console_glow = console.copy().set_stroke(glow_color, width=20, opacity=0.2)\n",
    "\n",
    "        # ----- Líneas internas -----\n",
    "        # Línea superior (más corta que la inferior)\n",
    "        top_line_length = width * 0.5\n",
    "        top_line = Line(\n",
    "            LEFT * top_line_length/2, RIGHT * top_line_length/2,\n",
    "            color=border_color,\n",
    "            stroke_width=4\n",
    "        ).move_to(UP * (height/2 - offset))\n",
    "\n",
    "        # Línea inferior (acortada)\n",
    "        bottom_line_length = width * 0.55  # Un poco más corta que antes\n",
    "        bottom_line = Line(\n",
    "            LEFT * bottom_line_length/2, RIGHT * bottom_line_length/2,\n",
    "            color=border_color,\n",
    "            stroke_width=3\n",
    "        ).move_to(DOWN * (height/2 - offset)).shift(LEFT * 0.9)\n",
    "\n",
    "        # Líneas laterales internas (ajustadas)\n",
    "        side_line_length = height * 0.55  # Aumentar un poco la longitud\n",
    "        lateral_offset = offset + 0.2  # Corrido más adentro\n",
    "        vertical_shift = (height/2 - offset) - (side_line_length/2)\n",
    "\n",
    "        left_line = Line(\n",
    "            DOWN * side_line_length/2, UP * side_line_length/2,\n",
    "            color=border_color,\n",
    "            stroke_width=7\n",
    "        ).move_to(LEFT * (width/2 - lateral_offset)).shift(DOWN * vertical_shift)\n",
    "\n",
    "        right_line = Line(\n",
    "            DOWN * side_line_length/2, UP * side_line_length/2,\n",
    "            color=border_color,\n",
    "            stroke_width=7\n",
    "        ).move_to(RIGHT * (width/2 - lateral_offset)).shift(DOWN * vertical_shift)\n",
    "\n",
    "        # ----- Conectores especiales -----\n",
    "        # Línea vertical cortita al final de la superior (ajustada más abajo)\n",
    "        vertical_connector = Line(\n",
    "            UP * 0.2, DOWN * 0.2,\n",
    "            color=border_color,\n",
    "            stroke_width=4\n",
    "        ).move_to(top_line.get_end() + DOWN * 0.2)  # Ajuste hacia abajo\n",
    "\n",
    "        # Diagonales desde las esquinas superiores (más adentro)\n",
    "        diagonal_offset_left = 0.35  # Qué tan largas son las diagonales\n",
    "        diagonal_offset_right = 0.65  # Qué tan largas son las diagonales\n",
    "        \n",
    "        diagonal_left = Line(\n",
    "            ORIGIN, DOWN * diagonal_offset_left + RIGHT * diagonal_offset_left,  # Baja y va hacia la derecha\n",
    "            color=border_color,\n",
    "            stroke_width=5\n",
    "        ).move_to(console.get_corner(UP + LEFT) + RIGHT * 0.25 + DOWN * 0.25)  # Más adentro\n",
    "\n",
    "        diagonal_right = Line(\n",
    "            ORIGIN, DOWN * diagonal_offset_right + LEFT * diagonal_offset_right,  # Baja y va hacia la izquierda\n",
    "            color=border_color,\n",
    "            stroke_width=5 \n",
    "        ).move_to(console.get_corner(UP + RIGHT) + LEFT * 0.60 + DOWN * 0.60)  # Más adentro\n",
    "\n",
    "        # ----- Nuevas diagonales desde las líneas laterales -----\n",
    "        # Diagonales desde los extremos superiores de las líneas laterales hacia el borde exterior\n",
    "        diagonal_side_offset = 0.35  # Qué tan largas son las diagonales laterales\n",
    "\n",
    "        # Diagonal izquierda (más hacia el borde izquierdo)\n",
    "        side_diagonal_left = Line(\n",
    "            ORIGIN, UP * diagonal_side_offset + LEFT * diagonal_side_offset,  # Va hacia arriba y hacia la izquierda\n",
    "            color=border_color,\n",
    "            stroke_width=7\n",
    "        ).move_to(left_line.get_end() + LEFT * 0.17 + UP * 0.16)  # Desplazar un poquito hacia afuera\n",
    "\n",
    "        # Diagonal derecha (más hacia el borde derecho)\n",
    "        side_diagonal_right = Line(\n",
    "            ORIGIN, UP * diagonal_side_offset + RIGHT * diagonal_side_offset,  # Va hacia arriba y hacia la derecha\n",
    "            color=border_color,\n",
    "            stroke_width=7\n",
    "        ).move_to(right_line.get_end() + RIGHT * 0.17 + UP * 0.16)  # Desplazar un poquito hacia afuera\n",
    "\n",
    "        # ----- Agrupar la línea superior y su conector -----\n",
    "        top_group = VGroup(top_line, vertical_connector).shift(RIGHT * 0.3)\n",
    "\n",
    "        # ----- Agregar los números de línea -----\n",
    "        line_numbers = VGroup()\n",
    "        num_lines = 7  # Número de líneas\n",
    "\n",
    "        for i in range(num_lines):\n",
    "            line_number = Text(\n",
    "                f\"{i+1}\", font=\"Monospace\", color=border_color, font_size=22\n",
    "            ).move_to(LEFT * (width/2 - lateral_offset) + UP * (height/2 - (i+1) * 0.44))  # Ajustado a la línea izquierda\n",
    "            line_numbers.add(line_number)\n",
    "        \n",
    "        # ----- Agrupar la consola y los números -----\n",
    "        console_group = VGroup(\n",
    "            console_glow,\n",
    "            console,\n",
    "            top_group,  # Agrupando las líneas superiores\n",
    "            bottom_line,\n",
    "            left_line,\n",
    "            right_line,\n",
    "            diagonal_left,\n",
    "            diagonal_right,\n",
    "            side_diagonal_left,\n",
    "            side_diagonal_right\n",
    "        )\n",
    "\n",
    "        # Mover el grupo de los números de línea\n",
    "        line_numbers.shift(RIGHT * 0.6+ 0.4 * DOWN)  # Mover los números de línea a la derecha de la línea izquierda\n",
    "\n",
    "        # ----- Agregar todo -----\n",
    "        self.play(FadeIn(console_group, shift=UP, scale=0.95), run_time=2)\n",
    "        self.play(FadeIn(line_numbers, shift=RIGHT, scale=0.95), run_time=2)\n",
    "\n",
    "    \n",
    "        self.wait(2)\n"
   ]
  },
  {
   "cell_type": "code",
   "execution_count": 138,
   "id": "c5adc963-c466-4984-8375-37961ad82e98",
   "metadata": {},
   "outputs": [],
   "source": [
    "# Podrías usar la función ShowPassingFlash()\n",
    "# MoveAlongPath, con updater: https://docs.manim.community/en/stable/reference/manim.animation.movement.MoveAlongPath.html\n"
   ]
  },
  {
   "cell_type": "code",
   "execution_count": null,
   "id": "a383e75e-dfd0-46bb-9b72-f28aecf289e0",
   "metadata": {},
   "outputs": [],
   "source": []
  },
  {
   "cell_type": "code",
   "execution_count": null,
   "id": "8cfea01a-b635-4e89-92c7-7cd734e8e736",
   "metadata": {},
   "outputs": [],
   "source": []
  },
  {
   "cell_type": "code",
   "execution_count": null,
   "id": "d07c9937-7a84-46e1-9dbc-9ba756ba38cd",
   "metadata": {},
   "outputs": [],
   "source": []
  },
  {
   "cell_type": "code",
   "execution_count": null,
   "id": "b38038cb-dc5d-46f6-b428-6b94d0a1c211",
   "metadata": {},
   "outputs": [],
   "source": []
  },
  {
   "cell_type": "code",
   "execution_count": null,
   "id": "2bcc2a6c-5a3c-42ae-8d1c-3a288f9fea38",
   "metadata": {},
   "outputs": [],
   "source": []
  },
  {
   "cell_type": "code",
   "execution_count": null,
   "id": "79f049a9-33cd-4f48-aa3d-a9608e8bba69",
   "metadata": {},
   "outputs": [],
   "source": []
  },
  {
   "cell_type": "code",
   "execution_count": null,
   "id": "41fddd3d-194a-441c-abd9-1e08680ba222",
   "metadata": {},
   "outputs": [],
   "source": []
  }
 ],
 "metadata": {
  "kernelspec": {
   "display_name": "Python 3 (ipykernel)",
   "language": "python",
   "name": "python3"
  },
  "language_info": {
   "codemirror_mode": {
    "name": "ipython",
    "version": 3
   },
   "file_extension": ".py",
   "mimetype": "text/x-python",
   "name": "python",
   "nbconvert_exporter": "python",
   "pygments_lexer": "ipython3",
   "version": "3.10.16"
  }
 },
 "nbformat": 4,
 "nbformat_minor": 5
}
