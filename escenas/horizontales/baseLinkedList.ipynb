{
 "cells": [
  {
   "cell_type": "code",
   "execution_count": 1,
   "id": "e95a7895-c7ea-4bee-9fb7-90a77c0dddfd",
   "metadata": {},
   "outputs": [
    {
     "data": {
      "text/html": [
       "<pre style=\"white-space:pre;overflow-x:auto;line-height:normal;font-family:Menlo,'DejaVu Sans Mono',consolas,'Courier New',monospace\">Manim Community <span style=\"color: #008000; text-decoration-color: #008000\">v0.18.0</span>\n",
       "\n",
       "</pre>\n"
      ],
      "text/plain": [
       "Manim Community \u001b[32mv0.\u001b[0m\u001b[32m18.0\u001b[0m\n",
       "\n"
      ]
     },
     "metadata": {},
     "output_type": "display_data"
    }
   ],
   "source": [
    "from manim import *"
   ]
  },
  {
   "cell_type": "code",
   "execution_count": 2,
   "id": "ca14ebc2-9c13-4964-83b0-6c94e01fd56c",
   "metadata": {},
   "outputs": [],
   "source": [
    "config.media_width = \"75%\"\n",
    "config.verbosity = \"WARNING\""
   ]
  },
  {
   "cell_type": "code",
   "execution_count": null,
   "id": "bdca793f-d984-4caa-89f3-fd920325c804",
   "metadata": {},
   "outputs": [],
   "source": []
  },
  {
   "cell_type": "code",
   "execution_count": 3,
   "id": "07522ff9-6c89-4d52-aece-e7f72b47a950",
   "metadata": {},
   "outputs": [
    {
     "name": "stderr",
     "output_type": "stream",
     "text": [
      "                                                                                                                       \r"
     ]
    },
    {
     "data": {
      "text/html": [
       "<video src=\"media\\jupyter\\NodosPegados@2025-04-19@12-35-39.mp4\" controls autoplay loop style=\"max-width: 75%;\"  >\n",
       "      Your browser does not support the <code>video</code> element.\n",
       "    </video>"
      ],
      "text/plain": [
       "<IPython.core.display.Video object>"
      ]
     },
     "metadata": {},
     "output_type": "display_data"
    }
   ],
   "source": [
    "%%manim -ql NodosPegados\n",
    "\n",
    "class NodoPegado(VGroup):\n",
    "    def __init__(self, texto1, texto2, circulo_derecho=False, **kwargs):\n",
    "        super().__init__(**kwargs)\n",
    "        rect1 = Rectangle(height=1.25, width=1)\n",
    "        rect2 = Rectangle(height=1.25, width=1)\n",
    "        rect2.next_to(rect1, RIGHT, buff=0)\n",
    "\n",
    "        # Texto en el nodo izquierdo\n",
    "        text1 = Text(texto1, color=WHITE).scale(0.5)\n",
    "        text1.move_to(rect1.get_center())\n",
    "\n",
    "        # Agregar texto al nodo derecho o un círculo según el parámetro circulo_derecho\n",
    "        if circulo_derecho:\n",
    "            circle = Circle(radius=0.15, color=WHITE, fill_opacity=1)\n",
    "            circle.move_to(rect2.get_center())\n",
    "            self.add(circle)\n",
    "        else:\n",
    "            text2 = Text(texto2, color=WHITE).scale(0.5)\n",
    "            text2.move_to(rect2.get_center())\n",
    "            self.add(text2)\n",
    "\n",
    "        self.add(rect1, rect2, text1)\n",
    "\n",
    "class NodosPegados(Scene):\n",
    "    def construct(self):\n",
    "\n",
    "        # Crear el header\n",
    "        cuadrado = Square(side_length=0.5, color=BLUE, fill_color= BLUE, fill_opacity = 1)  # Define un cuadrado con lado de longitud 2 y color azul\n",
    "        cuadrado.move_to(DOWN *2 + RIGHT * 6)\n",
    "        self.play(Create(cuadrado))\n",
    "        \n",
    "        # Nodo uno (aparece a la derecha)\n",
    "        nodo_pegado1 = NodoPegado(\"1\", \"\", circulo_derecho=True)\n",
    "        nodo_pegado1.move_to(RIGHT * 6)  # Nodo inicialmente a la derecha\n",
    "        self.play(Create(nodo_pegado1))  # Añade el nodo a la escena\n",
    "\n",
    "        # Crear flecha hacia nodo1\n",
    "        flecha0 = Arrow(cuadrado.get_center(), nodo_pegado1.get_center(), buff=0.1)\n",
    "        self.play(Create(flecha0))  # Añade la flecha a la escena\n",
    "\n",
    "        # Desplazar \n",
    "        self.play(nodo_pegado1.animate.shift(LEFT * 3),\n",
    "           cuadrado.animate.shift(LEFT * 3),      \n",
    "           flecha0.animate.shift(LEFT *3),\n",
    "        )\n",
    "        \n",
    "        # Nodo dos (aparece después del primer nodo)\n",
    "        nodo_pegado2 = NodoPegado(\"2\", \"\", circulo_derecho=True)\n",
    "        nodo_pegado2.move_to(RIGHT * 6)  # Nodo inicialmente a la derecha\n",
    "        #nodo_pegado2.next_to(nodo_pegado1, RIGHT)  # Aparece a la derecha del primer nodo\n",
    "        self.play(Create(nodo_pegado2))  # Añade el nodo a la escena\n",
    "\n",
    "        # Crear flecha del nodo 1 al nodo 2\n",
    "        flecha1 = Arrow(nodo_pegado1[0][0].get_center(), nodo_pegado2[1][0].get_center(), buff=0.1)\n",
    "        self.play(Create(flecha1))  # Añade la flecha a la escena\n",
    "\n",
    "        # Desplazar objetos a la izquierda\n",
    "        self.play(nodo_pegado1.animate.shift(LEFT * 3),\n",
    "           nodo_pegado2.animate.shift(LEFT * 3),\n",
    "           flecha1.animate.shift(LEFT * 3),\n",
    "           cuadrado.animate.shift(LEFT * 3),      \n",
    "           flecha0.animate.shift(LEFT *3),\n",
    "        )\n",
    "\n",
    "        # Crear nodo 3\n",
    "        nodo_pegado3 = NodoPegado(\"3\", \"\", circulo_derecho=True)\n",
    "        nodo_pegado3.move_to(RIGHT * 6)  # Nodo inicialmente a la derecha\n",
    "        #nodo_pegado3.next_to(nodo_pegado2, RIGHT)  # Aparece a la derecha del segundo nodo\n",
    "        self.play(Create(nodo_pegado3))  # Añade el nodo a la escena\n",
    "        \n",
    "\n",
    "        # Flecha que va del nodo 2 al nodo 3\n",
    "        flecha2 = Arrow(nodo_pegado2[0][0].get_center(), nodo_pegado3[1][0].get_center(), buff=0.1)\n",
    "        self.play(Create(flecha2))  # Añade la flecha a la escena\n",
    "\n",
    "        # Desplazar todo hacia la izquierda\n",
    "        self.play(\n",
    "            nodo_pegado1.animate.shift(LEFT * 3),\n",
    "            nodo_pegado2.animate.shift(LEFT * 3),\n",
    "            flecha1.animate.shift(LEFT * 3),\n",
    "            nodo_pegado3.animate.shift(LEFT * 3),\n",
    "            flecha2.animate.shift(LEFT * 3),\n",
    "            cuadrado.animate.shift(LEFT * 3),      \n",
    "            flecha0.animate.shift(LEFT *3),\n",
    "        )\n",
    "\n",
    "        # Crear nodo 4\n",
    "        nodo_pegado4 = NodoPegado(\"4\", \"\", circulo_derecho=True)\n",
    "        nodo_pegado4.move_to(RIGHT * 6)  # Nodo inicialmente a la derecha\n",
    "        self.play(Create(nodo_pegado4))  # Añade el nodo a la escena\n",
    "\n",
    "        # Crear flecha del nodo 3 al nodo 4\n",
    "        flecha3 = Arrow(nodo_pegado3[0][0].get_center(), nodo_pegado4[1][0].get_center(), buff=0.1)\n",
    "        self.play(Create(flecha3))  # Añade la flecha a la escena\n",
    "\n",
    "        # Desplazar todo hacia la izquierda\n",
    "        self.play(\n",
    "            nodo_pegado1.animate.shift(LEFT * 3),\n",
    "            nodo_pegado2.animate.shift(LEFT * 3),\n",
    "            flecha1.animate.shift(LEFT * 3),\n",
    "            nodo_pegado3.animate.shift(LEFT * 3),\n",
    "            flecha2.animate.shift(LEFT * 3),\n",
    "            nodo_pegado4.animate.shift(LEFT * 3),\n",
    "            flecha3.animate.shift(LEFT * 3),\n",
    "            cuadrado.animate.shift(LEFT * 3),      \n",
    "            flecha0.animate.shift(LEFT *3),\n",
    "            \n",
    "        )\n",
    "\n",
    "        self.wait() \n"
   ]
  },
  {
   "cell_type": "code",
   "execution_count": null,
   "id": "544e3b6d-f773-4803-b947-7ce923dba3b8",
   "metadata": {},
   "outputs": [],
   "source": []
  },
  {
   "cell_type": "code",
   "execution_count": null,
   "id": "58cf9674-a72d-4d9e-8cf2-763e30783f25",
   "metadata": {},
   "outputs": [],
   "source": []
  },
  {
   "cell_type": "code",
   "execution_count": null,
   "id": "ef5f1c64-56fb-483e-8516-57ff41827e4d",
   "metadata": {},
   "outputs": [],
   "source": []
  },
  {
   "cell_type": "code",
   "execution_count": null,
   "id": "07b4942c-0798-4dd5-8802-bddc6133de34",
   "metadata": {},
   "outputs": [],
   "source": []
  }
 ],
 "metadata": {
  "kernelspec": {
   "display_name": "Python 3 (ipykernel)",
   "language": "python",
   "name": "python3"
  },
  "language_info": {
   "codemirror_mode": {
    "name": "ipython",
    "version": 3
   },
   "file_extension": ".py",
   "mimetype": "text/x-python",
   "name": "python",
   "nbconvert_exporter": "python",
   "pygments_lexer": "ipython3",
   "version": "3.11.8"
  }
 },
 "nbformat": 4,
 "nbformat_minor": 5
}
