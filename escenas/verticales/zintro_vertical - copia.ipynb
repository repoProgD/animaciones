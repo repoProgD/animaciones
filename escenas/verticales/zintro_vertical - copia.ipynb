{
 "cells": [
  {
   "cell_type": "code",
   "execution_count": 1,
   "id": "80776989-ebd4-429d-9fd1-a28fb5468b57",
   "metadata": {},
   "outputs": [
    {
     "data": {
      "text/html": [
       "<pre style=\"white-space:pre;overflow-x:auto;line-height:normal;font-family:Menlo,'DejaVu Sans Mono',consolas,'Courier New',monospace\">Manim Community <span style=\"color: #008000; text-decoration-color: #008000\">v0.18.0</span>\n",
       "\n",
       "</pre>\n"
      ],
      "text/plain": [
       "Manim Community \u001b[32mv0.\u001b[0m\u001b[32m18.0\u001b[0m\n",
       "\n"
      ]
     },
     "metadata": {},
     "output_type": "display_data"
    }
   ],
   "source": [
    "from manim import *"
   ]
  },
  {
   "cell_type": "code",
   "execution_count": 2,
   "id": "248c8c3d-9426-4377-a5d0-341d518165b1",
   "metadata": {},
   "outputs": [],
   "source": [
    "import sys\n",
    "import os\n",
    "\n",
    "# Configuración del directorio raíz del proyecto\n",
    "project_root = os.path.abspath(os.path.join(os.getcwd(), '..'))  # Directorio raíz\n",
    "# Configuración de las rutas\n",
    "sys.path.append(os.path.join(project_root, 'src'))  # Agregar 'src' al path para importaciones"
   ]
  },
  {
   "cell_type": "code",
   "execution_count": null,
   "id": "0904d09e-1f0b-479f-8560-920c7e5eb280",
   "metadata": {},
   "outputs": [],
   "source": [
    "# config.media_width = \"75%\"\n",
    "# config.verbosity = \"WARNING\"\n",
    "# config.background_color = \"#24043d\""
   ]
  },
  {
   "cell_type": "code",
   "execution_count": null,
   "id": "14ad6f15",
   "metadata": {},
   "outputs": [],
   "source": [
    "import funciones as f\n",
    "# f.etiquetar_ejes()"
   ]
  },
  {
   "cell_type": "code",
   "execution_count": null,
   "id": "ec55c4f4-c551-4007-ac4e-eef4f7e89139",
   "metadata": {},
   "outputs": [],
   "source": [
    "import herramientas as h"
   ]
  },
  {
   "cell_type": "code",
   "execution_count": null,
   "id": "d4d0a4f8-c4ae-4154-97b6-e3e20f29cfe7",
   "metadata": {},
   "outputs": [
    {
     "name": "stderr",
     "output_type": "stream",
     "text": [
      "                                                                                                                       \r"
     ]
    },
    {
     "data": {
      "text/html": [
       "<video src=\"media\\jupyter\\MiClaseVertical@2025-04-22@20-33-11.mp4\" controls autoplay loop style=\"max-width: 75%;\"  >\n",
       "      Your browser does not support the <code>video</code> element.\n",
       "    </video>"
      ],
      "text/plain": [
       "<IPython.core.display.Video object>"
      ]
     },
     "metadata": {},
     "output_type": "display_data"
    }
   ],
   "source": [
    "%%writefile Intro.py\n",
    "from manim import *\n",
    "import numpy as np\n",
    "\n",
    "# Configuración vertical (1080x1920)\n",
    "config.pixel_width = 1080\n",
    "config.pixel_height = 1920\n",
    "config.frame_width = 5.625\n",
    "config.frame_height = 10.0\n",
    "config.background_color = BLACK\n",
    "config.media_dir = \"./media\"  # Directorio donde se guarda el video\n",
    "#config.background_color = \"#24043d\"\n",
    "\n",
    "# Función auxiliar para grilla (igual que antes)\n",
    "def en_grilla(grupo: VGroup, columnas: int, espacio_x: float = 1.0, espacio_y: float = 1.0,\n",
    "              alineacion_horizontal: str = \"centro\", alineacion_vertical: str = \"centro\",\n",
    "              max_izquierda: float = -6, max_derecha: float = 6,\n",
    "              max_abajo: float = -3.5, max_arriba: float = 3.5,\n",
    "              offset_x: float = 0, offset_y: float = 0) -> VGroup:\n",
    "    n = len(grupo)\n",
    "    filas = (n + columnas - 1) // columnas\n",
    "    for idx, obj in enumerate(grupo):\n",
    "        fila = idx // columnas\n",
    "        col = idx % columnas\n",
    "        obj.move_to([col * espacio_x, -fila * espacio_y, 0])\n",
    "    ancho_total = (min(columnas, n) - 1) * espacio_x\n",
    "    alto_total = (filas - 1) * espacio_y\n",
    "    if alineacion_horizontal == \"centro\":\n",
    "        grupo.shift(RIGHT * ((max_derecha + max_izquierda - ancho_total) / 2 + offset_x))\n",
    "    elif alineacion_horizontal == \"izquierda\":\n",
    "        grupo.shift(LEFT * abs(max_izquierda) + RIGHT * offset_x)\n",
    "    elif alineacion_horizontal == \"derecha\":\n",
    "        grupo.shift(RIGHT * abs(max_derecha - ancho_total) + RIGHT * offset_x)\n",
    "    if alineacion_vertical == \"centro\":\n",
    "        grupo.shift(UP * ((max_arriba + max_abajo - alto_total) / 2 + offset_y))\n",
    "    elif alineacion_vertical == \"arriba\":\n",
    "        grupo.shift(UP * abs(max_arriba) + UP * offset_y)\n",
    "    elif alineacion_vertical == \"abajo\":\n",
    "        grupo.shift(DOWN * abs(max_abajo - alto_total) + UP * offset_y)\n",
    "    return grupo\n",
    "\n",
    "def entrada_con_rebote(objeto, destino, desde=None, altura_rebote=1.5, duracion_total=2.5):\n",
    "    if desde is None:\n",
    "        desde = destino + 5 * UP\n",
    "\n",
    "    objeto.move_to(desde)\n",
    "    desplazamiento_total = desde - destino\n",
    "\n",
    "    dur_caida = duracion_total * 0.5\n",
    "    dur_transicion = duracion_total * 0.1\n",
    "    dur_rebote = duracion_total - dur_caida - dur_transicion\n",
    "\n",
    "    # Animación 1: caída suave (ease-in)\n",
    "    def anim_caida_fn(mob, alpha):\n",
    "        y_offset = 1 - (1 - alpha) ** 2  # aceleración suave\n",
    "        mob.move_to(destino + (1 - y_offset) * desplazamiento_total)\n",
    "\n",
    "    caida = UpdateFromAlphaFunc(objeto, anim_caida_fn, run_time=dur_caida, rate_func=linear)\n",
    "\n",
    "    # Punto inicial de rebote\n",
    "    rebote_pico = destino + altura_rebote * UP\n",
    "\n",
    "    # Animación 2: transición rápida del destino al pico del rebote\n",
    "    transicion = objeto.animate.move_to(rebote_pico).set_run_time(dur_transicion).set_rate_func(smooth)\n",
    "\n",
    "    # Animación 3: rebote clásico hacia abajo\n",
    "    def curva_rebote_clasica(t):\n",
    "        if t < 0.3636:\n",
    "            y = 7.5625 * t * t\n",
    "        elif t < 0.7272:\n",
    "            t -= 0.5454\n",
    "            y = 7.5625 * t * t + 0.75\n",
    "        elif t < 0.9090:\n",
    "            t -= 0.8181\n",
    "            y = 7.5625 * t * t + 0.9375\n",
    "        else:\n",
    "            t -= 0.9545\n",
    "            y = 7.5625 * t * t + 0.984375\n",
    "        return y\n",
    "\n",
    "    def anim_rebote_fn(mob, alpha):\n",
    "        y_offset = curva_rebote_clasica(alpha)\n",
    "        mob.move_to(destino + (1 - y_offset) * altura_rebote * UP)\n",
    "\n",
    "    rebote = UpdateFromAlphaFunc(objeto, anim_rebote_fn, run_time=dur_rebote, rate_func=linear)\n",
    "\n",
    "    return Succession(caida, transicion, rebote)\n",
    "\n",
    "def desaparecer_gradualmente(mob, alpha):\n",
    "      mob.set_opacity(1 - alpha)\n",
    "\n",
    "\n",
    "def etiquetar_ejes(ejes: ThreeDAxes, escala: float = 0.65, color: str = WHITE) -> VGroup:\n",
    "    \"\"\"Devuelve un grupo con las etiquetas 'X', 'Y', 'Z' posicionadas al final de cada eje.\"\"\"\n",
    "    etiqueta_x = Text(\"X\", color=color).scale(escala)\n",
    "    etiqueta_y = Text(\"Y\", color=color).scale(escala)\n",
    "    etiqueta_z = Text(\"Z\", color=color).scale(escala)\n",
    "\n",
    "    etiqueta_x.move_to(ejes.x_axis.get_end() + RIGHT * 0.3)\n",
    "    etiqueta_y.move_to(ejes.y_axis.get_end() + UP * 0.3)\n",
    "    etiqueta_z.move_to(ejes.z_axis.get_end() + OUT * 0.3)  # OUT es hacia la cámara\n",
    "\n",
    "    return VGroup(etiqueta_x, etiqueta_y, etiqueta_z)\n",
    "\n",
    "\n",
    "# Escena vertical 3d\n",
    "class Intro(ThreeDScene):\n",
    "    def construct(self):\n",
    "\n",
    "        logo = ImageMobject(\"logorobo.png\").set_opacity(0.55)  # Asegúrate de que esté en el mismo directorio\n",
    "        logo.scale(0.45)  # Opcional: escala la imagen\n",
    "        logo.to_corner(DL).shift(0.54*LEFT + 0.6*DOWN)  # Coloca la imagen en la esquina superior derecha\n",
    "        #self.add(logo)\n",
    "\n",
    "        # ejes = ThreeDAxes()\n",
    "        # ejes.scale(0.8)\n",
    "        # self.add(ejes)\n",
    "        # etiquetas = etiquetar_ejes(ejes)\n",
    "        # self.add(etiquetas)\n",
    "\n",
    "        rectangulos = VGroup(*[\n",
    "            Rectangle(width=1.8, height=2.6, color=WHITE).scale(0.703125)\n",
    "            for _ in range(20)\n",
    "        ])\n",
    "\n",
    "        en_grilla(\n",
    "            rectangulos,\n",
    "            columnas=4,\n",
    "            espacio_x=2 * 0.7,        # Debería ser * 0.703125 pero la diferencia es despreciable\n",
    "            espacio_y=2.8 * 0.7,\n",
    "            alineacion_horizontal=\"centro\",\n",
    "            alineacion_vertical=\"centro\",\n",
    "            max_izquierda=-2.8125,    # suman el ancho del frame\n",
    "            max_derecha=2.8125,       #\n",
    "            max_abajo=2.85,           # Estos dos tienen una distancia igual al alto del frame,\n",
    "            max_arriba=12.85          # pero corridos 2.85 unidades hacia arriba\n",
    "        )                             # por el offset de la función, en vertical.\n",
    "\n",
    "\n",
    "        #self.play(FadeIn(rectangulos))\n",
    "        glow_marco = RoundedRectangle(\n",
    "            width=4.92,          # Ajustá según la proporción visible del marco interior\n",
    "            height=7.12,          # Idem\n",
    "            corner_radius=0.8  # Suavidad de las esquinas\n",
    "        )\n",
    "        glow_marco.set_stroke(color=BLUE, width=40, opacity=1)  # Azul turquesa con efecto suave\n",
    "        glow_marco.set_fill(opacity=0)  # Solo borde\n",
    "        glow_marco.move_to(ORIGIN).shift(0.02*DOWN)      # Asegurarse que quede alineado\n",
    "\n",
    "        # Glow interno\n",
    "        glow_marco2 = RoundedRectangle(\n",
    "            width=4.54,          # Ajustá según la proporción visible del marco interior\n",
    "            height=6.75,          # Idem\n",
    "            corner_radius=0.8  # Suavidad de las esquinas\n",
    "        )\n",
    "        glow_marco2.set_stroke(color=BLUE, width=10, opacity=0.9)  # Azul turquesa con efecto suave\n",
    "        glow_marco2.set_fill(opacity=0)  # Solo borde\n",
    "        glow_marco2.move_to(ORIGIN).shift(0.04*DOWN)\n",
    "\n",
    "        compu = ImageMobject(\"compu_v_color.png\")\n",
    "        compu.scale(0.98)\n",
    "        grupo_intro = Group()\n",
    "        titulo = Text(\"Los 10 materiales\\nmás caros del mundo!\", color = WHITE)\n",
    "        titulo.next_to(rectangulos[4], RIGHT, buff=0).shift(1.4*LEFT) #1/2 del espacio entre centros de rectángulos, en x\n",
    "        compu = ImageMobject(\"compu_v_color.png\").scale(0.98)\n",
    "\n",
    "        grupo_intro.add(glow_marco)\n",
    "        grupo_intro.add(compu)\n",
    "        grupo_intro.add(glow_marco2)\n",
    "\n",
    "        titulo.scale(0.7)\n",
    "\n",
    "        self.play(entrada_con_rebote(grupo_intro, destino=ORIGIN, desde = 10 * UP, altura_rebote=0.6,\n",
    "                                     duracion_total=1.4))\n",
    "        #self.add_fixed_orientation_mobjects(titulo)\n",
    "        self.play(Write(titulo))\n",
    "        grupo_intro.add(titulo)\n",
    "\n",
    "        self.play(\n",
    "                AnimationGroup(\n",
    "                    grupo_intro.animate.scale(1.6),\n",
    "                    UpdateFromAlphaFunc(titulo, desaparecer_gradualmente),\n",
    "                    FadeIn(logo),\n",
    "                    lag_ratio=0.15  # Ajustá este valor a gusto (0 = todo a la vez, 1 = secuencial)\n",
    "                ),\n",
    "                run_time=2.5\n",
    "            )\n",
    "\n",
    "        self.wait(1)\n"
   ]
  },
  {
   "cell_type": "code",
   "execution_count": null,
   "id": "42ab1dd9-c52a-4bdf-8107-01a942d831b0",
   "metadata": {},
   "outputs": [],
   "source": []
  },
  {
   "cell_type": "code",
   "execution_count": null,
   "id": "8dbc4092-91e0-43b5-aa72-65307df08869",
   "metadata": {},
   "outputs": [],
   "source": []
  },
  {
   "cell_type": "code",
   "execution_count": null,
   "id": "905dd50d-2cf4-4a43-bd72-d12fb218ac6d",
   "metadata": {},
   "outputs": [],
   "source": []
  },
  {
   "cell_type": "code",
   "execution_count": null,
   "id": "c3db4bee-3d47-4928-a735-e95bd0370501",
   "metadata": {},
   "outputs": [],
   "source": []
  },
  {
   "cell_type": "code",
   "execution_count": null,
   "id": "3eca1bd2-5113-4448-8817-5776f6f0844c",
   "metadata": {},
   "outputs": [],
   "source": []
  },
  {
   "cell_type": "code",
   "execution_count": null,
   "id": "9071e4b4-3181-4b0e-a47a-4b4a39abfb43",
   "metadata": {},
   "outputs": [],
   "source": []
  },
  {
   "cell_type": "code",
   "execution_count": null,
   "id": "cca8898e-5a3d-4d19-bcef-e9d84bcaf4d1",
   "metadata": {},
   "outputs": [],
   "source": []
  },
  {
   "cell_type": "code",
   "execution_count": null,
   "id": "f63ed725-f59f-4f27-9e9f-e0eb81b4c5ef",
   "metadata": {},
   "outputs": [],
   "source": []
  },
  {
   "cell_type": "code",
   "execution_count": null,
   "id": "19ce0b58-fc90-4643-9174-a5f4504dc44b",
   "metadata": {},
   "outputs": [],
   "source": []
  }
 ],
 "metadata": {
  "kernelspec": {
   "display_name": "Python 3 (ipykernel)",
   "language": "python",
   "name": "python3"
  },
  "language_info": {
   "codemirror_mode": {
    "name": "ipython",
    "version": 3
   },
   "file_extension": ".py",
   "mimetype": "text/x-python",
   "name": "python",
   "nbconvert_exporter": "python",
   "pygments_lexer": "ipython3",
   "version": "3.10.16"
  }
 },
 "nbformat": 4,
 "nbformat_minor": 5
}
