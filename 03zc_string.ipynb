{
 "cells": [
  {
   "cell_type": "markdown",
   "id": "09142194-70c7-4374-8c3f-43138ab6af37",
   "metadata": {},
   "source": [
    "<h1 style=\"background-color: #24043d; color: white; padding: 25px;\">\n",
    "    Profundización Strings\n",
    "</h1>"
   ]
  },
  {
   "cell_type": "markdown",
   "id": "2e195fd5-56bc-44ff-916a-9c93202ac85c",
   "metadata": {},
   "source": [
    "### Python nos brinda una gran cantidad de métodos para acceder y trabajar con Strings"
   ]
  },
  {
   "cell_type": "markdown",
   "id": "d63d0e29-32f1-48f5-8f36-42ef008c1f79",
   "metadata": {},
   "source": [
    "<h2 style=\"background-color: #24043d; color: white; padding: 12px;\">\n",
    "    1. Acceso\n",
    "</h2>"
   ]
  },
  {
   "cell_type": "markdown",
   "id": "3ef37475-e70d-455c-9a84-89df09eff832",
   "metadata": {},
   "source": [
    "##### En Python las posiciones se cuentan desde el cero"
   ]
  },
  {
   "cell_type": "markdown",
   "id": "c9e50739-6bdb-45fc-8f9f-b2c4eaa000da",
   "metadata": {},
   "source": [
    "<p style=\"background-color: #C483F7; color: black; padding: 12px;\">\n",
    "    Sintaxis: La manera de indicar que queremos acceder a una posición específica es la siguiente:  <b>string[posicion]</b><br>\n",
    "Ej: mi_cadena[3], en este caso arrojará la letra \"c\" como resultado\n",
    "</p>"
   ]
  },
  {
   "cell_type": "code",
   "execution_count": 8,
   "id": "b0a6b61b-0da0-4945-b637-a199173af804",
   "metadata": {},
   "outputs": [],
   "source": [
    "mi_cadena = \"murciélago\""
   ]
  },
  {
   "cell_type": "code",
   "execution_count": 9,
   "id": "58e5f124-b8b3-4444-a5ce-6137ed45d657",
   "metadata": {},
   "outputs": [
    {
     "name": "stdout",
     "output_type": "stream",
     "text": [
      "m\n"
     ]
    }
   ],
   "source": [
    "print(mi_cadena[0])"
   ]
  },
  {
   "cell_type": "markdown",
   "id": "dba885b2-b346-4e59-bb7c-58770e5c55b1",
   "metadata": {},
   "source": [
    "##### Normalmente, se cuentan de izquierda a derecha"
   ]
  },
  {
   "cell_type": "code",
   "execution_count": 14,
   "id": "656030fc-8516-4a26-adf8-673995780cd8",
   "metadata": {},
   "outputs": [
    {
     "name": "stdout",
     "output_type": "stream",
     "text": [
      "m\n",
      "u\n",
      "r\n",
      "c\n",
      "i\n",
      "é\n",
      "l\n",
      "a\n",
      "g\n",
      "o\n"
     ]
    }
   ],
   "source": [
    "print(mi_cadena[0])\n",
    "print(mi_cadena[1])\n",
    "print(mi_cadena[2])\n",
    "print(mi_cadena[3])\n",
    "print(mi_cadena[4])\n",
    "print(mi_cadena[5])\n",
    "print(mi_cadena[6])\n",
    "print(mi_cadena[7])\n",
    "print(mi_cadena[8])\n",
    "print(mi_cadena[9])"
   ]
  },
  {
   "cell_type": "markdown",
   "id": "97a844aa-ed98-4721-91b5-a7b862f4ea70",
   "metadata": {},
   "source": [
    "#### Pero también podemos acceder contando de derecha a izquierda"
   ]
  },
  {
   "cell_type": "code",
   "execution_count": 7,
   "id": "dc4011dc-cd08-48ed-b020-c571a9ce42dd",
   "metadata": {},
   "outputs": [
    {
     "name": "stdout",
     "output_type": "stream",
     "text": [
      "o\n",
      "g\n",
      "a\n"
     ]
    }
   ],
   "source": [
    "print(mi_cadena[-1])\n",
    "print(mi_cadena[-2])\n",
    "print(mi_cadena[-3])"
   ]
  },
  {
   "cell_type": "code",
   "execution_count": 10,
   "id": "c2966ccf-c440-49f2-b188-d60acf7d9d1a",
   "metadata": {},
   "outputs": [
    {
     "name": "stdout",
     "output_type": "stream",
     "text": [
      "murciélago\n"
     ]
    }
   ],
   "source": [
    "print(f\"{mi_cadena[0]}{mi_cadena[1]}{mi_cadena[2]}{mi_cadena[3]}{mi_cadena[4]}{mi_cadena[5]}{mi_cadena[6]}{mi_cadena[7]}{mi_cadena[8]}{mi_cadena[9]}\")"
   ]
  },
  {
   "cell_type": "markdown",
   "id": "600fdb8b-eedb-4379-83fb-4aea87bf8c4a",
   "metadata": {},
   "source": [
    "<h2 style=\"background-color: #24043d; color: white; padding: 12px;\">\n",
    "    2. Slicing\n",
    "</h2>"
   ]
  },
  {
   "cell_type": "markdown",
   "id": "34029384-365d-4447-9e19-a33a9c1fc8eb",
   "metadata": {},
   "source": [
    "<p style=\"background-color: #C483F7; color: black; padding: 12px;\">\n",
    "    El slicing (rebanado) es un proceso en el que obtenemos una porción de nuestra string original indicando las posiciones de comienzo y final del segmento que queremos obtener. La sintaxis es la siguiente: <b>mi_cadena[comienzo:detención]</b>\n",
    "</p>"
   ]
  },
  {
   "cell_type": "code",
   "execution_count": 20,
   "id": "4634cc28-8d2a-45e8-8c1d-4e320965060f",
   "metadata": {},
   "outputs": [],
   "source": [
    "cadena = \"0123456789\""
   ]
  },
  {
   "cell_type": "markdown",
   "id": "e3dc4ccb-c650-4482-86bc-965bc037c294",
   "metadata": {},
   "source": [
    "##### El slicing incluye la primera posición y excluye la segunda"
   ]
  },
  {
   "cell_type": "code",
   "execution_count": 25,
   "id": "d5cec049-f94a-4469-94c0-cb2082795678",
   "metadata": {},
   "outputs": [
    {
     "name": "stdout",
     "output_type": "stream",
     "text": [
      "3456\n"
     ]
    }
   ],
   "source": [
    "porcion = cadena[3:7]\n",
    "print(porcion)"
   ]
  },
  {
   "cell_type": "code",
   "execution_count": null,
   "id": "65f953c9-4abe-430e-b595-ca3d63c0398e",
   "metadata": {},
   "outputs": [],
   "source": []
  },
  {
   "cell_type": "markdown",
   "id": "36721e62-c8ce-4b00-8543-0fb5a1b42ade",
   "metadata": {},
   "source": [
    "##### Podemos escribir la primera posición si corresponde a la primera posición de la cadena"
   ]
  },
  {
   "cell_type": "code",
   "execution_count": 27,
   "id": "f75fa552-163a-4e43-943e-ea8dfd5219ff",
   "metadata": {},
   "outputs": [
    {
     "name": "stdout",
     "output_type": "stream",
     "text": [
      "0123456\n"
     ]
    }
   ],
   "source": [
    "porcion = cadena[0:7]\n",
    "print(porcion)"
   ]
  },
  {
   "cell_type": "markdown",
   "id": "a44f131e-8723-4626-b87e-720a747d4f7c",
   "metadata": {},
   "source": [
    "##### o podemos obviarla"
   ]
  },
  {
   "cell_type": "code",
   "execution_count": 31,
   "id": "628a8e23-4a3c-4476-a7c4-5e352b2b7ae8",
   "metadata": {},
   "outputs": [
    {
     "name": "stdout",
     "output_type": "stream",
     "text": [
      "0123456\n"
     ]
    }
   ],
   "source": [
    "porcion = cadena[:7]\n",
    "print(porcion)"
   ]
  },
  {
   "cell_type": "markdown",
   "id": "9f2aa673-1034-42f2-9c2d-e550e41b3331",
   "metadata": {},
   "source": [
    "##### Lo mismo pasa con el la última de las posiciones"
   ]
  },
  {
   "cell_type": "code",
   "execution_count": 37,
   "id": "71547312-b200-4312-8d34-e1a4cd2d6976",
   "metadata": {},
   "outputs": [
    {
     "name": "stdout",
     "output_type": "stream",
     "text": [
      "23456789\n",
      "23456789\n"
     ]
    }
   ],
   "source": [
    "porcion = cadena[2:10]\n",
    "print(porcion)\n",
    "porcion = cadena[2:]\n",
    "print(porcion)"
   ]
  },
  {
   "cell_type": "markdown",
   "id": "796d355a-76e7-4f2f-be42-25cf3a6224a0",
   "metadata": {},
   "source": [
    "### 2.1. Slicing inverso"
   ]
  },
  {
   "cell_type": "code",
   "execution_count": 12,
   "id": "a22e8835-b060-4c21-9316-a9b949fb569d",
   "metadata": {},
   "outputs": [],
   "source": [
    "cadena = \"0123456789\""
   ]
  },
  {
   "cell_type": "code",
   "execution_count": 65,
   "id": "8c1ac2dc-47ac-4f8b-99ac-b6988f4f6bdb",
   "metadata": {},
   "outputs": [
    {
     "name": "stdout",
     "output_type": "stream",
     "text": [
      "789\n"
     ]
    }
   ],
   "source": [
    "porcion = cadena[-3:len(cadena)]\n",
    "print(porcion)"
   ]
  },
  {
   "cell_type": "code",
   "execution_count": 63,
   "id": "50612fcf-a4ad-4052-9bd5-e6d2ed61fbcd",
   "metadata": {},
   "outputs": [
    {
     "name": "stdout",
     "output_type": "stream",
     "text": [
      "789\n"
     ]
    }
   ],
   "source": [
    "porcion = cadena[-3:]\n",
    "print(porcion)"
   ]
  },
  {
   "cell_type": "code",
   "execution_count": 69,
   "id": "9a22a2c5-b637-4cef-96eb-527f94a26b95",
   "metadata": {},
   "outputs": [
    {
     "name": "stdout",
     "output_type": "stream",
     "text": [
      "012345678\n"
     ]
    }
   ],
   "source": [
    "porcion = cadena[0: -1]\n",
    "print(porcion)"
   ]
  },
  {
   "cell_type": "markdown",
   "id": "47ad1897-fd0f-4a7f-b24f-9846cf3184db",
   "metadata": {},
   "source": [
    "<h2 style=\"background-color: #24043d; color: white; padding: 12px;\">\n",
    "    3. Slicing con step\n",
    "</h2>"
   ]
  },
  {
   "cell_type": "markdown",
   "id": "59bf3ade-8f6a-4f3e-aabb-da41b2ac9701",
   "metadata": {},
   "source": [
    "<p style=\"background-color: #C483F7; color: black; padding: 12px;\">\n",
    "    Es como el slicing pero se usa para tomar algunos elementos de la string y saltear otros.<br>\n",
    "    Sintaxis:<br> <b>mi_cadena[start:stop:step], mi_cadena[principio:fin:paso]</b>\n",
    "</p>"
   ]
  },
  {
   "cell_type": "code",
   "execution_count": null,
   "id": "ba221f06-6bc8-43ca-ba3b-263587ea9656",
   "metadata": {},
   "outputs": [],
   "source": [
    "# construcción\n",
    "cadena[d], cadena[d1:d2], cadena[d1:d2:d3] ---> el tercer dígito es el step o stride(paso)."
   ]
  },
  {
   "cell_type": "code",
   "execution_count": 20,
   "id": "080bc6d3-bf8b-4919-98ca-d555feb37004",
   "metadata": {},
   "outputs": [
    {
     "name": "stdout",
     "output_type": "stream",
     "text": [
      "0123456789\n"
     ]
    }
   ],
   "source": [
    "porcion = cadena[::]\n",
    "print(porcion)"
   ]
  },
  {
   "cell_type": "code",
   "execution_count": null,
   "id": "6a054870-282f-4267-9d5f-468b8fd507da",
   "metadata": {},
   "outputs": [],
   "source": []
  },
  {
   "cell_type": "markdown",
   "id": "92bf1e9b-0e78-4640-bddd-d4d4d036df5c",
   "metadata": {},
   "source": [
    "### 3.1. Slicing con step, inverso"
   ]
  },
  {
   "cell_type": "code",
   "execution_count": null,
   "id": "6872dc22-0b7a-4bf3-be35-919179c13468",
   "metadata": {},
   "outputs": [],
   "source": [
    "cadena = \"0123456789\""
   ]
  },
  {
   "cell_type": "code",
   "execution_count": 76,
   "id": "4852464c-deab-4b0a-aa8c-d011a42598e9",
   "metadata": {},
   "outputs": [
    {
     "name": "stdout",
     "output_type": "stream",
     "text": [
      "9876543\n"
     ]
    }
   ],
   "source": [
    "porcion = cadena[-1:-8:-1]\n",
    "print(porcion)"
   ]
  },
  {
   "cell_type": "code",
   "execution_count": null,
   "id": "34cd40b2-0df5-43e5-8a60-71baf0ec81d4",
   "metadata": {},
   "outputs": [],
   "source": []
  },
  {
   "cell_type": "code",
   "execution_count": null,
   "id": "13238018-f09c-428d-9239-fea53cfba6ce",
   "metadata": {},
   "outputs": [],
   "source": []
  },
  {
   "cell_type": "markdown",
   "id": "82c4f860-9c59-4e51-ad2f-105fa2fece9e",
   "metadata": {},
   "source": [
    "<h4 style=\"background-color: green; color: white; padding: 20px;\">\n",
    "    Consejo:\n",
    "</h4>"
   ]
  },
  {
   "cell_type": "markdown",
   "id": "4be59a37-cd34-4b46-a29d-aaaf471c73d4",
   "metadata": {},
   "source": [
    "###### Tener muy en cuenta la progresión `cadena[d]`, `cadena[d1:d2]`, `cadena[d1:d2:d3]` para el acceso, slicing y slicing con step; respectivamente."
   ]
  },
  {
   "cell_type": "markdown",
   "id": "2078fa4d-68e3-4153-b037-21f844ace028",
   "metadata": {},
   "source": [
    "<h4 style=\"background-color: #E7E118; color: black; padding: 20px;\">\n",
    "    h4 importante\n",
    "</h4>"
   ]
  },
  {
   "cell_type": "markdown",
   "id": "a4faf56e-955b-40a7-bb2a-28210b47d555",
   "metadata": {},
   "source": [
    "###### Índice = Posición"
   ]
  },
  {
   "cell_type": "markdown",
   "id": "f49785c6-6886-4124-bb1a-e8d5e68ab926",
   "metadata": {},
   "source": [
    "En este curso comenzamos haciendo uso de la palabra \"posición\" para referirnos al lugar que ocupa un caracter dentro de una string. Sin embargo, el término \"índice\", que tiene el mismo significado, es más formal y empleado en contextos más técnicos o académicos. "
   ]
  },
  {
   "cell_type": "markdown",
   "id": "287952cd-95b7-40b4-b3ba-5b0e65b2114d",
   "metadata": {},
   "source": [
    "##### Indexar = Acceso"
   ]
  },
  {
   "cell_type": "markdown",
   "id": "78825cc4-b391-4a80-88f5-11b5db348c29",
   "metadata": {},
   "source": [
    "De la misma manera, el término \"acceso\" es equivalente al término más formal y técnico \"indexación\"."
   ]
  },
  {
   "cell_type": "markdown",
   "id": "9f1e411a-5e3d-438b-b1dd-5182f8a9eae8",
   "metadata": {},
   "source": [
    "##### De ahora en más, utilizaremos ambos pares de términos de manera indistinta."
   ]
  },
  {
   "cell_type": "code",
   "execution_count": null,
   "id": "52734b2c-4785-40ed-b971-6546ac70d06b",
   "metadata": {},
   "outputs": [],
   "source": []
  }
 ],
 "metadata": {
  "kernelspec": {
   "display_name": "Python 3 (ipykernel)",
   "language": "python",
   "name": "python3"
  },
  "language_info": {
   "codemirror_mode": {
    "name": "ipython",
    "version": 3
   },
   "file_extension": ".py",
   "mimetype": "text/x-python",
   "name": "python",
   "nbconvert_exporter": "python",
   "pygments_lexer": "ipython3",
   "version": "3.11.8"
  }
 },
 "nbformat": 4,
 "nbformat_minor": 5
}
