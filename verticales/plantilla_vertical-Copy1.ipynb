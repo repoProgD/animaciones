{
 "cells": [
  {
   "cell_type": "code",
   "execution_count": 2,
   "id": "80776989-ebd4-429d-9fd1-a28fb5468b57",
   "metadata": {},
   "outputs": [
    {
     "data": {
      "text/html": [
       "<pre style=\"white-space:pre;overflow-x:auto;line-height:normal;font-family:Menlo,'DejaVu Sans Mono',consolas,'Courier New',monospace\">Manim Community <span style=\"color: #008000; text-decoration-color: #008000\">v0.18.0</span>\n",
       "\n",
       "</pre>\n"
      ],
      "text/plain": [
       "Manim Community \u001b[32mv0.\u001b[0m\u001b[32m18.0\u001b[0m\n",
       "\n"
      ]
     },
     "metadata": {},
     "output_type": "display_data"
    }
   ],
   "source": [
    "from manim import *"
   ]
  },
  {
   "cell_type": "code",
   "execution_count": 3,
   "id": "248c8c3d-9426-4377-a5d0-341d518165b1",
   "metadata": {},
   "outputs": [],
   "source": [
    "import sys\n",
    "import os\n",
    "\n",
    "# Configuración del directorio raíz del proyecto\n",
    "project_root = os.path.abspath(os.path.join(os.getcwd(), '..'))  # Directorio raíz\n",
    "# Configuración de las rutas\n",
    "sys.path.append(os.path.join(project_root, 'src'))  # Agregar 'src' al path para importaciones"
   ]
  },
  {
   "cell_type": "code",
   "execution_count": 4,
   "id": "0904d09e-1f0b-479f-8560-920c7e5eb280",
   "metadata": {},
   "outputs": [],
   "source": [
    "config.media_width = \"75%\"\n",
    "config.verbosity = \"WARNING\"\n",
    "config.background_color = \"#24043d\""
   ]
  },
  {
   "cell_type": "code",
   "execution_count": 5,
   "id": "ec55c4f4-c551-4007-ac4e-eef4f7e89139",
   "metadata": {},
   "outputs": [],
   "source": [
    "import herramientas as h"
   ]
  },
  {
   "cell_type": "code",
   "execution_count": 8,
   "id": "d4d0a4f8-c4ae-4154-97b6-e3e20f29cfe7",
   "metadata": {},
   "outputs": [
    {
     "name": "stderr",
     "output_type": "stream",
     "text": [
      "                                                                                                                       \r"
     ]
    },
    {
     "data": {
      "text/html": [
       "<video src=\"media\\jupyter\\MiClaseVertical@2025-04-22@14-15-06.mp4\" controls autoplay loop style=\"max-width: 75%;\"  >\n",
       "      Your browser does not support the <code>video</code> element.\n",
       "    </video>"
      ],
      "text/plain": [
       "<IPython.core.display.Video object>"
      ]
     },
     "metadata": {},
     "output_type": "display_data"
    }
   ],
   "source": [
    "%%manim -ql MiClaseVertical\n",
    " \n",
    "class MiClaseVertical(MovingCameraScene):  # ¡Esto es clave! esta clase hereda a Scene, en teoría puedo hacer todo lo mismo\n",
    "    def construct(self):\n",
    "        \n",
    "        # 1. Setear formato vertical 9:16\n",
    "        self.camera.frame.set(width=9, height=16)\n",
    "\n",
    "        # 2. Zoom out para más espacio de trabajo\n",
    "        self.camera.frame.scale(1)\n",
    "\n",
    "        # 3. Agregar rejilla\n",
    "        grilla_vertical = h.GrillaVertical()\n",
    "        self.add(grilla_vertical)\n",
    "\n",
    "        logo = h.LogoV()\n",
    "        self.add(logo)\n",
    "\n",
    "        self.wait(2)\n",
    "\n",
    "        # Crear y agregar título\n",
    "        titulo = Text(\"Mi título\").move_to(6.5 * UP).scale(0.95)\n",
    "        self.play(Write(titulo))\n",
    "        self.wait(2)\n",
    "\n",
    "        ###########  El resto de la escena"
   ]
  },
  {
   "cell_type": "code",
   "execution_count": null,
   "id": "42ab1dd9-c52a-4bdf-8107-01a942d831b0",
   "metadata": {},
   "outputs": [],
   "source": []
  },
  {
   "cell_type": "code",
   "execution_count": null,
   "id": "8dbc4092-91e0-43b5-aa72-65307df08869",
   "metadata": {},
   "outputs": [],
   "source": []
  },
  {
   "cell_type": "code",
   "execution_count": null,
   "id": "905dd50d-2cf4-4a43-bd72-d12fb218ac6d",
   "metadata": {},
   "outputs": [],
   "source": []
  },
  {
   "cell_type": "code",
   "execution_count": null,
   "id": "c3db4bee-3d47-4928-a735-e95bd0370501",
   "metadata": {},
   "outputs": [],
   "source": []
  },
  {
   "cell_type": "code",
   "execution_count": null,
   "id": "3eca1bd2-5113-4448-8817-5776f6f0844c",
   "metadata": {},
   "outputs": [],
   "source": []
  },
  {
   "cell_type": "code",
   "execution_count": null,
   "id": "9071e4b4-3181-4b0e-a47a-4b4a39abfb43",
   "metadata": {},
   "outputs": [],
   "source": []
  },
  {
   "cell_type": "code",
   "execution_count": null,
   "id": "cca8898e-5a3d-4d19-bcef-e9d84bcaf4d1",
   "metadata": {},
   "outputs": [],
   "source": []
  },
  {
   "cell_type": "code",
   "execution_count": null,
   "id": "f63ed725-f59f-4f27-9e9f-e0eb81b4c5ef",
   "metadata": {},
   "outputs": [],
   "source": []
  },
  {
   "cell_type": "code",
   "execution_count": null,
   "id": "19ce0b58-fc90-4643-9174-a5f4504dc44b",
   "metadata": {},
   "outputs": [],
   "source": []
  }
 ],
 "metadata": {
  "kernelspec": {
   "display_name": "Python 3 (ipykernel)",
   "language": "python",
   "name": "python3"
  },
  "language_info": {
   "codemirror_mode": {
    "name": "ipython",
    "version": 3
   },
   "file_extension": ".py",
   "mimetype": "text/x-python",
   "name": "python",
   "nbconvert_exporter": "python",
   "pygments_lexer": "ipython3",
   "version": "3.11.8"
  }
 },
 "nbformat": 4,
 "nbformat_minor": 5
}
